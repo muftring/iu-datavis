{
 "cells": [
  {
   "cell_type": "markdown",
   "metadata": {},
   "source": [
    "# Lab 1 Introducing Python stack\n",
    "\n",
    "\n",
    "\n",
    " 1. Download and install Anaconda on your laptop. Here is the link for downloading: http://continuum.io/downloads. (Also see https://github.com/yy/dviz-course/blob/master/w01-intro/python-setup.md).\n",
    "\n",
    " 1. Figure out what the followings are by visiting their web sites. What are the libraries for visualizing data? Browse the gallaries of these libraries.\n",
    "\n",
    "  * Jupyter Notebook: https://jupyter.org/\n",
    "  * NumPy: http://www.numpy.org/\n",
    "  * SciPy: http://www.scipy.org/\n",
    "  * matplotlib: http://matplotlib.org/\n",
    "  * seaborn: http://seaborn.pydata.org/\n",
    "  * bokeh: http://bokeh.pydata.org/en/latest/\n",
    "  * pandas: http://pandas.pydata.org/\n",
    "  * scikit-learn: http://scikit-learn.org/stable/\n",
    "  * statsmodel: http://statsmodels.sourceforge.net/\n",
    "  \n",
    " 1. Run **jupyter notebook** from terminal. What do you see? Can you create a new notebook?\n",
    "\n",
    " 1. Run the \"Hello world!\" code below in your created notebook\n",
    "\n",
    "    ```\n",
    "    print 'Hello world!'\n",
    "    ```\n",
    "\n",
    " 1. Read the following tutorials and run the code that you do not understand\n",
    "  \n",
    "  * https://docs.python.org/3.5/tutorial/introduction.html\n",
    "  * https://docs.python.org/3.5/tutorial/controlflow.html\n",
    " "
   ]
  },
  {
   "cell_type": "markdown",
   "metadata": {
    "collapsed": true
   },
   "source": [
    "# Answers and Comments\n",
    "\n",
    "## 1) Download and install Anaconda\n",
    "done\n",
    "\n",
    "## 2) Figure out what the following are...\n",
    "**Jupyter** - open-source web application that allows you to create and share documents that contain live code, equations, visualizations and explanatory text\n",
    "**NumPy** - NumPy is the fundamental package for scientific computing with Python.\n",
    "**SciPy** - a Python-based ecosystem of open-source software for mathematics, science, and engineering\n",
    "**matplotlib** - a Python 2D plotting library\n",
    "**seaborn** - a Python visualization library based on matplotlib. It provides a high-level interface for drawing attractive statistical graphics.\n",
    "**bokeh** - a Python interactive visualization library that targets modern web browsers for presentation.\n",
    "**pandas** - library providing high-performance, easy-to-use data structures and data analysis tools for Python\n",
    "**scikit-learn** - Machine Learning library for Python; built on NumPy, SciPy, and matplotlib\n",
    "**statsmodel** - a Python module that provides classes and functions for the estimation of many different statistical models, as well as for conducting statistical tests, and statistical data exploration.\n",
    "\n",
    "### What are the libraries for visualizing data?\n",
    "SciPy (through its inclusion of matplotlib)\n",
    "matplotlib\n",
    "seaborn\n",
    "bokeh\n",
    "\n",
    "## 3) Run jupyter notebook from terminal.\n",
    "\n",
    "### What do you see? \n",
    "In the terminal window: some log messages indicating Jupyter is starting\n",
    "In the browser window: a directory/file browser interface\n",
    "\n",
    "### Can you create a new notebook?\n",
    "Yes! In fact, I created one which follows most of the examples presented in Corey Schafer's \"Jupyter Notebook Tutorial\" video.\n",
    "\n",
    "## 4) Hello World!\n",
    "See cell below\n"
   ]
  },
  {
   "cell_type": "code",
   "execution_count": 2,
   "metadata": {
    "collapsed": false,
    "scrolled": true
   },
   "outputs": [
    {
     "name": "stdout",
     "output_type": "stream",
     "text": [
      "Hello world!\n"
     ]
    }
   ],
   "source": [
    "print(\"Hello world!\")"
   ]
  },
  {
   "cell_type": "markdown",
   "metadata": {},
   "source": [
    "\n",
    "## 5) Read the following tutorials...\n",
    "Having taken the Python course during Summer term, I'm familiar with the material presented in the two tutorials.\n",
    "\n",
    "## 6) rename notebook to lab01_lastname_firstname.ipynb\n",
    "and submit on *Canvas*"
   ]
  }
 ],
 "metadata": {
  "anaconda-cloud": {},
  "kernelspec": {
   "display_name": "Python [py27]",
   "language": "python",
   "name": "Python [py27]"
  },
  "language_info": {
   "codemirror_mode": {
    "name": "ipython",
    "version": 2
   },
   "file_extension": ".py",
   "mimetype": "text/x-python",
   "name": "python",
   "nbconvert_exporter": "python",
   "pygments_lexer": "ipython2",
   "version": "2.7.13"
  }
 },
 "nbformat": 4,
 "nbformat_minor": 0
}
