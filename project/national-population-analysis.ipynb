{
 "cells": [
  {
   "cell_type": "code",
   "execution_count": 1,
   "metadata": {
    "collapsed": true
   },
   "outputs": [],
   "source": [
    "import pandas as pd\n",
    "import numpy as np\n",
    "import matplotlib.pyplot as plt\n",
    "\n",
    "%matplotlib inline"
   ]
  },
  {
   "cell_type": "code",
   "execution_count": 2,
   "metadata": {
    "collapsed": true
   },
   "outputs": [],
   "source": [
    "df = pd.read_csv(\"us-national-population-1900-2017-by-year.tsv\", sep=\"\\t\")"
   ]
  },
  {
   "cell_type": "code",
   "execution_count": 3,
   "metadata": {},
   "outputs": [
    {
     "data": {
      "text/html": [
       "<div>\n",
       "<style>\n",
       "    .dataframe thead tr:only-child th {\n",
       "        text-align: right;\n",
       "    }\n",
       "\n",
       "    .dataframe thead th {\n",
       "        text-align: left;\n",
       "    }\n",
       "\n",
       "    .dataframe tbody tr th {\n",
       "        vertical-align: top;\n",
       "    }\n",
       "</style>\n",
       "<table border=\"1\" class=\"dataframe\">\n",
       "  <thead>\n",
       "    <tr style=\"text-align: right;\">\n",
       "      <th></th>\n",
       "      <th>Date</th>\n",
       "      <th>Value</th>\n",
       "    </tr>\n",
       "  </thead>\n",
       "  <tbody>\n",
       "    <tr>\n",
       "      <th>0</th>\n",
       "      <td>Oct 1, 2017</td>\n",
       "      <td>325.99 million</td>\n",
       "    </tr>\n",
       "    <tr>\n",
       "      <th>1</th>\n",
       "      <td>Jul 1, 2017</td>\n",
       "      <td>325.34 million</td>\n",
       "    </tr>\n",
       "    <tr>\n",
       "      <th>2</th>\n",
       "      <td>Jul 1, 2016</td>\n",
       "      <td>323.13 million</td>\n",
       "    </tr>\n",
       "    <tr>\n",
       "      <th>3</th>\n",
       "      <td>Jul 1, 2015</td>\n",
       "      <td>320.90 million</td>\n",
       "    </tr>\n",
       "    <tr>\n",
       "      <th>4</th>\n",
       "      <td>Jul 1, 2014</td>\n",
       "      <td>318.56 million</td>\n",
       "    </tr>\n",
       "  </tbody>\n",
       "</table>\n",
       "</div>"
      ],
      "text/plain": [
       "          Date           Value\n",
       "0  Oct 1, 2017  325.99 million\n",
       "1  Jul 1, 2017  325.34 million\n",
       "2  Jul 1, 2016  323.13 million\n",
       "3  Jul 1, 2015  320.90 million\n",
       "4  Jul 1, 2014  318.56 million"
      ]
     },
     "execution_count": 3,
     "metadata": {},
     "output_type": "execute_result"
    }
   ],
   "source": [
    "df.head()"
   ]
  },
  {
   "cell_type": "code",
   "execution_count": 4,
   "metadata": {
    "collapsed": true
   },
   "outputs": [],
   "source": [
    "df.Value = df.Value.str.replace(\" million\",\"\")"
   ]
  },
  {
   "cell_type": "code",
   "execution_count": 5,
   "metadata": {},
   "outputs": [
    {
     "data": {
      "text/html": [
       "<div>\n",
       "<style>\n",
       "    .dataframe thead tr:only-child th {\n",
       "        text-align: right;\n",
       "    }\n",
       "\n",
       "    .dataframe thead th {\n",
       "        text-align: left;\n",
       "    }\n",
       "\n",
       "    .dataframe tbody tr th {\n",
       "        vertical-align: top;\n",
       "    }\n",
       "</style>\n",
       "<table border=\"1\" class=\"dataframe\">\n",
       "  <thead>\n",
       "    <tr style=\"text-align: right;\">\n",
       "      <th></th>\n",
       "      <th>Date</th>\n",
       "      <th>Value</th>\n",
       "    </tr>\n",
       "  </thead>\n",
       "  <tbody>\n",
       "    <tr>\n",
       "      <th>0</th>\n",
       "      <td>Oct 1, 2017</td>\n",
       "      <td>325.99</td>\n",
       "    </tr>\n",
       "    <tr>\n",
       "      <th>1</th>\n",
       "      <td>Jul 1, 2017</td>\n",
       "      <td>325.34</td>\n",
       "    </tr>\n",
       "    <tr>\n",
       "      <th>2</th>\n",
       "      <td>Jul 1, 2016</td>\n",
       "      <td>323.13</td>\n",
       "    </tr>\n",
       "    <tr>\n",
       "      <th>3</th>\n",
       "      <td>Jul 1, 2015</td>\n",
       "      <td>320.90</td>\n",
       "    </tr>\n",
       "    <tr>\n",
       "      <th>4</th>\n",
       "      <td>Jul 1, 2014</td>\n",
       "      <td>318.56</td>\n",
       "    </tr>\n",
       "  </tbody>\n",
       "</table>\n",
       "</div>"
      ],
      "text/plain": [
       "          Date   Value\n",
       "0  Oct 1, 2017  325.99\n",
       "1  Jul 1, 2017  325.34\n",
       "2  Jul 1, 2016  323.13\n",
       "3  Jul 1, 2015  320.90\n",
       "4  Jul 1, 2014  318.56"
      ]
     },
     "execution_count": 5,
     "metadata": {},
     "output_type": "execute_result"
    }
   ],
   "source": [
    "df.head()"
   ]
  },
  {
   "cell_type": "code",
   "execution_count": 10,
   "metadata": {},
   "outputs": [
    {
     "name": "stdout",
     "output_type": "stream",
     "text": [
      "<class 'pandas.core.frame.DataFrame'>\n",
      "RangeIndex: 119 entries, 0 to 118\n",
      "Data columns (total 2 columns):\n",
      "Date     119 non-null object\n",
      "Value    119 non-null object\n",
      "dtypes: object(2)\n",
      "memory usage: 1.9+ KB\n"
     ]
    }
   ],
   "source": [
    "df.info()"
   ]
  },
  {
   "cell_type": "code",
   "execution_count": 68,
   "metadata": {},
   "outputs": [],
   "source": [
    "month2number = {\n",
    "    \"Jan\": 1,\n",
    "    \"Feb\": 2,\n",
    "    \"Mar\": 3,\n",
    "    \"Apr\": 4,\n",
    "    \"May\": 5,\n",
    "    \"Jun\": 6,\n",
    "    \"Jul\": 7,\n",
    "    \"Aug\": 8,\n",
    "    \"Sep\": 9,\n",
    "    \"Oct\": 10,\n",
    "    \"Nov\": 11,\n",
    "    \"Dec\": 12\n",
    "}\n",
    "def monthNumber(month):\n",
    "    return month2number[month]\n",
    "    \n",
    "def formatDate(date):\n",
    "    MonthDay, Year = date.split(\",\")\n",
    "    Month, Day = MonthDay.split(\" \")\n",
    "    #print(\"Year: {} Month: {} Day: {}\".format(Year, Month, Day))\n",
    "    return \"{0:04d}-{1:02d}-{2:02d}\".format(int(Year), monthNumber(Month), int(Day))\n",
    "\n",
    "def getYear(date):\n",
    "    year, month, day = date.split(\"-\")\n",
    "    return year"
   ]
  },
  {
   "cell_type": "code",
   "execution_count": 42,
   "metadata": {},
   "outputs": [
    {
     "data": {
      "text/plain": [
       "'2017-10-01'"
      ]
     },
     "execution_count": 42,
     "metadata": {},
     "output_type": "execute_result"
    }
   ],
   "source": [
    "date = \"Oct 1, 2017\"\n",
    "formatDate(date)"
   ]
  },
  {
   "cell_type": "code",
   "execution_count": 43,
   "metadata": {},
   "outputs": [
    {
     "data": {
      "text/plain": [
       "10"
      ]
     },
     "execution_count": 43,
     "metadata": {},
     "output_type": "execute_result"
    }
   ],
   "source": [
    "month = \"Oct\"\n",
    "monthNumber(month)"
   ]
  },
  {
   "cell_type": "code",
   "execution_count": 44,
   "metadata": {},
   "outputs": [],
   "source": [
    "date = \"Oct 1, 2017\"\n",
    "foo = formatDate(date)"
   ]
  },
  {
   "cell_type": "code",
   "execution_count": 45,
   "metadata": {},
   "outputs": [
    {
     "data": {
      "text/plain": [
       "'2017-10-01'"
      ]
     },
     "execution_count": 45,
     "metadata": {},
     "output_type": "execute_result"
    }
   ],
   "source": [
    "foo"
   ]
  },
  {
   "cell_type": "code",
   "execution_count": 50,
   "metadata": {},
   "outputs": [],
   "source": [
    "bar = [formatDate(date) for date in df.Date]"
   ]
  },
  {
   "cell_type": "code",
   "execution_count": 51,
   "metadata": {
    "collapsed": true
   },
   "outputs": [
    {
     "data": {
      "text/plain": [
       "['2017-10-01',\n",
       " '2017-07-01',\n",
       " '2016-07-01',\n",
       " '2015-07-01',\n",
       " '2014-07-01',\n",
       " '2013-07-01',\n",
       " '2012-07-01',\n",
       " '2011-07-01',\n",
       " '2010-07-01',\n",
       " '2009-07-01',\n",
       " '2008-07-01',\n",
       " '2007-07-01',\n",
       " '2006-07-01',\n",
       " '2005-07-01',\n",
       " '2004-07-01',\n",
       " '2003-07-01',\n",
       " '2002-07-01',\n",
       " '2001-07-01',\n",
       " '2000-07-01',\n",
       " '1999-07-01',\n",
       " '1998-07-01',\n",
       " '1997-07-01',\n",
       " '1996-07-01',\n",
       " '1995-07-01',\n",
       " '1994-07-01',\n",
       " '1993-07-01',\n",
       " '1992-07-01',\n",
       " '1991-07-01',\n",
       " '1990-07-01',\n",
       " '1989-07-01',\n",
       " '1988-07-01',\n",
       " '1987-07-01',\n",
       " '1986-07-01',\n",
       " '1985-07-01',\n",
       " '1984-07-01',\n",
       " '1983-07-01',\n",
       " '1982-07-01',\n",
       " '1981-07-01',\n",
       " '1980-07-01',\n",
       " '1979-07-01',\n",
       " '1978-07-01',\n",
       " '1977-07-01',\n",
       " '1976-07-01',\n",
       " '1975-07-01',\n",
       " '1974-07-01',\n",
       " '1973-07-01',\n",
       " '1972-07-01',\n",
       " '1971-07-01',\n",
       " '1970-07-01',\n",
       " '1969-07-01',\n",
       " '1968-07-01',\n",
       " '1967-07-01',\n",
       " '1966-07-01',\n",
       " '1965-07-01',\n",
       " '1964-07-01',\n",
       " '1963-07-01',\n",
       " '1962-07-01',\n",
       " '1961-07-01',\n",
       " '1960-07-01',\n",
       " '1959-07-01',\n",
       " '1958-07-01',\n",
       " '1957-07-01',\n",
       " '1956-07-01',\n",
       " '1955-07-01',\n",
       " '1954-07-01',\n",
       " '1953-07-01',\n",
       " '1952-07-01',\n",
       " '1951-07-01',\n",
       " '1950-07-01',\n",
       " '1949-07-01',\n",
       " '1948-07-01',\n",
       " '1947-07-01',\n",
       " '1946-07-01',\n",
       " '1945-07-01',\n",
       " '1944-07-01',\n",
       " '1943-07-01',\n",
       " '1942-07-01',\n",
       " '1941-07-01',\n",
       " '1940-07-01',\n",
       " '1939-07-01',\n",
       " '1938-07-01',\n",
       " '1937-07-01',\n",
       " '1936-07-01',\n",
       " '1935-07-01',\n",
       " '1934-07-01',\n",
       " '1933-07-01',\n",
       " '1932-07-01',\n",
       " '1931-07-01',\n",
       " '1930-07-01',\n",
       " '1929-07-01',\n",
       " '1928-07-01',\n",
       " '1927-07-01',\n",
       " '1926-07-01',\n",
       " '1925-07-01',\n",
       " '1924-07-01',\n",
       " '1923-07-01',\n",
       " '1922-07-01',\n",
       " '1921-07-01',\n",
       " '1920-07-01',\n",
       " '1919-07-01',\n",
       " '1918-07-01',\n",
       " '1917-07-01',\n",
       " '1916-07-01',\n",
       " '1915-07-01',\n",
       " '1914-07-01',\n",
       " '1913-07-01',\n",
       " '1912-07-01',\n",
       " '1911-07-01',\n",
       " '1910-07-01',\n",
       " '1909-07-01',\n",
       " '1908-07-01',\n",
       " '1907-07-01',\n",
       " '1906-07-01',\n",
       " '1905-07-01',\n",
       " '1904-07-01',\n",
       " '1903-07-01',\n",
       " '1902-07-01',\n",
       " '1901-07-01',\n",
       " '1900-07-01']"
      ]
     },
     "execution_count": 51,
     "metadata": {},
     "output_type": "execute_result"
    }
   ],
   "source": [
    "bar"
   ]
  },
  {
   "cell_type": "code",
   "execution_count": 52,
   "metadata": {
    "collapsed": true
   },
   "outputs": [],
   "source": [
    "df.Date = bar"
   ]
  },
  {
   "cell_type": "code",
   "execution_count": 53,
   "metadata": {},
   "outputs": [
    {
     "data": {
      "text/html": [
       "<div>\n",
       "<style>\n",
       "    .dataframe thead tr:only-child th {\n",
       "        text-align: right;\n",
       "    }\n",
       "\n",
       "    .dataframe thead th {\n",
       "        text-align: left;\n",
       "    }\n",
       "\n",
       "    .dataframe tbody tr th {\n",
       "        vertical-align: top;\n",
       "    }\n",
       "</style>\n",
       "<table border=\"1\" class=\"dataframe\">\n",
       "  <thead>\n",
       "    <tr style=\"text-align: right;\">\n",
       "      <th></th>\n",
       "      <th>Date</th>\n",
       "      <th>Value</th>\n",
       "    </tr>\n",
       "  </thead>\n",
       "  <tbody>\n",
       "    <tr>\n",
       "      <th>0</th>\n",
       "      <td>2017-10-01</td>\n",
       "      <td>325.99</td>\n",
       "    </tr>\n",
       "    <tr>\n",
       "      <th>1</th>\n",
       "      <td>2017-07-01</td>\n",
       "      <td>325.34</td>\n",
       "    </tr>\n",
       "    <tr>\n",
       "      <th>2</th>\n",
       "      <td>2016-07-01</td>\n",
       "      <td>323.13</td>\n",
       "    </tr>\n",
       "    <tr>\n",
       "      <th>3</th>\n",
       "      <td>2015-07-01</td>\n",
       "      <td>320.90</td>\n",
       "    </tr>\n",
       "    <tr>\n",
       "      <th>4</th>\n",
       "      <td>2014-07-01</td>\n",
       "      <td>318.56</td>\n",
       "    </tr>\n",
       "  </tbody>\n",
       "</table>\n",
       "</div>"
      ],
      "text/plain": [
       "         Date   Value\n",
       "0  2017-10-01  325.99\n",
       "1  2017-07-01  325.34\n",
       "2  2016-07-01  323.13\n",
       "3  2015-07-01  320.90\n",
       "4  2014-07-01  318.56"
      ]
     },
     "execution_count": 53,
     "metadata": {},
     "output_type": "execute_result"
    }
   ],
   "source": [
    "df.head()"
   ]
  },
  {
   "cell_type": "code",
   "execution_count": 69,
   "metadata": {},
   "outputs": [
    {
     "name": "stdout",
     "output_type": "stream",
     "text": [
      "2017\n"
     ]
    }
   ],
   "source": [
    "date = '2017-10-01'\n",
    "year = getYear(date)\n",
    "print(year)"
   ]
  },
  {
   "cell_type": "code",
   "execution_count": 70,
   "metadata": {},
   "outputs": [],
   "source": [
    "df['Year'] = [getYear(date) for date in df.Date]"
   ]
  },
  {
   "cell_type": "code",
   "execution_count": 71,
   "metadata": {},
   "outputs": [
    {
     "data": {
      "text/html": [
       "<div>\n",
       "<style>\n",
       "    .dataframe thead tr:only-child th {\n",
       "        text-align: right;\n",
       "    }\n",
       "\n",
       "    .dataframe thead th {\n",
       "        text-align: left;\n",
       "    }\n",
       "\n",
       "    .dataframe tbody tr th {\n",
       "        vertical-align: top;\n",
       "    }\n",
       "</style>\n",
       "<table border=\"1\" class=\"dataframe\">\n",
       "  <thead>\n",
       "    <tr style=\"text-align: right;\">\n",
       "      <th></th>\n",
       "      <th>Date</th>\n",
       "      <th>Value</th>\n",
       "      <th>Year</th>\n",
       "    </tr>\n",
       "  </thead>\n",
       "  <tbody>\n",
       "    <tr>\n",
       "      <th>0</th>\n",
       "      <td>2017-10-01</td>\n",
       "      <td>325.99</td>\n",
       "      <td>2017</td>\n",
       "    </tr>\n",
       "    <tr>\n",
       "      <th>1</th>\n",
       "      <td>2017-07-01</td>\n",
       "      <td>325.34</td>\n",
       "      <td>2017</td>\n",
       "    </tr>\n",
       "    <tr>\n",
       "      <th>2</th>\n",
       "      <td>2016-07-01</td>\n",
       "      <td>323.13</td>\n",
       "      <td>2016</td>\n",
       "    </tr>\n",
       "    <tr>\n",
       "      <th>3</th>\n",
       "      <td>2015-07-01</td>\n",
       "      <td>320.90</td>\n",
       "      <td>2015</td>\n",
       "    </tr>\n",
       "    <tr>\n",
       "      <th>4</th>\n",
       "      <td>2014-07-01</td>\n",
       "      <td>318.56</td>\n",
       "      <td>2014</td>\n",
       "    </tr>\n",
       "  </tbody>\n",
       "</table>\n",
       "</div>"
      ],
      "text/plain": [
       "         Date   Value  Year\n",
       "0  2017-10-01  325.99  2017\n",
       "1  2017-07-01  325.34  2017\n",
       "2  2016-07-01  323.13  2016\n",
       "3  2015-07-01  320.90  2015\n",
       "4  2014-07-01  318.56  2014"
      ]
     },
     "execution_count": 71,
     "metadata": {},
     "output_type": "execute_result"
    }
   ],
   "source": [
    "df.head()"
   ]
  },
  {
   "cell_type": "code",
   "execution_count": 131,
   "metadata": {},
   "outputs": [],
   "source": [
    "beginYear = \"2000\"\n",
    "endYear = \"2016\"\n",
    "data = df[(df.Year >= beginYear) & (df.Year <= endYear)]"
   ]
  },
  {
   "cell_type": "code",
   "execution_count": 132,
   "metadata": {},
   "outputs": [
    {
     "data": {
      "text/html": [
       "<div>\n",
       "<style>\n",
       "    .dataframe thead tr:only-child th {\n",
       "        text-align: right;\n",
       "    }\n",
       "\n",
       "    .dataframe thead th {\n",
       "        text-align: left;\n",
       "    }\n",
       "\n",
       "    .dataframe tbody tr th {\n",
       "        vertical-align: top;\n",
       "    }\n",
       "</style>\n",
       "<table border=\"1\" class=\"dataframe\">\n",
       "  <thead>\n",
       "    <tr style=\"text-align: right;\">\n",
       "      <th></th>\n",
       "      <th>Date</th>\n",
       "      <th>Value</th>\n",
       "      <th>Year</th>\n",
       "    </tr>\n",
       "  </thead>\n",
       "  <tbody>\n",
       "    <tr>\n",
       "      <th>2</th>\n",
       "      <td>2016-07-01</td>\n",
       "      <td>323.13</td>\n",
       "      <td>2016</td>\n",
       "    </tr>\n",
       "    <tr>\n",
       "      <th>3</th>\n",
       "      <td>2015-07-01</td>\n",
       "      <td>320.90</td>\n",
       "      <td>2015</td>\n",
       "    </tr>\n",
       "    <tr>\n",
       "      <th>4</th>\n",
       "      <td>2014-07-01</td>\n",
       "      <td>318.56</td>\n",
       "      <td>2014</td>\n",
       "    </tr>\n",
       "    <tr>\n",
       "      <th>5</th>\n",
       "      <td>2013-07-01</td>\n",
       "      <td>316.20</td>\n",
       "      <td>2013</td>\n",
       "    </tr>\n",
       "    <tr>\n",
       "      <th>6</th>\n",
       "      <td>2012-07-01</td>\n",
       "      <td>314.00</td>\n",
       "      <td>2012</td>\n",
       "    </tr>\n",
       "  </tbody>\n",
       "</table>\n",
       "</div>"
      ],
      "text/plain": [
       "         Date   Value  Year\n",
       "2  2016-07-01  323.13  2016\n",
       "3  2015-07-01  320.90  2015\n",
       "4  2014-07-01  318.56  2014\n",
       "5  2013-07-01  316.20  2013\n",
       "6  2012-07-01  314.00  2012"
      ]
     },
     "execution_count": 132,
     "metadata": {},
     "output_type": "execute_result"
    }
   ],
   "source": [
    "data.head()"
   ]
  },
  {
   "cell_type": "code",
   "execution_count": 133,
   "metadata": {},
   "outputs": [],
   "source": [
    "import datetime as dt\n",
    "\n",
    "x = [dt.datetime.strptime(d,'%Y-%m-%d').date() for d in data.Date]\n",
    "y = data.Value.values.astype('float')"
   ]
  },
  {
   "cell_type": "code",
   "execution_count": 135,
   "metadata": {},
   "outputs": [
    {
     "data": {
      "image/png": "[encoded data removed]",
      "text/plain": [
       "<matplotlib.figure.Figure at 0xc091e48>"
      ]
     },
     "metadata": {},
     "output_type": "display_data"
    }
   ],
   "source": [
    "import matplotlib.pyplot as plt\n",
    "import matplotlib.dates as mdates\n",
    "\n",
    "fig = plt.figure()\n",
    "ax = plt.subplot(111)\n",
    "ax.plot(x,y)\n",
    "\n",
    "plt.gca().xaxis.set_major_formatter(mdates.DateFormatter('%Y'))\n",
    "plt.gca().xaxis.set_major_locator(mdates.YearLocator())\n",
    "plt.gcf().autofmt_xdate()\n",
    "minYear = min(data.Year)\n",
    "maxYear = max(data.Year)\n",
    "plt.title(\"U.S. Population, {}-{}\".format(minYear,maxYear))\n",
    "plt.ylabel(\"People, in millions\")\n",
    "plt.xlabel(\"Year\")\n",
    "\n",
    "n=int(len(data.Year)/4)\n",
    "for index, label in enumerate(ax.xaxis.get_ticklabels()):\n",
    "    #print(\"index:\",index,\"label:\",label)\n",
    "    if index == 1:\n",
    "        label.set_visible(True)\n",
    "    elif index % n == 0:\n",
    "        label.set_visible(True)\n",
    "    else:\n",
    "        label.set_visible(False)\n",
    "\n",
    "plt.show()"
   ]
  },
  {
   "cell_type": "code",
   "execution_count": null,
   "metadata": {
    "collapsed": true
   },
   "outputs": [],
   "source": []
  }
 ],
 "metadata": {
  "kernelspec": {
   "display_name": "Python 3",
   "language": "python",
   "name": "python3"
  },
  "language_info": {
   "codemirror_mode": {
    "name": "ipython",
    "version": 3
   },
   "file_extension": ".py",
   "mimetype": "text/x-python",
   "name": "python",
   "nbconvert_exporter": "python",
   "pygments_lexer": "ipython3",
   "version": "3.6.1"
  }
 },
 "nbformat": 4,
 "nbformat_minor": 2
}
