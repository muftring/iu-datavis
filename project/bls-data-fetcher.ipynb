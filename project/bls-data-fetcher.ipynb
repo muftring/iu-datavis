{
 "cells": [
  {
   "cell_type": "code",
   "execution_count": 27,
   "metadata": {},
   "outputs": [],
   "source": [
    "import requests\n",
    "import json\n",
    "import prettytable\n",
    "\n",
    "import pandas as pd"
   ]
  },
  {
   "cell_type": "markdown",
   "metadata": {},
   "source": [
    "Note: `prettytable` is a Python package which may need to be instlled: `pip install prettytable`   \n",
    "> *PrettyTable is a simple Python library designed to make it quick and easy to represent tabular data in visually appealing ASCII tables.*   \n",
    "\n",
    "https://pypi.python.org/pypi/PrettyTable"
   ]
  },
  {
   "cell_type": "code",
   "execution_count": 102,
   "metadata": {
    "collapsed": true
   },
   "outputs": [],
   "source": [
    "# an array of strings which represent BLS Series IDs\n",
    "seriesID = ['LAUMT423798000000003']\n",
    "seriesID = ['LAUCT426000000000003']\n",
    "\n",
    "startYear = 2016\n",
    "endYear = 2017"
   ]
  },
  {
   "cell_type": "code",
   "execution_count": 103,
   "metadata": {},
   "outputs": [
    {
     "data": {
      "text/plain": [
       "['LAUCT426000000000003']"
      ]
     },
     "execution_count": 103,
     "metadata": {},
     "output_type": "execute_result"
    }
   ],
   "source": [
    "seriesID"
   ]
  },
  {
   "cell_type": "code",
   "execution_count": 104,
   "metadata": {
    "collapsed": true
   },
   "outputs": [],
   "source": [
    "headers = {'Content-type': 'application/json'}\n",
    "data = json.dumps({\"seriesid\": seriesID,\"startyear\":\"{}\".format(startYear), \"endyear\":\"{}\".format(endYear)})"
   ]
  },
  {
   "cell_type": "code",
   "execution_count": 105,
   "metadata": {},
   "outputs": [
    {
     "data": {
      "text/plain": [
       "'{\"seriesid\": [\"LAUCT426000000000003\"], \"startyear\": \"2016\", \"endyear\": \"2017\"}'"
      ]
     },
     "execution_count": 105,
     "metadata": {},
     "output_type": "execute_result"
    }
   ],
   "source": [
    "data"
   ]
  },
  {
   "cell_type": "code",
   "execution_count": 106,
   "metadata": {
    "collapsed": true
   },
   "outputs": [],
   "source": [
    "# get the data using API\n",
    "p = requests.post('https://api.bls.gov/publicAPI/v1/timeseries/data/', data=data, headers=headers)"
   ]
  },
  {
   "cell_type": "code",
   "execution_count": 107,
   "metadata": {},
   "outputs": [
    {
     "data": {
      "text/plain": [
       "<Response [200]>"
      ]
     },
     "execution_count": 107,
     "metadata": {},
     "output_type": "execute_result"
    }
   ],
   "source": [
    "p"
   ]
  },
  {
   "cell_type": "code",
   "execution_count": 108,
   "metadata": {
    "collapsed": true
   },
   "outputs": [],
   "source": [
    "json_data = json.loads(p.text)"
   ]
  },
  {
   "cell_type": "code",
   "execution_count": 109,
   "metadata": {},
   "outputs": [
    {
     "data": {
      "text/plain": [
       "{'Results': {'series': [{'data': [{'footnotes': [{'code': 'P',\n",
       "        'text': 'Preliminary.'}],\n",
       "      'period': 'M08',\n",
       "      'periodName': 'August',\n",
       "      'value': '6.7',\n",
       "      'year': '2017'},\n",
       "     {'footnotes': [{}],\n",
       "      'period': 'M07',\n",
       "      'periodName': 'July',\n",
       "      'value': '6.9',\n",
       "      'year': '2017'},\n",
       "     {'footnotes': [{}],\n",
       "      'period': 'M06',\n",
       "      'periodName': 'June',\n",
       "      'value': '6.4',\n",
       "      'year': '2017'},\n",
       "     {'footnotes': [{}],\n",
       "      'period': 'M05',\n",
       "      'periodName': 'May',\n",
       "      'value': '6.7',\n",
       "      'year': '2017'},\n",
       "     {'footnotes': [{}],\n",
       "      'period': 'M04',\n",
       "      'periodName': 'April',\n",
       "      'value': '5.9',\n",
       "      'year': '2017'},\n",
       "     {'footnotes': [{}],\n",
       "      'period': 'M03',\n",
       "      'periodName': 'March',\n",
       "      'value': '6.0',\n",
       "      'year': '2017'},\n",
       "     {'footnotes': [{}],\n",
       "      'period': 'M02',\n",
       "      'periodName': 'February',\n",
       "      'value': '6.2',\n",
       "      'year': '2017'},\n",
       "     {'footnotes': [{}],\n",
       "      'period': 'M01',\n",
       "      'periodName': 'January',\n",
       "      'value': '6.1',\n",
       "      'year': '2017'},\n",
       "     {'footnotes': [{}],\n",
       "      'period': 'M12',\n",
       "      'periodName': 'December',\n",
       "      'value': '5.8',\n",
       "      'year': '2016'},\n",
       "     {'footnotes': [{}],\n",
       "      'period': 'M11',\n",
       "      'periodName': 'November',\n",
       "      'value': '6.2',\n",
       "      'year': '2016'},\n",
       "     {'footnotes': [{}],\n",
       "      'period': 'M10',\n",
       "      'periodName': 'October',\n",
       "      'value': '6.8',\n",
       "      'year': '2016'},\n",
       "     {'footnotes': [{}],\n",
       "      'period': 'M09',\n",
       "      'periodName': 'September',\n",
       "      'value': '6.9',\n",
       "      'year': '2016'},\n",
       "     {'footnotes': [{}],\n",
       "      'period': 'M08',\n",
       "      'periodName': 'August',\n",
       "      'value': '7.5',\n",
       "      'year': '2016'},\n",
       "     {'footnotes': [{}],\n",
       "      'period': 'M07',\n",
       "      'periodName': 'July',\n",
       "      'value': '7.6',\n",
       "      'year': '2016'},\n",
       "     {'footnotes': [{}],\n",
       "      'period': 'M06',\n",
       "      'periodName': 'June',\n",
       "      'value': '7.1',\n",
       "      'year': '2016'},\n",
       "     {'footnotes': [{}],\n",
       "      'period': 'M05',\n",
       "      'periodName': 'May',\n",
       "      'value': '6.8',\n",
       "      'year': '2016'},\n",
       "     {'footnotes': [{}],\n",
       "      'period': 'M04',\n",
       "      'periodName': 'April',\n",
       "      'value': '6.6',\n",
       "      'year': '2016'},\n",
       "     {'footnotes': [{}],\n",
       "      'period': 'M03',\n",
       "      'periodName': 'March',\n",
       "      'value': '6.9',\n",
       "      'year': '2016'},\n",
       "     {'footnotes': [{}],\n",
       "      'period': 'M02',\n",
       "      'periodName': 'February',\n",
       "      'value': '6.7',\n",
       "      'year': '2016'},\n",
       "     {'footnotes': [{}],\n",
       "      'period': 'M01',\n",
       "      'periodName': 'January',\n",
       "      'value': '6.8',\n",
       "      'year': '2016'}],\n",
       "    'seriesID': 'LAUCT426000000000003'}]},\n",
       " 'message': [],\n",
       " 'responseTime': 155,\n",
       " 'status': 'REQUEST_SUCCEEDED'}"
      ]
     },
     "execution_count": 109,
     "metadata": {},
     "output_type": "execute_result"
    }
   ],
   "source": [
    "json_data"
   ]
  },
  {
   "cell_type": "code",
   "execution_count": 110,
   "metadata": {
    "collapsed": true
   },
   "outputs": [],
   "source": [
    "def createEmptyDataFrame(columns, types):\n",
    "    index = pd.Index([], name=\"id\", dtype=int)\n",
    "    # specify column name and data type \n",
    "    coldefs = zip(columns, types)\n",
    "    columns = []\n",
    "    for coldef in coldefs:\n",
    "        columns.append(coldef)\n",
    "    # create the dataframe from a dict\n",
    "    return pd.DataFrame({k: pd.Series(dtype=t) for k, t in columns})"
   ]
  },
  {
   "cell_type": "markdown",
   "metadata": {},
   "source": [
    "# decode the Month"
   ]
  },
  {
   "cell_type": "code",
   "execution_count": 245,
   "metadata": {},
   "outputs": [],
   "source": [
    "code2month = {\n",
    "    \"M01\" : \"January\",\n",
    "    \"M02\" : \"February\",\n",
    "    \"M03\" : \"March\",\n",
    "    \"M04\" : \"April\",\n",
    "    \"M05\" : \"May\",\n",
    "    \"M06\" : \"June\",\n",
    "    \"M07\" : \"July\",\n",
    "    \"M08\" : \"August\",\n",
    "    \"M09\" : \"September\",\n",
    "    \"M10\" : \"October\",\n",
    "    \"M11\" : \"November\",\n",
    "    \"M12\" : \"December\"\n",
    "}\n",
    "\n",
    "month2number = {\n",
    "    \"January\" : \"01\",\n",
    "    \"February\" : \"02\",\n",
    "    \"March\" : \"03\",\n",
    "    \"April\" : \"04\",\n",
    "    \"May\" : \"05\",\n",
    "    \"June\" : \"06\",\n",
    "    \"July\" : \"07\",\n",
    "    \"August\" : \"08\",\n",
    "    \"September\" : \"09\",\n",
    "    \"October\" : \"10\",\n",
    "    \"November\" : \"11\",\n",
    "    \"December\" : \"12\"\n",
    "}\n",
    "\n",
    "def dateFrom(year, month):\n",
    "    return \"{}/{}\".format(year,month2number[month])\n"
   ]
  },
  {
   "cell_type": "code",
   "execution_count": 244,
   "metadata": {},
   "outputs": [
    {
     "data": {
      "text/plain": [
       "'2017/10'"
      ]
     },
     "execution_count": 244,
     "metadata": {},
     "output_type": "execute_result"
    }
   ],
   "source": [
    "dateFrom(\"2017\",\"October\")"
   ]
  },
  {
   "cell_type": "markdown",
   "metadata": {},
   "source": [
    "# decode the City/Town"
   ]
  },
  {
   "cell_type": "code",
   "execution_count": 162,
   "metadata": {},
   "outputs": [],
   "source": [
    "code2citytown = {}\n",
    "citytown2code = {}\n",
    "\n",
    "file = open(\"bls-cities-and-towns.raw\", \"r\")\n",
    "\n",
    "count = 0\n",
    "for line in file.readlines():\n",
    "    count += 1\n",
    "    ignore, code, citytownstate = line.rstrip().split(\">\", 2)[1].split(\" \",2)\n",
    "    citytown, state = citytownstate.split(\",\")\n",
    "    code2citytown[code]=citytown\n",
    "    citytown2code[citytown]=code\n",
    "    #print(\"line: {} code: {} citytownstate: {}, citytown: {}, state: {}\".format(count, code, citytownstate, citytown, state))\n",
    "\n",
    "file.close()\n",
    "\n",
    "def decodeCityTown(s):\n",
    "    code = s[3:len(s)-2]\n",
    "    return code2citytown[code]\n",
    "\n",
    "import re\n",
    "def searchDictionary(d, city):\n",
    "    #print(\"searching for:\", city)\n",
    "    res = []\n",
    "    for key in d.keys():\n",
    "        if re.match(city, key):\n",
    "            res.append(d[key])\n",
    "    return res\n",
    "\n",
    "def findCityTownCode(city):\n",
    "    return searchDictionary(citytown2code, city)"
   ]
  },
  {
   "cell_type": "code",
   "execution_count": 160,
   "metadata": {},
   "outputs": [
    {
     "data": {
      "text/plain": [
       "'Philadelphia County/city'"
      ]
     },
     "execution_count": 160,
     "metadata": {},
     "output_type": "execute_result"
    }
   ],
   "source": [
    "decodeCityTown('LAUCT426000000000003')"
   ]
  },
  {
   "cell_type": "code",
   "execution_count": 161,
   "metadata": {},
   "outputs": [
    {
     "data": {
      "text/plain": [
       "['CT2404000000000']"
      ]
     },
     "execution_count": 161,
     "metadata": {},
     "output_type": "execute_result"
    }
   ],
   "source": [
    "findCityTownCode('Baltimore')"
   ]
  },
  {
   "cell_type": "markdown",
   "metadata": {},
   "source": [
    "# decode the State"
   ]
  },
  {
   "cell_type": "code",
   "execution_count": 134,
   "metadata": {
    "collapsed": true
   },
   "outputs": [],
   "source": [
    "code2state = {}\n",
    "\n",
    "file = open(\"bls-state-codes.raw\", \"r\")\n",
    "\n",
    "count = 0\n",
    "for line in file.readlines():\n",
    "    count += 1\n",
    "    ignore, code, state = line.rstrip().split(\">\", 2)[1].split(\" \",2)\n",
    "    code2state[code]=state\n",
    "    #print(\"line: {} code: {} state: {}\".format(count, code, state))\n",
    "\n",
    "file.close()\n",
    "\n",
    "def decodeState(s):\n",
    "    code = s[5:7]\n",
    "    return code2state[code]"
   ]
  },
  {
   "cell_type": "code",
   "execution_count": 113,
   "metadata": {},
   "outputs": [],
   "source": []
  },
  {
   "cell_type": "code",
   "execution_count": 114,
   "metadata": {
    "collapsed": true
   },
   "outputs": [],
   "source": [
    "s = 'LAUMT423798000000003'"
   ]
  },
  {
   "cell_type": "code",
   "execution_count": 115,
   "metadata": {},
   "outputs": [
    {
     "data": {
      "text/plain": [
       "'Pennsylvania'"
      ]
     },
     "execution_count": 115,
     "metadata": {},
     "output_type": "execute_result"
    }
   ],
   "source": [
    "decodeState(s)"
   ]
  },
  {
   "cell_type": "code",
   "execution_count": 120,
   "metadata": {},
   "outputs": [
    {
     "data": {
      "text/plain": [
       "20"
      ]
     },
     "execution_count": 120,
     "metadata": {},
     "output_type": "execute_result"
    }
   ],
   "source": [
    "len(s)"
   ]
  },
  {
   "cell_type": "code",
   "execution_count": 123,
   "metadata": {},
   "outputs": [
    {
     "data": {
      "text/plain": [
       "'03'"
      ]
     },
     "execution_count": 123,
     "metadata": {},
     "output_type": "execute_result"
    }
   ],
   "source": [
    "s[len(s)-2:]"
   ]
  },
  {
   "cell_type": "markdown",
   "metadata": {},
   "source": [
    "# decode the Measure"
   ]
  },
  {
   "cell_type": "code",
   "execution_count": 126,
   "metadata": {
    "collapsed": true
   },
   "outputs": [],
   "source": [
    "code2measure = {\n",
    "    \"03\" : \"unemployment-rate\",\n",
    "    \"04\" : \"unemployment\",\n",
    "    \"05\" : \"employment\",\n",
    "    \"06\" : \"labor-force\"\n",
    "}\n",
    "def decodeMeasure(s):\n",
    "    code = s[len(s)-2:]\n",
    "    return code2measure[code]"
   ]
  },
  {
   "cell_type": "code",
   "execution_count": 246,
   "metadata": {
    "collapsed": true
   },
   "outputs": [],
   "source": [
    "colNames = [\"seriesid\",\"year\",\"month\",\"period\",\"date\",\"state\",\"city\",\"measure\",\"value\",\"footnotes\"]"
   ]
  },
  {
   "cell_type": "markdown",
   "metadata": {},
   "source": [
    "# extract the response into a PrettyTable"
   ]
  },
  {
   "cell_type": "code",
   "execution_count": 247,
   "metadata": {},
   "outputs": [],
   "source": [
    "data = []\n",
    "for series in json_data['Results']['series']:\n",
    "    x=prettytable.PrettyTable(colNames)\n",
    "    seriesId = series['seriesID']\n",
    "    for item in series['data']:\n",
    "        year = item['year']\n",
    "        period = item['period']\n",
    "        month = code2month[period]\n",
    "        date = dateFrom(year, month)\n",
    "        state = decodeState(seriesId)\n",
    "        city = decodeCityTown(seriesId)\n",
    "        measure = decodeMeasure(seriesId)\n",
    "        value = item['value']\n",
    "        footnotes=\"\"\n",
    "        for footnote in item['footnotes']:\n",
    "            if footnote:\n",
    "                footnotes = footnotes + footnote['text'] + ','\n",
    "        if 'M01' <= period <= 'M12':\n",
    "            row = [seriesId,year,month,period,date,state,city,measure,value,footnotes[0:-1]]\n",
    "            x.add_row(row)\n",
    "            data.append(row)"
   ]
  },
  {
   "cell_type": "code",
   "execution_count": 248,
   "metadata": {},
   "outputs": [
    {
     "data": {
      "text/plain": [
       "<prettytable.PrettyTable at 0x112339780>"
      ]
     },
     "execution_count": 248,
     "metadata": {},
     "output_type": "execute_result"
    }
   ],
   "source": [
    "x"
   ]
  },
  {
   "cell_type": "code",
   "execution_count": 249,
   "metadata": {},
   "outputs": [
    {
     "name": "stdout",
     "output_type": "stream",
     "text": [
      "+----------------------+------+-----------+--------+---------+--------------+--------------------------+-------------------+-------+--------------+\n",
      "|       seriesid       | year |   month   | period |   date  |    state     |           city           |      measure      | value |  footnotes   |\n",
      "+----------------------+------+-----------+--------+---------+--------------+--------------------------+-------------------+-------+--------------+\n",
      "| LAUCT426000000000003 | 2017 |   August  |  M08   | 2017/08 | Pennsylvania | Philadelphia County/city | unemployment-rate |  6.7  | Preliminary. |\n",
      "| LAUCT426000000000003 | 2017 |    July   |  M07   | 2017/07 | Pennsylvania | Philadelphia County/city | unemployment-rate |  6.9  |              |\n",
      "| LAUCT426000000000003 | 2017 |    June   |  M06   | 2017/06 | Pennsylvania | Philadelphia County/city | unemployment-rate |  6.4  |              |\n",
      "| LAUCT426000000000003 | 2017 |    May    |  M05   | 2017/05 | Pennsylvania | Philadelphia County/city | unemployment-rate |  6.7  |              |\n",
      "| LAUCT426000000000003 | 2017 |   April   |  M04   | 2017/04 | Pennsylvania | Philadelphia County/city | unemployment-rate |  5.9  |              |\n",
      "| LAUCT426000000000003 | 2017 |   March   |  M03   | 2017/03 | Pennsylvania | Philadelphia County/city | unemployment-rate |  6.0  |              |\n",
      "| LAUCT426000000000003 | 2017 |  February |  M02   | 2017/02 | Pennsylvania | Philadelphia County/city | unemployment-rate |  6.2  |              |\n",
      "| LAUCT426000000000003 | 2017 |  January  |  M01   | 2017/01 | Pennsylvania | Philadelphia County/city | unemployment-rate |  6.1  |              |\n",
      "| LAUCT426000000000003 | 2016 |  December |  M12   | 2016/12 | Pennsylvania | Philadelphia County/city | unemployment-rate |  5.8  |              |\n",
      "| LAUCT426000000000003 | 2016 |  November |  M11   | 2016/11 | Pennsylvania | Philadelphia County/city | unemployment-rate |  6.2  |              |\n",
      "| LAUCT426000000000003 | 2016 |  October  |  M10   | 2016/10 | Pennsylvania | Philadelphia County/city | unemployment-rate |  6.8  |              |\n",
      "| LAUCT426000000000003 | 2016 | September |  M09   | 2016/09 | Pennsylvania | Philadelphia County/city | unemployment-rate |  6.9  |              |\n",
      "| LAUCT426000000000003 | 2016 |   August  |  M08   | 2016/08 | Pennsylvania | Philadelphia County/city | unemployment-rate |  7.5  |              |\n",
      "| LAUCT426000000000003 | 2016 |    July   |  M07   | 2016/07 | Pennsylvania | Philadelphia County/city | unemployment-rate |  7.6  |              |\n",
      "| LAUCT426000000000003 | 2016 |    June   |  M06   | 2016/06 | Pennsylvania | Philadelphia County/city | unemployment-rate |  7.1  |              |\n",
      "| LAUCT426000000000003 | 2016 |    May    |  M05   | 2016/05 | Pennsylvania | Philadelphia County/city | unemployment-rate |  6.8  |              |\n",
      "| LAUCT426000000000003 | 2016 |   April   |  M04   | 2016/04 | Pennsylvania | Philadelphia County/city | unemployment-rate |  6.6  |              |\n",
      "| LAUCT426000000000003 | 2016 |   March   |  M03   | 2016/03 | Pennsylvania | Philadelphia County/city | unemployment-rate |  6.9  |              |\n",
      "| LAUCT426000000000003 | 2016 |  February |  M02   | 2016/02 | Pennsylvania | Philadelphia County/city | unemployment-rate |  6.7  |              |\n",
      "| LAUCT426000000000003 | 2016 |  January  |  M01   | 2016/01 | Pennsylvania | Philadelphia County/city | unemployment-rate |  6.8  |              |\n",
      "+----------------------+------+-----------+--------+---------+--------------+--------------------------+-------------------+-------+--------------+\n"
     ]
    }
   ],
   "source": [
    "print(x)"
   ]
  },
  {
   "cell_type": "markdown",
   "metadata": {},
   "source": [
    "LAUCT426000000000003\n",
    "+++\n",
    "   CT2404000000000"
   ]
  },
  {
   "cell_type": "code",
   "execution_count": 250,
   "metadata": {},
   "outputs": [
    {
     "name": "stdout",
     "output_type": "stream",
     "text": [
      "yes\n"
     ]
    }
   ],
   "source": [
    "code = 'LAUCT240400000000003'\n",
    "city = 'CT2404000000000'\n",
    "xtrc = code[3:len(code)-2]\n",
    "\n",
    "if city == xtrc:\n",
    "    print(\"yes\")\n",
    "else:\n",
    "    print(\"no\")\n"
   ]
  },
  {
   "cell_type": "code",
   "execution_count": 251,
   "metadata": {},
   "outputs": [
    {
     "data": {
      "text/plain": [
       "[['LAUCT426000000000003',\n",
       "  '2017',\n",
       "  'August',\n",
       "  'M08',\n",
       "  '2017/08',\n",
       "  'Pennsylvania',\n",
       "  'Philadelphia County/city',\n",
       "  'unemployment-rate',\n",
       "  '6.7',\n",
       "  'Preliminary.'],\n",
       " ['LAUCT426000000000003',\n",
       "  '2017',\n",
       "  'July',\n",
       "  'M07',\n",
       "  '2017/07',\n",
       "  'Pennsylvania',\n",
       "  'Philadelphia County/city',\n",
       "  'unemployment-rate',\n",
       "  '6.9',\n",
       "  ''],\n",
       " ['LAUCT426000000000003',\n",
       "  '2017',\n",
       "  'June',\n",
       "  'M06',\n",
       "  '2017/06',\n",
       "  'Pennsylvania',\n",
       "  'Philadelphia County/city',\n",
       "  'unemployment-rate',\n",
       "  '6.4',\n",
       "  ''],\n",
       " ['LAUCT426000000000003',\n",
       "  '2017',\n",
       "  'May',\n",
       "  'M05',\n",
       "  '2017/05',\n",
       "  'Pennsylvania',\n",
       "  'Philadelphia County/city',\n",
       "  'unemployment-rate',\n",
       "  '6.7',\n",
       "  ''],\n",
       " ['LAUCT426000000000003',\n",
       "  '2017',\n",
       "  'April',\n",
       "  'M04',\n",
       "  '2017/04',\n",
       "  'Pennsylvania',\n",
       "  'Philadelphia County/city',\n",
       "  'unemployment-rate',\n",
       "  '5.9',\n",
       "  ''],\n",
       " ['LAUCT426000000000003',\n",
       "  '2017',\n",
       "  'March',\n",
       "  'M03',\n",
       "  '2017/03',\n",
       "  'Pennsylvania',\n",
       "  'Philadelphia County/city',\n",
       "  'unemployment-rate',\n",
       "  '6.0',\n",
       "  ''],\n",
       " ['LAUCT426000000000003',\n",
       "  '2017',\n",
       "  'February',\n",
       "  'M02',\n",
       "  '2017/02',\n",
       "  'Pennsylvania',\n",
       "  'Philadelphia County/city',\n",
       "  'unemployment-rate',\n",
       "  '6.2',\n",
       "  ''],\n",
       " ['LAUCT426000000000003',\n",
       "  '2017',\n",
       "  'January',\n",
       "  'M01',\n",
       "  '2017/01',\n",
       "  'Pennsylvania',\n",
       "  'Philadelphia County/city',\n",
       "  'unemployment-rate',\n",
       "  '6.1',\n",
       "  ''],\n",
       " ['LAUCT426000000000003',\n",
       "  '2016',\n",
       "  'December',\n",
       "  'M12',\n",
       "  '2016/12',\n",
       "  'Pennsylvania',\n",
       "  'Philadelphia County/city',\n",
       "  'unemployment-rate',\n",
       "  '5.8',\n",
       "  ''],\n",
       " ['LAUCT426000000000003',\n",
       "  '2016',\n",
       "  'November',\n",
       "  'M11',\n",
       "  '2016/11',\n",
       "  'Pennsylvania',\n",
       "  'Philadelphia County/city',\n",
       "  'unemployment-rate',\n",
       "  '6.2',\n",
       "  ''],\n",
       " ['LAUCT426000000000003',\n",
       "  '2016',\n",
       "  'October',\n",
       "  'M10',\n",
       "  '2016/10',\n",
       "  'Pennsylvania',\n",
       "  'Philadelphia County/city',\n",
       "  'unemployment-rate',\n",
       "  '6.8',\n",
       "  ''],\n",
       " ['LAUCT426000000000003',\n",
       "  '2016',\n",
       "  'September',\n",
       "  'M09',\n",
       "  '2016/09',\n",
       "  'Pennsylvania',\n",
       "  'Philadelphia County/city',\n",
       "  'unemployment-rate',\n",
       "  '6.9',\n",
       "  ''],\n",
       " ['LAUCT426000000000003',\n",
       "  '2016',\n",
       "  'August',\n",
       "  'M08',\n",
       "  '2016/08',\n",
       "  'Pennsylvania',\n",
       "  'Philadelphia County/city',\n",
       "  'unemployment-rate',\n",
       "  '7.5',\n",
       "  ''],\n",
       " ['LAUCT426000000000003',\n",
       "  '2016',\n",
       "  'July',\n",
       "  'M07',\n",
       "  '2016/07',\n",
       "  'Pennsylvania',\n",
       "  'Philadelphia County/city',\n",
       "  'unemployment-rate',\n",
       "  '7.6',\n",
       "  ''],\n",
       " ['LAUCT426000000000003',\n",
       "  '2016',\n",
       "  'June',\n",
       "  'M06',\n",
       "  '2016/06',\n",
       "  'Pennsylvania',\n",
       "  'Philadelphia County/city',\n",
       "  'unemployment-rate',\n",
       "  '7.1',\n",
       "  ''],\n",
       " ['LAUCT426000000000003',\n",
       "  '2016',\n",
       "  'May',\n",
       "  'M05',\n",
       "  '2016/05',\n",
       "  'Pennsylvania',\n",
       "  'Philadelphia County/city',\n",
       "  'unemployment-rate',\n",
       "  '6.8',\n",
       "  ''],\n",
       " ['LAUCT426000000000003',\n",
       "  '2016',\n",
       "  'April',\n",
       "  'M04',\n",
       "  '2016/04',\n",
       "  'Pennsylvania',\n",
       "  'Philadelphia County/city',\n",
       "  'unemployment-rate',\n",
       "  '6.6',\n",
       "  ''],\n",
       " ['LAUCT426000000000003',\n",
       "  '2016',\n",
       "  'March',\n",
       "  'M03',\n",
       "  '2016/03',\n",
       "  'Pennsylvania',\n",
       "  'Philadelphia County/city',\n",
       "  'unemployment-rate',\n",
       "  '6.9',\n",
       "  ''],\n",
       " ['LAUCT426000000000003',\n",
       "  '2016',\n",
       "  'February',\n",
       "  'M02',\n",
       "  '2016/02',\n",
       "  'Pennsylvania',\n",
       "  'Philadelphia County/city',\n",
       "  'unemployment-rate',\n",
       "  '6.7',\n",
       "  ''],\n",
       " ['LAUCT426000000000003',\n",
       "  '2016',\n",
       "  'January',\n",
       "  'M01',\n",
       "  '2016/01',\n",
       "  'Pennsylvania',\n",
       "  'Philadelphia County/city',\n",
       "  'unemployment-rate',\n",
       "  '6.8',\n",
       "  '']]"
      ]
     },
     "execution_count": 251,
     "metadata": {},
     "output_type": "execute_result"
    }
   ],
   "source": [
    "data"
   ]
  },
  {
   "cell_type": "code",
   "execution_count": 252,
   "metadata": {},
   "outputs": [],
   "source": [
    "df = pd.DataFrame(data, columns=colNames)"
   ]
  },
  {
   "cell_type": "code",
   "execution_count": 253,
   "metadata": {},
   "outputs": [
    {
     "data": {
      "text/html": [
       "<div>\n",
       "<style>\n",
       "    .dataframe thead tr:only-child th {\n",
       "        text-align: right;\n",
       "    }\n",
       "\n",
       "    .dataframe thead th {\n",
       "        text-align: left;\n",
       "    }\n",
       "\n",
       "    .dataframe tbody tr th {\n",
       "        vertical-align: top;\n",
       "    }\n",
       "</style>\n",
       "<table border=\"1\" class=\"dataframe\">\n",
       "  <thead>\n",
       "    <tr style=\"text-align: right;\">\n",
       "      <th></th>\n",
       "      <th>seriesid</th>\n",
       "      <th>year</th>\n",
       "      <th>month</th>\n",
       "      <th>period</th>\n",
       "      <th>date</th>\n",
       "      <th>state</th>\n",
       "      <th>city</th>\n",
       "      <th>measure</th>\n",
       "      <th>value</th>\n",
       "      <th>footnotes</th>\n",
       "    </tr>\n",
       "  </thead>\n",
       "  <tbody>\n",
       "    <tr>\n",
       "      <th>0</th>\n",
       "      <td>LAUCT426000000000003</td>\n",
       "      <td>2017</td>\n",
       "      <td>August</td>\n",
       "      <td>M08</td>\n",
       "      <td>2017/08</td>\n",
       "      <td>Pennsylvania</td>\n",
       "      <td>Philadelphia County/city</td>\n",
       "      <td>unemployment-rate</td>\n",
       "      <td>6.7</td>\n",
       "      <td>Preliminary.</td>\n",
       "    </tr>\n",
       "    <tr>\n",
       "      <th>1</th>\n",
       "      <td>LAUCT426000000000003</td>\n",
       "      <td>2017</td>\n",
       "      <td>July</td>\n",
       "      <td>M07</td>\n",
       "      <td>2017/07</td>\n",
       "      <td>Pennsylvania</td>\n",
       "      <td>Philadelphia County/city</td>\n",
       "      <td>unemployment-rate</td>\n",
       "      <td>6.9</td>\n",
       "      <td></td>\n",
       "    </tr>\n",
       "    <tr>\n",
       "      <th>2</th>\n",
       "      <td>LAUCT426000000000003</td>\n",
       "      <td>2017</td>\n",
       "      <td>June</td>\n",
       "      <td>M06</td>\n",
       "      <td>2017/06</td>\n",
       "      <td>Pennsylvania</td>\n",
       "      <td>Philadelphia County/city</td>\n",
       "      <td>unemployment-rate</td>\n",
       "      <td>6.4</td>\n",
       "      <td></td>\n",
       "    </tr>\n",
       "    <tr>\n",
       "      <th>3</th>\n",
       "      <td>LAUCT426000000000003</td>\n",
       "      <td>2017</td>\n",
       "      <td>May</td>\n",
       "      <td>M05</td>\n",
       "      <td>2017/05</td>\n",
       "      <td>Pennsylvania</td>\n",
       "      <td>Philadelphia County/city</td>\n",
       "      <td>unemployment-rate</td>\n",
       "      <td>6.7</td>\n",
       "      <td></td>\n",
       "    </tr>\n",
       "    <tr>\n",
       "      <th>4</th>\n",
       "      <td>LAUCT426000000000003</td>\n",
       "      <td>2017</td>\n",
       "      <td>April</td>\n",
       "      <td>M04</td>\n",
       "      <td>2017/04</td>\n",
       "      <td>Pennsylvania</td>\n",
       "      <td>Philadelphia County/city</td>\n",
       "      <td>unemployment-rate</td>\n",
       "      <td>5.9</td>\n",
       "      <td></td>\n",
       "    </tr>\n",
       "    <tr>\n",
       "      <th>5</th>\n",
       "      <td>LAUCT426000000000003</td>\n",
       "      <td>2017</td>\n",
       "      <td>March</td>\n",
       "      <td>M03</td>\n",
       "      <td>2017/03</td>\n",
       "      <td>Pennsylvania</td>\n",
       "      <td>Philadelphia County/city</td>\n",
       "      <td>unemployment-rate</td>\n",
       "      <td>6.0</td>\n",
       "      <td></td>\n",
       "    </tr>\n",
       "    <tr>\n",
       "      <th>6</th>\n",
       "      <td>LAUCT426000000000003</td>\n",
       "      <td>2017</td>\n",
       "      <td>February</td>\n",
       "      <td>M02</td>\n",
       "      <td>2017/02</td>\n",
       "      <td>Pennsylvania</td>\n",
       "      <td>Philadelphia County/city</td>\n",
       "      <td>unemployment-rate</td>\n",
       "      <td>6.2</td>\n",
       "      <td></td>\n",
       "    </tr>\n",
       "    <tr>\n",
       "      <th>7</th>\n",
       "      <td>LAUCT426000000000003</td>\n",
       "      <td>2017</td>\n",
       "      <td>January</td>\n",
       "      <td>M01</td>\n",
       "      <td>2017/01</td>\n",
       "      <td>Pennsylvania</td>\n",
       "      <td>Philadelphia County/city</td>\n",
       "      <td>unemployment-rate</td>\n",
       "      <td>6.1</td>\n",
       "      <td></td>\n",
       "    </tr>\n",
       "    <tr>\n",
       "      <th>8</th>\n",
       "      <td>LAUCT426000000000003</td>\n",
       "      <td>2016</td>\n",
       "      <td>December</td>\n",
       "      <td>M12</td>\n",
       "      <td>2016/12</td>\n",
       "      <td>Pennsylvania</td>\n",
       "      <td>Philadelphia County/city</td>\n",
       "      <td>unemployment-rate</td>\n",
       "      <td>5.8</td>\n",
       "      <td></td>\n",
       "    </tr>\n",
       "    <tr>\n",
       "      <th>9</th>\n",
       "      <td>LAUCT426000000000003</td>\n",
       "      <td>2016</td>\n",
       "      <td>November</td>\n",
       "      <td>M11</td>\n",
       "      <td>2016/11</td>\n",
       "      <td>Pennsylvania</td>\n",
       "      <td>Philadelphia County/city</td>\n",
       "      <td>unemployment-rate</td>\n",
       "      <td>6.2</td>\n",
       "      <td></td>\n",
       "    </tr>\n",
       "    <tr>\n",
       "      <th>10</th>\n",
       "      <td>LAUCT426000000000003</td>\n",
       "      <td>2016</td>\n",
       "      <td>October</td>\n",
       "      <td>M10</td>\n",
       "      <td>2016/10</td>\n",
       "      <td>Pennsylvania</td>\n",
       "      <td>Philadelphia County/city</td>\n",
       "      <td>unemployment-rate</td>\n",
       "      <td>6.8</td>\n",
       "      <td></td>\n",
       "    </tr>\n",
       "    <tr>\n",
       "      <th>11</th>\n",
       "      <td>LAUCT426000000000003</td>\n",
       "      <td>2016</td>\n",
       "      <td>September</td>\n",
       "      <td>M09</td>\n",
       "      <td>2016/09</td>\n",
       "      <td>Pennsylvania</td>\n",
       "      <td>Philadelphia County/city</td>\n",
       "      <td>unemployment-rate</td>\n",
       "      <td>6.9</td>\n",
       "      <td></td>\n",
       "    </tr>\n",
       "    <tr>\n",
       "      <th>12</th>\n",
       "      <td>LAUCT426000000000003</td>\n",
       "      <td>2016</td>\n",
       "      <td>August</td>\n",
       "      <td>M08</td>\n",
       "      <td>2016/08</td>\n",
       "      <td>Pennsylvania</td>\n",
       "      <td>Philadelphia County/city</td>\n",
       "      <td>unemployment-rate</td>\n",
       "      <td>7.5</td>\n",
       "      <td></td>\n",
       "    </tr>\n",
       "    <tr>\n",
       "      <th>13</th>\n",
       "      <td>LAUCT426000000000003</td>\n",
       "      <td>2016</td>\n",
       "      <td>July</td>\n",
       "      <td>M07</td>\n",
       "      <td>2016/07</td>\n",
       "      <td>Pennsylvania</td>\n",
       "      <td>Philadelphia County/city</td>\n",
       "      <td>unemployment-rate</td>\n",
       "      <td>7.6</td>\n",
       "      <td></td>\n",
       "    </tr>\n",
       "    <tr>\n",
       "      <th>14</th>\n",
       "      <td>LAUCT426000000000003</td>\n",
       "      <td>2016</td>\n",
       "      <td>June</td>\n",
       "      <td>M06</td>\n",
       "      <td>2016/06</td>\n",
       "      <td>Pennsylvania</td>\n",
       "      <td>Philadelphia County/city</td>\n",
       "      <td>unemployment-rate</td>\n",
       "      <td>7.1</td>\n",
       "      <td></td>\n",
       "    </tr>\n",
       "    <tr>\n",
       "      <th>15</th>\n",
       "      <td>LAUCT426000000000003</td>\n",
       "      <td>2016</td>\n",
       "      <td>May</td>\n",
       "      <td>M05</td>\n",
       "      <td>2016/05</td>\n",
       "      <td>Pennsylvania</td>\n",
       "      <td>Philadelphia County/city</td>\n",
       "      <td>unemployment-rate</td>\n",
       "      <td>6.8</td>\n",
       "      <td></td>\n",
       "    </tr>\n",
       "    <tr>\n",
       "      <th>16</th>\n",
       "      <td>LAUCT426000000000003</td>\n",
       "      <td>2016</td>\n",
       "      <td>April</td>\n",
       "      <td>M04</td>\n",
       "      <td>2016/04</td>\n",
       "      <td>Pennsylvania</td>\n",
       "      <td>Philadelphia County/city</td>\n",
       "      <td>unemployment-rate</td>\n",
       "      <td>6.6</td>\n",
       "      <td></td>\n",
       "    </tr>\n",
       "    <tr>\n",
       "      <th>17</th>\n",
       "      <td>LAUCT426000000000003</td>\n",
       "      <td>2016</td>\n",
       "      <td>March</td>\n",
       "      <td>M03</td>\n",
       "      <td>2016/03</td>\n",
       "      <td>Pennsylvania</td>\n",
       "      <td>Philadelphia County/city</td>\n",
       "      <td>unemployment-rate</td>\n",
       "      <td>6.9</td>\n",
       "      <td></td>\n",
       "    </tr>\n",
       "    <tr>\n",
       "      <th>18</th>\n",
       "      <td>LAUCT426000000000003</td>\n",
       "      <td>2016</td>\n",
       "      <td>February</td>\n",
       "      <td>M02</td>\n",
       "      <td>2016/02</td>\n",
       "      <td>Pennsylvania</td>\n",
       "      <td>Philadelphia County/city</td>\n",
       "      <td>unemployment-rate</td>\n",
       "      <td>6.7</td>\n",
       "      <td></td>\n",
       "    </tr>\n",
       "    <tr>\n",
       "      <th>19</th>\n",
       "      <td>LAUCT426000000000003</td>\n",
       "      <td>2016</td>\n",
       "      <td>January</td>\n",
       "      <td>M01</td>\n",
       "      <td>2016/01</td>\n",
       "      <td>Pennsylvania</td>\n",
       "      <td>Philadelphia County/city</td>\n",
       "      <td>unemployment-rate</td>\n",
       "      <td>6.8</td>\n",
       "      <td></td>\n",
       "    </tr>\n",
       "  </tbody>\n",
       "</table>\n",
       "</div>"
      ],
      "text/plain": [
       "                seriesid  year      month period     date         state  \\\n",
       "0   LAUCT426000000000003  2017     August    M08  2017/08  Pennsylvania   \n",
       "1   LAUCT426000000000003  2017       July    M07  2017/07  Pennsylvania   \n",
       "2   LAUCT426000000000003  2017       June    M06  2017/06  Pennsylvania   \n",
       "3   LAUCT426000000000003  2017        May    M05  2017/05  Pennsylvania   \n",
       "4   LAUCT426000000000003  2017      April    M04  2017/04  Pennsylvania   \n",
       "5   LAUCT426000000000003  2017      March    M03  2017/03  Pennsylvania   \n",
       "6   LAUCT426000000000003  2017   February    M02  2017/02  Pennsylvania   \n",
       "7   LAUCT426000000000003  2017    January    M01  2017/01  Pennsylvania   \n",
       "8   LAUCT426000000000003  2016   December    M12  2016/12  Pennsylvania   \n",
       "9   LAUCT426000000000003  2016   November    M11  2016/11  Pennsylvania   \n",
       "10  LAUCT426000000000003  2016    October    M10  2016/10  Pennsylvania   \n",
       "11  LAUCT426000000000003  2016  September    M09  2016/09  Pennsylvania   \n",
       "12  LAUCT426000000000003  2016     August    M08  2016/08  Pennsylvania   \n",
       "13  LAUCT426000000000003  2016       July    M07  2016/07  Pennsylvania   \n",
       "14  LAUCT426000000000003  2016       June    M06  2016/06  Pennsylvania   \n",
       "15  LAUCT426000000000003  2016        May    M05  2016/05  Pennsylvania   \n",
       "16  LAUCT426000000000003  2016      April    M04  2016/04  Pennsylvania   \n",
       "17  LAUCT426000000000003  2016      March    M03  2016/03  Pennsylvania   \n",
       "18  LAUCT426000000000003  2016   February    M02  2016/02  Pennsylvania   \n",
       "19  LAUCT426000000000003  2016    January    M01  2016/01  Pennsylvania   \n",
       "\n",
       "                        city            measure value     footnotes  \n",
       "0   Philadelphia County/city  unemployment-rate   6.7  Preliminary.  \n",
       "1   Philadelphia County/city  unemployment-rate   6.9                \n",
       "2   Philadelphia County/city  unemployment-rate   6.4                \n",
       "3   Philadelphia County/city  unemployment-rate   6.7                \n",
       "4   Philadelphia County/city  unemployment-rate   5.9                \n",
       "5   Philadelphia County/city  unemployment-rate   6.0                \n",
       "6   Philadelphia County/city  unemployment-rate   6.2                \n",
       "7   Philadelphia County/city  unemployment-rate   6.1                \n",
       "8   Philadelphia County/city  unemployment-rate   5.8                \n",
       "9   Philadelphia County/city  unemployment-rate   6.2                \n",
       "10  Philadelphia County/city  unemployment-rate   6.8                \n",
       "11  Philadelphia County/city  unemployment-rate   6.9                \n",
       "12  Philadelphia County/city  unemployment-rate   7.5                \n",
       "13  Philadelphia County/city  unemployment-rate   7.6                \n",
       "14  Philadelphia County/city  unemployment-rate   7.1                \n",
       "15  Philadelphia County/city  unemployment-rate   6.8                \n",
       "16  Philadelphia County/city  unemployment-rate   6.6                \n",
       "17  Philadelphia County/city  unemployment-rate   6.9                \n",
       "18  Philadelphia County/city  unemployment-rate   6.7                \n",
       "19  Philadelphia County/city  unemployment-rate   6.8                "
      ]
     },
     "execution_count": 253,
     "metadata": {},
     "output_type": "execute_result"
    }
   ],
   "source": [
    "df"
   ]
  },
  {
   "cell_type": "code",
   "execution_count": 183,
   "metadata": {},
   "outputs": [],
   "source": [
    "dateRange = [list(a) for a in zip(df.month,df.year)]"
   ]
  },
  {
   "cell_type": "code",
   "execution_count": 191,
   "metadata": {},
   "outputs": [
    {
     "data": {
      "text/plain": [
       "[['August', '2017'],\n",
       " ['July', '2017'],\n",
       " ['June', '2017'],\n",
       " ['May', '2017'],\n",
       " ['April', '2017'],\n",
       " ['March', '2017'],\n",
       " ['February', '2017'],\n",
       " ['January', '2017'],\n",
       " ['December', '2016'],\n",
       " ['November', '2016'],\n",
       " ['October', '2016'],\n",
       " ['September', '2016'],\n",
       " ['August', '2016'],\n",
       " ['July', '2016'],\n",
       " ['June', '2016'],\n",
       " ['May', '2016'],\n",
       " ['April', '2016'],\n",
       " ['March', '2016'],\n",
       " ['February', '2016'],\n",
       " ['January', '2016']]"
      ]
     },
     "execution_count": 191,
     "metadata": {},
     "output_type": "execute_result"
    }
   ],
   "source": [
    "dateRange"
   ]
  },
  {
   "cell_type": "code",
   "execution_count": 212,
   "metadata": {},
   "outputs": [],
   "source": [
    "def doit(item):\n",
    "    return \"{}, {}\".format(item[0], item[1])\n",
    "\n",
    "result = list(map(doit, dateRange))"
   ]
  },
  {
   "cell_type": "code",
   "execution_count": 231,
   "metadata": {},
   "outputs": [
    {
     "name": "stdout",
     "output_type": "stream",
     "text": [
      "['August, 2017', 'July, 2017', 'June, 2017', 'May, 2017', 'April, 2017', 'March, 2017', 'February, 2017', 'January, 2017', 'December, 2016', 'November, 2016', 'October, 2016', 'September, 2016', 'August, 2016', 'July, 2016', 'June, 2016', 'May, 2016', 'April, 2016', 'March, 2016', 'February, 2016', 'January, 2016']\n"
     ]
    }
   ],
   "source": [
    "print(result)"
   ]
  },
  {
   "cell_type": "code",
   "execution_count": 233,
   "metadata": {},
   "outputs": [
    {
     "data": {
      "text/plain": [
       "list"
      ]
     },
     "execution_count": 233,
     "metadata": {},
     "output_type": "execute_result"
    }
   ],
   "source": [
    "type(result)"
   ]
  },
  {
   "cell_type": "code",
   "execution_count": 234,
   "metadata": {
    "collapsed": true
   },
   "outputs": [],
   "source": [
    "dates = []\n",
    "dates = result"
   ]
  },
  {
   "cell_type": "code",
   "execution_count": 235,
   "metadata": {},
   "outputs": [
    {
     "data": {
      "text/plain": [
       "['August, 2017',\n",
       " 'July, 2017',\n",
       " 'June, 2017',\n",
       " 'May, 2017',\n",
       " 'April, 2017',\n",
       " 'March, 2017',\n",
       " 'February, 2017',\n",
       " 'January, 2017',\n",
       " 'December, 2016',\n",
       " 'November, 2016',\n",
       " 'October, 2016',\n",
       " 'September, 2016',\n",
       " 'August, 2016',\n",
       " 'July, 2016',\n",
       " 'June, 2016',\n",
       " 'May, 2016',\n",
       " 'April, 2016',\n",
       " 'March, 2016',\n",
       " 'February, 2016',\n",
       " 'January, 2016']"
      ]
     },
     "execution_count": 235,
     "metadata": {},
     "output_type": "execute_result"
    }
   ],
   "source": [
    "dates"
   ]
  },
  {
   "cell_type": "code",
   "execution_count": 236,
   "metadata": {},
   "outputs": [
    {
     "data": {
      "text/plain": [
       "list"
      ]
     },
     "execution_count": 236,
     "metadata": {},
     "output_type": "execute_result"
    }
   ],
   "source": [
    "type(dates)"
   ]
  },
  {
   "cell_type": "code",
   "execution_count": 214,
   "metadata": {},
   "outputs": [],
   "source": [
    "import numpy as np\n",
    "import matplotlib.pyplot as plt\n",
    "\n",
    "%matplotlib inline"
   ]
  },
  {
   "cell_type": "code",
   "execution_count": 271,
   "metadata": {},
   "outputs": [
    {
     "ename": "AttributeError",
     "evalue": "'AxesSubplot' object has no attribute 'autofmt_xdate'",
     "output_type": "error",
     "traceback": [
      "\u001b[0;31m---------------------------------------------------------------------------\u001b[0m",
      "\u001b[0;31mAttributeError\u001b[0m                            Traceback (most recent call last)",
      "\u001b[0;32m<ipython-input-271-ce6d1c374942>\u001b[0m in \u001b[0;36m<module>\u001b[0;34m()\u001b[0m\n\u001b[1;32m     17\u001b[0m \u001b[0max\u001b[0m\u001b[0;34m.\u001b[0m\u001b[0mxaxis\u001b[0m\u001b[0;34m.\u001b[0m\u001b[0mset_minor_locator\u001b[0m\u001b[0;34m(\u001b[0m\u001b[0mmonths\u001b[0m\u001b[0;34m)\u001b[0m\u001b[0;34m\u001b[0m\u001b[0m\n\u001b[1;32m     18\u001b[0m \u001b[0;34m\u001b[0m\u001b[0m\n\u001b[0;32m---> 19\u001b[0;31m \u001b[0max\u001b[0m\u001b[0;34m.\u001b[0m\u001b[0mautofmt_xdate\u001b[0m\u001b[0;34m(\u001b[0m\u001b[0;34m)\u001b[0m\u001b[0;34m\u001b[0m\u001b[0m\n\u001b[0m\u001b[1;32m     20\u001b[0m \u001b[0max\u001b[0m\u001b[0;34m.\u001b[0m\u001b[0mformat_xdata\u001b[0m \u001b[0;34m=\u001b[0m \u001b[0mmdates\u001b[0m\u001b[0;34m.\u001b[0m\u001b[0mDateFormatter\u001b[0m\u001b[0;34m(\u001b[0m\u001b[0;34m'%Y/%m'\u001b[0m\u001b[0;34m)\u001b[0m\u001b[0;34m\u001b[0m\u001b[0m\n\u001b[1;32m     21\u001b[0m \u001b[0max\u001b[0m\u001b[0;34m.\u001b[0m\u001b[0mgrid\u001b[0m\u001b[0;34m(\u001b[0m\u001b[0;32mTrue\u001b[0m\u001b[0;34m)\u001b[0m\u001b[0;34m\u001b[0m\u001b[0m\n",
      "\u001b[0;31mAttributeError\u001b[0m: 'AxesSubplot' object has no attribute 'autofmt_xdate'"
     ]
    },
    {
     "data": {
      "image/png": "[encoded data removed]",
      "text/plain": [
       "<matplotlib.figure.Figure at 0x11344ac88>"
      ]
     },
     "metadata": {},
     "output_type": "display_data"
    }
   ],
   "source": [
    "import matplotlib.dates as mdates\n",
    "\n",
    "x = list([dt.datetime.strptime(d,'%Y/%m').date() for d in df.date.values])\n",
    "y = list(df.value.values)\n",
    "\n",
    "years = mdates.YearLocator()   # every year\n",
    "months = mdates.MonthLocator()  # every month\n",
    "yearsFmt = mdates.DateFormatter('%Y')\n",
    "\n",
    "fig, ax = plt.subplots()\n",
    "\n",
    "ax.plot(x, y)\n",
    "\n",
    "# format the ticks\n",
    "ax.xaxis.set_major_locator(years)\n",
    "ax.xaxis.set_major_formatter(yearsFmt)\n",
    "ax.xaxis.set_minor_locator(months)\n",
    "\n",
    "ax.autofmt_xdate()\n",
    "ax.format_xdata = mdates.DateFormatter('%Y/%m')\n",
    "ax.grid(True)\n",
    "fig.autofmt_xdate()\n",
    "plt.show()"
   ]
  },
  {
   "cell_type": "code",
   "execution_count": 261,
   "metadata": {},
   "outputs": [],
   "source": [
    "import datetime as dt\n",
    "\n",
    "x = [dt.datetime.strptime(d,'%Y/%m').date() for d in df.date.values]\n",
    "y = df.value.values"
   ]
  },
  {
   "cell_type": "code",
   "execution_count": 262,
   "metadata": {},
   "outputs": [
    {
     "data": {
      "text/plain": [
       "[datetime.date(2017, 8, 1),\n",
       " datetime.date(2017, 7, 1),\n",
       " datetime.date(2017, 6, 1),\n",
       " datetime.date(2017, 5, 1),\n",
       " datetime.date(2017, 4, 1),\n",
       " datetime.date(2017, 3, 1),\n",
       " datetime.date(2017, 2, 1),\n",
       " datetime.date(2017, 1, 1),\n",
       " datetime.date(2016, 12, 1),\n",
       " datetime.date(2016, 11, 1),\n",
       " datetime.date(2016, 10, 1),\n",
       " datetime.date(2016, 9, 1),\n",
       " datetime.date(2016, 8, 1),\n",
       " datetime.date(2016, 7, 1),\n",
       " datetime.date(2016, 6, 1),\n",
       " datetime.date(2016, 5, 1),\n",
       " datetime.date(2016, 4, 1),\n",
       " datetime.date(2016, 3, 1),\n",
       " datetime.date(2016, 2, 1),\n",
       " datetime.date(2016, 1, 1)]"
      ]
     },
     "execution_count": 262,
     "metadata": {},
     "output_type": "execute_result"
    }
   ],
   "source": [
    "x"
   ]
  },
  {
   "cell_type": "code",
   "execution_count": 263,
   "metadata": {},
   "outputs": [
    {
     "data": {
      "text/plain": [
       "array(['6.7', '6.9', '6.4', '6.7', '5.9', '6.0', '6.2', '6.1', '5.8',\n",
       "       '6.2', '6.8', '6.9', '7.5', '7.6', '7.1', '6.8', '6.6', '6.9',\n",
       "       '6.7', '6.8'], dtype=object)"
      ]
     },
     "execution_count": 263,
     "metadata": {},
     "output_type": "execute_result"
    }
   ],
   "source": [
    "y"
   ]
  },
  {
   "cell_type": "code",
   "execution_count": 266,
   "metadata": {},
   "outputs": [
    {
     "data": {
      "image/png": "[encoded data removed]",
      "text/plain": [
       "<matplotlib.figure.Figure at 0x111a04160>"
      ]
     },
     "metadata": {},
     "output_type": "display_data"
    }
   ],
   "source": [
    "import matplotlib.pyplot as plt\n",
    "import matplotlib.dates as mdates\n",
    "\n",
    "plt.gca().xaxis.set_major_formatter(mdates.DateFormatter('%Y'))\n",
    "plt.gca().xaxis.set_major_locator(mdates.DayLocator())\n",
    "plt.plot(list(x),list(y))\n",
    "plt.gcf().autofmt_xdate()"
   ]
  },
  {
   "cell_type": "code",
   "execution_count": 279,
   "metadata": {},
   "outputs": [
    {
     "data": {
      "image/png": "[encoded data removed]",
      "text/plain": [
       "<matplotlib.figure.Figure at 0x1133d5518>"
      ]
     },
     "metadata": {},
     "output_type": "display_data"
    }
   ],
   "source": [
    "\"\"\"\n",
    "================\n",
    "Date tick labels\n",
    "================\n",
    "\n",
    "Show how to make date plots in matplotlib using date tick locators and\n",
    "formatters.  See major_minor_demo1.py for more information on\n",
    "controlling major and minor ticks\n",
    "\n",
    "All matplotlib date plotting is done by converting date instances into\n",
    "days since the 0001-01-01 UTC.  The conversion, tick locating and\n",
    "formatting is done behind the scenes so this is most transparent to\n",
    "you.  The dates module provides several converter functions date2num\n",
    "and num2date\n",
    "\n",
    "\"\"\"\n",
    "import datetime\n",
    "import numpy as np\n",
    "import matplotlib.pyplot as plt\n",
    "import matplotlib.dates as mdates\n",
    "import matplotlib.cbook as cbook\n",
    "\n",
    "years = mdates.YearLocator()   # every year\n",
    "months = mdates.MonthLocator()  # every month\n",
    "yearsFmt = mdates.DateFormatter('%Y')\n",
    "\n",
    "x = list([datetime.datetime.strptime(d,'%Y/%m').date() for d in df.date.values])\n",
    "y = list(df.value.values)\n",
    "\n",
    "fig, ax = plt.subplots()\n",
    "ax.plot(x, y)\n",
    "\n",
    "\n",
    "# format the ticks\n",
    "ax.xaxis.set_major_locator(years)\n",
    "ax.xaxis.set_major_formatter(yearsFmt)\n",
    "ax.xaxis.set_minor_locator(months)\n",
    "\n",
    "datemin = datetime.date(min(x).year, 1, 1)\n",
    "datemax = datetime.date(max(x).year + 1, 1, 1)\n",
    "ax.set_xlim(datemin, datemax)\n",
    "\n",
    "\n",
    "# format the coords message box\n",
    "def price(x):\n",
    "    return '%1.2f' % x\n",
    "ax.format_xdata = mdates.DateFormatter('%Y-%m')\n",
    "ax.format_ydata = price\n",
    "ax.grid(True)\n",
    "\n",
    "# rotates and right aligns the x labels, and moves the bottom of the\n",
    "# axes up to make room for them\n",
    "fig.autofmt_xdate()\n",
    "\n",
    "plt.show()"
   ]
  },
  {
   "cell_type": "code",
   "execution_count": 278,
   "metadata": {},
   "outputs": [
    {
     "data": {
      "text/plain": [
       "2016"
      ]
     },
     "execution_count": 278,
     "metadata": {},
     "output_type": "execute_result"
    }
   ],
   "source": [
    "min(x).year"
   ]
  },
  {
   "cell_type": "code",
   "execution_count": null,
   "metadata": {
    "collapsed": true
   },
   "outputs": [],
   "source": []
  }
 ],
 "metadata": {
  "kernelspec": {
   "display_name": "Python 3",
   "language": "python",
   "name": "python3"
  },
  "language_info": {
   "codemirror_mode": {
    "name": "ipython",
    "version": 3
   },
   "file_extension": ".py",
   "mimetype": "text/x-python",
   "name": "python",
   "nbconvert_exporter": "python",
   "pygments_lexer": "ipython3",
   "version": "3.6.1"
  }
 },
 "nbformat": 4,
 "nbformat_minor": 2
}
