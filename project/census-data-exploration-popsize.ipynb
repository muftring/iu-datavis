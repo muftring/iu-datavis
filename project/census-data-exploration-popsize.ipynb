{
 "cells": [
  {
   "cell_type": "code",
   "execution_count": 2,
   "metadata": {
    "collapsed": true
   },
   "outputs": [],
   "source": [
    "import pandas as pd\n",
    "import numpy as np\n",
    "import matplotlib.pyplot as plt\n",
    "\n",
    "%matplotlib inline"
   ]
  },
  {
   "cell_type": "markdown",
   "metadata": {},
   "source": [
    "# load the census data"
   ]
  },
  {
   "cell_type": "code",
   "execution_count": 3,
   "metadata": {
    "collapsed": true
   },
   "outputs": [],
   "source": [
    "data1 = pd.read_csv(\"census-data-2000-2009.csv\", sep=\",\", encoding='latin-1')"
   ]
  },
  {
   "cell_type": "code",
   "execution_count": 4,
   "metadata": {
    "scrolled": true
   },
   "outputs": [
    {
     "data": {
      "text/html": [
       "<div>\n",
       "<style>\n",
       "    .dataframe thead tr:only-child th {\n",
       "        text-align: right;\n",
       "    }\n",
       "\n",
       "    .dataframe thead th {\n",
       "        text-align: left;\n",
       "    }\n",
       "\n",
       "    .dataframe tbody tr th {\n",
       "        vertical-align: top;\n",
       "    }\n",
       "</style>\n",
       "<table border=\"1\" class=\"dataframe\">\n",
       "  <thead>\n",
       "    <tr style=\"text-align: right;\">\n",
       "      <th></th>\n",
       "      <th>sumlev</th>\n",
       "      <th>STATE</th>\n",
       "      <th>COUNTY</th>\n",
       "      <th>place</th>\n",
       "      <th>COUSUB</th>\n",
       "      <th>name</th>\n",
       "      <th>STATENAME</th>\n",
       "      <th>POPCENSUS_2000</th>\n",
       "      <th>POPBASE_2000</th>\n",
       "      <th>POP_2000</th>\n",
       "      <th>POP_2001</th>\n",
       "      <th>POP_2002</th>\n",
       "      <th>POP_2003</th>\n",
       "      <th>POP_2004</th>\n",
       "      <th>POP_2005</th>\n",
       "      <th>POP_2006</th>\n",
       "      <th>POP_2007</th>\n",
       "      <th>POP_2008</th>\n",
       "      <th>POP_2009</th>\n",
       "    </tr>\n",
       "  </thead>\n",
       "  <tbody>\n",
       "    <tr>\n",
       "      <th>0</th>\n",
       "      <td>40</td>\n",
       "      <td>1</td>\n",
       "      <td>0</td>\n",
       "      <td>0</td>\n",
       "      <td>0</td>\n",
       "      <td>Alabama</td>\n",
       "      <td>Alabama</td>\n",
       "      <td>4447100</td>\n",
       "      <td>4447382</td>\n",
       "      <td>4451849</td>\n",
       "      <td>4464034</td>\n",
       "      <td>4472420</td>\n",
       "      <td>4490591</td>\n",
       "      <td>4512190</td>\n",
       "      <td>4545049</td>\n",
       "      <td>4597688</td>\n",
       "      <td>4637904</td>\n",
       "      <td>4677464</td>\n",
       "      <td>4708708</td>\n",
       "    </tr>\n",
       "    <tr>\n",
       "      <th>1</th>\n",
       "      <td>162</td>\n",
       "      <td>1</td>\n",
       "      <td>0</td>\n",
       "      <td>124</td>\n",
       "      <td>0</td>\n",
       "      <td>Abbeville city</td>\n",
       "      <td>Alabama</td>\n",
       "      <td>2987</td>\n",
       "      <td>2987</td>\n",
       "      <td>2987</td>\n",
       "      <td>2951</td>\n",
       "      <td>2939</td>\n",
       "      <td>2931</td>\n",
       "      <td>2936</td>\n",
       "      <td>2925</td>\n",
       "      <td>2926</td>\n",
       "      <td>2939</td>\n",
       "      <td>2931</td>\n",
       "      <td>2930</td>\n",
       "    </tr>\n",
       "    <tr>\n",
       "      <th>2</th>\n",
       "      <td>162</td>\n",
       "      <td>1</td>\n",
       "      <td>0</td>\n",
       "      <td>460</td>\n",
       "      <td>0</td>\n",
       "      <td>Adamsville city</td>\n",
       "      <td>Alabama</td>\n",
       "      <td>4965</td>\n",
       "      <td>5074</td>\n",
       "      <td>5069</td>\n",
       "      <td>5045</td>\n",
       "      <td>5008</td>\n",
       "      <td>4975</td>\n",
       "      <td>4925</td>\n",
       "      <td>4880</td>\n",
       "      <td>4851</td>\n",
       "      <td>4797</td>\n",
       "      <td>4789</td>\n",
       "      <td>4782</td>\n",
       "    </tr>\n",
       "    <tr>\n",
       "      <th>3</th>\n",
       "      <td>162</td>\n",
       "      <td>1</td>\n",
       "      <td>0</td>\n",
       "      <td>484</td>\n",
       "      <td>0</td>\n",
       "      <td>Addison town</td>\n",
       "      <td>Alabama</td>\n",
       "      <td>723</td>\n",
       "      <td>723</td>\n",
       "      <td>724</td>\n",
       "      <td>713</td>\n",
       "      <td>711</td>\n",
       "      <td>708</td>\n",
       "      <td>708</td>\n",
       "      <td>708</td>\n",
       "      <td>713</td>\n",
       "      <td>717</td>\n",
       "      <td>711</td>\n",
       "      <td>709</td>\n",
       "    </tr>\n",
       "    <tr>\n",
       "      <th>4</th>\n",
       "      <td>162</td>\n",
       "      <td>1</td>\n",
       "      <td>0</td>\n",
       "      <td>676</td>\n",
       "      <td>0</td>\n",
       "      <td>Akron town</td>\n",
       "      <td>Alabama</td>\n",
       "      <td>521</td>\n",
       "      <td>449</td>\n",
       "      <td>449</td>\n",
       "      <td>450</td>\n",
       "      <td>443</td>\n",
       "      <td>441</td>\n",
       "      <td>433</td>\n",
       "      <td>435</td>\n",
       "      <td>434</td>\n",
       "      <td>437</td>\n",
       "      <td>437</td>\n",
       "      <td>433</td>\n",
       "    </tr>\n",
       "  </tbody>\n",
       "</table>\n",
       "</div>"
      ],
      "text/plain": [
       "   sumlev  STATE  COUNTY  place  COUSUB             name STATENAME  \\\n",
       "0      40      1       0      0       0          Alabama   Alabama   \n",
       "1     162      1       0    124       0   Abbeville city   Alabama   \n",
       "2     162      1       0    460       0  Adamsville city   Alabama   \n",
       "3     162      1       0    484       0     Addison town   Alabama   \n",
       "4     162      1       0    676       0       Akron town   Alabama   \n",
       "\n",
       "  POPCENSUS_2000  POPBASE_2000  POP_2000  POP_2001  POP_2002  POP_2003  \\\n",
       "0        4447100       4447382   4451849   4464034   4472420   4490591   \n",
       "1           2987          2987      2987      2951      2939      2931   \n",
       "2           4965          5074      5069      5045      5008      4975   \n",
       "3            723           723       724       713       711       708   \n",
       "4            521           449       449       450       443       441   \n",
       "\n",
       "   POP_2004  POP_2005  POP_2006  POP_2007  POP_2008  POP_2009  \n",
       "0   4512190   4545049   4597688   4637904   4677464   4708708  \n",
       "1      2936      2925      2926      2939      2931      2930  \n",
       "2      4925      4880      4851      4797      4789      4782  \n",
       "3       708       708       713       717       711       709  \n",
       "4       433       435       434       437       437       433  "
      ]
     },
     "execution_count": 4,
     "metadata": {},
     "output_type": "execute_result"
    }
   ],
   "source": [
    "data1.head()"
   ]
  },
  {
   "cell_type": "code",
   "execution_count": 5,
   "metadata": {
    "collapsed": true
   },
   "outputs": [],
   "source": [
    "data2 = pd.read_csv(\"census-data-2010-2016.csv\", sep=\",\", encoding='latin-1')"
   ]
  },
  {
   "cell_type": "code",
   "execution_count": 6,
   "metadata": {},
   "outputs": [
    {
     "data": {
      "text/html": [
       "<div>\n",
       "<style>\n",
       "    .dataframe thead tr:only-child th {\n",
       "        text-align: right;\n",
       "    }\n",
       "\n",
       "    .dataframe thead th {\n",
       "        text-align: left;\n",
       "    }\n",
       "\n",
       "    .dataframe tbody tr th {\n",
       "        vertical-align: top;\n",
       "    }\n",
       "</style>\n",
       "<table border=\"1\" class=\"dataframe\">\n",
       "  <thead>\n",
       "    <tr style=\"text-align: right;\">\n",
       "      <th></th>\n",
       "      <th>SUMLEV</th>\n",
       "      <th>STATE</th>\n",
       "      <th>COUNTY</th>\n",
       "      <th>PLACE</th>\n",
       "      <th>COUSUB</th>\n",
       "      <th>CONCIT</th>\n",
       "      <th>PRIMGEO_FLAG</th>\n",
       "      <th>FUNCSTAT</th>\n",
       "      <th>NAME</th>\n",
       "      <th>STNAME</th>\n",
       "      <th>CENSUS2010POP</th>\n",
       "      <th>ESTIMATESBASE2010</th>\n",
       "      <th>POPESTIMATE2010</th>\n",
       "      <th>POPESTIMATE2011</th>\n",
       "      <th>POPESTIMATE2012</th>\n",
       "      <th>POPESTIMATE2013</th>\n",
       "      <th>POPESTIMATE2014</th>\n",
       "      <th>POPESTIMATE2015</th>\n",
       "      <th>POPESTIMATE2016</th>\n",
       "    </tr>\n",
       "  </thead>\n",
       "  <tbody>\n",
       "    <tr>\n",
       "      <th>0</th>\n",
       "      <td>40</td>\n",
       "      <td>1</td>\n",
       "      <td>0</td>\n",
       "      <td>0</td>\n",
       "      <td>0</td>\n",
       "      <td>0</td>\n",
       "      <td>0</td>\n",
       "      <td>A</td>\n",
       "      <td>Alabama</td>\n",
       "      <td>Alabama</td>\n",
       "      <td>4779736</td>\n",
       "      <td>4780131</td>\n",
       "      <td>4785492</td>\n",
       "      <td>4799918</td>\n",
       "      <td>4815960</td>\n",
       "      <td>4829479</td>\n",
       "      <td>4843214</td>\n",
       "      <td>4853875</td>\n",
       "      <td>4863300</td>\n",
       "    </tr>\n",
       "    <tr>\n",
       "      <th>1</th>\n",
       "      <td>162</td>\n",
       "      <td>1</td>\n",
       "      <td>0</td>\n",
       "      <td>124</td>\n",
       "      <td>0</td>\n",
       "      <td>0</td>\n",
       "      <td>0</td>\n",
       "      <td>A</td>\n",
       "      <td>Abbeville city</td>\n",
       "      <td>Alabama</td>\n",
       "      <td>2688</td>\n",
       "      <td>2688</td>\n",
       "      <td>2683</td>\n",
       "      <td>2685</td>\n",
       "      <td>2647</td>\n",
       "      <td>2631</td>\n",
       "      <td>2619</td>\n",
       "      <td>2616</td>\n",
       "      <td>2603</td>\n",
       "    </tr>\n",
       "    <tr>\n",
       "      <th>2</th>\n",
       "      <td>162</td>\n",
       "      <td>1</td>\n",
       "      <td>0</td>\n",
       "      <td>460</td>\n",
       "      <td>0</td>\n",
       "      <td>0</td>\n",
       "      <td>0</td>\n",
       "      <td>A</td>\n",
       "      <td>Adamsville city</td>\n",
       "      <td>Alabama</td>\n",
       "      <td>4522</td>\n",
       "      <td>4522</td>\n",
       "      <td>4517</td>\n",
       "      <td>4495</td>\n",
       "      <td>4472</td>\n",
       "      <td>4447</td>\n",
       "      <td>4428</td>\n",
       "      <td>4395</td>\n",
       "      <td>4360</td>\n",
       "    </tr>\n",
       "    <tr>\n",
       "      <th>3</th>\n",
       "      <td>162</td>\n",
       "      <td>1</td>\n",
       "      <td>0</td>\n",
       "      <td>484</td>\n",
       "      <td>0</td>\n",
       "      <td>0</td>\n",
       "      <td>0</td>\n",
       "      <td>A</td>\n",
       "      <td>Addison town</td>\n",
       "      <td>Alabama</td>\n",
       "      <td>758</td>\n",
       "      <td>756</td>\n",
       "      <td>754</td>\n",
       "      <td>753</td>\n",
       "      <td>748</td>\n",
       "      <td>748</td>\n",
       "      <td>747</td>\n",
       "      <td>740</td>\n",
       "      <td>738</td>\n",
       "    </tr>\n",
       "    <tr>\n",
       "      <th>4</th>\n",
       "      <td>162</td>\n",
       "      <td>1</td>\n",
       "      <td>0</td>\n",
       "      <td>676</td>\n",
       "      <td>0</td>\n",
       "      <td>0</td>\n",
       "      <td>0</td>\n",
       "      <td>A</td>\n",
       "      <td>Akron town</td>\n",
       "      <td>Alabama</td>\n",
       "      <td>356</td>\n",
       "      <td>356</td>\n",
       "      <td>355</td>\n",
       "      <td>345</td>\n",
       "      <td>345</td>\n",
       "      <td>342</td>\n",
       "      <td>337</td>\n",
       "      <td>337</td>\n",
       "      <td>334</td>\n",
       "    </tr>\n",
       "  </tbody>\n",
       "</table>\n",
       "</div>"
      ],
      "text/plain": [
       "   SUMLEV  STATE  COUNTY  PLACE  COUSUB  CONCIT  PRIMGEO_FLAG FUNCSTAT  \\\n",
       "0      40      1       0      0       0       0             0        A   \n",
       "1     162      1       0    124       0       0             0        A   \n",
       "2     162      1       0    460       0       0             0        A   \n",
       "3     162      1       0    484       0       0             0        A   \n",
       "4     162      1       0    676       0       0             0        A   \n",
       "\n",
       "              NAME   STNAME CENSUS2010POP  ESTIMATESBASE2010  POPESTIMATE2010  \\\n",
       "0          Alabama  Alabama       4779736            4780131          4785492   \n",
       "1   Abbeville city  Alabama          2688               2688             2683   \n",
       "2  Adamsville city  Alabama          4522               4522             4517   \n",
       "3     Addison town  Alabama           758                756              754   \n",
       "4       Akron town  Alabama           356                356              355   \n",
       "\n",
       "   POPESTIMATE2011  POPESTIMATE2012  POPESTIMATE2013  POPESTIMATE2014  \\\n",
       "0          4799918          4815960          4829479          4843214   \n",
       "1             2685             2647             2631             2619   \n",
       "2             4495             4472             4447             4428   \n",
       "3              753              748              748              747   \n",
       "4              345              345              342              337   \n",
       "\n",
       "   POPESTIMATE2015  POPESTIMATE2016  \n",
       "0          4853875          4863300  \n",
       "1             2616             2603  \n",
       "2             4395             4360  \n",
       "3              740              738  \n",
       "4              337              334  "
      ]
     },
     "execution_count": 6,
     "metadata": {},
     "output_type": "execute_result"
    }
   ],
   "source": [
    "data2.head()"
   ]
  },
  {
   "cell_type": "markdown",
   "metadata": {},
   "source": [
    "# convert columns into rows..."
   ]
  },
  {
   "cell_type": "code",
   "execution_count": 7,
   "metadata": {
    "collapsed": true
   },
   "outputs": [],
   "source": [
    "data1t = pd.melt(data1, id_vars=[\"sumlev\", \"STATE\", \"COUNTY\", \"place\", \"COUSUB\", \"name\", \"STATENAME\"],\n",
    "                 var_name=\"Date\", \n",
    "                 value_name=\"Value\")"
   ]
  },
  {
   "cell_type": "code",
   "execution_count": 8,
   "metadata": {
    "collapsed": true
   },
   "outputs": [],
   "source": [
    "data2t = pd.melt(data2, id_vars=[\"SUMLEV\", \"STATE\", \"COUNTY\", \"PLACE\", \"COUSUB\", \"CONCIT\", \"PRIMGEO_FLAG\", \"FUNCSTAT\", \"NAME\", \"STNAME\"], \n",
    "                 var_name=\"Date\", \n",
    "                 value_name=\"Value\")"
   ]
  },
  {
   "cell_type": "code",
   "execution_count": 9,
   "metadata": {},
   "outputs": [
    {
     "data": {
      "text/html": [
       "<div>\n",
       "<style>\n",
       "    .dataframe thead tr:only-child th {\n",
       "        text-align: right;\n",
       "    }\n",
       "\n",
       "    .dataframe thead th {\n",
       "        text-align: left;\n",
       "    }\n",
       "\n",
       "    .dataframe tbody tr th {\n",
       "        vertical-align: top;\n",
       "    }\n",
       "</style>\n",
       "<table border=\"1\" class=\"dataframe\">\n",
       "  <thead>\n",
       "    <tr style=\"text-align: right;\">\n",
       "      <th></th>\n",
       "      <th>sumlev</th>\n",
       "      <th>STATE</th>\n",
       "      <th>COUNTY</th>\n",
       "      <th>place</th>\n",
       "      <th>COUSUB</th>\n",
       "      <th>name</th>\n",
       "      <th>STATENAME</th>\n",
       "      <th>Date</th>\n",
       "      <th>Value</th>\n",
       "    </tr>\n",
       "  </thead>\n",
       "  <tbody>\n",
       "    <tr>\n",
       "      <th>0</th>\n",
       "      <td>40</td>\n",
       "      <td>1</td>\n",
       "      <td>0</td>\n",
       "      <td>0</td>\n",
       "      <td>0</td>\n",
       "      <td>Alabama</td>\n",
       "      <td>Alabama</td>\n",
       "      <td>POPCENSUS_2000</td>\n",
       "      <td>4447100</td>\n",
       "    </tr>\n",
       "    <tr>\n",
       "      <th>1</th>\n",
       "      <td>162</td>\n",
       "      <td>1</td>\n",
       "      <td>0</td>\n",
       "      <td>124</td>\n",
       "      <td>0</td>\n",
       "      <td>Abbeville city</td>\n",
       "      <td>Alabama</td>\n",
       "      <td>POPCENSUS_2000</td>\n",
       "      <td>2987</td>\n",
       "    </tr>\n",
       "    <tr>\n",
       "      <th>2</th>\n",
       "      <td>162</td>\n",
       "      <td>1</td>\n",
       "      <td>0</td>\n",
       "      <td>460</td>\n",
       "      <td>0</td>\n",
       "      <td>Adamsville city</td>\n",
       "      <td>Alabama</td>\n",
       "      <td>POPCENSUS_2000</td>\n",
       "      <td>4965</td>\n",
       "    </tr>\n",
       "    <tr>\n",
       "      <th>3</th>\n",
       "      <td>162</td>\n",
       "      <td>1</td>\n",
       "      <td>0</td>\n",
       "      <td>484</td>\n",
       "      <td>0</td>\n",
       "      <td>Addison town</td>\n",
       "      <td>Alabama</td>\n",
       "      <td>POPCENSUS_2000</td>\n",
       "      <td>723</td>\n",
       "    </tr>\n",
       "    <tr>\n",
       "      <th>4</th>\n",
       "      <td>162</td>\n",
       "      <td>1</td>\n",
       "      <td>0</td>\n",
       "      <td>676</td>\n",
       "      <td>0</td>\n",
       "      <td>Akron town</td>\n",
       "      <td>Alabama</td>\n",
       "      <td>POPCENSUS_2000</td>\n",
       "      <td>521</td>\n",
       "    </tr>\n",
       "  </tbody>\n",
       "</table>\n",
       "</div>"
      ],
      "text/plain": [
       "   sumlev  STATE  COUNTY  place  COUSUB             name STATENAME  \\\n",
       "0      40      1       0      0       0          Alabama   Alabama   \n",
       "1     162      1       0    124       0   Abbeville city   Alabama   \n",
       "2     162      1       0    460       0  Adamsville city   Alabama   \n",
       "3     162      1       0    484       0     Addison town   Alabama   \n",
       "4     162      1       0    676       0       Akron town   Alabama   \n",
       "\n",
       "             Date    Value  \n",
       "0  POPCENSUS_2000  4447100  \n",
       "1  POPCENSUS_2000     2987  \n",
       "2  POPCENSUS_2000     4965  \n",
       "3  POPCENSUS_2000      723  \n",
       "4  POPCENSUS_2000      521  "
      ]
     },
     "execution_count": 9,
     "metadata": {},
     "output_type": "execute_result"
    }
   ],
   "source": [
    "data1t.head()"
   ]
  },
  {
   "cell_type": "code",
   "execution_count": 10,
   "metadata": {},
   "outputs": [
    {
     "data": {
      "text/html": [
       "<div>\n",
       "<style>\n",
       "    .dataframe thead tr:only-child th {\n",
       "        text-align: right;\n",
       "    }\n",
       "\n",
       "    .dataframe thead th {\n",
       "        text-align: left;\n",
       "    }\n",
       "\n",
       "    .dataframe tbody tr th {\n",
       "        vertical-align: top;\n",
       "    }\n",
       "</style>\n",
       "<table border=\"1\" class=\"dataframe\">\n",
       "  <thead>\n",
       "    <tr style=\"text-align: right;\">\n",
       "      <th></th>\n",
       "      <th>SUMLEV</th>\n",
       "      <th>STATE</th>\n",
       "      <th>COUNTY</th>\n",
       "      <th>PLACE</th>\n",
       "      <th>COUSUB</th>\n",
       "      <th>CONCIT</th>\n",
       "      <th>PRIMGEO_FLAG</th>\n",
       "      <th>FUNCSTAT</th>\n",
       "      <th>NAME</th>\n",
       "      <th>STNAME</th>\n",
       "      <th>Date</th>\n",
       "      <th>Value</th>\n",
       "    </tr>\n",
       "  </thead>\n",
       "  <tbody>\n",
       "    <tr>\n",
       "      <th>0</th>\n",
       "      <td>40</td>\n",
       "      <td>1</td>\n",
       "      <td>0</td>\n",
       "      <td>0</td>\n",
       "      <td>0</td>\n",
       "      <td>0</td>\n",
       "      <td>0</td>\n",
       "      <td>A</td>\n",
       "      <td>Alabama</td>\n",
       "      <td>Alabama</td>\n",
       "      <td>CENSUS2010POP</td>\n",
       "      <td>4779736</td>\n",
       "    </tr>\n",
       "    <tr>\n",
       "      <th>1</th>\n",
       "      <td>162</td>\n",
       "      <td>1</td>\n",
       "      <td>0</td>\n",
       "      <td>124</td>\n",
       "      <td>0</td>\n",
       "      <td>0</td>\n",
       "      <td>0</td>\n",
       "      <td>A</td>\n",
       "      <td>Abbeville city</td>\n",
       "      <td>Alabama</td>\n",
       "      <td>CENSUS2010POP</td>\n",
       "      <td>2688</td>\n",
       "    </tr>\n",
       "    <tr>\n",
       "      <th>2</th>\n",
       "      <td>162</td>\n",
       "      <td>1</td>\n",
       "      <td>0</td>\n",
       "      <td>460</td>\n",
       "      <td>0</td>\n",
       "      <td>0</td>\n",
       "      <td>0</td>\n",
       "      <td>A</td>\n",
       "      <td>Adamsville city</td>\n",
       "      <td>Alabama</td>\n",
       "      <td>CENSUS2010POP</td>\n",
       "      <td>4522</td>\n",
       "    </tr>\n",
       "    <tr>\n",
       "      <th>3</th>\n",
       "      <td>162</td>\n",
       "      <td>1</td>\n",
       "      <td>0</td>\n",
       "      <td>484</td>\n",
       "      <td>0</td>\n",
       "      <td>0</td>\n",
       "      <td>0</td>\n",
       "      <td>A</td>\n",
       "      <td>Addison town</td>\n",
       "      <td>Alabama</td>\n",
       "      <td>CENSUS2010POP</td>\n",
       "      <td>758</td>\n",
       "    </tr>\n",
       "    <tr>\n",
       "      <th>4</th>\n",
       "      <td>162</td>\n",
       "      <td>1</td>\n",
       "      <td>0</td>\n",
       "      <td>676</td>\n",
       "      <td>0</td>\n",
       "      <td>0</td>\n",
       "      <td>0</td>\n",
       "      <td>A</td>\n",
       "      <td>Akron town</td>\n",
       "      <td>Alabama</td>\n",
       "      <td>CENSUS2010POP</td>\n",
       "      <td>356</td>\n",
       "    </tr>\n",
       "  </tbody>\n",
       "</table>\n",
       "</div>"
      ],
      "text/plain": [
       "   SUMLEV  STATE  COUNTY  PLACE  COUSUB  CONCIT  PRIMGEO_FLAG FUNCSTAT  \\\n",
       "0      40      1       0      0       0       0             0        A   \n",
       "1     162      1       0    124       0       0             0        A   \n",
       "2     162      1       0    460       0       0             0        A   \n",
       "3     162      1       0    484       0       0             0        A   \n",
       "4     162      1       0    676       0       0             0        A   \n",
       "\n",
       "              NAME   STNAME           Date    Value  \n",
       "0          Alabama  Alabama  CENSUS2010POP  4779736  \n",
       "1   Abbeville city  Alabama  CENSUS2010POP     2688  \n",
       "2  Adamsville city  Alabama  CENSUS2010POP     4522  \n",
       "3     Addison town  Alabama  CENSUS2010POP      758  \n",
       "4       Akron town  Alabama  CENSUS2010POP      356  "
      ]
     },
     "execution_count": 10,
     "metadata": {},
     "output_type": "execute_result"
    }
   ],
   "source": [
    "data2t.head()"
   ]
  },
  {
   "cell_type": "markdown",
   "metadata": {},
   "source": [
    "# select relevant rows"
   ]
  },
  {
   "cell_type": "code",
   "execution_count": 11,
   "metadata": {
    "collapsed": true
   },
   "outputs": [],
   "source": [
    "data1ts = data1t[(data1t.sumlev==162) & (data1t.Date.str.contains(\"POP_\"))].copy()"
   ]
  },
  {
   "cell_type": "code",
   "execution_count": 12,
   "metadata": {},
   "outputs": [
    {
     "data": {
      "text/html": [
       "<div>\n",
       "<style>\n",
       "    .dataframe thead tr:only-child th {\n",
       "        text-align: right;\n",
       "    }\n",
       "\n",
       "    .dataframe thead th {\n",
       "        text-align: left;\n",
       "    }\n",
       "\n",
       "    .dataframe tbody tr th {\n",
       "        vertical-align: top;\n",
       "    }\n",
       "</style>\n",
       "<table border=\"1\" class=\"dataframe\">\n",
       "  <thead>\n",
       "    <tr style=\"text-align: right;\">\n",
       "      <th></th>\n",
       "      <th>sumlev</th>\n",
       "      <th>STATE</th>\n",
       "      <th>COUNTY</th>\n",
       "      <th>place</th>\n",
       "      <th>COUSUB</th>\n",
       "      <th>name</th>\n",
       "      <th>STATENAME</th>\n",
       "      <th>Date</th>\n",
       "      <th>Value</th>\n",
       "    </tr>\n",
       "  </thead>\n",
       "  <tbody>\n",
       "    <tr>\n",
       "      <th>163407</th>\n",
       "      <td>162</td>\n",
       "      <td>1</td>\n",
       "      <td>0</td>\n",
       "      <td>124</td>\n",
       "      <td>0</td>\n",
       "      <td>Abbeville city</td>\n",
       "      <td>Alabama</td>\n",
       "      <td>POP_2000</td>\n",
       "      <td>2987</td>\n",
       "    </tr>\n",
       "    <tr>\n",
       "      <th>163408</th>\n",
       "      <td>162</td>\n",
       "      <td>1</td>\n",
       "      <td>0</td>\n",
       "      <td>460</td>\n",
       "      <td>0</td>\n",
       "      <td>Adamsville city</td>\n",
       "      <td>Alabama</td>\n",
       "      <td>POP_2000</td>\n",
       "      <td>5069</td>\n",
       "    </tr>\n",
       "    <tr>\n",
       "      <th>163409</th>\n",
       "      <td>162</td>\n",
       "      <td>1</td>\n",
       "      <td>0</td>\n",
       "      <td>484</td>\n",
       "      <td>0</td>\n",
       "      <td>Addison town</td>\n",
       "      <td>Alabama</td>\n",
       "      <td>POP_2000</td>\n",
       "      <td>724</td>\n",
       "    </tr>\n",
       "    <tr>\n",
       "      <th>163410</th>\n",
       "      <td>162</td>\n",
       "      <td>1</td>\n",
       "      <td>0</td>\n",
       "      <td>676</td>\n",
       "      <td>0</td>\n",
       "      <td>Akron town</td>\n",
       "      <td>Alabama</td>\n",
       "      <td>POP_2000</td>\n",
       "      <td>449</td>\n",
       "    </tr>\n",
       "    <tr>\n",
       "      <th>163411</th>\n",
       "      <td>162</td>\n",
       "      <td>1</td>\n",
       "      <td>0</td>\n",
       "      <td>820</td>\n",
       "      <td>0</td>\n",
       "      <td>Alabaster city</td>\n",
       "      <td>Alabama</td>\n",
       "      <td>POP_2000</td>\n",
       "      <td>24099</td>\n",
       "    </tr>\n",
       "  </tbody>\n",
       "</table>\n",
       "</div>"
      ],
      "text/plain": [
       "        sumlev  STATE  COUNTY  place  COUSUB             name STATENAME  \\\n",
       "163407     162      1       0    124       0   Abbeville city   Alabama   \n",
       "163408     162      1       0    460       0  Adamsville city   Alabama   \n",
       "163409     162      1       0    484       0     Addison town   Alabama   \n",
       "163410     162      1       0    676       0       Akron town   Alabama   \n",
       "163411     162      1       0    820       0   Alabaster city   Alabama   \n",
       "\n",
       "            Date  Value  \n",
       "163407  POP_2000   2987  \n",
       "163408  POP_2000   5069  \n",
       "163409  POP_2000    724  \n",
       "163410  POP_2000    449  \n",
       "163411  POP_2000  24099  "
      ]
     },
     "execution_count": 12,
     "metadata": {},
     "output_type": "execute_result"
    }
   ],
   "source": [
    "data1ts.head()"
   ]
  },
  {
   "cell_type": "code",
   "execution_count": 13,
   "metadata": {
    "collapsed": true
   },
   "outputs": [],
   "source": [
    "data2ts = data2t[(data2t.SUMLEV==162) & (data2t.Date.str.contains(\"POPESTIMATE\"))].copy()"
   ]
  },
  {
   "cell_type": "code",
   "execution_count": 14,
   "metadata": {},
   "outputs": [
    {
     "data": {
      "text/html": [
       "<div>\n",
       "<style>\n",
       "    .dataframe thead tr:only-child th {\n",
       "        text-align: right;\n",
       "    }\n",
       "\n",
       "    .dataframe thead th {\n",
       "        text-align: left;\n",
       "    }\n",
       "\n",
       "    .dataframe tbody tr th {\n",
       "        vertical-align: top;\n",
       "    }\n",
       "</style>\n",
       "<table border=\"1\" class=\"dataframe\">\n",
       "  <thead>\n",
       "    <tr style=\"text-align: right;\">\n",
       "      <th></th>\n",
       "      <th>SUMLEV</th>\n",
       "      <th>STATE</th>\n",
       "      <th>COUNTY</th>\n",
       "      <th>PLACE</th>\n",
       "      <th>COUSUB</th>\n",
       "      <th>CONCIT</th>\n",
       "      <th>PRIMGEO_FLAG</th>\n",
       "      <th>FUNCSTAT</th>\n",
       "      <th>NAME</th>\n",
       "      <th>STNAME</th>\n",
       "      <th>Date</th>\n",
       "      <th>Value</th>\n",
       "    </tr>\n",
       "  </thead>\n",
       "  <tbody>\n",
       "    <tr>\n",
       "      <th>163171</th>\n",
       "      <td>162</td>\n",
       "      <td>1</td>\n",
       "      <td>0</td>\n",
       "      <td>124</td>\n",
       "      <td>0</td>\n",
       "      <td>0</td>\n",
       "      <td>0</td>\n",
       "      <td>A</td>\n",
       "      <td>Abbeville city</td>\n",
       "      <td>Alabama</td>\n",
       "      <td>POPESTIMATE2010</td>\n",
       "      <td>2683</td>\n",
       "    </tr>\n",
       "    <tr>\n",
       "      <th>163172</th>\n",
       "      <td>162</td>\n",
       "      <td>1</td>\n",
       "      <td>0</td>\n",
       "      <td>460</td>\n",
       "      <td>0</td>\n",
       "      <td>0</td>\n",
       "      <td>0</td>\n",
       "      <td>A</td>\n",
       "      <td>Adamsville city</td>\n",
       "      <td>Alabama</td>\n",
       "      <td>POPESTIMATE2010</td>\n",
       "      <td>4517</td>\n",
       "    </tr>\n",
       "    <tr>\n",
       "      <th>163173</th>\n",
       "      <td>162</td>\n",
       "      <td>1</td>\n",
       "      <td>0</td>\n",
       "      <td>484</td>\n",
       "      <td>0</td>\n",
       "      <td>0</td>\n",
       "      <td>0</td>\n",
       "      <td>A</td>\n",
       "      <td>Addison town</td>\n",
       "      <td>Alabama</td>\n",
       "      <td>POPESTIMATE2010</td>\n",
       "      <td>754</td>\n",
       "    </tr>\n",
       "    <tr>\n",
       "      <th>163174</th>\n",
       "      <td>162</td>\n",
       "      <td>1</td>\n",
       "      <td>0</td>\n",
       "      <td>676</td>\n",
       "      <td>0</td>\n",
       "      <td>0</td>\n",
       "      <td>0</td>\n",
       "      <td>A</td>\n",
       "      <td>Akron town</td>\n",
       "      <td>Alabama</td>\n",
       "      <td>POPESTIMATE2010</td>\n",
       "      <td>355</td>\n",
       "    </tr>\n",
       "    <tr>\n",
       "      <th>163175</th>\n",
       "      <td>162</td>\n",
       "      <td>1</td>\n",
       "      <td>0</td>\n",
       "      <td>820</td>\n",
       "      <td>0</td>\n",
       "      <td>0</td>\n",
       "      <td>0</td>\n",
       "      <td>A</td>\n",
       "      <td>Alabaster city</td>\n",
       "      <td>Alabama</td>\n",
       "      <td>POPESTIMATE2010</td>\n",
       "      <td>31176</td>\n",
       "    </tr>\n",
       "  </tbody>\n",
       "</table>\n",
       "</div>"
      ],
      "text/plain": [
       "        SUMLEV  STATE  COUNTY  PLACE  COUSUB  CONCIT  PRIMGEO_FLAG FUNCSTAT  \\\n",
       "163171     162      1       0    124       0       0             0        A   \n",
       "163172     162      1       0    460       0       0             0        A   \n",
       "163173     162      1       0    484       0       0             0        A   \n",
       "163174     162      1       0    676       0       0             0        A   \n",
       "163175     162      1       0    820       0       0             0        A   \n",
       "\n",
       "                   NAME   STNAME             Date  Value  \n",
       "163171   Abbeville city  Alabama  POPESTIMATE2010   2683  \n",
       "163172  Adamsville city  Alabama  POPESTIMATE2010   4517  \n",
       "163173     Addison town  Alabama  POPESTIMATE2010    754  \n",
       "163174       Akron town  Alabama  POPESTIMATE2010    355  \n",
       "163175   Alabaster city  Alabama  POPESTIMATE2010  31176  "
      ]
     },
     "execution_count": 14,
     "metadata": {},
     "output_type": "execute_result"
    }
   ],
   "source": [
    "data2ts.head()"
   ]
  },
  {
   "cell_type": "markdown",
   "metadata": {},
   "source": [
    "# standardize column set and column names"
   ]
  },
  {
   "cell_type": "code",
   "execution_count": 15,
   "metadata": {
    "collapsed": true
   },
   "outputs": [],
   "source": [
    "data1ts.drop(['sumlev','STATE','COUNTY','place','COUSUB'], axis=1, inplace=True)"
   ]
  },
  {
   "cell_type": "code",
   "execution_count": 16,
   "metadata": {
    "collapsed": true
   },
   "outputs": [],
   "source": [
    "data1ts.rename(columns={\"name\": \"City\", \"STATENAME\": \"State\"}, inplace=True)"
   ]
  },
  {
   "cell_type": "code",
   "execution_count": 17,
   "metadata": {
    "collapsed": true
   },
   "outputs": [],
   "source": [
    "data1ts.Date = data1ts.Date.str.replace(\"POP_\", \"\")"
   ]
  },
  {
   "cell_type": "code",
   "execution_count": 18,
   "metadata": {},
   "outputs": [
    {
     "data": {
      "text/html": [
       "<div>\n",
       "<style>\n",
       "    .dataframe thead tr:only-child th {\n",
       "        text-align: right;\n",
       "    }\n",
       "\n",
       "    .dataframe thead th {\n",
       "        text-align: left;\n",
       "    }\n",
       "\n",
       "    .dataframe tbody tr th {\n",
       "        vertical-align: top;\n",
       "    }\n",
       "</style>\n",
       "<table border=\"1\" class=\"dataframe\">\n",
       "  <thead>\n",
       "    <tr style=\"text-align: right;\">\n",
       "      <th></th>\n",
       "      <th>City</th>\n",
       "      <th>State</th>\n",
       "      <th>Date</th>\n",
       "      <th>Value</th>\n",
       "    </tr>\n",
       "  </thead>\n",
       "  <tbody>\n",
       "    <tr>\n",
       "      <th>163407</th>\n",
       "      <td>Abbeville city</td>\n",
       "      <td>Alabama</td>\n",
       "      <td>2000</td>\n",
       "      <td>2987</td>\n",
       "    </tr>\n",
       "    <tr>\n",
       "      <th>163408</th>\n",
       "      <td>Adamsville city</td>\n",
       "      <td>Alabama</td>\n",
       "      <td>2000</td>\n",
       "      <td>5069</td>\n",
       "    </tr>\n",
       "    <tr>\n",
       "      <th>163409</th>\n",
       "      <td>Addison town</td>\n",
       "      <td>Alabama</td>\n",
       "      <td>2000</td>\n",
       "      <td>724</td>\n",
       "    </tr>\n",
       "    <tr>\n",
       "      <th>163410</th>\n",
       "      <td>Akron town</td>\n",
       "      <td>Alabama</td>\n",
       "      <td>2000</td>\n",
       "      <td>449</td>\n",
       "    </tr>\n",
       "    <tr>\n",
       "      <th>163411</th>\n",
       "      <td>Alabaster city</td>\n",
       "      <td>Alabama</td>\n",
       "      <td>2000</td>\n",
       "      <td>24099</td>\n",
       "    </tr>\n",
       "  </tbody>\n",
       "</table>\n",
       "</div>"
      ],
      "text/plain": [
       "                   City    State  Date  Value\n",
       "163407   Abbeville city  Alabama  2000   2987\n",
       "163408  Adamsville city  Alabama  2000   5069\n",
       "163409     Addison town  Alabama  2000    724\n",
       "163410       Akron town  Alabama  2000    449\n",
       "163411   Alabaster city  Alabama  2000  24099"
      ]
     },
     "execution_count": 18,
     "metadata": {},
     "output_type": "execute_result"
    }
   ],
   "source": [
    "data1ts.head()"
   ]
  },
  {
   "cell_type": "code",
   "execution_count": 19,
   "metadata": {
    "collapsed": true
   },
   "outputs": [],
   "source": [
    "data2ts.drop(['SUMLEV','STATE','COUNTY','PLACE','COUSUB','CONCIT','PRIMGEO_FLAG','FUNCSTAT'], axis=1, inplace=True)"
   ]
  },
  {
   "cell_type": "code",
   "execution_count": 20,
   "metadata": {
    "collapsed": true
   },
   "outputs": [],
   "source": [
    "data2ts.rename(columns={\"NAME\":\"City\", \"STNAME\":\"State\"}, inplace=True)"
   ]
  },
  {
   "cell_type": "code",
   "execution_count": 21,
   "metadata": {
    "collapsed": true
   },
   "outputs": [],
   "source": [
    "data2ts.Date = data2ts.Date.str.replace(\"POPESTIMATE\", \"\")"
   ]
  },
  {
   "cell_type": "code",
   "execution_count": 22,
   "metadata": {},
   "outputs": [
    {
     "data": {
      "text/html": [
       "<div>\n",
       "<style>\n",
       "    .dataframe thead tr:only-child th {\n",
       "        text-align: right;\n",
       "    }\n",
       "\n",
       "    .dataframe thead th {\n",
       "        text-align: left;\n",
       "    }\n",
       "\n",
       "    .dataframe tbody tr th {\n",
       "        vertical-align: top;\n",
       "    }\n",
       "</style>\n",
       "<table border=\"1\" class=\"dataframe\">\n",
       "  <thead>\n",
       "    <tr style=\"text-align: right;\">\n",
       "      <th></th>\n",
       "      <th>City</th>\n",
       "      <th>State</th>\n",
       "      <th>Date</th>\n",
       "      <th>Value</th>\n",
       "    </tr>\n",
       "  </thead>\n",
       "  <tbody>\n",
       "    <tr>\n",
       "      <th>163171</th>\n",
       "      <td>Abbeville city</td>\n",
       "      <td>Alabama</td>\n",
       "      <td>2010</td>\n",
       "      <td>2683</td>\n",
       "    </tr>\n",
       "    <tr>\n",
       "      <th>163172</th>\n",
       "      <td>Adamsville city</td>\n",
       "      <td>Alabama</td>\n",
       "      <td>2010</td>\n",
       "      <td>4517</td>\n",
       "    </tr>\n",
       "    <tr>\n",
       "      <th>163173</th>\n",
       "      <td>Addison town</td>\n",
       "      <td>Alabama</td>\n",
       "      <td>2010</td>\n",
       "      <td>754</td>\n",
       "    </tr>\n",
       "    <tr>\n",
       "      <th>163174</th>\n",
       "      <td>Akron town</td>\n",
       "      <td>Alabama</td>\n",
       "      <td>2010</td>\n",
       "      <td>355</td>\n",
       "    </tr>\n",
       "    <tr>\n",
       "      <th>163175</th>\n",
       "      <td>Alabaster city</td>\n",
       "      <td>Alabama</td>\n",
       "      <td>2010</td>\n",
       "      <td>31176</td>\n",
       "    </tr>\n",
       "  </tbody>\n",
       "</table>\n",
       "</div>"
      ],
      "text/plain": [
       "                   City    State  Date  Value\n",
       "163171   Abbeville city  Alabama  2010   2683\n",
       "163172  Adamsville city  Alabama  2010   4517\n",
       "163173     Addison town  Alabama  2010    754\n",
       "163174       Akron town  Alabama  2010    355\n",
       "163175   Alabaster city  Alabama  2010  31176"
      ]
     },
     "execution_count": 22,
     "metadata": {},
     "output_type": "execute_result"
    }
   ],
   "source": [
    "data2ts.head()"
   ]
  },
  {
   "cell_type": "markdown",
   "metadata": {},
   "source": [
    "# merge the two data sets together"
   ]
  },
  {
   "cell_type": "code",
   "execution_count": 23,
   "metadata": {},
   "outputs": [
    {
     "data": {
      "text/plain": [
       "195100"
      ]
     },
     "execution_count": 23,
     "metadata": {},
     "output_type": "execute_result"
    }
   ],
   "source": [
    "len(data1ts)"
   ]
  },
  {
   "cell_type": "code",
   "execution_count": 24,
   "metadata": {},
   "outputs": [
    {
     "data": {
      "text/plain": [
       "136570"
      ]
     },
     "execution_count": 24,
     "metadata": {},
     "output_type": "execute_result"
    }
   ],
   "source": [
    "len(data2ts)"
   ]
  },
  {
   "cell_type": "code",
   "execution_count": 25,
   "metadata": {},
   "outputs": [
    {
     "data": {
      "text/plain": [
       "331670"
      ]
     },
     "execution_count": 25,
     "metadata": {},
     "output_type": "execute_result"
    }
   ],
   "source": [
    "len(data1ts)+len(data2ts)"
   ]
  },
  {
   "cell_type": "code",
   "execution_count": 26,
   "metadata": {
    "collapsed": true
   },
   "outputs": [],
   "source": [
    "frames = [data1ts, data2ts]"
   ]
  },
  {
   "cell_type": "code",
   "execution_count": 27,
   "metadata": {
    "collapsed": true
   },
   "outputs": [],
   "source": [
    "data = pd.concat(frames)"
   ]
  },
  {
   "cell_type": "code",
   "execution_count": 28,
   "metadata": {},
   "outputs": [
    {
     "data": {
      "text/plain": [
       "331670"
      ]
     },
     "execution_count": 28,
     "metadata": {},
     "output_type": "execute_result"
    }
   ],
   "source": [
    "len(data)"
   ]
  },
  {
   "cell_type": "markdown",
   "metadata": {},
   "source": [
    "# show some simple plots"
   ]
  },
  {
   "cell_type": "code",
   "execution_count": 29,
   "metadata": {
    "collapsed": true
   },
   "outputs": [],
   "source": [
    "cityName = \"San Diego city\"\n",
    "stateName = \"California\""
   ]
  },
  {
   "cell_type": "code",
   "execution_count": 30,
   "metadata": {
    "collapsed": true
   },
   "outputs": [],
   "source": [
    "cityData = data[(data.City==cityName) & (data.State==stateName)]"
   ]
  },
  {
   "cell_type": "code",
   "execution_count": 31,
   "metadata": {},
   "outputs": [
    {
     "data": {
      "text/html": [
       "<div>\n",
       "<style>\n",
       "    .dataframe thead tr:only-child th {\n",
       "        text-align: right;\n",
       "    }\n",
       "\n",
       "    .dataframe thead th {\n",
       "        text-align: left;\n",
       "    }\n",
       "\n",
       "    .dataframe tbody tr th {\n",
       "        vertical-align: top;\n",
       "    }\n",
       "</style>\n",
       "<table border=\"1\" class=\"dataframe\">\n",
       "  <thead>\n",
       "    <tr style=\"text-align: right;\">\n",
       "      <th></th>\n",
       "      <th>City</th>\n",
       "      <th>State</th>\n",
       "      <th>Date</th>\n",
       "      <th>Value</th>\n",
       "    </tr>\n",
       "  </thead>\n",
       "  <tbody>\n",
       "    <tr>\n",
       "      <th>166614</th>\n",
       "      <td>San Diego city</td>\n",
       "      <td>California</td>\n",
       "      <td>2000</td>\n",
       "      <td>1226804</td>\n",
       "    </tr>\n",
       "    <tr>\n",
       "      <th>248317</th>\n",
       "      <td>San Diego city</td>\n",
       "      <td>California</td>\n",
       "      <td>2001</td>\n",
       "      <td>1235642</td>\n",
       "    </tr>\n",
       "    <tr>\n",
       "      <th>330020</th>\n",
       "      <td>San Diego city</td>\n",
       "      <td>California</td>\n",
       "      <td>2002</td>\n",
       "      <td>1248417</td>\n",
       "    </tr>\n",
       "    <tr>\n",
       "      <th>411723</th>\n",
       "      <td>San Diego city</td>\n",
       "      <td>California</td>\n",
       "      <td>2003</td>\n",
       "      <td>1263423</td>\n",
       "    </tr>\n",
       "    <tr>\n",
       "      <th>493426</th>\n",
       "      <td>San Diego city</td>\n",
       "      <td>California</td>\n",
       "      <td>2004</td>\n",
       "      <td>1274878</td>\n",
       "    </tr>\n",
       "    <tr>\n",
       "      <th>575129</th>\n",
       "      <td>San Diego city</td>\n",
       "      <td>California</td>\n",
       "      <td>2005</td>\n",
       "      <td>1284347</td>\n",
       "    </tr>\n",
       "    <tr>\n",
       "      <th>656832</th>\n",
       "      <td>San Diego city</td>\n",
       "      <td>California</td>\n",
       "      <td>2006</td>\n",
       "      <td>1294071</td>\n",
       "    </tr>\n",
       "    <tr>\n",
       "      <th>738535</th>\n",
       "      <td>San Diego city</td>\n",
       "      <td>California</td>\n",
       "      <td>2007</td>\n",
       "      <td>1297624</td>\n",
       "    </tr>\n",
       "    <tr>\n",
       "      <th>820238</th>\n",
       "      <td>San Diego city</td>\n",
       "      <td>California</td>\n",
       "      <td>2008</td>\n",
       "      <td>1305754</td>\n",
       "    </tr>\n",
       "    <tr>\n",
       "      <th>901941</th>\n",
       "      <td>San Diego city</td>\n",
       "      <td>California</td>\n",
       "      <td>2009</td>\n",
       "      <td>1306300</td>\n",
       "    </tr>\n",
       "    <tr>\n",
       "      <th>166388</th>\n",
       "      <td>San Diego city</td>\n",
       "      <td>California</td>\n",
       "      <td>2010</td>\n",
       "      <td>1306153</td>\n",
       "    </tr>\n",
       "    <tr>\n",
       "      <th>247973</th>\n",
       "      <td>San Diego city</td>\n",
       "      <td>California</td>\n",
       "      <td>2011</td>\n",
       "      <td>1320686</td>\n",
       "    </tr>\n",
       "    <tr>\n",
       "      <th>329558</th>\n",
       "      <td>San Diego city</td>\n",
       "      <td>California</td>\n",
       "      <td>2012</td>\n",
       "      <td>1338983</td>\n",
       "    </tr>\n",
       "    <tr>\n",
       "      <th>411143</th>\n",
       "      <td>San Diego city</td>\n",
       "      <td>California</td>\n",
       "      <td>2013</td>\n",
       "      <td>1358242</td>\n",
       "    </tr>\n",
       "    <tr>\n",
       "      <th>492728</th>\n",
       "      <td>San Diego city</td>\n",
       "      <td>California</td>\n",
       "      <td>2014</td>\n",
       "      <td>1379299</td>\n",
       "    </tr>\n",
       "    <tr>\n",
       "      <th>574313</th>\n",
       "      <td>San Diego city</td>\n",
       "      <td>California</td>\n",
       "      <td>2015</td>\n",
       "      <td>1390915</td>\n",
       "    </tr>\n",
       "    <tr>\n",
       "      <th>655898</th>\n",
       "      <td>San Diego city</td>\n",
       "      <td>California</td>\n",
       "      <td>2016</td>\n",
       "      <td>1406630</td>\n",
       "    </tr>\n",
       "  </tbody>\n",
       "</table>\n",
       "</div>"
      ],
      "text/plain": [
       "                  City       State  Date    Value\n",
       "166614  San Diego city  California  2000  1226804\n",
       "248317  San Diego city  California  2001  1235642\n",
       "330020  San Diego city  California  2002  1248417\n",
       "411723  San Diego city  California  2003  1263423\n",
       "493426  San Diego city  California  2004  1274878\n",
       "575129  San Diego city  California  2005  1284347\n",
       "656832  San Diego city  California  2006  1294071\n",
       "738535  San Diego city  California  2007  1297624\n",
       "820238  San Diego city  California  2008  1305754\n",
       "901941  San Diego city  California  2009  1306300\n",
       "166388  San Diego city  California  2010  1306153\n",
       "247973  San Diego city  California  2011  1320686\n",
       "329558  San Diego city  California  2012  1338983\n",
       "411143  San Diego city  California  2013  1358242\n",
       "492728  San Diego city  California  2014  1379299\n",
       "574313  San Diego city  California  2015  1390915\n",
       "655898  San Diego city  California  2016  1406630"
      ]
     },
     "execution_count": 31,
     "metadata": {},
     "output_type": "execute_result"
    }
   ],
   "source": [
    "cityData"
   ]
  },
  {
   "cell_type": "code",
   "execution_count": 32,
   "metadata": {},
   "outputs": [
    {
     "data": {
      "text/plain": [
       "<matplotlib.text.Text at 0x138fafd0>"
      ]
     },
     "execution_count": 32,
     "metadata": {},
     "output_type": "execute_result"
    },
    {
     "data": {
      "image/png": "[encoded data removed]",
      "text/plain": [
       "<matplotlib.figure.Figure at 0x1345c278>"
      ]
     },
     "metadata": {},
     "output_type": "display_data"
    }
   ],
   "source": [
    "plt.plot(cityData.Date.astype('int'), cityData.Value)\n",
    "plt.title(\"{} Population\".format(cityName))\n",
    "plt.ylabel(\"Population\")\n",
    "plt.xlabel(\"Year\")"
   ]
  },
  {
   "cell_type": "code",
   "execution_count": 33,
   "metadata": {},
   "outputs": [],
   "source": [
    "locations = [('Phoenix city', 'Arizona'), \n",
    "             ('Philadelphia city','Pennsylvania'), \n",
    "             ('San Antonio city', 'Texas'), \n",
    "             ('San Diego city','California'),\n",
    "             ('Dallas city', 'Texas')]"
   ]
  },
  {
   "cell_type": "code",
   "execution_count": 34,
   "metadata": {},
   "outputs": [
    {
     "data": {
      "text/plain": [
       "Index(['City', 'State', 'Date', 'Value'], dtype='object')"
      ]
     },
     "execution_count": 34,
     "metadata": {},
     "output_type": "execute_result"
    }
   ],
   "source": [
    "data.columns"
   ]
  },
  {
   "cell_type": "code",
   "execution_count": 35,
   "metadata": {
    "collapsed": true
   },
   "outputs": [],
   "source": [
    "selection = pd.DataFrame(columns=data.columns)"
   ]
  },
  {
   "cell_type": "code",
   "execution_count": 36,
   "metadata": {},
   "outputs": [
    {
     "data": {
      "text/html": [
       "<div>\n",
       "<style>\n",
       "    .dataframe thead tr:only-child th {\n",
       "        text-align: right;\n",
       "    }\n",
       "\n",
       "    .dataframe thead th {\n",
       "        text-align: left;\n",
       "    }\n",
       "\n",
       "    .dataframe tbody tr th {\n",
       "        vertical-align: top;\n",
       "    }\n",
       "</style>\n",
       "<table border=\"1\" class=\"dataframe\">\n",
       "  <thead>\n",
       "    <tr style=\"text-align: right;\">\n",
       "      <th></th>\n",
       "      <th>City</th>\n",
       "      <th>State</th>\n",
       "      <th>Date</th>\n",
       "      <th>Value</th>\n",
       "    </tr>\n",
       "  </thead>\n",
       "  <tbody>\n",
       "  </tbody>\n",
       "</table>\n",
       "</div>"
      ],
      "text/plain": [
       "Empty DataFrame\n",
       "Columns: [City, State, Date, Value]\n",
       "Index: []"
      ]
     },
     "execution_count": 36,
     "metadata": {},
     "output_type": "execute_result"
    }
   ],
   "source": [
    "selection"
   ]
  },
  {
   "cell_type": "code",
   "execution_count": 37,
   "metadata": {
    "collapsed": true
   },
   "outputs": [],
   "source": [
    "for city, state in locations:\n",
    "    query = data[(data.City==city) & (data.State==state)]\n",
    "    frames = [selection, query]\n",
    "    selection = pd.concat(frames)"
   ]
  },
  {
   "cell_type": "code",
   "execution_count": 38,
   "metadata": {},
   "outputs": [
    {
     "name": "stdout",
     "output_type": "stream",
     "text": [
      "                City    State  Date    Value\n",
      "164909  Phoenix city  Arizona  2000  1326997\n",
      "246612  Phoenix city  Arizona  2001  1348132\n",
      "328315  Phoenix city  Arizona  2002  1371454\n",
      "410018  Phoenix city  Arizona  2003  1392602\n",
      "491721  Phoenix city  Arizona  2004  1424000 \n",
      "                City  State  Date    Value\n",
      "397960  Dallas city  Texas  2012  1241624\n",
      "479545  Dallas city  Texas  2013  1258016\n",
      "561130  Dallas city  Texas  2014  1277376\n",
      "642715  Dallas city  Texas  2015  1297327\n",
      "724300  Dallas city  Texas  2016  1317929\n"
     ]
    }
   ],
   "source": [
    "print(selection.head(),\"\\n\", selection.tail())"
   ]
  },
  {
   "cell_type": "markdown",
   "metadata": {},
   "source": [
    "# plot the city populations"
   ]
  },
  {
   "cell_type": "code",
   "execution_count": 52,
   "metadata": {},
   "outputs": [
    {
     "data": {
      "image/png": "[encoded data removed]",
      "text/plain": [
       "<matplotlib.figure.Figure at 0x1c4c6860>"
      ]
     },
     "metadata": {},
     "output_type": "display_data"
    }
   ],
   "source": [
    "fig = plt.figure()\n",
    "ax = plt.subplot(111)\n",
    "\n",
    "legends = []\n",
    "for key, grp in selection.groupby(['City']): \n",
    "    #print(\"key: {}, grp: {}\".format(key, type(grp)))\n",
    "    x = grp.Date # list([datetime.datetime.strptime(d,'%Y/%m').date() for d in grp.date.values])\n",
    "    y = grp.Value # list(grp.value.values)\n",
    "    ax.plot(x, y, label=key)\n",
    "    legends.append(key)\n",
    "\n",
    "box = ax.get_position()\n",
    "ax.set_position([box.x0, box.y0, box.width * 0.8, box.height])\n",
    "\n",
    "ax.legend(loc='center left', bbox_to_anchor=(1, 0.5))\n",
    "ax.set_title(\"Population, 2000-2016\")\n",
    "ax.set_ylabel(\"Number of People\")\n",
    "ax.set_xlabel(\"Year\")\n",
    "fig.autofmt_xdate()\n",
    "\n",
    "plt.show()"
   ]
  },
  {
   "cell_type": "markdown",
   "metadata": {},
   "source": [
    "# plot the city populations using log scale"
   ]
  },
  {
   "cell_type": "code",
   "execution_count": 42,
   "metadata": {},
   "outputs": [
    {
     "data": {
      "image/png": "[encoded data removed]",
      "text/plain": [
       "<matplotlib.figure.Figure at 0x1bf7f0f0>"
      ]
     },
     "metadata": {},
     "output_type": "display_data"
    }
   ],
   "source": [
    "fig, ax = plt.subplots()\n",
    "\n",
    "for key, grp in selection.groupby(['City']): \n",
    "    #print(\"key: {}, grp: {}\".format(key, type(grp)))\n",
    "    x = grp.Date # list([datetime.datetime.strptime(d,'%Y/%m').date() for d in grp.date.values])\n",
    "    y = grp.Value # list(grp.value.values)\n",
    "    ax.set_yscale('log')\n",
    "    ax.set_ylim(500000, 10000000)\n",
    "    ax.plot(x, y, label=key)"
   ]
  },
  {
   "cell_type": "markdown",
   "metadata": {},
   "source": [
    "# plot city populations separately"
   ]
  },
  {
   "cell_type": "code",
   "execution_count": 43,
   "metadata": {},
   "outputs": [
    {
     "name": "stdout",
     "output_type": "stream",
     "text": [
      "key: Dallas city, grp: <class 'pandas.core.frame.DataFrame'>\n",
      "key: Philadelphia city, grp: <class 'pandas.core.frame.DataFrame'>\n",
      "key: Phoenix city, grp: <class 'pandas.core.frame.DataFrame'>\n",
      "key: San Antonio city, grp: <class 'pandas.core.frame.DataFrame'>\n",
      "key: San Diego city, grp: <class 'pandas.core.frame.DataFrame'>\n"
     ]
    },
    {
     "data": {
      "image/png": "[encoded data removed]",
      "text/plain": [
       "<matplotlib.figure.Figure at 0x1c2f5ac8>"
      ]
     },
     "metadata": {},
     "output_type": "display_data"
    }
   ],
   "source": [
    "import matplotlib.dates as mdates\n",
    "\n",
    "fig, axs = plt.subplots(5, sharex=True)\n",
    "fig.subplots_adjust(hspace=5.0)\n",
    "\n",
    "count = 0\n",
    "for key, grp in selection.groupby(['City']): \n",
    "    print(\"key: {}, grp: {}\".format(key, type(grp)))\n",
    "    x = grp.Date # list([datetime.datetime.strptime(d,'%Y/%m').date() for d in grp.date.values])\n",
    "    y = grp.Value # list(grp.value.values)\n",
    "    ax = axs[count]\n",
    "    ax.plot(x, y, label=key)\n",
    "    ax.set_ylim(min(y), max(y))\n",
    "    ax.fmt_xdata = mdates.DateFormatter('%Y')\n",
    "    ax.set_title(\"{}\".format(key))\n",
    "    #ax.legend(key, loc='upper right', bbox_to_anchor=(1.2, 1.15))\n",
    "    count += 1\n",
    "\n",
    "fig.autofmt_xdate()\n",
    "fig.tight_layout()\n",
    "plt.show()"
   ]
  },
  {
   "cell_type": "code",
   "execution_count": 44,
   "metadata": {},
   "outputs": [
    {
     "name": "stdout",
     "output_type": "stream",
     "text": [
      "key: Dallas city, grp: <class 'pandas.core.frame.DataFrame'>\n",
      "key: Philadelphia city, grp: <class 'pandas.core.frame.DataFrame'>\n",
      "key: Phoenix city, grp: <class 'pandas.core.frame.DataFrame'>\n",
      "key: San Antonio city, grp: <class 'pandas.core.frame.DataFrame'>\n",
      "key: San Diego city, grp: <class 'pandas.core.frame.DataFrame'>\n"
     ]
    },
    {
     "data": {
      "image/png": "[encoded data removed]",
      "text/plain": [
       "<matplotlib.figure.Figure at 0x1c3f4dd8>"
      ]
     },
     "metadata": {},
     "output_type": "display_data"
    }
   ],
   "source": [
    "import datetime\n",
    "import numpy as np\n",
    "import matplotlib.pyplot as plt\n",
    "import matplotlib.dates as mdates\n",
    "import matplotlib.cbook as cbook\n",
    "from matplotlib.ticker import FormatStrFormatter\n",
    "\n",
    "years = mdates.YearLocator()   # every year\n",
    "months = mdates.MonthLocator()  # every month\n",
    "yearsFmt = mdates.DateFormatter('%Y')\n",
    "\n",
    "fig = plt.figure(figsize=(4.8, 6.4))\n",
    "\n",
    "count = 1\n",
    "for key, grp in selection.groupby(['City']): \n",
    "    print(\"key: {}, grp: {}\".format(key, type(grp)))\n",
    "    x = grp.Date  # list([datetime.datetime.strptime(d,'%Y/%m').date() for d in grp.date.values])\n",
    "    y = grp.Value # list(grp.value.values)\n",
    "    plt.subplot(5, 1, count)\n",
    "    plt.title(\"{}\".format(key))\n",
    "    plt.plot(x, y)\n",
    "    count += 1\n",
    "\n",
    "fig.autofmt_xdate()\n",
    "fig.tight_layout()\n",
    "plt.gca().xaxis.set_major_formatter(FormatStrFormatter('%d')) \n",
    "plt.show()"
   ]
  },
  {
   "cell_type": "markdown",
   "metadata": {},
   "source": [
    "# look at population as growth rate"
   ]
  },
  {
   "cell_type": "code",
   "execution_count": 263,
   "metadata": {},
   "outputs": [
    {
     "name": "stdout",
     "output_type": "stream",
     "text": [
      "key: Baltimore city, grp: <class 'pandas.core.frame.DataFrame'>\n",
      "key: Boston city, grp: <class 'pandas.core.frame.DataFrame'>\n",
      "key: New York city, grp: <class 'pandas.core.frame.DataFrame'>\n",
      "key: Philadelphia city, grp: <class 'pandas.core.frame.DataFrame'>\n",
      "key: Washington city, grp: <class 'pandas.core.frame.DataFrame'>\n"
     ]
    },
    {
     "data": {
      "image/png": "[encoded data removed]",
      "text/plain": [
       "<matplotlib.figure.Figure at 0x221a1080>"
      ]
     },
     "metadata": {},
     "output_type": "display_data"
    }
   ],
   "source": [
    "import matplotlib.dates as mdates\n",
    "\n",
    "fig, axs = plt.subplots(5, sharex=True)\n",
    "fig.subplots_adjust(hspace=5.0)\n",
    "\n",
    "count = 0\n",
    "for key, grp in selection.groupby(['City']): \n",
    "    print(\"key: {}, grp: {}\".format(key, type(grp)))\n",
    "    # x = grp.Date # list([datetime.datetime.strptime(d,'%Y/%m').date() for d in grp.date.values])\n",
    "    # y = grp.Value # list(grp.value.values)\n",
    "    deltas = (grp.Value.values[1:] - grp.Value.values[:-1])*100.0\n",
    "    y = deltas / grp.Value.values[:-1]\n",
    "    x = np.arange(len(y))\n",
    "    ax = axs[count]\n",
    "    ax.plot(x, y, label=key)\n",
    "    ax.set_ylim(min(y), max(y))\n",
    "    ax.fmt_xdata = mdates.DateFormatter('%Y')\n",
    "    ax.set_title(\"{}\".format(key))\n",
    "    #ax.legend(key, loc='upper right', bbox_to_anchor=(1.2, 1.15))\n",
    "    count += 1\n",
    "\n",
    "fig.autofmt_xdate()\n",
    "fig.tight_layout()\n",
    "plt.show()"
   ]
  },
  {
   "cell_type": "code",
   "execution_count": null,
   "metadata": {
    "collapsed": true
   },
   "outputs": [],
   "source": []
  }
 ],
 "metadata": {
  "kernelspec": {
   "display_name": "Python 3",
   "language": "python",
   "name": "python3"
  },
  "language_info": {
   "codemirror_mode": {
    "name": "ipython",
    "version": 3
   },
   "file_extension": ".py",
   "mimetype": "text/x-python",
   "name": "python",
   "nbconvert_exporter": "python",
   "pygments_lexer": "ipython3",
   "version": "3.6.1"
  }
 },
 "nbformat": 4,
 "nbformat_minor": 2
}
