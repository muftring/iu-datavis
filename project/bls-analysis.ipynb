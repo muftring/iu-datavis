{
 "cells": [
  {
   "cell_type": "code",
   "execution_count": 10,
   "metadata": {
    "collapsed": true
   },
   "outputs": [],
   "source": [
    "import requests\n",
    "import json\n",
    "import prettytable\n",
    "\n",
    "import pandas as pd\n",
    "import numpy as np\n",
    "import matplotlib.pyplot as plt\n",
    "\n",
    "%matplotlib inline"
   ]
  },
  {
   "cell_type": "markdown",
   "metadata": {},
   "source": [
    "# code to: decode Months and Dates"
   ]
  },
  {
   "cell_type": "code",
   "execution_count": 11,
   "metadata": {
    "collapsed": true
   },
   "outputs": [],
   "source": [
    "code2month = {\n",
    "    \"M01\" : \"January\",\n",
    "    \"M02\" : \"February\",\n",
    "    \"M03\" : \"March\",\n",
    "    \"M04\" : \"April\",\n",
    "    \"M05\" : \"May\",\n",
    "    \"M06\" : \"June\",\n",
    "    \"M07\" : \"July\",\n",
    "    \"M08\" : \"August\",\n",
    "    \"M09\" : \"September\",\n",
    "    \"M10\" : \"October\",\n",
    "    \"M11\" : \"November\",\n",
    "    \"M12\" : \"December\"\n",
    "}\n",
    "\n",
    "month2number = {\n",
    "    \"January\" : \"01\",\n",
    "    \"February\" : \"02\",\n",
    "    \"March\" : \"03\",\n",
    "    \"April\" : \"04\",\n",
    "    \"May\" : \"05\",\n",
    "    \"June\" : \"06\",\n",
    "    \"July\" : \"07\",\n",
    "    \"August\" : \"08\",\n",
    "    \"September\" : \"09\",\n",
    "    \"October\" : \"10\",\n",
    "    \"November\" : \"11\",\n",
    "    \"December\" : \"12\"\n",
    "}\n",
    "\n",
    "def dateFrom(year, month):\n",
    "    return \"{}/{}\".format(year,month2number[month])\n"
   ]
  },
  {
   "cell_type": "markdown",
   "metadata": {},
   "source": [
    "# code to: decode the City/Town"
   ]
  },
  {
   "cell_type": "code",
   "execution_count": 12,
   "metadata": {
    "collapsed": true
   },
   "outputs": [],
   "source": [
    "code2citytown = {}\n",
    "citytown2code = {}\n",
    "\n",
    "file = open(\"bls-cities-and-towns.raw\", \"r\")\n",
    "\n",
    "count = 0\n",
    "for line in file.readlines():\n",
    "    count += 1\n",
    "    ignore, code, citytownstate = line.rstrip().split(\">\", 2)[1].split(\" \",2)\n",
    "    citytown, state = citytownstate.split(\",\")\n",
    "    code2citytown[code]=citytown\n",
    "    citytown2code[citytown]=code\n",
    "    #print(\"line: {} code: {} citytownstate: {}, citytown: {}, state: {}\".format(count, code, citytownstate, citytown, state))\n",
    "\n",
    "file.close()\n",
    "\n",
    "def decodeCityTown(s):\n",
    "    code = s[3:len(s)-2]\n",
    "    return code2citytown[code]\n",
    "\n",
    "import re\n",
    "def searchDictionary(d, city):\n",
    "    #print(\"searching for:\", city)\n",
    "    res = []\n",
    "    for key in d.keys():\n",
    "        if re.match(city, key):\n",
    "            res.append(d[key])\n",
    "    return res\n",
    "\n",
    "def findCityTownCode(city):\n",
    "    return searchDictionary(citytown2code, city)\n"
   ]
  },
  {
   "cell_type": "markdown",
   "metadata": {},
   "source": [
    "# code to: decode the State"
   ]
  },
  {
   "cell_type": "code",
   "execution_count": 13,
   "metadata": {
    "collapsed": true
   },
   "outputs": [],
   "source": [
    "code2state = {}\n",
    "\n",
    "file = open(\"bls-state-codes.raw\", \"r\")\n",
    "\n",
    "count = 0\n",
    "for line in file.readlines():\n",
    "    count += 1\n",
    "    ignore, code, state = line.rstrip().split(\">\", 2)[1].split(\" \",2)\n",
    "    code2state[code]=state\n",
    "    #print(\"line: {} code: {} state: {}\".format(count, code, state))\n",
    "\n",
    "file.close()\n",
    "\n",
    "def decodeState(s):\n",
    "    code = s[5:7]\n",
    "    return code2state[code]\n"
   ]
  },
  {
   "cell_type": "markdown",
   "metadata": {},
   "source": [
    "# code to: decode the Measure"
   ]
  },
  {
   "cell_type": "code",
   "execution_count": 31,
   "metadata": {},
   "outputs": [],
   "source": [
    "code2measure = {\n",
    "    \"03\" : \"unemployment-rate\",\n",
    "    \"04\" : \"unemployment\",\n",
    "    \"05\" : \"employment\",\n",
    "    \"06\" : \"labor-force\"\n",
    "}\n",
    "\n",
    "measure2Code = {\n",
    "    \"unemployment-rate\" : \"03\",\n",
    "    \"unemployment\" : \"04\",\n",
    "    \"employment\" : \"05\",\n",
    "    \"labor-force\" : \"06\"\n",
    "}\n",
    "\n",
    "def findMeasureCode(s):\n",
    "    return measure2Code[s]\n",
    "\n",
    "def decodeMeasure(s):\n",
    "    code = s[len(s)-2:]\n",
    "    return code2measure[code]\n"
   ]
  },
  {
   "cell_type": "markdown",
   "metadata": {},
   "source": [
    "# input parameters for data request"
   ]
  },
  {
   "cell_type": "code",
   "execution_count": 58,
   "metadata": {
    "collapsed": true
   },
   "outputs": [],
   "source": [
    "city = \"Philadelphia\"\n",
    "startYear = 2008\n",
    "endYear = 2017\n",
    "\n",
    "seasonalAdjustment = \"no\"\n",
    "measure = \"unemployment-rate\""
   ]
  },
  {
   "cell_type": "markdown",
   "metadata": {},
   "source": [
    "# construct the BLS Series ID"
   ]
  },
  {
   "cell_type": "code",
   "execution_count": 59,
   "metadata": {},
   "outputs": [],
   "source": [
    "dataSet = \"LA\"\n",
    "\n",
    "if seasonalAdjustment == \"yes\":\n",
    "    saCode = \"S\"\n",
    "else:\n",
    "    saCode = \"U\"\n",
    "\n",
    "cityCode = findCityTownCode(city)\n",
    "\n",
    "measureCode = findMeasureCode(measure)\n",
    "\n",
    "# an array of strings which represent BLS Series IDs\n",
    "# seriesID = ['LAUMT423798000000003']\n",
    "# seriesID = ['LAUCT426000000000003']\n",
    "\n",
    "seriesID = [\"{}{}{}{}\".format(dataSet, saCode, cityCode[0], measureCode)]"
   ]
  },
  {
   "cell_type": "code",
   "execution_count": 60,
   "metadata": {},
   "outputs": [
    {
     "name": "stdout",
     "output_type": "stream",
     "text": [
      "['LAUCT426000000000003']\n"
     ]
    }
   ],
   "source": [
    "print(seriesID)"
   ]
  },
  {
   "cell_type": "markdown",
   "metadata": {},
   "source": [
    "# build the data request"
   ]
  },
  {
   "cell_type": "code",
   "execution_count": 61,
   "metadata": {
    "collapsed": true
   },
   "outputs": [],
   "source": [
    "headers = {'Content-type': 'application/json'}\n",
    "data = json.dumps({\"seriesid\": seriesID,\"startyear\":\"{}\".format(startYear), \"endyear\":\"{}\".format(endYear)})"
   ]
  },
  {
   "cell_type": "markdown",
   "metadata": {},
   "source": [
    "# send the request"
   ]
  },
  {
   "cell_type": "code",
   "execution_count": 62,
   "metadata": {
    "collapsed": true
   },
   "outputs": [],
   "source": [
    "# get the data using API\n",
    "p = requests.post('https://api.bls.gov/publicAPI/v1/timeseries/data/', data=data, headers=headers)"
   ]
  },
  {
   "cell_type": "markdown",
   "metadata": {},
   "source": [
    "# extract the JSON data payload from the response"
   ]
  },
  {
   "cell_type": "code",
   "execution_count": 63,
   "metadata": {
    "collapsed": true
   },
   "outputs": [],
   "source": [
    "json_data = json.loads(p.text)"
   ]
  },
  {
   "cell_type": "markdown",
   "metadata": {},
   "source": [
    "# define the resulting dataset columns"
   ]
  },
  {
   "cell_type": "code",
   "execution_count": 64,
   "metadata": {
    "collapsed": true
   },
   "outputs": [],
   "source": [
    "colNames = [\"seriesid\",\"year\",\"month\",\"period\",\"date\",\"state\",\"city\",\"measure\",\"value\",\"footnotes\"]"
   ]
  },
  {
   "cell_type": "markdown",
   "metadata": {},
   "source": [
    "# extract and process the JSON payload into a *PrettyTable*  and a plain Python array..."
   ]
  },
  {
   "cell_type": "code",
   "execution_count": 65,
   "metadata": {
    "collapsed": true
   },
   "outputs": [],
   "source": [
    "data = []\n",
    "for series in json_data['Results']['series']:\n",
    "    x=prettytable.PrettyTable(colNames)\n",
    "    seriesId = series['seriesID']\n",
    "    for item in series['data']:\n",
    "        year = item['year']\n",
    "        period = item['period']\n",
    "        month = code2month[period]\n",
    "        date = dateFrom(year, month)\n",
    "        state = decodeState(seriesId)\n",
    "        city = decodeCityTown(seriesId)\n",
    "        measure = decodeMeasure(seriesId)\n",
    "        value = item['value']\n",
    "        footnotes=\"\"\n",
    "        for footnote in item['footnotes']:\n",
    "            if footnote:\n",
    "                footnotes = footnotes + footnote['text'] + ','\n",
    "        if 'M01' <= period <= 'M12':\n",
    "            row = [seriesId,year,month,period,date,state,city,measure,value,footnotes[0:-1]]\n",
    "            x.add_row(row)\n",
    "            data.append(row)"
   ]
  },
  {
   "cell_type": "markdown",
   "metadata": {},
   "source": [
    "# create a *DataFrame*"
   ]
  },
  {
   "cell_type": "code",
   "execution_count": 66,
   "metadata": {
    "collapsed": true
   },
   "outputs": [],
   "source": [
    "df = pd.DataFrame(data, columns=colNames)"
   ]
  },
  {
   "cell_type": "code",
   "execution_count": 67,
   "metadata": {},
   "outputs": [
    {
     "data": {
      "text/html": [
       "<div>\n",
       "<style>\n",
       "    .dataframe thead tr:only-child th {\n",
       "        text-align: right;\n",
       "    }\n",
       "\n",
       "    .dataframe thead th {\n",
       "        text-align: left;\n",
       "    }\n",
       "\n",
       "    .dataframe tbody tr th {\n",
       "        vertical-align: top;\n",
       "    }\n",
       "</style>\n",
       "<table border=\"1\" class=\"dataframe\">\n",
       "  <thead>\n",
       "    <tr style=\"text-align: right;\">\n",
       "      <th></th>\n",
       "      <th>seriesid</th>\n",
       "      <th>year</th>\n",
       "      <th>month</th>\n",
       "      <th>period</th>\n",
       "      <th>date</th>\n",
       "      <th>state</th>\n",
       "      <th>city</th>\n",
       "      <th>measure</th>\n",
       "      <th>value</th>\n",
       "      <th>footnotes</th>\n",
       "    </tr>\n",
       "  </thead>\n",
       "  <tbody>\n",
       "    <tr>\n",
       "      <th>0</th>\n",
       "      <td>LAUCT426000000000003</td>\n",
       "      <td>2017</td>\n",
       "      <td>August</td>\n",
       "      <td>M08</td>\n",
       "      <td>2017/08</td>\n",
       "      <td>Pennsylvania</td>\n",
       "      <td>Philadelphia County/city</td>\n",
       "      <td>unemployment-rate</td>\n",
       "      <td>6.7</td>\n",
       "      <td>Preliminary.</td>\n",
       "    </tr>\n",
       "    <tr>\n",
       "      <th>1</th>\n",
       "      <td>LAUCT426000000000003</td>\n",
       "      <td>2017</td>\n",
       "      <td>July</td>\n",
       "      <td>M07</td>\n",
       "      <td>2017/07</td>\n",
       "      <td>Pennsylvania</td>\n",
       "      <td>Philadelphia County/city</td>\n",
       "      <td>unemployment-rate</td>\n",
       "      <td>6.9</td>\n",
       "      <td></td>\n",
       "    </tr>\n",
       "    <tr>\n",
       "      <th>2</th>\n",
       "      <td>LAUCT426000000000003</td>\n",
       "      <td>2017</td>\n",
       "      <td>June</td>\n",
       "      <td>M06</td>\n",
       "      <td>2017/06</td>\n",
       "      <td>Pennsylvania</td>\n",
       "      <td>Philadelphia County/city</td>\n",
       "      <td>unemployment-rate</td>\n",
       "      <td>6.4</td>\n",
       "      <td></td>\n",
       "    </tr>\n",
       "    <tr>\n",
       "      <th>3</th>\n",
       "      <td>LAUCT426000000000003</td>\n",
       "      <td>2017</td>\n",
       "      <td>May</td>\n",
       "      <td>M05</td>\n",
       "      <td>2017/05</td>\n",
       "      <td>Pennsylvania</td>\n",
       "      <td>Philadelphia County/city</td>\n",
       "      <td>unemployment-rate</td>\n",
       "      <td>6.7</td>\n",
       "      <td></td>\n",
       "    </tr>\n",
       "    <tr>\n",
       "      <th>4</th>\n",
       "      <td>LAUCT426000000000003</td>\n",
       "      <td>2017</td>\n",
       "      <td>April</td>\n",
       "      <td>M04</td>\n",
       "      <td>2017/04</td>\n",
       "      <td>Pennsylvania</td>\n",
       "      <td>Philadelphia County/city</td>\n",
       "      <td>unemployment-rate</td>\n",
       "      <td>5.9</td>\n",
       "      <td></td>\n",
       "    </tr>\n",
       "  </tbody>\n",
       "</table>\n",
       "</div>"
      ],
      "text/plain": [
       "               seriesid  year   month period     date         state  \\\n",
       "0  LAUCT426000000000003  2017  August    M08  2017/08  Pennsylvania   \n",
       "1  LAUCT426000000000003  2017    July    M07  2017/07  Pennsylvania   \n",
       "2  LAUCT426000000000003  2017    June    M06  2017/06  Pennsylvania   \n",
       "3  LAUCT426000000000003  2017     May    M05  2017/05  Pennsylvania   \n",
       "4  LAUCT426000000000003  2017   April    M04  2017/04  Pennsylvania   \n",
       "\n",
       "                       city            measure value     footnotes  \n",
       "0  Philadelphia County/city  unemployment-rate   6.7  Preliminary.  \n",
       "1  Philadelphia County/city  unemployment-rate   6.9                \n",
       "2  Philadelphia County/city  unemployment-rate   6.4                \n",
       "3  Philadelphia County/city  unemployment-rate   6.7                \n",
       "4  Philadelphia County/city  unemployment-rate   5.9                "
      ]
     },
     "execution_count": 67,
     "metadata": {},
     "output_type": "execute_result"
    }
   ],
   "source": [
    "df.head()"
   ]
  },
  {
   "cell_type": "markdown",
   "metadata": {},
   "source": [
    "# load the national unemployment data\n",
    "file created from data presented at: http://www.ncsl.org/research/labor-and-employment/national-employment-monthly-update.aspx"
   ]
  },
  {
   "cell_type": "code",
   "execution_count": 68,
   "metadata": {
    "collapsed": true
   },
   "outputs": [],
   "source": [
    "file = open(\"bls-national-unemployment.raw\", \"r\")\n",
    "data = []\n",
    "\n",
    "count = 0\n",
    "for line in file.readlines():\n",
    "    count += 1\n",
    "    line2 = re.sub(' +',' ', line.rstrip())\n",
    "    fields = [f.strip() for f in line2.split(\"\\t\")]\n",
    "    #print(count,fields)\n",
    "    data.append(fields)\n",
    "    \n",
    "file.close()"
   ]
  },
  {
   "cell_type": "code",
   "execution_count": 69,
   "metadata": {
    "collapsed": true
   },
   "outputs": [],
   "source": [
    "data2 = []\n",
    "for i in range(1, len(data)):\n",
    "    #print(i, data[i])\n",
    "    row = data[i]\n",
    "    year = row[0]\n",
    "    for j in range(1,len(row)):\n",
    "        month = \"{0:02}\".format(j)\n",
    "        #print(i,j,year,month,row[j])\n",
    "        row2 = [\"national-unemployment\",\"{}/{}\".format(year,month),row[j]]\n",
    "        data2.append(row2)"
   ]
  },
  {
   "cell_type": "code",
   "execution_count": 70,
   "metadata": {
    "collapsed": true
   },
   "outputs": [],
   "source": [
    "df2 = pd.DataFrame(data2, columns=[\"measure\",\"date\",\"value\"])\n",
    "df2 = df2.sort_values('date')"
   ]
  },
  {
   "cell_type": "code",
   "execution_count": 71,
   "metadata": {},
   "outputs": [
    {
     "data": {
      "text/html": [
       "<div>\n",
       "<style>\n",
       "    .dataframe thead tr:only-child th {\n",
       "        text-align: right;\n",
       "    }\n",
       "\n",
       "    .dataframe thead th {\n",
       "        text-align: left;\n",
       "    }\n",
       "\n",
       "    .dataframe tbody tr th {\n",
       "        vertical-align: top;\n",
       "    }\n",
       "</style>\n",
       "<table border=\"1\" class=\"dataframe\">\n",
       "  <thead>\n",
       "    <tr style=\"text-align: right;\">\n",
       "      <th></th>\n",
       "      <th>measure</th>\n",
       "      <th>date</th>\n",
       "      <th>value</th>\n",
       "    </tr>\n",
       "  </thead>\n",
       "  <tbody>\n",
       "    <tr>\n",
       "      <th>105</th>\n",
       "      <td>national-unemployment</td>\n",
       "      <td>2008/01</td>\n",
       "      <td>4.9</td>\n",
       "    </tr>\n",
       "    <tr>\n",
       "      <th>106</th>\n",
       "      <td>national-unemployment</td>\n",
       "      <td>2008/02</td>\n",
       "      <td>4.8</td>\n",
       "    </tr>\n",
       "    <tr>\n",
       "      <th>107</th>\n",
       "      <td>national-unemployment</td>\n",
       "      <td>2008/03</td>\n",
       "      <td>5.1</td>\n",
       "    </tr>\n",
       "    <tr>\n",
       "      <th>108</th>\n",
       "      <td>national-unemployment</td>\n",
       "      <td>2008/04</td>\n",
       "      <td>5.0</td>\n",
       "    </tr>\n",
       "    <tr>\n",
       "      <th>109</th>\n",
       "      <td>national-unemployment</td>\n",
       "      <td>2008/05</td>\n",
       "      <td>5.5</td>\n",
       "    </tr>\n",
       "  </tbody>\n",
       "</table>\n",
       "</div>"
      ],
      "text/plain": [
       "                   measure     date value\n",
       "105  national-unemployment  2008/01   4.9\n",
       "106  national-unemployment  2008/02   4.8\n",
       "107  national-unemployment  2008/03   5.1\n",
       "108  national-unemployment  2008/04   5.0\n",
       "109  national-unemployment  2008/05   5.5"
      ]
     },
     "execution_count": 71,
     "metadata": {},
     "output_type": "execute_result"
    }
   ],
   "source": [
    "df2.head()"
   ]
  },
  {
   "cell_type": "markdown",
   "metadata": {},
   "source": [
    "# plot the city data\n",
    "(this is based on the Matplotlib example here: https://matplotlib.org/examples/api/date_demo.html )"
   ]
  },
  {
   "cell_type": "code",
   "execution_count": 72,
   "metadata": {},
   "outputs": [
    {
     "data": {
      "image/png": "[encoded data removed]",
      "text/plain": [
       "<matplotlib.figure.Figure at 0x117074898>"
      ]
     },
     "metadata": {},
     "output_type": "display_data"
    }
   ],
   "source": [
    "\"\"\"\n",
    "================\n",
    "Date tick labels\n",
    "================\n",
    "\n",
    "Show how to make date plots in matplotlib using date tick locators and\n",
    "formatters.  See major_minor_demo1.py for more information on\n",
    "controlling major and minor ticks\n",
    "\n",
    "All matplotlib date plotting is done by converting date instances into\n",
    "days since the 0001-01-01 UTC.  The conversion, tick locating and\n",
    "formatting is done behind the scenes so this is most transparent to\n",
    "you.  The dates module provides several converter functions date2num\n",
    "and num2date\n",
    "\n",
    "\"\"\"\n",
    "import datetime\n",
    "import numpy as np\n",
    "import matplotlib.pyplot as plt\n",
    "import matplotlib.dates as mdates\n",
    "import matplotlib.cbook as cbook\n",
    "\n",
    "years = mdates.YearLocator()   # every year\n",
    "months = mdates.MonthLocator()  # every month\n",
    "yearsFmt = mdates.DateFormatter('%Y')\n",
    "\n",
    "x = list([datetime.datetime.strptime(d,'%Y/%m').date() for d in df.date.values])\n",
    "y = list(df.value.values)\n",
    "\n",
    "fig, ax = plt.subplots()\n",
    "ax.plot(x, y)\n",
    "\n",
    "\n",
    "# format the ticks\n",
    "ax.xaxis.set_major_locator(years)\n",
    "ax.xaxis.set_major_formatter(yearsFmt)\n",
    "ax.xaxis.set_minor_locator(months)\n",
    "\n",
    "datemin = datetime.date(min(x).year, 1, 1)\n",
    "datemax = datetime.date(max(x).year + 1, 1, 1)\n",
    "ax.set_xlim(datemin, datemax)\n",
    "\n",
    "\n",
    "# format the coords message box\n",
    "def price(x):\n",
    "    return '%1.2f' % x\n",
    "ax.format_xdata = mdates.DateFormatter('%Y-%m')\n",
    "ax.format_ydata = price\n",
    "ax.grid(True)\n",
    "\n",
    "# rotates and right aligns the x labels, and moves the bottom of the\n",
    "# axes up to make room for them\n",
    "fig.autofmt_xdate()\n",
    "\n",
    "plt.show()"
   ]
  },
  {
   "cell_type": "markdown",
   "metadata": {},
   "source": [
    "# plot the national data"
   ]
  },
  {
   "cell_type": "code",
   "execution_count": 53,
   "metadata": {},
   "outputs": [
    {
     "data": {
      "image/png": "[encoded data removed]",
      "text/plain": [
       "<matplotlib.figure.Figure at 0x11f1ff358>"
      ]
     },
     "metadata": {},
     "output_type": "display_data"
    }
   ],
   "source": [
    "import datetime\n",
    "import numpy as np\n",
    "import matplotlib.pyplot as plt\n",
    "import matplotlib.dates as mdates\n",
    "import matplotlib.cbook as cbook\n",
    "\n",
    "years = mdates.YearLocator()   # every year\n",
    "months = mdates.MonthLocator()  # every month\n",
    "yearsFmt = mdates.DateFormatter('%Y')\n",
    "\n",
    "x = list([datetime.datetime.strptime(d,'%Y/%m').date() for d in df2.date.values])\n",
    "y = list(df2.value.values)\n",
    "\n",
    "fig, ax = plt.subplots()\n",
    "ax.plot(x, y)\n",
    "\n",
    "\n",
    "# format the ticks\n",
    "ax.xaxis.set_major_locator(years)\n",
    "ax.xaxis.set_major_formatter(yearsFmt)\n",
    "ax.xaxis.set_minor_locator(months)\n",
    "\n",
    "datemin = datetime.date(min(x).year, 1, 1)\n",
    "datemax = datetime.date(max(x).year + 1, 1, 1)\n",
    "ax.set_xlim(datemin, datemax)\n",
    "\n",
    "\n",
    "# format the coords message box\n",
    "def price(x):\n",
    "    return '%1.2f' % x\n",
    "ax.format_xdata = mdates.DateFormatter('%Y-%m')\n",
    "ax.format_ydata = price\n",
    "ax.grid(True)\n",
    "\n",
    "# rotates and right aligns the x labels, and moves the bottom of the\n",
    "# axes up to make room for them\n",
    "fig.autofmt_xdate()\n",
    "\n",
    "plt.show()"
   ]
  },
  {
   "cell_type": "markdown",
   "metadata": {},
   "source": [
    "# plot both national and city data"
   ]
  },
  {
   "cell_type": "code",
   "execution_count": 86,
   "metadata": {},
   "outputs": [
    {
     "data": {
      "image/png": "[encoded data removed]",
      "text/plain": [
       "<matplotlib.figure.Figure at 0x11ed7ce48>"
      ]
     },
     "metadata": {},
     "output_type": "display_data"
    }
   ],
   "source": [
    "import datetime\n",
    "import numpy as np\n",
    "import matplotlib.pyplot as plt\n",
    "import matplotlib.dates as mdates\n",
    "import matplotlib.cbook as cbook\n",
    "\n",
    "years = mdates.YearLocator()   # every year\n",
    "months = mdates.MonthLocator()  # every month\n",
    "yearsFmt = mdates.DateFormatter('%Y')\n",
    "\n",
    "x1 = list([datetime.datetime.strptime(d,'%Y/%m').date() for d in df2.date.values])\n",
    "y1 = list(df2.value.values)\n",
    "\n",
    "x2 = list([datetime.datetime.strptime(d,'%Y/%m').date() for d in df.date.values])\n",
    "y2 = list(df.value.values)\n",
    "\n",
    "fig, ax = plt.subplots()\n",
    "ax.plot(x1, y1, x2, y2)\n",
    "\n",
    "\n",
    "# format the ticks\n",
    "ax.xaxis.set_major_locator(years)\n",
    "ax.xaxis.set_major_formatter(yearsFmt)\n",
    "ax.xaxis.set_minor_locator(months)\n",
    "\n",
    "datemin = datetime.date(min(x).year, 1, 1)\n",
    "datemax = datetime.date(max(x).year + 1, 1, 1)\n",
    "ax.set_xlim(datemin, datemax)\n",
    "\n",
    "\n",
    "# format the coords message box\n",
    "def price(x):\n",
    "    return '%1.2f' % x\n",
    "ax.format_xdata = mdates.DateFormatter('%Y-%m')\n",
    "ax.format_ydata = price\n",
    "ax.grid(True)\n",
    "\n",
    "# rotates and right aligns the x labels, and moves the bottom of the\n",
    "# axes up to make room for them\n",
    "fig.autofmt_xdate()\n",
    "\n",
    "plt.title(\"Unemployment, 2008-2017\")\n",
    "plt.xlabel(\"Year\")\n",
    "plt.ylabel(\"Unemployment %\")\n",
    "plt.legend(['national','city'])\n",
    "plt.show()"
   ]
  },
  {
   "cell_type": "code",
   "execution_count": null,
   "metadata": {
    "collapsed": true
   },
   "outputs": [],
   "source": []
  }
 ],
 "metadata": {
  "kernelspec": {
   "display_name": "Python 3",
   "language": "python",
   "name": "python3"
  },
  "language_info": {
   "codemirror_mode": {
    "name": "ipython",
    "version": 3
   },
   "file_extension": ".py",
   "mimetype": "text/x-python",
   "name": "python",
   "nbconvert_exporter": "python",
   "pygments_lexer": "ipython3",
   "version": "3.6.1"
  }
 },
 "nbformat": 4,
 "nbformat_minor": 2
}
