{
 "cells": [
  {
   "cell_type": "code",
   "execution_count": 62,
   "metadata": {
    "collapsed": true
   },
   "outputs": [],
   "source": [
    "import pandas as pd\n",
    "import numpy as np\n",
    "import matplotlib.pyplot as plt\n",
    "\n",
    "%matplotlib inline"
   ]
  },
  {
   "cell_type": "markdown",
   "metadata": {},
   "source": [
    "# load the census data"
   ]
  },
  {
   "cell_type": "code",
   "execution_count": 81,
   "metadata": {},
   "outputs": [],
   "source": [
    "data1 = pd.read_csv(\"census-data-2000-2009.csv\", sep=\",\", encoding='latin-1')"
   ]
  },
  {
   "cell_type": "code",
   "execution_count": 82,
   "metadata": {
    "scrolled": true
   },
   "outputs": [
    {
     "data": {
      "text/html": [
       "<div>\n",
       "<style>\n",
       "    .dataframe thead tr:only-child th {\n",
       "        text-align: right;\n",
       "    }\n",
       "\n",
       "    .dataframe thead th {\n",
       "        text-align: left;\n",
       "    }\n",
       "\n",
       "    .dataframe tbody tr th {\n",
       "        vertical-align: top;\n",
       "    }\n",
       "</style>\n",
       "<table border=\"1\" class=\"dataframe\">\n",
       "  <thead>\n",
       "    <tr style=\"text-align: right;\">\n",
       "      <th></th>\n",
       "      <th>sumlev</th>\n",
       "      <th>STATE</th>\n",
       "      <th>COUNTY</th>\n",
       "      <th>place</th>\n",
       "      <th>COUSUB</th>\n",
       "      <th>name</th>\n",
       "      <th>STATENAME</th>\n",
       "      <th>POPCENSUS_2000</th>\n",
       "      <th>POPBASE_2000</th>\n",
       "      <th>POP_2000</th>\n",
       "      <th>POP_2001</th>\n",
       "      <th>POP_2002</th>\n",
       "      <th>POP_2003</th>\n",
       "      <th>POP_2004</th>\n",
       "      <th>POP_2005</th>\n",
       "      <th>POP_2006</th>\n",
       "      <th>POP_2007</th>\n",
       "      <th>POP_2008</th>\n",
       "      <th>POP_2009</th>\n",
       "    </tr>\n",
       "  </thead>\n",
       "  <tbody>\n",
       "    <tr>\n",
       "      <th>0</th>\n",
       "      <td>40</td>\n",
       "      <td>1</td>\n",
       "      <td>0</td>\n",
       "      <td>0</td>\n",
       "      <td>0</td>\n",
       "      <td>Alabama</td>\n",
       "      <td>Alabama</td>\n",
       "      <td>4447100</td>\n",
       "      <td>4447382</td>\n",
       "      <td>4451849</td>\n",
       "      <td>4464034</td>\n",
       "      <td>4472420</td>\n",
       "      <td>4490591</td>\n",
       "      <td>4512190</td>\n",
       "      <td>4545049</td>\n",
       "      <td>4597688</td>\n",
       "      <td>4637904</td>\n",
       "      <td>4677464</td>\n",
       "      <td>4708708</td>\n",
       "    </tr>\n",
       "    <tr>\n",
       "      <th>1</th>\n",
       "      <td>162</td>\n",
       "      <td>1</td>\n",
       "      <td>0</td>\n",
       "      <td>124</td>\n",
       "      <td>0</td>\n",
       "      <td>Abbeville city</td>\n",
       "      <td>Alabama</td>\n",
       "      <td>2987</td>\n",
       "      <td>2987</td>\n",
       "      <td>2987</td>\n",
       "      <td>2951</td>\n",
       "      <td>2939</td>\n",
       "      <td>2931</td>\n",
       "      <td>2936</td>\n",
       "      <td>2925</td>\n",
       "      <td>2926</td>\n",
       "      <td>2939</td>\n",
       "      <td>2931</td>\n",
       "      <td>2930</td>\n",
       "    </tr>\n",
       "    <tr>\n",
       "      <th>2</th>\n",
       "      <td>162</td>\n",
       "      <td>1</td>\n",
       "      <td>0</td>\n",
       "      <td>460</td>\n",
       "      <td>0</td>\n",
       "      <td>Adamsville city</td>\n",
       "      <td>Alabama</td>\n",
       "      <td>4965</td>\n",
       "      <td>5074</td>\n",
       "      <td>5069</td>\n",
       "      <td>5045</td>\n",
       "      <td>5008</td>\n",
       "      <td>4975</td>\n",
       "      <td>4925</td>\n",
       "      <td>4880</td>\n",
       "      <td>4851</td>\n",
       "      <td>4797</td>\n",
       "      <td>4789</td>\n",
       "      <td>4782</td>\n",
       "    </tr>\n",
       "    <tr>\n",
       "      <th>3</th>\n",
       "      <td>162</td>\n",
       "      <td>1</td>\n",
       "      <td>0</td>\n",
       "      <td>484</td>\n",
       "      <td>0</td>\n",
       "      <td>Addison town</td>\n",
       "      <td>Alabama</td>\n",
       "      <td>723</td>\n",
       "      <td>723</td>\n",
       "      <td>724</td>\n",
       "      <td>713</td>\n",
       "      <td>711</td>\n",
       "      <td>708</td>\n",
       "      <td>708</td>\n",
       "      <td>708</td>\n",
       "      <td>713</td>\n",
       "      <td>717</td>\n",
       "      <td>711</td>\n",
       "      <td>709</td>\n",
       "    </tr>\n",
       "    <tr>\n",
       "      <th>4</th>\n",
       "      <td>162</td>\n",
       "      <td>1</td>\n",
       "      <td>0</td>\n",
       "      <td>676</td>\n",
       "      <td>0</td>\n",
       "      <td>Akron town</td>\n",
       "      <td>Alabama</td>\n",
       "      <td>521</td>\n",
       "      <td>449</td>\n",
       "      <td>449</td>\n",
       "      <td>450</td>\n",
       "      <td>443</td>\n",
       "      <td>441</td>\n",
       "      <td>433</td>\n",
       "      <td>435</td>\n",
       "      <td>434</td>\n",
       "      <td>437</td>\n",
       "      <td>437</td>\n",
       "      <td>433</td>\n",
       "    </tr>\n",
       "  </tbody>\n",
       "</table>\n",
       "</div>"
      ],
      "text/plain": [
       "   sumlev  STATE  COUNTY  place  COUSUB             name STATENAME  \\\n",
       "0      40      1       0      0       0          Alabama   Alabama   \n",
       "1     162      1       0    124       0   Abbeville city   Alabama   \n",
       "2     162      1       0    460       0  Adamsville city   Alabama   \n",
       "3     162      1       0    484       0     Addison town   Alabama   \n",
       "4     162      1       0    676       0       Akron town   Alabama   \n",
       "\n",
       "  POPCENSUS_2000  POPBASE_2000  POP_2000  POP_2001  POP_2002  POP_2003  \\\n",
       "0        4447100       4447382   4451849   4464034   4472420   4490591   \n",
       "1           2987          2987      2987      2951      2939      2931   \n",
       "2           4965          5074      5069      5045      5008      4975   \n",
       "3            723           723       724       713       711       708   \n",
       "4            521           449       449       450       443       441   \n",
       "\n",
       "   POP_2004  POP_2005  POP_2006  POP_2007  POP_2008  POP_2009  \n",
       "0   4512190   4545049   4597688   4637904   4677464   4708708  \n",
       "1      2936      2925      2926      2939      2931      2930  \n",
       "2      4925      4880      4851      4797      4789      4782  \n",
       "3       708       708       713       717       711       709  \n",
       "4       433       435       434       437       437       433  "
      ]
     },
     "execution_count": 82,
     "metadata": {},
     "output_type": "execute_result"
    }
   ],
   "source": [
    "data1.head()"
   ]
  },
  {
   "cell_type": "code",
   "execution_count": 83,
   "metadata": {},
   "outputs": [],
   "source": [
    "data2 = pd.read_csv(\"census-data-2010-2016.csv\", sep=\",\", encoding='latin-1')"
   ]
  },
  {
   "cell_type": "code",
   "execution_count": 84,
   "metadata": {},
   "outputs": [
    {
     "data": {
      "text/html": [
       "<div>\n",
       "<style>\n",
       "    .dataframe thead tr:only-child th {\n",
       "        text-align: right;\n",
       "    }\n",
       "\n",
       "    .dataframe thead th {\n",
       "        text-align: left;\n",
       "    }\n",
       "\n",
       "    .dataframe tbody tr th {\n",
       "        vertical-align: top;\n",
       "    }\n",
       "</style>\n",
       "<table border=\"1\" class=\"dataframe\">\n",
       "  <thead>\n",
       "    <tr style=\"text-align: right;\">\n",
       "      <th></th>\n",
       "      <th>SUMLEV</th>\n",
       "      <th>STATE</th>\n",
       "      <th>COUNTY</th>\n",
       "      <th>PLACE</th>\n",
       "      <th>COUSUB</th>\n",
       "      <th>CONCIT</th>\n",
       "      <th>PRIMGEO_FLAG</th>\n",
       "      <th>FUNCSTAT</th>\n",
       "      <th>NAME</th>\n",
       "      <th>STNAME</th>\n",
       "      <th>CENSUS2010POP</th>\n",
       "      <th>ESTIMATESBASE2010</th>\n",
       "      <th>POPESTIMATE2010</th>\n",
       "      <th>POPESTIMATE2011</th>\n",
       "      <th>POPESTIMATE2012</th>\n",
       "      <th>POPESTIMATE2013</th>\n",
       "      <th>POPESTIMATE2014</th>\n",
       "      <th>POPESTIMATE2015</th>\n",
       "      <th>POPESTIMATE2016</th>\n",
       "    </tr>\n",
       "  </thead>\n",
       "  <tbody>\n",
       "    <tr>\n",
       "      <th>0</th>\n",
       "      <td>40</td>\n",
       "      <td>1</td>\n",
       "      <td>0</td>\n",
       "      <td>0</td>\n",
       "      <td>0</td>\n",
       "      <td>0</td>\n",
       "      <td>0</td>\n",
       "      <td>A</td>\n",
       "      <td>Alabama</td>\n",
       "      <td>Alabama</td>\n",
       "      <td>4779736</td>\n",
       "      <td>4780131</td>\n",
       "      <td>4785492</td>\n",
       "      <td>4799918</td>\n",
       "      <td>4815960</td>\n",
       "      <td>4829479</td>\n",
       "      <td>4843214</td>\n",
       "      <td>4853875</td>\n",
       "      <td>4863300</td>\n",
       "    </tr>\n",
       "    <tr>\n",
       "      <th>1</th>\n",
       "      <td>162</td>\n",
       "      <td>1</td>\n",
       "      <td>0</td>\n",
       "      <td>124</td>\n",
       "      <td>0</td>\n",
       "      <td>0</td>\n",
       "      <td>0</td>\n",
       "      <td>A</td>\n",
       "      <td>Abbeville city</td>\n",
       "      <td>Alabama</td>\n",
       "      <td>2688</td>\n",
       "      <td>2688</td>\n",
       "      <td>2683</td>\n",
       "      <td>2685</td>\n",
       "      <td>2647</td>\n",
       "      <td>2631</td>\n",
       "      <td>2619</td>\n",
       "      <td>2616</td>\n",
       "      <td>2603</td>\n",
       "    </tr>\n",
       "    <tr>\n",
       "      <th>2</th>\n",
       "      <td>162</td>\n",
       "      <td>1</td>\n",
       "      <td>0</td>\n",
       "      <td>460</td>\n",
       "      <td>0</td>\n",
       "      <td>0</td>\n",
       "      <td>0</td>\n",
       "      <td>A</td>\n",
       "      <td>Adamsville city</td>\n",
       "      <td>Alabama</td>\n",
       "      <td>4522</td>\n",
       "      <td>4522</td>\n",
       "      <td>4517</td>\n",
       "      <td>4495</td>\n",
       "      <td>4472</td>\n",
       "      <td>4447</td>\n",
       "      <td>4428</td>\n",
       "      <td>4395</td>\n",
       "      <td>4360</td>\n",
       "    </tr>\n",
       "    <tr>\n",
       "      <th>3</th>\n",
       "      <td>162</td>\n",
       "      <td>1</td>\n",
       "      <td>0</td>\n",
       "      <td>484</td>\n",
       "      <td>0</td>\n",
       "      <td>0</td>\n",
       "      <td>0</td>\n",
       "      <td>A</td>\n",
       "      <td>Addison town</td>\n",
       "      <td>Alabama</td>\n",
       "      <td>758</td>\n",
       "      <td>756</td>\n",
       "      <td>754</td>\n",
       "      <td>753</td>\n",
       "      <td>748</td>\n",
       "      <td>748</td>\n",
       "      <td>747</td>\n",
       "      <td>740</td>\n",
       "      <td>738</td>\n",
       "    </tr>\n",
       "    <tr>\n",
       "      <th>4</th>\n",
       "      <td>162</td>\n",
       "      <td>1</td>\n",
       "      <td>0</td>\n",
       "      <td>676</td>\n",
       "      <td>0</td>\n",
       "      <td>0</td>\n",
       "      <td>0</td>\n",
       "      <td>A</td>\n",
       "      <td>Akron town</td>\n",
       "      <td>Alabama</td>\n",
       "      <td>356</td>\n",
       "      <td>356</td>\n",
       "      <td>355</td>\n",
       "      <td>345</td>\n",
       "      <td>345</td>\n",
       "      <td>342</td>\n",
       "      <td>337</td>\n",
       "      <td>337</td>\n",
       "      <td>334</td>\n",
       "    </tr>\n",
       "  </tbody>\n",
       "</table>\n",
       "</div>"
      ],
      "text/plain": [
       "   SUMLEV  STATE  COUNTY  PLACE  COUSUB  CONCIT  PRIMGEO_FLAG FUNCSTAT  \\\n",
       "0      40      1       0      0       0       0             0        A   \n",
       "1     162      1       0    124       0       0             0        A   \n",
       "2     162      1       0    460       0       0             0        A   \n",
       "3     162      1       0    484       0       0             0        A   \n",
       "4     162      1       0    676       0       0             0        A   \n",
       "\n",
       "              NAME   STNAME CENSUS2010POP  ESTIMATESBASE2010  POPESTIMATE2010  \\\n",
       "0          Alabama  Alabama       4779736            4780131          4785492   \n",
       "1   Abbeville city  Alabama          2688               2688             2683   \n",
       "2  Adamsville city  Alabama          4522               4522             4517   \n",
       "3     Addison town  Alabama           758                756              754   \n",
       "4       Akron town  Alabama           356                356              355   \n",
       "\n",
       "   POPESTIMATE2011  POPESTIMATE2012  POPESTIMATE2013  POPESTIMATE2014  \\\n",
       "0          4799918          4815960          4829479          4843214   \n",
       "1             2685             2647             2631             2619   \n",
       "2             4495             4472             4447             4428   \n",
       "3              753              748              748              747   \n",
       "4              345              345              342              337   \n",
       "\n",
       "   POPESTIMATE2015  POPESTIMATE2016  \n",
       "0          4853875          4863300  \n",
       "1             2616             2603  \n",
       "2             4395             4360  \n",
       "3              740              738  \n",
       "4              337              334  "
      ]
     },
     "execution_count": 84,
     "metadata": {},
     "output_type": "execute_result"
    }
   ],
   "source": [
    "data2.head()"
   ]
  },
  {
   "cell_type": "markdown",
   "metadata": {},
   "source": [
    "# convert columns into rows..."
   ]
  },
  {
   "cell_type": "code",
   "execution_count": 85,
   "metadata": {
    "collapsed": true
   },
   "outputs": [],
   "source": [
    "data1t = pd.melt(data1, id_vars=[\"sumlev\", \"STATE\", \"COUNTY\", \"place\", \"COUSUB\", \"name\", \"STATENAME\"],\n",
    "                 var_name=\"Date\", \n",
    "                 value_name=\"Value\")"
   ]
  },
  {
   "cell_type": "code",
   "execution_count": 86,
   "metadata": {},
   "outputs": [],
   "source": [
    "data2t = pd.melt(data2, id_vars=[\"SUMLEV\", \"STATE\", \"COUNTY\", \"PLACE\", \"COUSUB\", \"CONCIT\", \"PRIMGEO_FLAG\", \"FUNCSTAT\", \"NAME\", \"STNAME\"], \n",
    "                 var_name=\"Date\", \n",
    "                 value_name=\"Value\")"
   ]
  },
  {
   "cell_type": "code",
   "execution_count": 87,
   "metadata": {},
   "outputs": [
    {
     "data": {
      "text/html": [
       "<div>\n",
       "<style>\n",
       "    .dataframe thead tr:only-child th {\n",
       "        text-align: right;\n",
       "    }\n",
       "\n",
       "    .dataframe thead th {\n",
       "        text-align: left;\n",
       "    }\n",
       "\n",
       "    .dataframe tbody tr th {\n",
       "        vertical-align: top;\n",
       "    }\n",
       "</style>\n",
       "<table border=\"1\" class=\"dataframe\">\n",
       "  <thead>\n",
       "    <tr style=\"text-align: right;\">\n",
       "      <th></th>\n",
       "      <th>sumlev</th>\n",
       "      <th>STATE</th>\n",
       "      <th>COUNTY</th>\n",
       "      <th>place</th>\n",
       "      <th>COUSUB</th>\n",
       "      <th>name</th>\n",
       "      <th>STATENAME</th>\n",
       "      <th>Date</th>\n",
       "      <th>Value</th>\n",
       "    </tr>\n",
       "  </thead>\n",
       "  <tbody>\n",
       "    <tr>\n",
       "      <th>0</th>\n",
       "      <td>40</td>\n",
       "      <td>1</td>\n",
       "      <td>0</td>\n",
       "      <td>0</td>\n",
       "      <td>0</td>\n",
       "      <td>Alabama</td>\n",
       "      <td>Alabama</td>\n",
       "      <td>POPCENSUS_2000</td>\n",
       "      <td>4447100</td>\n",
       "    </tr>\n",
       "    <tr>\n",
       "      <th>1</th>\n",
       "      <td>162</td>\n",
       "      <td>1</td>\n",
       "      <td>0</td>\n",
       "      <td>124</td>\n",
       "      <td>0</td>\n",
       "      <td>Abbeville city</td>\n",
       "      <td>Alabama</td>\n",
       "      <td>POPCENSUS_2000</td>\n",
       "      <td>2987</td>\n",
       "    </tr>\n",
       "    <tr>\n",
       "      <th>2</th>\n",
       "      <td>162</td>\n",
       "      <td>1</td>\n",
       "      <td>0</td>\n",
       "      <td>460</td>\n",
       "      <td>0</td>\n",
       "      <td>Adamsville city</td>\n",
       "      <td>Alabama</td>\n",
       "      <td>POPCENSUS_2000</td>\n",
       "      <td>4965</td>\n",
       "    </tr>\n",
       "    <tr>\n",
       "      <th>3</th>\n",
       "      <td>162</td>\n",
       "      <td>1</td>\n",
       "      <td>0</td>\n",
       "      <td>484</td>\n",
       "      <td>0</td>\n",
       "      <td>Addison town</td>\n",
       "      <td>Alabama</td>\n",
       "      <td>POPCENSUS_2000</td>\n",
       "      <td>723</td>\n",
       "    </tr>\n",
       "    <tr>\n",
       "      <th>4</th>\n",
       "      <td>162</td>\n",
       "      <td>1</td>\n",
       "      <td>0</td>\n",
       "      <td>676</td>\n",
       "      <td>0</td>\n",
       "      <td>Akron town</td>\n",
       "      <td>Alabama</td>\n",
       "      <td>POPCENSUS_2000</td>\n",
       "      <td>521</td>\n",
       "    </tr>\n",
       "  </tbody>\n",
       "</table>\n",
       "</div>"
      ],
      "text/plain": [
       "   sumlev  STATE  COUNTY  place  COUSUB             name STATENAME  \\\n",
       "0      40      1       0      0       0          Alabama   Alabama   \n",
       "1     162      1       0    124       0   Abbeville city   Alabama   \n",
       "2     162      1       0    460       0  Adamsville city   Alabama   \n",
       "3     162      1       0    484       0     Addison town   Alabama   \n",
       "4     162      1       0    676       0       Akron town   Alabama   \n",
       "\n",
       "             Date    Value  \n",
       "0  POPCENSUS_2000  4447100  \n",
       "1  POPCENSUS_2000     2987  \n",
       "2  POPCENSUS_2000     4965  \n",
       "3  POPCENSUS_2000      723  \n",
       "4  POPCENSUS_2000      521  "
      ]
     },
     "execution_count": 87,
     "metadata": {},
     "output_type": "execute_result"
    }
   ],
   "source": [
    "data1t.head()"
   ]
  },
  {
   "cell_type": "code",
   "execution_count": 88,
   "metadata": {},
   "outputs": [
    {
     "data": {
      "text/html": [
       "<div>\n",
       "<style>\n",
       "    .dataframe thead tr:only-child th {\n",
       "        text-align: right;\n",
       "    }\n",
       "\n",
       "    .dataframe thead th {\n",
       "        text-align: left;\n",
       "    }\n",
       "\n",
       "    .dataframe tbody tr th {\n",
       "        vertical-align: top;\n",
       "    }\n",
       "</style>\n",
       "<table border=\"1\" class=\"dataframe\">\n",
       "  <thead>\n",
       "    <tr style=\"text-align: right;\">\n",
       "      <th></th>\n",
       "      <th>SUMLEV</th>\n",
       "      <th>STATE</th>\n",
       "      <th>COUNTY</th>\n",
       "      <th>PLACE</th>\n",
       "      <th>COUSUB</th>\n",
       "      <th>CONCIT</th>\n",
       "      <th>PRIMGEO_FLAG</th>\n",
       "      <th>FUNCSTAT</th>\n",
       "      <th>NAME</th>\n",
       "      <th>STNAME</th>\n",
       "      <th>Date</th>\n",
       "      <th>Value</th>\n",
       "    </tr>\n",
       "  </thead>\n",
       "  <tbody>\n",
       "    <tr>\n",
       "      <th>0</th>\n",
       "      <td>40</td>\n",
       "      <td>1</td>\n",
       "      <td>0</td>\n",
       "      <td>0</td>\n",
       "      <td>0</td>\n",
       "      <td>0</td>\n",
       "      <td>0</td>\n",
       "      <td>A</td>\n",
       "      <td>Alabama</td>\n",
       "      <td>Alabama</td>\n",
       "      <td>CENSUS2010POP</td>\n",
       "      <td>4779736</td>\n",
       "    </tr>\n",
       "    <tr>\n",
       "      <th>1</th>\n",
       "      <td>162</td>\n",
       "      <td>1</td>\n",
       "      <td>0</td>\n",
       "      <td>124</td>\n",
       "      <td>0</td>\n",
       "      <td>0</td>\n",
       "      <td>0</td>\n",
       "      <td>A</td>\n",
       "      <td>Abbeville city</td>\n",
       "      <td>Alabama</td>\n",
       "      <td>CENSUS2010POP</td>\n",
       "      <td>2688</td>\n",
       "    </tr>\n",
       "    <tr>\n",
       "      <th>2</th>\n",
       "      <td>162</td>\n",
       "      <td>1</td>\n",
       "      <td>0</td>\n",
       "      <td>460</td>\n",
       "      <td>0</td>\n",
       "      <td>0</td>\n",
       "      <td>0</td>\n",
       "      <td>A</td>\n",
       "      <td>Adamsville city</td>\n",
       "      <td>Alabama</td>\n",
       "      <td>CENSUS2010POP</td>\n",
       "      <td>4522</td>\n",
       "    </tr>\n",
       "    <tr>\n",
       "      <th>3</th>\n",
       "      <td>162</td>\n",
       "      <td>1</td>\n",
       "      <td>0</td>\n",
       "      <td>484</td>\n",
       "      <td>0</td>\n",
       "      <td>0</td>\n",
       "      <td>0</td>\n",
       "      <td>A</td>\n",
       "      <td>Addison town</td>\n",
       "      <td>Alabama</td>\n",
       "      <td>CENSUS2010POP</td>\n",
       "      <td>758</td>\n",
       "    </tr>\n",
       "    <tr>\n",
       "      <th>4</th>\n",
       "      <td>162</td>\n",
       "      <td>1</td>\n",
       "      <td>0</td>\n",
       "      <td>676</td>\n",
       "      <td>0</td>\n",
       "      <td>0</td>\n",
       "      <td>0</td>\n",
       "      <td>A</td>\n",
       "      <td>Akron town</td>\n",
       "      <td>Alabama</td>\n",
       "      <td>CENSUS2010POP</td>\n",
       "      <td>356</td>\n",
       "    </tr>\n",
       "  </tbody>\n",
       "</table>\n",
       "</div>"
      ],
      "text/plain": [
       "   SUMLEV  STATE  COUNTY  PLACE  COUSUB  CONCIT  PRIMGEO_FLAG FUNCSTAT  \\\n",
       "0      40      1       0      0       0       0             0        A   \n",
       "1     162      1       0    124       0       0             0        A   \n",
       "2     162      1       0    460       0       0             0        A   \n",
       "3     162      1       0    484       0       0             0        A   \n",
       "4     162      1       0    676       0       0             0        A   \n",
       "\n",
       "              NAME   STNAME           Date    Value  \n",
       "0          Alabama  Alabama  CENSUS2010POP  4779736  \n",
       "1   Abbeville city  Alabama  CENSUS2010POP     2688  \n",
       "2  Adamsville city  Alabama  CENSUS2010POP     4522  \n",
       "3     Addison town  Alabama  CENSUS2010POP      758  \n",
       "4       Akron town  Alabama  CENSUS2010POP      356  "
      ]
     },
     "execution_count": 88,
     "metadata": {},
     "output_type": "execute_result"
    }
   ],
   "source": [
    "data2t.head()"
   ]
  },
  {
   "cell_type": "markdown",
   "metadata": {},
   "source": [
    "# select relevant rows"
   ]
  },
  {
   "cell_type": "code",
   "execution_count": 89,
   "metadata": {
    "collapsed": true
   },
   "outputs": [],
   "source": [
    "data1ts = data1t[(data1t.sumlev==162) & (data1t.Date.str.contains(\"POP_\"))].copy()"
   ]
  },
  {
   "cell_type": "code",
   "execution_count": 90,
   "metadata": {},
   "outputs": [
    {
     "data": {
      "text/html": [
       "<div>\n",
       "<style>\n",
       "    .dataframe thead tr:only-child th {\n",
       "        text-align: right;\n",
       "    }\n",
       "\n",
       "    .dataframe thead th {\n",
       "        text-align: left;\n",
       "    }\n",
       "\n",
       "    .dataframe tbody tr th {\n",
       "        vertical-align: top;\n",
       "    }\n",
       "</style>\n",
       "<table border=\"1\" class=\"dataframe\">\n",
       "  <thead>\n",
       "    <tr style=\"text-align: right;\">\n",
       "      <th></th>\n",
       "      <th>sumlev</th>\n",
       "      <th>STATE</th>\n",
       "      <th>COUNTY</th>\n",
       "      <th>place</th>\n",
       "      <th>COUSUB</th>\n",
       "      <th>name</th>\n",
       "      <th>STATENAME</th>\n",
       "      <th>Date</th>\n",
       "      <th>Value</th>\n",
       "    </tr>\n",
       "  </thead>\n",
       "  <tbody>\n",
       "    <tr>\n",
       "      <th>163407</th>\n",
       "      <td>162</td>\n",
       "      <td>1</td>\n",
       "      <td>0</td>\n",
       "      <td>124</td>\n",
       "      <td>0</td>\n",
       "      <td>Abbeville city</td>\n",
       "      <td>Alabama</td>\n",
       "      <td>POP_2000</td>\n",
       "      <td>2987</td>\n",
       "    </tr>\n",
       "    <tr>\n",
       "      <th>163408</th>\n",
       "      <td>162</td>\n",
       "      <td>1</td>\n",
       "      <td>0</td>\n",
       "      <td>460</td>\n",
       "      <td>0</td>\n",
       "      <td>Adamsville city</td>\n",
       "      <td>Alabama</td>\n",
       "      <td>POP_2000</td>\n",
       "      <td>5069</td>\n",
       "    </tr>\n",
       "    <tr>\n",
       "      <th>163409</th>\n",
       "      <td>162</td>\n",
       "      <td>1</td>\n",
       "      <td>0</td>\n",
       "      <td>484</td>\n",
       "      <td>0</td>\n",
       "      <td>Addison town</td>\n",
       "      <td>Alabama</td>\n",
       "      <td>POP_2000</td>\n",
       "      <td>724</td>\n",
       "    </tr>\n",
       "    <tr>\n",
       "      <th>163410</th>\n",
       "      <td>162</td>\n",
       "      <td>1</td>\n",
       "      <td>0</td>\n",
       "      <td>676</td>\n",
       "      <td>0</td>\n",
       "      <td>Akron town</td>\n",
       "      <td>Alabama</td>\n",
       "      <td>POP_2000</td>\n",
       "      <td>449</td>\n",
       "    </tr>\n",
       "    <tr>\n",
       "      <th>163411</th>\n",
       "      <td>162</td>\n",
       "      <td>1</td>\n",
       "      <td>0</td>\n",
       "      <td>820</td>\n",
       "      <td>0</td>\n",
       "      <td>Alabaster city</td>\n",
       "      <td>Alabama</td>\n",
       "      <td>POP_2000</td>\n",
       "      <td>24099</td>\n",
       "    </tr>\n",
       "  </tbody>\n",
       "</table>\n",
       "</div>"
      ],
      "text/plain": [
       "        sumlev  STATE  COUNTY  place  COUSUB             name STATENAME  \\\n",
       "163407     162      1       0    124       0   Abbeville city   Alabama   \n",
       "163408     162      1       0    460       0  Adamsville city   Alabama   \n",
       "163409     162      1       0    484       0     Addison town   Alabama   \n",
       "163410     162      1       0    676       0       Akron town   Alabama   \n",
       "163411     162      1       0    820       0   Alabaster city   Alabama   \n",
       "\n",
       "            Date  Value  \n",
       "163407  POP_2000   2987  \n",
       "163408  POP_2000   5069  \n",
       "163409  POP_2000    724  \n",
       "163410  POP_2000    449  \n",
       "163411  POP_2000  24099  "
      ]
     },
     "execution_count": 90,
     "metadata": {},
     "output_type": "execute_result"
    }
   ],
   "source": [
    "data1ts.head()"
   ]
  },
  {
   "cell_type": "code",
   "execution_count": 91,
   "metadata": {},
   "outputs": [],
   "source": [
    "data2ts = data2t[(data2t.SUMLEV==162) & (data2t.Date.str.contains(\"POPESTIMATE\"))].copy()"
   ]
  },
  {
   "cell_type": "code",
   "execution_count": 92,
   "metadata": {},
   "outputs": [
    {
     "data": {
      "text/html": [
       "<div>\n",
       "<style>\n",
       "    .dataframe thead tr:only-child th {\n",
       "        text-align: right;\n",
       "    }\n",
       "\n",
       "    .dataframe thead th {\n",
       "        text-align: left;\n",
       "    }\n",
       "\n",
       "    .dataframe tbody tr th {\n",
       "        vertical-align: top;\n",
       "    }\n",
       "</style>\n",
       "<table border=\"1\" class=\"dataframe\">\n",
       "  <thead>\n",
       "    <tr style=\"text-align: right;\">\n",
       "      <th></th>\n",
       "      <th>SUMLEV</th>\n",
       "      <th>STATE</th>\n",
       "      <th>COUNTY</th>\n",
       "      <th>PLACE</th>\n",
       "      <th>COUSUB</th>\n",
       "      <th>CONCIT</th>\n",
       "      <th>PRIMGEO_FLAG</th>\n",
       "      <th>FUNCSTAT</th>\n",
       "      <th>NAME</th>\n",
       "      <th>STNAME</th>\n",
       "      <th>Date</th>\n",
       "      <th>Value</th>\n",
       "    </tr>\n",
       "  </thead>\n",
       "  <tbody>\n",
       "    <tr>\n",
       "      <th>163171</th>\n",
       "      <td>162</td>\n",
       "      <td>1</td>\n",
       "      <td>0</td>\n",
       "      <td>124</td>\n",
       "      <td>0</td>\n",
       "      <td>0</td>\n",
       "      <td>0</td>\n",
       "      <td>A</td>\n",
       "      <td>Abbeville city</td>\n",
       "      <td>Alabama</td>\n",
       "      <td>POPESTIMATE2010</td>\n",
       "      <td>2683</td>\n",
       "    </tr>\n",
       "    <tr>\n",
       "      <th>163172</th>\n",
       "      <td>162</td>\n",
       "      <td>1</td>\n",
       "      <td>0</td>\n",
       "      <td>460</td>\n",
       "      <td>0</td>\n",
       "      <td>0</td>\n",
       "      <td>0</td>\n",
       "      <td>A</td>\n",
       "      <td>Adamsville city</td>\n",
       "      <td>Alabama</td>\n",
       "      <td>POPESTIMATE2010</td>\n",
       "      <td>4517</td>\n",
       "    </tr>\n",
       "    <tr>\n",
       "      <th>163173</th>\n",
       "      <td>162</td>\n",
       "      <td>1</td>\n",
       "      <td>0</td>\n",
       "      <td>484</td>\n",
       "      <td>0</td>\n",
       "      <td>0</td>\n",
       "      <td>0</td>\n",
       "      <td>A</td>\n",
       "      <td>Addison town</td>\n",
       "      <td>Alabama</td>\n",
       "      <td>POPESTIMATE2010</td>\n",
       "      <td>754</td>\n",
       "    </tr>\n",
       "    <tr>\n",
       "      <th>163174</th>\n",
       "      <td>162</td>\n",
       "      <td>1</td>\n",
       "      <td>0</td>\n",
       "      <td>676</td>\n",
       "      <td>0</td>\n",
       "      <td>0</td>\n",
       "      <td>0</td>\n",
       "      <td>A</td>\n",
       "      <td>Akron town</td>\n",
       "      <td>Alabama</td>\n",
       "      <td>POPESTIMATE2010</td>\n",
       "      <td>355</td>\n",
       "    </tr>\n",
       "    <tr>\n",
       "      <th>163175</th>\n",
       "      <td>162</td>\n",
       "      <td>1</td>\n",
       "      <td>0</td>\n",
       "      <td>820</td>\n",
       "      <td>0</td>\n",
       "      <td>0</td>\n",
       "      <td>0</td>\n",
       "      <td>A</td>\n",
       "      <td>Alabaster city</td>\n",
       "      <td>Alabama</td>\n",
       "      <td>POPESTIMATE2010</td>\n",
       "      <td>31176</td>\n",
       "    </tr>\n",
       "  </tbody>\n",
       "</table>\n",
       "</div>"
      ],
      "text/plain": [
       "        SUMLEV  STATE  COUNTY  PLACE  COUSUB  CONCIT  PRIMGEO_FLAG FUNCSTAT  \\\n",
       "163171     162      1       0    124       0       0             0        A   \n",
       "163172     162      1       0    460       0       0             0        A   \n",
       "163173     162      1       0    484       0       0             0        A   \n",
       "163174     162      1       0    676       0       0             0        A   \n",
       "163175     162      1       0    820       0       0             0        A   \n",
       "\n",
       "                   NAME   STNAME             Date  Value  \n",
       "163171   Abbeville city  Alabama  POPESTIMATE2010   2683  \n",
       "163172  Adamsville city  Alabama  POPESTIMATE2010   4517  \n",
       "163173     Addison town  Alabama  POPESTIMATE2010    754  \n",
       "163174       Akron town  Alabama  POPESTIMATE2010    355  \n",
       "163175   Alabaster city  Alabama  POPESTIMATE2010  31176  "
      ]
     },
     "execution_count": 92,
     "metadata": {},
     "output_type": "execute_result"
    }
   ],
   "source": [
    "data2ts.head()"
   ]
  },
  {
   "cell_type": "markdown",
   "metadata": {},
   "source": [
    "# standardize column set and column names"
   ]
  },
  {
   "cell_type": "code",
   "execution_count": 94,
   "metadata": {},
   "outputs": [],
   "source": [
    "data1ts.drop(['sumlev','STATE','COUNTY','place','COUSUB'], axis=1, inplace=True)"
   ]
  },
  {
   "cell_type": "code",
   "execution_count": 95,
   "metadata": {
    "collapsed": true
   },
   "outputs": [],
   "source": [
    "data1ts.rename(columns={\"name\": \"City\", \"STATENAME\": \"State\"}, inplace=True)"
   ]
  },
  {
   "cell_type": "code",
   "execution_count": 97,
   "metadata": {
    "collapsed": true
   },
   "outputs": [],
   "source": [
    "data1ts.Date = data1ts.Date.str.replace(\"POP_\", \"\")"
   ]
  },
  {
   "cell_type": "code",
   "execution_count": 98,
   "metadata": {},
   "outputs": [
    {
     "data": {
      "text/html": [
       "<div>\n",
       "<style>\n",
       "    .dataframe thead tr:only-child th {\n",
       "        text-align: right;\n",
       "    }\n",
       "\n",
       "    .dataframe thead th {\n",
       "        text-align: left;\n",
       "    }\n",
       "\n",
       "    .dataframe tbody tr th {\n",
       "        vertical-align: top;\n",
       "    }\n",
       "</style>\n",
       "<table border=\"1\" class=\"dataframe\">\n",
       "  <thead>\n",
       "    <tr style=\"text-align: right;\">\n",
       "      <th></th>\n",
       "      <th>City</th>\n",
       "      <th>State</th>\n",
       "      <th>Date</th>\n",
       "      <th>Value</th>\n",
       "    </tr>\n",
       "  </thead>\n",
       "  <tbody>\n",
       "    <tr>\n",
       "      <th>163407</th>\n",
       "      <td>Abbeville city</td>\n",
       "      <td>Alabama</td>\n",
       "      <td>2000</td>\n",
       "      <td>2987</td>\n",
       "    </tr>\n",
       "    <tr>\n",
       "      <th>163408</th>\n",
       "      <td>Adamsville city</td>\n",
       "      <td>Alabama</td>\n",
       "      <td>2000</td>\n",
       "      <td>5069</td>\n",
       "    </tr>\n",
       "    <tr>\n",
       "      <th>163409</th>\n",
       "      <td>Addison town</td>\n",
       "      <td>Alabama</td>\n",
       "      <td>2000</td>\n",
       "      <td>724</td>\n",
       "    </tr>\n",
       "    <tr>\n",
       "      <th>163410</th>\n",
       "      <td>Akron town</td>\n",
       "      <td>Alabama</td>\n",
       "      <td>2000</td>\n",
       "      <td>449</td>\n",
       "    </tr>\n",
       "    <tr>\n",
       "      <th>163411</th>\n",
       "      <td>Alabaster city</td>\n",
       "      <td>Alabama</td>\n",
       "      <td>2000</td>\n",
       "      <td>24099</td>\n",
       "    </tr>\n",
       "  </tbody>\n",
       "</table>\n",
       "</div>"
      ],
      "text/plain": [
       "                   City    State  Date  Value\n",
       "163407   Abbeville city  Alabama  2000   2987\n",
       "163408  Adamsville city  Alabama  2000   5069\n",
       "163409     Addison town  Alabama  2000    724\n",
       "163410       Akron town  Alabama  2000    449\n",
       "163411   Alabaster city  Alabama  2000  24099"
      ]
     },
     "execution_count": 98,
     "metadata": {},
     "output_type": "execute_result"
    }
   ],
   "source": [
    "data1ts.head()"
   ]
  },
  {
   "cell_type": "code",
   "execution_count": 100,
   "metadata": {
    "collapsed": true
   },
   "outputs": [],
   "source": [
    "data2ts.drop(['SUMLEV','STATE','COUNTY','PLACE','COUSUB','CONCIT','PRIMGEO_FLAG','FUNCSTAT'], axis=1, inplace=True)"
   ]
  },
  {
   "cell_type": "code",
   "execution_count": 102,
   "metadata": {
    "collapsed": true
   },
   "outputs": [],
   "source": [
    "data2ts.rename(columns={\"NAME\":\"City\", \"STNAME\":\"State\"}, inplace=True)"
   ]
  },
  {
   "cell_type": "code",
   "execution_count": 106,
   "metadata": {
    "collapsed": true
   },
   "outputs": [],
   "source": [
    "data2ts.Date = data2ts.Date.str.replace(\"POPESTIMATE\", \"\")"
   ]
  },
  {
   "cell_type": "code",
   "execution_count": 107,
   "metadata": {},
   "outputs": [
    {
     "data": {
      "text/html": [
       "<div>\n",
       "<style>\n",
       "    .dataframe thead tr:only-child th {\n",
       "        text-align: right;\n",
       "    }\n",
       "\n",
       "    .dataframe thead th {\n",
       "        text-align: left;\n",
       "    }\n",
       "\n",
       "    .dataframe tbody tr th {\n",
       "        vertical-align: top;\n",
       "    }\n",
       "</style>\n",
       "<table border=\"1\" class=\"dataframe\">\n",
       "  <thead>\n",
       "    <tr style=\"text-align: right;\">\n",
       "      <th></th>\n",
       "      <th>City</th>\n",
       "      <th>State</th>\n",
       "      <th>Date</th>\n",
       "      <th>Value</th>\n",
       "    </tr>\n",
       "  </thead>\n",
       "  <tbody>\n",
       "    <tr>\n",
       "      <th>163171</th>\n",
       "      <td>Abbeville city</td>\n",
       "      <td>Alabama</td>\n",
       "      <td>2010</td>\n",
       "      <td>2683</td>\n",
       "    </tr>\n",
       "    <tr>\n",
       "      <th>163172</th>\n",
       "      <td>Adamsville city</td>\n",
       "      <td>Alabama</td>\n",
       "      <td>2010</td>\n",
       "      <td>4517</td>\n",
       "    </tr>\n",
       "    <tr>\n",
       "      <th>163173</th>\n",
       "      <td>Addison town</td>\n",
       "      <td>Alabama</td>\n",
       "      <td>2010</td>\n",
       "      <td>754</td>\n",
       "    </tr>\n",
       "    <tr>\n",
       "      <th>163174</th>\n",
       "      <td>Akron town</td>\n",
       "      <td>Alabama</td>\n",
       "      <td>2010</td>\n",
       "      <td>355</td>\n",
       "    </tr>\n",
       "    <tr>\n",
       "      <th>163175</th>\n",
       "      <td>Alabaster city</td>\n",
       "      <td>Alabama</td>\n",
       "      <td>2010</td>\n",
       "      <td>31176</td>\n",
       "    </tr>\n",
       "  </tbody>\n",
       "</table>\n",
       "</div>"
      ],
      "text/plain": [
       "                   City    State  Date  Value\n",
       "163171   Abbeville city  Alabama  2010   2683\n",
       "163172  Adamsville city  Alabama  2010   4517\n",
       "163173     Addison town  Alabama  2010    754\n",
       "163174       Akron town  Alabama  2010    355\n",
       "163175   Alabaster city  Alabama  2010  31176"
      ]
     },
     "execution_count": 107,
     "metadata": {},
     "output_type": "execute_result"
    }
   ],
   "source": [
    "data2ts.head()"
   ]
  },
  {
   "cell_type": "markdown",
   "metadata": {},
   "source": [
    "# merge the two data sets together"
   ]
  },
  {
   "cell_type": "code",
   "execution_count": 108,
   "metadata": {},
   "outputs": [
    {
     "data": {
      "text/plain": [
       "195100"
      ]
     },
     "execution_count": 108,
     "metadata": {},
     "output_type": "execute_result"
    }
   ],
   "source": [
    "len(data1ts)"
   ]
  },
  {
   "cell_type": "code",
   "execution_count": 109,
   "metadata": {},
   "outputs": [
    {
     "data": {
      "text/plain": [
       "136570"
      ]
     },
     "execution_count": 109,
     "metadata": {},
     "output_type": "execute_result"
    }
   ],
   "source": [
    "len(data2ts)"
   ]
  },
  {
   "cell_type": "code",
   "execution_count": 113,
   "metadata": {},
   "outputs": [
    {
     "data": {
      "text/plain": [
       "331670"
      ]
     },
     "execution_count": 113,
     "metadata": {},
     "output_type": "execute_result"
    }
   ],
   "source": [
    "len(data1ts)+len(data2ts)"
   ]
  },
  {
   "cell_type": "code",
   "execution_count": 111,
   "metadata": {
    "collapsed": true
   },
   "outputs": [],
   "source": [
    "frames = [data1ts, data2ts]"
   ]
  },
  {
   "cell_type": "code",
   "execution_count": 112,
   "metadata": {},
   "outputs": [],
   "source": [
    "data = pd.concat(frames)"
   ]
  },
  {
   "cell_type": "code",
   "execution_count": 114,
   "metadata": {},
   "outputs": [
    {
     "data": {
      "text/plain": [
       "331670"
      ]
     },
     "execution_count": 114,
     "metadata": {},
     "output_type": "execute_result"
    }
   ],
   "source": [
    "len(data)"
   ]
  },
  {
   "cell_type": "markdown",
   "metadata": {},
   "source": [
    "# show some simple plots"
   ]
  },
  {
   "cell_type": "code",
   "execution_count": 136,
   "metadata": {},
   "outputs": [],
   "source": [
    "cityName = \"New York city\"\n",
    "stateName = \"New York\""
   ]
  },
  {
   "cell_type": "code",
   "execution_count": 139,
   "metadata": {},
   "outputs": [],
   "source": [
    "cityData = data[(data.City==cityName) & (data.State==stateName)]"
   ]
  },
  {
   "cell_type": "code",
   "execution_count": 140,
   "metadata": {},
   "outputs": [
    {
     "data": {
      "text/html": [
       "<div>\n",
       "<style>\n",
       "    .dataframe thead tr:only-child th {\n",
       "        text-align: right;\n",
       "    }\n",
       "\n",
       "    .dataframe thead th {\n",
       "        text-align: left;\n",
       "    }\n",
       "\n",
       "    .dataframe tbody tr th {\n",
       "        vertical-align: top;\n",
       "    }\n",
       "</style>\n",
       "<table border=\"1\" class=\"dataframe\">\n",
       "  <thead>\n",
       "    <tr style=\"text-align: right;\">\n",
       "      <th></th>\n",
       "      <th>City</th>\n",
       "      <th>State</th>\n",
       "      <th>Date</th>\n",
       "      <th>Value</th>\n",
       "    </tr>\n",
       "  </thead>\n",
       "  <tbody>\n",
       "    <tr>\n",
       "      <th>210234</th>\n",
       "      <td>New York city</td>\n",
       "      <td>New York</td>\n",
       "      <td>2000</td>\n",
       "      <td>8015348</td>\n",
       "    </tr>\n",
       "    <tr>\n",
       "      <th>291937</th>\n",
       "      <td>New York city</td>\n",
       "      <td>New York</td>\n",
       "      <td>2001</td>\n",
       "      <td>8063137</td>\n",
       "    </tr>\n",
       "    <tr>\n",
       "      <th>373640</th>\n",
       "      <td>New York city</td>\n",
       "      <td>New York</td>\n",
       "      <td>2002</td>\n",
       "      <td>8092749</td>\n",
       "    </tr>\n",
       "    <tr>\n",
       "      <th>455343</th>\n",
       "      <td>New York city</td>\n",
       "      <td>New York</td>\n",
       "      <td>2003</td>\n",
       "      <td>8126718</td>\n",
       "    </tr>\n",
       "    <tr>\n",
       "      <th>537046</th>\n",
       "      <td>New York city</td>\n",
       "      <td>New York</td>\n",
       "      <td>2004</td>\n",
       "      <td>8169940</td>\n",
       "    </tr>\n",
       "    <tr>\n",
       "      <th>618749</th>\n",
       "      <td>New York city</td>\n",
       "      <td>New York</td>\n",
       "      <td>2005</td>\n",
       "      <td>8213839</td>\n",
       "    </tr>\n",
       "    <tr>\n",
       "      <th>700452</th>\n",
       "      <td>New York city</td>\n",
       "      <td>New York</td>\n",
       "      <td>2006</td>\n",
       "      <td>8250567</td>\n",
       "    </tr>\n",
       "    <tr>\n",
       "      <th>782155</th>\n",
       "      <td>New York city</td>\n",
       "      <td>New York</td>\n",
       "      <td>2007</td>\n",
       "      <td>8310212</td>\n",
       "    </tr>\n",
       "    <tr>\n",
       "      <th>863858</th>\n",
       "      <td>New York city</td>\n",
       "      <td>New York</td>\n",
       "      <td>2008</td>\n",
       "      <td>8346794</td>\n",
       "    </tr>\n",
       "    <tr>\n",
       "      <th>945561</th>\n",
       "      <td>New York city</td>\n",
       "      <td>New York</td>\n",
       "      <td>2009</td>\n",
       "      <td>8391881</td>\n",
       "    </tr>\n",
       "    <tr>\n",
       "      <th>209887</th>\n",
       "      <td>New York city</td>\n",
       "      <td>New York</td>\n",
       "      <td>2010</td>\n",
       "      <td>8192026</td>\n",
       "    </tr>\n",
       "    <tr>\n",
       "      <th>291472</th>\n",
       "      <td>New York city</td>\n",
       "      <td>New York</td>\n",
       "      <td>2011</td>\n",
       "      <td>8284098</td>\n",
       "    </tr>\n",
       "    <tr>\n",
       "      <th>373057</th>\n",
       "      <td>New York city</td>\n",
       "      <td>New York</td>\n",
       "      <td>2012</td>\n",
       "      <td>8361179</td>\n",
       "    </tr>\n",
       "    <tr>\n",
       "      <th>454642</th>\n",
       "      <td>New York city</td>\n",
       "      <td>New York</td>\n",
       "      <td>2013</td>\n",
       "      <td>8422460</td>\n",
       "    </tr>\n",
       "    <tr>\n",
       "      <th>536227</th>\n",
       "      <td>New York city</td>\n",
       "      <td>New York</td>\n",
       "      <td>2014</td>\n",
       "      <td>8471990</td>\n",
       "    </tr>\n",
       "    <tr>\n",
       "      <th>617812</th>\n",
       "      <td>New York city</td>\n",
       "      <td>New York</td>\n",
       "      <td>2015</td>\n",
       "      <td>8516502</td>\n",
       "    </tr>\n",
       "    <tr>\n",
       "      <th>699397</th>\n",
       "      <td>New York city</td>\n",
       "      <td>New York</td>\n",
       "      <td>2016</td>\n",
       "      <td>8537673</td>\n",
       "    </tr>\n",
       "  </tbody>\n",
       "</table>\n",
       "</div>"
      ],
      "text/plain": [
       "                 City     State  Date    Value\n",
       "210234  New York city  New York  2000  8015348\n",
       "291937  New York city  New York  2001  8063137\n",
       "373640  New York city  New York  2002  8092749\n",
       "455343  New York city  New York  2003  8126718\n",
       "537046  New York city  New York  2004  8169940\n",
       "618749  New York city  New York  2005  8213839\n",
       "700452  New York city  New York  2006  8250567\n",
       "782155  New York city  New York  2007  8310212\n",
       "863858  New York city  New York  2008  8346794\n",
       "945561  New York city  New York  2009  8391881\n",
       "209887  New York city  New York  2010  8192026\n",
       "291472  New York city  New York  2011  8284098\n",
       "373057  New York city  New York  2012  8361179\n",
       "454642  New York city  New York  2013  8422460\n",
       "536227  New York city  New York  2014  8471990\n",
       "617812  New York city  New York  2015  8516502\n",
       "699397  New York city  New York  2016  8537673"
      ]
     },
     "execution_count": 140,
     "metadata": {},
     "output_type": "execute_result"
    }
   ],
   "source": [
    "cityData"
   ]
  },
  {
   "cell_type": "code",
   "execution_count": 141,
   "metadata": {},
   "outputs": [
    {
     "data": {
      "text/plain": [
       "<matplotlib.text.Text at 0x1bd1d4e0>"
      ]
     },
     "execution_count": 141,
     "metadata": {},
     "output_type": "execute_result"
    },
    {
     "data": {
      "image/png": "[encoded data removed]",
      "text/plain": [
       "<matplotlib.figure.Figure at 0x10aa5518>"
      ]
     },
     "metadata": {},
     "output_type": "display_data"
    }
   ],
   "source": [
    "plt.plot(cityData.Date.astype('int'), cityData.Value)\n",
    "plt.title(\"{} Population\".format(cityName))\n",
    "plt.ylabel(\"Population\")\n",
    "plt.xlabel(\"Year\")"
   ]
  },
  {
   "cell_type": "code",
   "execution_count": 142,
   "metadata": {
    "collapsed": true
   },
   "outputs": [],
   "source": [
    "locations = [('Baltimore city', 'Maryland'), \n",
    "             ('Boston city', 'Massachusetts'), \n",
    "             ('New York city', 'New York'), \n",
    "             ('Philadelphia city','Pennsylvania'), \n",
    "             ('Washington city', 'District of Columbia')]"
   ]
  },
  {
   "cell_type": "code",
   "execution_count": 143,
   "metadata": {},
   "outputs": [
    {
     "data": {
      "text/plain": [
       "Index(['City', 'State', 'Date', 'Value'], dtype='object')"
      ]
     },
     "execution_count": 143,
     "metadata": {},
     "output_type": "execute_result"
    }
   ],
   "source": [
    "data.columns"
   ]
  },
  {
   "cell_type": "code",
   "execution_count": 144,
   "metadata": {
    "collapsed": true
   },
   "outputs": [],
   "source": [
    "selection = pd.DataFrame(columns=data.columns)"
   ]
  },
  {
   "cell_type": "code",
   "execution_count": 146,
   "metadata": {},
   "outputs": [
    {
     "data": {
      "text/html": [
       "<div>\n",
       "<style>\n",
       "    .dataframe thead tr:only-child th {\n",
       "        text-align: right;\n",
       "    }\n",
       "\n",
       "    .dataframe thead th {\n",
       "        text-align: left;\n",
       "    }\n",
       "\n",
       "    .dataframe tbody tr th {\n",
       "        vertical-align: top;\n",
       "    }\n",
       "</style>\n",
       "<table border=\"1\" class=\"dataframe\">\n",
       "  <thead>\n",
       "    <tr style=\"text-align: right;\">\n",
       "      <th></th>\n",
       "      <th>City</th>\n",
       "      <th>State</th>\n",
       "      <th>Date</th>\n",
       "      <th>Value</th>\n",
       "    </tr>\n",
       "  </thead>\n",
       "  <tbody>\n",
       "  </tbody>\n",
       "</table>\n",
       "</div>"
      ],
      "text/plain": [
       "Empty DataFrame\n",
       "Columns: [City, State, Date, Value]\n",
       "Index: []"
      ]
     },
     "execution_count": 146,
     "metadata": {},
     "output_type": "execute_result"
    }
   ],
   "source": [
    "selection"
   ]
  },
  {
   "cell_type": "code",
   "execution_count": 147,
   "metadata": {
    "collapsed": true
   },
   "outputs": [],
   "source": [
    "for city, state in locations:\n",
    "    query = data[(data.City==city) & (data.State==state)]\n",
    "    frames = [selection, query]\n",
    "    selection = pd.concat(frames)"
   ]
  },
  {
   "cell_type": "code",
   "execution_count": 155,
   "metadata": {},
   "outputs": [
    {
     "name": "stdout",
     "output_type": "stream",
     "text": [
      "                  City     State  Date   Value\n",
      "191291  Baltimore city  Maryland  2000  648654\n",
      "272994  Baltimore city  Maryland  2001  645253\n",
      "354697  Baltimore city  Maryland  2002  642246\n",
      "436400  Baltimore city  Maryland  2003  642324\n",
      "518103  Baltimore city  Maryland  2004  641004 \n",
      "                    City                 State  Date   Value\n",
      "331366  Washington city  District of Columbia  2012  635327\n",
      "412951  Washington city  District of Columbia  2013  649165\n",
      "494536  Washington city  District of Columbia  2014  659005\n",
      "576121  Washington city  District of Columbia  2015  670377\n",
      "657706  Washington city  District of Columbia  2016  681170\n"
     ]
    }
   ],
   "source": [
    "print(selection.head(),\"\\n\", selection.tail())"
   ]
  },
  {
   "cell_type": "markdown",
   "metadata": {},
   "source": [
    "# plot the city populations"
   ]
  },
  {
   "cell_type": "code",
   "execution_count": 264,
   "metadata": {},
   "outputs": [
    {
     "data": {
      "image/png": "[encoded data removed]",
      "text/plain": [
       "<matplotlib.figure.Figure at 0x10a76080>"
      ]
     },
     "metadata": {},
     "output_type": "display_data"
    }
   ],
   "source": [
    "fig = plt.figure()\n",
    "ax = plt.subplot(111)\n",
    "\n",
    "legends = []\n",
    "for key, grp in selection.groupby(['City']): \n",
    "    #print(\"key: {}, grp: {}\".format(key, type(grp)))\n",
    "    x = grp.Date # list([datetime.datetime.strptime(d,'%Y/%m').date() for d in grp.date.values])\n",
    "    y = grp.Value # list(grp.value.values)\n",
    "    ax.plot(x, y, label=key)\n",
    "    legends.append(key)\n",
    "\n",
    "box = ax.get_position()\n",
    "ax.set_position([box.x0, box.y0, box.width * 0.8, box.height])\n",
    "\n",
    "ax.legend(loc='center left', bbox_to_anchor=(1, 0.5))\n",
    "ax.set_title(\"Population, 2000-2016\")\n",
    "ax.set_ylabel(\"Number of People\")\n",
    "ax.set_xlabel(\"Year\")\n",
    "fig.autofmt_xdate()\n",
    "\n",
    "plt.show()"
   ]
  },
  {
   "cell_type": "markdown",
   "metadata": {},
   "source": [
    "# plot the city populations using log scale"
   ]
  },
  {
   "cell_type": "code",
   "execution_count": 158,
   "metadata": {},
   "outputs": [
    {
     "data": {
      "image/png": "[encoded data removed]",
      "text/plain": [
       "<matplotlib.figure.Figure at 0xb6b7588>"
      ]
     },
     "metadata": {},
     "output_type": "display_data"
    }
   ],
   "source": [
    "fig, ax = plt.subplots()\n",
    "\n",
    "for key, grp in selection.groupby(['City']): \n",
    "    #print(\"key: {}, grp: {}\".format(key, type(grp)))\n",
    "    x = grp.Date # list([datetime.datetime.strptime(d,'%Y/%m').date() for d in grp.date.values])\n",
    "    y = grp.Value # list(grp.value.values)\n",
    "    ax.set_yscale('log')\n",
    "    ax.set_ylim(500000, 10000000)\n",
    "    ax.plot(x, y, label=key)"
   ]
  },
  {
   "cell_type": "markdown",
   "metadata": {},
   "source": [
    "# plot city populations separately"
   ]
  },
  {
   "cell_type": "code",
   "execution_count": 252,
   "metadata": {},
   "outputs": [
    {
     "name": "stdout",
     "output_type": "stream",
     "text": [
      "key: Baltimore city, grp: <class 'pandas.core.frame.DataFrame'>\n",
      "key: Boston city, grp: <class 'pandas.core.frame.DataFrame'>\n",
      "key: New York city, grp: <class 'pandas.core.frame.DataFrame'>\n",
      "key: Philadelphia city, grp: <class 'pandas.core.frame.DataFrame'>\n",
      "key: Washington city, grp: <class 'pandas.core.frame.DataFrame'>\n"
     ]
    },
    {
     "data": {
      "image/png": "[encoded data removed]",
      "text/plain": [
       "<matplotlib.figure.Figure at 0xb96c3c8>"
      ]
     },
     "metadata": {},
     "output_type": "display_data"
    }
   ],
   "source": [
    "import matplotlib.dates as mdates\n",
    "\n",
    "fig, axs = plt.subplots(5, sharex=True)\n",
    "fig.subplots_adjust(hspace=5.0)\n",
    "\n",
    "count = 0\n",
    "for key, grp in selection.groupby(['City']): \n",
    "    print(\"key: {}, grp: {}\".format(key, type(grp)))\n",
    "    x = grp.Date # list([datetime.datetime.strptime(d,'%Y/%m').date() for d in grp.date.values])\n",
    "    y = grp.Value # list(grp.value.values)\n",
    "    ax = axs[count]\n",
    "    ax.plot(x, y, label=key)\n",
    "    ax.set_ylim(min(y), max(y))\n",
    "    ax.fmt_xdata = mdates.DateFormatter('%Y')\n",
    "    ax.set_title(\"{}\".format(key))\n",
    "    #ax.legend(key, loc='upper right', bbox_to_anchor=(1.2, 1.15))\n",
    "    count += 1\n",
    "\n",
    "fig.autofmt_xdate()\n",
    "fig.tight_layout()\n",
    "plt.show()"
   ]
  },
  {
   "cell_type": "code",
   "execution_count": 254,
   "metadata": {},
   "outputs": [
    {
     "name": "stdout",
     "output_type": "stream",
     "text": [
      "key: Baltimore city, grp: <class 'pandas.core.frame.DataFrame'>\n",
      "key: Boston city, grp: <class 'pandas.core.frame.DataFrame'>\n",
      "key: New York city, grp: <class 'pandas.core.frame.DataFrame'>\n",
      "key: Philadelphia city, grp: <class 'pandas.core.frame.DataFrame'>\n",
      "key: Washington city, grp: <class 'pandas.core.frame.DataFrame'>\n"
     ]
    },
    {
     "data": {
      "image/png": "[encoded data removed]",
      "text/plain": [
       "<matplotlib.figure.Figure at 0xb8a7518>"
      ]
     },
     "metadata": {},
     "output_type": "display_data"
    }
   ],
   "source": [
    "import datetime\n",
    "import numpy as np\n",
    "import matplotlib.pyplot as plt\n",
    "import matplotlib.dates as mdates\n",
    "import matplotlib.cbook as cbook\n",
    "from matplotlib.ticker import FormatStrFormatter\n",
    "\n",
    "years = mdates.YearLocator()   # every year\n",
    "months = mdates.MonthLocator()  # every month\n",
    "yearsFmt = mdates.DateFormatter('%Y')\n",
    "\n",
    "fig = plt.figure(figsize=(4.8, 6.4))\n",
    "\n",
    "count = 1\n",
    "for key, grp in selection.groupby(['City']): \n",
    "    print(\"key: {}, grp: {}\".format(key, type(grp)))\n",
    "    x = grp.Date  # list([datetime.datetime.strptime(d,'%Y/%m').date() for d in grp.date.values])\n",
    "    y = grp.Value # list(grp.value.values)\n",
    "    plt.subplot(5, 1, count)\n",
    "    plt.title(\"{}\".format(key))\n",
    "    plt.plot(x, y)\n",
    "    count += 1\n",
    "\n",
    "fig.autofmt_xdate()\n",
    "fig.tight_layout()\n",
    "plt.gca().xaxis.set_major_formatter(FormatStrFormatter('%d')) \n",
    "plt.show()"
   ]
  },
  {
   "cell_type": "markdown",
   "metadata": {},
   "source": [
    "# look at population as growth rate"
   ]
  },
  {
   "cell_type": "code",
   "execution_count": 263,
   "metadata": {},
   "outputs": [
    {
     "name": "stdout",
     "output_type": "stream",
     "text": [
      "key: Baltimore city, grp: <class 'pandas.core.frame.DataFrame'>\n",
      "key: Boston city, grp: <class 'pandas.core.frame.DataFrame'>\n",
      "key: New York city, grp: <class 'pandas.core.frame.DataFrame'>\n",
      "key: Philadelphia city, grp: <class 'pandas.core.frame.DataFrame'>\n",
      "key: Washington city, grp: <class 'pandas.core.frame.DataFrame'>\n"
     ]
    },
    {
     "data": {
      "image/png": "[encoded data removed]",
      "text/plain": [
       "<matplotlib.figure.Figure at 0x221a1080>"
      ]
     },
     "metadata": {},
     "output_type": "display_data"
    }
   ],
   "source": [
    "import matplotlib.dates as mdates\n",
    "\n",
    "fig, axs = plt.subplots(5, sharex=True)\n",
    "fig.subplots_adjust(hspace=5.0)\n",
    "\n",
    "count = 0\n",
    "for key, grp in selection.groupby(['City']): \n",
    "    print(\"key: {}, grp: {}\".format(key, type(grp)))\n",
    "    # x = grp.Date # list([datetime.datetime.strptime(d,'%Y/%m').date() for d in grp.date.values])\n",
    "    # y = grp.Value # list(grp.value.values)\n",
    "    deltas = (grp.Value.values[1:] - grp.Value.values[:-1])*100.0\n",
    "    y = deltas / grp.Value.values[:-1]\n",
    "    x = np.arange(len(y))\n",
    "    ax = axs[count]\n",
    "    ax.plot(x, y, label=key)\n",
    "    ax.set_ylim(min(y), max(y))\n",
    "    ax.fmt_xdata = mdates.DateFormatter('%Y')\n",
    "    ax.set_title(\"{}\".format(key))\n",
    "    #ax.legend(key, loc='upper right', bbox_to_anchor=(1.2, 1.15))\n",
    "    count += 1\n",
    "\n",
    "fig.autofmt_xdate()\n",
    "fig.tight_layout()\n",
    "plt.show()"
   ]
  },
  {
   "cell_type": "code",
   "execution_count": null,
   "metadata": {
    "collapsed": true
   },
   "outputs": [],
   "source": []
  }
 ],
 "metadata": {
  "kernelspec": {
   "display_name": "Python 3",
   "language": "python",
   "name": "python3"
  },
  "language_info": {
   "codemirror_mode": {
    "name": "ipython",
    "version": 3
   },
   "file_extension": ".py",
   "mimetype": "text/x-python",
   "name": "python",
   "nbconvert_exporter": "python",
   "pygments_lexer": "ipython3",
   "version": "3.6.1"
  }
 },
 "nbformat": 4,
 "nbformat_minor": 2
}
