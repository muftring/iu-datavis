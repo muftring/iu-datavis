{
 "cells": [
  {
   "cell_type": "markdown",
   "metadata": {},
   "source": [
    "# Project"
   ]
  },
  {
   "cell_type": "code",
   "execution_count": 1,
   "metadata": {
    "collapsed": true
   },
   "outputs": [],
   "source": [
    "import requests\n",
    "import json\n",
    "import prettytable\n",
    "\n",
    "import pandas as pd\n",
    "import numpy as np\n",
    "import matplotlib.pyplot as plt\n",
    "\n",
    "%matplotlib inline"
   ]
  },
  {
   "cell_type": "markdown",
   "metadata": {},
   "source": [
    "# code to: decode Months and Dates"
   ]
  },
  {
   "cell_type": "code",
   "execution_count": 2,
   "metadata": {
    "collapsed": true
   },
   "outputs": [],
   "source": [
    "code2month = {\n",
    "    \"M01\" : \"January\",\n",
    "    \"M02\" : \"February\",\n",
    "    \"M03\" : \"March\",\n",
    "    \"M04\" : \"April\",\n",
    "    \"M05\" : \"May\",\n",
    "    \"M06\" : \"June\",\n",
    "    \"M07\" : \"July\",\n",
    "    \"M08\" : \"August\",\n",
    "    \"M09\" : \"September\",\n",
    "    \"M10\" : \"October\",\n",
    "    \"M11\" : \"November\",\n",
    "    \"M12\" : \"December\"\n",
    "}\n",
    "\n",
    "month2number = {\n",
    "    \"January\" : \"01\",\n",
    "    \"February\" : \"02\",\n",
    "    \"March\" : \"03\",\n",
    "    \"April\" : \"04\",\n",
    "    \"May\" : \"05\",\n",
    "    \"June\" : \"06\",\n",
    "    \"July\" : \"07\",\n",
    "    \"August\" : \"08\",\n",
    "    \"September\" : \"09\",\n",
    "    \"October\" : \"10\",\n",
    "    \"November\" : \"11\",\n",
    "    \"December\" : \"12\"\n",
    "}\n",
    "\n",
    "def dateFrom(year, month):\n",
    "    return \"{}/{}\".format(year,month2number[month])\n"
   ]
  },
  {
   "cell_type": "markdown",
   "metadata": {},
   "source": [
    "# code to: decode the City/Town"
   ]
  },
  {
   "cell_type": "code",
   "execution_count": 3,
   "metadata": {
    "collapsed": true
   },
   "outputs": [],
   "source": [
    "code2citytown = {}\n",
    "citytown2code = {}\n",
    "\n",
    "file = open(\"bls-cities-and-towns.raw\", \"r\")\n",
    "\n",
    "count = 0\n",
    "for line in file.readlines():\n",
    "    count += 1\n",
    "    ignore, code, citytownstate = line.rstrip().split(\">\", 2)[1].split(\" \",2)\n",
    "    citytown, state = citytownstate.split(\",\")\n",
    "    code2citytown[code]=citytown\n",
    "    citytown2code[citytown]=code\n",
    "    #print(\"line: {} code: {} citytownstate: {}, citytown: {}, state: {}\".format(count, code, citytownstate, citytown, state))\n",
    "\n",
    "file.close()\n",
    "\n",
    "def decodeCityTown(s):\n",
    "    code = s[3:len(s)-2]\n",
    "    return code2citytown[code]\n",
    "\n",
    "import re\n",
    "def searchDictionary(d, city):\n",
    "    #print(\"searching for:\", city)\n",
    "    res = []\n",
    "    for key in d.keys():\n",
    "        if re.match(city, key):\n",
    "            res.append(d[key])\n",
    "    return res\n",
    "\n",
    "def findCityTownCode(city):\n",
    "    return searchDictionary(citytown2code, city)\n",
    "\n",
    "def trimCityName(city):\n",
    "    return city.replace(\" city\",\"\").replace(\" County/city\",\"\")"
   ]
  },
  {
   "cell_type": "code",
   "execution_count": 4,
   "metadata": {},
   "outputs": [
    {
     "name": "stdout",
     "output_type": "stream",
     "text": [
      "city: Dallas trim: Dallas code: ['CT4819000000000']\n"
     ]
    }
   ],
   "source": [
    "city = \"Dallas\"\n",
    "code = findCityTownCode(city)\n",
    "print(\"city: {} trim: {} code: {}\".format(city, trimCityName(city), code))"
   ]
  },
  {
   "cell_type": "markdown",
   "metadata": {},
   "source": [
    "# code to: decode the State"
   ]
  },
  {
   "cell_type": "code",
   "execution_count": 5,
   "metadata": {
    "collapsed": true
   },
   "outputs": [],
   "source": [
    "code2state = {}\n",
    "\n",
    "file = open(\"bls-state-codes.raw\", \"r\")\n",
    "\n",
    "count = 0\n",
    "for line in file.readlines():\n",
    "    count += 1\n",
    "    ignore, code, state = line.rstrip().split(\">\", 2)[1].split(\" \",2)\n",
    "    code2state[code]=state\n",
    "    #print(\"line: {} code: {} state: {}\".format(count, code, state))\n",
    "\n",
    "file.close()\n",
    "\n",
    "def decodeState(s):\n",
    "    code = s[5:7]\n",
    "    return code2state[code]\n"
   ]
  },
  {
   "cell_type": "markdown",
   "metadata": {},
   "source": [
    "# code to: decode the Measure"
   ]
  },
  {
   "cell_type": "code",
   "execution_count": 6,
   "metadata": {
    "collapsed": true
   },
   "outputs": [],
   "source": [
    "code2measure = {\n",
    "    \"03\" : \"unemployment-rate\",\n",
    "    \"04\" : \"unemployment\",\n",
    "    \"05\" : \"employment\",\n",
    "    \"06\" : \"labor-force\"\n",
    "}\n",
    "\n",
    "measure2Code = {\n",
    "    \"unemployment-rate\" : \"03\",\n",
    "    \"unemployment\" : \"04\",\n",
    "    \"employment\" : \"05\",\n",
    "    \"labor-force\" : \"06\"\n",
    "}\n",
    "\n",
    "def findMeasureCode(s):\n",
    "    return measure2Code[s]\n",
    "\n",
    "def decodeMeasure(s):\n",
    "    code = s[len(s)-2:]\n",
    "    return code2measure[code]\n"
   ]
  },
  {
   "cell_type": "markdown",
   "metadata": {},
   "source": [
    "# input parameters for data request"
   ]
  },
  {
   "cell_type": "code",
   "execution_count": 7,
   "metadata": {
    "collapsed": true
   },
   "outputs": [],
   "source": [
    "cityListGeoRegional = [\"Boston\", \"New York\", \"Philadelphia\", \"Baltimore\", \"Washington city\"]\n",
    "cityListPopSize = [\"Phoenix\", \"Philadelphia\", \"San Antonio\", \"San Diego\", \"Dallas\"]\n",
    "\n",
    "cityList = cityListGeoRegional\n",
    "\n",
    "startYear = 2008\n",
    "endYear = 2017\n",
    "\n",
    "seasonalAdjustment = \"no\"\n",
    "measure = \"labor-force\""
   ]
  },
  {
   "cell_type": "markdown",
   "metadata": {},
   "source": [
    "# construct the BLS Series ID"
   ]
  },
  {
   "cell_type": "code",
   "execution_count": 8,
   "metadata": {},
   "outputs": [
    {
     "name": "stdout",
     "output_type": "stream",
     "text": [
      "city: Boston code: ['CT2507000000000'] seriesID: LAUCT250700000000006\n",
      "city: New York code: ['CT3651000000000'] seriesID: LAUCT365100000000006\n",
      "city: Philadelphia code: ['CT4260000000000'] seriesID: LAUCT426000000000006\n",
      "city: Baltimore code: ['CT2404000000000'] seriesID: LAUCT240400000000006\n",
      "city: Washington city code: ['CT1150000000000'] seriesID: LAUCT115000000000006\n"
     ]
    }
   ],
   "source": [
    "seriesIDs = []\n",
    "\n",
    "dataSet = \"LA\"\n",
    "\n",
    "if seasonalAdjustment == \"yes\":\n",
    "    saCode = \"S\"\n",
    "else:\n",
    "    saCode = \"U\"\n",
    "\n",
    "measureCode = findMeasureCode(measure)\n",
    "\n",
    "for city in cityList:\n",
    "    cityCode = findCityTownCode(city)\n",
    "    seriesID = \"{}{}{}{}\".format(dataSet, saCode, cityCode[0], measureCode)\n",
    "    print(\"city: {} code: {} seriesID: {}\".format(city, cityCode, seriesID))\n",
    "    seriesIDs.append(seriesID)\n",
    "\n",
    "# an array of strings which represent BLS Series IDs\n",
    "# seriesID = ['LAUMT423798000000003']\n",
    "# seriesID = ['LAUCT426000000000003']\n",
    "# seriesID = [\"{}{}{}{}\".format(dataSet, saCode, cityCode[0], measureCode)]"
   ]
  },
  {
   "cell_type": "code",
   "execution_count": 9,
   "metadata": {},
   "outputs": [
    {
     "name": "stdout",
     "output_type": "stream",
     "text": [
      "['LAUCT250700000000006', 'LAUCT365100000000006', 'LAUCT426000000000006', 'LAUCT240400000000006', 'LAUCT115000000000006']\n"
     ]
    }
   ],
   "source": [
    "print(seriesIDs)"
   ]
  },
  {
   "cell_type": "markdown",
   "metadata": {},
   "source": [
    "# build the data request"
   ]
  },
  {
   "cell_type": "code",
   "execution_count": 10,
   "metadata": {
    "collapsed": true
   },
   "outputs": [],
   "source": [
    "headers = {'Content-type': 'application/json'}\n",
    "request = json.dumps({\"seriesid\": seriesIDs,\"startyear\":\"{}\".format(startYear), \"endyear\":\"{}\".format(endYear)})"
   ]
  },
  {
   "cell_type": "code",
   "execution_count": 11,
   "metadata": {},
   "outputs": [
    {
     "name": "stdout",
     "output_type": "stream",
     "text": [
      "{\"seriesid\": [\"LAUCT250700000000006\", \"LAUCT365100000000006\", \"LAUCT426000000000006\", \"LAUCT240400000000006\", \"LAUCT115000000000006\"], \"startyear\": \"2008\", \"endyear\": \"2017\"}\n"
     ]
    }
   ],
   "source": [
    "print(request)"
   ]
  },
  {
   "cell_type": "markdown",
   "metadata": {},
   "source": [
    "# send the request"
   ]
  },
  {
   "cell_type": "code",
   "execution_count": 12,
   "metadata": {
    "collapsed": true
   },
   "outputs": [],
   "source": [
    "# get the data using API\n",
    "p = requests.post('https://api.bls.gov/publicAPI/v1/timeseries/data/', data=request, headers=headers)"
   ]
  },
  {
   "cell_type": "markdown",
   "metadata": {},
   "source": [
    "# extract the JSON data payload from the response"
   ]
  },
  {
   "cell_type": "code",
   "execution_count": 13,
   "metadata": {
    "collapsed": true
   },
   "outputs": [],
   "source": [
    "json_data = json.loads(p.text)"
   ]
  },
  {
   "cell_type": "markdown",
   "metadata": {},
   "source": [
    "# define the resulting dataset columns"
   ]
  },
  {
   "cell_type": "code",
   "execution_count": 14,
   "metadata": {
    "collapsed": true
   },
   "outputs": [],
   "source": [
    "colNames = [\"seriesid\",\"year\",\"month\",\"period\",\"date\",\"state\",\"city\",\"measure\",\"value\",\"footnotes\"]"
   ]
  },
  {
   "cell_type": "markdown",
   "metadata": {},
   "source": [
    "# extract and process the JSON payload into a *PrettyTable*  and a plain Python array..."
   ]
  },
  {
   "cell_type": "code",
   "execution_count": 15,
   "metadata": {
    "collapsed": true
   },
   "outputs": [],
   "source": [
    "data = []\n",
    "for series in json_data['Results']['series']:\n",
    "    x=prettytable.PrettyTable(colNames)\n",
    "    seriesId = series['seriesID']\n",
    "    for item in series['data']:\n",
    "        year = item['year']\n",
    "        period = item['period']\n",
    "        month = code2month[period]\n",
    "        date = dateFrom(year, month)\n",
    "        state = decodeState(seriesId)\n",
    "        city = decodeCityTown(seriesId)\n",
    "        measure = decodeMeasure(seriesId)\n",
    "        value = item['value']\n",
    "        footnotes=\"\"\n",
    "        for footnote in item['footnotes']:\n",
    "            if footnote:\n",
    "                footnotes = footnotes + footnote['text'] + ','\n",
    "        if 'M01' <= period <= 'M12':\n",
    "            row = [seriesId,year,month,period,date,state,city,measure,value,footnotes[0:-1]]\n",
    "            x.add_row(row)\n",
    "            data.append(row)"
   ]
  },
  {
   "cell_type": "markdown",
   "metadata": {},
   "source": [
    "# create a *DataFrame*"
   ]
  },
  {
   "cell_type": "code",
   "execution_count": 16,
   "metadata": {},
   "outputs": [
    {
     "data": {
      "text/plain": [
       "[['LAUCT365100000000006',\n",
       "  '2017',\n",
       "  'September',\n",
       "  'M09',\n",
       "  '2017/09',\n",
       "  'New York',\n",
       "  'New York city',\n",
       "  'labor-force',\n",
       "  '4257955',\n",
       "  'Preliminary.'],\n",
       " ['LAUCT365100000000006',\n",
       "  '2017',\n",
       "  'August',\n",
       "  'M08',\n",
       "  '2017/08',\n",
       "  'New York',\n",
       "  'New York city',\n",
       "  'labor-force',\n",
       "  '4236476',\n",
       "  '']]"
      ]
     },
     "execution_count": 16,
     "metadata": {},
     "output_type": "execute_result"
    }
   ],
   "source": [
    "data[0:2]"
   ]
  },
  {
   "cell_type": "code",
   "execution_count": 21,
   "metadata": {
    "collapsed": true
   },
   "outputs": [],
   "source": [
    "dfLaborForce = pd.DataFrame(data, columns=colNames)"
   ]
  },
  {
   "cell_type": "code",
   "execution_count": 22,
   "metadata": {},
   "outputs": [
    {
     "data": {
      "text/html": [
       "<div>\n",
       "<style>\n",
       "    .dataframe thead tr:only-child th {\n",
       "        text-align: right;\n",
       "    }\n",
       "\n",
       "    .dataframe thead th {\n",
       "        text-align: left;\n",
       "    }\n",
       "\n",
       "    .dataframe tbody tr th {\n",
       "        vertical-align: top;\n",
       "    }\n",
       "</style>\n",
       "<table border=\"1\" class=\"dataframe\">\n",
       "  <thead>\n",
       "    <tr style=\"text-align: right;\">\n",
       "      <th></th>\n",
       "      <th>seriesid</th>\n",
       "      <th>year</th>\n",
       "      <th>month</th>\n",
       "      <th>period</th>\n",
       "      <th>date</th>\n",
       "      <th>state</th>\n",
       "      <th>city</th>\n",
       "      <th>measure</th>\n",
       "      <th>value</th>\n",
       "      <th>footnotes</th>\n",
       "    </tr>\n",
       "  </thead>\n",
       "  <tbody>\n",
       "    <tr>\n",
       "      <th>0</th>\n",
       "      <td>LAUCT365100000000006</td>\n",
       "      <td>2017</td>\n",
       "      <td>September</td>\n",
       "      <td>M09</td>\n",
       "      <td>2017/09</td>\n",
       "      <td>New York</td>\n",
       "      <td>New York city</td>\n",
       "      <td>labor-force</td>\n",
       "      <td>4257955</td>\n",
       "      <td>Preliminary.</td>\n",
       "    </tr>\n",
       "    <tr>\n",
       "      <th>1</th>\n",
       "      <td>LAUCT365100000000006</td>\n",
       "      <td>2017</td>\n",
       "      <td>August</td>\n",
       "      <td>M08</td>\n",
       "      <td>2017/08</td>\n",
       "      <td>New York</td>\n",
       "      <td>New York city</td>\n",
       "      <td>labor-force</td>\n",
       "      <td>4236476</td>\n",
       "      <td></td>\n",
       "    </tr>\n",
       "    <tr>\n",
       "      <th>2</th>\n",
       "      <td>LAUCT365100000000006</td>\n",
       "      <td>2017</td>\n",
       "      <td>July</td>\n",
       "      <td>M07</td>\n",
       "      <td>2017/07</td>\n",
       "      <td>New York</td>\n",
       "      <td>New York city</td>\n",
       "      <td>labor-force</td>\n",
       "      <td>4280291</td>\n",
       "      <td></td>\n",
       "    </tr>\n",
       "    <tr>\n",
       "      <th>3</th>\n",
       "      <td>LAUCT365100000000006</td>\n",
       "      <td>2017</td>\n",
       "      <td>June</td>\n",
       "      <td>M06</td>\n",
       "      <td>2017/06</td>\n",
       "      <td>New York</td>\n",
       "      <td>New York city</td>\n",
       "      <td>labor-force</td>\n",
       "      <td>4222245</td>\n",
       "      <td></td>\n",
       "    </tr>\n",
       "    <tr>\n",
       "      <th>4</th>\n",
       "      <td>LAUCT365100000000006</td>\n",
       "      <td>2017</td>\n",
       "      <td>May</td>\n",
       "      <td>M05</td>\n",
       "      <td>2017/05</td>\n",
       "      <td>New York</td>\n",
       "      <td>New York city</td>\n",
       "      <td>labor-force</td>\n",
       "      <td>4201720</td>\n",
       "      <td></td>\n",
       "    </tr>\n",
       "  </tbody>\n",
       "</table>\n",
       "</div>"
      ],
      "text/plain": [
       "               seriesid  year      month period     date     state  \\\n",
       "0  LAUCT365100000000006  2017  September    M09  2017/09  New York   \n",
       "1  LAUCT365100000000006  2017     August    M08  2017/08  New York   \n",
       "2  LAUCT365100000000006  2017       July    M07  2017/07  New York   \n",
       "3  LAUCT365100000000006  2017       June    M06  2017/06  New York   \n",
       "4  LAUCT365100000000006  2017        May    M05  2017/05  New York   \n",
       "\n",
       "            city      measure    value     footnotes  \n",
       "0  New York city  labor-force  4257955  Preliminary.  \n",
       "1  New York city  labor-force  4236476                \n",
       "2  New York city  labor-force  4280291                \n",
       "3  New York city  labor-force  4222245                \n",
       "4  New York city  labor-force  4201720                "
      ]
     },
     "execution_count": 22,
     "metadata": {},
     "output_type": "execute_result"
    }
   ],
   "source": [
    "dfLaborForce.head()"
   ]
  },
  {
   "cell_type": "code",
   "execution_count": 23,
   "metadata": {},
   "outputs": [
    {
     "data": {
      "text/html": [
       "<div>\n",
       "<style>\n",
       "    .dataframe thead tr:only-child th {\n",
       "        text-align: right;\n",
       "    }\n",
       "\n",
       "    .dataframe thead th {\n",
       "        text-align: left;\n",
       "    }\n",
       "\n",
       "    .dataframe tbody tr th {\n",
       "        vertical-align: top;\n",
       "    }\n",
       "</style>\n",
       "<table border=\"1\" class=\"dataframe\">\n",
       "  <thead>\n",
       "    <tr style=\"text-align: right;\">\n",
       "      <th></th>\n",
       "      <th>seriesid</th>\n",
       "      <th>year</th>\n",
       "      <th>month</th>\n",
       "      <th>period</th>\n",
       "      <th>date</th>\n",
       "      <th>state</th>\n",
       "      <th>city</th>\n",
       "      <th>measure</th>\n",
       "      <th>value</th>\n",
       "      <th>footnotes</th>\n",
       "    </tr>\n",
       "  </thead>\n",
       "  <tbody>\n",
       "    <tr>\n",
       "      <th>2</th>\n",
       "      <td>LAUCT365100000000006</td>\n",
       "      <td>2017</td>\n",
       "      <td>July</td>\n",
       "      <td>M07</td>\n",
       "      <td>2017/07</td>\n",
       "      <td>New York</td>\n",
       "      <td>New York city</td>\n",
       "      <td>labor-force</td>\n",
       "      <td>4280291</td>\n",
       "      <td></td>\n",
       "    </tr>\n",
       "    <tr>\n",
       "      <th>14</th>\n",
       "      <td>LAUCT365100000000006</td>\n",
       "      <td>2016</td>\n",
       "      <td>July</td>\n",
       "      <td>M07</td>\n",
       "      <td>2016/07</td>\n",
       "      <td>New York</td>\n",
       "      <td>New York city</td>\n",
       "      <td>labor-force</td>\n",
       "      <td>4165039</td>\n",
       "      <td></td>\n",
       "    </tr>\n",
       "    <tr>\n",
       "      <th>26</th>\n",
       "      <td>LAUCT365100000000006</td>\n",
       "      <td>2015</td>\n",
       "      <td>July</td>\n",
       "      <td>M07</td>\n",
       "      <td>2015/07</td>\n",
       "      <td>New York</td>\n",
       "      <td>New York city</td>\n",
       "      <td>labor-force</td>\n",
       "      <td>4127022</td>\n",
       "      <td></td>\n",
       "    </tr>\n",
       "    <tr>\n",
       "      <th>38</th>\n",
       "      <td>LAUCT365100000000006</td>\n",
       "      <td>2014</td>\n",
       "      <td>July</td>\n",
       "      <td>M07</td>\n",
       "      <td>2014/07</td>\n",
       "      <td>New York</td>\n",
       "      <td>New York city</td>\n",
       "      <td>labor-force</td>\n",
       "      <td>4122175</td>\n",
       "      <td></td>\n",
       "    </tr>\n",
       "    <tr>\n",
       "      <th>50</th>\n",
       "      <td>LAUCT365100000000006</td>\n",
       "      <td>2013</td>\n",
       "      <td>July</td>\n",
       "      <td>M07</td>\n",
       "      <td>2013/07</td>\n",
       "      <td>New York</td>\n",
       "      <td>New York city</td>\n",
       "      <td>labor-force</td>\n",
       "      <td>4098690</td>\n",
       "      <td></td>\n",
       "    </tr>\n",
       "  </tbody>\n",
       "</table>\n",
       "</div>"
      ],
      "text/plain": [
       "                seriesid  year month period     date     state           city  \\\n",
       "2   LAUCT365100000000006  2017  July    M07  2017/07  New York  New York city   \n",
       "14  LAUCT365100000000006  2016  July    M07  2016/07  New York  New York city   \n",
       "26  LAUCT365100000000006  2015  July    M07  2015/07  New York  New York city   \n",
       "38  LAUCT365100000000006  2014  July    M07  2014/07  New York  New York city   \n",
       "50  LAUCT365100000000006  2013  July    M07  2013/07  New York  New York city   \n",
       "\n",
       "        measure    value footnotes  \n",
       "2   labor-force  4280291            \n",
       "14  labor-force  4165039            \n",
       "26  labor-force  4127022            \n",
       "38  labor-force  4122175            \n",
       "50  labor-force  4098690            "
      ]
     },
     "execution_count": 23,
     "metadata": {},
     "output_type": "execute_result"
    }
   ],
   "source": [
    "dfLaborForce[dfLaborForce.month==\"July\"].head()"
   ]
  },
  {
   "cell_type": "code",
   "execution_count": 24,
   "metadata": {
    "collapsed": true
   },
   "outputs": [],
   "source": [
    "dfLaborForceSelect = dfLaborForce[dfLaborForce.month==\"July\"].copy()"
   ]
  },
  {
   "cell_type": "code",
   "execution_count": 35,
   "metadata": {},
   "outputs": [],
   "source": [
    "dfLaborForceSelect.drop(['seriesid','month','period','date','footnotes'], axis=1, inplace=True)"
   ]
  },
  {
   "cell_type": "code",
   "execution_count": 37,
   "metadata": {
    "collapsed": true
   },
   "outputs": [],
   "source": [
    "dfLaborForceSelect.rename(columns={\"year\": \"Year\", \"state\": \"State\", \"city\": \"City\", \"measure\": \"Measure\", \"value\": \"Value\"}, inplace=True)"
   ]
  },
  {
   "cell_type": "code",
   "execution_count": 38,
   "metadata": {},
   "outputs": [
    {
     "data": {
      "text/html": [
       "<div>\n",
       "<style>\n",
       "    .dataframe thead tr:only-child th {\n",
       "        text-align: right;\n",
       "    }\n",
       "\n",
       "    .dataframe thead th {\n",
       "        text-align: left;\n",
       "    }\n",
       "\n",
       "    .dataframe tbody tr th {\n",
       "        vertical-align: top;\n",
       "    }\n",
       "</style>\n",
       "<table border=\"1\" class=\"dataframe\">\n",
       "  <thead>\n",
       "    <tr style=\"text-align: right;\">\n",
       "      <th></th>\n",
       "      <th>Year</th>\n",
       "      <th>State</th>\n",
       "      <th>City</th>\n",
       "      <th>Measure</th>\n",
       "      <th>Value</th>\n",
       "    </tr>\n",
       "  </thead>\n",
       "  <tbody>\n",
       "    <tr>\n",
       "      <th>2</th>\n",
       "      <td>2017</td>\n",
       "      <td>New York</td>\n",
       "      <td>New York city</td>\n",
       "      <td>labor-force</td>\n",
       "      <td>4280291</td>\n",
       "    </tr>\n",
       "    <tr>\n",
       "      <th>14</th>\n",
       "      <td>2016</td>\n",
       "      <td>New York</td>\n",
       "      <td>New York city</td>\n",
       "      <td>labor-force</td>\n",
       "      <td>4165039</td>\n",
       "    </tr>\n",
       "    <tr>\n",
       "      <th>26</th>\n",
       "      <td>2015</td>\n",
       "      <td>New York</td>\n",
       "      <td>New York city</td>\n",
       "      <td>labor-force</td>\n",
       "      <td>4127022</td>\n",
       "    </tr>\n",
       "    <tr>\n",
       "      <th>38</th>\n",
       "      <td>2014</td>\n",
       "      <td>New York</td>\n",
       "      <td>New York city</td>\n",
       "      <td>labor-force</td>\n",
       "      <td>4122175</td>\n",
       "    </tr>\n",
       "    <tr>\n",
       "      <th>50</th>\n",
       "      <td>2013</td>\n",
       "      <td>New York</td>\n",
       "      <td>New York city</td>\n",
       "      <td>labor-force</td>\n",
       "      <td>4098690</td>\n",
       "    </tr>\n",
       "  </tbody>\n",
       "</table>\n",
       "</div>"
      ],
      "text/plain": [
       "    Year     State           City      Measure    Value\n",
       "2   2017  New York  New York city  labor-force  4280291\n",
       "14  2016  New York  New York city  labor-force  4165039\n",
       "26  2015  New York  New York city  labor-force  4127022\n",
       "38  2014  New York  New York city  labor-force  4122175\n",
       "50  2013  New York  New York city  labor-force  4098690"
      ]
     },
     "execution_count": 38,
     "metadata": {},
     "output_type": "execute_result"
    }
   ],
   "source": [
    "dfLaborForceSelect.head()"
   ]
  },
  {
   "cell_type": "markdown",
   "metadata": {},
   "source": [
    "# load the population data"
   ]
  },
  {
   "cell_type": "code",
   "execution_count": 26,
   "metadata": {
    "collapsed": true
   },
   "outputs": [],
   "source": [
    "pop1 = pd.read_csv(\"census-data-2000-2009.csv\", sep=\",\", encoding='latin-1')\n",
    "pop2 = pd.read_csv(\"census-data-2010-2016.csv\", sep=\",\", encoding='latin-1')"
   ]
  },
  {
   "cell_type": "code",
   "execution_count": 27,
   "metadata": {
    "collapsed": true
   },
   "outputs": [],
   "source": [
    "data1t = pd.melt(pop1, id_vars=[\"sumlev\", \"STATE\", \"COUNTY\", \"place\", \"COUSUB\", \"name\", \"STATENAME\"],\n",
    "                 var_name=\"Date\", \n",
    "                 value_name=\"Value\")\n",
    "\n",
    "data2t = pd.melt(pop2, id_vars=[\"SUMLEV\", \"STATE\", \"COUNTY\", \"PLACE\", \"COUSUB\", \"CONCIT\", \"PRIMGEO_FLAG\", \"FUNCSTAT\", \"NAME\", \"STNAME\"], \n",
    "                 var_name=\"Date\", \n",
    "                 value_name=\"Value\")"
   ]
  },
  {
   "cell_type": "code",
   "execution_count": 28,
   "metadata": {
    "collapsed": true
   },
   "outputs": [],
   "source": [
    "data1ts = data1t[(data1t.sumlev==162) & (data1t.Date.str.contains(\"POP_\"))].copy()\n",
    "data2ts = data2t[(data2t.SUMLEV==162) & (data2t.Date.str.contains(\"POPESTIMATE\"))].copy()"
   ]
  },
  {
   "cell_type": "code",
   "execution_count": 29,
   "metadata": {
    "collapsed": true
   },
   "outputs": [],
   "source": [
    "data1ts.drop(['sumlev','STATE','COUNTY','place','COUSUB'], axis=1, inplace=True)\n",
    "data1ts.rename(columns={\"name\": \"City\", \"STATENAME\": \"State\"}, inplace=True)\n",
    "data1ts.Date = data1ts.Date.str.replace(\"POP_\", \"\")\n",
    "\n",
    "data2ts.drop(['SUMLEV','STATE','COUNTY','PLACE','COUSUB','CONCIT','PRIMGEO_FLAG','FUNCSTAT'], axis=1, inplace=True)\n",
    "data2ts.rename(columns={\"NAME\":\"City\", \"STNAME\":\"State\"}, inplace=True)\n",
    "data2ts.Date = data2ts.Date.str.replace(\"POPESTIMATE\", \"\")"
   ]
  },
  {
   "cell_type": "code",
   "execution_count": 30,
   "metadata": {},
   "outputs": [
    {
     "name": "stdout",
     "output_type": "stream",
     "text": [
      "len(data1ts): 195100 len(data2ts) 136570 total: 331670\n",
      "len(dfPopulation): 331670\n"
     ]
    }
   ],
   "source": [
    "print(\"len(data1ts): {} len(data2ts) {} total: {}\".format(len(data1ts), len(data2ts), len(data1ts)+len(data2ts)))\n",
    "frames = [data1ts, data2ts]\n",
    "dfPopulation = pd.concat(frames)\n",
    "print(\"len(dfPopulation): {}\".format(len(dfPopulation)))"
   ]
  },
  {
   "cell_type": "code",
   "execution_count": 31,
   "metadata": {},
   "outputs": [
    {
     "data": {
      "text/html": [
       "<div>\n",
       "<style>\n",
       "    .dataframe thead tr:only-child th {\n",
       "        text-align: right;\n",
       "    }\n",
       "\n",
       "    .dataframe thead th {\n",
       "        text-align: left;\n",
       "    }\n",
       "\n",
       "    .dataframe tbody tr th {\n",
       "        vertical-align: top;\n",
       "    }\n",
       "</style>\n",
       "<table border=\"1\" class=\"dataframe\">\n",
       "  <thead>\n",
       "    <tr style=\"text-align: right;\">\n",
       "      <th></th>\n",
       "      <th>City</th>\n",
       "      <th>State</th>\n",
       "      <th>Date</th>\n",
       "      <th>Value</th>\n",
       "    </tr>\n",
       "  </thead>\n",
       "  <tbody>\n",
       "    <tr>\n",
       "      <th>163407</th>\n",
       "      <td>Abbeville city</td>\n",
       "      <td>Alabama</td>\n",
       "      <td>2000</td>\n",
       "      <td>2987</td>\n",
       "    </tr>\n",
       "    <tr>\n",
       "      <th>163408</th>\n",
       "      <td>Adamsville city</td>\n",
       "      <td>Alabama</td>\n",
       "      <td>2000</td>\n",
       "      <td>5069</td>\n",
       "    </tr>\n",
       "    <tr>\n",
       "      <th>163409</th>\n",
       "      <td>Addison town</td>\n",
       "      <td>Alabama</td>\n",
       "      <td>2000</td>\n",
       "      <td>724</td>\n",
       "    </tr>\n",
       "    <tr>\n",
       "      <th>163410</th>\n",
       "      <td>Akron town</td>\n",
       "      <td>Alabama</td>\n",
       "      <td>2000</td>\n",
       "      <td>449</td>\n",
       "    </tr>\n",
       "    <tr>\n",
       "      <th>163411</th>\n",
       "      <td>Alabaster city</td>\n",
       "      <td>Alabama</td>\n",
       "      <td>2000</td>\n",
       "      <td>24099</td>\n",
       "    </tr>\n",
       "  </tbody>\n",
       "</table>\n",
       "</div>"
      ],
      "text/plain": [
       "                   City    State  Date  Value\n",
       "163407   Abbeville city  Alabama  2000   2987\n",
       "163408  Adamsville city  Alabama  2000   5069\n",
       "163409     Addison town  Alabama  2000    724\n",
       "163410       Akron town  Alabama  2000    449\n",
       "163411   Alabaster city  Alabama  2000  24099"
      ]
     },
     "execution_count": 31,
     "metadata": {},
     "output_type": "execute_result"
    }
   ],
   "source": [
    "dfPopulation.head()"
   ]
  },
  {
   "cell_type": "code",
   "execution_count": 32,
   "metadata": {
    "collapsed": true
   },
   "outputs": [],
   "source": [
    "dfPopulation['Measure'] = \"population\""
   ]
  },
  {
   "cell_type": "code",
   "execution_count": 46,
   "metadata": {},
   "outputs": [],
   "source": [
    "dfPopulation.rename(columns={\"Date\": \"Year\"}, inplace=True)"
   ]
  },
  {
   "cell_type": "code",
   "execution_count": 47,
   "metadata": {},
   "outputs": [
    {
     "data": {
      "text/html": [
       "<div>\n",
       "<style>\n",
       "    .dataframe thead tr:only-child th {\n",
       "        text-align: right;\n",
       "    }\n",
       "\n",
       "    .dataframe thead th {\n",
       "        text-align: left;\n",
       "    }\n",
       "\n",
       "    .dataframe tbody tr th {\n",
       "        vertical-align: top;\n",
       "    }\n",
       "</style>\n",
       "<table border=\"1\" class=\"dataframe\">\n",
       "  <thead>\n",
       "    <tr style=\"text-align: right;\">\n",
       "      <th></th>\n",
       "      <th>City</th>\n",
       "      <th>State</th>\n",
       "      <th>Year</th>\n",
       "      <th>Value</th>\n",
       "      <th>Measure</th>\n",
       "    </tr>\n",
       "  </thead>\n",
       "  <tbody>\n",
       "    <tr>\n",
       "      <th>163407</th>\n",
       "      <td>Abbeville city</td>\n",
       "      <td>Alabama</td>\n",
       "      <td>2000</td>\n",
       "      <td>2987</td>\n",
       "      <td>population</td>\n",
       "    </tr>\n",
       "    <tr>\n",
       "      <th>163408</th>\n",
       "      <td>Adamsville city</td>\n",
       "      <td>Alabama</td>\n",
       "      <td>2000</td>\n",
       "      <td>5069</td>\n",
       "      <td>population</td>\n",
       "    </tr>\n",
       "    <tr>\n",
       "      <th>163409</th>\n",
       "      <td>Addison town</td>\n",
       "      <td>Alabama</td>\n",
       "      <td>2000</td>\n",
       "      <td>724</td>\n",
       "      <td>population</td>\n",
       "    </tr>\n",
       "    <tr>\n",
       "      <th>163410</th>\n",
       "      <td>Akron town</td>\n",
       "      <td>Alabama</td>\n",
       "      <td>2000</td>\n",
       "      <td>449</td>\n",
       "      <td>population</td>\n",
       "    </tr>\n",
       "    <tr>\n",
       "      <th>163411</th>\n",
       "      <td>Alabaster city</td>\n",
       "      <td>Alabama</td>\n",
       "      <td>2000</td>\n",
       "      <td>24099</td>\n",
       "      <td>population</td>\n",
       "    </tr>\n",
       "  </tbody>\n",
       "</table>\n",
       "</div>"
      ],
      "text/plain": [
       "                   City    State  Year  Value     Measure\n",
       "163407   Abbeville city  Alabama  2000   2987  population\n",
       "163408  Adamsville city  Alabama  2000   5069  population\n",
       "163409     Addison town  Alabama  2000    724  population\n",
       "163410       Akron town  Alabama  2000    449  population\n",
       "163411   Alabaster city  Alabama  2000  24099  population"
      ]
     },
     "execution_count": 47,
     "metadata": {},
     "output_type": "execute_result"
    }
   ],
   "source": [
    "dfPopulation.head()"
   ]
  },
  {
   "cell_type": "markdown",
   "metadata": {},
   "source": [
    "# merge labor-force and population data"
   ]
  },
  {
   "cell_type": "code",
   "execution_count": 48,
   "metadata": {
    "collapsed": true
   },
   "outputs": [],
   "source": [
    "frames = [dfPopulation, dfLaborForceSelect]"
   ]
  },
  {
   "cell_type": "code",
   "execution_count": 49,
   "metadata": {},
   "outputs": [],
   "source": [
    "df = pd.concat(frames)"
   ]
  },
  {
   "cell_type": "code",
   "execution_count": 53,
   "metadata": {},
   "outputs": [
    {
     "data": {
      "text/html": [
       "<div>\n",
       "<style>\n",
       "    .dataframe thead tr:only-child th {\n",
       "        text-align: right;\n",
       "    }\n",
       "\n",
       "    .dataframe thead th {\n",
       "        text-align: left;\n",
       "    }\n",
       "\n",
       "    .dataframe tbody tr th {\n",
       "        vertical-align: top;\n",
       "    }\n",
       "</style>\n",
       "<table border=\"1\" class=\"dataframe\">\n",
       "  <thead>\n",
       "    <tr style=\"text-align: right;\">\n",
       "      <th></th>\n",
       "      <th>City</th>\n",
       "      <th>Measure</th>\n",
       "      <th>State</th>\n",
       "      <th>Value</th>\n",
       "      <th>Year</th>\n",
       "    </tr>\n",
       "  </thead>\n",
       "  <tbody>\n",
       "    <tr>\n",
       "      <th>845280</th>\n",
       "      <td>Boston city</td>\n",
       "      <td>population</td>\n",
       "      <td>Massachusetts</td>\n",
       "      <td>636748</td>\n",
       "      <td>2008</td>\n",
       "    </tr>\n",
       "    <tr>\n",
       "      <th>926983</th>\n",
       "      <td>Boston city</td>\n",
       "      <td>population</td>\n",
       "      <td>Massachusetts</td>\n",
       "      <td>645169</td>\n",
       "      <td>2009</td>\n",
       "    </tr>\n",
       "    <tr>\n",
       "      <th>191488</th>\n",
       "      <td>Boston city</td>\n",
       "      <td>population</td>\n",
       "      <td>Massachusetts</td>\n",
       "      <td>620701</td>\n",
       "      <td>2010</td>\n",
       "    </tr>\n",
       "    <tr>\n",
       "      <th>273073</th>\n",
       "      <td>Boston city</td>\n",
       "      <td>population</td>\n",
       "      <td>Massachusetts</td>\n",
       "      <td>630195</td>\n",
       "      <td>2011</td>\n",
       "    </tr>\n",
       "    <tr>\n",
       "      <th>354658</th>\n",
       "      <td>Boston city</td>\n",
       "      <td>population</td>\n",
       "      <td>Massachusetts</td>\n",
       "      <td>641911</td>\n",
       "      <td>2012</td>\n",
       "    </tr>\n",
       "    <tr>\n",
       "      <th>436243</th>\n",
       "      <td>Boston city</td>\n",
       "      <td>population</td>\n",
       "      <td>Massachusetts</td>\n",
       "      <td>651090</td>\n",
       "      <td>2013</td>\n",
       "    </tr>\n",
       "    <tr>\n",
       "      <th>517828</th>\n",
       "      <td>Boston city</td>\n",
       "      <td>population</td>\n",
       "      <td>Massachusetts</td>\n",
       "      <td>659180</td>\n",
       "      <td>2014</td>\n",
       "    </tr>\n",
       "    <tr>\n",
       "      <th>599413</th>\n",
       "      <td>Boston city</td>\n",
       "      <td>population</td>\n",
       "      <td>Massachusetts</td>\n",
       "      <td>665984</td>\n",
       "      <td>2015</td>\n",
       "    </tr>\n",
       "    <tr>\n",
       "      <th>680998</th>\n",
       "      <td>Boston city</td>\n",
       "      <td>population</td>\n",
       "      <td>Massachusetts</td>\n",
       "      <td>673184</td>\n",
       "      <td>2016</td>\n",
       "    </tr>\n",
       "    <tr>\n",
       "      <th>350</th>\n",
       "      <td>Boston city</td>\n",
       "      <td>labor-force</td>\n",
       "      <td>Massachusetts</td>\n",
       "      <td>381405</td>\n",
       "      <td>2017</td>\n",
       "    </tr>\n",
       "    <tr>\n",
       "      <th>362</th>\n",
       "      <td>Boston city</td>\n",
       "      <td>labor-force</td>\n",
       "      <td>Massachusetts</td>\n",
       "      <td>369136</td>\n",
       "      <td>2016</td>\n",
       "    </tr>\n",
       "    <tr>\n",
       "      <th>374</th>\n",
       "      <td>Boston city</td>\n",
       "      <td>labor-force</td>\n",
       "      <td>Massachusetts</td>\n",
       "      <td>366870</td>\n",
       "      <td>2015</td>\n",
       "    </tr>\n",
       "    <tr>\n",
       "      <th>386</th>\n",
       "      <td>Boston city</td>\n",
       "      <td>labor-force</td>\n",
       "      <td>Massachusetts</td>\n",
       "      <td>361170</td>\n",
       "      <td>2014</td>\n",
       "    </tr>\n",
       "    <tr>\n",
       "      <th>398</th>\n",
       "      <td>Boston city</td>\n",
       "      <td>labor-force</td>\n",
       "      <td>Massachusetts</td>\n",
       "      <td>353715</td>\n",
       "      <td>2013</td>\n",
       "    </tr>\n",
       "    <tr>\n",
       "      <th>410</th>\n",
       "      <td>Boston city</td>\n",
       "      <td>labor-force</td>\n",
       "      <td>Massachusetts</td>\n",
       "      <td>348666</td>\n",
       "      <td>2012</td>\n",
       "    </tr>\n",
       "    <tr>\n",
       "      <th>422</th>\n",
       "      <td>Boston city</td>\n",
       "      <td>labor-force</td>\n",
       "      <td>Massachusetts</td>\n",
       "      <td>343798</td>\n",
       "      <td>2011</td>\n",
       "    </tr>\n",
       "    <tr>\n",
       "      <th>434</th>\n",
       "      <td>Boston city</td>\n",
       "      <td>labor-force</td>\n",
       "      <td>Massachusetts</td>\n",
       "      <td>342167</td>\n",
       "      <td>2010</td>\n",
       "    </tr>\n",
       "    <tr>\n",
       "      <th>446</th>\n",
       "      <td>Boston city</td>\n",
       "      <td>labor-force</td>\n",
       "      <td>Massachusetts</td>\n",
       "      <td>330383</td>\n",
       "      <td>2009</td>\n",
       "    </tr>\n",
       "    <tr>\n",
       "      <th>458</th>\n",
       "      <td>Boston city</td>\n",
       "      <td>labor-force</td>\n",
       "      <td>Massachusetts</td>\n",
       "      <td>328248</td>\n",
       "      <td>2008</td>\n",
       "    </tr>\n",
       "  </tbody>\n",
       "</table>\n",
       "</div>"
      ],
      "text/plain": [
       "               City      Measure          State   Value  Year\n",
       "845280  Boston city   population  Massachusetts  636748  2008\n",
       "926983  Boston city   population  Massachusetts  645169  2009\n",
       "191488  Boston city   population  Massachusetts  620701  2010\n",
       "273073  Boston city   population  Massachusetts  630195  2011\n",
       "354658  Boston city   population  Massachusetts  641911  2012\n",
       "436243  Boston city   population  Massachusetts  651090  2013\n",
       "517828  Boston city   population  Massachusetts  659180  2014\n",
       "599413  Boston city   population  Massachusetts  665984  2015\n",
       "680998  Boston city   population  Massachusetts  673184  2016\n",
       "350     Boston city  labor-force  Massachusetts  381405  2017\n",
       "362     Boston city  labor-force  Massachusetts  369136  2016\n",
       "374     Boston city  labor-force  Massachusetts  366870  2015\n",
       "386     Boston city  labor-force  Massachusetts  361170  2014\n",
       "398     Boston city  labor-force  Massachusetts  353715  2013\n",
       "410     Boston city  labor-force  Massachusetts  348666  2012\n",
       "422     Boston city  labor-force  Massachusetts  343798  2011\n",
       "434     Boston city  labor-force  Massachusetts  342167  2010\n",
       "446     Boston city  labor-force  Massachusetts  330383  2009\n",
       "458     Boston city  labor-force  Massachusetts  328248  2008"
      ]
     },
     "execution_count": 53,
     "metadata": {},
     "output_type": "execute_result"
    }
   ],
   "source": [
    "df[(df.City == \"Boston city\") & (df.State == \"Massachusetts\") & (df.Year >= \"2008\")]"
   ]
  },
  {
   "cell_type": "code",
   "execution_count": null,
   "metadata": {
    "collapsed": true
   },
   "outputs": [],
   "source": []
  },
  {
   "cell_type": "code",
   "execution_count": 25,
   "metadata": {},
   "outputs": [
    {
     "name": "stderr",
     "output_type": "stream",
     "text": [
      "C:\\ProgramData\\Anaconda3\\lib\\site-packages\\statsmodels\\compat\\pandas.py:56: FutureWarning: The pandas.core.datetools module is deprecated and will be removed in a future version. Please use the pandas.tseries module instead.\n",
      "  from pandas.core import datetools\n"
     ]
    },
    {
     "name": "stdout",
     "output_type": "stream",
     "text": [
      "key: Dallas city, grp: <class 'pandas.core.frame.DataFrame'>\n"
     ]
    },
    {
     "ename": "NameError",
     "evalue": "name 'datetime' is not defined",
     "output_type": "error",
     "traceback": [
      "\u001b[1;31m---------------------------------------------------------------------------\u001b[0m",
      "\u001b[1;31mNameError\u001b[0m                                 Traceback (most recent call last)",
      "\u001b[1;32m<ipython-input-25-8f8306c2061f>\u001b[0m in \u001b[0;36m<module>\u001b[1;34m()\u001b[0m\n\u001b[0;32m      9\u001b[0m     \u001b[1;31m#ax2.plot(grp['date'], grp['value'], label = \"{}\".format(key))\u001b[0m\u001b[1;33m\u001b[0m\u001b[1;33m\u001b[0m\u001b[0m\n\u001b[0;32m     10\u001b[0m     \u001b[0mprint\u001b[0m\u001b[1;33m(\u001b[0m\u001b[1;34m\"key: {}, grp: {}\"\u001b[0m\u001b[1;33m.\u001b[0m\u001b[0mformat\u001b[0m\u001b[1;33m(\u001b[0m\u001b[0mkey\u001b[0m\u001b[1;33m,\u001b[0m \u001b[0mtype\u001b[0m\u001b[1;33m(\u001b[0m\u001b[0mgrp\u001b[0m\u001b[1;33m)\u001b[0m\u001b[1;33m)\u001b[0m\u001b[1;33m)\u001b[0m\u001b[1;33m\u001b[0m\u001b[0m\n\u001b[1;32m---> 11\u001b[1;33m     \u001b[0mx\u001b[0m \u001b[1;33m=\u001b[0m \u001b[0mlist\u001b[0m\u001b[1;33m(\u001b[0m\u001b[1;33m[\u001b[0m\u001b[0mdatetime\u001b[0m\u001b[1;33m.\u001b[0m\u001b[0mdatetime\u001b[0m\u001b[1;33m.\u001b[0m\u001b[0mstrptime\u001b[0m\u001b[1;33m(\u001b[0m\u001b[0md\u001b[0m\u001b[1;33m,\u001b[0m\u001b[1;34m'%Y/%m'\u001b[0m\u001b[1;33m)\u001b[0m\u001b[1;33m.\u001b[0m\u001b[0mdate\u001b[0m\u001b[1;33m(\u001b[0m\u001b[1;33m)\u001b[0m \u001b[1;32mfor\u001b[0m \u001b[0md\u001b[0m \u001b[1;32min\u001b[0m \u001b[0mgrp\u001b[0m\u001b[1;33m.\u001b[0m\u001b[0mdate\u001b[0m\u001b[1;33m.\u001b[0m\u001b[0mvalues\u001b[0m\u001b[1;33m]\u001b[0m\u001b[1;33m)\u001b[0m\u001b[1;33m\u001b[0m\u001b[0m\n\u001b[0m\u001b[0;32m     12\u001b[0m     \u001b[0my\u001b[0m \u001b[1;33m=\u001b[0m \u001b[0mlist\u001b[0m\u001b[1;33m(\u001b[0m\u001b[0mgrp\u001b[0m\u001b[1;33m.\u001b[0m\u001b[0mvalue\u001b[0m\u001b[1;33m.\u001b[0m\u001b[0mvalues\u001b[0m\u001b[1;33m)\u001b[0m\u001b[1;33m\u001b[0m\u001b[0m\n\u001b[0;32m     13\u001b[0m     \u001b[0max2\u001b[0m\u001b[1;33m.\u001b[0m\u001b[0mplot\u001b[0m\u001b[1;33m(\u001b[0m\u001b[0mx\u001b[0m\u001b[1;33m,\u001b[0m \u001b[0my\u001b[0m\u001b[1;33m,\u001b[0m \u001b[0mlabel\u001b[0m\u001b[1;33m=\u001b[0m\u001b[0mkey\u001b[0m\u001b[1;33m)\u001b[0m\u001b[1;33m\u001b[0m\u001b[0m\n",
      "\u001b[1;32m<ipython-input-25-8f8306c2061f>\u001b[0m in \u001b[0;36m<listcomp>\u001b[1;34m(.0)\u001b[0m\n\u001b[0;32m      9\u001b[0m     \u001b[1;31m#ax2.plot(grp['date'], grp['value'], label = \"{}\".format(key))\u001b[0m\u001b[1;33m\u001b[0m\u001b[1;33m\u001b[0m\u001b[0m\n\u001b[0;32m     10\u001b[0m     \u001b[0mprint\u001b[0m\u001b[1;33m(\u001b[0m\u001b[1;34m\"key: {}, grp: {}\"\u001b[0m\u001b[1;33m.\u001b[0m\u001b[0mformat\u001b[0m\u001b[1;33m(\u001b[0m\u001b[0mkey\u001b[0m\u001b[1;33m,\u001b[0m \u001b[0mtype\u001b[0m\u001b[1;33m(\u001b[0m\u001b[0mgrp\u001b[0m\u001b[1;33m)\u001b[0m\u001b[1;33m)\u001b[0m\u001b[1;33m)\u001b[0m\u001b[1;33m\u001b[0m\u001b[0m\n\u001b[1;32m---> 11\u001b[1;33m     \u001b[0mx\u001b[0m \u001b[1;33m=\u001b[0m \u001b[0mlist\u001b[0m\u001b[1;33m(\u001b[0m\u001b[1;33m[\u001b[0m\u001b[0mdatetime\u001b[0m\u001b[1;33m.\u001b[0m\u001b[0mdatetime\u001b[0m\u001b[1;33m.\u001b[0m\u001b[0mstrptime\u001b[0m\u001b[1;33m(\u001b[0m\u001b[0md\u001b[0m\u001b[1;33m,\u001b[0m\u001b[1;34m'%Y/%m'\u001b[0m\u001b[1;33m)\u001b[0m\u001b[1;33m.\u001b[0m\u001b[0mdate\u001b[0m\u001b[1;33m(\u001b[0m\u001b[1;33m)\u001b[0m \u001b[1;32mfor\u001b[0m \u001b[0md\u001b[0m \u001b[1;32min\u001b[0m \u001b[0mgrp\u001b[0m\u001b[1;33m.\u001b[0m\u001b[0mdate\u001b[0m\u001b[1;33m.\u001b[0m\u001b[0mvalues\u001b[0m\u001b[1;33m]\u001b[0m\u001b[1;33m)\u001b[0m\u001b[1;33m\u001b[0m\u001b[0m\n\u001b[0m\u001b[0;32m     12\u001b[0m     \u001b[0my\u001b[0m \u001b[1;33m=\u001b[0m \u001b[0mlist\u001b[0m\u001b[1;33m(\u001b[0m\u001b[0mgrp\u001b[0m\u001b[1;33m.\u001b[0m\u001b[0mvalue\u001b[0m\u001b[1;33m.\u001b[0m\u001b[0mvalues\u001b[0m\u001b[1;33m)\u001b[0m\u001b[1;33m\u001b[0m\u001b[0m\n\u001b[0;32m     13\u001b[0m     \u001b[0max2\u001b[0m\u001b[1;33m.\u001b[0m\u001b[0mplot\u001b[0m\u001b[1;33m(\u001b[0m\u001b[0mx\u001b[0m\u001b[1;33m,\u001b[0m \u001b[0my\u001b[0m\u001b[1;33m,\u001b[0m \u001b[0mlabel\u001b[0m\u001b[1;33m=\u001b[0m\u001b[0mkey\u001b[0m\u001b[1;33m)\u001b[0m\u001b[1;33m\u001b[0m\u001b[0m\n",
      "\u001b[1;31mNameError\u001b[0m: name 'datetime' is not defined"
     ]
    },
    {
     "data": {
      "image/png": "[encoded data removed]",
      "text/plain": [
       "<matplotlib.figure.Figure at 0xae64828>"
      ]
     },
     "metadata": {},
     "output_type": "display_data"
    }
   ],
   "source": [
    "import pandas as pd\n",
    "import statsmodels.api as sm\n",
    "import matplotlib.pylab as plt\n",
    "from pandas.tools.plotting import andrews_curves\n",
    "\n",
    "fig, (ax1, ax2) = plt.subplots(nrows = 2, ncols = 1)\n",
    "\n",
    "for key, grp in df.groupby(['city']): \n",
    "    #ax2.plot(grp['date'], grp['value'], label = \"{}\".format(key))\n",
    "    print(\"key: {}, grp: {}\".format(key, type(grp)))\n",
    "    x = list([datetime.datetime.strptime(d,'%Y/%m').date() for d in grp.date.values])\n",
    "    y = list(grp.value.values)\n",
    "    ax2.plot(x, y, label=key)\n",
    "\n",
    "plt.legend(loc='right')    \n",
    "plt.show()"
   ]
  },
  {
   "cell_type": "code",
   "execution_count": 26,
   "metadata": {},
   "outputs": [
    {
     "data": {
      "text/html": [
       "<div>\n",
       "<style>\n",
       "    .dataframe thead tr:only-child th {\n",
       "        text-align: right;\n",
       "    }\n",
       "\n",
       "    .dataframe thead th {\n",
       "        text-align: left;\n",
       "    }\n",
       "\n",
       "    .dataframe tbody tr th {\n",
       "        vertical-align: top;\n",
       "    }\n",
       "</style>\n",
       "<table border=\"1\" class=\"dataframe\">\n",
       "  <thead>\n",
       "    <tr style=\"text-align: right;\">\n",
       "      <th></th>\n",
       "      <th>seriesid</th>\n",
       "      <th>year</th>\n",
       "      <th>month</th>\n",
       "      <th>period</th>\n",
       "      <th>date</th>\n",
       "      <th>state</th>\n",
       "      <th>city</th>\n",
       "      <th>measure</th>\n",
       "      <th>value</th>\n",
       "      <th>footnotes</th>\n",
       "    </tr>\n",
       "  </thead>\n",
       "  <tbody>\n",
       "    <tr>\n",
       "      <th>0</th>\n",
       "      <td>LAUCT426000000000003</td>\n",
       "      <td>2017</td>\n",
       "      <td>August</td>\n",
       "      <td>M08</td>\n",
       "      <td>2017/08</td>\n",
       "      <td>Pennsylvania</td>\n",
       "      <td>Philadelphia County/city</td>\n",
       "      <td>unemployment-rate</td>\n",
       "      <td>6.7</td>\n",
       "      <td>Preliminary.</td>\n",
       "    </tr>\n",
       "    <tr>\n",
       "      <th>1</th>\n",
       "      <td>LAUCT426000000000003</td>\n",
       "      <td>2017</td>\n",
       "      <td>July</td>\n",
       "      <td>M07</td>\n",
       "      <td>2017/07</td>\n",
       "      <td>Pennsylvania</td>\n",
       "      <td>Philadelphia County/city</td>\n",
       "      <td>unemployment-rate</td>\n",
       "      <td>6.9</td>\n",
       "      <td></td>\n",
       "    </tr>\n",
       "    <tr>\n",
       "      <th>2</th>\n",
       "      <td>LAUCT426000000000003</td>\n",
       "      <td>2017</td>\n",
       "      <td>June</td>\n",
       "      <td>M06</td>\n",
       "      <td>2017/06</td>\n",
       "      <td>Pennsylvania</td>\n",
       "      <td>Philadelphia County/city</td>\n",
       "      <td>unemployment-rate</td>\n",
       "      <td>6.4</td>\n",
       "      <td></td>\n",
       "    </tr>\n",
       "    <tr>\n",
       "      <th>3</th>\n",
       "      <td>LAUCT426000000000003</td>\n",
       "      <td>2017</td>\n",
       "      <td>May</td>\n",
       "      <td>M05</td>\n",
       "      <td>2017/05</td>\n",
       "      <td>Pennsylvania</td>\n",
       "      <td>Philadelphia County/city</td>\n",
       "      <td>unemployment-rate</td>\n",
       "      <td>6.7</td>\n",
       "      <td></td>\n",
       "    </tr>\n",
       "    <tr>\n",
       "      <th>4</th>\n",
       "      <td>LAUCT426000000000003</td>\n",
       "      <td>2017</td>\n",
       "      <td>April</td>\n",
       "      <td>M04</td>\n",
       "      <td>2017/04</td>\n",
       "      <td>Pennsylvania</td>\n",
       "      <td>Philadelphia County/city</td>\n",
       "      <td>unemployment-rate</td>\n",
       "      <td>5.9</td>\n",
       "      <td></td>\n",
       "    </tr>\n",
       "  </tbody>\n",
       "</table>\n",
       "</div>"
      ],
      "text/plain": [
       "               seriesid  year   month period     date         state  \\\n",
       "0  LAUCT426000000000003  2017  August    M08  2017/08  Pennsylvania   \n",
       "1  LAUCT426000000000003  2017    July    M07  2017/07  Pennsylvania   \n",
       "2  LAUCT426000000000003  2017    June    M06  2017/06  Pennsylvania   \n",
       "3  LAUCT426000000000003  2017     May    M05  2017/05  Pennsylvania   \n",
       "4  LAUCT426000000000003  2017   April    M04  2017/04  Pennsylvania   \n",
       "\n",
       "                       city            measure value     footnotes  \n",
       "0  Philadelphia County/city  unemployment-rate   6.7  Preliminary.  \n",
       "1  Philadelphia County/city  unemployment-rate   6.9                \n",
       "2  Philadelphia County/city  unemployment-rate   6.4                \n",
       "3  Philadelphia County/city  unemployment-rate   6.7                \n",
       "4  Philadelphia County/city  unemployment-rate   5.9                "
      ]
     },
     "execution_count": 26,
     "metadata": {},
     "output_type": "execute_result"
    }
   ],
   "source": [
    "df.head()"
   ]
  },
  {
   "cell_type": "code",
   "execution_count": 27,
   "metadata": {},
   "outputs": [
    {
     "name": "stdout",
     "output_type": "stream",
     "text": [
      "city: Dallas city         \tearliest: 4.9\t latest: 4.1\tdelta: -0.80\n",
      "city: Philadelphia County/city\tearliest: 6.9\t latest: 6.7\tdelta: -0.20\n",
      "city: Phoenix city        \tearliest: 4.8\t latest: 4.4\tdelta: -0.40\n",
      "city: San Antonio city    \tearliest: 4.2\t latest: 3.7\tdelta: -0.50\n",
      "city: San Diego city      \tearliest: 5.1\t latest: 4.5\tdelta: -0.60\n"
     ]
    }
   ],
   "source": [
    "for key, grp in df.groupby(['city']):\n",
    "    earliest = float(grp.sort_values(['date']).head(1).value.values[0])\n",
    "    latest   = float(grp.sort_values(['date']).tail(1).value.values[0])\n",
    "    print(\"city: {0:20s}\\tearliest: {1}\\t latest: {2}\\tdelta: {3:-5.2f}\".format(key,earliest,latest,latest-earliest))\n"
   ]
  },
  {
   "cell_type": "code",
   "execution_count": 28,
   "metadata": {},
   "outputs": [
    {
     "name": "stdout",
     "output_type": "stream",
     "text": [
      "city: Dallas city         \tearliest: 4.9\t latest: 4.1\tdelta: -0.80\n",
      "city: Philadelphia County/city\tearliest: 6.9\t latest: 6.7\tdelta: -0.20\n",
      "city: Phoenix city        \tearliest: 4.8\t latest: 4.4\tdelta: -0.40\n",
      "city: San Antonio city    \tearliest: 4.2\t latest: 3.7\tdelta: -0.50\n",
      "city: San Diego city      \tearliest: 5.1\t latest: 4.5\tdelta: -0.60\n"
     ]
    },
    {
     "data": {
      "text/plain": [
       "[<matplotlib.text.Text at 0xd2edc18>,\n",
       " <matplotlib.text.Text at 0xd3f42e8>,\n",
       " <matplotlib.text.Text at 0xd456588>,\n",
       " <matplotlib.text.Text at 0xd456f60>,\n",
       " <matplotlib.text.Text at 0xd45e978>]"
      ]
     },
     "execution_count": 28,
     "metadata": {},
     "output_type": "execute_result"
    },
    {
     "data": {
      "image/png": "[encoded data removed]",
      "text/plain": [
       "<matplotlib.figure.Figure at 0xd2a6630>"
      ]
     },
     "metadata": {},
     "output_type": "display_data"
    }
   ],
   "source": [
    "fig, ax = plt.subplots()\n",
    "\n",
    "deltas = []\n",
    "cities = []\n",
    "\n",
    "for key, grp in df.groupby(['city']):\n",
    "    earliest = float(grp.sort_values(['date']).head(1).value.values[0])\n",
    "    latest   = float(grp.sort_values(['date']).tail(1).value.values[0])\n",
    "    delta = latest-earliest\n",
    "    print(\"city: {0:20s}\\tearliest: {1}\\t latest: {2}\\tdelta: {3:-5.2f}\".format(key,earliest,latest,delta))\n",
    "    cities.append(trimCityName(key))\n",
    "    deltas.append(delta)\n",
    "\n",
    "ind = np.arange(len(deltas))\n",
    "width = 0.5\n",
    "\n",
    "ax.plot(ind, [0,0,0,0,0], \"r--\")\n",
    "ax.bar(ind, deltas, width)\n",
    "\n",
    "ax.set_ylabel('% Change')\n",
    "ax.set_title('% Change in Unemployment, 2008-2017')\n",
    "ax.set_xticks(ind)\n",
    "ax.set_xticklabels((cities))\n"
   ]
  },
  {
   "cell_type": "markdown",
   "metadata": {},
   "source": [
    "# load the national unemployment data\n",
    "file created from data presented at: http://www.ncsl.org/research/labor-and-employment/national-employment-monthly-update.aspx"
   ]
  },
  {
   "cell_type": "code",
   "execution_count": 29,
   "metadata": {
    "collapsed": true
   },
   "outputs": [],
   "source": [
    "file = open(\"bls-national-unemployment.raw\", \"r\")\n",
    "data = []\n",
    "\n",
    "count = 0\n",
    "for line in file.readlines():\n",
    "    count += 1\n",
    "    line2 = re.sub(' +',' ', line.rstrip())\n",
    "    fields = [f.strip() for f in line2.split(\"\\t\")]\n",
    "    #print(count,fields)\n",
    "    data.append(fields)\n",
    "    \n",
    "file.close()"
   ]
  },
  {
   "cell_type": "code",
   "execution_count": 30,
   "metadata": {
    "collapsed": true
   },
   "outputs": [],
   "source": [
    "data2 = []\n",
    "for i in range(1, len(data)):\n",
    "    #print(i, data[i])\n",
    "    row = data[i]\n",
    "    year = row[0]\n",
    "    for j in range(1,len(row)):\n",
    "        month = \"{0:02}\".format(j)\n",
    "        #print(i,j,year,month,row[j])\n",
    "        row2 = [\"national-unemployment\",\"{}/{}\".format(year,month),row[j]]\n",
    "        data2.append(row2)"
   ]
  },
  {
   "cell_type": "code",
   "execution_count": 31,
   "metadata": {
    "collapsed": true
   },
   "outputs": [],
   "source": [
    "df2 = pd.DataFrame(data2, columns=[\"measure\",\"date\",\"value\"])\n",
    "df2 = df2.sort_values('date')"
   ]
  },
  {
   "cell_type": "code",
   "execution_count": 32,
   "metadata": {},
   "outputs": [
    {
     "data": {
      "text/html": [
       "<div>\n",
       "<style>\n",
       "    .dataframe thead tr:only-child th {\n",
       "        text-align: right;\n",
       "    }\n",
       "\n",
       "    .dataframe thead th {\n",
       "        text-align: left;\n",
       "    }\n",
       "\n",
       "    .dataframe tbody tr th {\n",
       "        vertical-align: top;\n",
       "    }\n",
       "</style>\n",
       "<table border=\"1\" class=\"dataframe\">\n",
       "  <thead>\n",
       "    <tr style=\"text-align: right;\">\n",
       "      <th></th>\n",
       "      <th>measure</th>\n",
       "      <th>date</th>\n",
       "      <th>value</th>\n",
       "    </tr>\n",
       "  </thead>\n",
       "  <tbody>\n",
       "    <tr>\n",
       "      <th>105</th>\n",
       "      <td>national-unemployment</td>\n",
       "      <td>2008/01</td>\n",
       "      <td>4.9</td>\n",
       "    </tr>\n",
       "    <tr>\n",
       "      <th>106</th>\n",
       "      <td>national-unemployment</td>\n",
       "      <td>2008/02</td>\n",
       "      <td>4.8</td>\n",
       "    </tr>\n",
       "    <tr>\n",
       "      <th>107</th>\n",
       "      <td>national-unemployment</td>\n",
       "      <td>2008/03</td>\n",
       "      <td>5.1</td>\n",
       "    </tr>\n",
       "    <tr>\n",
       "      <th>108</th>\n",
       "      <td>national-unemployment</td>\n",
       "      <td>2008/04</td>\n",
       "      <td>5.0</td>\n",
       "    </tr>\n",
       "    <tr>\n",
       "      <th>109</th>\n",
       "      <td>national-unemployment</td>\n",
       "      <td>2008/05</td>\n",
       "      <td>5.5</td>\n",
       "    </tr>\n",
       "  </tbody>\n",
       "</table>\n",
       "</div>"
      ],
      "text/plain": [
       "                   measure     date value\n",
       "105  national-unemployment  2008/01   4.9\n",
       "106  national-unemployment  2008/02   4.8\n",
       "107  national-unemployment  2008/03   5.1\n",
       "108  national-unemployment  2008/04   5.0\n",
       "109  national-unemployment  2008/05   5.5"
      ]
     },
     "execution_count": 32,
     "metadata": {},
     "output_type": "execute_result"
    }
   ],
   "source": [
    "df2.head()"
   ]
  },
  {
   "cell_type": "markdown",
   "metadata": {},
   "source": [
    "# plot a city's data\n",
    "(this is based on the Matplotlib example here: https://matplotlib.org/examples/api/date_demo.html )"
   ]
  },
  {
   "cell_type": "code",
   "execution_count": 33,
   "metadata": {},
   "outputs": [
    {
     "data": {
      "image/png": "[encoded data removed]",
      "text/plain": [
       "<matplotlib.figure.Figure at 0xab11470>"
      ]
     },
     "metadata": {},
     "output_type": "display_data"
    }
   ],
   "source": [
    "\"\"\"\n",
    "================\n",
    "Date tick labels\n",
    "================\n",
    "\n",
    "Show how to make date plots in matplotlib using date tick locators and\n",
    "formatters.  See major_minor_demo1.py for more information on\n",
    "controlling major and minor ticks\n",
    "\n",
    "All matplotlib date plotting is done by converting date instances into\n",
    "days since the 0001-01-01 UTC.  The conversion, tick locating and\n",
    "formatting is done behind the scenes so this is most transparent to\n",
    "you.  The dates module provides several converter functions date2num\n",
    "and num2date\n",
    "\n",
    "\"\"\"\n",
    "import datetime\n",
    "import numpy as np\n",
    "import matplotlib.pyplot as plt\n",
    "import matplotlib.dates as mdates\n",
    "import matplotlib.cbook as cbook\n",
    "\n",
    "years = mdates.YearLocator()   # every year\n",
    "months = mdates.MonthLocator()  # every month\n",
    "yearsFmt = mdates.DateFormatter('%Y')\n",
    "\n",
    "cityName = \"Philadelphia County/city\"\n",
    "cityData = df[df.city==cityName]\n",
    "x = list([datetime.datetime.strptime(d,'%Y/%m').date() for d in cityData.date.values])\n",
    "y = list(cityData.value.values)\n",
    "\n",
    "fig, ax = plt.subplots()\n",
    "ax.plot(x, y)\n",
    "\n",
    "\n",
    "# format the ticks\n",
    "ax.xaxis.set_major_locator(years)\n",
    "ax.xaxis.set_major_formatter(yearsFmt)\n",
    "ax.xaxis.set_minor_locator(months)\n",
    "\n",
    "datemin = datetime.date(min(x).year, 1, 1)\n",
    "datemax = datetime.date(max(x).year + 1, 1, 1)\n",
    "ax.set_xlim(datemin, datemax)\n",
    "\n",
    "\n",
    "# format the coords message box\n",
    "def price(x):\n",
    "    return '%1.2f' % x\n",
    "ax.format_xdata = mdates.DateFormatter('%Y-%m')\n",
    "ax.format_ydata = price\n",
    "ax.grid(True)\n",
    "\n",
    "# rotates and right aligns the x labels, and moves the bottom of the\n",
    "# axes up to make room for them\n",
    "fig.autofmt_xdate()\n",
    "\n",
    "plt.title(\"{} Unemployment, 2008-2017\".format(trimCityName(cityName)))\n",
    "plt.xlabel(\"Year\")\n",
    "plt.ylabel(\"Unemployment %\")\n",
    "plt.legend([trimCityName(cityName)])\n",
    "plt.show()"
   ]
  },
  {
   "cell_type": "markdown",
   "metadata": {},
   "source": [
    "# plot the national data"
   ]
  },
  {
   "cell_type": "code",
   "execution_count": 34,
   "metadata": {},
   "outputs": [
    {
     "data": {
      "image/png": "[encoded data removed]",
      "text/plain": [
       "<matplotlib.figure.Figure at 0xdb3a780>"
      ]
     },
     "metadata": {},
     "output_type": "display_data"
    }
   ],
   "source": [
    "import datetime\n",
    "import numpy as np\n",
    "import matplotlib.pyplot as plt\n",
    "import matplotlib.dates as mdates\n",
    "import matplotlib.cbook as cbook\n",
    "\n",
    "years = mdates.YearLocator()   # every year\n",
    "months = mdates.MonthLocator()  # every month\n",
    "yearsFmt = mdates.DateFormatter('%Y')\n",
    "\n",
    "x = list([datetime.datetime.strptime(d,'%Y/%m').date() for d in df2.date.values])\n",
    "y = list(df2.value.values)\n",
    "\n",
    "fig, ax = plt.subplots()\n",
    "ax.plot(x, y)\n",
    "\n",
    "\n",
    "# format the ticks\n",
    "ax.xaxis.set_major_locator(years)\n",
    "ax.xaxis.set_major_formatter(yearsFmt)\n",
    "ax.xaxis.set_minor_locator(months)\n",
    "\n",
    "datemin = datetime.date(min(x).year, 1, 1)\n",
    "datemax = datetime.date(max(x).year + 1, 1, 1)\n",
    "ax.set_xlim(datemin, datemax)\n",
    "\n",
    "\n",
    "# format the coords message box\n",
    "def price(x):\n",
    "    return '%1.2f' % x\n",
    "ax.format_xdata = mdates.DateFormatter('%Y-%m')\n",
    "ax.format_ydata = price\n",
    "ax.grid(True)\n",
    "\n",
    "# rotates and right aligns the x labels, and moves the bottom of the\n",
    "# axes up to make room for them\n",
    "fig.autofmt_xdate()\n",
    "\n",
    "plt.title(\"National Unemployment, 2008-2017\")\n",
    "plt.xlabel(\"Year\")\n",
    "plt.ylabel(\"Unemployment %\")\n",
    "plt.legend(['National'])\n",
    "plt.show()"
   ]
  },
  {
   "cell_type": "markdown",
   "metadata": {},
   "source": [
    "# plot both national and city data"
   ]
  },
  {
   "cell_type": "code",
   "execution_count": 35,
   "metadata": {},
   "outputs": [
    {
     "data": {
      "image/png": "[encoded data removed]",
      "text/plain": [
       "<matplotlib.figure.Figure at 0xd2e0c50>"
      ]
     },
     "metadata": {},
     "output_type": "display_data"
    }
   ],
   "source": [
    "import datetime\n",
    "import numpy as np\n",
    "import matplotlib.pyplot as plt\n",
    "import matplotlib.dates as mdates\n",
    "import matplotlib.cbook as cbook\n",
    "\n",
    "years = mdates.YearLocator()   # every year\n",
    "months = mdates.MonthLocator()  # every month\n",
    "yearsFmt = mdates.DateFormatter('%Y')\n",
    "\n",
    "x1 = list([datetime.datetime.strptime(d,'%Y/%m').date() for d in df2.date.values])\n",
    "y1 = list(df2.value.values)\n",
    "\n",
    "cityName = \"Philadelphia County/city\"\n",
    "cityData = df[df.city==cityName]\n",
    "x2 = list([datetime.datetime.strptime(d,'%Y/%m').date() for d in cityData.date.values])\n",
    "y2 = list(cityData.value.values)\n",
    "\n",
    "fig, ax = plt.subplots()\n",
    "ax.plot(x1, y1, x2, y2)\n",
    "\n",
    "\n",
    "# format the ticks\n",
    "ax.xaxis.set_major_locator(years)\n",
    "ax.xaxis.set_major_formatter(yearsFmt)\n",
    "ax.xaxis.set_minor_locator(months)\n",
    "\n",
    "datemin = datetime.date(min(x).year, 1, 1)\n",
    "datemax = datetime.date(max(x).year + 1, 1, 1)\n",
    "ax.set_xlim(datemin, datemax)\n",
    "\n",
    "\n",
    "# format the coords message box\n",
    "def price(x):\n",
    "    return '%1.2f' % x\n",
    "ax.format_xdata = mdates.DateFormatter('%Y-%m')\n",
    "ax.format_ydata = price\n",
    "ax.grid(True)\n",
    "\n",
    "# rotates and right aligns the x labels, and moves the bottom of the\n",
    "# axes up to make room for them\n",
    "fig.autofmt_xdate()\n",
    "\n",
    "plt.title(\"Unemployment, 2008-2017\")\n",
    "plt.xlabel(\"Year\")\n",
    "plt.ylabel(\"Unemployment %\")\n",
    "plt.legend(['National',trimCityName(cityName)])\n",
    "plt.show()"
   ]
  },
  {
   "cell_type": "markdown",
   "metadata": {
    "collapsed": true
   },
   "source": [
    "# plot the national and all the fetched cities data"
   ]
  },
  {
   "cell_type": "code",
   "execution_count": 36,
   "metadata": {},
   "outputs": [
    {
     "name": "stdout",
     "output_type": "stream",
     "text": [
      "key: Dallas city, grp: <class 'pandas.core.frame.DataFrame'>\n",
      "key: Philadelphia County/city, grp: <class 'pandas.core.frame.DataFrame'>\n",
      "key: Phoenix city, grp: <class 'pandas.core.frame.DataFrame'>\n",
      "key: San Antonio city, grp: <class 'pandas.core.frame.DataFrame'>\n",
      "key: San Diego city, grp: <class 'pandas.core.frame.DataFrame'>\n"
     ]
    },
    {
     "data": {
      "image/png": "[encoded data removed]",
      "text/plain": [
       "<matplotlib.figure.Figure at 0xdde7860>"
      ]
     },
     "metadata": {},
     "output_type": "display_data"
    }
   ],
   "source": [
    "import datetime\n",
    "import numpy as np\n",
    "import matplotlib.pyplot as plt\n",
    "import matplotlib.dates as mdates\n",
    "import matplotlib.cbook as cbook\n",
    "\n",
    "years = mdates.YearLocator()   # every year\n",
    "months = mdates.MonthLocator()  # every month\n",
    "yearsFmt = mdates.DateFormatter('%Y')\n",
    "\n",
    "fig, ax = plt.subplots()\n",
    "\n",
    "# national data\n",
    "x = list([datetime.datetime.strptime(d,'%Y/%m').date() for d in df2.date.values])\n",
    "y = list(df2.value.values)\n",
    "ax.plot(x, y, label=\"National\")\n",
    "\n",
    "for key, grp in df.groupby(['city']): \n",
    "    print(\"key: {}, grp: {}\".format(key, type(grp)))\n",
    "    x = list([datetime.datetime.strptime(d,'%Y/%m').date() for d in grp.date.values])\n",
    "    y = list(grp.value.values)\n",
    "    ax.plot(x, y, label=trimCityName(key))\n",
    "    \n",
    "# format the ticks\n",
    "ax.xaxis.set_major_locator(years)\n",
    "ax.xaxis.set_major_formatter(yearsFmt)\n",
    "ax.xaxis.set_minor_locator(months)\n",
    "\n",
    "datemin = datetime.date(min(x).year, 1, 1)\n",
    "datemax = datetime.date(max(x).year + 1, 1, 1)\n",
    "ax.set_xlim(datemin, datemax)\n",
    "\n",
    "\n",
    "# format the coords message box\n",
    "def price(x):\n",
    "    return '%1.2f' % x\n",
    "ax.format_xdata = mdates.DateFormatter('%Y-%m')\n",
    "ax.format_ydata = price\n",
    "ax.grid(True)\n",
    "\n",
    "# rotates and right aligns the x labels, and moves the bottom of the\n",
    "# axes up to make room for them\n",
    "fig.autofmt_xdate()\n",
    "\n",
    "plt.title(\"Unemployment, 2008-2017\")\n",
    "plt.xlabel(\"Year\")\n",
    "plt.ylabel(\"Unemployment %\")\n",
    "plt.legend(loc='upper center', bbox_to_anchor=(1.3, 1.0), ncol=1)\n",
    "plt.show()"
   ]
  },
  {
   "cell_type": "markdown",
   "metadata": {},
   "source": [
    "# plot a lot of things together!"
   ]
  },
  {
   "cell_type": "code",
   "execution_count": 37,
   "metadata": {},
   "outputs": [
    {
     "name": "stdout",
     "output_type": "stream",
     "text": [
      "city: Dallas               earliest: 4.9 latest: 4.1 delta: -0.80\n",
      "city: Philadelphia         earliest: 6.9 latest: 6.7 delta: -0.20\n",
      "city: Phoenix              earliest: 4.8 latest: 4.4 delta: -0.40\n",
      "city: San Antonio          earliest: 4.2 latest: 3.7 delta: -0.50\n",
      "city: San Diego            earliest: 5.1 latest: 4.5 delta: -0.60\n"
     ]
    },
    {
     "data": {
      "image/png": "[encoded data removed]",
      "text/plain": [
       "<matplotlib.figure.Figure at 0xd4b2240>"
      ]
     },
     "metadata": {},
     "output_type": "display_data"
    }
   ],
   "source": [
    "plt.figure(figsize=(8, 6))\n",
    "axs = []\n",
    "ax0 = plt.subplot2grid((6,5), (0,0), colspan=10, rowspan=4)\n",
    "axs.append(plt.subplot2grid((5,5), (4,0), colspan=1))\n",
    "axs.append(plt.subplot2grid((5,5), (4,1), colspan=1))\n",
    "axs.append(plt.subplot2grid((5,5), (4,2), colspan=1))\n",
    "axs.append(plt.subplot2grid((5,5), (4,3), colspan=1))\n",
    "axs.append(plt.subplot2grid((5,5), (4,4), colspan=1))\n",
    "\n",
    "deltas = []\n",
    "cities = []\n",
    "\n",
    "for key, grp in df.groupby(['city']):\n",
    "    earliest = float(grp.sort_values(['date']).head(1).value.values[0])\n",
    "    latest   = float(grp.sort_values(['date']).tail(1).value.values[0])\n",
    "    delta = latest-earliest\n",
    "    print(\"city: {0:20s} earliest: {1} latest: {2} delta: {3:-5.2f}\".format(trimCityName(key),earliest,latest,delta))\n",
    "    cities.append(trimCityName(key))\n",
    "    deltas.append(delta)\n",
    "\n",
    "ind = np.arange(len(deltas))\n",
    "width = 0.75\n",
    "\n",
    "ax0.plot(ind, [0,0,0,0,0], \"r--\")\n",
    "ax0.bar(ind, deltas, width)\n",
    "\n",
    "ax0.set_ylabel('% Change')\n",
    "ax0.set_title('% Change in Unemployment, 2008-2017')\n",
    "ax0.set_xticks(ind)\n",
    "ax0.set_xticklabels((cities))\n",
    "\n",
    "\n",
    "\n",
    "years = mdates.YearLocator()   # every year\n",
    "months = mdates.MonthLocator()  # every month\n",
    "yearsFmt = mdates.DateFormatter('%Y')\n",
    "\n",
    "# national data\n",
    "nat_x = list([datetime.datetime.strptime(d,'%Y/%m').date() for d in df2.date.values])\n",
    "nat_y = list(df2.value.values)\n",
    "\n",
    "count = -1\n",
    "for key, grp in df.groupby(['city']): \n",
    "    count += 1\n",
    "    #print(\"key: {}, grp: {}\".format(key, type(grp)))\n",
    "    x = list([datetime.datetime.strptime(d,'%Y/%m').date() for d in grp.date.values])\n",
    "    y = list(grp.value.values)\n",
    "    ax = axs[count]\n",
    "    ax.plot(nat_x, nat_y, label='National')\n",
    "    ax.plot(x, y, label=key)\n",
    "    ax.set_ylim(0,12)\n",
    "    for tick in ax.get_xticklabels():\n",
    "        tick.set_rotation(90)\n",
    "    if count >= 0:\n",
    "        xtl = ax.get_xticklabels()\n",
    "        for i in range(1,len(xtl)-2):\n",
    "            tl = xtl[i]\n",
    "            tl.set_visible(False)\n",
    "    if count > 0:\n",
    "        for tl in ax.get_yticklabels():\n",
    "            tl.set_visible(False)\n",
    "    # format the ticks\n",
    "    ax.xaxis.set_major_locator(years)\n",
    "    ax.xaxis.set_major_formatter(yearsFmt)\n",
    "    ax.xaxis.set_minor_locator(months)\n",
    "    # set x-axis min and max\n",
    "    datemin = datetime.date(min(x).year, 1, 1)\n",
    "    datemax = datetime.date(max(x).year, 1, 1)\n",
    "    ax.set_xlim(datemin, datemax)\n",
    "    # set a y-axis label\n",
    "    if count == 0:\n",
    "        ax.set_ylabel(\"Unemployment %\")\n"
   ]
  },
  {
   "cell_type": "code",
   "execution_count": null,
   "metadata": {
    "collapsed": true
   },
   "outputs": [],
   "source": []
  }
 ],
 "metadata": {
  "kernelspec": {
   "display_name": "Python 3",
   "language": "python",
   "name": "python3"
  },
  "language_info": {
   "codemirror_mode": {
    "name": "ipython",
    "version": 3
   },
   "file_extension": ".py",
   "mimetype": "text/x-python",
   "name": "python",
   "nbconvert_exporter": "python",
   "pygments_lexer": "ipython3",
   "version": "3.6.1"
  }
 },
 "nbformat": 4,
 "nbformat_minor": 2
}
