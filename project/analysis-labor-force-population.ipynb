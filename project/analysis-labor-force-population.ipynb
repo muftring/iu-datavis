{
 "cells": [
  {
   "cell_type": "markdown",
   "metadata": {},
   "source": [
    "# Project"
   ]
  },
  {
   "cell_type": "code",
   "execution_count": 246,
   "metadata": {
    "collapsed": true
   },
   "outputs": [],
   "source": [
    "import requests\n",
    "import json\n",
    "import prettytable\n",
    "\n",
    "import pandas as pd\n",
    "import numpy as np\n",
    "import matplotlib.pyplot as plt\n",
    "\n",
    "%matplotlib inline"
   ]
  },
  {
   "cell_type": "markdown",
   "metadata": {},
   "source": [
    "# code to: decode Months and Dates"
   ]
  },
  {
   "cell_type": "code",
   "execution_count": 247,
   "metadata": {
    "collapsed": true
   },
   "outputs": [],
   "source": [
    "code2month = {\n",
    "    \"M01\" : \"January\",\n",
    "    \"M02\" : \"February\",\n",
    "    \"M03\" : \"March\",\n",
    "    \"M04\" : \"April\",\n",
    "    \"M05\" : \"May\",\n",
    "    \"M06\" : \"June\",\n",
    "    \"M07\" : \"July\",\n",
    "    \"M08\" : \"August\",\n",
    "    \"M09\" : \"September\",\n",
    "    \"M10\" : \"October\",\n",
    "    \"M11\" : \"November\",\n",
    "    \"M12\" : \"December\"\n",
    "}\n",
    "\n",
    "month2number = {\n",
    "    \"January\" : \"01\",\n",
    "    \"February\" : \"02\",\n",
    "    \"March\" : \"03\",\n",
    "    \"April\" : \"04\",\n",
    "    \"May\" : \"05\",\n",
    "    \"June\" : \"06\",\n",
    "    \"July\" : \"07\",\n",
    "    \"August\" : \"08\",\n",
    "    \"September\" : \"09\",\n",
    "    \"October\" : \"10\",\n",
    "    \"November\" : \"11\",\n",
    "    \"December\" : \"12\"\n",
    "}\n",
    "\n",
    "def dateFrom(year, month):\n",
    "    return \"{}/{}\".format(year,month2number[month])\n"
   ]
  },
  {
   "cell_type": "markdown",
   "metadata": {},
   "source": [
    "# code to: decode the City/Town"
   ]
  },
  {
   "cell_type": "code",
   "execution_count": 248,
   "metadata": {
    "collapsed": true
   },
   "outputs": [],
   "source": [
    "code2citytown = {}\n",
    "citytown2code = {}\n",
    "\n",
    "file = open(\"bls-cities-and-towns.raw\", \"r\")\n",
    "\n",
    "count = 0\n",
    "for line in file.readlines():\n",
    "    count += 1\n",
    "    ignore, code, citytownstate = line.rstrip().split(\">\", 2)[1].split(\" \",2)\n",
    "    citytown, state = citytownstate.split(\",\")\n",
    "    code2citytown[code]=citytown\n",
    "    citytown2code[citytown]=code\n",
    "    #print(\"line: {} code: {} citytownstate: {}, citytown: {}, state: {}\".format(count, code, citytownstate, citytown, state))\n",
    "\n",
    "file.close()\n",
    "\n",
    "def decodeCityTown(s):\n",
    "    code = s[3:len(s)-2]\n",
    "    return code2citytown[code]\n",
    "\n",
    "import re\n",
    "def searchDictionary(d, city):\n",
    "    #print(\"searching for:\", city)\n",
    "    res = []\n",
    "    for key in d.keys():\n",
    "        if re.match(city, key):\n",
    "            res.append(d[key])\n",
    "    return res\n",
    "\n",
    "def findCityTownCode(city):\n",
    "    return searchDictionary(citytown2code, city)\n",
    "\n",
    "def trimCityName(city):\n",
    "    return city.replace(\" city\",\"\").replace(\" County/city\",\"\").replace(\" town\",\"\")"
   ]
  },
  {
   "cell_type": "code",
   "execution_count": 249,
   "metadata": {},
   "outputs": [
    {
     "name": "stdout",
     "output_type": "stream",
     "text": [
      "city: Dallas trim: Dallas code: ['CT4819000000000']\n"
     ]
    }
   ],
   "source": [
    "city = \"Dallas\"\n",
    "code = findCityTownCode(city)\n",
    "print(\"city: {} trim: {} code: {}\".format(city, trimCityName(city), code))"
   ]
  },
  {
   "cell_type": "markdown",
   "metadata": {},
   "source": [
    "# code to: decode the State"
   ]
  },
  {
   "cell_type": "code",
   "execution_count": 250,
   "metadata": {
    "collapsed": true
   },
   "outputs": [],
   "source": [
    "code2state = {}\n",
    "\n",
    "file = open(\"bls-state-codes.raw\", \"r\")\n",
    "\n",
    "count = 0\n",
    "for line in file.readlines():\n",
    "    count += 1\n",
    "    ignore, code, state = line.rstrip().split(\">\", 2)[1].split(\" \",2)\n",
    "    code2state[code]=state\n",
    "    #print(\"line: {} code: {} state: {}\".format(count, code, state))\n",
    "\n",
    "file.close()\n",
    "\n",
    "def decodeState(s):\n",
    "    code = s[5:7]\n",
    "    return code2state[code]\n"
   ]
  },
  {
   "cell_type": "markdown",
   "metadata": {},
   "source": [
    "# code to: decode the Measure"
   ]
  },
  {
   "cell_type": "code",
   "execution_count": 251,
   "metadata": {
    "collapsed": true
   },
   "outputs": [],
   "source": [
    "code2measure = {\n",
    "    \"03\" : \"unemployment-rate\",\n",
    "    \"04\" : \"unemployment\",\n",
    "    \"05\" : \"employment\",\n",
    "    \"06\" : \"labor-force\"\n",
    "}\n",
    "\n",
    "measure2Code = {\n",
    "    \"unemployment-rate\" : \"03\",\n",
    "    \"unemployment\" : \"04\",\n",
    "    \"employment\" : \"05\",\n",
    "    \"labor-force\" : \"06\"\n",
    "}\n",
    "\n",
    "def findMeasureCode(s):\n",
    "    return measure2Code[s]\n",
    "\n",
    "def decodeMeasure(s):\n",
    "    code = s[len(s)-2:]\n",
    "    return code2measure[code]\n"
   ]
  },
  {
   "cell_type": "markdown",
   "metadata": {},
   "source": [
    "# input parameters for data request"
   ]
  },
  {
   "cell_type": "code",
   "execution_count": 434,
   "metadata": {
    "collapsed": true
   },
   "outputs": [],
   "source": [
    "cityListGeoRegional = [\"Boston\", \"New York\", \"Philadelphia\", \"Baltimore\", \"Washington city\"]\n",
    "cityListPopSize = [\"Phoenix\", \"Philadelphia\", \"San Antonio\", \"San Diego\", \"Dallas\"]\n",
    "\n",
    "cityList = cityListGeoRegional + cityListPopSize\n",
    "\n",
    "startYear = 2008\n",
    "endYear = 2017\n",
    "\n",
    "seasonalAdjustment = \"no\"\n",
    "\n",
    "measureList = [\"labor-force\", \"employment\", \"unemployment\", \"unemployment-rate\"]"
   ]
  },
  {
   "cell_type": "code",
   "execution_count": 435,
   "metadata": {},
   "outputs": [
    {
     "data": {
      "text/plain": [
       "['Boston',\n",
       " 'New York',\n",
       " 'Philadelphia',\n",
       " 'Baltimore',\n",
       " 'Washington city',\n",
       " 'Phoenix',\n",
       " 'Philadelphia',\n",
       " 'San Antonio',\n",
       " 'San Diego',\n",
       " 'Dallas']"
      ]
     },
     "execution_count": 435,
     "metadata": {},
     "output_type": "execute_result"
    }
   ],
   "source": [
    "cityList"
   ]
  },
  {
   "cell_type": "markdown",
   "metadata": {},
   "source": [
    "# construct the BLS Series ID"
   ]
  },
  {
   "cell_type": "code",
   "execution_count": 436,
   "metadata": {},
   "outputs": [
    {
     "name": "stdout",
     "output_type": "stream",
     "text": [
      "city: Boston code: ['CT2507000000000'] measure: labor-force code: 06 seriesID: LAUCT250700000000006\n",
      "city: Boston code: ['CT2507000000000'] measure: employment code: 05 seriesID: LAUCT250700000000005\n",
      "city: Boston code: ['CT2507000000000'] measure: unemployment code: 04 seriesID: LAUCT250700000000004\n",
      "city: Boston code: ['CT2507000000000'] measure: unemployment-rate code: 03 seriesID: LAUCT250700000000003\n",
      "city: New York code: ['CT3651000000000'] measure: labor-force code: 06 seriesID: LAUCT365100000000006\n",
      "city: New York code: ['CT3651000000000'] measure: employment code: 05 seriesID: LAUCT365100000000005\n",
      "city: New York code: ['CT3651000000000'] measure: unemployment code: 04 seriesID: LAUCT365100000000004\n",
      "city: New York code: ['CT3651000000000'] measure: unemployment-rate code: 03 seriesID: LAUCT365100000000003\n",
      "city: Philadelphia code: ['CT4260000000000'] measure: labor-force code: 06 seriesID: LAUCT426000000000006\n",
      "city: Philadelphia code: ['CT4260000000000'] measure: employment code: 05 seriesID: LAUCT426000000000005\n",
      "city: Philadelphia code: ['CT4260000000000'] measure: unemployment code: 04 seriesID: LAUCT426000000000004\n",
      "city: Philadelphia code: ['CT4260000000000'] measure: unemployment-rate code: 03 seriesID: LAUCT426000000000003\n",
      "city: Baltimore code: ['CT2404000000000'] measure: labor-force code: 06 seriesID: LAUCT240400000000006\n",
      "city: Baltimore code: ['CT2404000000000'] measure: employment code: 05 seriesID: LAUCT240400000000005\n",
      "city: Baltimore code: ['CT2404000000000'] measure: unemployment code: 04 seriesID: LAUCT240400000000004\n",
      "city: Baltimore code: ['CT2404000000000'] measure: unemployment-rate code: 03 seriesID: LAUCT240400000000003\n",
      "city: Washington city code: ['CT1150000000000'] measure: labor-force code: 06 seriesID: LAUCT115000000000006\n",
      "city: Washington city code: ['CT1150000000000'] measure: employment code: 05 seriesID: LAUCT115000000000005\n",
      "city: Washington city code: ['CT1150000000000'] measure: unemployment code: 04 seriesID: LAUCT115000000000004\n",
      "city: Washington city code: ['CT1150000000000'] measure: unemployment-rate code: 03 seriesID: LAUCT115000000000003\n",
      "city: Phoenix code: ['CT0455000000000'] measure: labor-force code: 06 seriesID: LAUCT045500000000006\n",
      "city: Phoenix code: ['CT0455000000000'] measure: employment code: 05 seriesID: LAUCT045500000000005\n",
      "city: Phoenix code: ['CT0455000000000'] measure: unemployment code: 04 seriesID: LAUCT045500000000004\n",
      "city: Phoenix code: ['CT0455000000000'] measure: unemployment-rate code: 03 seriesID: LAUCT045500000000003\n",
      "city: Philadelphia code: ['CT4260000000000'] measure: labor-force code: 06 seriesID: LAUCT426000000000006\n",
      "city: Philadelphia code: ['CT4260000000000'] measure: employment code: 05 seriesID: LAUCT426000000000005\n",
      "city: Philadelphia code: ['CT4260000000000'] measure: unemployment code: 04 seriesID: LAUCT426000000000004\n",
      "city: Philadelphia code: ['CT4260000000000'] measure: unemployment-rate code: 03 seriesID: LAUCT426000000000003\n",
      "city: San Antonio code: ['CT4865000000000'] measure: labor-force code: 06 seriesID: LAUCT486500000000006\n",
      "city: San Antonio code: ['CT4865000000000'] measure: employment code: 05 seriesID: LAUCT486500000000005\n",
      "city: San Antonio code: ['CT4865000000000'] measure: unemployment code: 04 seriesID: LAUCT486500000000004\n",
      "city: San Antonio code: ['CT4865000000000'] measure: unemployment-rate code: 03 seriesID: LAUCT486500000000003\n",
      "city: San Diego code: ['CT0666000000000'] measure: labor-force code: 06 seriesID: LAUCT066600000000006\n",
      "city: San Diego code: ['CT0666000000000'] measure: employment code: 05 seriesID: LAUCT066600000000005\n",
      "city: San Diego code: ['CT0666000000000'] measure: unemployment code: 04 seriesID: LAUCT066600000000004\n",
      "city: San Diego code: ['CT0666000000000'] measure: unemployment-rate code: 03 seriesID: LAUCT066600000000003\n",
      "city: Dallas code: ['CT4819000000000'] measure: labor-force code: 06 seriesID: LAUCT481900000000006\n",
      "city: Dallas code: ['CT4819000000000'] measure: employment code: 05 seriesID: LAUCT481900000000005\n",
      "city: Dallas code: ['CT4819000000000'] measure: unemployment code: 04 seriesID: LAUCT481900000000004\n",
      "city: Dallas code: ['CT4819000000000'] measure: unemployment-rate code: 03 seriesID: LAUCT481900000000003\n"
     ]
    }
   ],
   "source": [
    "seriesIDs = []\n",
    "\n",
    "dataSet = \"LA\"\n",
    "\n",
    "if seasonalAdjustment == \"yes\":\n",
    "    saCode = \"S\"\n",
    "else:\n",
    "    saCode = \"U\"\n",
    "\n",
    "for city in cityList:\n",
    "    cityCode = findCityTownCode(city)\n",
    "    for measure in measureList:\n",
    "        measureCode = findMeasureCode(measure)\n",
    "        seriesID = \"{}{}{}{}\".format(dataSet, saCode, cityCode[0], measureCode)\n",
    "        print(\"city: {} code: {} measure: {} code: {} seriesID: {}\".format(city, cityCode, measure, measureCode, seriesID))\n",
    "        seriesIDs.append(seriesID)\n",
    "\n",
    "# an array of strings which represent BLS Series IDs\n",
    "# seriesID = ['LAUMT423798000000003']\n",
    "# seriesID = ['LAUCT426000000000003']\n",
    "# seriesID = [\"{}{}{}{}\".format(dataSet, saCode, cityCode[0], measureCode)]"
   ]
  },
  {
   "cell_type": "code",
   "execution_count": 437,
   "metadata": {},
   "outputs": [
    {
     "name": "stdout",
     "output_type": "stream",
     "text": [
      "['LAUCT250700000000006', 'LAUCT250700000000005', 'LAUCT250700000000004', 'LAUCT250700000000003', 'LAUCT365100000000006', 'LAUCT365100000000005', 'LAUCT365100000000004', 'LAUCT365100000000003', 'LAUCT426000000000006', 'LAUCT426000000000005', 'LAUCT426000000000004', 'LAUCT426000000000003', 'LAUCT240400000000006', 'LAUCT240400000000005', 'LAUCT240400000000004', 'LAUCT240400000000003', 'LAUCT115000000000006', 'LAUCT115000000000005', 'LAUCT115000000000004', 'LAUCT115000000000003', 'LAUCT045500000000006', 'LAUCT045500000000005', 'LAUCT045500000000004', 'LAUCT045500000000003', 'LAUCT426000000000006', 'LAUCT426000000000005', 'LAUCT426000000000004', 'LAUCT426000000000003', 'LAUCT486500000000006', 'LAUCT486500000000005', 'LAUCT486500000000004', 'LAUCT486500000000003', 'LAUCT066600000000006', 'LAUCT066600000000005', 'LAUCT066600000000004', 'LAUCT066600000000003', 'LAUCT481900000000006', 'LAUCT481900000000005', 'LAUCT481900000000004', 'LAUCT481900000000003']\n"
     ]
    }
   ],
   "source": [
    "print(seriesIDs)"
   ]
  },
  {
   "cell_type": "markdown",
   "metadata": {},
   "source": [
    "# build the data request"
   ]
  },
  {
   "cell_type": "code",
   "execution_count": 438,
   "metadata": {
    "collapsed": true
   },
   "outputs": [],
   "source": [
    "headers = {'Content-type': 'application/json'}\n",
    "request = json.dumps({\"seriesid\": seriesIDs,\"startyear\":\"{}\".format(startYear), \"endyear\":\"{}\".format(endYear)})"
   ]
  },
  {
   "cell_type": "code",
   "execution_count": 439,
   "metadata": {},
   "outputs": [
    {
     "name": "stdout",
     "output_type": "stream",
     "text": [
      "{\"seriesid\": [\"LAUCT250700000000006\", \"LAUCT250700000000005\", \"LAUCT250700000000004\", \"LAUCT250700000000003\", \"LAUCT365100000000006\", \"LAUCT365100000000005\", \"LAUCT365100000000004\", \"LAUCT365100000000003\", \"LAUCT426000000000006\", \"LAUCT426000000000005\", \"LAUCT426000000000004\", \"LAUCT426000000000003\", \"LAUCT240400000000006\", \"LAUCT240400000000005\", \"LAUCT240400000000004\", \"LAUCT240400000000003\", \"LAUCT115000000000006\", \"LAUCT115000000000005\", \"LAUCT115000000000004\", \"LAUCT115000000000003\", \"LAUCT045500000000006\", \"LAUCT045500000000005\", \"LAUCT045500000000004\", \"LAUCT045500000000003\", \"LAUCT426000000000006\", \"LAUCT426000000000005\", \"LAUCT426000000000004\", \"LAUCT426000000000003\", \"LAUCT486500000000006\", \"LAUCT486500000000005\", \"LAUCT486500000000004\", \"LAUCT486500000000003\", \"LAUCT066600000000006\", \"LAUCT066600000000005\", \"LAUCT066600000000004\", \"LAUCT066600000000003\", \"LAUCT481900000000006\", \"LAUCT481900000000005\", \"LAUCT481900000000004\", \"LAUCT481900000000003\"], \"startyear\": \"2008\", \"endyear\": \"2017\"}\n"
     ]
    }
   ],
   "source": [
    "print(request)"
   ]
  },
  {
   "cell_type": "markdown",
   "metadata": {},
   "source": [
    "# send the request"
   ]
  },
  {
   "cell_type": "code",
   "execution_count": 440,
   "metadata": {
    "collapsed": true
   },
   "outputs": [],
   "source": [
    "# get the data using API\n",
    "p = requests.post('https://api.bls.gov/publicAPI/v1/timeseries/data/', data=request, headers=headers)"
   ]
  },
  {
   "cell_type": "markdown",
   "metadata": {},
   "source": [
    "# extract the JSON data payload from the response"
   ]
  },
  {
   "cell_type": "code",
   "execution_count": 441,
   "metadata": {
    "collapsed": true
   },
   "outputs": [],
   "source": [
    "json_data = json.loads(p.text)"
   ]
  },
  {
   "cell_type": "markdown",
   "metadata": {},
   "source": [
    "# define the resulting dataset columns"
   ]
  },
  {
   "cell_type": "code",
   "execution_count": 442,
   "metadata": {
    "collapsed": true
   },
   "outputs": [],
   "source": [
    "colNames = [\"seriesid\",\"year\",\"month\",\"period\",\"date\",\"state\",\"city\",\"measure\",\"value\",\"footnotes\"]"
   ]
  },
  {
   "cell_type": "markdown",
   "metadata": {},
   "source": [
    "# extract and process the JSON payload into a *PrettyTable*  and a plain Python array..."
   ]
  },
  {
   "cell_type": "code",
   "execution_count": 443,
   "metadata": {
    "collapsed": true
   },
   "outputs": [],
   "source": [
    "data = []\n",
    "for series in json_data['Results']['series']:\n",
    "    x=prettytable.PrettyTable(colNames)\n",
    "    seriesId = series['seriesID']\n",
    "    for item in series['data']:\n",
    "        year = item['year']\n",
    "        period = item['period']\n",
    "        month = code2month[period]\n",
    "        date = dateFrom(year, month)\n",
    "        state = decodeState(seriesId)\n",
    "        city = decodeCityTown(seriesId)\n",
    "        measure = decodeMeasure(seriesId)\n",
    "        value = item['value']\n",
    "        footnotes=\"\"\n",
    "        for footnote in item['footnotes']:\n",
    "            if footnote:\n",
    "                footnotes = footnotes + footnote['text'] + ','\n",
    "        if 'M01' <= period <= 'M12':\n",
    "            row = [seriesId,year,month,period,date,state,city,measure,value,footnotes[0:-1]]\n",
    "            x.add_row(row)\n",
    "            data.append(row)"
   ]
  },
  {
   "cell_type": "markdown",
   "metadata": {},
   "source": [
    "# create a *DataFrame*"
   ]
  },
  {
   "cell_type": "code",
   "execution_count": 444,
   "metadata": {},
   "outputs": [
    {
     "data": {
      "text/plain": [
       "[['LAUCT426000000000003',\n",
       "  '2017',\n",
       "  'August',\n",
       "  'M08',\n",
       "  '2017/08',\n",
       "  'Pennsylvania',\n",
       "  'Philadelphia County/city',\n",
       "  'unemployment-rate',\n",
       "  '6.7',\n",
       "  'Preliminary.'],\n",
       " ['LAUCT426000000000003',\n",
       "  '2017',\n",
       "  'July',\n",
       "  'M07',\n",
       "  '2017/07',\n",
       "  'Pennsylvania',\n",
       "  'Philadelphia County/city',\n",
       "  'unemployment-rate',\n",
       "  '6.9',\n",
       "  '']]"
      ]
     },
     "execution_count": 444,
     "metadata": {},
     "output_type": "execute_result"
    }
   ],
   "source": [
    "data[0:2]"
   ]
  },
  {
   "cell_type": "code",
   "execution_count": 445,
   "metadata": {
    "collapsed": true
   },
   "outputs": [],
   "source": [
    "dfLaborForce = pd.DataFrame(data, columns=colNames)"
   ]
  },
  {
   "cell_type": "code",
   "execution_count": 446,
   "metadata": {},
   "outputs": [
    {
     "data": {
      "text/html": [
       "<div>\n",
       "<style>\n",
       "    .dataframe thead tr:only-child th {\n",
       "        text-align: right;\n",
       "    }\n",
       "\n",
       "    .dataframe thead th {\n",
       "        text-align: left;\n",
       "    }\n",
       "\n",
       "    .dataframe tbody tr th {\n",
       "        vertical-align: top;\n",
       "    }\n",
       "</style>\n",
       "<table border=\"1\" class=\"dataframe\">\n",
       "  <thead>\n",
       "    <tr style=\"text-align: right;\">\n",
       "      <th></th>\n",
       "      <th>seriesid</th>\n",
       "      <th>year</th>\n",
       "      <th>month</th>\n",
       "      <th>period</th>\n",
       "      <th>date</th>\n",
       "      <th>state</th>\n",
       "      <th>city</th>\n",
       "      <th>measure</th>\n",
       "      <th>value</th>\n",
       "      <th>footnotes</th>\n",
       "    </tr>\n",
       "  </thead>\n",
       "  <tbody>\n",
       "    <tr>\n",
       "      <th>0</th>\n",
       "      <td>LAUCT426000000000003</td>\n",
       "      <td>2017</td>\n",
       "      <td>August</td>\n",
       "      <td>M08</td>\n",
       "      <td>2017/08</td>\n",
       "      <td>Pennsylvania</td>\n",
       "      <td>Philadelphia County/city</td>\n",
       "      <td>unemployment-rate</td>\n",
       "      <td>6.7</td>\n",
       "      <td>Preliminary.</td>\n",
       "    </tr>\n",
       "    <tr>\n",
       "      <th>1</th>\n",
       "      <td>LAUCT426000000000003</td>\n",
       "      <td>2017</td>\n",
       "      <td>July</td>\n",
       "      <td>M07</td>\n",
       "      <td>2017/07</td>\n",
       "      <td>Pennsylvania</td>\n",
       "      <td>Philadelphia County/city</td>\n",
       "      <td>unemployment-rate</td>\n",
       "      <td>6.9</td>\n",
       "      <td></td>\n",
       "    </tr>\n",
       "    <tr>\n",
       "      <th>2</th>\n",
       "      <td>LAUCT426000000000003</td>\n",
       "      <td>2017</td>\n",
       "      <td>June</td>\n",
       "      <td>M06</td>\n",
       "      <td>2017/06</td>\n",
       "      <td>Pennsylvania</td>\n",
       "      <td>Philadelphia County/city</td>\n",
       "      <td>unemployment-rate</td>\n",
       "      <td>6.4</td>\n",
       "      <td></td>\n",
       "    </tr>\n",
       "    <tr>\n",
       "      <th>3</th>\n",
       "      <td>LAUCT426000000000003</td>\n",
       "      <td>2017</td>\n",
       "      <td>May</td>\n",
       "      <td>M05</td>\n",
       "      <td>2017/05</td>\n",
       "      <td>Pennsylvania</td>\n",
       "      <td>Philadelphia County/city</td>\n",
       "      <td>unemployment-rate</td>\n",
       "      <td>6.7</td>\n",
       "      <td></td>\n",
       "    </tr>\n",
       "    <tr>\n",
       "      <th>4</th>\n",
       "      <td>LAUCT426000000000003</td>\n",
       "      <td>2017</td>\n",
       "      <td>April</td>\n",
       "      <td>M04</td>\n",
       "      <td>2017/04</td>\n",
       "      <td>Pennsylvania</td>\n",
       "      <td>Philadelphia County/city</td>\n",
       "      <td>unemployment-rate</td>\n",
       "      <td>5.9</td>\n",
       "      <td></td>\n",
       "    </tr>\n",
       "  </tbody>\n",
       "</table>\n",
       "</div>"
      ],
      "text/plain": [
       "               seriesid  year   month period     date         state  \\\n",
       "0  LAUCT426000000000003  2017  August    M08  2017/08  Pennsylvania   \n",
       "1  LAUCT426000000000003  2017    July    M07  2017/07  Pennsylvania   \n",
       "2  LAUCT426000000000003  2017    June    M06  2017/06  Pennsylvania   \n",
       "3  LAUCT426000000000003  2017     May    M05  2017/05  Pennsylvania   \n",
       "4  LAUCT426000000000003  2017   April    M04  2017/04  Pennsylvania   \n",
       "\n",
       "                       city            measure value     footnotes  \n",
       "0  Philadelphia County/city  unemployment-rate   6.7  Preliminary.  \n",
       "1  Philadelphia County/city  unemployment-rate   6.9                \n",
       "2  Philadelphia County/city  unemployment-rate   6.4                \n",
       "3  Philadelphia County/city  unemployment-rate   6.7                \n",
       "4  Philadelphia County/city  unemployment-rate   5.9                "
      ]
     },
     "execution_count": 446,
     "metadata": {},
     "output_type": "execute_result"
    }
   ],
   "source": [
    "dfLaborForce.head()"
   ]
  },
  {
   "cell_type": "code",
   "execution_count": 447,
   "metadata": {},
   "outputs": [
    {
     "data": {
      "text/html": [
       "<div>\n",
       "<style>\n",
       "    .dataframe thead tr:only-child th {\n",
       "        text-align: right;\n",
       "    }\n",
       "\n",
       "    .dataframe thead th {\n",
       "        text-align: left;\n",
       "    }\n",
       "\n",
       "    .dataframe tbody tr th {\n",
       "        vertical-align: top;\n",
       "    }\n",
       "</style>\n",
       "<table border=\"1\" class=\"dataframe\">\n",
       "  <thead>\n",
       "    <tr style=\"text-align: right;\">\n",
       "      <th></th>\n",
       "      <th>seriesid</th>\n",
       "      <th>year</th>\n",
       "      <th>month</th>\n",
       "      <th>period</th>\n",
       "      <th>date</th>\n",
       "      <th>state</th>\n",
       "      <th>city</th>\n",
       "      <th>measure</th>\n",
       "      <th>value</th>\n",
       "      <th>footnotes</th>\n",
       "    </tr>\n",
       "  </thead>\n",
       "  <tbody>\n",
       "    <tr>\n",
       "      <th>1</th>\n",
       "      <td>LAUCT426000000000003</td>\n",
       "      <td>2017</td>\n",
       "      <td>July</td>\n",
       "      <td>M07</td>\n",
       "      <td>2017/07</td>\n",
       "      <td>Pennsylvania</td>\n",
       "      <td>Philadelphia County/city</td>\n",
       "      <td>unemployment-rate</td>\n",
       "      <td>6.9</td>\n",
       "      <td></td>\n",
       "    </tr>\n",
       "    <tr>\n",
       "      <th>13</th>\n",
       "      <td>LAUCT426000000000003</td>\n",
       "      <td>2016</td>\n",
       "      <td>July</td>\n",
       "      <td>M07</td>\n",
       "      <td>2016/07</td>\n",
       "      <td>Pennsylvania</td>\n",
       "      <td>Philadelphia County/city</td>\n",
       "      <td>unemployment-rate</td>\n",
       "      <td>7.6</td>\n",
       "      <td></td>\n",
       "    </tr>\n",
       "    <tr>\n",
       "      <th>25</th>\n",
       "      <td>LAUCT426000000000003</td>\n",
       "      <td>2015</td>\n",
       "      <td>July</td>\n",
       "      <td>M07</td>\n",
       "      <td>2015/07</td>\n",
       "      <td>Pennsylvania</td>\n",
       "      <td>Philadelphia County/city</td>\n",
       "      <td>unemployment-rate</td>\n",
       "      <td>8.0</td>\n",
       "      <td></td>\n",
       "    </tr>\n",
       "    <tr>\n",
       "      <th>37</th>\n",
       "      <td>LAUCT426000000000003</td>\n",
       "      <td>2014</td>\n",
       "      <td>July</td>\n",
       "      <td>M07</td>\n",
       "      <td>2014/07</td>\n",
       "      <td>Pennsylvania</td>\n",
       "      <td>Philadelphia County/city</td>\n",
       "      <td>unemployment-rate</td>\n",
       "      <td>8.9</td>\n",
       "      <td></td>\n",
       "    </tr>\n",
       "    <tr>\n",
       "      <th>49</th>\n",
       "      <td>LAUCT426000000000003</td>\n",
       "      <td>2013</td>\n",
       "      <td>July</td>\n",
       "      <td>M07</td>\n",
       "      <td>2013/07</td>\n",
       "      <td>Pennsylvania</td>\n",
       "      <td>Philadelphia County/city</td>\n",
       "      <td>unemployment-rate</td>\n",
       "      <td>11.0</td>\n",
       "      <td></td>\n",
       "    </tr>\n",
       "  </tbody>\n",
       "</table>\n",
       "</div>"
      ],
      "text/plain": [
       "                seriesid  year month period     date         state  \\\n",
       "1   LAUCT426000000000003  2017  July    M07  2017/07  Pennsylvania   \n",
       "13  LAUCT426000000000003  2016  July    M07  2016/07  Pennsylvania   \n",
       "25  LAUCT426000000000003  2015  July    M07  2015/07  Pennsylvania   \n",
       "37  LAUCT426000000000003  2014  July    M07  2014/07  Pennsylvania   \n",
       "49  LAUCT426000000000003  2013  July    M07  2013/07  Pennsylvania   \n",
       "\n",
       "                        city            measure value footnotes  \n",
       "1   Philadelphia County/city  unemployment-rate   6.9            \n",
       "13  Philadelphia County/city  unemployment-rate   7.6            \n",
       "25  Philadelphia County/city  unemployment-rate   8.0            \n",
       "37  Philadelphia County/city  unemployment-rate   8.9            \n",
       "49  Philadelphia County/city  unemployment-rate  11.0            "
      ]
     },
     "execution_count": 447,
     "metadata": {},
     "output_type": "execute_result"
    }
   ],
   "source": [
    "dfLaborForce[dfLaborForce.month==\"July\"].head()"
   ]
  },
  {
   "cell_type": "code",
   "execution_count": 448,
   "metadata": {
    "collapsed": true
   },
   "outputs": [],
   "source": [
    "dfLaborForceSelect = dfLaborForce[dfLaborForce.month==\"July\"].copy()"
   ]
  },
  {
   "cell_type": "code",
   "execution_count": 449,
   "metadata": {},
   "outputs": [],
   "source": [
    "dfLaborForceSelect.drop(['seriesid','month','period','date','footnotes'], axis=1, inplace=True)"
   ]
  },
  {
   "cell_type": "code",
   "execution_count": 450,
   "metadata": {
    "collapsed": true
   },
   "outputs": [],
   "source": [
    "dfLaborForceSelect.rename(columns={\"year\": \"Year\", \"state\": \"State\", \"city\": \"City\", \"measure\": \"Measure\", \"value\": \"Value\"}, inplace=True)"
   ]
  },
  {
   "cell_type": "code",
   "execution_count": 451,
   "metadata": {},
   "outputs": [
    {
     "data": {
      "text/html": [
       "<div>\n",
       "<style>\n",
       "    .dataframe thead tr:only-child th {\n",
       "        text-align: right;\n",
       "    }\n",
       "\n",
       "    .dataframe thead th {\n",
       "        text-align: left;\n",
       "    }\n",
       "\n",
       "    .dataframe tbody tr th {\n",
       "        vertical-align: top;\n",
       "    }\n",
       "</style>\n",
       "<table border=\"1\" class=\"dataframe\">\n",
       "  <thead>\n",
       "    <tr style=\"text-align: right;\">\n",
       "      <th></th>\n",
       "      <th>Year</th>\n",
       "      <th>State</th>\n",
       "      <th>City</th>\n",
       "      <th>Measure</th>\n",
       "      <th>Value</th>\n",
       "    </tr>\n",
       "  </thead>\n",
       "  <tbody>\n",
       "    <tr>\n",
       "      <th>1</th>\n",
       "      <td>2017</td>\n",
       "      <td>Pennsylvania</td>\n",
       "      <td>Philadelphia County/city</td>\n",
       "      <td>unemployment-rate</td>\n",
       "      <td>6.9</td>\n",
       "    </tr>\n",
       "    <tr>\n",
       "      <th>13</th>\n",
       "      <td>2016</td>\n",
       "      <td>Pennsylvania</td>\n",
       "      <td>Philadelphia County/city</td>\n",
       "      <td>unemployment-rate</td>\n",
       "      <td>7.6</td>\n",
       "    </tr>\n",
       "    <tr>\n",
       "      <th>25</th>\n",
       "      <td>2015</td>\n",
       "      <td>Pennsylvania</td>\n",
       "      <td>Philadelphia County/city</td>\n",
       "      <td>unemployment-rate</td>\n",
       "      <td>8.0</td>\n",
       "    </tr>\n",
       "    <tr>\n",
       "      <th>37</th>\n",
       "      <td>2014</td>\n",
       "      <td>Pennsylvania</td>\n",
       "      <td>Philadelphia County/city</td>\n",
       "      <td>unemployment-rate</td>\n",
       "      <td>8.9</td>\n",
       "    </tr>\n",
       "    <tr>\n",
       "      <th>49</th>\n",
       "      <td>2013</td>\n",
       "      <td>Pennsylvania</td>\n",
       "      <td>Philadelphia County/city</td>\n",
       "      <td>unemployment-rate</td>\n",
       "      <td>11.0</td>\n",
       "    </tr>\n",
       "  </tbody>\n",
       "</table>\n",
       "</div>"
      ],
      "text/plain": [
       "    Year         State                      City            Measure Value\n",
       "1   2017  Pennsylvania  Philadelphia County/city  unemployment-rate   6.9\n",
       "13  2016  Pennsylvania  Philadelphia County/city  unemployment-rate   7.6\n",
       "25  2015  Pennsylvania  Philadelphia County/city  unemployment-rate   8.0\n",
       "37  2014  Pennsylvania  Philadelphia County/city  unemployment-rate   8.9\n",
       "49  2013  Pennsylvania  Philadelphia County/city  unemployment-rate  11.0"
      ]
     },
     "execution_count": 451,
     "metadata": {},
     "output_type": "execute_result"
    }
   ],
   "source": [
    "dfLaborForceSelect.head()"
   ]
  },
  {
   "cell_type": "markdown",
   "metadata": {},
   "source": [
    "# load the population data"
   ]
  },
  {
   "cell_type": "code",
   "execution_count": 452,
   "metadata": {
    "collapsed": true
   },
   "outputs": [],
   "source": [
    "pop1 = pd.read_csv(\"census-data-2000-2009.csv\", sep=\",\", encoding='latin-1')\n",
    "pop2 = pd.read_csv(\"census-data-2010-2016.csv\", sep=\",\", encoding='latin-1')"
   ]
  },
  {
   "cell_type": "code",
   "execution_count": 453,
   "metadata": {
    "collapsed": true
   },
   "outputs": [],
   "source": [
    "data1t = pd.melt(pop1, id_vars=[\"sumlev\", \"STATE\", \"COUNTY\", \"place\", \"COUSUB\", \"name\", \"STATENAME\"],\n",
    "                 var_name=\"Date\", \n",
    "                 value_name=\"Value\")\n",
    "\n",
    "data2t = pd.melt(pop2, id_vars=[\"SUMLEV\", \"STATE\", \"COUNTY\", \"PLACE\", \"COUSUB\", \"CONCIT\", \"PRIMGEO_FLAG\", \"FUNCSTAT\", \"NAME\", \"STNAME\"], \n",
    "                 var_name=\"Date\", \n",
    "                 value_name=\"Value\")"
   ]
  },
  {
   "cell_type": "code",
   "execution_count": 454,
   "metadata": {
    "collapsed": true
   },
   "outputs": [],
   "source": [
    "data1ts = data1t[(data1t.sumlev==162) & (data1t.Date.str.contains(\"POP_\"))].copy()\n",
    "data2ts = data2t[(data2t.SUMLEV==162) & (data2t.Date.str.contains(\"POPESTIMATE\"))].copy()"
   ]
  },
  {
   "cell_type": "code",
   "execution_count": 455,
   "metadata": {
    "collapsed": true
   },
   "outputs": [],
   "source": [
    "data1ts.drop(['sumlev','STATE','COUNTY','place','COUSUB'], axis=1, inplace=True)\n",
    "data1ts.rename(columns={\"name\": \"City\", \"STATENAME\": \"State\"}, inplace=True)\n",
    "data1ts.Date = data1ts.Date.str.replace(\"POP_\", \"\")\n",
    "\n",
    "data2ts.drop(['SUMLEV','STATE','COUNTY','PLACE','COUSUB','CONCIT','PRIMGEO_FLAG','FUNCSTAT'], axis=1, inplace=True)\n",
    "data2ts.rename(columns={\"NAME\":\"City\", \"STNAME\":\"State\"}, inplace=True)\n",
    "data2ts.Date = data2ts.Date.str.replace(\"POPESTIMATE\", \"\")"
   ]
  },
  {
   "cell_type": "code",
   "execution_count": 456,
   "metadata": {},
   "outputs": [
    {
     "name": "stdout",
     "output_type": "stream",
     "text": [
      "len(data1ts): 195100 len(data2ts) 136570 total: 331670\n",
      "len(dfPopulation): 331670\n"
     ]
    }
   ],
   "source": [
    "print(\"len(data1ts): {} len(data2ts) {} total: {}\".format(len(data1ts), len(data2ts), len(data1ts)+len(data2ts)))\n",
    "frames = [data1ts, data2ts]\n",
    "dfPopulation = pd.concat(frames)\n",
    "print(\"len(dfPopulation): {}\".format(len(dfPopulation)))"
   ]
  },
  {
   "cell_type": "code",
   "execution_count": 457,
   "metadata": {},
   "outputs": [
    {
     "data": {
      "text/html": [
       "<div>\n",
       "<style>\n",
       "    .dataframe thead tr:only-child th {\n",
       "        text-align: right;\n",
       "    }\n",
       "\n",
       "    .dataframe thead th {\n",
       "        text-align: left;\n",
       "    }\n",
       "\n",
       "    .dataframe tbody tr th {\n",
       "        vertical-align: top;\n",
       "    }\n",
       "</style>\n",
       "<table border=\"1\" class=\"dataframe\">\n",
       "  <thead>\n",
       "    <tr style=\"text-align: right;\">\n",
       "      <th></th>\n",
       "      <th>City</th>\n",
       "      <th>State</th>\n",
       "      <th>Date</th>\n",
       "      <th>Value</th>\n",
       "    </tr>\n",
       "  </thead>\n",
       "  <tbody>\n",
       "    <tr>\n",
       "      <th>163407</th>\n",
       "      <td>Abbeville city</td>\n",
       "      <td>Alabama</td>\n",
       "      <td>2000</td>\n",
       "      <td>2987</td>\n",
       "    </tr>\n",
       "    <tr>\n",
       "      <th>163408</th>\n",
       "      <td>Adamsville city</td>\n",
       "      <td>Alabama</td>\n",
       "      <td>2000</td>\n",
       "      <td>5069</td>\n",
       "    </tr>\n",
       "    <tr>\n",
       "      <th>163409</th>\n",
       "      <td>Addison town</td>\n",
       "      <td>Alabama</td>\n",
       "      <td>2000</td>\n",
       "      <td>724</td>\n",
       "    </tr>\n",
       "    <tr>\n",
       "      <th>163410</th>\n",
       "      <td>Akron town</td>\n",
       "      <td>Alabama</td>\n",
       "      <td>2000</td>\n",
       "      <td>449</td>\n",
       "    </tr>\n",
       "    <tr>\n",
       "      <th>163411</th>\n",
       "      <td>Alabaster city</td>\n",
       "      <td>Alabama</td>\n",
       "      <td>2000</td>\n",
       "      <td>24099</td>\n",
       "    </tr>\n",
       "  </tbody>\n",
       "</table>\n",
       "</div>"
      ],
      "text/plain": [
       "                   City    State  Date  Value\n",
       "163407   Abbeville city  Alabama  2000   2987\n",
       "163408  Adamsville city  Alabama  2000   5069\n",
       "163409     Addison town  Alabama  2000    724\n",
       "163410       Akron town  Alabama  2000    449\n",
       "163411   Alabaster city  Alabama  2000  24099"
      ]
     },
     "execution_count": 457,
     "metadata": {},
     "output_type": "execute_result"
    }
   ],
   "source": [
    "dfPopulation.head()"
   ]
  },
  {
   "cell_type": "code",
   "execution_count": 458,
   "metadata": {
    "collapsed": true
   },
   "outputs": [],
   "source": [
    "dfPopulation['Measure'] = \"population\""
   ]
  },
  {
   "cell_type": "code",
   "execution_count": 459,
   "metadata": {},
   "outputs": [],
   "source": [
    "dfPopulation.rename(columns={\"Date\": \"Year\"}, inplace=True)"
   ]
  },
  {
   "cell_type": "code",
   "execution_count": 460,
   "metadata": {},
   "outputs": [
    {
     "data": {
      "text/html": [
       "<div>\n",
       "<style>\n",
       "    .dataframe thead tr:only-child th {\n",
       "        text-align: right;\n",
       "    }\n",
       "\n",
       "    .dataframe thead th {\n",
       "        text-align: left;\n",
       "    }\n",
       "\n",
       "    .dataframe tbody tr th {\n",
       "        vertical-align: top;\n",
       "    }\n",
       "</style>\n",
       "<table border=\"1\" class=\"dataframe\">\n",
       "  <thead>\n",
       "    <tr style=\"text-align: right;\">\n",
       "      <th></th>\n",
       "      <th>City</th>\n",
       "      <th>State</th>\n",
       "      <th>Year</th>\n",
       "      <th>Value</th>\n",
       "      <th>Measure</th>\n",
       "    </tr>\n",
       "  </thead>\n",
       "  <tbody>\n",
       "    <tr>\n",
       "      <th>163407</th>\n",
       "      <td>Abbeville city</td>\n",
       "      <td>Alabama</td>\n",
       "      <td>2000</td>\n",
       "      <td>2987</td>\n",
       "      <td>population</td>\n",
       "    </tr>\n",
       "    <tr>\n",
       "      <th>163408</th>\n",
       "      <td>Adamsville city</td>\n",
       "      <td>Alabama</td>\n",
       "      <td>2000</td>\n",
       "      <td>5069</td>\n",
       "      <td>population</td>\n",
       "    </tr>\n",
       "    <tr>\n",
       "      <th>163409</th>\n",
       "      <td>Addison town</td>\n",
       "      <td>Alabama</td>\n",
       "      <td>2000</td>\n",
       "      <td>724</td>\n",
       "      <td>population</td>\n",
       "    </tr>\n",
       "    <tr>\n",
       "      <th>163410</th>\n",
       "      <td>Akron town</td>\n",
       "      <td>Alabama</td>\n",
       "      <td>2000</td>\n",
       "      <td>449</td>\n",
       "      <td>population</td>\n",
       "    </tr>\n",
       "    <tr>\n",
       "      <th>163411</th>\n",
       "      <td>Alabaster city</td>\n",
       "      <td>Alabama</td>\n",
       "      <td>2000</td>\n",
       "      <td>24099</td>\n",
       "      <td>population</td>\n",
       "    </tr>\n",
       "  </tbody>\n",
       "</table>\n",
       "</div>"
      ],
      "text/plain": [
       "                   City    State  Year  Value     Measure\n",
       "163407   Abbeville city  Alabama  2000   2987  population\n",
       "163408  Adamsville city  Alabama  2000   5069  population\n",
       "163409     Addison town  Alabama  2000    724  population\n",
       "163410       Akron town  Alabama  2000    449  population\n",
       "163411   Alabaster city  Alabama  2000  24099  population"
      ]
     },
     "execution_count": 460,
     "metadata": {},
     "output_type": "execute_result"
    }
   ],
   "source": [
    "dfPopulation.head()"
   ]
  },
  {
   "cell_type": "markdown",
   "metadata": {},
   "source": [
    "# merge labor-force and population data"
   ]
  },
  {
   "cell_type": "code",
   "execution_count": 461,
   "metadata": {
    "collapsed": true
   },
   "outputs": [],
   "source": [
    "frames = [dfPopulation, dfLaborForceSelect]"
   ]
  },
  {
   "cell_type": "code",
   "execution_count": 462,
   "metadata": {},
   "outputs": [],
   "source": [
    "df = pd.concat(frames)"
   ]
  },
  {
   "cell_type": "code",
   "execution_count": 463,
   "metadata": {},
   "outputs": [
    {
     "data": {
      "text/html": [
       "<div>\n",
       "<style>\n",
       "    .dataframe thead tr:only-child th {\n",
       "        text-align: right;\n",
       "    }\n",
       "\n",
       "    .dataframe thead th {\n",
       "        text-align: left;\n",
       "    }\n",
       "\n",
       "    .dataframe tbody tr th {\n",
       "        vertical-align: top;\n",
       "    }\n",
       "</style>\n",
       "<table border=\"1\" class=\"dataframe\">\n",
       "  <thead>\n",
       "    <tr style=\"text-align: right;\">\n",
       "      <th></th>\n",
       "      <th>City</th>\n",
       "      <th>Measure</th>\n",
       "      <th>State</th>\n",
       "      <th>Value</th>\n",
       "      <th>Year</th>\n",
       "    </tr>\n",
       "  </thead>\n",
       "  <tbody>\n",
       "    <tr>\n",
       "      <th>845280</th>\n",
       "      <td>Boston city</td>\n",
       "      <td>population</td>\n",
       "      <td>Massachusetts</td>\n",
       "      <td>636748</td>\n",
       "      <td>2008</td>\n",
       "    </tr>\n",
       "    <tr>\n",
       "      <th>926983</th>\n",
       "      <td>Boston city</td>\n",
       "      <td>population</td>\n",
       "      <td>Massachusetts</td>\n",
       "      <td>645169</td>\n",
       "      <td>2009</td>\n",
       "    </tr>\n",
       "    <tr>\n",
       "      <th>191488</th>\n",
       "      <td>Boston city</td>\n",
       "      <td>population</td>\n",
       "      <td>Massachusetts</td>\n",
       "      <td>620701</td>\n",
       "      <td>2010</td>\n",
       "    </tr>\n",
       "    <tr>\n",
       "      <th>273073</th>\n",
       "      <td>Boston city</td>\n",
       "      <td>population</td>\n",
       "      <td>Massachusetts</td>\n",
       "      <td>630195</td>\n",
       "      <td>2011</td>\n",
       "    </tr>\n",
       "    <tr>\n",
       "      <th>354658</th>\n",
       "      <td>Boston city</td>\n",
       "      <td>population</td>\n",
       "      <td>Massachusetts</td>\n",
       "      <td>641911</td>\n",
       "      <td>2012</td>\n",
       "    </tr>\n",
       "    <tr>\n",
       "      <th>436243</th>\n",
       "      <td>Boston city</td>\n",
       "      <td>population</td>\n",
       "      <td>Massachusetts</td>\n",
       "      <td>651090</td>\n",
       "      <td>2013</td>\n",
       "    </tr>\n",
       "    <tr>\n",
       "      <th>517828</th>\n",
       "      <td>Boston city</td>\n",
       "      <td>population</td>\n",
       "      <td>Massachusetts</td>\n",
       "      <td>659180</td>\n",
       "      <td>2014</td>\n",
       "    </tr>\n",
       "    <tr>\n",
       "      <th>599413</th>\n",
       "      <td>Boston city</td>\n",
       "      <td>population</td>\n",
       "      <td>Massachusetts</td>\n",
       "      <td>665984</td>\n",
       "      <td>2015</td>\n",
       "    </tr>\n",
       "    <tr>\n",
       "      <th>680998</th>\n",
       "      <td>Boston city</td>\n",
       "      <td>population</td>\n",
       "      <td>Massachusetts</td>\n",
       "      <td>673184</td>\n",
       "      <td>2016</td>\n",
       "    </tr>\n",
       "    <tr>\n",
       "      <th>465</th>\n",
       "      <td>Boston city</td>\n",
       "      <td>unemployment-rate</td>\n",
       "      <td>Massachusetts</td>\n",
       "      <td>4.2</td>\n",
       "      <td>2017</td>\n",
       "    </tr>\n",
       "    <tr>\n",
       "      <th>477</th>\n",
       "      <td>Boston city</td>\n",
       "      <td>unemployment-rate</td>\n",
       "      <td>Massachusetts</td>\n",
       "      <td>3.8</td>\n",
       "      <td>2016</td>\n",
       "    </tr>\n",
       "    <tr>\n",
       "      <th>489</th>\n",
       "      <td>Boston city</td>\n",
       "      <td>unemployment-rate</td>\n",
       "      <td>Massachusetts</td>\n",
       "      <td>4.9</td>\n",
       "      <td>2015</td>\n",
       "    </tr>\n",
       "    <tr>\n",
       "      <th>501</th>\n",
       "      <td>Boston city</td>\n",
       "      <td>unemployment-rate</td>\n",
       "      <td>Massachusetts</td>\n",
       "      <td>5.9</td>\n",
       "      <td>2014</td>\n",
       "    </tr>\n",
       "    <tr>\n",
       "      <th>513</th>\n",
       "      <td>Boston city</td>\n",
       "      <td>unemployment-rate</td>\n",
       "      <td>Massachusetts</td>\n",
       "      <td>6.8</td>\n",
       "      <td>2013</td>\n",
       "    </tr>\n",
       "    <tr>\n",
       "      <th>525</th>\n",
       "      <td>Boston city</td>\n",
       "      <td>unemployment-rate</td>\n",
       "      <td>Massachusetts</td>\n",
       "      <td>6.6</td>\n",
       "      <td>2012</td>\n",
       "    </tr>\n",
       "    <tr>\n",
       "      <th>537</th>\n",
       "      <td>Boston city</td>\n",
       "      <td>unemployment-rate</td>\n",
       "      <td>Massachusetts</td>\n",
       "      <td>7.0</td>\n",
       "      <td>2011</td>\n",
       "    </tr>\n",
       "    <tr>\n",
       "      <th>549</th>\n",
       "      <td>Boston city</td>\n",
       "      <td>unemployment-rate</td>\n",
       "      <td>Massachusetts</td>\n",
       "      <td>8.1</td>\n",
       "      <td>2010</td>\n",
       "    </tr>\n",
       "    <tr>\n",
       "      <th>561</th>\n",
       "      <td>Boston city</td>\n",
       "      <td>unemployment-rate</td>\n",
       "      <td>Massachusetts</td>\n",
       "      <td>8.2</td>\n",
       "      <td>2009</td>\n",
       "    </tr>\n",
       "    <tr>\n",
       "      <th>573</th>\n",
       "      <td>Boston city</td>\n",
       "      <td>unemployment-rate</td>\n",
       "      <td>Massachusetts</td>\n",
       "      <td>5.8</td>\n",
       "      <td>2008</td>\n",
       "    </tr>\n",
       "    <tr>\n",
       "      <th>581</th>\n",
       "      <td>Boston city</td>\n",
       "      <td>unemployment</td>\n",
       "      <td>Massachusetts</td>\n",
       "      <td>16134</td>\n",
       "      <td>2017</td>\n",
       "    </tr>\n",
       "    <tr>\n",
       "      <th>593</th>\n",
       "      <td>Boston city</td>\n",
       "      <td>unemployment</td>\n",
       "      <td>Massachusetts</td>\n",
       "      <td>13871</td>\n",
       "      <td>2016</td>\n",
       "    </tr>\n",
       "    <tr>\n",
       "      <th>605</th>\n",
       "      <td>Boston city</td>\n",
       "      <td>unemployment</td>\n",
       "      <td>Massachusetts</td>\n",
       "      <td>18053</td>\n",
       "      <td>2015</td>\n",
       "    </tr>\n",
       "    <tr>\n",
       "      <th>617</th>\n",
       "      <td>Boston city</td>\n",
       "      <td>unemployment</td>\n",
       "      <td>Massachusetts</td>\n",
       "      <td>21415</td>\n",
       "      <td>2014</td>\n",
       "    </tr>\n",
       "    <tr>\n",
       "      <th>629</th>\n",
       "      <td>Boston city</td>\n",
       "      <td>unemployment</td>\n",
       "      <td>Massachusetts</td>\n",
       "      <td>24065</td>\n",
       "      <td>2013</td>\n",
       "    </tr>\n",
       "    <tr>\n",
       "      <th>641</th>\n",
       "      <td>Boston city</td>\n",
       "      <td>unemployment</td>\n",
       "      <td>Massachusetts</td>\n",
       "      <td>22973</td>\n",
       "      <td>2012</td>\n",
       "    </tr>\n",
       "    <tr>\n",
       "      <th>653</th>\n",
       "      <td>Boston city</td>\n",
       "      <td>unemployment</td>\n",
       "      <td>Massachusetts</td>\n",
       "      <td>24213</td>\n",
       "      <td>2011</td>\n",
       "    </tr>\n",
       "    <tr>\n",
       "      <th>665</th>\n",
       "      <td>Boston city</td>\n",
       "      <td>unemployment</td>\n",
       "      <td>Massachusetts</td>\n",
       "      <td>27628</td>\n",
       "      <td>2010</td>\n",
       "    </tr>\n",
       "    <tr>\n",
       "      <th>677</th>\n",
       "      <td>Boston city</td>\n",
       "      <td>unemployment</td>\n",
       "      <td>Massachusetts</td>\n",
       "      <td>27224</td>\n",
       "      <td>2009</td>\n",
       "    </tr>\n",
       "    <tr>\n",
       "      <th>689</th>\n",
       "      <td>Boston city</td>\n",
       "      <td>unemployment</td>\n",
       "      <td>Massachusetts</td>\n",
       "      <td>19085</td>\n",
       "      <td>2008</td>\n",
       "    </tr>\n",
       "    <tr>\n",
       "      <th>697</th>\n",
       "      <td>Boston city</td>\n",
       "      <td>employment</td>\n",
       "      <td>Massachusetts</td>\n",
       "      <td>365271</td>\n",
       "      <td>2017</td>\n",
       "    </tr>\n",
       "    <tr>\n",
       "      <th>709</th>\n",
       "      <td>Boston city</td>\n",
       "      <td>employment</td>\n",
       "      <td>Massachusetts</td>\n",
       "      <td>355265</td>\n",
       "      <td>2016</td>\n",
       "    </tr>\n",
       "    <tr>\n",
       "      <th>721</th>\n",
       "      <td>Boston city</td>\n",
       "      <td>employment</td>\n",
       "      <td>Massachusetts</td>\n",
       "      <td>348817</td>\n",
       "      <td>2015</td>\n",
       "    </tr>\n",
       "    <tr>\n",
       "      <th>733</th>\n",
       "      <td>Boston city</td>\n",
       "      <td>employment</td>\n",
       "      <td>Massachusetts</td>\n",
       "      <td>339755</td>\n",
       "      <td>2014</td>\n",
       "    </tr>\n",
       "    <tr>\n",
       "      <th>745</th>\n",
       "      <td>Boston city</td>\n",
       "      <td>employment</td>\n",
       "      <td>Massachusetts</td>\n",
       "      <td>329650</td>\n",
       "      <td>2013</td>\n",
       "    </tr>\n",
       "    <tr>\n",
       "      <th>757</th>\n",
       "      <td>Boston city</td>\n",
       "      <td>employment</td>\n",
       "      <td>Massachusetts</td>\n",
       "      <td>325693</td>\n",
       "      <td>2012</td>\n",
       "    </tr>\n",
       "    <tr>\n",
       "      <th>769</th>\n",
       "      <td>Boston city</td>\n",
       "      <td>employment</td>\n",
       "      <td>Massachusetts</td>\n",
       "      <td>319585</td>\n",
       "      <td>2011</td>\n",
       "    </tr>\n",
       "    <tr>\n",
       "      <th>781</th>\n",
       "      <td>Boston city</td>\n",
       "      <td>employment</td>\n",
       "      <td>Massachusetts</td>\n",
       "      <td>314539</td>\n",
       "      <td>2010</td>\n",
       "    </tr>\n",
       "    <tr>\n",
       "      <th>793</th>\n",
       "      <td>Boston city</td>\n",
       "      <td>employment</td>\n",
       "      <td>Massachusetts</td>\n",
       "      <td>303159</td>\n",
       "      <td>2009</td>\n",
       "    </tr>\n",
       "    <tr>\n",
       "      <th>805</th>\n",
       "      <td>Boston city</td>\n",
       "      <td>employment</td>\n",
       "      <td>Massachusetts</td>\n",
       "      <td>309163</td>\n",
       "      <td>2008</td>\n",
       "    </tr>\n",
       "    <tr>\n",
       "      <th>813</th>\n",
       "      <td>Boston city</td>\n",
       "      <td>labor-force</td>\n",
       "      <td>Massachusetts</td>\n",
       "      <td>381405</td>\n",
       "      <td>2017</td>\n",
       "    </tr>\n",
       "    <tr>\n",
       "      <th>825</th>\n",
       "      <td>Boston city</td>\n",
       "      <td>labor-force</td>\n",
       "      <td>Massachusetts</td>\n",
       "      <td>369136</td>\n",
       "      <td>2016</td>\n",
       "    </tr>\n",
       "    <tr>\n",
       "      <th>837</th>\n",
       "      <td>Boston city</td>\n",
       "      <td>labor-force</td>\n",
       "      <td>Massachusetts</td>\n",
       "      <td>366870</td>\n",
       "      <td>2015</td>\n",
       "    </tr>\n",
       "    <tr>\n",
       "      <th>849</th>\n",
       "      <td>Boston city</td>\n",
       "      <td>labor-force</td>\n",
       "      <td>Massachusetts</td>\n",
       "      <td>361170</td>\n",
       "      <td>2014</td>\n",
       "    </tr>\n",
       "    <tr>\n",
       "      <th>861</th>\n",
       "      <td>Boston city</td>\n",
       "      <td>labor-force</td>\n",
       "      <td>Massachusetts</td>\n",
       "      <td>353715</td>\n",
       "      <td>2013</td>\n",
       "    </tr>\n",
       "    <tr>\n",
       "      <th>873</th>\n",
       "      <td>Boston city</td>\n",
       "      <td>labor-force</td>\n",
       "      <td>Massachusetts</td>\n",
       "      <td>348666</td>\n",
       "      <td>2012</td>\n",
       "    </tr>\n",
       "    <tr>\n",
       "      <th>885</th>\n",
       "      <td>Boston city</td>\n",
       "      <td>labor-force</td>\n",
       "      <td>Massachusetts</td>\n",
       "      <td>343798</td>\n",
       "      <td>2011</td>\n",
       "    </tr>\n",
       "    <tr>\n",
       "      <th>897</th>\n",
       "      <td>Boston city</td>\n",
       "      <td>labor-force</td>\n",
       "      <td>Massachusetts</td>\n",
       "      <td>342167</td>\n",
       "      <td>2010</td>\n",
       "    </tr>\n",
       "    <tr>\n",
       "      <th>909</th>\n",
       "      <td>Boston city</td>\n",
       "      <td>labor-force</td>\n",
       "      <td>Massachusetts</td>\n",
       "      <td>330383</td>\n",
       "      <td>2009</td>\n",
       "    </tr>\n",
       "    <tr>\n",
       "      <th>921</th>\n",
       "      <td>Boston city</td>\n",
       "      <td>labor-force</td>\n",
       "      <td>Massachusetts</td>\n",
       "      <td>328248</td>\n",
       "      <td>2008</td>\n",
       "    </tr>\n",
       "  </tbody>\n",
       "</table>\n",
       "</div>"
      ],
      "text/plain": [
       "               City            Measure          State   Value  Year\n",
       "845280  Boston city         population  Massachusetts  636748  2008\n",
       "926983  Boston city         population  Massachusetts  645169  2009\n",
       "191488  Boston city         population  Massachusetts  620701  2010\n",
       "273073  Boston city         population  Massachusetts  630195  2011\n",
       "354658  Boston city         population  Massachusetts  641911  2012\n",
       "436243  Boston city         population  Massachusetts  651090  2013\n",
       "517828  Boston city         population  Massachusetts  659180  2014\n",
       "599413  Boston city         population  Massachusetts  665984  2015\n",
       "680998  Boston city         population  Massachusetts  673184  2016\n",
       "465     Boston city  unemployment-rate  Massachusetts     4.2  2017\n",
       "477     Boston city  unemployment-rate  Massachusetts     3.8  2016\n",
       "489     Boston city  unemployment-rate  Massachusetts     4.9  2015\n",
       "501     Boston city  unemployment-rate  Massachusetts     5.9  2014\n",
       "513     Boston city  unemployment-rate  Massachusetts     6.8  2013\n",
       "525     Boston city  unemployment-rate  Massachusetts     6.6  2012\n",
       "537     Boston city  unemployment-rate  Massachusetts     7.0  2011\n",
       "549     Boston city  unemployment-rate  Massachusetts     8.1  2010\n",
       "561     Boston city  unemployment-rate  Massachusetts     8.2  2009\n",
       "573     Boston city  unemployment-rate  Massachusetts     5.8  2008\n",
       "581     Boston city       unemployment  Massachusetts   16134  2017\n",
       "593     Boston city       unemployment  Massachusetts   13871  2016\n",
       "605     Boston city       unemployment  Massachusetts   18053  2015\n",
       "617     Boston city       unemployment  Massachusetts   21415  2014\n",
       "629     Boston city       unemployment  Massachusetts   24065  2013\n",
       "641     Boston city       unemployment  Massachusetts   22973  2012\n",
       "653     Boston city       unemployment  Massachusetts   24213  2011\n",
       "665     Boston city       unemployment  Massachusetts   27628  2010\n",
       "677     Boston city       unemployment  Massachusetts   27224  2009\n",
       "689     Boston city       unemployment  Massachusetts   19085  2008\n",
       "697     Boston city         employment  Massachusetts  365271  2017\n",
       "709     Boston city         employment  Massachusetts  355265  2016\n",
       "721     Boston city         employment  Massachusetts  348817  2015\n",
       "733     Boston city         employment  Massachusetts  339755  2014\n",
       "745     Boston city         employment  Massachusetts  329650  2013\n",
       "757     Boston city         employment  Massachusetts  325693  2012\n",
       "769     Boston city         employment  Massachusetts  319585  2011\n",
       "781     Boston city         employment  Massachusetts  314539  2010\n",
       "793     Boston city         employment  Massachusetts  303159  2009\n",
       "805     Boston city         employment  Massachusetts  309163  2008\n",
       "813     Boston city        labor-force  Massachusetts  381405  2017\n",
       "825     Boston city        labor-force  Massachusetts  369136  2016\n",
       "837     Boston city        labor-force  Massachusetts  366870  2015\n",
       "849     Boston city        labor-force  Massachusetts  361170  2014\n",
       "861     Boston city        labor-force  Massachusetts  353715  2013\n",
       "873     Boston city        labor-force  Massachusetts  348666  2012\n",
       "885     Boston city        labor-force  Massachusetts  343798  2011\n",
       "897     Boston city        labor-force  Massachusetts  342167  2010\n",
       "909     Boston city        labor-force  Massachusetts  330383  2009\n",
       "921     Boston city        labor-force  Massachusetts  328248  2008"
      ]
     },
     "execution_count": 463,
     "metadata": {},
     "output_type": "execute_result"
    }
   ],
   "source": [
    "df[(df.City == \"Boston city\") & (df.State == \"Massachusetts\") & (df.Year >= \"2008\")]"
   ]
  },
  {
   "cell_type": "markdown",
   "metadata": {},
   "source": [
    "# trim city names"
   ]
  },
  {
   "cell_type": "code",
   "execution_count": 464,
   "metadata": {
    "collapsed": true
   },
   "outputs": [],
   "source": [
    "df.City = [trimCityName(city) for city in df.City]"
   ]
  },
  {
   "cell_type": "code",
   "execution_count": null,
   "metadata": {
    "collapsed": true
   },
   "outputs": [],
   "source": []
  },
  {
   "cell_type": "markdown",
   "metadata": {},
   "source": [
    "# plot labor-force and population"
   ]
  },
  {
   "cell_type": "code",
   "execution_count": 465,
   "metadata": {
    "collapsed": true
   },
   "outputs": [],
   "source": [
    "# city = \"Boston\"\n",
    "# state = \"Massachusetts\"\n",
    "\n",
    "city = \"Philadelphia\"\n",
    "state = \"Pennsylvania\"\n",
    "\n",
    "beginYear = \"2008\"\n",
    "endYear = \"2016\""
   ]
  },
  {
   "cell_type": "code",
   "execution_count": 466,
   "metadata": {
    "collapsed": true
   },
   "outputs": [],
   "source": [
    "def getData(measure):\n",
    "    return df[(df.City == city) & (df.State == state) & (df.Year >= beginYear) & (df.Year <= endYear) & (df.Measure == measure)].sort_values(['Year'])"
   ]
  },
  {
   "cell_type": "code",
   "execution_count": 367,
   "metadata": {
    "collapsed": true
   },
   "outputs": [],
   "source": [
    "measure = \"labor-force\"\n",
    "lfd = getData(measure)"
   ]
  },
  {
   "cell_type": "code",
   "execution_count": 368,
   "metadata": {
    "collapsed": true
   },
   "outputs": [],
   "source": [
    "measure = \"population\"\n",
    "pop = getData(measure)"
   ]
  },
  {
   "cell_type": "code",
   "execution_count": 467,
   "metadata": {
    "collapsed": true
   },
   "outputs": [],
   "source": [
    "emp = getData(\"employment\")"
   ]
  },
  {
   "cell_type": "code",
   "execution_count": 468,
   "metadata": {
    "collapsed": true
   },
   "outputs": [],
   "source": [
    "uem = getData(\"unemployment\")"
   ]
  },
  {
   "cell_type": "code",
   "execution_count": 469,
   "metadata": {},
   "outputs": [
    {
     "data": {
      "text/html": [
       "<div>\n",
       "<style>\n",
       "    .dataframe thead tr:only-child th {\n",
       "        text-align: right;\n",
       "    }\n",
       "\n",
       "    .dataframe thead th {\n",
       "        text-align: left;\n",
       "    }\n",
       "\n",
       "    .dataframe tbody tr th {\n",
       "        vertical-align: top;\n",
       "    }\n",
       "</style>\n",
       "<table border=\"1\" class=\"dataframe\">\n",
       "  <thead>\n",
       "    <tr style=\"text-align: right;\">\n",
       "      <th></th>\n",
       "      <th>City</th>\n",
       "      <th>Measure</th>\n",
       "      <th>State</th>\n",
       "      <th>Value</th>\n",
       "      <th>Year</th>\n",
       "    </tr>\n",
       "  </thead>\n",
       "  <tbody>\n",
       "    <tr>\n",
       "      <th>341</th>\n",
       "      <td>Philadelphia</td>\n",
       "      <td>labor-force</td>\n",
       "      <td>Pennsylvania</td>\n",
       "      <td>641086</td>\n",
       "      <td>2008</td>\n",
       "    </tr>\n",
       "    <tr>\n",
       "      <th>329</th>\n",
       "      <td>Philadelphia</td>\n",
       "      <td>labor-force</td>\n",
       "      <td>Pennsylvania</td>\n",
       "      <td>663457</td>\n",
       "      <td>2009</td>\n",
       "    </tr>\n",
       "    <tr>\n",
       "      <th>317</th>\n",
       "      <td>Philadelphia</td>\n",
       "      <td>labor-force</td>\n",
       "      <td>Pennsylvania</td>\n",
       "      <td>696073</td>\n",
       "      <td>2010</td>\n",
       "    </tr>\n",
       "    <tr>\n",
       "      <th>305</th>\n",
       "      <td>Philadelphia</td>\n",
       "      <td>labor-force</td>\n",
       "      <td>Pennsylvania</td>\n",
       "      <td>698060</td>\n",
       "      <td>2011</td>\n",
       "    </tr>\n",
       "    <tr>\n",
       "      <th>293</th>\n",
       "      <td>Philadelphia</td>\n",
       "      <td>labor-force</td>\n",
       "      <td>Pennsylvania</td>\n",
       "      <td>709570</td>\n",
       "      <td>2012</td>\n",
       "    </tr>\n",
       "    <tr>\n",
       "      <th>281</th>\n",
       "      <td>Philadelphia</td>\n",
       "      <td>labor-force</td>\n",
       "      <td>Pennsylvania</td>\n",
       "      <td>705946</td>\n",
       "      <td>2013</td>\n",
       "    </tr>\n",
       "    <tr>\n",
       "      <th>269</th>\n",
       "      <td>Philadelphia</td>\n",
       "      <td>labor-force</td>\n",
       "      <td>Pennsylvania</td>\n",
       "      <td>698219</td>\n",
       "      <td>2014</td>\n",
       "    </tr>\n",
       "    <tr>\n",
       "      <th>257</th>\n",
       "      <td>Philadelphia</td>\n",
       "      <td>labor-force</td>\n",
       "      <td>Pennsylvania</td>\n",
       "      <td>701763</td>\n",
       "      <td>2015</td>\n",
       "    </tr>\n",
       "    <tr>\n",
       "      <th>245</th>\n",
       "      <td>Philadelphia</td>\n",
       "      <td>labor-force</td>\n",
       "      <td>Pennsylvania</td>\n",
       "      <td>715091</td>\n",
       "      <td>2016</td>\n",
       "    </tr>\n",
       "  </tbody>\n",
       "</table>\n",
       "</div>"
      ],
      "text/plain": [
       "             City      Measure         State   Value  Year\n",
       "341  Philadelphia  labor-force  Pennsylvania  641086  2008\n",
       "329  Philadelphia  labor-force  Pennsylvania  663457  2009\n",
       "317  Philadelphia  labor-force  Pennsylvania  696073  2010\n",
       "305  Philadelphia  labor-force  Pennsylvania  698060  2011\n",
       "293  Philadelphia  labor-force  Pennsylvania  709570  2012\n",
       "281  Philadelphia  labor-force  Pennsylvania  705946  2013\n",
       "269  Philadelphia  labor-force  Pennsylvania  698219  2014\n",
       "257  Philadelphia  labor-force  Pennsylvania  701763  2015\n",
       "245  Philadelphia  labor-force  Pennsylvania  715091  2016"
      ]
     },
     "execution_count": 469,
     "metadata": {},
     "output_type": "execute_result"
    }
   ],
   "source": [
    "lfd"
   ]
  },
  {
   "cell_type": "code",
   "execution_count": 470,
   "metadata": {},
   "outputs": [
    {
     "data": {
      "text/html": [
       "<div>\n",
       "<style>\n",
       "    .dataframe thead tr:only-child th {\n",
       "        text-align: right;\n",
       "    }\n",
       "\n",
       "    .dataframe thead th {\n",
       "        text-align: left;\n",
       "    }\n",
       "\n",
       "    .dataframe tbody tr th {\n",
       "        vertical-align: top;\n",
       "    }\n",
       "</style>\n",
       "<table border=\"1\" class=\"dataframe\">\n",
       "  <thead>\n",
       "    <tr style=\"text-align: right;\">\n",
       "      <th></th>\n",
       "      <th>City</th>\n",
       "      <th>Measure</th>\n",
       "      <th>State</th>\n",
       "      <th>Value</th>\n",
       "      <th>Year</th>\n",
       "    </tr>\n",
       "  </thead>\n",
       "  <tbody>\n",
       "    <tr>\n",
       "      <th>879498</th>\n",
       "      <td>Philadelphia</td>\n",
       "      <td>population</td>\n",
       "      <td>Pennsylvania</td>\n",
       "      <td>1540351</td>\n",
       "      <td>2008</td>\n",
       "    </tr>\n",
       "    <tr>\n",
       "      <th>961201</th>\n",
       "      <td>Philadelphia</td>\n",
       "      <td>population</td>\n",
       "      <td>Pennsylvania</td>\n",
       "      <td>1547297</td>\n",
       "      <td>2009</td>\n",
       "    </tr>\n",
       "    <tr>\n",
       "      <th>225482</th>\n",
       "      <td>Philadelphia</td>\n",
       "      <td>population</td>\n",
       "      <td>Pennsylvania</td>\n",
       "      <td>1528427</td>\n",
       "      <td>2010</td>\n",
       "    </tr>\n",
       "    <tr>\n",
       "      <th>307067</th>\n",
       "      <td>Philadelphia</td>\n",
       "      <td>population</td>\n",
       "      <td>Pennsylvania</td>\n",
       "      <td>1539022</td>\n",
       "      <td>2011</td>\n",
       "    </tr>\n",
       "    <tr>\n",
       "      <th>388652</th>\n",
       "      <td>Philadelphia</td>\n",
       "      <td>population</td>\n",
       "      <td>Pennsylvania</td>\n",
       "      <td>1550379</td>\n",
       "      <td>2012</td>\n",
       "    </tr>\n",
       "    <tr>\n",
       "      <th>470237</th>\n",
       "      <td>Philadelphia</td>\n",
       "      <td>population</td>\n",
       "      <td>Pennsylvania</td>\n",
       "      <td>1555868</td>\n",
       "      <td>2013</td>\n",
       "    </tr>\n",
       "    <tr>\n",
       "      <th>551822</th>\n",
       "      <td>Philadelphia</td>\n",
       "      <td>population</td>\n",
       "      <td>Pennsylvania</td>\n",
       "      <td>1560609</td>\n",
       "      <td>2014</td>\n",
       "    </tr>\n",
       "    <tr>\n",
       "      <th>633407</th>\n",
       "      <td>Philadelphia</td>\n",
       "      <td>population</td>\n",
       "      <td>Pennsylvania</td>\n",
       "      <td>1564964</td>\n",
       "      <td>2015</td>\n",
       "    </tr>\n",
       "    <tr>\n",
       "      <th>714992</th>\n",
       "      <td>Philadelphia</td>\n",
       "      <td>population</td>\n",
       "      <td>Pennsylvania</td>\n",
       "      <td>1567872</td>\n",
       "      <td>2016</td>\n",
       "    </tr>\n",
       "  </tbody>\n",
       "</table>\n",
       "</div>"
      ],
      "text/plain": [
       "                City     Measure         State    Value  Year\n",
       "879498  Philadelphia  population  Pennsylvania  1540351  2008\n",
       "961201  Philadelphia  population  Pennsylvania  1547297  2009\n",
       "225482  Philadelphia  population  Pennsylvania  1528427  2010\n",
       "307067  Philadelphia  population  Pennsylvania  1539022  2011\n",
       "388652  Philadelphia  population  Pennsylvania  1550379  2012\n",
       "470237  Philadelphia  population  Pennsylvania  1555868  2013\n",
       "551822  Philadelphia  population  Pennsylvania  1560609  2014\n",
       "633407  Philadelphia  population  Pennsylvania  1564964  2015\n",
       "714992  Philadelphia  population  Pennsylvania  1567872  2016"
      ]
     },
     "execution_count": 470,
     "metadata": {},
     "output_type": "execute_result"
    }
   ],
   "source": [
    "pop"
   ]
  },
  {
   "cell_type": "code",
   "execution_count": 471,
   "metadata": {},
   "outputs": [
    {
     "data": {
      "text/html": [
       "<div>\n",
       "<style>\n",
       "    .dataframe thead tr:only-child th {\n",
       "        text-align: right;\n",
       "    }\n",
       "\n",
       "    .dataframe thead th {\n",
       "        text-align: left;\n",
       "    }\n",
       "\n",
       "    .dataframe tbody tr th {\n",
       "        vertical-align: top;\n",
       "    }\n",
       "</style>\n",
       "<table border=\"1\" class=\"dataframe\">\n",
       "  <thead>\n",
       "    <tr style=\"text-align: right;\">\n",
       "      <th></th>\n",
       "      <th>City</th>\n",
       "      <th>Measure</th>\n",
       "      <th>State</th>\n",
       "      <th>Value</th>\n",
       "      <th>Year</th>\n",
       "    </tr>\n",
       "  </thead>\n",
       "  <tbody>\n",
       "    <tr>\n",
       "      <th>341</th>\n",
       "      <td>Philadelphia</td>\n",
       "      <td>employment</td>\n",
       "      <td>Pennsylvania</td>\n",
       "      <td>593590</td>\n",
       "      <td>2008</td>\n",
       "    </tr>\n",
       "    <tr>\n",
       "      <th>329</th>\n",
       "      <td>Philadelphia</td>\n",
       "      <td>employment</td>\n",
       "      <td>Pennsylvania</td>\n",
       "      <td>595015</td>\n",
       "      <td>2009</td>\n",
       "    </tr>\n",
       "    <tr>\n",
       "      <th>317</th>\n",
       "      <td>Philadelphia</td>\n",
       "      <td>employment</td>\n",
       "      <td>Pennsylvania</td>\n",
       "      <td>618211</td>\n",
       "      <td>2010</td>\n",
       "    </tr>\n",
       "    <tr>\n",
       "      <th>305</th>\n",
       "      <td>Philadelphia</td>\n",
       "      <td>employment</td>\n",
       "      <td>Pennsylvania</td>\n",
       "      <td>616582</td>\n",
       "      <td>2011</td>\n",
       "    </tr>\n",
       "    <tr>\n",
       "      <th>293</th>\n",
       "      <td>Philadelphia</td>\n",
       "      <td>employment</td>\n",
       "      <td>Pennsylvania</td>\n",
       "      <td>624624</td>\n",
       "      <td>2012</td>\n",
       "    </tr>\n",
       "    <tr>\n",
       "      <th>281</th>\n",
       "      <td>Philadelphia</td>\n",
       "      <td>employment</td>\n",
       "      <td>Pennsylvania</td>\n",
       "      <td>628376</td>\n",
       "      <td>2013</td>\n",
       "    </tr>\n",
       "    <tr>\n",
       "      <th>269</th>\n",
       "      <td>Philadelphia</td>\n",
       "      <td>employment</td>\n",
       "      <td>Pennsylvania</td>\n",
       "      <td>635793</td>\n",
       "      <td>2014</td>\n",
       "    </tr>\n",
       "    <tr>\n",
       "      <th>257</th>\n",
       "      <td>Philadelphia</td>\n",
       "      <td>employment</td>\n",
       "      <td>Pennsylvania</td>\n",
       "      <td>645338</td>\n",
       "      <td>2015</td>\n",
       "    </tr>\n",
       "    <tr>\n",
       "      <th>245</th>\n",
       "      <td>Philadelphia</td>\n",
       "      <td>employment</td>\n",
       "      <td>Pennsylvania</td>\n",
       "      <td>660808</td>\n",
       "      <td>2016</td>\n",
       "    </tr>\n",
       "  </tbody>\n",
       "</table>\n",
       "</div>"
      ],
      "text/plain": [
       "             City     Measure         State   Value  Year\n",
       "341  Philadelphia  employment  Pennsylvania  593590  2008\n",
       "329  Philadelphia  employment  Pennsylvania  595015  2009\n",
       "317  Philadelphia  employment  Pennsylvania  618211  2010\n",
       "305  Philadelphia  employment  Pennsylvania  616582  2011\n",
       "293  Philadelphia  employment  Pennsylvania  624624  2012\n",
       "281  Philadelphia  employment  Pennsylvania  628376  2013\n",
       "269  Philadelphia  employment  Pennsylvania  635793  2014\n",
       "257  Philadelphia  employment  Pennsylvania  645338  2015\n",
       "245  Philadelphia  employment  Pennsylvania  660808  2016"
      ]
     },
     "execution_count": 471,
     "metadata": {},
     "output_type": "execute_result"
    }
   ],
   "source": [
    "emp"
   ]
  },
  {
   "cell_type": "code",
   "execution_count": 472,
   "metadata": {},
   "outputs": [
    {
     "data": {
      "text/html": [
       "<div>\n",
       "<style>\n",
       "    .dataframe thead tr:only-child th {\n",
       "        text-align: right;\n",
       "    }\n",
       "\n",
       "    .dataframe thead th {\n",
       "        text-align: left;\n",
       "    }\n",
       "\n",
       "    .dataframe tbody tr th {\n",
       "        vertical-align: top;\n",
       "    }\n",
       "</style>\n",
       "<table border=\"1\" class=\"dataframe\">\n",
       "  <thead>\n",
       "    <tr style=\"text-align: right;\">\n",
       "      <th></th>\n",
       "      <th>City</th>\n",
       "      <th>Measure</th>\n",
       "      <th>State</th>\n",
       "      <th>Value</th>\n",
       "      <th>Year</th>\n",
       "    </tr>\n",
       "  </thead>\n",
       "  <tbody>\n",
       "    <tr>\n",
       "      <th>225</th>\n",
       "      <td>Philadelphia</td>\n",
       "      <td>unemployment</td>\n",
       "      <td>Pennsylvania</td>\n",
       "      <td>47496</td>\n",
       "      <td>2008</td>\n",
       "    </tr>\n",
       "    <tr>\n",
       "      <th>213</th>\n",
       "      <td>Philadelphia</td>\n",
       "      <td>unemployment</td>\n",
       "      <td>Pennsylvania</td>\n",
       "      <td>68442</td>\n",
       "      <td>2009</td>\n",
       "    </tr>\n",
       "    <tr>\n",
       "      <th>201</th>\n",
       "      <td>Philadelphia</td>\n",
       "      <td>unemployment</td>\n",
       "      <td>Pennsylvania</td>\n",
       "      <td>77862</td>\n",
       "      <td>2010</td>\n",
       "    </tr>\n",
       "    <tr>\n",
       "      <th>189</th>\n",
       "      <td>Philadelphia</td>\n",
       "      <td>unemployment</td>\n",
       "      <td>Pennsylvania</td>\n",
       "      <td>81478</td>\n",
       "      <td>2011</td>\n",
       "    </tr>\n",
       "    <tr>\n",
       "      <th>177</th>\n",
       "      <td>Philadelphia</td>\n",
       "      <td>unemployment</td>\n",
       "      <td>Pennsylvania</td>\n",
       "      <td>84946</td>\n",
       "      <td>2012</td>\n",
       "    </tr>\n",
       "    <tr>\n",
       "      <th>165</th>\n",
       "      <td>Philadelphia</td>\n",
       "      <td>unemployment</td>\n",
       "      <td>Pennsylvania</td>\n",
       "      <td>77570</td>\n",
       "      <td>2013</td>\n",
       "    </tr>\n",
       "    <tr>\n",
       "      <th>153</th>\n",
       "      <td>Philadelphia</td>\n",
       "      <td>unemployment</td>\n",
       "      <td>Pennsylvania</td>\n",
       "      <td>62426</td>\n",
       "      <td>2014</td>\n",
       "    </tr>\n",
       "    <tr>\n",
       "      <th>141</th>\n",
       "      <td>Philadelphia</td>\n",
       "      <td>unemployment</td>\n",
       "      <td>Pennsylvania</td>\n",
       "      <td>56425</td>\n",
       "      <td>2015</td>\n",
       "    </tr>\n",
       "    <tr>\n",
       "      <th>129</th>\n",
       "      <td>Philadelphia</td>\n",
       "      <td>unemployment</td>\n",
       "      <td>Pennsylvania</td>\n",
       "      <td>54283</td>\n",
       "      <td>2016</td>\n",
       "    </tr>\n",
       "  </tbody>\n",
       "</table>\n",
       "</div>"
      ],
      "text/plain": [
       "             City       Measure         State  Value  Year\n",
       "225  Philadelphia  unemployment  Pennsylvania  47496  2008\n",
       "213  Philadelphia  unemployment  Pennsylvania  68442  2009\n",
       "201  Philadelphia  unemployment  Pennsylvania  77862  2010\n",
       "189  Philadelphia  unemployment  Pennsylvania  81478  2011\n",
       "177  Philadelphia  unemployment  Pennsylvania  84946  2012\n",
       "165  Philadelphia  unemployment  Pennsylvania  77570  2013\n",
       "153  Philadelphia  unemployment  Pennsylvania  62426  2014\n",
       "141  Philadelphia  unemployment  Pennsylvania  56425  2015\n",
       "129  Philadelphia  unemployment  Pennsylvania  54283  2016"
      ]
     },
     "execution_count": 472,
     "metadata": {},
     "output_type": "execute_result"
    }
   ],
   "source": [
    "uem"
   ]
  },
  {
   "cell_type": "code",
   "execution_count": 371,
   "metadata": {
    "collapsed": true
   },
   "outputs": [],
   "source": [
    "ratio = (lfd.Value.values.astype(\"int\")/pop.Value.values.astype(\"int\"))*100.0"
   ]
  },
  {
   "cell_type": "code",
   "execution_count": 372,
   "metadata": {},
   "outputs": [
    {
     "data": {
      "text/plain": [
       "array([ 41.61947504,  42.87845191,  45.54178904,  45.35737631,\n",
       "        45.76751878,  45.37312934,  44.74016233,  44.84211777,  45.60901655])"
      ]
     },
     "execution_count": 372,
     "metadata": {},
     "output_type": "execute_result"
    }
   ],
   "source": [
    "ratio"
   ]
  },
  {
   "cell_type": "code",
   "execution_count": 373,
   "metadata": {},
   "outputs": [
    {
     "data": {
      "image/png": "[encoded data removed]",
      "text/plain": [
       "<matplotlib.figure.Figure at 0x2a505da0>"
      ]
     },
     "metadata": {},
     "output_type": "display_data"
    }
   ],
   "source": [
    "fig = plt.figure()\n",
    "ax = plt.subplot(111)\n",
    "\n",
    "y1 = lfd.Value.values.astype(\"int\")\n",
    "y2 = pop.Value.values.astype(\"int\")\n",
    "x = lfd.Year.values.astype(\"int\")\n",
    "#plt.plot(x, y1, label=\"Labor Force\", x, y2, label=\"Population\")\n",
    "ax.plot(x, y1, label=\"Labor Force\")\n",
    "ax.plot(x, y2, label=\"Population\")\n",
    "plt.legend()\n",
    "\n",
    "# Shrink current axis by 20%\n",
    "box = ax.get_position()\n",
    "ax.set_position([box.x0, box.y0, box.width * 0.8, box.height])\n",
    "\n",
    "# Put a legend to the right of the current axis\n",
    "ax.legend(loc='center left', bbox_to_anchor=(1, 0.5))\n",
    "\n",
    "ax.set_title(\"{} Population and Labor Force\".format(city))\n",
    "ax.set_ylabel(\"People (number)\")\n",
    "ax.set_xlabel(\"Year\")\n",
    "plt.show()"
   ]
  },
  {
   "cell_type": "code",
   "execution_count": 374,
   "metadata": {},
   "outputs": [
    {
     "data": {
      "text/plain": [
       "[<matplotlib.lines.Line2D at 0x2a604a90>]"
      ]
     },
     "execution_count": 374,
     "metadata": {},
     "output_type": "execute_result"
    },
    {
     "data": {
      "image/png": "[encoded data removed]",
      "text/plain": [
       "<matplotlib.figure.Figure at 0x2a384c50>"
      ]
     },
     "metadata": {},
     "output_type": "display_data"
    }
   ],
   "source": [
    "plt.plot(x, ratio)"
   ]
  },
  {
   "cell_type": "code",
   "execution_count": 375,
   "metadata": {
    "collapsed": true
   },
   "outputs": [],
   "source": [
    "measure = \"unemployment-rate\"\n",
    "uer = getData(measure)"
   ]
  },
  {
   "cell_type": "code",
   "execution_count": 376,
   "metadata": {},
   "outputs": [
    {
     "data": {
      "text/html": [
       "<div>\n",
       "<style>\n",
       "    .dataframe thead tr:only-child th {\n",
       "        text-align: right;\n",
       "    }\n",
       "\n",
       "    .dataframe thead th {\n",
       "        text-align: left;\n",
       "    }\n",
       "\n",
       "    .dataframe tbody tr th {\n",
       "        vertical-align: top;\n",
       "    }\n",
       "</style>\n",
       "<table border=\"1\" class=\"dataframe\">\n",
       "  <thead>\n",
       "    <tr style=\"text-align: right;\">\n",
       "      <th></th>\n",
       "      <th>City</th>\n",
       "      <th>Measure</th>\n",
       "      <th>State</th>\n",
       "      <th>Value</th>\n",
       "      <th>Year</th>\n",
       "    </tr>\n",
       "  </thead>\n",
       "  <tbody>\n",
       "    <tr>\n",
       "      <th>109</th>\n",
       "      <td>Philadelphia</td>\n",
       "      <td>unemployment-rate</td>\n",
       "      <td>Pennsylvania</td>\n",
       "      <td>7.4</td>\n",
       "      <td>2008</td>\n",
       "    </tr>\n",
       "    <tr>\n",
       "      <th>97</th>\n",
       "      <td>Philadelphia</td>\n",
       "      <td>unemployment-rate</td>\n",
       "      <td>Pennsylvania</td>\n",
       "      <td>10.3</td>\n",
       "      <td>2009</td>\n",
       "    </tr>\n",
       "    <tr>\n",
       "      <th>85</th>\n",
       "      <td>Philadelphia</td>\n",
       "      <td>unemployment-rate</td>\n",
       "      <td>Pennsylvania</td>\n",
       "      <td>11.2</td>\n",
       "      <td>2010</td>\n",
       "    </tr>\n",
       "    <tr>\n",
       "      <th>73</th>\n",
       "      <td>Philadelphia</td>\n",
       "      <td>unemployment-rate</td>\n",
       "      <td>Pennsylvania</td>\n",
       "      <td>11.7</td>\n",
       "      <td>2011</td>\n",
       "    </tr>\n",
       "    <tr>\n",
       "      <th>61</th>\n",
       "      <td>Philadelphia</td>\n",
       "      <td>unemployment-rate</td>\n",
       "      <td>Pennsylvania</td>\n",
       "      <td>12.0</td>\n",
       "      <td>2012</td>\n",
       "    </tr>\n",
       "    <tr>\n",
       "      <th>49</th>\n",
       "      <td>Philadelphia</td>\n",
       "      <td>unemployment-rate</td>\n",
       "      <td>Pennsylvania</td>\n",
       "      <td>11.0</td>\n",
       "      <td>2013</td>\n",
       "    </tr>\n",
       "    <tr>\n",
       "      <th>37</th>\n",
       "      <td>Philadelphia</td>\n",
       "      <td>unemployment-rate</td>\n",
       "      <td>Pennsylvania</td>\n",
       "      <td>8.9</td>\n",
       "      <td>2014</td>\n",
       "    </tr>\n",
       "    <tr>\n",
       "      <th>25</th>\n",
       "      <td>Philadelphia</td>\n",
       "      <td>unemployment-rate</td>\n",
       "      <td>Pennsylvania</td>\n",
       "      <td>8.0</td>\n",
       "      <td>2015</td>\n",
       "    </tr>\n",
       "    <tr>\n",
       "      <th>13</th>\n",
       "      <td>Philadelphia</td>\n",
       "      <td>unemployment-rate</td>\n",
       "      <td>Pennsylvania</td>\n",
       "      <td>7.6</td>\n",
       "      <td>2016</td>\n",
       "    </tr>\n",
       "  </tbody>\n",
       "</table>\n",
       "</div>"
      ],
      "text/plain": [
       "             City            Measure         State Value  Year\n",
       "109  Philadelphia  unemployment-rate  Pennsylvania   7.4  2008\n",
       "97   Philadelphia  unemployment-rate  Pennsylvania  10.3  2009\n",
       "85   Philadelphia  unemployment-rate  Pennsylvania  11.2  2010\n",
       "73   Philadelphia  unemployment-rate  Pennsylvania  11.7  2011\n",
       "61   Philadelphia  unemployment-rate  Pennsylvania  12.0  2012\n",
       "49   Philadelphia  unemployment-rate  Pennsylvania  11.0  2013\n",
       "37   Philadelphia  unemployment-rate  Pennsylvania   8.9  2014\n",
       "25   Philadelphia  unemployment-rate  Pennsylvania   8.0  2015\n",
       "13   Philadelphia  unemployment-rate  Pennsylvania   7.6  2016"
      ]
     },
     "execution_count": 376,
     "metadata": {},
     "output_type": "execute_result"
    }
   ],
   "source": [
    "uer"
   ]
  },
  {
   "cell_type": "code",
   "execution_count": 377,
   "metadata": {},
   "outputs": [
    {
     "data": {
      "text/plain": [
       "[<matplotlib.lines.Line2D at 0x2a3f4cc0>]"
      ]
     },
     "execution_count": 377,
     "metadata": {},
     "output_type": "execute_result"
    },
    {
     "data": {
      "image/png": "[encoded data removed]",
      "text/plain": [
       "<matplotlib.figure.Figure at 0x2a522198>"
      ]
     },
     "metadata": {},
     "output_type": "display_data"
    }
   ],
   "source": [
    "plt.plot(uer.Value)"
   ]
  },
  {
   "cell_type": "markdown",
   "metadata": {},
   "source": [
    "# population changes"
   ]
  },
  {
   "cell_type": "code",
   "execution_count": 378,
   "metadata": {},
   "outputs": [
    {
     "data": {
      "text/plain": [
       "array([1540351, 1547297, 1528427, 1539022, 1550379, 1555868, 1560609,\n",
       "       1564964, 1567872], dtype=object)"
      ]
     },
     "execution_count": 378,
     "metadata": {},
     "output_type": "execute_result"
    }
   ],
   "source": [
    "pop.Value.values"
   ]
  },
  {
   "cell_type": "code",
   "execution_count": 379,
   "metadata": {},
   "outputs": [
    {
     "data": {
      "text/plain": [
       "array([1547297, 1528427, 1539022, 1550379, 1555868, 1560609, 1564964,\n",
       "       1567872], dtype=object)"
      ]
     },
     "execution_count": 379,
     "metadata": {},
     "output_type": "execute_result"
    }
   ],
   "source": [
    "pop.Value.values[1:]"
   ]
  },
  {
   "cell_type": "code",
   "execution_count": 380,
   "metadata": {},
   "outputs": [
    {
     "data": {
      "text/plain": [
       "array([1540351, 1547297, 1528427, 1539022, 1550379, 1555868, 1560609,\n",
       "       1564964], dtype=object)"
      ]
     },
     "execution_count": 380,
     "metadata": {},
     "output_type": "execute_result"
    }
   ],
   "source": [
    "pop.Value.values[:-1]"
   ]
  },
  {
   "cell_type": "code",
   "execution_count": 381,
   "metadata": {
    "collapsed": true
   },
   "outputs": [],
   "source": [
    "deltas = pop.Value.values[1:] - pop.Value.values[:-1]"
   ]
  },
  {
   "cell_type": "code",
   "execution_count": 382,
   "metadata": {},
   "outputs": [
    {
     "data": {
      "text/plain": [
       "array([6946, -18870, 10595, 11357, 5489, 4741, 4355, 2908], dtype=object)"
      ]
     },
     "execution_count": 382,
     "metadata": {},
     "output_type": "execute_result"
    }
   ],
   "source": [
    "deltas"
   ]
  },
  {
   "cell_type": "code",
   "execution_count": 383,
   "metadata": {},
   "outputs": [
    {
     "data": {
      "text/plain": [
       "array([0.4509361827271836, -1.2195460858516498, 0.6931963384577738,\n",
       "       0.7379361698533224, 0.3540424631654583, 0.30471736676890326,\n",
       "       0.27905772682331065, 0.1858189709156249], dtype=object)"
      ]
     },
     "execution_count": 383,
     "metadata": {},
     "output_type": "execute_result"
    }
   ],
   "source": [
    "(deltas/pop.Value.values[:-1])*100.0"
   ]
  },
  {
   "cell_type": "code",
   "execution_count": 384,
   "metadata": {},
   "outputs": [
    {
     "data": {
      "text/plain": [
       "array([2009, 2010, 2011, 2012, 2013, 2014, 2015, 2016])"
      ]
     },
     "execution_count": 384,
     "metadata": {},
     "output_type": "execute_result"
    }
   ],
   "source": [
    "pop.Year.values[1:].astype(\"int\")"
   ]
  },
  {
   "cell_type": "code",
   "execution_count": 385,
   "metadata": {},
   "outputs": [
    {
     "data": {
      "text/plain": [
       "[<matplotlib.lines.Line2D at 0x2a183e10>]"
      ]
     },
     "execution_count": 385,
     "metadata": {},
     "output_type": "execute_result"
    },
    {
     "data": {
      "image/png": "[encoded data removed]",
      "text/plain": [
       "<matplotlib.figure.Figure at 0x299c9358>"
      ]
     },
     "metadata": {},
     "output_type": "display_data"
    }
   ],
   "source": [
    "x = pop.Year.values[1:].astype(\"int\")\n",
    "y = (deltas/pop.Value.values[:-1])*100.0\n",
    "plt.plot(x, y)"
   ]
  },
  {
   "cell_type": "markdown",
   "metadata": {},
   "source": [
    "# labor force changes"
   ]
  },
  {
   "cell_type": "code",
   "execution_count": 389,
   "metadata": {},
   "outputs": [
    {
     "data": {
      "text/plain": [
       "array([641086, 663457, 696073, 698060, 709570, 705946, 698219, 701763,\n",
       "       715091])"
      ]
     },
     "execution_count": 389,
     "metadata": {},
     "output_type": "execute_result"
    }
   ],
   "source": [
    "lfd.Value.values.astype(\"int\")"
   ]
  },
  {
   "cell_type": "code",
   "execution_count": 391,
   "metadata": {},
   "outputs": [],
   "source": [
    "deltas = lfd.Value.values[1:].astype(\"int\") - lfd.Value.values[:-1].astype(\"int\")"
   ]
  },
  {
   "cell_type": "code",
   "execution_count": 392,
   "metadata": {},
   "outputs": [
    {
     "data": {
      "text/plain": [
       "[<matplotlib.lines.Line2D at 0x29984400>]"
      ]
     },
     "execution_count": 392,
     "metadata": {},
     "output_type": "execute_result"
    },
    {
     "data": {
      "image/png": "[encoded data removed]",
      "text/plain": [
       "<matplotlib.figure.Figure at 0x2a09c4e0>"
      ]
     },
     "metadata": {},
     "output_type": "display_data"
    }
   ],
   "source": [
    "x = lfd.Year.values[1:].astype(\"int\")\n",
    "y = (deltas/lfd.Value.values[:-1].astype(\"int\"))*100.0\n",
    "plt.plot(x, y)"
   ]
  },
  {
   "cell_type": "markdown",
   "metadata": {},
   "source": [
    "# can we plot both?"
   ]
  },
  {
   "cell_type": "code",
   "execution_count": 393,
   "metadata": {},
   "outputs": [
    {
     "data": {
      "image/png": "[encoded data removed]",
      "text/plain": [
       "<matplotlib.figure.Figure at 0x2a317898>"
      ]
     },
     "metadata": {},
     "output_type": "display_data"
    }
   ],
   "source": [
    "fig = plt.figure()\n",
    "ax = plt.subplot(111)\n",
    "\n",
    "popVals = pop.Value.values.astype(\"int\")\n",
    "lfdVals = lfd.Value.values.astype(\"int\")\n",
    "\n",
    "# population\n",
    "x1 = pop.Year.values[1:].astype(\"int\")\n",
    "y1 = ((popVals[1:] - popVals[:-1])/popVals[:-1])*100.0\n",
    "\n",
    "# labor force\n",
    "x2 = lfd.Year.values[1:].astype(\"int\")\n",
    "y2 = ((lfdVals[1:] - lfdVals[:-1])/lfdVals[:-1])*100.0\n",
    "\n",
    "# unemployment rate\n",
    "x3 = uer.Year.values.astype(\"int\")\n",
    "y3 = uer.Value.values.astype(\"float\")\n",
    "\n",
    "ax.plot(x1, y1, label=\"% Population Change\")\n",
    "ax.plot(x2, y2, label=\"% Labor Force Change\")\n",
    "ax.plot(x3, y3, label=\"Unemployment Rate (%)\")\n",
    "\n",
    "# Shrink current axis by 20%\n",
    "box = ax.get_position()\n",
    "ax.set_position([box.x0, box.y0, box.width * 0.8, box.height])\n",
    "\n",
    "# Put a legend to the right of the current axis\n",
    "ax.legend(loc='center left', bbox_to_anchor=(1, 0.5))\n",
    "\n",
    "ax.set_title(\"{} Population and Labor Force\".format(city))\n",
    "ax.set_ylabel(\"Percent\")\n",
    "ax.set_xlabel(\"Year\")\n",
    "plt.show()"
   ]
  },
  {
   "cell_type": "code",
   "execution_count": 398,
   "metadata": {},
   "outputs": [
    {
     "data": {
      "text/plain": [
       "array([2008, 2009, 2010, 2011, 2012, 2013, 2014, 2015, 2016])"
      ]
     },
     "execution_count": 398,
     "metadata": {},
     "output_type": "execute_result"
    }
   ],
   "source": [
    "pop.Year.values.astype(\"int\")"
   ]
  },
  {
   "cell_type": "code",
   "execution_count": 397,
   "metadata": {},
   "outputs": [
    {
     "data": {
      "text/plain": [
       "array([1540351, 1547297, 1528427, 1539022, 1550379, 1555868, 1560609,\n",
       "       1564964, 1567872])"
      ]
     },
     "execution_count": 397,
     "metadata": {},
     "output_type": "execute_result"
    }
   ],
   "source": [
    "popVals"
   ]
  },
  {
   "cell_type": "code",
   "execution_count": 395,
   "metadata": {},
   "outputs": [
    {
     "data": {
      "text/plain": [
       "array([641086, 663457, 696073, 698060, 709570, 705946, 698219, 701763,\n",
       "       715091])"
      ]
     },
     "execution_count": 395,
     "metadata": {},
     "output_type": "execute_result"
    }
   ],
   "source": [
    "lfdVals"
   ]
  },
  {
   "cell_type": "code",
   "execution_count": 399,
   "metadata": {},
   "outputs": [
    {
     "data": {
      "text/plain": [
       "array([  6946, -18870,  10595,  11357,   5489,   4741,   4355,   2908])"
      ]
     },
     "execution_count": 399,
     "metadata": {},
     "output_type": "execute_result"
    }
   ],
   "source": [
    "popVals[1:] - popVals[:-1]"
   ]
  },
  {
   "cell_type": "code",
   "execution_count": 396,
   "metadata": {},
   "outputs": [
    {
     "data": {
      "text/plain": [
       "array([22371, 32616,  1987, 11510, -3624, -7727,  3544, 13328])"
      ]
     },
     "execution_count": 396,
     "metadata": {},
     "output_type": "execute_result"
    }
   ],
   "source": [
    "lfdVals[1:] - lfdVals[:-1]"
   ]
  },
  {
   "cell_type": "code",
   "execution_count": 400,
   "metadata": {
    "collapsed": true
   },
   "outputs": [],
   "source": [
    "summaryTable = pd.DataFrame(columns=[\"Year\", \"Population\", \"PopulationChange\", \"LaborForce\", \"LaborForceChange\"])"
   ]
  },
  {
   "cell_type": "code",
   "execution_count": 473,
   "metadata": {},
   "outputs": [],
   "source": [
    "summaryTable['Year'] = pop.Year.values.astype(\"int\")\n",
    "summaryTable['Population'] = popVals\n",
    "popChange = [0]\n",
    "for p in popVals[1:] - popVals[:-1]:\n",
    "    popChange.append(p )\n",
    "len(popChange)\n",
    "summaryTable['PopulationChange'] = popChange\n",
    "summaryTable['LaborForce'] = lfdVals\n",
    "lfdChange = [0]\n",
    "for l in lfdVals[1:] - lfdVals[:-1]:\n",
    "    lfdChange.append(l)\n",
    "summaryTable['LaborForceChange'] = lfdChange\n",
    "summaryTable['UnemploymentRate'] = uer.Value.values\n",
    "summaryTable['Employment'] = emp.Value.values\n",
    "summaryTable['Unemployment'] = uem.Value.values\n"
   ]
  },
  {
   "cell_type": "code",
   "execution_count": 474,
   "metadata": {},
   "outputs": [
    {
     "data": {
      "text/html": [
       "<div>\n",
       "<style>\n",
       "    .dataframe thead tr:only-child th {\n",
       "        text-align: right;\n",
       "    }\n",
       "\n",
       "    .dataframe thead th {\n",
       "        text-align: left;\n",
       "    }\n",
       "\n",
       "    .dataframe tbody tr th {\n",
       "        vertical-align: top;\n",
       "    }\n",
       "</style>\n",
       "<table border=\"1\" class=\"dataframe\">\n",
       "  <thead>\n",
       "    <tr style=\"text-align: right;\">\n",
       "      <th></th>\n",
       "      <th>Year</th>\n",
       "      <th>Population</th>\n",
       "      <th>PopulationChange</th>\n",
       "      <th>LaborForce</th>\n",
       "      <th>LaborForceChange</th>\n",
       "      <th>UnemploymentRate</th>\n",
       "      <th>Employment</th>\n",
       "      <th>Unemployment</th>\n",
       "    </tr>\n",
       "  </thead>\n",
       "  <tbody>\n",
       "    <tr>\n",
       "      <th>0</th>\n",
       "      <td>2008</td>\n",
       "      <td>1540351</td>\n",
       "      <td>0</td>\n",
       "      <td>641086</td>\n",
       "      <td>0</td>\n",
       "      <td>7.4</td>\n",
       "      <td>593590</td>\n",
       "      <td>47496</td>\n",
       "    </tr>\n",
       "    <tr>\n",
       "      <th>1</th>\n",
       "      <td>2009</td>\n",
       "      <td>1547297</td>\n",
       "      <td>6946</td>\n",
       "      <td>663457</td>\n",
       "      <td>22371</td>\n",
       "      <td>10.3</td>\n",
       "      <td>595015</td>\n",
       "      <td>68442</td>\n",
       "    </tr>\n",
       "    <tr>\n",
       "      <th>2</th>\n",
       "      <td>2010</td>\n",
       "      <td>1528427</td>\n",
       "      <td>-18870</td>\n",
       "      <td>696073</td>\n",
       "      <td>32616</td>\n",
       "      <td>11.2</td>\n",
       "      <td>618211</td>\n",
       "      <td>77862</td>\n",
       "    </tr>\n",
       "    <tr>\n",
       "      <th>3</th>\n",
       "      <td>2011</td>\n",
       "      <td>1539022</td>\n",
       "      <td>10595</td>\n",
       "      <td>698060</td>\n",
       "      <td>1987</td>\n",
       "      <td>11.7</td>\n",
       "      <td>616582</td>\n",
       "      <td>81478</td>\n",
       "    </tr>\n",
       "    <tr>\n",
       "      <th>4</th>\n",
       "      <td>2012</td>\n",
       "      <td>1550379</td>\n",
       "      <td>11357</td>\n",
       "      <td>709570</td>\n",
       "      <td>11510</td>\n",
       "      <td>12.0</td>\n",
       "      <td>624624</td>\n",
       "      <td>84946</td>\n",
       "    </tr>\n",
       "    <tr>\n",
       "      <th>5</th>\n",
       "      <td>2013</td>\n",
       "      <td>1555868</td>\n",
       "      <td>5489</td>\n",
       "      <td>705946</td>\n",
       "      <td>-3624</td>\n",
       "      <td>11.0</td>\n",
       "      <td>628376</td>\n",
       "      <td>77570</td>\n",
       "    </tr>\n",
       "    <tr>\n",
       "      <th>6</th>\n",
       "      <td>2014</td>\n",
       "      <td>1560609</td>\n",
       "      <td>4741</td>\n",
       "      <td>698219</td>\n",
       "      <td>-7727</td>\n",
       "      <td>8.9</td>\n",
       "      <td>635793</td>\n",
       "      <td>62426</td>\n",
       "    </tr>\n",
       "    <tr>\n",
       "      <th>7</th>\n",
       "      <td>2015</td>\n",
       "      <td>1564964</td>\n",
       "      <td>4355</td>\n",
       "      <td>701763</td>\n",
       "      <td>3544</td>\n",
       "      <td>8.0</td>\n",
       "      <td>645338</td>\n",
       "      <td>56425</td>\n",
       "    </tr>\n",
       "    <tr>\n",
       "      <th>8</th>\n",
       "      <td>2016</td>\n",
       "      <td>1567872</td>\n",
       "      <td>2908</td>\n",
       "      <td>715091</td>\n",
       "      <td>13328</td>\n",
       "      <td>7.6</td>\n",
       "      <td>660808</td>\n",
       "      <td>54283</td>\n",
       "    </tr>\n",
       "  </tbody>\n",
       "</table>\n",
       "</div>"
      ],
      "text/plain": [
       "   Year  Population  PopulationChange  LaborForce  LaborForceChange  \\\n",
       "0  2008     1540351                 0      641086                 0   \n",
       "1  2009     1547297              6946      663457             22371   \n",
       "2  2010     1528427            -18870      696073             32616   \n",
       "3  2011     1539022             10595      698060              1987   \n",
       "4  2012     1550379             11357      709570             11510   \n",
       "5  2013     1555868              5489      705946             -3624   \n",
       "6  2014     1560609              4741      698219             -7727   \n",
       "7  2015     1564964              4355      701763              3544   \n",
       "8  2016     1567872              2908      715091             13328   \n",
       "\n",
       "  UnemploymentRate Employment Unemployment  \n",
       "0              7.4     593590        47496  \n",
       "1             10.3     595015        68442  \n",
       "2             11.2     618211        77862  \n",
       "3             11.7     616582        81478  \n",
       "4             12.0     624624        84946  \n",
       "5             11.0     628376        77570  \n",
       "6              8.9     635793        62426  \n",
       "7              8.0     645338        56425  \n",
       "8              7.6     660808        54283  "
      ]
     },
     "execution_count": 474,
     "metadata": {},
     "output_type": "execute_result"
    }
   ],
   "source": [
    "summaryTable"
   ]
  },
  {
   "cell_type": "code",
   "execution_count": 433,
   "metadata": {},
   "outputs": [
    {
     "data": {
      "text/plain": [
       "0.11543693045862802"
      ]
     },
     "execution_count": 433,
     "metadata": {},
     "output_type": "execute_result"
    }
   ],
   "source": [
    "(715091-641086)/641086"
   ]
  },
  {
   "cell_type": "code",
   "execution_count": 475,
   "metadata": {},
   "outputs": [
    {
     "data": {
      "text/plain": [
       "715091"
      ]
     },
     "execution_count": 475,
     "metadata": {},
     "output_type": "execute_result"
    }
   ],
   "source": [
    "660808+54283"
   ]
  },
  {
   "cell_type": "code",
   "execution_count": 477,
   "metadata": {},
   "outputs": [
    {
     "data": {
      "text/plain": [
       "array([ 1425, 23196, -1629,  8042,  3752,  7417,  9545, 15470])"
      ]
     },
     "execution_count": 477,
     "metadata": {},
     "output_type": "execute_result"
    }
   ],
   "source": [
    "emp.Value.values.astype(\"int\")[1:]-emp.Value.values.astype(\"int\")[:-1]"
   ]
  },
  {
   "cell_type": "code",
   "execution_count": 478,
   "metadata": {},
   "outputs": [
    {
     "data": {
      "text/plain": [
       "array([ 20946,   9420,   3616,   3468,  -7376, -15144,  -6001,  -2142])"
      ]
     },
     "execution_count": 478,
     "metadata": {},
     "output_type": "execute_result"
    }
   ],
   "source": [
    "uem.Value.values.astype(\"int\")[1:]-uem.Value.values.astype(\"int\")[:-1]"
   ]
  },
  {
   "cell_type": "code",
   "execution_count": 481,
   "metadata": {
    "collapsed": true
   },
   "outputs": [],
   "source": [
    "def delta(a,b):\n",
    "    return ((b-a)/a)*100.0"
   ]
  },
  {
   "cell_type": "code",
   "execution_count": 482,
   "metadata": {},
   "outputs": [
    {
     "data": {
      "text/plain": [
       "14.289624389422267"
      ]
     },
     "execution_count": 482,
     "metadata": {},
     "output_type": "execute_result"
    }
   ],
   "source": [
    "delta(47496, 54283)"
   ]
  },
  {
   "cell_type": "code",
   "execution_count": 483,
   "metadata": {},
   "outputs": [
    {
     "data": {
      "text/plain": [
       "11.323977829815192"
      ]
     },
     "execution_count": 483,
     "metadata": {},
     "output_type": "execute_result"
    }
   ],
   "source": [
    "delta(593590, 660808)"
   ]
  },
  {
   "cell_type": "markdown",
   "metadata": {},
   "source": [
    "# plot ratio and unemployment rate"
   ]
  },
  {
   "cell_type": "code",
   "execution_count": 394,
   "metadata": {},
   "outputs": [
    {
     "ename": "ValueError",
     "evalue": "x and y must have same first dimension, but have shapes (8,) and (9,)",
     "output_type": "error",
     "traceback": [
      "\u001b[1;31m---------------------------------------------------------------------------\u001b[0m",
      "\u001b[1;31mValueError\u001b[0m                                Traceback (most recent call last)",
      "\u001b[1;32m<ipython-input-394-50109c7acf5c>\u001b[0m in \u001b[0;36m<module>\u001b[1;34m()\u001b[0m\n\u001b[0;32m      1\u001b[0m \u001b[0mfig\u001b[0m\u001b[1;33m,\u001b[0m \u001b[1;33m(\u001b[0m\u001b[0max1\u001b[0m\u001b[1;33m,\u001b[0m \u001b[0max2\u001b[0m\u001b[1;33m)\u001b[0m \u001b[1;33m=\u001b[0m \u001b[0mplt\u001b[0m\u001b[1;33m.\u001b[0m\u001b[0msubplots\u001b[0m\u001b[1;33m(\u001b[0m\u001b[0mnrows\u001b[0m \u001b[1;33m=\u001b[0m \u001b[1;36m2\u001b[0m\u001b[1;33m,\u001b[0m \u001b[0mncols\u001b[0m \u001b[1;33m=\u001b[0m \u001b[1;36m1\u001b[0m\u001b[1;33m,\u001b[0m \u001b[0msharex\u001b[0m\u001b[1;33m=\u001b[0m\u001b[1;32mTrue\u001b[0m\u001b[1;33m)\u001b[0m\u001b[1;33m\u001b[0m\u001b[0m\n\u001b[1;32m----> 2\u001b[1;33m \u001b[0max1\u001b[0m\u001b[1;33m.\u001b[0m\u001b[0mplot\u001b[0m\u001b[1;33m(\u001b[0m\u001b[0mx\u001b[0m\u001b[1;33m,\u001b[0m \u001b[0mratio\u001b[0m\u001b[1;33m)\u001b[0m\u001b[1;33m\u001b[0m\u001b[0m\n\u001b[0m\u001b[0;32m      3\u001b[0m \u001b[0max1\u001b[0m\u001b[1;33m.\u001b[0m\u001b[0mset_title\u001b[0m\u001b[1;33m(\u001b[0m\u001b[1;34m\"Ratio of Labor Force to Population\"\u001b[0m\u001b[1;33m)\u001b[0m\u001b[1;33m\u001b[0m\u001b[0m\n\u001b[0;32m      4\u001b[0m \u001b[0max2\u001b[0m\u001b[1;33m.\u001b[0m\u001b[0mplot\u001b[0m\u001b[1;33m(\u001b[0m\u001b[0mx\u001b[0m\u001b[1;33m,\u001b[0m \u001b[0muer\u001b[0m\u001b[1;33m.\u001b[0m\u001b[0mValue\u001b[0m\u001b[1;33m.\u001b[0m\u001b[0mvalues\u001b[0m\u001b[1;33m.\u001b[0m\u001b[0mastype\u001b[0m\u001b[1;33m(\u001b[0m\u001b[1;34m\"float\"\u001b[0m\u001b[1;33m)\u001b[0m\u001b[1;33m)\u001b[0m\u001b[1;33m\u001b[0m\u001b[0m\n\u001b[0;32m      5\u001b[0m \u001b[0max2\u001b[0m\u001b[1;33m.\u001b[0m\u001b[0mset_title\u001b[0m\u001b[1;33m(\u001b[0m\u001b[1;34m\"Unemployment Rate\"\u001b[0m\u001b[1;33m)\u001b[0m\u001b[1;33m\u001b[0m\u001b[0m\n",
      "\u001b[1;32mC:\\ProgramData\\Anaconda3\\lib\\site-packages\\matplotlib\\__init__.py\u001b[0m in \u001b[0;36minner\u001b[1;34m(ax, *args, **kwargs)\u001b[0m\n\u001b[0;32m   1895\u001b[0m                     warnings.warn(msg % (label_namer, func.__name__),\n\u001b[0;32m   1896\u001b[0m                                   RuntimeWarning, stacklevel=2)\n\u001b[1;32m-> 1897\u001b[1;33m             \u001b[1;32mreturn\u001b[0m \u001b[0mfunc\u001b[0m\u001b[1;33m(\u001b[0m\u001b[0max\u001b[0m\u001b[1;33m,\u001b[0m \u001b[1;33m*\u001b[0m\u001b[0margs\u001b[0m\u001b[1;33m,\u001b[0m \u001b[1;33m**\u001b[0m\u001b[0mkwargs\u001b[0m\u001b[1;33m)\u001b[0m\u001b[1;33m\u001b[0m\u001b[0m\n\u001b[0m\u001b[0;32m   1898\u001b[0m         \u001b[0mpre_doc\u001b[0m \u001b[1;33m=\u001b[0m \u001b[0minner\u001b[0m\u001b[1;33m.\u001b[0m\u001b[0m__doc__\u001b[0m\u001b[1;33m\u001b[0m\u001b[0m\n\u001b[0;32m   1899\u001b[0m         \u001b[1;32mif\u001b[0m \u001b[0mpre_doc\u001b[0m \u001b[1;32mis\u001b[0m \u001b[1;32mNone\u001b[0m\u001b[1;33m:\u001b[0m\u001b[1;33m\u001b[0m\u001b[0m\n",
      "\u001b[1;32mC:\\ProgramData\\Anaconda3\\lib\\site-packages\\matplotlib\\axes\\_axes.py\u001b[0m in \u001b[0;36mplot\u001b[1;34m(self, *args, **kwargs)\u001b[0m\n\u001b[0;32m   1404\u001b[0m         \u001b[0mkwargs\u001b[0m \u001b[1;33m=\u001b[0m \u001b[0mcbook\u001b[0m\u001b[1;33m.\u001b[0m\u001b[0mnormalize_kwargs\u001b[0m\u001b[1;33m(\u001b[0m\u001b[0mkwargs\u001b[0m\u001b[1;33m,\u001b[0m \u001b[0m_alias_map\u001b[0m\u001b[1;33m)\u001b[0m\u001b[1;33m\u001b[0m\u001b[0m\n\u001b[0;32m   1405\u001b[0m \u001b[1;33m\u001b[0m\u001b[0m\n\u001b[1;32m-> 1406\u001b[1;33m         \u001b[1;32mfor\u001b[0m \u001b[0mline\u001b[0m \u001b[1;32min\u001b[0m \u001b[0mself\u001b[0m\u001b[1;33m.\u001b[0m\u001b[0m_get_lines\u001b[0m\u001b[1;33m(\u001b[0m\u001b[1;33m*\u001b[0m\u001b[0margs\u001b[0m\u001b[1;33m,\u001b[0m \u001b[1;33m**\u001b[0m\u001b[0mkwargs\u001b[0m\u001b[1;33m)\u001b[0m\u001b[1;33m:\u001b[0m\u001b[1;33m\u001b[0m\u001b[0m\n\u001b[0m\u001b[0;32m   1407\u001b[0m             \u001b[0mself\u001b[0m\u001b[1;33m.\u001b[0m\u001b[0madd_line\u001b[0m\u001b[1;33m(\u001b[0m\u001b[0mline\u001b[0m\u001b[1;33m)\u001b[0m\u001b[1;33m\u001b[0m\u001b[0m\n\u001b[0;32m   1408\u001b[0m             \u001b[0mlines\u001b[0m\u001b[1;33m.\u001b[0m\u001b[0mappend\u001b[0m\u001b[1;33m(\u001b[0m\u001b[0mline\u001b[0m\u001b[1;33m)\u001b[0m\u001b[1;33m\u001b[0m\u001b[0m\n",
      "\u001b[1;32mC:\\ProgramData\\Anaconda3\\lib\\site-packages\\matplotlib\\axes\\_base.py\u001b[0m in \u001b[0;36m_grab_next_args\u001b[1;34m(self, *args, **kwargs)\u001b[0m\n\u001b[0;32m    405\u001b[0m                 \u001b[1;32mreturn\u001b[0m\u001b[1;33m\u001b[0m\u001b[0m\n\u001b[0;32m    406\u001b[0m             \u001b[1;32mif\u001b[0m \u001b[0mlen\u001b[0m\u001b[1;33m(\u001b[0m\u001b[0mremaining\u001b[0m\u001b[1;33m)\u001b[0m \u001b[1;33m<=\u001b[0m \u001b[1;36m3\u001b[0m\u001b[1;33m:\u001b[0m\u001b[1;33m\u001b[0m\u001b[0m\n\u001b[1;32m--> 407\u001b[1;33m                 \u001b[1;32mfor\u001b[0m \u001b[0mseg\u001b[0m \u001b[1;32min\u001b[0m \u001b[0mself\u001b[0m\u001b[1;33m.\u001b[0m\u001b[0m_plot_args\u001b[0m\u001b[1;33m(\u001b[0m\u001b[0mremaining\u001b[0m\u001b[1;33m,\u001b[0m \u001b[0mkwargs\u001b[0m\u001b[1;33m)\u001b[0m\u001b[1;33m:\u001b[0m\u001b[1;33m\u001b[0m\u001b[0m\n\u001b[0m\u001b[0;32m    408\u001b[0m                     \u001b[1;32myield\u001b[0m \u001b[0mseg\u001b[0m\u001b[1;33m\u001b[0m\u001b[0m\n\u001b[0;32m    409\u001b[0m                 \u001b[1;32mreturn\u001b[0m\u001b[1;33m\u001b[0m\u001b[0m\n",
      "\u001b[1;32mC:\\ProgramData\\Anaconda3\\lib\\site-packages\\matplotlib\\axes\\_base.py\u001b[0m in \u001b[0;36m_plot_args\u001b[1;34m(self, tup, kwargs)\u001b[0m\n\u001b[0;32m    383\u001b[0m             \u001b[0mx\u001b[0m\u001b[1;33m,\u001b[0m \u001b[0my\u001b[0m \u001b[1;33m=\u001b[0m \u001b[0mindex_of\u001b[0m\u001b[1;33m(\u001b[0m\u001b[0mtup\u001b[0m\u001b[1;33m[\u001b[0m\u001b[1;33m-\u001b[0m\u001b[1;36m1\u001b[0m\u001b[1;33m]\u001b[0m\u001b[1;33m)\u001b[0m\u001b[1;33m\u001b[0m\u001b[0m\n\u001b[0;32m    384\u001b[0m \u001b[1;33m\u001b[0m\u001b[0m\n\u001b[1;32m--> 385\u001b[1;33m         \u001b[0mx\u001b[0m\u001b[1;33m,\u001b[0m \u001b[0my\u001b[0m \u001b[1;33m=\u001b[0m \u001b[0mself\u001b[0m\u001b[1;33m.\u001b[0m\u001b[0m_xy_from_xy\u001b[0m\u001b[1;33m(\u001b[0m\u001b[0mx\u001b[0m\u001b[1;33m,\u001b[0m \u001b[0my\u001b[0m\u001b[1;33m)\u001b[0m\u001b[1;33m\u001b[0m\u001b[0m\n\u001b[0m\u001b[0;32m    386\u001b[0m \u001b[1;33m\u001b[0m\u001b[0m\n\u001b[0;32m    387\u001b[0m         \u001b[1;32mif\u001b[0m \u001b[0mself\u001b[0m\u001b[1;33m.\u001b[0m\u001b[0mcommand\u001b[0m \u001b[1;33m==\u001b[0m \u001b[1;34m'plot'\u001b[0m\u001b[1;33m:\u001b[0m\u001b[1;33m\u001b[0m\u001b[0m\n",
      "\u001b[1;32mC:\\ProgramData\\Anaconda3\\lib\\site-packages\\matplotlib\\axes\\_base.py\u001b[0m in \u001b[0;36m_xy_from_xy\u001b[1;34m(self, x, y)\u001b[0m\n\u001b[0;32m    242\u001b[0m         \u001b[1;32mif\u001b[0m \u001b[0mx\u001b[0m\u001b[1;33m.\u001b[0m\u001b[0mshape\u001b[0m\u001b[1;33m[\u001b[0m\u001b[1;36m0\u001b[0m\u001b[1;33m]\u001b[0m \u001b[1;33m!=\u001b[0m \u001b[0my\u001b[0m\u001b[1;33m.\u001b[0m\u001b[0mshape\u001b[0m\u001b[1;33m[\u001b[0m\u001b[1;36m0\u001b[0m\u001b[1;33m]\u001b[0m\u001b[1;33m:\u001b[0m\u001b[1;33m\u001b[0m\u001b[0m\n\u001b[0;32m    243\u001b[0m             raise ValueError(\"x and y must have same first dimension, but \"\n\u001b[1;32m--> 244\u001b[1;33m                              \"have shapes {} and {}\".format(x.shape, y.shape))\n\u001b[0m\u001b[0;32m    245\u001b[0m         \u001b[1;32mif\u001b[0m \u001b[0mx\u001b[0m\u001b[1;33m.\u001b[0m\u001b[0mndim\u001b[0m \u001b[1;33m>\u001b[0m \u001b[1;36m2\u001b[0m \u001b[1;32mor\u001b[0m \u001b[0my\u001b[0m\u001b[1;33m.\u001b[0m\u001b[0mndim\u001b[0m \u001b[1;33m>\u001b[0m \u001b[1;36m2\u001b[0m\u001b[1;33m:\u001b[0m\u001b[1;33m\u001b[0m\u001b[0m\n\u001b[0;32m    246\u001b[0m             raise ValueError(\"x and y can be no greater than 2-D, but have \"\n",
      "\u001b[1;31mValueError\u001b[0m: x and y must have same first dimension, but have shapes (8,) and (9,)"
     ]
    },
    {
     "data": {
      "image/png": "[encoded data removed]",
      "text/plain": [
       "<matplotlib.figure.Figure at 0x29f20908>"
      ]
     },
     "metadata": {},
     "output_type": "display_data"
    }
   ],
   "source": [
    "fig, (ax1, ax2) = plt.subplots(nrows = 2, ncols = 1, sharex=True)\n",
    "ax1.plot(x, ratio)\n",
    "ax1.set_title(\"Ratio of Labor Force to Population\")\n",
    "ax2.plot(x, uer.Value.values.astype(\"float\"))\n",
    "ax2.set_title(\"Unemployment Rate\")"
   ]
  },
  {
   "cell_type": "markdown",
   "metadata": {},
   "source": [
    "# plot per city (1) population and labor force, (2) ratio and unemployment rate"
   ]
  },
  {
   "cell_type": "code",
   "execution_count": 312,
   "metadata": {
    "collapsed": true
   },
   "outputs": [],
   "source": [
    "#cityListGeoRegional = [\"Boston\", \"New York\", \"Philadelphia\", \"Baltimore\", \"Washington city\"]\n",
    "#cityListPopSize = [\"Phoenix\", \"Philadelphia\", \"San Antonio\", \"San Diego\", \"Dallas\"]\n",
    "\n",
    "cityListGeoRegionalX = [\"Boston\", \"New York\", \"Philadelphia\", \"Baltimore\", \"Washington\"]\n",
    "stateListGeoRegionalX = [\"Massachusetts\", \"New York\", \"Pennsylvania\", \"Maryland\", \"District of Columbia\"]\n",
    "cityListPopSizeX = [\"Phoenix\", \"Philadelphia\", \"San Antonio\", \"San Diego\", \"Dallas\"]\n",
    "stateListPopSizeX = [\"Arizona\", \"Pennsylvania\", \"Texas\", \"California\", \"Texas\"]"
   ]
  },
  {
   "cell_type": "code",
   "execution_count": 313,
   "metadata": {
    "collapsed": true
   },
   "outputs": [],
   "source": [
    "cityListX = cityListGeoRegionalX\n",
    "stateListX = stateListGeoRegionalX\n",
    "\n",
    "beginYearX = \"2008\"\n",
    "endYearX = \"2016\"\n",
    "\n",
    "cityStateList = []\n",
    "for i in range(len(cityListX)):\n",
    "    cityStateList.append((cityListX[i], stateListX[i]))"
   ]
  },
  {
   "cell_type": "code",
   "execution_count": 314,
   "metadata": {},
   "outputs": [
    {
     "data": {
      "text/plain": [
       "[('Boston', 'Massachusetts'),\n",
       " ('New York', 'New York'),\n",
       " ('Philadelphia', 'Pennsylvania'),\n",
       " ('Baltimore', 'Maryland'),\n",
       " ('Washington', 'District of Columbia')]"
      ]
     },
     "execution_count": 314,
     "metadata": {},
     "output_type": "execute_result"
    }
   ],
   "source": [
    "cityStateList"
   ]
  },
  {
   "cell_type": "code",
   "execution_count": 317,
   "metadata": {},
   "outputs": [
    {
     "name": "stdout",
     "output_type": "stream",
     "text": [
      "          City            Measure          State   Value  Year\n",
      "921     Boston        labor-force  Massachusetts  328248  2008\n",
      "909     Boston        labor-force  Massachusetts  330383  2009\n",
      "897     Boston        labor-force  Massachusetts  342167  2010\n",
      "885     Boston        labor-force  Massachusetts  343798  2011\n",
      "873     Boston        labor-force  Massachusetts  348666  2012\n",
      "861     Boston        labor-force  Massachusetts  353715  2013\n",
      "849     Boston        labor-force  Massachusetts  361170  2014\n",
      "837     Boston        labor-force  Massachusetts  366870  2015\n",
      "825     Boston        labor-force  Massachusetts  369136  2016\n",
      "845280  Boston         population  Massachusetts  636748  2008\n",
      "926983  Boston         population  Massachusetts  645169  2009\n",
      "191488  Boston         population  Massachusetts  620701  2010\n",
      "273073  Boston         population  Massachusetts  630195  2011\n",
      "354658  Boston         population  Massachusetts  641911  2012\n",
      "436243  Boston         population  Massachusetts  651090  2013\n",
      "517828  Boston         population  Massachusetts  659180  2014\n",
      "599413  Boston         population  Massachusetts  665984  2015\n",
      "680998  Boston         population  Massachusetts  673184  2016\n",
      "689     Boston  unemployment-rate  Massachusetts     5.8  2008\n",
      "677     Boston  unemployment-rate  Massachusetts     8.2  2009\n",
      "665     Boston  unemployment-rate  Massachusetts     8.1  2010\n",
      "653     Boston  unemployment-rate  Massachusetts     7.0  2011\n",
      "641     Boston  unemployment-rate  Massachusetts     6.6  2012\n",
      "629     Boston  unemployment-rate  Massachusetts     6.8  2013\n",
      "617     Boston  unemployment-rate  Massachusetts     5.9  2014\n",
      "605     Boston  unemployment-rate  Massachusetts     4.9  2015\n",
      "593     Boston  unemployment-rate  Massachusetts     3.8  2016\n",
      "            City            Measure     State    Value  Year\n",
      "1504    New York        labor-force  New York  3956413  2008\n",
      "1492    New York        labor-force  New York  4017214  2009\n",
      "1480    New York        labor-force  New York  3969455  2010\n",
      "1468    New York        labor-force  New York  3974041  2011\n",
      "1456    New York        labor-force  New York  4046456  2012\n",
      "1444    New York        labor-force  New York  4098690  2013\n",
      "1432    New York        labor-force  New York  4122175  2014\n",
      "1420    New York        labor-force  New York  4127022  2015\n",
      "1408    New York        labor-force  New York  4165039  2016\n",
      "863858  New York         population  New York  8346794  2008\n",
      "945561  New York         population  New York  8391881  2009\n",
      "209887  New York         population  New York  8192026  2010\n",
      "291472  New York         population  New York  8284098  2011\n",
      "373057  New York         population  New York  8361179  2012\n",
      "454642  New York         population  New York  8422460  2013\n",
      "536227  New York         population  New York  8471990  2014\n",
      "617812  New York         population  New York  8516502  2015\n",
      "699397  New York         population  New York  8537673  2016\n",
      "1038    New York  unemployment-rate  New York      5.7  2008\n",
      "1026    New York  unemployment-rate  New York      9.9  2009\n",
      "1014    New York  unemployment-rate  New York      9.7  2010\n",
      "1002    New York  unemployment-rate  New York      9.3  2011\n",
      "990     New York  unemployment-rate  New York      9.9  2012\n",
      "978     New York  unemployment-rate  New York      9.2  2013\n",
      "966     New York  unemployment-rate  New York      7.5  2014\n",
      "954     New York  unemployment-rate  New York      5.7  2015\n",
      "942     New York  unemployment-rate  New York      5.6  2016\n",
      "                City            Measure         State    Value  Year\n",
      "341     Philadelphia        labor-force  Pennsylvania   641086  2008\n",
      "329     Philadelphia        labor-force  Pennsylvania   663457  2009\n",
      "317     Philadelphia        labor-force  Pennsylvania   696073  2010\n",
      "305     Philadelphia        labor-force  Pennsylvania   698060  2011\n",
      "293     Philadelphia        labor-force  Pennsylvania   709570  2012\n",
      "281     Philadelphia        labor-force  Pennsylvania   705946  2013\n",
      "269     Philadelphia        labor-force  Pennsylvania   698219  2014\n",
      "257     Philadelphia        labor-force  Pennsylvania   701763  2015\n",
      "245     Philadelphia        labor-force  Pennsylvania   715091  2016\n",
      "879498  Philadelphia         population  Pennsylvania  1540351  2008\n",
      "961201  Philadelphia         population  Pennsylvania  1547297  2009\n",
      "225482  Philadelphia         population  Pennsylvania  1528427  2010\n",
      "307067  Philadelphia         population  Pennsylvania  1539022  2011\n",
      "388652  Philadelphia         population  Pennsylvania  1550379  2012\n",
      "470237  Philadelphia         population  Pennsylvania  1555868  2013\n",
      "551822  Philadelphia         population  Pennsylvania  1560609  2014\n",
      "633407  Philadelphia         population  Pennsylvania  1564964  2015\n",
      "714992  Philadelphia         population  Pennsylvania  1567872  2016\n",
      "109     Philadelphia  unemployment-rate  Pennsylvania      7.4  2008\n",
      "97      Philadelphia  unemployment-rate  Pennsylvania     10.3  2009\n",
      "85      Philadelphia  unemployment-rate  Pennsylvania     11.2  2010\n",
      "73      Philadelphia  unemployment-rate  Pennsylvania     11.7  2011\n",
      "61      Philadelphia  unemployment-rate  Pennsylvania     12.0  2012\n",
      "49      Philadelphia  unemployment-rate  Pennsylvania     11.0  2013\n",
      "37      Philadelphia  unemployment-rate  Pennsylvania      8.9  2014\n",
      "25      Philadelphia  unemployment-rate  Pennsylvania      8.0  2015\n",
      "13      Philadelphia  unemployment-rate  Pennsylvania      7.6  2016\n",
      "             City            Measure     State   Value  Year\n",
      "1968    Baltimore        labor-force  Maryland  283068  2008\n",
      "1956    Baltimore        labor-force  Maryland  285986  2009\n",
      "1944    Baltimore        labor-force  Maryland  300254  2010\n",
      "1932    Baltimore        labor-force  Maryland  299490  2011\n",
      "1920    Baltimore        labor-force  Maryland  301013  2012\n",
      "1908    Baltimore        labor-force  Maryland  300517  2013\n",
      "1896    Baltimore        labor-force  Maryland  298294  2014\n",
      "1884    Baltimore        labor-force  Maryland  298712  2015\n",
      "1872    Baltimore        labor-force  Maryland  298655  2016\n",
      "844915  Baltimore         population  Maryland  638091  2008\n",
      "926618  Baltimore         population  Maryland  637418  2009\n",
      "191122  Baltimore         population  Maryland  621195  2010\n",
      "272707  Baltimore         population  Maryland  620815  2011\n",
      "354292  Baltimore         population  Maryland  622722  2012\n",
      "435877  Baltimore         population  Maryland  622858  2013\n",
      "517462  Baltimore         population  Maryland  623353  2014\n",
      "599047  Baltimore         population  Maryland  621402  2015\n",
      "680632  Baltimore         population  Maryland  614664  2016\n",
      "1852    Baltimore  unemployment-rate  Maryland     6.9  2008\n",
      "1840    Baltimore  unemployment-rate  Maryland    10.8  2009\n",
      "1828    Baltimore  unemployment-rate  Maryland    11.7  2010\n",
      "1816    Baltimore  unemployment-rate  Maryland    11.2  2011\n",
      "1804    Baltimore  unemployment-rate  Maryland    10.9  2012\n",
      "1792    Baltimore  unemployment-rate  Maryland    10.1  2013\n",
      "1780    Baltimore  unemployment-rate  Maryland     9.1  2014\n",
      "1768    Baltimore  unemployment-rate  Maryland     8.0  2015\n",
      "1756    Baltimore  unemployment-rate  Maryland     6.5  2016\n",
      "              City            Measure                 State   Value  Year\n",
      "2085    Washington        labor-force  District of Columbia  339374  2008\n",
      "2073    Washington        labor-force  District of Columbia  344905  2009\n",
      "2061    Washington        labor-force  District of Columbia  356243  2010\n",
      "2049    Washington        labor-force  District of Columbia  358056  2011\n",
      "2037    Washington        labor-force  District of Columbia  372307  2012\n",
      "2025    Washington        labor-force  District of Columbia  379513  2013\n",
      "2013    Washington        labor-force  District of Columbia  384048  2014\n",
      "2001    Washington        labor-force  District of Columbia  393728  2015\n",
      "1989    Washington        labor-force  District of Columbia  397407  2016\n",
      "822044  Washington         population  District of Columbia  590074  2008\n",
      "903747  Washington         population  District of Columbia  599657  2009\n",
      "168196  Washington         population  District of Columbia  605183  2010\n",
      "249781  Washington         population  District of Columbia  620477  2011\n",
      "331366  Washington         population  District of Columbia  635327  2012\n",
      "412951  Washington         population  District of Columbia  649165  2013\n",
      "494536  Washington         population  District of Columbia  659005  2014\n",
      "576121  Washington         population  District of Columbia  670377  2015\n",
      "657706  Washington         population  District of Columbia  681170  2016\n",
      "1271    Washington  unemployment-rate  District of Columbia     6.6  2008\n",
      "1259    Washington  unemployment-rate  District of Columbia     9.6  2009\n",
      "1247    Washington  unemployment-rate  District of Columbia     9.4  2010\n",
      "1235    Washington  unemployment-rate  District of Columbia    10.7  2011\n",
      "1223    Washington  unemployment-rate  District of Columbia     9.0  2012\n",
      "1211    Washington  unemployment-rate  District of Columbia     8.7  2013\n",
      "1199    Washington  unemployment-rate  District of Columbia     8.1  2014\n",
      "1187    Washington  unemployment-rate  District of Columbia     7.0  2015\n",
      "1175    Washington  unemployment-rate  District of Columbia     6.3  2016\n"
     ]
    }
   ],
   "source": [
    "frames = []\n",
    "for city, state in cityStateList:\n",
    "    dfs = df[(df.City==city) & (df.State==state) & (df.Year>=beginYearX) & (df.Year<=endYearX)].sort_values(['Measure', 'Year'])\n",
    "    print(dfs)\n",
    "    frames.append(dfs)"
   ]
  },
  {
   "cell_type": "code",
   "execution_count": 318,
   "metadata": {},
   "outputs": [
    {
     "data": {
      "text/plain": [
       "[          City            Measure          State   Value  Year\n",
       " 921     Boston        labor-force  Massachusetts  328248  2008\n",
       " 909     Boston        labor-force  Massachusetts  330383  2009\n",
       " 897     Boston        labor-force  Massachusetts  342167  2010\n",
       " 885     Boston        labor-force  Massachusetts  343798  2011\n",
       " 873     Boston        labor-force  Massachusetts  348666  2012\n",
       " 861     Boston        labor-force  Massachusetts  353715  2013\n",
       " 849     Boston        labor-force  Massachusetts  361170  2014\n",
       " 837     Boston        labor-force  Massachusetts  366870  2015\n",
       " 825     Boston        labor-force  Massachusetts  369136  2016\n",
       " 845280  Boston         population  Massachusetts  636748  2008\n",
       " 926983  Boston         population  Massachusetts  645169  2009\n",
       " 191488  Boston         population  Massachusetts  620701  2010\n",
       " 273073  Boston         population  Massachusetts  630195  2011\n",
       " 354658  Boston         population  Massachusetts  641911  2012\n",
       " 436243  Boston         population  Massachusetts  651090  2013\n",
       " 517828  Boston         population  Massachusetts  659180  2014\n",
       " 599413  Boston         population  Massachusetts  665984  2015\n",
       " 680998  Boston         population  Massachusetts  673184  2016\n",
       " 689     Boston  unemployment-rate  Massachusetts     5.8  2008\n",
       " 677     Boston  unemployment-rate  Massachusetts     8.2  2009\n",
       " 665     Boston  unemployment-rate  Massachusetts     8.1  2010\n",
       " 653     Boston  unemployment-rate  Massachusetts     7.0  2011\n",
       " 641     Boston  unemployment-rate  Massachusetts     6.6  2012\n",
       " 629     Boston  unemployment-rate  Massachusetts     6.8  2013\n",
       " 617     Boston  unemployment-rate  Massachusetts     5.9  2014\n",
       " 605     Boston  unemployment-rate  Massachusetts     4.9  2015\n",
       " 593     Boston  unemployment-rate  Massachusetts     3.8  2016,\n",
       "             City            Measure     State    Value  Year\n",
       " 1504    New York        labor-force  New York  3956413  2008\n",
       " 1492    New York        labor-force  New York  4017214  2009\n",
       " 1480    New York        labor-force  New York  3969455  2010\n",
       " 1468    New York        labor-force  New York  3974041  2011\n",
       " 1456    New York        labor-force  New York  4046456  2012\n",
       " 1444    New York        labor-force  New York  4098690  2013\n",
       " 1432    New York        labor-force  New York  4122175  2014\n",
       " 1420    New York        labor-force  New York  4127022  2015\n",
       " 1408    New York        labor-force  New York  4165039  2016\n",
       " 863858  New York         population  New York  8346794  2008\n",
       " 945561  New York         population  New York  8391881  2009\n",
       " 209887  New York         population  New York  8192026  2010\n",
       " 291472  New York         population  New York  8284098  2011\n",
       " 373057  New York         population  New York  8361179  2012\n",
       " 454642  New York         population  New York  8422460  2013\n",
       " 536227  New York         population  New York  8471990  2014\n",
       " 617812  New York         population  New York  8516502  2015\n",
       " 699397  New York         population  New York  8537673  2016\n",
       " 1038    New York  unemployment-rate  New York      5.7  2008\n",
       " 1026    New York  unemployment-rate  New York      9.9  2009\n",
       " 1014    New York  unemployment-rate  New York      9.7  2010\n",
       " 1002    New York  unemployment-rate  New York      9.3  2011\n",
       " 990     New York  unemployment-rate  New York      9.9  2012\n",
       " 978     New York  unemployment-rate  New York      9.2  2013\n",
       " 966     New York  unemployment-rate  New York      7.5  2014\n",
       " 954     New York  unemployment-rate  New York      5.7  2015\n",
       " 942     New York  unemployment-rate  New York      5.6  2016,\n",
       "                 City            Measure         State    Value  Year\n",
       " 341     Philadelphia        labor-force  Pennsylvania   641086  2008\n",
       " 329     Philadelphia        labor-force  Pennsylvania   663457  2009\n",
       " 317     Philadelphia        labor-force  Pennsylvania   696073  2010\n",
       " 305     Philadelphia        labor-force  Pennsylvania   698060  2011\n",
       " 293     Philadelphia        labor-force  Pennsylvania   709570  2012\n",
       " 281     Philadelphia        labor-force  Pennsylvania   705946  2013\n",
       " 269     Philadelphia        labor-force  Pennsylvania   698219  2014\n",
       " 257     Philadelphia        labor-force  Pennsylvania   701763  2015\n",
       " 245     Philadelphia        labor-force  Pennsylvania   715091  2016\n",
       " 879498  Philadelphia         population  Pennsylvania  1540351  2008\n",
       " 961201  Philadelphia         population  Pennsylvania  1547297  2009\n",
       " 225482  Philadelphia         population  Pennsylvania  1528427  2010\n",
       " 307067  Philadelphia         population  Pennsylvania  1539022  2011\n",
       " 388652  Philadelphia         population  Pennsylvania  1550379  2012\n",
       " 470237  Philadelphia         population  Pennsylvania  1555868  2013\n",
       " 551822  Philadelphia         population  Pennsylvania  1560609  2014\n",
       " 633407  Philadelphia         population  Pennsylvania  1564964  2015\n",
       " 714992  Philadelphia         population  Pennsylvania  1567872  2016\n",
       " 109     Philadelphia  unemployment-rate  Pennsylvania      7.4  2008\n",
       " 97      Philadelphia  unemployment-rate  Pennsylvania     10.3  2009\n",
       " 85      Philadelphia  unemployment-rate  Pennsylvania     11.2  2010\n",
       " 73      Philadelphia  unemployment-rate  Pennsylvania     11.7  2011\n",
       " 61      Philadelphia  unemployment-rate  Pennsylvania     12.0  2012\n",
       " 49      Philadelphia  unemployment-rate  Pennsylvania     11.0  2013\n",
       " 37      Philadelphia  unemployment-rate  Pennsylvania      8.9  2014\n",
       " 25      Philadelphia  unemployment-rate  Pennsylvania      8.0  2015\n",
       " 13      Philadelphia  unemployment-rate  Pennsylvania      7.6  2016,\n",
       "              City            Measure     State   Value  Year\n",
       " 1968    Baltimore        labor-force  Maryland  283068  2008\n",
       " 1956    Baltimore        labor-force  Maryland  285986  2009\n",
       " 1944    Baltimore        labor-force  Maryland  300254  2010\n",
       " 1932    Baltimore        labor-force  Maryland  299490  2011\n",
       " 1920    Baltimore        labor-force  Maryland  301013  2012\n",
       " 1908    Baltimore        labor-force  Maryland  300517  2013\n",
       " 1896    Baltimore        labor-force  Maryland  298294  2014\n",
       " 1884    Baltimore        labor-force  Maryland  298712  2015\n",
       " 1872    Baltimore        labor-force  Maryland  298655  2016\n",
       " 844915  Baltimore         population  Maryland  638091  2008\n",
       " 926618  Baltimore         population  Maryland  637418  2009\n",
       " 191122  Baltimore         population  Maryland  621195  2010\n",
       " 272707  Baltimore         population  Maryland  620815  2011\n",
       " 354292  Baltimore         population  Maryland  622722  2012\n",
       " 435877  Baltimore         population  Maryland  622858  2013\n",
       " 517462  Baltimore         population  Maryland  623353  2014\n",
       " 599047  Baltimore         population  Maryland  621402  2015\n",
       " 680632  Baltimore         population  Maryland  614664  2016\n",
       " 1852    Baltimore  unemployment-rate  Maryland     6.9  2008\n",
       " 1840    Baltimore  unemployment-rate  Maryland    10.8  2009\n",
       " 1828    Baltimore  unemployment-rate  Maryland    11.7  2010\n",
       " 1816    Baltimore  unemployment-rate  Maryland    11.2  2011\n",
       " 1804    Baltimore  unemployment-rate  Maryland    10.9  2012\n",
       " 1792    Baltimore  unemployment-rate  Maryland    10.1  2013\n",
       " 1780    Baltimore  unemployment-rate  Maryland     9.1  2014\n",
       " 1768    Baltimore  unemployment-rate  Maryland     8.0  2015\n",
       " 1756    Baltimore  unemployment-rate  Maryland     6.5  2016,\n",
       "               City            Measure                 State   Value  Year\n",
       " 2085    Washington        labor-force  District of Columbia  339374  2008\n",
       " 2073    Washington        labor-force  District of Columbia  344905  2009\n",
       " 2061    Washington        labor-force  District of Columbia  356243  2010\n",
       " 2049    Washington        labor-force  District of Columbia  358056  2011\n",
       " 2037    Washington        labor-force  District of Columbia  372307  2012\n",
       " 2025    Washington        labor-force  District of Columbia  379513  2013\n",
       " 2013    Washington        labor-force  District of Columbia  384048  2014\n",
       " 2001    Washington        labor-force  District of Columbia  393728  2015\n",
       " 1989    Washington        labor-force  District of Columbia  397407  2016\n",
       " 822044  Washington         population  District of Columbia  590074  2008\n",
       " 903747  Washington         population  District of Columbia  599657  2009\n",
       " 168196  Washington         population  District of Columbia  605183  2010\n",
       " 249781  Washington         population  District of Columbia  620477  2011\n",
       " 331366  Washington         population  District of Columbia  635327  2012\n",
       " 412951  Washington         population  District of Columbia  649165  2013\n",
       " 494536  Washington         population  District of Columbia  659005  2014\n",
       " 576121  Washington         population  District of Columbia  670377  2015\n",
       " 657706  Washington         population  District of Columbia  681170  2016\n",
       " 1271    Washington  unemployment-rate  District of Columbia     6.6  2008\n",
       " 1259    Washington  unemployment-rate  District of Columbia     9.6  2009\n",
       " 1247    Washington  unemployment-rate  District of Columbia     9.4  2010\n",
       " 1235    Washington  unemployment-rate  District of Columbia    10.7  2011\n",
       " 1223    Washington  unemployment-rate  District of Columbia     9.0  2012\n",
       " 1211    Washington  unemployment-rate  District of Columbia     8.7  2013\n",
       " 1199    Washington  unemployment-rate  District of Columbia     8.1  2014\n",
       " 1187    Washington  unemployment-rate  District of Columbia     7.0  2015\n",
       " 1175    Washington  unemployment-rate  District of Columbia     6.3  2016]"
      ]
     },
     "execution_count": 318,
     "metadata": {},
     "output_type": "execute_result"
    }
   ],
   "source": [
    "frames"
   ]
  },
  {
   "cell_type": "code",
   "execution_count": 319,
   "metadata": {
    "collapsed": true
   },
   "outputs": [],
   "source": [
    "dfx = pd.DataFrame(columns=[\"City\",\"Measure\",\"State\",\"Value\",\"Year\"])"
   ]
  },
  {
   "cell_type": "code",
   "execution_count": 320,
   "metadata": {
    "collapsed": true
   },
   "outputs": [],
   "source": [
    "dfx = pd.concat(frames)"
   ]
  },
  {
   "cell_type": "code",
   "execution_count": 322,
   "metadata": {},
   "outputs": [
    {
     "data": {
      "text/html": [
       "<div>\n",
       "<style>\n",
       "    .dataframe thead tr:only-child th {\n",
       "        text-align: right;\n",
       "    }\n",
       "\n",
       "    .dataframe thead th {\n",
       "        text-align: left;\n",
       "    }\n",
       "\n",
       "    .dataframe tbody tr th {\n",
       "        vertical-align: top;\n",
       "    }\n",
       "</style>\n",
       "<table border=\"1\" class=\"dataframe\">\n",
       "  <thead>\n",
       "    <tr style=\"text-align: right;\">\n",
       "      <th></th>\n",
       "      <th>City</th>\n",
       "      <th>Measure</th>\n",
       "      <th>State</th>\n",
       "      <th>Value</th>\n",
       "      <th>Year</th>\n",
       "    </tr>\n",
       "  </thead>\n",
       "  <tbody>\n",
       "    <tr>\n",
       "      <th>921</th>\n",
       "      <td>Boston</td>\n",
       "      <td>labor-force</td>\n",
       "      <td>Massachusetts</td>\n",
       "      <td>328248</td>\n",
       "      <td>2008</td>\n",
       "    </tr>\n",
       "    <tr>\n",
       "      <th>909</th>\n",
       "      <td>Boston</td>\n",
       "      <td>labor-force</td>\n",
       "      <td>Massachusetts</td>\n",
       "      <td>330383</td>\n",
       "      <td>2009</td>\n",
       "    </tr>\n",
       "    <tr>\n",
       "      <th>897</th>\n",
       "      <td>Boston</td>\n",
       "      <td>labor-force</td>\n",
       "      <td>Massachusetts</td>\n",
       "      <td>342167</td>\n",
       "      <td>2010</td>\n",
       "    </tr>\n",
       "    <tr>\n",
       "      <th>885</th>\n",
       "      <td>Boston</td>\n",
       "      <td>labor-force</td>\n",
       "      <td>Massachusetts</td>\n",
       "      <td>343798</td>\n",
       "      <td>2011</td>\n",
       "    </tr>\n",
       "    <tr>\n",
       "      <th>873</th>\n",
       "      <td>Boston</td>\n",
       "      <td>labor-force</td>\n",
       "      <td>Massachusetts</td>\n",
       "      <td>348666</td>\n",
       "      <td>2012</td>\n",
       "    </tr>\n",
       "    <tr>\n",
       "      <th>861</th>\n",
       "      <td>Boston</td>\n",
       "      <td>labor-force</td>\n",
       "      <td>Massachusetts</td>\n",
       "      <td>353715</td>\n",
       "      <td>2013</td>\n",
       "    </tr>\n",
       "    <tr>\n",
       "      <th>849</th>\n",
       "      <td>Boston</td>\n",
       "      <td>labor-force</td>\n",
       "      <td>Massachusetts</td>\n",
       "      <td>361170</td>\n",
       "      <td>2014</td>\n",
       "    </tr>\n",
       "    <tr>\n",
       "      <th>837</th>\n",
       "      <td>Boston</td>\n",
       "      <td>labor-force</td>\n",
       "      <td>Massachusetts</td>\n",
       "      <td>366870</td>\n",
       "      <td>2015</td>\n",
       "    </tr>\n",
       "    <tr>\n",
       "      <th>825</th>\n",
       "      <td>Boston</td>\n",
       "      <td>labor-force</td>\n",
       "      <td>Massachusetts</td>\n",
       "      <td>369136</td>\n",
       "      <td>2016</td>\n",
       "    </tr>\n",
       "    <tr>\n",
       "      <th>845280</th>\n",
       "      <td>Boston</td>\n",
       "      <td>population</td>\n",
       "      <td>Massachusetts</td>\n",
       "      <td>636748</td>\n",
       "      <td>2008</td>\n",
       "    </tr>\n",
       "    <tr>\n",
       "      <th>926983</th>\n",
       "      <td>Boston</td>\n",
       "      <td>population</td>\n",
       "      <td>Massachusetts</td>\n",
       "      <td>645169</td>\n",
       "      <td>2009</td>\n",
       "    </tr>\n",
       "    <tr>\n",
       "      <th>191488</th>\n",
       "      <td>Boston</td>\n",
       "      <td>population</td>\n",
       "      <td>Massachusetts</td>\n",
       "      <td>620701</td>\n",
       "      <td>2010</td>\n",
       "    </tr>\n",
       "    <tr>\n",
       "      <th>273073</th>\n",
       "      <td>Boston</td>\n",
       "      <td>population</td>\n",
       "      <td>Massachusetts</td>\n",
       "      <td>630195</td>\n",
       "      <td>2011</td>\n",
       "    </tr>\n",
       "    <tr>\n",
       "      <th>354658</th>\n",
       "      <td>Boston</td>\n",
       "      <td>population</td>\n",
       "      <td>Massachusetts</td>\n",
       "      <td>641911</td>\n",
       "      <td>2012</td>\n",
       "    </tr>\n",
       "    <tr>\n",
       "      <th>436243</th>\n",
       "      <td>Boston</td>\n",
       "      <td>population</td>\n",
       "      <td>Massachusetts</td>\n",
       "      <td>651090</td>\n",
       "      <td>2013</td>\n",
       "    </tr>\n",
       "    <tr>\n",
       "      <th>517828</th>\n",
       "      <td>Boston</td>\n",
       "      <td>population</td>\n",
       "      <td>Massachusetts</td>\n",
       "      <td>659180</td>\n",
       "      <td>2014</td>\n",
       "    </tr>\n",
       "    <tr>\n",
       "      <th>599413</th>\n",
       "      <td>Boston</td>\n",
       "      <td>population</td>\n",
       "      <td>Massachusetts</td>\n",
       "      <td>665984</td>\n",
       "      <td>2015</td>\n",
       "    </tr>\n",
       "    <tr>\n",
       "      <th>680998</th>\n",
       "      <td>Boston</td>\n",
       "      <td>population</td>\n",
       "      <td>Massachusetts</td>\n",
       "      <td>673184</td>\n",
       "      <td>2016</td>\n",
       "    </tr>\n",
       "    <tr>\n",
       "      <th>689</th>\n",
       "      <td>Boston</td>\n",
       "      <td>unemployment-rate</td>\n",
       "      <td>Massachusetts</td>\n",
       "      <td>5.8</td>\n",
       "      <td>2008</td>\n",
       "    </tr>\n",
       "    <tr>\n",
       "      <th>677</th>\n",
       "      <td>Boston</td>\n",
       "      <td>unemployment-rate</td>\n",
       "      <td>Massachusetts</td>\n",
       "      <td>8.2</td>\n",
       "      <td>2009</td>\n",
       "    </tr>\n",
       "    <tr>\n",
       "      <th>665</th>\n",
       "      <td>Boston</td>\n",
       "      <td>unemployment-rate</td>\n",
       "      <td>Massachusetts</td>\n",
       "      <td>8.1</td>\n",
       "      <td>2010</td>\n",
       "    </tr>\n",
       "    <tr>\n",
       "      <th>653</th>\n",
       "      <td>Boston</td>\n",
       "      <td>unemployment-rate</td>\n",
       "      <td>Massachusetts</td>\n",
       "      <td>7.0</td>\n",
       "      <td>2011</td>\n",
       "    </tr>\n",
       "    <tr>\n",
       "      <th>641</th>\n",
       "      <td>Boston</td>\n",
       "      <td>unemployment-rate</td>\n",
       "      <td>Massachusetts</td>\n",
       "      <td>6.6</td>\n",
       "      <td>2012</td>\n",
       "    </tr>\n",
       "    <tr>\n",
       "      <th>629</th>\n",
       "      <td>Boston</td>\n",
       "      <td>unemployment-rate</td>\n",
       "      <td>Massachusetts</td>\n",
       "      <td>6.8</td>\n",
       "      <td>2013</td>\n",
       "    </tr>\n",
       "    <tr>\n",
       "      <th>617</th>\n",
       "      <td>Boston</td>\n",
       "      <td>unemployment-rate</td>\n",
       "      <td>Massachusetts</td>\n",
       "      <td>5.9</td>\n",
       "      <td>2014</td>\n",
       "    </tr>\n",
       "    <tr>\n",
       "      <th>605</th>\n",
       "      <td>Boston</td>\n",
       "      <td>unemployment-rate</td>\n",
       "      <td>Massachusetts</td>\n",
       "      <td>4.9</td>\n",
       "      <td>2015</td>\n",
       "    </tr>\n",
       "    <tr>\n",
       "      <th>593</th>\n",
       "      <td>Boston</td>\n",
       "      <td>unemployment-rate</td>\n",
       "      <td>Massachusetts</td>\n",
       "      <td>3.8</td>\n",
       "      <td>2016</td>\n",
       "    </tr>\n",
       "    <tr>\n",
       "      <th>1504</th>\n",
       "      <td>New York</td>\n",
       "      <td>labor-force</td>\n",
       "      <td>New York</td>\n",
       "      <td>3956413</td>\n",
       "      <td>2008</td>\n",
       "    </tr>\n",
       "    <tr>\n",
       "      <th>1492</th>\n",
       "      <td>New York</td>\n",
       "      <td>labor-force</td>\n",
       "      <td>New York</td>\n",
       "      <td>4017214</td>\n",
       "      <td>2009</td>\n",
       "    </tr>\n",
       "    <tr>\n",
       "      <th>1480</th>\n",
       "      <td>New York</td>\n",
       "      <td>labor-force</td>\n",
       "      <td>New York</td>\n",
       "      <td>3969455</td>\n",
       "      <td>2010</td>\n",
       "    </tr>\n",
       "    <tr>\n",
       "      <th>...</th>\n",
       "      <td>...</td>\n",
       "      <td>...</td>\n",
       "      <td>...</td>\n",
       "      <td>...</td>\n",
       "      <td>...</td>\n",
       "    </tr>\n",
       "    <tr>\n",
       "      <th>1780</th>\n",
       "      <td>Baltimore</td>\n",
       "      <td>unemployment-rate</td>\n",
       "      <td>Maryland</td>\n",
       "      <td>9.1</td>\n",
       "      <td>2014</td>\n",
       "    </tr>\n",
       "    <tr>\n",
       "      <th>1768</th>\n",
       "      <td>Baltimore</td>\n",
       "      <td>unemployment-rate</td>\n",
       "      <td>Maryland</td>\n",
       "      <td>8.0</td>\n",
       "      <td>2015</td>\n",
       "    </tr>\n",
       "    <tr>\n",
       "      <th>1756</th>\n",
       "      <td>Baltimore</td>\n",
       "      <td>unemployment-rate</td>\n",
       "      <td>Maryland</td>\n",
       "      <td>6.5</td>\n",
       "      <td>2016</td>\n",
       "    </tr>\n",
       "    <tr>\n",
       "      <th>2085</th>\n",
       "      <td>Washington</td>\n",
       "      <td>labor-force</td>\n",
       "      <td>District of Columbia</td>\n",
       "      <td>339374</td>\n",
       "      <td>2008</td>\n",
       "    </tr>\n",
       "    <tr>\n",
       "      <th>2073</th>\n",
       "      <td>Washington</td>\n",
       "      <td>labor-force</td>\n",
       "      <td>District of Columbia</td>\n",
       "      <td>344905</td>\n",
       "      <td>2009</td>\n",
       "    </tr>\n",
       "    <tr>\n",
       "      <th>2061</th>\n",
       "      <td>Washington</td>\n",
       "      <td>labor-force</td>\n",
       "      <td>District of Columbia</td>\n",
       "      <td>356243</td>\n",
       "      <td>2010</td>\n",
       "    </tr>\n",
       "    <tr>\n",
       "      <th>2049</th>\n",
       "      <td>Washington</td>\n",
       "      <td>labor-force</td>\n",
       "      <td>District of Columbia</td>\n",
       "      <td>358056</td>\n",
       "      <td>2011</td>\n",
       "    </tr>\n",
       "    <tr>\n",
       "      <th>2037</th>\n",
       "      <td>Washington</td>\n",
       "      <td>labor-force</td>\n",
       "      <td>District of Columbia</td>\n",
       "      <td>372307</td>\n",
       "      <td>2012</td>\n",
       "    </tr>\n",
       "    <tr>\n",
       "      <th>2025</th>\n",
       "      <td>Washington</td>\n",
       "      <td>labor-force</td>\n",
       "      <td>District of Columbia</td>\n",
       "      <td>379513</td>\n",
       "      <td>2013</td>\n",
       "    </tr>\n",
       "    <tr>\n",
       "      <th>2013</th>\n",
       "      <td>Washington</td>\n",
       "      <td>labor-force</td>\n",
       "      <td>District of Columbia</td>\n",
       "      <td>384048</td>\n",
       "      <td>2014</td>\n",
       "    </tr>\n",
       "    <tr>\n",
       "      <th>2001</th>\n",
       "      <td>Washington</td>\n",
       "      <td>labor-force</td>\n",
       "      <td>District of Columbia</td>\n",
       "      <td>393728</td>\n",
       "      <td>2015</td>\n",
       "    </tr>\n",
       "    <tr>\n",
       "      <th>1989</th>\n",
       "      <td>Washington</td>\n",
       "      <td>labor-force</td>\n",
       "      <td>District of Columbia</td>\n",
       "      <td>397407</td>\n",
       "      <td>2016</td>\n",
       "    </tr>\n",
       "    <tr>\n",
       "      <th>822044</th>\n",
       "      <td>Washington</td>\n",
       "      <td>population</td>\n",
       "      <td>District of Columbia</td>\n",
       "      <td>590074</td>\n",
       "      <td>2008</td>\n",
       "    </tr>\n",
       "    <tr>\n",
       "      <th>903747</th>\n",
       "      <td>Washington</td>\n",
       "      <td>population</td>\n",
       "      <td>District of Columbia</td>\n",
       "      <td>599657</td>\n",
       "      <td>2009</td>\n",
       "    </tr>\n",
       "    <tr>\n",
       "      <th>168196</th>\n",
       "      <td>Washington</td>\n",
       "      <td>population</td>\n",
       "      <td>District of Columbia</td>\n",
       "      <td>605183</td>\n",
       "      <td>2010</td>\n",
       "    </tr>\n",
       "    <tr>\n",
       "      <th>249781</th>\n",
       "      <td>Washington</td>\n",
       "      <td>population</td>\n",
       "      <td>District of Columbia</td>\n",
       "      <td>620477</td>\n",
       "      <td>2011</td>\n",
       "    </tr>\n",
       "    <tr>\n",
       "      <th>331366</th>\n",
       "      <td>Washington</td>\n",
       "      <td>population</td>\n",
       "      <td>District of Columbia</td>\n",
       "      <td>635327</td>\n",
       "      <td>2012</td>\n",
       "    </tr>\n",
       "    <tr>\n",
       "      <th>412951</th>\n",
       "      <td>Washington</td>\n",
       "      <td>population</td>\n",
       "      <td>District of Columbia</td>\n",
       "      <td>649165</td>\n",
       "      <td>2013</td>\n",
       "    </tr>\n",
       "    <tr>\n",
       "      <th>494536</th>\n",
       "      <td>Washington</td>\n",
       "      <td>population</td>\n",
       "      <td>District of Columbia</td>\n",
       "      <td>659005</td>\n",
       "      <td>2014</td>\n",
       "    </tr>\n",
       "    <tr>\n",
       "      <th>576121</th>\n",
       "      <td>Washington</td>\n",
       "      <td>population</td>\n",
       "      <td>District of Columbia</td>\n",
       "      <td>670377</td>\n",
       "      <td>2015</td>\n",
       "    </tr>\n",
       "    <tr>\n",
       "      <th>657706</th>\n",
       "      <td>Washington</td>\n",
       "      <td>population</td>\n",
       "      <td>District of Columbia</td>\n",
       "      <td>681170</td>\n",
       "      <td>2016</td>\n",
       "    </tr>\n",
       "    <tr>\n",
       "      <th>1271</th>\n",
       "      <td>Washington</td>\n",
       "      <td>unemployment-rate</td>\n",
       "      <td>District of Columbia</td>\n",
       "      <td>6.6</td>\n",
       "      <td>2008</td>\n",
       "    </tr>\n",
       "    <tr>\n",
       "      <th>1259</th>\n",
       "      <td>Washington</td>\n",
       "      <td>unemployment-rate</td>\n",
       "      <td>District of Columbia</td>\n",
       "      <td>9.6</td>\n",
       "      <td>2009</td>\n",
       "    </tr>\n",
       "    <tr>\n",
       "      <th>1247</th>\n",
       "      <td>Washington</td>\n",
       "      <td>unemployment-rate</td>\n",
       "      <td>District of Columbia</td>\n",
       "      <td>9.4</td>\n",
       "      <td>2010</td>\n",
       "    </tr>\n",
       "    <tr>\n",
       "      <th>1235</th>\n",
       "      <td>Washington</td>\n",
       "      <td>unemployment-rate</td>\n",
       "      <td>District of Columbia</td>\n",
       "      <td>10.7</td>\n",
       "      <td>2011</td>\n",
       "    </tr>\n",
       "    <tr>\n",
       "      <th>1223</th>\n",
       "      <td>Washington</td>\n",
       "      <td>unemployment-rate</td>\n",
       "      <td>District of Columbia</td>\n",
       "      <td>9.0</td>\n",
       "      <td>2012</td>\n",
       "    </tr>\n",
       "    <tr>\n",
       "      <th>1211</th>\n",
       "      <td>Washington</td>\n",
       "      <td>unemployment-rate</td>\n",
       "      <td>District of Columbia</td>\n",
       "      <td>8.7</td>\n",
       "      <td>2013</td>\n",
       "    </tr>\n",
       "    <tr>\n",
       "      <th>1199</th>\n",
       "      <td>Washington</td>\n",
       "      <td>unemployment-rate</td>\n",
       "      <td>District of Columbia</td>\n",
       "      <td>8.1</td>\n",
       "      <td>2014</td>\n",
       "    </tr>\n",
       "    <tr>\n",
       "      <th>1187</th>\n",
       "      <td>Washington</td>\n",
       "      <td>unemployment-rate</td>\n",
       "      <td>District of Columbia</td>\n",
       "      <td>7.0</td>\n",
       "      <td>2015</td>\n",
       "    </tr>\n",
       "    <tr>\n",
       "      <th>1175</th>\n",
       "      <td>Washington</td>\n",
       "      <td>unemployment-rate</td>\n",
       "      <td>District of Columbia</td>\n",
       "      <td>6.3</td>\n",
       "      <td>2016</td>\n",
       "    </tr>\n",
       "  </tbody>\n",
       "</table>\n",
       "<p>135 rows × 5 columns</p>\n",
       "</div>"
      ],
      "text/plain": [
       "              City            Measure                 State    Value  Year\n",
       "921         Boston        labor-force         Massachusetts   328248  2008\n",
       "909         Boston        labor-force         Massachusetts   330383  2009\n",
       "897         Boston        labor-force         Massachusetts   342167  2010\n",
       "885         Boston        labor-force         Massachusetts   343798  2011\n",
       "873         Boston        labor-force         Massachusetts   348666  2012\n",
       "861         Boston        labor-force         Massachusetts   353715  2013\n",
       "849         Boston        labor-force         Massachusetts   361170  2014\n",
       "837         Boston        labor-force         Massachusetts   366870  2015\n",
       "825         Boston        labor-force         Massachusetts   369136  2016\n",
       "845280      Boston         population         Massachusetts   636748  2008\n",
       "926983      Boston         population         Massachusetts   645169  2009\n",
       "191488      Boston         population         Massachusetts   620701  2010\n",
       "273073      Boston         population         Massachusetts   630195  2011\n",
       "354658      Boston         population         Massachusetts   641911  2012\n",
       "436243      Boston         population         Massachusetts   651090  2013\n",
       "517828      Boston         population         Massachusetts   659180  2014\n",
       "599413      Boston         population         Massachusetts   665984  2015\n",
       "680998      Boston         population         Massachusetts   673184  2016\n",
       "689         Boston  unemployment-rate         Massachusetts      5.8  2008\n",
       "677         Boston  unemployment-rate         Massachusetts      8.2  2009\n",
       "665         Boston  unemployment-rate         Massachusetts      8.1  2010\n",
       "653         Boston  unemployment-rate         Massachusetts      7.0  2011\n",
       "641         Boston  unemployment-rate         Massachusetts      6.6  2012\n",
       "629         Boston  unemployment-rate         Massachusetts      6.8  2013\n",
       "617         Boston  unemployment-rate         Massachusetts      5.9  2014\n",
       "605         Boston  unemployment-rate         Massachusetts      4.9  2015\n",
       "593         Boston  unemployment-rate         Massachusetts      3.8  2016\n",
       "1504      New York        labor-force              New York  3956413  2008\n",
       "1492      New York        labor-force              New York  4017214  2009\n",
       "1480      New York        labor-force              New York  3969455  2010\n",
       "...            ...                ...                   ...      ...   ...\n",
       "1780     Baltimore  unemployment-rate              Maryland      9.1  2014\n",
       "1768     Baltimore  unemployment-rate              Maryland      8.0  2015\n",
       "1756     Baltimore  unemployment-rate              Maryland      6.5  2016\n",
       "2085    Washington        labor-force  District of Columbia   339374  2008\n",
       "2073    Washington        labor-force  District of Columbia   344905  2009\n",
       "2061    Washington        labor-force  District of Columbia   356243  2010\n",
       "2049    Washington        labor-force  District of Columbia   358056  2011\n",
       "2037    Washington        labor-force  District of Columbia   372307  2012\n",
       "2025    Washington        labor-force  District of Columbia   379513  2013\n",
       "2013    Washington        labor-force  District of Columbia   384048  2014\n",
       "2001    Washington        labor-force  District of Columbia   393728  2015\n",
       "1989    Washington        labor-force  District of Columbia   397407  2016\n",
       "822044  Washington         population  District of Columbia   590074  2008\n",
       "903747  Washington         population  District of Columbia   599657  2009\n",
       "168196  Washington         population  District of Columbia   605183  2010\n",
       "249781  Washington         population  District of Columbia   620477  2011\n",
       "331366  Washington         population  District of Columbia   635327  2012\n",
       "412951  Washington         population  District of Columbia   649165  2013\n",
       "494536  Washington         population  District of Columbia   659005  2014\n",
       "576121  Washington         population  District of Columbia   670377  2015\n",
       "657706  Washington         population  District of Columbia   681170  2016\n",
       "1271    Washington  unemployment-rate  District of Columbia      6.6  2008\n",
       "1259    Washington  unemployment-rate  District of Columbia      9.6  2009\n",
       "1247    Washington  unemployment-rate  District of Columbia      9.4  2010\n",
       "1235    Washington  unemployment-rate  District of Columbia     10.7  2011\n",
       "1223    Washington  unemployment-rate  District of Columbia      9.0  2012\n",
       "1211    Washington  unemployment-rate  District of Columbia      8.7  2013\n",
       "1199    Washington  unemployment-rate  District of Columbia      8.1  2014\n",
       "1187    Washington  unemployment-rate  District of Columbia      7.0  2015\n",
       "1175    Washington  unemployment-rate  District of Columbia      6.3  2016\n",
       "\n",
       "[135 rows x 5 columns]"
      ]
     },
     "execution_count": 322,
     "metadata": {},
     "output_type": "execute_result"
    }
   ],
   "source": [
    "dfx"
   ]
  },
  {
   "cell_type": "code",
   "execution_count": 323,
   "metadata": {},
   "outputs": [
    {
     "data": {
      "image/png": "[encoded data removed]",
      "text/plain": [
       "<matplotlib.figure.Figure at 0x1aeb8b00>"
      ]
     },
     "metadata": {},
     "output_type": "display_data"
    },
    {
     "data": {
      "image/png": "[encoded data removed]",
      "text/plain": [
       "<matplotlib.figure.Figure at 0x1b59a358>"
      ]
     },
     "metadata": {},
     "output_type": "display_data"
    },
    {
     "data": {
      "image/png": "[encoded data removed]",
      "text/plain": [
       "<matplotlib.figure.Figure at 0x1b342c88>"
      ]
     },
     "metadata": {},
     "output_type": "display_data"
    },
    {
     "data": {
      "image/png": "[encoded data removed]",
      "text/plain": [
       "<matplotlib.figure.Figure at 0x23394cf8>"
      ]
     },
     "metadata": {},
     "output_type": "display_data"
    },
    {
     "data": {
      "image/png": "[encoded data removed]",
      "text/plain": [
       "<matplotlib.figure.Figure at 0x29a6e0f0>"
      ]
     },
     "metadata": {},
     "output_type": "display_data"
    }
   ],
   "source": [
    "for key, grp in dfx.groupby(['City']): \n",
    "    fig, (ax1, ax2, ax3) = plt.subplots(nrows = 3, ncols = 1, sharex=True)\n",
    "    srt = grp.sort_values(['Measure','Year'])\n",
    "    x = srt[srt.Measure==\"population\"].Year.values.astype(\"int\")\n",
    "    y1 = srt[srt.Measure==\"population\"].Value.values.astype(\"int\")\n",
    "    y2 = srt[srt.Measure==\"labor-force\"].Value.values.astype(\"int\")\n",
    "    ax1.set_title(key)\n",
    "    ax1.plot(x, y1, x, y2)\n",
    "    ax1.set_yscale(\"log\")\n",
    "    ratios = (srt[srt.Measure==\"labor-force\"].Value.values.astype(\"int\")/\n",
    "              srt[srt.Measure==\"population\"].Value.values.astype(\"int\"))*100.0\n",
    "    ax2.plot(x, ratios)\n",
    "    y = srt[grp.Measure==\"unemployment-rate\"].Value.values.astype(\"float\")\n",
    "    ax3.plot(x, y)"
   ]
  },
  {
   "cell_type": "code",
   "execution_count": 324,
   "metadata": {},
   "outputs": [
    {
     "name": "stdout",
     "output_type": "stream",
     "text": [
      "Baltimore\n",
      "             City            Measure     State   Value  Year\n",
      "1968    Baltimore        labor-force  Maryland  283068  2008\n",
      "844915  Baltimore         population  Maryland  638091  2008\n",
      "1852    Baltimore  unemployment-rate  Maryland     6.9  2008\n",
      "1956    Baltimore        labor-force  Maryland  285986  2009\n",
      "926618  Baltimore         population  Maryland  637418  2009\n",
      "1840    Baltimore  unemployment-rate  Maryland    10.8  2009\n",
      "1944    Baltimore        labor-force  Maryland  300254  2010\n",
      "191122  Baltimore         population  Maryland  621195  2010\n",
      "1828    Baltimore  unemployment-rate  Maryland    11.7  2010\n",
      "1932    Baltimore        labor-force  Maryland  299490  2011\n",
      "272707  Baltimore         population  Maryland  620815  2011\n",
      "1816    Baltimore  unemployment-rate  Maryland    11.2  2011\n",
      "1920    Baltimore        labor-force  Maryland  301013  2012\n",
      "354292  Baltimore         population  Maryland  622722  2012\n",
      "1804    Baltimore  unemployment-rate  Maryland    10.9  2012\n",
      "1908    Baltimore        labor-force  Maryland  300517  2013\n",
      "435877  Baltimore         population  Maryland  622858  2013\n",
      "1792    Baltimore  unemployment-rate  Maryland    10.1  2013\n",
      "1896    Baltimore        labor-force  Maryland  298294  2014\n",
      "517462  Baltimore         population  Maryland  623353  2014\n",
      "1780    Baltimore  unemployment-rate  Maryland     9.1  2014\n",
      "1884    Baltimore        labor-force  Maryland  298712  2015\n",
      "599047  Baltimore         population  Maryland  621402  2015\n",
      "1768    Baltimore  unemployment-rate  Maryland     8.0  2015\n",
      "1872    Baltimore        labor-force  Maryland  298655  2016\n",
      "680632  Baltimore         population  Maryland  614664  2016\n",
      "1756    Baltimore  unemployment-rate  Maryland     6.5  2016\n",
      "Years: [2008 2009 2010 2011 2012 2013 2014 2015 2016]\n",
      "Labor Force: [283068 285986 300254 299490 301013 300517 298294 298712 298655]\n",
      "Population: [638091 637418 621195 620815 622722 622858 623353 621402 614664]\n",
      "Ratios: [ 44.36169763  44.86632006  48.33490289  48.24142458  48.3382633\n",
      "  48.24807581  47.8531426   48.07065314  48.58833444]\n",
      "Boston\n",
      "          City            Measure          State   Value  Year\n",
      "921     Boston        labor-force  Massachusetts  328248  2008\n",
      "845280  Boston         population  Massachusetts  636748  2008\n",
      "689     Boston  unemployment-rate  Massachusetts     5.8  2008\n",
      "909     Boston        labor-force  Massachusetts  330383  2009\n",
      "926983  Boston         population  Massachusetts  645169  2009\n",
      "677     Boston  unemployment-rate  Massachusetts     8.2  2009\n",
      "897     Boston        labor-force  Massachusetts  342167  2010\n",
      "191488  Boston         population  Massachusetts  620701  2010\n",
      "665     Boston  unemployment-rate  Massachusetts     8.1  2010\n",
      "885     Boston        labor-force  Massachusetts  343798  2011\n",
      "273073  Boston         population  Massachusetts  630195  2011\n",
      "653     Boston  unemployment-rate  Massachusetts     7.0  2011\n",
      "873     Boston        labor-force  Massachusetts  348666  2012\n",
      "354658  Boston         population  Massachusetts  641911  2012\n",
      "641     Boston  unemployment-rate  Massachusetts     6.6  2012\n",
      "861     Boston        labor-force  Massachusetts  353715  2013\n",
      "436243  Boston         population  Massachusetts  651090  2013\n",
      "629     Boston  unemployment-rate  Massachusetts     6.8  2013\n",
      "849     Boston        labor-force  Massachusetts  361170  2014\n",
      "517828  Boston         population  Massachusetts  659180  2014\n",
      "617     Boston  unemployment-rate  Massachusetts     5.9  2014\n",
      "837     Boston        labor-force  Massachusetts  366870  2015\n",
      "599413  Boston         population  Massachusetts  665984  2015\n",
      "605     Boston  unemployment-rate  Massachusetts     4.9  2015\n",
      "825     Boston        labor-force  Massachusetts  369136  2016\n",
      "680998  Boston         population  Massachusetts  673184  2016\n",
      "593     Boston  unemployment-rate  Massachusetts     3.8  2016\n",
      "Years: [2008 2009 2010 2011 2012 2013 2014 2015 2016]\n",
      "Labor Force: [328248 330383 342167 343798 348666 353715 361170 366870 369136]\n",
      "Population: [636748 645169 620701 630195 641911 651090 659180 665984 673184]\n",
      "Ratios: [ 51.55069195  51.20875306  55.12589798  54.55422528  54.3168757\n",
      "  54.32659079  54.79080069  55.08690899  54.8343395 ]\n",
      "New York\n",
      "            City            Measure     State    Value  Year\n",
      "1504    New York        labor-force  New York  3956413  2008\n",
      "863858  New York         population  New York  8346794  2008\n",
      "1038    New York  unemployment-rate  New York      5.7  2008\n",
      "1492    New York        labor-force  New York  4017214  2009\n",
      "945561  New York         population  New York  8391881  2009\n",
      "1026    New York  unemployment-rate  New York      9.9  2009\n",
      "1480    New York        labor-force  New York  3969455  2010\n",
      "209887  New York         population  New York  8192026  2010\n",
      "1014    New York  unemployment-rate  New York      9.7  2010\n",
      "1468    New York        labor-force  New York  3974041  2011\n",
      "291472  New York         population  New York  8284098  2011\n",
      "1002    New York  unemployment-rate  New York      9.3  2011\n",
      "1456    New York        labor-force  New York  4046456  2012\n",
      "373057  New York         population  New York  8361179  2012\n",
      "990     New York  unemployment-rate  New York      9.9  2012\n",
      "1444    New York        labor-force  New York  4098690  2013\n",
      "454642  New York         population  New York  8422460  2013\n",
      "978     New York  unemployment-rate  New York      9.2  2013\n",
      "1432    New York        labor-force  New York  4122175  2014\n",
      "536227  New York         population  New York  8471990  2014\n",
      "966     New York  unemployment-rate  New York      7.5  2014\n",
      "1420    New York        labor-force  New York  4127022  2015\n",
      "617812  New York         population  New York  8516502  2015\n",
      "954     New York  unemployment-rate  New York      5.7  2015\n",
      "1408    New York        labor-force  New York  4165039  2016\n",
      "699397  New York         population  New York  8537673  2016\n",
      "942     New York  unemployment-rate  New York      5.6  2016\n",
      "Years: [2008 2009 2010 2011 2012 2013 2014 2015 2016]\n",
      "Labor Force: [3956413 4017214 3969455 3974041 4046456 4098690 4122175 4127022 4165039]\n",
      "Population: [8346794 8391881 8192026 8284098 8361179 8422460 8471990 8516502 8537673]\n",
      "Ratios: [ 47.4003911   47.87024506  48.45510744  47.97192163  48.39575854\n",
      "  48.66381081  48.65651399  48.45912089  48.78424133]\n",
      "Philadelphia\n",
      "                City            Measure         State    Value  Year\n",
      "341     Philadelphia        labor-force  Pennsylvania   641086  2008\n",
      "879498  Philadelphia         population  Pennsylvania  1540351  2008\n",
      "109     Philadelphia  unemployment-rate  Pennsylvania      7.4  2008\n",
      "329     Philadelphia        labor-force  Pennsylvania   663457  2009\n",
      "961201  Philadelphia         population  Pennsylvania  1547297  2009\n",
      "97      Philadelphia  unemployment-rate  Pennsylvania     10.3  2009\n",
      "317     Philadelphia        labor-force  Pennsylvania   696073  2010\n",
      "225482  Philadelphia         population  Pennsylvania  1528427  2010\n",
      "85      Philadelphia  unemployment-rate  Pennsylvania     11.2  2010\n",
      "305     Philadelphia        labor-force  Pennsylvania   698060  2011\n",
      "307067  Philadelphia         population  Pennsylvania  1539022  2011\n",
      "73      Philadelphia  unemployment-rate  Pennsylvania     11.7  2011\n",
      "293     Philadelphia        labor-force  Pennsylvania   709570  2012\n",
      "388652  Philadelphia         population  Pennsylvania  1550379  2012\n",
      "61      Philadelphia  unemployment-rate  Pennsylvania     12.0  2012\n",
      "281     Philadelphia        labor-force  Pennsylvania   705946  2013\n",
      "470237  Philadelphia         population  Pennsylvania  1555868  2013\n",
      "49      Philadelphia  unemployment-rate  Pennsylvania     11.0  2013\n",
      "269     Philadelphia        labor-force  Pennsylvania   698219  2014\n",
      "551822  Philadelphia         population  Pennsylvania  1560609  2014\n",
      "37      Philadelphia  unemployment-rate  Pennsylvania      8.9  2014\n",
      "257     Philadelphia        labor-force  Pennsylvania   701763  2015\n",
      "633407  Philadelphia         population  Pennsylvania  1564964  2015\n",
      "25      Philadelphia  unemployment-rate  Pennsylvania      8.0  2015\n",
      "245     Philadelphia        labor-force  Pennsylvania   715091  2016\n",
      "714992  Philadelphia         population  Pennsylvania  1567872  2016\n",
      "13      Philadelphia  unemployment-rate  Pennsylvania      7.6  2016\n",
      "Years: [2008 2009 2010 2011 2012 2013 2014 2015 2016]\n",
      "Labor Force: [641086 663457 696073 698060 709570 705946 698219 701763 715091]\n",
      "Population: [1540351 1547297 1528427 1539022 1550379 1555868 1560609 1564964 1567872]\n",
      "Ratios: [ 41.61947504  42.87845191  45.54178904  45.35737631  45.76751878\n"
     ]
    },
    {
     "name": "stdout",
     "output_type": "stream",
     "text": [
      "  45.37312934  44.74016233  44.84211777  45.60901655]\n",
      "Washington\n",
      "              City            Measure                 State   Value  Year\n",
      "2085    Washington        labor-force  District of Columbia  339374  2008\n",
      "822044  Washington         population  District of Columbia  590074  2008\n",
      "1271    Washington  unemployment-rate  District of Columbia     6.6  2008\n",
      "2073    Washington        labor-force  District of Columbia  344905  2009\n",
      "903747  Washington         population  District of Columbia  599657  2009\n",
      "1259    Washington  unemployment-rate  District of Columbia     9.6  2009\n",
      "2061    Washington        labor-force  District of Columbia  356243  2010\n",
      "168196  Washington         population  District of Columbia  605183  2010\n",
      "1247    Washington  unemployment-rate  District of Columbia     9.4  2010\n",
      "2049    Washington        labor-force  District of Columbia  358056  2011\n",
      "249781  Washington         population  District of Columbia  620477  2011\n",
      "1235    Washington  unemployment-rate  District of Columbia    10.7  2011\n",
      "2037    Washington        labor-force  District of Columbia  372307  2012\n",
      "331366  Washington         population  District of Columbia  635327  2012\n",
      "1223    Washington  unemployment-rate  District of Columbia     9.0  2012\n",
      "2025    Washington        labor-force  District of Columbia  379513  2013\n",
      "412951  Washington         population  District of Columbia  649165  2013\n",
      "1211    Washington  unemployment-rate  District of Columbia     8.7  2013\n",
      "2013    Washington        labor-force  District of Columbia  384048  2014\n",
      "494536  Washington         population  District of Columbia  659005  2014\n",
      "1199    Washington  unemployment-rate  District of Columbia     8.1  2014\n",
      "2001    Washington        labor-force  District of Columbia  393728  2015\n",
      "576121  Washington         population  District of Columbia  670377  2015\n",
      "1187    Washington  unemployment-rate  District of Columbia     7.0  2015\n",
      "1989    Washington        labor-force  District of Columbia  397407  2016\n",
      "657706  Washington         population  District of Columbia  681170  2016\n",
      "1175    Washington  unemployment-rate  District of Columbia     6.3  2016\n",
      "Years: [2008 2009 2010 2011 2012 2013 2014 2015 2016]\n",
      "Labor Force: [339374 344905 356243 358056 372307 379513 384048 393728 397407]\n",
      "Population: [590074 599657 605183 620477 635327 649165 659005 670377 681170]\n",
      "Ratios: [ 57.51380335  57.51704725  58.86533495  57.70657091  58.60084649\n",
      "  58.4617162   58.27694782  58.73232524  58.34182363]\n"
     ]
    },
    {
     "data": {
      "image/png": "[encoded data removed]",
      "text/plain": [
       "<matplotlib.figure.Figure at 0x29e2da20>"
      ]
     },
     "metadata": {},
     "output_type": "display_data"
    }
   ],
   "source": [
    "fig, ax = plt.subplots()\n",
    "\n",
    "for key, grp in dfx.groupby(['City']):\n",
    "    srt = grp.sort_values(['Year','Measure'])\n",
    "    years = srt[srt.Measure==\"labor-force\"].Year.values.astype(\"int\")\n",
    "    lfnData = srt[srt.Measure==\"labor-force\"].Value.values.astype(\"int\")\n",
    "    popData = srt[srt.Measure==\"population\"].Value.values.astype(\"int\")\n",
    "    ratios = (lfnData/popData)*100.0\n",
    "    print(key)\n",
    "    print(srt)\n",
    "    print(\"Years:\", years)\n",
    "    print(\"Labor Force:\", lfnData)\n",
    "    print(\"Population:\", popData)\n",
    "    print(\"Ratios:\", ratios)\n",
    "    ax.plot(years, ratios, label=key)\n",
    "    \n",
    "# Shrink current axis by 20%\n",
    "box = ax.get_position()\n",
    "ax.set_position([box.x0, box.y0, box.width * 0.8, box.height])\n",
    "\n",
    "# Put a legend to the right of the current axis\n",
    "ax.legend(loc='center left', bbox_to_anchor=(1, 0.5))\n",
    "\n",
    "ax.set_title(\"Ratio of Labor Force to Population\")\n",
    "ax.set_ylabel(\"Ratio (%)\")\n",
    "ax.set_xlabel(\"Year\")\n",
    "plt.show()"
   ]
  },
  {
   "cell_type": "code",
   "execution_count": null,
   "metadata": {
    "collapsed": true
   },
   "outputs": [],
   "source": []
  },
  {
   "cell_type": "code",
   "execution_count": null,
   "metadata": {
    "collapsed": true
   },
   "outputs": [],
   "source": []
  },
  {
   "cell_type": "code",
   "execution_count": 25,
   "metadata": {},
   "outputs": [
    {
     "name": "stderr",
     "output_type": "stream",
     "text": [
      "C:\\ProgramData\\Anaconda3\\lib\\site-packages\\statsmodels\\compat\\pandas.py:56: FutureWarning: The pandas.core.datetools module is deprecated and will be removed in a future version. Please use the pandas.tseries module instead.\n",
      "  from pandas.core import datetools\n"
     ]
    },
    {
     "name": "stdout",
     "output_type": "stream",
     "text": [
      "key: Dallas city, grp: <class 'pandas.core.frame.DataFrame'>\n"
     ]
    },
    {
     "ename": "NameError",
     "evalue": "name 'datetime' is not defined",
     "output_type": "error",
     "traceback": [
      "\u001b[1;31m---------------------------------------------------------------------------\u001b[0m",
      "\u001b[1;31mNameError\u001b[0m                                 Traceback (most recent call last)",
      "\u001b[1;32m<ipython-input-25-8f8306c2061f>\u001b[0m in \u001b[0;36m<module>\u001b[1;34m()\u001b[0m\n\u001b[0;32m      9\u001b[0m     \u001b[1;31m#ax2.plot(grp['date'], grp['value'], label = \"{}\".format(key))\u001b[0m\u001b[1;33m\u001b[0m\u001b[1;33m\u001b[0m\u001b[0m\n\u001b[0;32m     10\u001b[0m     \u001b[0mprint\u001b[0m\u001b[1;33m(\u001b[0m\u001b[1;34m\"key: {}, grp: {}\"\u001b[0m\u001b[1;33m.\u001b[0m\u001b[0mformat\u001b[0m\u001b[1;33m(\u001b[0m\u001b[0mkey\u001b[0m\u001b[1;33m,\u001b[0m \u001b[0mtype\u001b[0m\u001b[1;33m(\u001b[0m\u001b[0mgrp\u001b[0m\u001b[1;33m)\u001b[0m\u001b[1;33m)\u001b[0m\u001b[1;33m)\u001b[0m\u001b[1;33m\u001b[0m\u001b[0m\n\u001b[1;32m---> 11\u001b[1;33m     \u001b[0mx\u001b[0m \u001b[1;33m=\u001b[0m \u001b[0mlist\u001b[0m\u001b[1;33m(\u001b[0m\u001b[1;33m[\u001b[0m\u001b[0mdatetime\u001b[0m\u001b[1;33m.\u001b[0m\u001b[0mdatetime\u001b[0m\u001b[1;33m.\u001b[0m\u001b[0mstrptime\u001b[0m\u001b[1;33m(\u001b[0m\u001b[0md\u001b[0m\u001b[1;33m,\u001b[0m\u001b[1;34m'%Y/%m'\u001b[0m\u001b[1;33m)\u001b[0m\u001b[1;33m.\u001b[0m\u001b[0mdate\u001b[0m\u001b[1;33m(\u001b[0m\u001b[1;33m)\u001b[0m \u001b[1;32mfor\u001b[0m \u001b[0md\u001b[0m \u001b[1;32min\u001b[0m \u001b[0mgrp\u001b[0m\u001b[1;33m.\u001b[0m\u001b[0mdate\u001b[0m\u001b[1;33m.\u001b[0m\u001b[0mvalues\u001b[0m\u001b[1;33m]\u001b[0m\u001b[1;33m)\u001b[0m\u001b[1;33m\u001b[0m\u001b[0m\n\u001b[0m\u001b[0;32m     12\u001b[0m     \u001b[0my\u001b[0m \u001b[1;33m=\u001b[0m \u001b[0mlist\u001b[0m\u001b[1;33m(\u001b[0m\u001b[0mgrp\u001b[0m\u001b[1;33m.\u001b[0m\u001b[0mvalue\u001b[0m\u001b[1;33m.\u001b[0m\u001b[0mvalues\u001b[0m\u001b[1;33m)\u001b[0m\u001b[1;33m\u001b[0m\u001b[0m\n\u001b[0;32m     13\u001b[0m     \u001b[0max2\u001b[0m\u001b[1;33m.\u001b[0m\u001b[0mplot\u001b[0m\u001b[1;33m(\u001b[0m\u001b[0mx\u001b[0m\u001b[1;33m,\u001b[0m \u001b[0my\u001b[0m\u001b[1;33m,\u001b[0m \u001b[0mlabel\u001b[0m\u001b[1;33m=\u001b[0m\u001b[0mkey\u001b[0m\u001b[1;33m)\u001b[0m\u001b[1;33m\u001b[0m\u001b[0m\n",
      "\u001b[1;32m<ipython-input-25-8f8306c2061f>\u001b[0m in \u001b[0;36m<listcomp>\u001b[1;34m(.0)\u001b[0m\n\u001b[0;32m      9\u001b[0m     \u001b[1;31m#ax2.plot(grp['date'], grp['value'], label = \"{}\".format(key))\u001b[0m\u001b[1;33m\u001b[0m\u001b[1;33m\u001b[0m\u001b[0m\n\u001b[0;32m     10\u001b[0m     \u001b[0mprint\u001b[0m\u001b[1;33m(\u001b[0m\u001b[1;34m\"key: {}, grp: {}\"\u001b[0m\u001b[1;33m.\u001b[0m\u001b[0mformat\u001b[0m\u001b[1;33m(\u001b[0m\u001b[0mkey\u001b[0m\u001b[1;33m,\u001b[0m \u001b[0mtype\u001b[0m\u001b[1;33m(\u001b[0m\u001b[0mgrp\u001b[0m\u001b[1;33m)\u001b[0m\u001b[1;33m)\u001b[0m\u001b[1;33m)\u001b[0m\u001b[1;33m\u001b[0m\u001b[0m\n\u001b[1;32m---> 11\u001b[1;33m     \u001b[0mx\u001b[0m \u001b[1;33m=\u001b[0m \u001b[0mlist\u001b[0m\u001b[1;33m(\u001b[0m\u001b[1;33m[\u001b[0m\u001b[0mdatetime\u001b[0m\u001b[1;33m.\u001b[0m\u001b[0mdatetime\u001b[0m\u001b[1;33m.\u001b[0m\u001b[0mstrptime\u001b[0m\u001b[1;33m(\u001b[0m\u001b[0md\u001b[0m\u001b[1;33m,\u001b[0m\u001b[1;34m'%Y/%m'\u001b[0m\u001b[1;33m)\u001b[0m\u001b[1;33m.\u001b[0m\u001b[0mdate\u001b[0m\u001b[1;33m(\u001b[0m\u001b[1;33m)\u001b[0m \u001b[1;32mfor\u001b[0m \u001b[0md\u001b[0m \u001b[1;32min\u001b[0m \u001b[0mgrp\u001b[0m\u001b[1;33m.\u001b[0m\u001b[0mdate\u001b[0m\u001b[1;33m.\u001b[0m\u001b[0mvalues\u001b[0m\u001b[1;33m]\u001b[0m\u001b[1;33m)\u001b[0m\u001b[1;33m\u001b[0m\u001b[0m\n\u001b[0m\u001b[0;32m     12\u001b[0m     \u001b[0my\u001b[0m \u001b[1;33m=\u001b[0m \u001b[0mlist\u001b[0m\u001b[1;33m(\u001b[0m\u001b[0mgrp\u001b[0m\u001b[1;33m.\u001b[0m\u001b[0mvalue\u001b[0m\u001b[1;33m.\u001b[0m\u001b[0mvalues\u001b[0m\u001b[1;33m)\u001b[0m\u001b[1;33m\u001b[0m\u001b[0m\n\u001b[0;32m     13\u001b[0m     \u001b[0max2\u001b[0m\u001b[1;33m.\u001b[0m\u001b[0mplot\u001b[0m\u001b[1;33m(\u001b[0m\u001b[0mx\u001b[0m\u001b[1;33m,\u001b[0m \u001b[0my\u001b[0m\u001b[1;33m,\u001b[0m \u001b[0mlabel\u001b[0m\u001b[1;33m=\u001b[0m\u001b[0mkey\u001b[0m\u001b[1;33m)\u001b[0m\u001b[1;33m\u001b[0m\u001b[0m\n",
      "\u001b[1;31mNameError\u001b[0m: name 'datetime' is not defined"
     ]
    },
    {
     "data": {
      "image/png": "[encoded data removed]",
      "text/plain": [
       "<matplotlib.figure.Figure at 0xae64828>"
      ]
     },
     "metadata": {},
     "output_type": "display_data"
    }
   ],
   "source": [
    "import pandas as pd\n",
    "import statsmodels.api as sm\n",
    "import matplotlib.pylab as plt\n",
    "from pandas.tools.plotting import andrews_curves\n",
    "\n",
    "fig, (ax1, ax2) = plt.subplots(nrows = 2, ncols = 1)\n",
    "\n",
    "for key, grp in df.groupby(['city']): \n",
    "    #ax2.plot(grp['date'], grp['value'], label = \"{}\".format(key))\n",
    "    print(\"key: {}, grp: {}\".format(key, type(grp)))\n",
    "    x = list([datetime.datetime.strptime(d,'%Y/%m').date() for d in grp.date.values])\n",
    "    y = list(grp.value.values)\n",
    "    ax2.plot(x, y, label=key)\n",
    "\n",
    "plt.legend(loc='right')    \n",
    "plt.show()"
   ]
  },
  {
   "cell_type": "code",
   "execution_count": 26,
   "metadata": {},
   "outputs": [
    {
     "data": {
      "text/html": [
       "<div>\n",
       "<style>\n",
       "    .dataframe thead tr:only-child th {\n",
       "        text-align: right;\n",
       "    }\n",
       "\n",
       "    .dataframe thead th {\n",
       "        text-align: left;\n",
       "    }\n",
       "\n",
       "    .dataframe tbody tr th {\n",
       "        vertical-align: top;\n",
       "    }\n",
       "</style>\n",
       "<table border=\"1\" class=\"dataframe\">\n",
       "  <thead>\n",
       "    <tr style=\"text-align: right;\">\n",
       "      <th></th>\n",
       "      <th>seriesid</th>\n",
       "      <th>year</th>\n",
       "      <th>month</th>\n",
       "      <th>period</th>\n",
       "      <th>date</th>\n",
       "      <th>state</th>\n",
       "      <th>city</th>\n",
       "      <th>measure</th>\n",
       "      <th>value</th>\n",
       "      <th>footnotes</th>\n",
       "    </tr>\n",
       "  </thead>\n",
       "  <tbody>\n",
       "    <tr>\n",
       "      <th>0</th>\n",
       "      <td>LAUCT426000000000003</td>\n",
       "      <td>2017</td>\n",
       "      <td>August</td>\n",
       "      <td>M08</td>\n",
       "      <td>2017/08</td>\n",
       "      <td>Pennsylvania</td>\n",
       "      <td>Philadelphia County/city</td>\n",
       "      <td>unemployment-rate</td>\n",
       "      <td>6.7</td>\n",
       "      <td>Preliminary.</td>\n",
       "    </tr>\n",
       "    <tr>\n",
       "      <th>1</th>\n",
       "      <td>LAUCT426000000000003</td>\n",
       "      <td>2017</td>\n",
       "      <td>July</td>\n",
       "      <td>M07</td>\n",
       "      <td>2017/07</td>\n",
       "      <td>Pennsylvania</td>\n",
       "      <td>Philadelphia County/city</td>\n",
       "      <td>unemployment-rate</td>\n",
       "      <td>6.9</td>\n",
       "      <td></td>\n",
       "    </tr>\n",
       "    <tr>\n",
       "      <th>2</th>\n",
       "      <td>LAUCT426000000000003</td>\n",
       "      <td>2017</td>\n",
       "      <td>June</td>\n",
       "      <td>M06</td>\n",
       "      <td>2017/06</td>\n",
       "      <td>Pennsylvania</td>\n",
       "      <td>Philadelphia County/city</td>\n",
       "      <td>unemployment-rate</td>\n",
       "      <td>6.4</td>\n",
       "      <td></td>\n",
       "    </tr>\n",
       "    <tr>\n",
       "      <th>3</th>\n",
       "      <td>LAUCT426000000000003</td>\n",
       "      <td>2017</td>\n",
       "      <td>May</td>\n",
       "      <td>M05</td>\n",
       "      <td>2017/05</td>\n",
       "      <td>Pennsylvania</td>\n",
       "      <td>Philadelphia County/city</td>\n",
       "      <td>unemployment-rate</td>\n",
       "      <td>6.7</td>\n",
       "      <td></td>\n",
       "    </tr>\n",
       "    <tr>\n",
       "      <th>4</th>\n",
       "      <td>LAUCT426000000000003</td>\n",
       "      <td>2017</td>\n",
       "      <td>April</td>\n",
       "      <td>M04</td>\n",
       "      <td>2017/04</td>\n",
       "      <td>Pennsylvania</td>\n",
       "      <td>Philadelphia County/city</td>\n",
       "      <td>unemployment-rate</td>\n",
       "      <td>5.9</td>\n",
       "      <td></td>\n",
       "    </tr>\n",
       "  </tbody>\n",
       "</table>\n",
       "</div>"
      ],
      "text/plain": [
       "               seriesid  year   month period     date         state  \\\n",
       "0  LAUCT426000000000003  2017  August    M08  2017/08  Pennsylvania   \n",
       "1  LAUCT426000000000003  2017    July    M07  2017/07  Pennsylvania   \n",
       "2  LAUCT426000000000003  2017    June    M06  2017/06  Pennsylvania   \n",
       "3  LAUCT426000000000003  2017     May    M05  2017/05  Pennsylvania   \n",
       "4  LAUCT426000000000003  2017   April    M04  2017/04  Pennsylvania   \n",
       "\n",
       "                       city            measure value     footnotes  \n",
       "0  Philadelphia County/city  unemployment-rate   6.7  Preliminary.  \n",
       "1  Philadelphia County/city  unemployment-rate   6.9                \n",
       "2  Philadelphia County/city  unemployment-rate   6.4                \n",
       "3  Philadelphia County/city  unemployment-rate   6.7                \n",
       "4  Philadelphia County/city  unemployment-rate   5.9                "
      ]
     },
     "execution_count": 26,
     "metadata": {},
     "output_type": "execute_result"
    }
   ],
   "source": [
    "df.head()"
   ]
  },
  {
   "cell_type": "code",
   "execution_count": 27,
   "metadata": {},
   "outputs": [
    {
     "name": "stdout",
     "output_type": "stream",
     "text": [
      "city: Dallas city         \tearliest: 4.9\t latest: 4.1\tdelta: -0.80\n",
      "city: Philadelphia County/city\tearliest: 6.9\t latest: 6.7\tdelta: -0.20\n",
      "city: Phoenix city        \tearliest: 4.8\t latest: 4.4\tdelta: -0.40\n",
      "city: San Antonio city    \tearliest: 4.2\t latest: 3.7\tdelta: -0.50\n",
      "city: San Diego city      \tearliest: 5.1\t latest: 4.5\tdelta: -0.60\n"
     ]
    }
   ],
   "source": [
    "for key, grp in df.groupby(['city']):\n",
    "    earliest = float(grp.sort_values(['date']).head(1).value.values[0])\n",
    "    latest   = float(grp.sort_values(['date']).tail(1).value.values[0])\n",
    "    print(\"city: {0:20s}\\tearliest: {1}\\t latest: {2}\\tdelta: {3:-5.2f}\".format(key,earliest,latest,latest-earliest))\n"
   ]
  },
  {
   "cell_type": "code",
   "execution_count": 28,
   "metadata": {},
   "outputs": [
    {
     "name": "stdout",
     "output_type": "stream",
     "text": [
      "city: Dallas city         \tearliest: 4.9\t latest: 4.1\tdelta: -0.80\n",
      "city: Philadelphia County/city\tearliest: 6.9\t latest: 6.7\tdelta: -0.20\n",
      "city: Phoenix city        \tearliest: 4.8\t latest: 4.4\tdelta: -0.40\n",
      "city: San Antonio city    \tearliest: 4.2\t latest: 3.7\tdelta: -0.50\n",
      "city: San Diego city      \tearliest: 5.1\t latest: 4.5\tdelta: -0.60\n"
     ]
    },
    {
     "data": {
      "text/plain": [
       "[<matplotlib.text.Text at 0xd2edc18>,\n",
       " <matplotlib.text.Text at 0xd3f42e8>,\n",
       " <matplotlib.text.Text at 0xd456588>,\n",
       " <matplotlib.text.Text at 0xd456f60>,\n",
       " <matplotlib.text.Text at 0xd45e978>]"
      ]
     },
     "execution_count": 28,
     "metadata": {},
     "output_type": "execute_result"
    },
    {
     "data": {
      "image/png": "[encoded data removed]",
      "text/plain": [
       "<matplotlib.figure.Figure at 0xd2a6630>"
      ]
     },
     "metadata": {},
     "output_type": "display_data"
    }
   ],
   "source": [
    "fig, ax = plt.subplots()\n",
    "\n",
    "deltas = []\n",
    "cities = []\n",
    "\n",
    "for key, grp in df.groupby(['city']):\n",
    "    earliest = float(grp.sort_values(['date']).head(1).value.values[0])\n",
    "    latest   = float(grp.sort_values(['date']).tail(1).value.values[0])\n",
    "    delta = latest-earliest\n",
    "    print(\"city: {0:20s}\\tearliest: {1}\\t latest: {2}\\tdelta: {3:-5.2f}\".format(key,earliest,latest,delta))\n",
    "    cities.append(trimCityName(key))\n",
    "    deltas.append(delta)\n",
    "\n",
    "ind = np.arange(len(deltas))\n",
    "width = 0.5\n",
    "\n",
    "ax.plot(ind, [0,0,0,0,0], \"r--\")\n",
    "ax.bar(ind, deltas, width)\n",
    "\n",
    "ax.set_ylabel('% Change')\n",
    "ax.set_title('% Change in Unemployment, 2008-2017')\n",
    "ax.set_xticks(ind)\n",
    "ax.set_xticklabels((cities))\n"
   ]
  },
  {
   "cell_type": "markdown",
   "metadata": {},
   "source": [
    "# load the national unemployment data\n",
    "file created from data presented at: http://www.ncsl.org/research/labor-and-employment/national-employment-monthly-update.aspx"
   ]
  },
  {
   "cell_type": "code",
   "execution_count": 29,
   "metadata": {
    "collapsed": true
   },
   "outputs": [],
   "source": [
    "file = open(\"bls-national-unemployment.raw\", \"r\")\n",
    "data = []\n",
    "\n",
    "count = 0\n",
    "for line in file.readlines():\n",
    "    count += 1\n",
    "    line2 = re.sub(' +',' ', line.rstrip())\n",
    "    fields = [f.strip() for f in line2.split(\"\\t\")]\n",
    "    #print(count,fields)\n",
    "    data.append(fields)\n",
    "    \n",
    "file.close()"
   ]
  },
  {
   "cell_type": "code",
   "execution_count": 30,
   "metadata": {
    "collapsed": true
   },
   "outputs": [],
   "source": [
    "data2 = []\n",
    "for i in range(1, len(data)):\n",
    "    #print(i, data[i])\n",
    "    row = data[i]\n",
    "    year = row[0]\n",
    "    for j in range(1,len(row)):\n",
    "        month = \"{0:02}\".format(j)\n",
    "        #print(i,j,year,month,row[j])\n",
    "        row2 = [\"national-unemployment\",\"{}/{}\".format(year,month),row[j]]\n",
    "        data2.append(row2)"
   ]
  },
  {
   "cell_type": "code",
   "execution_count": 31,
   "metadata": {
    "collapsed": true
   },
   "outputs": [],
   "source": [
    "df2 = pd.DataFrame(data2, columns=[\"measure\",\"date\",\"value\"])\n",
    "df2 = df2.sort_values('date')"
   ]
  },
  {
   "cell_type": "code",
   "execution_count": 32,
   "metadata": {},
   "outputs": [
    {
     "data": {
      "text/html": [
       "<div>\n",
       "<style>\n",
       "    .dataframe thead tr:only-child th {\n",
       "        text-align: right;\n",
       "    }\n",
       "\n",
       "    .dataframe thead th {\n",
       "        text-align: left;\n",
       "    }\n",
       "\n",
       "    .dataframe tbody tr th {\n",
       "        vertical-align: top;\n",
       "    }\n",
       "</style>\n",
       "<table border=\"1\" class=\"dataframe\">\n",
       "  <thead>\n",
       "    <tr style=\"text-align: right;\">\n",
       "      <th></th>\n",
       "      <th>measure</th>\n",
       "      <th>date</th>\n",
       "      <th>value</th>\n",
       "    </tr>\n",
       "  </thead>\n",
       "  <tbody>\n",
       "    <tr>\n",
       "      <th>105</th>\n",
       "      <td>national-unemployment</td>\n",
       "      <td>2008/01</td>\n",
       "      <td>4.9</td>\n",
       "    </tr>\n",
       "    <tr>\n",
       "      <th>106</th>\n",
       "      <td>national-unemployment</td>\n",
       "      <td>2008/02</td>\n",
       "      <td>4.8</td>\n",
       "    </tr>\n",
       "    <tr>\n",
       "      <th>107</th>\n",
       "      <td>national-unemployment</td>\n",
       "      <td>2008/03</td>\n",
       "      <td>5.1</td>\n",
       "    </tr>\n",
       "    <tr>\n",
       "      <th>108</th>\n",
       "      <td>national-unemployment</td>\n",
       "      <td>2008/04</td>\n",
       "      <td>5.0</td>\n",
       "    </tr>\n",
       "    <tr>\n",
       "      <th>109</th>\n",
       "      <td>national-unemployment</td>\n",
       "      <td>2008/05</td>\n",
       "      <td>5.5</td>\n",
       "    </tr>\n",
       "  </tbody>\n",
       "</table>\n",
       "</div>"
      ],
      "text/plain": [
       "                   measure     date value\n",
       "105  national-unemployment  2008/01   4.9\n",
       "106  national-unemployment  2008/02   4.8\n",
       "107  national-unemployment  2008/03   5.1\n",
       "108  national-unemployment  2008/04   5.0\n",
       "109  national-unemployment  2008/05   5.5"
      ]
     },
     "execution_count": 32,
     "metadata": {},
     "output_type": "execute_result"
    }
   ],
   "source": [
    "df2.head()"
   ]
  },
  {
   "cell_type": "markdown",
   "metadata": {},
   "source": [
    "# plot a city's data\n",
    "(this is based on the Matplotlib example here: https://matplotlib.org/examples/api/date_demo.html )"
   ]
  },
  {
   "cell_type": "code",
   "execution_count": 33,
   "metadata": {},
   "outputs": [
    {
     "data": {
      "image/png": "[encoded data removed]",
      "text/plain": [
       "<matplotlib.figure.Figure at 0xab11470>"
      ]
     },
     "metadata": {},
     "output_type": "display_data"
    }
   ],
   "source": [
    "\"\"\"\n",
    "================\n",
    "Date tick labels\n",
    "================\n",
    "\n",
    "Show how to make date plots in matplotlib using date tick locators and\n",
    "formatters.  See major_minor_demo1.py for more information on\n",
    "controlling major and minor ticks\n",
    "\n",
    "All matplotlib date plotting is done by converting date instances into\n",
    "days since the 0001-01-01 UTC.  The conversion, tick locating and\n",
    "formatting is done behind the scenes so this is most transparent to\n",
    "you.  The dates module provides several converter functions date2num\n",
    "and num2date\n",
    "\n",
    "\"\"\"\n",
    "import datetime\n",
    "import numpy as np\n",
    "import matplotlib.pyplot as plt\n",
    "import matplotlib.dates as mdates\n",
    "import matplotlib.cbook as cbook\n",
    "\n",
    "years = mdates.YearLocator()   # every year\n",
    "months = mdates.MonthLocator()  # every month\n",
    "yearsFmt = mdates.DateFormatter('%Y')\n",
    "\n",
    "cityName = \"Philadelphia County/city\"\n",
    "cityData = df[df.city==cityName]\n",
    "x = list([datetime.datetime.strptime(d,'%Y/%m').date() for d in cityData.date.values])\n",
    "y = list(cityData.value.values)\n",
    "\n",
    "fig, ax = plt.subplots()\n",
    "ax.plot(x, y)\n",
    "\n",
    "\n",
    "# format the ticks\n",
    "ax.xaxis.set_major_locator(years)\n",
    "ax.xaxis.set_major_formatter(yearsFmt)\n",
    "ax.xaxis.set_minor_locator(months)\n",
    "\n",
    "datemin = datetime.date(min(x).year, 1, 1)\n",
    "datemax = datetime.date(max(x).year + 1, 1, 1)\n",
    "ax.set_xlim(datemin, datemax)\n",
    "\n",
    "\n",
    "# format the coords message box\n",
    "def price(x):\n",
    "    return '%1.2f' % x\n",
    "ax.format_xdata = mdates.DateFormatter('%Y-%m')\n",
    "ax.format_ydata = price\n",
    "ax.grid(True)\n",
    "\n",
    "# rotates and right aligns the x labels, and moves the bottom of the\n",
    "# axes up to make room for them\n",
    "fig.autofmt_xdate()\n",
    "\n",
    "plt.title(\"{} Unemployment, 2008-2017\".format(trimCityName(cityName)))\n",
    "plt.xlabel(\"Year\")\n",
    "plt.ylabel(\"Unemployment %\")\n",
    "plt.legend([trimCityName(cityName)])\n",
    "plt.show()"
   ]
  },
  {
   "cell_type": "markdown",
   "metadata": {},
   "source": [
    "# plot the national data"
   ]
  },
  {
   "cell_type": "code",
   "execution_count": 34,
   "metadata": {},
   "outputs": [
    {
     "data": {
      "image/png": "[encoded data removed]",
      "text/plain": [
       "<matplotlib.figure.Figure at 0xdb3a780>"
      ]
     },
     "metadata": {},
     "output_type": "display_data"
    }
   ],
   "source": [
    "import datetime\n",
    "import numpy as np\n",
    "import matplotlib.pyplot as plt\n",
    "import matplotlib.dates as mdates\n",
    "import matplotlib.cbook as cbook\n",
    "\n",
    "years = mdates.YearLocator()   # every year\n",
    "months = mdates.MonthLocator()  # every month\n",
    "yearsFmt = mdates.DateFormatter('%Y')\n",
    "\n",
    "x = list([datetime.datetime.strptime(d,'%Y/%m').date() for d in df2.date.values])\n",
    "y = list(df2.value.values)\n",
    "\n",
    "fig, ax = plt.subplots()\n",
    "ax.plot(x, y)\n",
    "\n",
    "\n",
    "# format the ticks\n",
    "ax.xaxis.set_major_locator(years)\n",
    "ax.xaxis.set_major_formatter(yearsFmt)\n",
    "ax.xaxis.set_minor_locator(months)\n",
    "\n",
    "datemin = datetime.date(min(x).year, 1, 1)\n",
    "datemax = datetime.date(max(x).year + 1, 1, 1)\n",
    "ax.set_xlim(datemin, datemax)\n",
    "\n",
    "\n",
    "# format the coords message box\n",
    "def price(x):\n",
    "    return '%1.2f' % x\n",
    "ax.format_xdata = mdates.DateFormatter('%Y-%m')\n",
    "ax.format_ydata = price\n",
    "ax.grid(True)\n",
    "\n",
    "# rotates and right aligns the x labels, and moves the bottom of the\n",
    "# axes up to make room for them\n",
    "fig.autofmt_xdate()\n",
    "\n",
    "plt.title(\"National Unemployment, 2008-2017\")\n",
    "plt.xlabel(\"Year\")\n",
    "plt.ylabel(\"Unemployment %\")\n",
    "plt.legend(['National'])\n",
    "plt.show()"
   ]
  },
  {
   "cell_type": "markdown",
   "metadata": {},
   "source": [
    "# plot both national and city data"
   ]
  },
  {
   "cell_type": "code",
   "execution_count": 35,
   "metadata": {},
   "outputs": [
    {
     "data": {
      "image/png": "[encoded data removed]",
      "text/plain": [
       "<matplotlib.figure.Figure at 0xd2e0c50>"
      ]
     },
     "metadata": {},
     "output_type": "display_data"
    }
   ],
   "source": [
    "import datetime\n",
    "import numpy as np\n",
    "import matplotlib.pyplot as plt\n",
    "import matplotlib.dates as mdates\n",
    "import matplotlib.cbook as cbook\n",
    "\n",
    "years = mdates.YearLocator()   # every year\n",
    "months = mdates.MonthLocator()  # every month\n",
    "yearsFmt = mdates.DateFormatter('%Y')\n",
    "\n",
    "x1 = list([datetime.datetime.strptime(d,'%Y/%m').date() for d in df2.date.values])\n",
    "y1 = list(df2.value.values)\n",
    "\n",
    "cityName = \"Philadelphia County/city\"\n",
    "cityData = df[df.city==cityName]\n",
    "x2 = list([datetime.datetime.strptime(d,'%Y/%m').date() for d in cityData.date.values])\n",
    "y2 = list(cityData.value.values)\n",
    "\n",
    "fig, ax = plt.subplots()\n",
    "ax.plot(x1, y1, x2, y2)\n",
    "\n",
    "\n",
    "# format the ticks\n",
    "ax.xaxis.set_major_locator(years)\n",
    "ax.xaxis.set_major_formatter(yearsFmt)\n",
    "ax.xaxis.set_minor_locator(months)\n",
    "\n",
    "datemin = datetime.date(min(x).year, 1, 1)\n",
    "datemax = datetime.date(max(x).year + 1, 1, 1)\n",
    "ax.set_xlim(datemin, datemax)\n",
    "\n",
    "\n",
    "# format the coords message box\n",
    "def price(x):\n",
    "    return '%1.2f' % x\n",
    "ax.format_xdata = mdates.DateFormatter('%Y-%m')\n",
    "ax.format_ydata = price\n",
    "ax.grid(True)\n",
    "\n",
    "# rotates and right aligns the x labels, and moves the bottom of the\n",
    "# axes up to make room for them\n",
    "fig.autofmt_xdate()\n",
    "\n",
    "plt.title(\"Unemployment, 2008-2017\")\n",
    "plt.xlabel(\"Year\")\n",
    "plt.ylabel(\"Unemployment %\")\n",
    "plt.legend(['National',trimCityName(cityName)])\n",
    "plt.show()"
   ]
  },
  {
   "cell_type": "markdown",
   "metadata": {
    "collapsed": true
   },
   "source": [
    "# plot the national and all the fetched cities data"
   ]
  },
  {
   "cell_type": "code",
   "execution_count": 36,
   "metadata": {},
   "outputs": [
    {
     "name": "stdout",
     "output_type": "stream",
     "text": [
      "key: Dallas city, grp: <class 'pandas.core.frame.DataFrame'>\n",
      "key: Philadelphia County/city, grp: <class 'pandas.core.frame.DataFrame'>\n",
      "key: Phoenix city, grp: <class 'pandas.core.frame.DataFrame'>\n",
      "key: San Antonio city, grp: <class 'pandas.core.frame.DataFrame'>\n",
      "key: San Diego city, grp: <class 'pandas.core.frame.DataFrame'>\n"
     ]
    },
    {
     "data": {
      "image/png": "[encoded data removed]",
      "text/plain": [
       "<matplotlib.figure.Figure at 0xdde7860>"
      ]
     },
     "metadata": {},
     "output_type": "display_data"
    }
   ],
   "source": [
    "import datetime\n",
    "import numpy as np\n",
    "import matplotlib.pyplot as plt\n",
    "import matplotlib.dates as mdates\n",
    "import matplotlib.cbook as cbook\n",
    "\n",
    "years = mdates.YearLocator()   # every year\n",
    "months = mdates.MonthLocator()  # every month\n",
    "yearsFmt = mdates.DateFormatter('%Y')\n",
    "\n",
    "fig, ax = plt.subplots()\n",
    "\n",
    "# national data\n",
    "x = list([datetime.datetime.strptime(d,'%Y/%m').date() for d in df2.date.values])\n",
    "y = list(df2.value.values)\n",
    "ax.plot(x, y, label=\"National\")\n",
    "\n",
    "for key, grp in df.groupby(['city']): \n",
    "    print(\"key: {}, grp: {}\".format(key, type(grp)))\n",
    "    x = list([datetime.datetime.strptime(d,'%Y/%m').date() for d in grp.date.values])\n",
    "    y = list(grp.value.values)\n",
    "    ax.plot(x, y, label=trimCityName(key))\n",
    "    \n",
    "# format the ticks\n",
    "ax.xaxis.set_major_locator(years)\n",
    "ax.xaxis.set_major_formatter(yearsFmt)\n",
    "ax.xaxis.set_minor_locator(months)\n",
    "\n",
    "datemin = datetime.date(min(x).year, 1, 1)\n",
    "datemax = datetime.date(max(x).year + 1, 1, 1)\n",
    "ax.set_xlim(datemin, datemax)\n",
    "\n",
    "\n",
    "# format the coords message box\n",
    "def price(x):\n",
    "    return '%1.2f' % x\n",
    "ax.format_xdata = mdates.DateFormatter('%Y-%m')\n",
    "ax.format_ydata = price\n",
    "ax.grid(True)\n",
    "\n",
    "# rotates and right aligns the x labels, and moves the bottom of the\n",
    "# axes up to make room for them\n",
    "fig.autofmt_xdate()\n",
    "\n",
    "plt.title(\"Unemployment, 2008-2017\")\n",
    "plt.xlabel(\"Year\")\n",
    "plt.ylabel(\"Unemployment %\")\n",
    "plt.legend(loc='upper center', bbox_to_anchor=(1.3, 1.0), ncol=1)\n",
    "plt.show()"
   ]
  },
  {
   "cell_type": "markdown",
   "metadata": {},
   "source": [
    "# plot a lot of things together!"
   ]
  },
  {
   "cell_type": "code",
   "execution_count": 37,
   "metadata": {},
   "outputs": [
    {
     "name": "stdout",
     "output_type": "stream",
     "text": [
      "city: Dallas               earliest: 4.9 latest: 4.1 delta: -0.80\n",
      "city: Philadelphia         earliest: 6.9 latest: 6.7 delta: -0.20\n",
      "city: Phoenix              earliest: 4.8 latest: 4.4 delta: -0.40\n",
      "city: San Antonio          earliest: 4.2 latest: 3.7 delta: -0.50\n",
      "city: San Diego            earliest: 5.1 latest: 4.5 delta: -0.60\n"
     ]
    },
    {
     "data": {
      "image/png": "[encoded data removed]",
      "text/plain": [
       "<matplotlib.figure.Figure at 0xd4b2240>"
      ]
     },
     "metadata": {},
     "output_type": "display_data"
    }
   ],
   "source": [
    "plt.figure(figsize=(8, 6))\n",
    "axs = []\n",
    "ax0 = plt.subplot2grid((6,5), (0,0), colspan=10, rowspan=4)\n",
    "axs.append(plt.subplot2grid((5,5), (4,0), colspan=1))\n",
    "axs.append(plt.subplot2grid((5,5), (4,1), colspan=1))\n",
    "axs.append(plt.subplot2grid((5,5), (4,2), colspan=1))\n",
    "axs.append(plt.subplot2grid((5,5), (4,3), colspan=1))\n",
    "axs.append(plt.subplot2grid((5,5), (4,4), colspan=1))\n",
    "\n",
    "deltas = []\n",
    "cities = []\n",
    "\n",
    "for key, grp in df.groupby(['city']):\n",
    "    earliest = float(grp.sort_values(['date']).head(1).value.values[0])\n",
    "    latest   = float(grp.sort_values(['date']).tail(1).value.values[0])\n",
    "    delta = latest-earliest\n",
    "    print(\"city: {0:20s} earliest: {1} latest: {2} delta: {3:-5.2f}\".format(trimCityName(key),earliest,latest,delta))\n",
    "    cities.append(trimCityName(key))\n",
    "    deltas.append(delta)\n",
    "\n",
    "ind = np.arange(len(deltas))\n",
    "width = 0.75\n",
    "\n",
    "ax0.plot(ind, [0,0,0,0,0], \"r--\")\n",
    "ax0.bar(ind, deltas, width)\n",
    "\n",
    "ax0.set_ylabel('% Change')\n",
    "ax0.set_title('% Change in Unemployment, 2008-2017')\n",
    "ax0.set_xticks(ind)\n",
    "ax0.set_xticklabels((cities))\n",
    "\n",
    "\n",
    "\n",
    "years = mdates.YearLocator()   # every year\n",
    "months = mdates.MonthLocator()  # every month\n",
    "yearsFmt = mdates.DateFormatter('%Y')\n",
    "\n",
    "# national data\n",
    "nat_x = list([datetime.datetime.strptime(d,'%Y/%m').date() for d in df2.date.values])\n",
    "nat_y = list(df2.value.values)\n",
    "\n",
    "count = -1\n",
    "for key, grp in df.groupby(['city']): \n",
    "    count += 1\n",
    "    #print(\"key: {}, grp: {}\".format(key, type(grp)))\n",
    "    x = list([datetime.datetime.strptime(d,'%Y/%m').date() for d in grp.date.values])\n",
    "    y = list(grp.value.values)\n",
    "    ax = axs[count]\n",
    "    ax.plot(nat_x, nat_y, label='National')\n",
    "    ax.plot(x, y, label=key)\n",
    "    ax.set_ylim(0,12)\n",
    "    for tick in ax.get_xticklabels():\n",
    "        tick.set_rotation(90)\n",
    "    if count >= 0:\n",
    "        xtl = ax.get_xticklabels()\n",
    "        for i in range(1,len(xtl)-2):\n",
    "            tl = xtl[i]\n",
    "            tl.set_visible(False)\n",
    "    if count > 0:\n",
    "        for tl in ax.get_yticklabels():\n",
    "            tl.set_visible(False)\n",
    "    # format the ticks\n",
    "    ax.xaxis.set_major_locator(years)\n",
    "    ax.xaxis.set_major_formatter(yearsFmt)\n",
    "    ax.xaxis.set_minor_locator(months)\n",
    "    # set x-axis min and max\n",
    "    datemin = datetime.date(min(x).year, 1, 1)\n",
    "    datemax = datetime.date(max(x).year, 1, 1)\n",
    "    ax.set_xlim(datemin, datemax)\n",
    "    # set a y-axis label\n",
    "    if count == 0:\n",
    "        ax.set_ylabel(\"Unemployment %\")\n"
   ]
  },
  {
   "cell_type": "code",
   "execution_count": null,
   "metadata": {
    "collapsed": true
   },
   "outputs": [],
   "source": []
  }
 ],
 "metadata": {
  "kernelspec": {
   "display_name": "Python 3",
   "language": "python",
   "name": "python3"
  },
  "language_info": {
   "codemirror_mode": {
    "name": "ipython",
    "version": 3
   },
   "file_extension": ".py",
   "mimetype": "text/x-python",
   "name": "python",
   "nbconvert_exporter": "python",
   "pygments_lexer": "ipython3",
   "version": "3.6.1"
  }
 },
 "nbformat": 4,
 "nbformat_minor": 2
}
