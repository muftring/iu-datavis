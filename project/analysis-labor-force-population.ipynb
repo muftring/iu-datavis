{
 "cells": [
  {
   "cell_type": "markdown",
   "metadata": {},
   "source": [
    "# Philadelphia: a city about to boom?\n",
    "\n",
    "**Michael Uftring**   \n",
    "**Indiana University**   \n",
    "**I590 Data Visualization**   \n",
    "**Fall, 2017**   \n"
   ]
  },
  {
   "cell_type": "code",
   "execution_count": 11,
   "metadata": {
    "collapsed": true
   },
   "outputs": [],
   "source": [
    "import requests\n",
    "import json\n",
    "import prettytable\n",
    "\n",
    "import pandas as pd\n",
    "import numpy as np\n",
    "import matplotlib.pyplot as plt\n",
    "\n",
    "%matplotlib inline"
   ]
  },
  {
   "cell_type": "markdown",
   "metadata": {},
   "source": [
    "# code to: decode Months and Dates"
   ]
  },
  {
   "cell_type": "code",
   "execution_count": 12,
   "metadata": {
    "collapsed": true
   },
   "outputs": [],
   "source": [
    "code2month = {\n",
    "    \"M01\" : \"January\",\n",
    "    \"M02\" : \"February\",\n",
    "    \"M03\" : \"March\",\n",
    "    \"M04\" : \"April\",\n",
    "    \"M05\" : \"May\",\n",
    "    \"M06\" : \"June\",\n",
    "    \"M07\" : \"July\",\n",
    "    \"M08\" : \"August\",\n",
    "    \"M09\" : \"September\",\n",
    "    \"M10\" : \"October\",\n",
    "    \"M11\" : \"November\",\n",
    "    \"M12\" : \"December\"\n",
    "}\n",
    "\n",
    "month2number = {\n",
    "    \"January\" : \"01\",\n",
    "    \"February\" : \"02\",\n",
    "    \"March\" : \"03\",\n",
    "    \"April\" : \"04\",\n",
    "    \"May\" : \"05\",\n",
    "    \"June\" : \"06\",\n",
    "    \"July\" : \"07\",\n",
    "    \"August\" : \"08\",\n",
    "    \"September\" : \"09\",\n",
    "    \"October\" : \"10\",\n",
    "    \"November\" : \"11\",\n",
    "    \"December\" : \"12\"\n",
    "}\n",
    "\n",
    "def dateFrom(year, month):\n",
    "    return \"{}/{}\".format(year,month2number[month])\n"
   ]
  },
  {
   "cell_type": "markdown",
   "metadata": {},
   "source": [
    "# code to: decode the City/Town"
   ]
  },
  {
   "cell_type": "code",
   "execution_count": 13,
   "metadata": {
    "collapsed": true
   },
   "outputs": [],
   "source": [
    "code2citytown = {}\n",
    "citytown2code = {}\n",
    "\n",
    "file = open(\"bls-cities-and-towns.raw\", \"r\")\n",
    "\n",
    "count = 0\n",
    "for line in file.readlines():\n",
    "    count += 1\n",
    "    ignore, code, citytownstate = line.rstrip().split(\">\", 2)[1].split(\" \",2)\n",
    "    citytown, state = citytownstate.split(\",\")\n",
    "    code2citytown[code]=citytown\n",
    "    citytown2code[citytown]=code\n",
    "    #print(\"line: {} code: {} citytownstate: {}, citytown: {}, state: {}\".format(count, code, citytownstate, citytown, state))\n",
    "\n",
    "file.close()\n",
    "\n",
    "def decodeCityTown(s):\n",
    "    code = s[3:len(s)-2]\n",
    "    return code2citytown[code]\n",
    "\n",
    "import re\n",
    "def searchDictionary(d, city):\n",
    "    #print(\"searching for:\", city)\n",
    "    res = []\n",
    "    for key in d.keys():\n",
    "        if re.match(city, key):\n",
    "            res.append(d[key])\n",
    "    return res\n",
    "\n",
    "def findCityTownCode(city):\n",
    "    return searchDictionary(citytown2code, city)\n",
    "\n",
    "def trimCityName(city):\n",
    "    return city.replace(\" city\",\"\").replace(\" County/city\",\"\").replace(\" town\",\"\")"
   ]
  },
  {
   "cell_type": "code",
   "execution_count": 14,
   "metadata": {
    "collapsed": false
   },
   "outputs": [
    {
     "name": "stdout",
     "output_type": "stream",
     "text": [
      "city: Dallas trim: Dallas code: ['CT4819000000000']\n"
     ]
    }
   ],
   "source": [
    "city = \"Dallas\"\n",
    "code = findCityTownCode(city)\n",
    "print(\"city: {} trim: {} code: {}\".format(city, trimCityName(city), code))"
   ]
  },
  {
   "cell_type": "markdown",
   "metadata": {},
   "source": [
    "# code to: decode the State"
   ]
  },
  {
   "cell_type": "code",
   "execution_count": 15,
   "metadata": {
    "collapsed": true
   },
   "outputs": [],
   "source": [
    "code2state = {}\n",
    "\n",
    "file = open(\"bls-state-codes.raw\", \"r\")\n",
    "\n",
    "count = 0\n",
    "for line in file.readlines():\n",
    "    count += 1\n",
    "    ignore, code, state = line.rstrip().split(\">\", 2)[1].split(\" \",2)\n",
    "    code2state[code]=state\n",
    "    #print(\"line: {} code: {} state: {}\".format(count, code, state))\n",
    "\n",
    "file.close()\n",
    "\n",
    "def decodeState(s):\n",
    "    code = s[5:7]\n",
    "    return code2state[code]\n"
   ]
  },
  {
   "cell_type": "markdown",
   "metadata": {},
   "source": [
    "# code to: decode the Measure"
   ]
  },
  {
   "cell_type": "code",
   "execution_count": 16,
   "metadata": {
    "collapsed": true
   },
   "outputs": [],
   "source": [
    "code2measure = {\n",
    "    \"03\" : \"unemployment-rate\",\n",
    "    \"04\" : \"unemployment\",\n",
    "    \"05\" : \"employment\",\n",
    "    \"06\" : \"labor-force\"\n",
    "}\n",
    "\n",
    "measure2Code = {\n",
    "    \"unemployment-rate\" : \"03\",\n",
    "    \"unemployment\" : \"04\",\n",
    "    \"employment\" : \"05\",\n",
    "    \"labor-force\" : \"06\"\n",
    "}\n",
    "\n",
    "def findMeasureCode(s):\n",
    "    return measure2Code[s]\n",
    "\n",
    "def decodeMeasure(s):\n",
    "    code = s[len(s)-2:]\n",
    "    return code2measure[code]\n"
   ]
  },
  {
   "cell_type": "markdown",
   "metadata": {},
   "source": [
    "# input parameters for data request"
   ]
  },
  {
   "cell_type": "code",
   "execution_count": 17,
   "metadata": {
    "collapsed": true
   },
   "outputs": [],
   "source": [
    "cityListGeoRegional = [\"Boston\", \"New York\", \"Philadelphia\", \"Baltimore\", \"Washington city\"]\n",
    "cityListPopSize = [\"Phoenix\", \"Philadelphia\", \"San Antonio\", \"San Diego\", \"Dallas\"]\n",
    "\n",
    "cityList = cityListGeoRegional + cityListPopSize\n",
    "\n",
    "startYear = 2008\n",
    "endYear = 2017\n",
    "\n",
    "seasonalAdjustment = \"no\"\n",
    "\n",
    "measureList = [\"labor-force\", \"employment\", \"unemployment\", \"unemployment-rate\"]"
   ]
  },
  {
   "cell_type": "code",
   "execution_count": 18,
   "metadata": {
    "collapsed": false
   },
   "outputs": [
    {
     "data": {
      "text/plain": [
       "['Boston',\n",
       " 'New York',\n",
       " 'Philadelphia',\n",
       " 'Baltimore',\n",
       " 'Washington city',\n",
       " 'Phoenix',\n",
       " 'Philadelphia',\n",
       " 'San Antonio',\n",
       " 'San Diego',\n",
       " 'Dallas']"
      ]
     },
     "execution_count": 18,
     "metadata": {},
     "output_type": "execute_result"
    }
   ],
   "source": [
    "cityList"
   ]
  },
  {
   "cell_type": "markdown",
   "metadata": {},
   "source": [
    "# construct the BLS Series ID"
   ]
  },
  {
   "cell_type": "code",
   "execution_count": 19,
   "metadata": {
    "collapsed": false
   },
   "outputs": [
    {
     "name": "stdout",
     "output_type": "stream",
     "text": [
      "city: Boston code: ['CT2507000000000'] measure: labor-force code: 06 seriesID: LAUCT250700000000006\n",
      "city: Boston code: ['CT2507000000000'] measure: employment code: 05 seriesID: LAUCT250700000000005\n",
      "city: Boston code: ['CT2507000000000'] measure: unemployment code: 04 seriesID: LAUCT250700000000004\n",
      "city: Boston code: ['CT2507000000000'] measure: unemployment-rate code: 03 seriesID: LAUCT250700000000003\n",
      "city: New York code: ['CT3651000000000'] measure: labor-force code: 06 seriesID: LAUCT365100000000006\n",
      "city: New York code: ['CT3651000000000'] measure: employment code: 05 seriesID: LAUCT365100000000005\n",
      "city: New York code: ['CT3651000000000'] measure: unemployment code: 04 seriesID: LAUCT365100000000004\n",
      "city: New York code: ['CT3651000000000'] measure: unemployment-rate code: 03 seriesID: LAUCT365100000000003\n",
      "city: Philadelphia code: ['CT4260000000000'] measure: labor-force code: 06 seriesID: LAUCT426000000000006\n",
      "city: Philadelphia code: ['CT4260000000000'] measure: employment code: 05 seriesID: LAUCT426000000000005\n",
      "city: Philadelphia code: ['CT4260000000000'] measure: unemployment code: 04 seriesID: LAUCT426000000000004\n",
      "city: Philadelphia code: ['CT4260000000000'] measure: unemployment-rate code: 03 seriesID: LAUCT426000000000003\n",
      "city: Baltimore code: ['CT2404000000000'] measure: labor-force code: 06 seriesID: LAUCT240400000000006\n",
      "city: Baltimore code: ['CT2404000000000'] measure: employment code: 05 seriesID: LAUCT240400000000005\n",
      "city: Baltimore code: ['CT2404000000000'] measure: unemployment code: 04 seriesID: LAUCT240400000000004\n",
      "city: Baltimore code: ['CT2404000000000'] measure: unemployment-rate code: 03 seriesID: LAUCT240400000000003\n",
      "city: Washington city code: ['CT1150000000000'] measure: labor-force code: 06 seriesID: LAUCT115000000000006\n",
      "city: Washington city code: ['CT1150000000000'] measure: employment code: 05 seriesID: LAUCT115000000000005\n",
      "city: Washington city code: ['CT1150000000000'] measure: unemployment code: 04 seriesID: LAUCT115000000000004\n",
      "city: Washington city code: ['CT1150000000000'] measure: unemployment-rate code: 03 seriesID: LAUCT115000000000003\n",
      "city: Phoenix code: ['CT0455000000000'] measure: labor-force code: 06 seriesID: LAUCT045500000000006\n",
      "city: Phoenix code: ['CT0455000000000'] measure: employment code: 05 seriesID: LAUCT045500000000005\n",
      "city: Phoenix code: ['CT0455000000000'] measure: unemployment code: 04 seriesID: LAUCT045500000000004\n",
      "city: Phoenix code: ['CT0455000000000'] measure: unemployment-rate code: 03 seriesID: LAUCT045500000000003\n",
      "city: Philadelphia code: ['CT4260000000000'] measure: labor-force code: 06 seriesID: LAUCT426000000000006\n",
      "city: Philadelphia code: ['CT4260000000000'] measure: employment code: 05 seriesID: LAUCT426000000000005\n",
      "city: Philadelphia code: ['CT4260000000000'] measure: unemployment code: 04 seriesID: LAUCT426000000000004\n",
      "city: Philadelphia code: ['CT4260000000000'] measure: unemployment-rate code: 03 seriesID: LAUCT426000000000003\n",
      "city: San Antonio code: ['CT4865000000000'] measure: labor-force code: 06 seriesID: LAUCT486500000000006\n",
      "city: San Antonio code: ['CT4865000000000'] measure: employment code: 05 seriesID: LAUCT486500000000005\n",
      "city: San Antonio code: ['CT4865000000000'] measure: unemployment code: 04 seriesID: LAUCT486500000000004\n",
      "city: San Antonio code: ['CT4865000000000'] measure: unemployment-rate code: 03 seriesID: LAUCT486500000000003\n",
      "city: San Diego code: ['CT0666000000000'] measure: labor-force code: 06 seriesID: LAUCT066600000000006\n",
      "city: San Diego code: ['CT0666000000000'] measure: employment code: 05 seriesID: LAUCT066600000000005\n",
      "city: San Diego code: ['CT0666000000000'] measure: unemployment code: 04 seriesID: LAUCT066600000000004\n",
      "city: San Diego code: ['CT0666000000000'] measure: unemployment-rate code: 03 seriesID: LAUCT066600000000003\n",
      "city: Dallas code: ['CT4819000000000'] measure: labor-force code: 06 seriesID: LAUCT481900000000006\n",
      "city: Dallas code: ['CT4819000000000'] measure: employment code: 05 seriesID: LAUCT481900000000005\n",
      "city: Dallas code: ['CT4819000000000'] measure: unemployment code: 04 seriesID: LAUCT481900000000004\n",
      "city: Dallas code: ['CT4819000000000'] measure: unemployment-rate code: 03 seriesID: LAUCT481900000000003\n"
     ]
    }
   ],
   "source": [
    "seriesIDs = []\n",
    "\n",
    "dataSet = \"LA\"\n",
    "\n",
    "if seasonalAdjustment == \"yes\":\n",
    "    saCode = \"S\"\n",
    "else:\n",
    "    saCode = \"U\"\n",
    "\n",
    "for city in cityList:\n",
    "    cityCode = findCityTownCode(city)\n",
    "    for measure in measureList:\n",
    "        measureCode = findMeasureCode(measure)\n",
    "        seriesID = \"{}{}{}{}\".format(dataSet, saCode, cityCode[0], measureCode)\n",
    "        print(\"city: {} code: {} measure: {} code: {} seriesID: {}\".format(city, cityCode, measure, measureCode, seriesID))\n",
    "        seriesIDs.append(seriesID)\n",
    "\n",
    "# an array of strings which represent BLS Series IDs\n",
    "# seriesID = ['LAUMT423798000000003']\n",
    "# seriesID = ['LAUCT426000000000003']\n",
    "# seriesID = [\"{}{}{}{}\".format(dataSet, saCode, cityCode[0], measureCode)]"
   ]
  },
  {
   "cell_type": "code",
   "execution_count": 20,
   "metadata": {
    "collapsed": false
   },
   "outputs": [
    {
     "name": "stdout",
     "output_type": "stream",
     "text": [
      "['LAUCT250700000000006', 'LAUCT250700000000005', 'LAUCT250700000000004', 'LAUCT250700000000003', 'LAUCT365100000000006', 'LAUCT365100000000005', 'LAUCT365100000000004', 'LAUCT365100000000003', 'LAUCT426000000000006', 'LAUCT426000000000005', 'LAUCT426000000000004', 'LAUCT426000000000003', 'LAUCT240400000000006', 'LAUCT240400000000005', 'LAUCT240400000000004', 'LAUCT240400000000003', 'LAUCT115000000000006', 'LAUCT115000000000005', 'LAUCT115000000000004', 'LAUCT115000000000003', 'LAUCT045500000000006', 'LAUCT045500000000005', 'LAUCT045500000000004', 'LAUCT045500000000003', 'LAUCT426000000000006', 'LAUCT426000000000005', 'LAUCT426000000000004', 'LAUCT426000000000003', 'LAUCT486500000000006', 'LAUCT486500000000005', 'LAUCT486500000000004', 'LAUCT486500000000003', 'LAUCT066600000000006', 'LAUCT066600000000005', 'LAUCT066600000000004', 'LAUCT066600000000003', 'LAUCT481900000000006', 'LAUCT481900000000005', 'LAUCT481900000000004', 'LAUCT481900000000003']\n"
     ]
    }
   ],
   "source": [
    "print(seriesIDs)"
   ]
  },
  {
   "cell_type": "markdown",
   "metadata": {},
   "source": [
    "# build the data request"
   ]
  },
  {
   "cell_type": "code",
   "execution_count": 21,
   "metadata": {
    "collapsed": true
   },
   "outputs": [],
   "source": [
    "headers = {'Content-type': 'application/json'}\n",
    "request = json.dumps({\"seriesid\": seriesIDs,\"startyear\":\"{}\".format(startYear), \"endyear\":\"{}\".format(endYear)})"
   ]
  },
  {
   "cell_type": "code",
   "execution_count": 22,
   "metadata": {
    "collapsed": false
   },
   "outputs": [
    {
     "name": "stdout",
     "output_type": "stream",
     "text": [
      "{\"startyear\": \"2008\", \"endyear\": \"2017\", \"seriesid\": [\"LAUCT250700000000006\", \"LAUCT250700000000005\", \"LAUCT250700000000004\", \"LAUCT250700000000003\", \"LAUCT365100000000006\", \"LAUCT365100000000005\", \"LAUCT365100000000004\", \"LAUCT365100000000003\", \"LAUCT426000000000006\", \"LAUCT426000000000005\", \"LAUCT426000000000004\", \"LAUCT426000000000003\", \"LAUCT240400000000006\", \"LAUCT240400000000005\", \"LAUCT240400000000004\", \"LAUCT240400000000003\", \"LAUCT115000000000006\", \"LAUCT115000000000005\", \"LAUCT115000000000004\", \"LAUCT115000000000003\", \"LAUCT045500000000006\", \"LAUCT045500000000005\", \"LAUCT045500000000004\", \"LAUCT045500000000003\", \"LAUCT426000000000006\", \"LAUCT426000000000005\", \"LAUCT426000000000004\", \"LAUCT426000000000003\", \"LAUCT486500000000006\", \"LAUCT486500000000005\", \"LAUCT486500000000004\", \"LAUCT486500000000003\", \"LAUCT066600000000006\", \"LAUCT066600000000005\", \"LAUCT066600000000004\", \"LAUCT066600000000003\", \"LAUCT481900000000006\", \"LAUCT481900000000005\", \"LAUCT481900000000004\", \"LAUCT481900000000003\"]}\n"
     ]
    }
   ],
   "source": [
    "print(request)"
   ]
  },
  {
   "cell_type": "markdown",
   "metadata": {},
   "source": [
    "# send the request"
   ]
  },
  {
   "cell_type": "code",
   "execution_count": 23,
   "metadata": {
    "collapsed": true
   },
   "outputs": [],
   "source": [
    "# get the data using API\n",
    "p = requests.post('https://api.bls.gov/publicAPI/v1/timeseries/data/', data=request, headers=headers)"
   ]
  },
  {
   "cell_type": "markdown",
   "metadata": {},
   "source": [
    "# extract the JSON data payload from the response"
   ]
  },
  {
   "cell_type": "code",
   "execution_count": 24,
   "metadata": {
    "collapsed": true
   },
   "outputs": [],
   "source": [
    "json_data = json.loads(p.text)"
   ]
  },
  {
   "cell_type": "markdown",
   "metadata": {},
   "source": [
    "# define the resulting dataset columns"
   ]
  },
  {
   "cell_type": "code",
   "execution_count": 25,
   "metadata": {
    "collapsed": true
   },
   "outputs": [],
   "source": [
    "colNames = [\"seriesid\",\"year\",\"month\",\"period\",\"date\",\"state\",\"city\",\"measure\",\"value\",\"footnotes\"]"
   ]
  },
  {
   "cell_type": "markdown",
   "metadata": {},
   "source": [
    "# extract and process the JSON payload into a *PrettyTable*  and a plain Python array..."
   ]
  },
  {
   "cell_type": "code",
   "execution_count": 26,
   "metadata": {
    "collapsed": true
   },
   "outputs": [],
   "source": [
    "data = []\n",
    "for series in json_data['Results']['series']:\n",
    "    x=prettytable.PrettyTable(colNames)\n",
    "    seriesId = series['seriesID']\n",
    "    for item in series['data']:\n",
    "        year = item['year']\n",
    "        period = item['period']\n",
    "        month = code2month[period]\n",
    "        date = dateFrom(year, month)\n",
    "        state = decodeState(seriesId)\n",
    "        city = decodeCityTown(seriesId)\n",
    "        measure = decodeMeasure(seriesId)\n",
    "        value = item['value']\n",
    "        footnotes=\"\"\n",
    "        for footnote in item['footnotes']:\n",
    "            if footnote:\n",
    "                footnotes = footnotes + footnote['text'] + ','\n",
    "        if 'M01' <= period <= 'M12':\n",
    "            row = [seriesId,year,month,period,date,state,city,measure,value,footnotes[0:-1]]\n",
    "            x.add_row(row)\n",
    "            data.append(row)"
   ]
  },
  {
   "cell_type": "markdown",
   "metadata": {},
   "source": [
    "# create a *DataFrame*"
   ]
  },
  {
   "cell_type": "code",
   "execution_count": 27,
   "metadata": {
    "collapsed": false
   },
   "outputs": [
    {
     "data": {
      "text/plain": [
       "[['LAUCT426000000000003',\n",
       "  '2017',\n",
       "  'September',\n",
       "  'M09',\n",
       "  '2017/09',\n",
       "  'Pennsylvania',\n",
       "  'Philadelphia County/city',\n",
       "  'unemployment-rate',\n",
       "  '6.0',\n",
       "  'Preliminary.'],\n",
       " ['LAUCT426000000000003',\n",
       "  '2017',\n",
       "  'August',\n",
       "  'M08',\n",
       "  '2017/08',\n",
       "  'Pennsylvania',\n",
       "  'Philadelphia County/city',\n",
       "  'unemployment-rate',\n",
       "  '6.7',\n",
       "  '']]"
      ]
     },
     "execution_count": 27,
     "metadata": {},
     "output_type": "execute_result"
    }
   ],
   "source": [
    "data[0:2]"
   ]
  },
  {
   "cell_type": "code",
   "execution_count": 28,
   "metadata": {
    "collapsed": true
   },
   "outputs": [],
   "source": [
    "dfLaborForce = pd.DataFrame(data, columns=colNames)"
   ]
  },
  {
   "cell_type": "code",
   "execution_count": 29,
   "metadata": {
    "collapsed": false
   },
   "outputs": [
    {
     "data": {
      "text/html": [
       "<div>\n",
       "<style>\n",
       "    .dataframe thead tr:only-child th {\n",
       "        text-align: right;\n",
       "    }\n",
       "\n",
       "    .dataframe thead th {\n",
       "        text-align: left;\n",
       "    }\n",
       "\n",
       "    .dataframe tbody tr th {\n",
       "        vertical-align: top;\n",
       "    }\n",
       "</style>\n",
       "<table border=\"1\" class=\"dataframe\">\n",
       "  <thead>\n",
       "    <tr style=\"text-align: right;\">\n",
       "      <th></th>\n",
       "      <th>seriesid</th>\n",
       "      <th>year</th>\n",
       "      <th>month</th>\n",
       "      <th>period</th>\n",
       "      <th>date</th>\n",
       "      <th>state</th>\n",
       "      <th>city</th>\n",
       "      <th>measure</th>\n",
       "      <th>value</th>\n",
       "      <th>footnotes</th>\n",
       "    </tr>\n",
       "  </thead>\n",
       "  <tbody>\n",
       "    <tr>\n",
       "      <th>0</th>\n",
       "      <td>LAUCT426000000000003</td>\n",
       "      <td>2017</td>\n",
       "      <td>September</td>\n",
       "      <td>M09</td>\n",
       "      <td>2017/09</td>\n",
       "      <td>Pennsylvania</td>\n",
       "      <td>Philadelphia County/city</td>\n",
       "      <td>unemployment-rate</td>\n",
       "      <td>6.0</td>\n",
       "      <td>Preliminary.</td>\n",
       "    </tr>\n",
       "    <tr>\n",
       "      <th>1</th>\n",
       "      <td>LAUCT426000000000003</td>\n",
       "      <td>2017</td>\n",
       "      <td>August</td>\n",
       "      <td>M08</td>\n",
       "      <td>2017/08</td>\n",
       "      <td>Pennsylvania</td>\n",
       "      <td>Philadelphia County/city</td>\n",
       "      <td>unemployment-rate</td>\n",
       "      <td>6.7</td>\n",
       "      <td></td>\n",
       "    </tr>\n",
       "    <tr>\n",
       "      <th>2</th>\n",
       "      <td>LAUCT426000000000003</td>\n",
       "      <td>2017</td>\n",
       "      <td>July</td>\n",
       "      <td>M07</td>\n",
       "      <td>2017/07</td>\n",
       "      <td>Pennsylvania</td>\n",
       "      <td>Philadelphia County/city</td>\n",
       "      <td>unemployment-rate</td>\n",
       "      <td>6.9</td>\n",
       "      <td></td>\n",
       "    </tr>\n",
       "    <tr>\n",
       "      <th>3</th>\n",
       "      <td>LAUCT426000000000003</td>\n",
       "      <td>2017</td>\n",
       "      <td>June</td>\n",
       "      <td>M06</td>\n",
       "      <td>2017/06</td>\n",
       "      <td>Pennsylvania</td>\n",
       "      <td>Philadelphia County/city</td>\n",
       "      <td>unemployment-rate</td>\n",
       "      <td>6.4</td>\n",
       "      <td></td>\n",
       "    </tr>\n",
       "    <tr>\n",
       "      <th>4</th>\n",
       "      <td>LAUCT426000000000003</td>\n",
       "      <td>2017</td>\n",
       "      <td>May</td>\n",
       "      <td>M05</td>\n",
       "      <td>2017/05</td>\n",
       "      <td>Pennsylvania</td>\n",
       "      <td>Philadelphia County/city</td>\n",
       "      <td>unemployment-rate</td>\n",
       "      <td>6.7</td>\n",
       "      <td></td>\n",
       "    </tr>\n",
       "  </tbody>\n",
       "</table>\n",
       "</div>"
      ],
      "text/plain": [
       "               seriesid  year      month period     date         state  \\\n",
       "0  LAUCT426000000000003  2017  September    M09  2017/09  Pennsylvania   \n",
       "1  LAUCT426000000000003  2017     August    M08  2017/08  Pennsylvania   \n",
       "2  LAUCT426000000000003  2017       July    M07  2017/07  Pennsylvania   \n",
       "3  LAUCT426000000000003  2017       June    M06  2017/06  Pennsylvania   \n",
       "4  LAUCT426000000000003  2017        May    M05  2017/05  Pennsylvania   \n",
       "\n",
       "                       city            measure value     footnotes  \n",
       "0  Philadelphia County/city  unemployment-rate   6.0  Preliminary.  \n",
       "1  Philadelphia County/city  unemployment-rate   6.7                \n",
       "2  Philadelphia County/city  unemployment-rate   6.9                \n",
       "3  Philadelphia County/city  unemployment-rate   6.4                \n",
       "4  Philadelphia County/city  unemployment-rate   6.7                "
      ]
     },
     "execution_count": 29,
     "metadata": {},
     "output_type": "execute_result"
    }
   ],
   "source": [
    "dfLaborForce.head()"
   ]
  },
  {
   "cell_type": "code",
   "execution_count": 30,
   "metadata": {
    "collapsed": false
   },
   "outputs": [
    {
     "data": {
      "text/html": [
       "<div>\n",
       "<style>\n",
       "    .dataframe thead tr:only-child th {\n",
       "        text-align: right;\n",
       "    }\n",
       "\n",
       "    .dataframe thead th {\n",
       "        text-align: left;\n",
       "    }\n",
       "\n",
       "    .dataframe tbody tr th {\n",
       "        vertical-align: top;\n",
       "    }\n",
       "</style>\n",
       "<table border=\"1\" class=\"dataframe\">\n",
       "  <thead>\n",
       "    <tr style=\"text-align: right;\">\n",
       "      <th></th>\n",
       "      <th>seriesid</th>\n",
       "      <th>year</th>\n",
       "      <th>month</th>\n",
       "      <th>period</th>\n",
       "      <th>date</th>\n",
       "      <th>state</th>\n",
       "      <th>city</th>\n",
       "      <th>measure</th>\n",
       "      <th>value</th>\n",
       "      <th>footnotes</th>\n",
       "    </tr>\n",
       "  </thead>\n",
       "  <tbody>\n",
       "    <tr>\n",
       "      <th>2</th>\n",
       "      <td>LAUCT426000000000003</td>\n",
       "      <td>2017</td>\n",
       "      <td>July</td>\n",
       "      <td>M07</td>\n",
       "      <td>2017/07</td>\n",
       "      <td>Pennsylvania</td>\n",
       "      <td>Philadelphia County/city</td>\n",
       "      <td>unemployment-rate</td>\n",
       "      <td>6.9</td>\n",
       "      <td></td>\n",
       "    </tr>\n",
       "    <tr>\n",
       "      <th>14</th>\n",
       "      <td>LAUCT426000000000003</td>\n",
       "      <td>2016</td>\n",
       "      <td>July</td>\n",
       "      <td>M07</td>\n",
       "      <td>2016/07</td>\n",
       "      <td>Pennsylvania</td>\n",
       "      <td>Philadelphia County/city</td>\n",
       "      <td>unemployment-rate</td>\n",
       "      <td>7.6</td>\n",
       "      <td></td>\n",
       "    </tr>\n",
       "    <tr>\n",
       "      <th>26</th>\n",
       "      <td>LAUCT426000000000003</td>\n",
       "      <td>2015</td>\n",
       "      <td>July</td>\n",
       "      <td>M07</td>\n",
       "      <td>2015/07</td>\n",
       "      <td>Pennsylvania</td>\n",
       "      <td>Philadelphia County/city</td>\n",
       "      <td>unemployment-rate</td>\n",
       "      <td>8.0</td>\n",
       "      <td></td>\n",
       "    </tr>\n",
       "    <tr>\n",
       "      <th>38</th>\n",
       "      <td>LAUCT426000000000003</td>\n",
       "      <td>2014</td>\n",
       "      <td>July</td>\n",
       "      <td>M07</td>\n",
       "      <td>2014/07</td>\n",
       "      <td>Pennsylvania</td>\n",
       "      <td>Philadelphia County/city</td>\n",
       "      <td>unemployment-rate</td>\n",
       "      <td>8.9</td>\n",
       "      <td></td>\n",
       "    </tr>\n",
       "    <tr>\n",
       "      <th>50</th>\n",
       "      <td>LAUCT426000000000003</td>\n",
       "      <td>2013</td>\n",
       "      <td>July</td>\n",
       "      <td>M07</td>\n",
       "      <td>2013/07</td>\n",
       "      <td>Pennsylvania</td>\n",
       "      <td>Philadelphia County/city</td>\n",
       "      <td>unemployment-rate</td>\n",
       "      <td>11.0</td>\n",
       "      <td></td>\n",
       "    </tr>\n",
       "  </tbody>\n",
       "</table>\n",
       "</div>"
      ],
      "text/plain": [
       "                seriesid  year month period     date         state  \\\n",
       "2   LAUCT426000000000003  2017  July    M07  2017/07  Pennsylvania   \n",
       "14  LAUCT426000000000003  2016  July    M07  2016/07  Pennsylvania   \n",
       "26  LAUCT426000000000003  2015  July    M07  2015/07  Pennsylvania   \n",
       "38  LAUCT426000000000003  2014  July    M07  2014/07  Pennsylvania   \n",
       "50  LAUCT426000000000003  2013  July    M07  2013/07  Pennsylvania   \n",
       "\n",
       "                        city            measure value footnotes  \n",
       "2   Philadelphia County/city  unemployment-rate   6.9            \n",
       "14  Philadelphia County/city  unemployment-rate   7.6            \n",
       "26  Philadelphia County/city  unemployment-rate   8.0            \n",
       "38  Philadelphia County/city  unemployment-rate   8.9            \n",
       "50  Philadelphia County/city  unemployment-rate  11.0            "
      ]
     },
     "execution_count": 30,
     "metadata": {},
     "output_type": "execute_result"
    }
   ],
   "source": [
    "dfLaborForce[dfLaborForce.month==\"July\"].head()"
   ]
  },
  {
   "cell_type": "code",
   "execution_count": 31,
   "metadata": {
    "collapsed": true
   },
   "outputs": [],
   "source": [
    "dfLaborForceSelect = dfLaborForce[dfLaborForce.month==\"July\"].copy()"
   ]
  },
  {
   "cell_type": "code",
   "execution_count": 32,
   "metadata": {
    "collapsed": true
   },
   "outputs": [],
   "source": [
    "dfLaborForceSelect.drop(['seriesid','month','period','date','footnotes'], axis=1, inplace=True)"
   ]
  },
  {
   "cell_type": "code",
   "execution_count": 33,
   "metadata": {
    "collapsed": true
   },
   "outputs": [],
   "source": [
    "dfLaborForceSelect.rename(columns={\"year\": \"Year\", \"state\": \"State\", \"city\": \"City\", \"measure\": \"Measure\", \"value\": \"Value\"}, inplace=True)"
   ]
  },
  {
   "cell_type": "code",
   "execution_count": 34,
   "metadata": {
    "collapsed": false
   },
   "outputs": [
    {
     "data": {
      "text/html": [
       "<div>\n",
       "<style>\n",
       "    .dataframe thead tr:only-child th {\n",
       "        text-align: right;\n",
       "    }\n",
       "\n",
       "    .dataframe thead th {\n",
       "        text-align: left;\n",
       "    }\n",
       "\n",
       "    .dataframe tbody tr th {\n",
       "        vertical-align: top;\n",
       "    }\n",
       "</style>\n",
       "<table border=\"1\" class=\"dataframe\">\n",
       "  <thead>\n",
       "    <tr style=\"text-align: right;\">\n",
       "      <th></th>\n",
       "      <th>Year</th>\n",
       "      <th>State</th>\n",
       "      <th>City</th>\n",
       "      <th>Measure</th>\n",
       "      <th>Value</th>\n",
       "    </tr>\n",
       "  </thead>\n",
       "  <tbody>\n",
       "    <tr>\n",
       "      <th>2</th>\n",
       "      <td>2017</td>\n",
       "      <td>Pennsylvania</td>\n",
       "      <td>Philadelphia County/city</td>\n",
       "      <td>unemployment-rate</td>\n",
       "      <td>6.9</td>\n",
       "    </tr>\n",
       "    <tr>\n",
       "      <th>14</th>\n",
       "      <td>2016</td>\n",
       "      <td>Pennsylvania</td>\n",
       "      <td>Philadelphia County/city</td>\n",
       "      <td>unemployment-rate</td>\n",
       "      <td>7.6</td>\n",
       "    </tr>\n",
       "    <tr>\n",
       "      <th>26</th>\n",
       "      <td>2015</td>\n",
       "      <td>Pennsylvania</td>\n",
       "      <td>Philadelphia County/city</td>\n",
       "      <td>unemployment-rate</td>\n",
       "      <td>8.0</td>\n",
       "    </tr>\n",
       "    <tr>\n",
       "      <th>38</th>\n",
       "      <td>2014</td>\n",
       "      <td>Pennsylvania</td>\n",
       "      <td>Philadelphia County/city</td>\n",
       "      <td>unemployment-rate</td>\n",
       "      <td>8.9</td>\n",
       "    </tr>\n",
       "    <tr>\n",
       "      <th>50</th>\n",
       "      <td>2013</td>\n",
       "      <td>Pennsylvania</td>\n",
       "      <td>Philadelphia County/city</td>\n",
       "      <td>unemployment-rate</td>\n",
       "      <td>11.0</td>\n",
       "    </tr>\n",
       "  </tbody>\n",
       "</table>\n",
       "</div>"
      ],
      "text/plain": [
       "    Year         State                      City            Measure Value\n",
       "2   2017  Pennsylvania  Philadelphia County/city  unemployment-rate   6.9\n",
       "14  2016  Pennsylvania  Philadelphia County/city  unemployment-rate   7.6\n",
       "26  2015  Pennsylvania  Philadelphia County/city  unemployment-rate   8.0\n",
       "38  2014  Pennsylvania  Philadelphia County/city  unemployment-rate   8.9\n",
       "50  2013  Pennsylvania  Philadelphia County/city  unemployment-rate  11.0"
      ]
     },
     "execution_count": 34,
     "metadata": {},
     "output_type": "execute_result"
    }
   ],
   "source": [
    "dfLaborForceSelect.head()"
   ]
  },
  {
   "cell_type": "markdown",
   "metadata": {},
   "source": [
    "# load the population data"
   ]
  },
  {
   "cell_type": "code",
   "execution_count": 35,
   "metadata": {
    "collapsed": true
   },
   "outputs": [],
   "source": [
    "pop1 = pd.read_csv(\"census-data-2000-2009.csv\", sep=\",\", encoding='latin-1')\n",
    "pop2 = pd.read_csv(\"census-data-2010-2016.csv\", sep=\",\", encoding='latin-1')"
   ]
  },
  {
   "cell_type": "code",
   "execution_count": 36,
   "metadata": {
    "collapsed": true
   },
   "outputs": [],
   "source": [
    "data1t = pd.melt(pop1, id_vars=[\"sumlev\", \"STATE\", \"COUNTY\", \"place\", \"COUSUB\", \"name\", \"STATENAME\"],\n",
    "                 var_name=\"Date\", \n",
    "                 value_name=\"Value\")\n",
    "\n",
    "data2t = pd.melt(pop2, id_vars=[\"SUMLEV\", \"STATE\", \"COUNTY\", \"PLACE\", \"COUSUB\", \"CONCIT\", \"PRIMGEO_FLAG\", \"FUNCSTAT\", \"NAME\", \"STNAME\"], \n",
    "                 var_name=\"Date\", \n",
    "                 value_name=\"Value\")"
   ]
  },
  {
   "cell_type": "code",
   "execution_count": 37,
   "metadata": {
    "collapsed": true
   },
   "outputs": [],
   "source": [
    "data1ts = data1t[(data1t.sumlev==162) & (data1t.Date.str.contains(\"POP_\"))].copy()\n",
    "data2ts = data2t[(data2t.SUMLEV==162) & (data2t.Date.str.contains(\"POPESTIMATE\"))].copy()"
   ]
  },
  {
   "cell_type": "code",
   "execution_count": 38,
   "metadata": {
    "collapsed": true
   },
   "outputs": [],
   "source": [
    "data1ts.drop(['sumlev','STATE','COUNTY','place','COUSUB'], axis=1, inplace=True)\n",
    "data1ts.rename(columns={\"name\": \"City\", \"STATENAME\": \"State\"}, inplace=True)\n",
    "data1ts.Date = data1ts.Date.str.replace(\"POP_\", \"\")\n",
    "\n",
    "data2ts.drop(['SUMLEV','STATE','COUNTY','PLACE','COUSUB','CONCIT','PRIMGEO_FLAG','FUNCSTAT'], axis=1, inplace=True)\n",
    "data2ts.rename(columns={\"NAME\":\"City\", \"STNAME\":\"State\"}, inplace=True)\n",
    "data2ts.Date = data2ts.Date.str.replace(\"POPESTIMATE\", \"\")"
   ]
  },
  {
   "cell_type": "code",
   "execution_count": 39,
   "metadata": {
    "collapsed": false
   },
   "outputs": [
    {
     "name": "stdout",
     "output_type": "stream",
     "text": [
      "len(data1ts): 195100 len(data2ts) 136570 total: 331670\n",
      "len(dfPopulation): 331670\n"
     ]
    }
   ],
   "source": [
    "print(\"len(data1ts): {} len(data2ts) {} total: {}\".format(len(data1ts), len(data2ts), len(data1ts)+len(data2ts)))\n",
    "frames = [data1ts, data2ts]\n",
    "dfPopulation = pd.concat(frames)\n",
    "print(\"len(dfPopulation): {}\".format(len(dfPopulation)))"
   ]
  },
  {
   "cell_type": "code",
   "execution_count": 40,
   "metadata": {
    "collapsed": false
   },
   "outputs": [
    {
     "data": {
      "text/html": [
       "<div>\n",
       "<style>\n",
       "    .dataframe thead tr:only-child th {\n",
       "        text-align: right;\n",
       "    }\n",
       "\n",
       "    .dataframe thead th {\n",
       "        text-align: left;\n",
       "    }\n",
       "\n",
       "    .dataframe tbody tr th {\n",
       "        vertical-align: top;\n",
       "    }\n",
       "</style>\n",
       "<table border=\"1\" class=\"dataframe\">\n",
       "  <thead>\n",
       "    <tr style=\"text-align: right;\">\n",
       "      <th></th>\n",
       "      <th>City</th>\n",
       "      <th>State</th>\n",
       "      <th>Date</th>\n",
       "      <th>Value</th>\n",
       "    </tr>\n",
       "  </thead>\n",
       "  <tbody>\n",
       "    <tr>\n",
       "      <th>163407</th>\n",
       "      <td>Abbeville city</td>\n",
       "      <td>Alabama</td>\n",
       "      <td>2000</td>\n",
       "      <td>2987</td>\n",
       "    </tr>\n",
       "    <tr>\n",
       "      <th>163408</th>\n",
       "      <td>Adamsville city</td>\n",
       "      <td>Alabama</td>\n",
       "      <td>2000</td>\n",
       "      <td>5069</td>\n",
       "    </tr>\n",
       "    <tr>\n",
       "      <th>163409</th>\n",
       "      <td>Addison town</td>\n",
       "      <td>Alabama</td>\n",
       "      <td>2000</td>\n",
       "      <td>724</td>\n",
       "    </tr>\n",
       "    <tr>\n",
       "      <th>163410</th>\n",
       "      <td>Akron town</td>\n",
       "      <td>Alabama</td>\n",
       "      <td>2000</td>\n",
       "      <td>449</td>\n",
       "    </tr>\n",
       "    <tr>\n",
       "      <th>163411</th>\n",
       "      <td>Alabaster city</td>\n",
       "      <td>Alabama</td>\n",
       "      <td>2000</td>\n",
       "      <td>24099</td>\n",
       "    </tr>\n",
       "  </tbody>\n",
       "</table>\n",
       "</div>"
      ],
      "text/plain": [
       "                   City    State  Date  Value\n",
       "163407   Abbeville city  Alabama  2000   2987\n",
       "163408  Adamsville city  Alabama  2000   5069\n",
       "163409     Addison town  Alabama  2000    724\n",
       "163410       Akron town  Alabama  2000    449\n",
       "163411   Alabaster city  Alabama  2000  24099"
      ]
     },
     "execution_count": 40,
     "metadata": {},
     "output_type": "execute_result"
    }
   ],
   "source": [
    "dfPopulation.head()"
   ]
  },
  {
   "cell_type": "code",
   "execution_count": 41,
   "metadata": {
    "collapsed": true
   },
   "outputs": [],
   "source": [
    "dfPopulation['Measure'] = \"population\""
   ]
  },
  {
   "cell_type": "code",
   "execution_count": 42,
   "metadata": {
    "collapsed": true
   },
   "outputs": [],
   "source": [
    "dfPopulation.rename(columns={\"Date\": \"Year\"}, inplace=True)"
   ]
  },
  {
   "cell_type": "code",
   "execution_count": 43,
   "metadata": {
    "collapsed": false
   },
   "outputs": [
    {
     "data": {
      "text/html": [
       "<div>\n",
       "<style>\n",
       "    .dataframe thead tr:only-child th {\n",
       "        text-align: right;\n",
       "    }\n",
       "\n",
       "    .dataframe thead th {\n",
       "        text-align: left;\n",
       "    }\n",
       "\n",
       "    .dataframe tbody tr th {\n",
       "        vertical-align: top;\n",
       "    }\n",
       "</style>\n",
       "<table border=\"1\" class=\"dataframe\">\n",
       "  <thead>\n",
       "    <tr style=\"text-align: right;\">\n",
       "      <th></th>\n",
       "      <th>City</th>\n",
       "      <th>State</th>\n",
       "      <th>Year</th>\n",
       "      <th>Value</th>\n",
       "      <th>Measure</th>\n",
       "    </tr>\n",
       "  </thead>\n",
       "  <tbody>\n",
       "    <tr>\n",
       "      <th>163407</th>\n",
       "      <td>Abbeville city</td>\n",
       "      <td>Alabama</td>\n",
       "      <td>2000</td>\n",
       "      <td>2987</td>\n",
       "      <td>population</td>\n",
       "    </tr>\n",
       "    <tr>\n",
       "      <th>163408</th>\n",
       "      <td>Adamsville city</td>\n",
       "      <td>Alabama</td>\n",
       "      <td>2000</td>\n",
       "      <td>5069</td>\n",
       "      <td>population</td>\n",
       "    </tr>\n",
       "    <tr>\n",
       "      <th>163409</th>\n",
       "      <td>Addison town</td>\n",
       "      <td>Alabama</td>\n",
       "      <td>2000</td>\n",
       "      <td>724</td>\n",
       "      <td>population</td>\n",
       "    </tr>\n",
       "    <tr>\n",
       "      <th>163410</th>\n",
       "      <td>Akron town</td>\n",
       "      <td>Alabama</td>\n",
       "      <td>2000</td>\n",
       "      <td>449</td>\n",
       "      <td>population</td>\n",
       "    </tr>\n",
       "    <tr>\n",
       "      <th>163411</th>\n",
       "      <td>Alabaster city</td>\n",
       "      <td>Alabama</td>\n",
       "      <td>2000</td>\n",
       "      <td>24099</td>\n",
       "      <td>population</td>\n",
       "    </tr>\n",
       "  </tbody>\n",
       "</table>\n",
       "</div>"
      ],
      "text/plain": [
       "                   City    State  Year  Value     Measure\n",
       "163407   Abbeville city  Alabama  2000   2987  population\n",
       "163408  Adamsville city  Alabama  2000   5069  population\n",
       "163409     Addison town  Alabama  2000    724  population\n",
       "163410       Akron town  Alabama  2000    449  population\n",
       "163411   Alabaster city  Alabama  2000  24099  population"
      ]
     },
     "execution_count": 43,
     "metadata": {},
     "output_type": "execute_result"
    }
   ],
   "source": [
    "dfPopulation.head()"
   ]
  },
  {
   "cell_type": "markdown",
   "metadata": {},
   "source": [
    "# merge labor-force and population data"
   ]
  },
  {
   "cell_type": "code",
   "execution_count": 44,
   "metadata": {
    "collapsed": true
   },
   "outputs": [],
   "source": [
    "frames = [dfPopulation, dfLaborForceSelect]"
   ]
  },
  {
   "cell_type": "code",
   "execution_count": 45,
   "metadata": {
    "collapsed": true
   },
   "outputs": [],
   "source": [
    "df = pd.concat(frames)"
   ]
  },
  {
   "cell_type": "code",
   "execution_count": 46,
   "metadata": {
    "collapsed": false
   },
   "outputs": [
    {
     "data": {
      "text/html": [
       "<div>\n",
       "<style>\n",
       "    .dataframe thead tr:only-child th {\n",
       "        text-align: right;\n",
       "    }\n",
       "\n",
       "    .dataframe thead th {\n",
       "        text-align: left;\n",
       "    }\n",
       "\n",
       "    .dataframe tbody tr th {\n",
       "        vertical-align: top;\n",
       "    }\n",
       "</style>\n",
       "<table border=\"1\" class=\"dataframe\">\n",
       "  <thead>\n",
       "    <tr style=\"text-align: right;\">\n",
       "      <th></th>\n",
       "      <th>City</th>\n",
       "      <th>Measure</th>\n",
       "      <th>State</th>\n",
       "      <th>Value</th>\n",
       "      <th>Year</th>\n",
       "    </tr>\n",
       "  </thead>\n",
       "  <tbody>\n",
       "    <tr>\n",
       "      <th>845280</th>\n",
       "      <td>Boston city</td>\n",
       "      <td>population</td>\n",
       "      <td>Massachusetts</td>\n",
       "      <td>636748</td>\n",
       "      <td>2008</td>\n",
       "    </tr>\n",
       "    <tr>\n",
       "      <th>926983</th>\n",
       "      <td>Boston city</td>\n",
       "      <td>population</td>\n",
       "      <td>Massachusetts</td>\n",
       "      <td>645169</td>\n",
       "      <td>2009</td>\n",
       "    </tr>\n",
       "    <tr>\n",
       "      <th>191488</th>\n",
       "      <td>Boston city</td>\n",
       "      <td>population</td>\n",
       "      <td>Massachusetts</td>\n",
       "      <td>620701</td>\n",
       "      <td>2010</td>\n",
       "    </tr>\n",
       "    <tr>\n",
       "      <th>273073</th>\n",
       "      <td>Boston city</td>\n",
       "      <td>population</td>\n",
       "      <td>Massachusetts</td>\n",
       "      <td>630195</td>\n",
       "      <td>2011</td>\n",
       "    </tr>\n",
       "    <tr>\n",
       "      <th>354658</th>\n",
       "      <td>Boston city</td>\n",
       "      <td>population</td>\n",
       "      <td>Massachusetts</td>\n",
       "      <td>641911</td>\n",
       "      <td>2012</td>\n",
       "    </tr>\n",
       "    <tr>\n",
       "      <th>436243</th>\n",
       "      <td>Boston city</td>\n",
       "      <td>population</td>\n",
       "      <td>Massachusetts</td>\n",
       "      <td>651090</td>\n",
       "      <td>2013</td>\n",
       "    </tr>\n",
       "    <tr>\n",
       "      <th>517828</th>\n",
       "      <td>Boston city</td>\n",
       "      <td>population</td>\n",
       "      <td>Massachusetts</td>\n",
       "      <td>659180</td>\n",
       "      <td>2014</td>\n",
       "    </tr>\n",
       "    <tr>\n",
       "      <th>599413</th>\n",
       "      <td>Boston city</td>\n",
       "      <td>population</td>\n",
       "      <td>Massachusetts</td>\n",
       "      <td>665984</td>\n",
       "      <td>2015</td>\n",
       "    </tr>\n",
       "    <tr>\n",
       "      <th>680998</th>\n",
       "      <td>Boston city</td>\n",
       "      <td>population</td>\n",
       "      <td>Massachusetts</td>\n",
       "      <td>673184</td>\n",
       "      <td>2016</td>\n",
       "    </tr>\n",
       "    <tr>\n",
       "      <th>470</th>\n",
       "      <td>Boston city</td>\n",
       "      <td>unemployment-rate</td>\n",
       "      <td>Massachusetts</td>\n",
       "      <td>4.2</td>\n",
       "      <td>2017</td>\n",
       "    </tr>\n",
       "    <tr>\n",
       "      <th>482</th>\n",
       "      <td>Boston city</td>\n",
       "      <td>unemployment-rate</td>\n",
       "      <td>Massachusetts</td>\n",
       "      <td>3.8</td>\n",
       "      <td>2016</td>\n",
       "    </tr>\n",
       "    <tr>\n",
       "      <th>494</th>\n",
       "      <td>Boston city</td>\n",
       "      <td>unemployment-rate</td>\n",
       "      <td>Massachusetts</td>\n",
       "      <td>4.9</td>\n",
       "      <td>2015</td>\n",
       "    </tr>\n",
       "    <tr>\n",
       "      <th>506</th>\n",
       "      <td>Boston city</td>\n",
       "      <td>unemployment-rate</td>\n",
       "      <td>Massachusetts</td>\n",
       "      <td>5.9</td>\n",
       "      <td>2014</td>\n",
       "    </tr>\n",
       "    <tr>\n",
       "      <th>518</th>\n",
       "      <td>Boston city</td>\n",
       "      <td>unemployment-rate</td>\n",
       "      <td>Massachusetts</td>\n",
       "      <td>6.8</td>\n",
       "      <td>2013</td>\n",
       "    </tr>\n",
       "    <tr>\n",
       "      <th>530</th>\n",
       "      <td>Boston city</td>\n",
       "      <td>unemployment-rate</td>\n",
       "      <td>Massachusetts</td>\n",
       "      <td>6.6</td>\n",
       "      <td>2012</td>\n",
       "    </tr>\n",
       "    <tr>\n",
       "      <th>542</th>\n",
       "      <td>Boston city</td>\n",
       "      <td>unemployment-rate</td>\n",
       "      <td>Massachusetts</td>\n",
       "      <td>7.0</td>\n",
       "      <td>2011</td>\n",
       "    </tr>\n",
       "    <tr>\n",
       "      <th>554</th>\n",
       "      <td>Boston city</td>\n",
       "      <td>unemployment-rate</td>\n",
       "      <td>Massachusetts</td>\n",
       "      <td>8.1</td>\n",
       "      <td>2010</td>\n",
       "    </tr>\n",
       "    <tr>\n",
       "      <th>566</th>\n",
       "      <td>Boston city</td>\n",
       "      <td>unemployment-rate</td>\n",
       "      <td>Massachusetts</td>\n",
       "      <td>8.2</td>\n",
       "      <td>2009</td>\n",
       "    </tr>\n",
       "    <tr>\n",
       "      <th>578</th>\n",
       "      <td>Boston city</td>\n",
       "      <td>unemployment-rate</td>\n",
       "      <td>Massachusetts</td>\n",
       "      <td>5.8</td>\n",
       "      <td>2008</td>\n",
       "    </tr>\n",
       "    <tr>\n",
       "      <th>587</th>\n",
       "      <td>Boston city</td>\n",
       "      <td>unemployment</td>\n",
       "      <td>Massachusetts</td>\n",
       "      <td>16134</td>\n",
       "      <td>2017</td>\n",
       "    </tr>\n",
       "    <tr>\n",
       "      <th>599</th>\n",
       "      <td>Boston city</td>\n",
       "      <td>unemployment</td>\n",
       "      <td>Massachusetts</td>\n",
       "      <td>13871</td>\n",
       "      <td>2016</td>\n",
       "    </tr>\n",
       "    <tr>\n",
       "      <th>611</th>\n",
       "      <td>Boston city</td>\n",
       "      <td>unemployment</td>\n",
       "      <td>Massachusetts</td>\n",
       "      <td>18053</td>\n",
       "      <td>2015</td>\n",
       "    </tr>\n",
       "    <tr>\n",
       "      <th>623</th>\n",
       "      <td>Boston city</td>\n",
       "      <td>unemployment</td>\n",
       "      <td>Massachusetts</td>\n",
       "      <td>21415</td>\n",
       "      <td>2014</td>\n",
       "    </tr>\n",
       "    <tr>\n",
       "      <th>635</th>\n",
       "      <td>Boston city</td>\n",
       "      <td>unemployment</td>\n",
       "      <td>Massachusetts</td>\n",
       "      <td>24065</td>\n",
       "      <td>2013</td>\n",
       "    </tr>\n",
       "    <tr>\n",
       "      <th>647</th>\n",
       "      <td>Boston city</td>\n",
       "      <td>unemployment</td>\n",
       "      <td>Massachusetts</td>\n",
       "      <td>22973</td>\n",
       "      <td>2012</td>\n",
       "    </tr>\n",
       "    <tr>\n",
       "      <th>659</th>\n",
       "      <td>Boston city</td>\n",
       "      <td>unemployment</td>\n",
       "      <td>Massachusetts</td>\n",
       "      <td>24213</td>\n",
       "      <td>2011</td>\n",
       "    </tr>\n",
       "    <tr>\n",
       "      <th>671</th>\n",
       "      <td>Boston city</td>\n",
       "      <td>unemployment</td>\n",
       "      <td>Massachusetts</td>\n",
       "      <td>27628</td>\n",
       "      <td>2010</td>\n",
       "    </tr>\n",
       "    <tr>\n",
       "      <th>683</th>\n",
       "      <td>Boston city</td>\n",
       "      <td>unemployment</td>\n",
       "      <td>Massachusetts</td>\n",
       "      <td>27224</td>\n",
       "      <td>2009</td>\n",
       "    </tr>\n",
       "    <tr>\n",
       "      <th>695</th>\n",
       "      <td>Boston city</td>\n",
       "      <td>unemployment</td>\n",
       "      <td>Massachusetts</td>\n",
       "      <td>19085</td>\n",
       "      <td>2008</td>\n",
       "    </tr>\n",
       "    <tr>\n",
       "      <th>704</th>\n",
       "      <td>Boston city</td>\n",
       "      <td>employment</td>\n",
       "      <td>Massachusetts</td>\n",
       "      <td>365271</td>\n",
       "      <td>2017</td>\n",
       "    </tr>\n",
       "    <tr>\n",
       "      <th>716</th>\n",
       "      <td>Boston city</td>\n",
       "      <td>employment</td>\n",
       "      <td>Massachusetts</td>\n",
       "      <td>355265</td>\n",
       "      <td>2016</td>\n",
       "    </tr>\n",
       "    <tr>\n",
       "      <th>728</th>\n",
       "      <td>Boston city</td>\n",
       "      <td>employment</td>\n",
       "      <td>Massachusetts</td>\n",
       "      <td>348817</td>\n",
       "      <td>2015</td>\n",
       "    </tr>\n",
       "    <tr>\n",
       "      <th>740</th>\n",
       "      <td>Boston city</td>\n",
       "      <td>employment</td>\n",
       "      <td>Massachusetts</td>\n",
       "      <td>339755</td>\n",
       "      <td>2014</td>\n",
       "    </tr>\n",
       "    <tr>\n",
       "      <th>752</th>\n",
       "      <td>Boston city</td>\n",
       "      <td>employment</td>\n",
       "      <td>Massachusetts</td>\n",
       "      <td>329650</td>\n",
       "      <td>2013</td>\n",
       "    </tr>\n",
       "    <tr>\n",
       "      <th>764</th>\n",
       "      <td>Boston city</td>\n",
       "      <td>employment</td>\n",
       "      <td>Massachusetts</td>\n",
       "      <td>325693</td>\n",
       "      <td>2012</td>\n",
       "    </tr>\n",
       "    <tr>\n",
       "      <th>776</th>\n",
       "      <td>Boston city</td>\n",
       "      <td>employment</td>\n",
       "      <td>Massachusetts</td>\n",
       "      <td>319585</td>\n",
       "      <td>2011</td>\n",
       "    </tr>\n",
       "    <tr>\n",
       "      <th>788</th>\n",
       "      <td>Boston city</td>\n",
       "      <td>employment</td>\n",
       "      <td>Massachusetts</td>\n",
       "      <td>314539</td>\n",
       "      <td>2010</td>\n",
       "    </tr>\n",
       "    <tr>\n",
       "      <th>800</th>\n",
       "      <td>Boston city</td>\n",
       "      <td>employment</td>\n",
       "      <td>Massachusetts</td>\n",
       "      <td>303159</td>\n",
       "      <td>2009</td>\n",
       "    </tr>\n",
       "    <tr>\n",
       "      <th>812</th>\n",
       "      <td>Boston city</td>\n",
       "      <td>employment</td>\n",
       "      <td>Massachusetts</td>\n",
       "      <td>309163</td>\n",
       "      <td>2008</td>\n",
       "    </tr>\n",
       "    <tr>\n",
       "      <th>821</th>\n",
       "      <td>Boston city</td>\n",
       "      <td>labor-force</td>\n",
       "      <td>Massachusetts</td>\n",
       "      <td>381405</td>\n",
       "      <td>2017</td>\n",
       "    </tr>\n",
       "    <tr>\n",
       "      <th>833</th>\n",
       "      <td>Boston city</td>\n",
       "      <td>labor-force</td>\n",
       "      <td>Massachusetts</td>\n",
       "      <td>369136</td>\n",
       "      <td>2016</td>\n",
       "    </tr>\n",
       "    <tr>\n",
       "      <th>845</th>\n",
       "      <td>Boston city</td>\n",
       "      <td>labor-force</td>\n",
       "      <td>Massachusetts</td>\n",
       "      <td>366870</td>\n",
       "      <td>2015</td>\n",
       "    </tr>\n",
       "    <tr>\n",
       "      <th>857</th>\n",
       "      <td>Boston city</td>\n",
       "      <td>labor-force</td>\n",
       "      <td>Massachusetts</td>\n",
       "      <td>361170</td>\n",
       "      <td>2014</td>\n",
       "    </tr>\n",
       "    <tr>\n",
       "      <th>869</th>\n",
       "      <td>Boston city</td>\n",
       "      <td>labor-force</td>\n",
       "      <td>Massachusetts</td>\n",
       "      <td>353715</td>\n",
       "      <td>2013</td>\n",
       "    </tr>\n",
       "    <tr>\n",
       "      <th>881</th>\n",
       "      <td>Boston city</td>\n",
       "      <td>labor-force</td>\n",
       "      <td>Massachusetts</td>\n",
       "      <td>348666</td>\n",
       "      <td>2012</td>\n",
       "    </tr>\n",
       "    <tr>\n",
       "      <th>893</th>\n",
       "      <td>Boston city</td>\n",
       "      <td>labor-force</td>\n",
       "      <td>Massachusetts</td>\n",
       "      <td>343798</td>\n",
       "      <td>2011</td>\n",
       "    </tr>\n",
       "    <tr>\n",
       "      <th>905</th>\n",
       "      <td>Boston city</td>\n",
       "      <td>labor-force</td>\n",
       "      <td>Massachusetts</td>\n",
       "      <td>342167</td>\n",
       "      <td>2010</td>\n",
       "    </tr>\n",
       "    <tr>\n",
       "      <th>917</th>\n",
       "      <td>Boston city</td>\n",
       "      <td>labor-force</td>\n",
       "      <td>Massachusetts</td>\n",
       "      <td>330383</td>\n",
       "      <td>2009</td>\n",
       "    </tr>\n",
       "    <tr>\n",
       "      <th>929</th>\n",
       "      <td>Boston city</td>\n",
       "      <td>labor-force</td>\n",
       "      <td>Massachusetts</td>\n",
       "      <td>328248</td>\n",
       "      <td>2008</td>\n",
       "    </tr>\n",
       "  </tbody>\n",
       "</table>\n",
       "</div>"
      ],
      "text/plain": [
       "               City            Measure          State   Value  Year\n",
       "845280  Boston city         population  Massachusetts  636748  2008\n",
       "926983  Boston city         population  Massachusetts  645169  2009\n",
       "191488  Boston city         population  Massachusetts  620701  2010\n",
       "273073  Boston city         population  Massachusetts  630195  2011\n",
       "354658  Boston city         population  Massachusetts  641911  2012\n",
       "436243  Boston city         population  Massachusetts  651090  2013\n",
       "517828  Boston city         population  Massachusetts  659180  2014\n",
       "599413  Boston city         population  Massachusetts  665984  2015\n",
       "680998  Boston city         population  Massachusetts  673184  2016\n",
       "470     Boston city  unemployment-rate  Massachusetts     4.2  2017\n",
       "482     Boston city  unemployment-rate  Massachusetts     3.8  2016\n",
       "494     Boston city  unemployment-rate  Massachusetts     4.9  2015\n",
       "506     Boston city  unemployment-rate  Massachusetts     5.9  2014\n",
       "518     Boston city  unemployment-rate  Massachusetts     6.8  2013\n",
       "530     Boston city  unemployment-rate  Massachusetts     6.6  2012\n",
       "542     Boston city  unemployment-rate  Massachusetts     7.0  2011\n",
       "554     Boston city  unemployment-rate  Massachusetts     8.1  2010\n",
       "566     Boston city  unemployment-rate  Massachusetts     8.2  2009\n",
       "578     Boston city  unemployment-rate  Massachusetts     5.8  2008\n",
       "587     Boston city       unemployment  Massachusetts   16134  2017\n",
       "599     Boston city       unemployment  Massachusetts   13871  2016\n",
       "611     Boston city       unemployment  Massachusetts   18053  2015\n",
       "623     Boston city       unemployment  Massachusetts   21415  2014\n",
       "635     Boston city       unemployment  Massachusetts   24065  2013\n",
       "647     Boston city       unemployment  Massachusetts   22973  2012\n",
       "659     Boston city       unemployment  Massachusetts   24213  2011\n",
       "671     Boston city       unemployment  Massachusetts   27628  2010\n",
       "683     Boston city       unemployment  Massachusetts   27224  2009\n",
       "695     Boston city       unemployment  Massachusetts   19085  2008\n",
       "704     Boston city         employment  Massachusetts  365271  2017\n",
       "716     Boston city         employment  Massachusetts  355265  2016\n",
       "728     Boston city         employment  Massachusetts  348817  2015\n",
       "740     Boston city         employment  Massachusetts  339755  2014\n",
       "752     Boston city         employment  Massachusetts  329650  2013\n",
       "764     Boston city         employment  Massachusetts  325693  2012\n",
       "776     Boston city         employment  Massachusetts  319585  2011\n",
       "788     Boston city         employment  Massachusetts  314539  2010\n",
       "800     Boston city         employment  Massachusetts  303159  2009\n",
       "812     Boston city         employment  Massachusetts  309163  2008\n",
       "821     Boston city        labor-force  Massachusetts  381405  2017\n",
       "833     Boston city        labor-force  Massachusetts  369136  2016\n",
       "845     Boston city        labor-force  Massachusetts  366870  2015\n",
       "857     Boston city        labor-force  Massachusetts  361170  2014\n",
       "869     Boston city        labor-force  Massachusetts  353715  2013\n",
       "881     Boston city        labor-force  Massachusetts  348666  2012\n",
       "893     Boston city        labor-force  Massachusetts  343798  2011\n",
       "905     Boston city        labor-force  Massachusetts  342167  2010\n",
       "917     Boston city        labor-force  Massachusetts  330383  2009\n",
       "929     Boston city        labor-force  Massachusetts  328248  2008"
      ]
     },
     "execution_count": 46,
     "metadata": {},
     "output_type": "execute_result"
    }
   ],
   "source": [
    "df[(df.City == \"Boston city\") & (df.State == \"Massachusetts\") & (df.Year >= \"2008\")]"
   ]
  },
  {
   "cell_type": "markdown",
   "metadata": {},
   "source": [
    "# trim city names"
   ]
  },
  {
   "cell_type": "code",
   "execution_count": 47,
   "metadata": {
    "collapsed": true
   },
   "outputs": [],
   "source": [
    "df.City = [trimCityName(city) for city in df.City]"
   ]
  },
  {
   "cell_type": "code",
   "execution_count": null,
   "metadata": {
    "collapsed": true
   },
   "outputs": [],
   "source": []
  },
  {
   "cell_type": "markdown",
   "metadata": {},
   "source": [
    "# plot labor-force and population"
   ]
  },
  {
   "cell_type": "code",
   "execution_count": 48,
   "metadata": {
    "collapsed": true
   },
   "outputs": [],
   "source": [
    "# city = \"Boston\"\n",
    "# state = \"Massachusetts\"\n",
    "\n",
    "city = \"Philadelphia\"\n",
    "state = \"Pennsylvania\"\n",
    "\n",
    "beginYear = \"2008\"\n",
    "endYear = \"2016\""
   ]
  },
  {
   "cell_type": "code",
   "execution_count": 49,
   "metadata": {
    "collapsed": true
   },
   "outputs": [],
   "source": [
    "def getData(measure):\n",
    "    return df[(df.City == city) & (df.State == state) & (df.Year >= beginYear) & (df.Year <= endYear) & (df.Measure == measure)].sort_values(['Year'])"
   ]
  },
  {
   "cell_type": "code",
   "execution_count": 50,
   "metadata": {
    "collapsed": true
   },
   "outputs": [],
   "source": [
    "measure = \"labor-force\"\n",
    "lfd = getData(measure)"
   ]
  },
  {
   "cell_type": "code",
   "execution_count": 51,
   "metadata": {
    "collapsed": true
   },
   "outputs": [],
   "source": [
    "measure = \"population\"\n",
    "pop = getData(measure)"
   ]
  },
  {
   "cell_type": "code",
   "execution_count": 52,
   "metadata": {
    "collapsed": true
   },
   "outputs": [],
   "source": [
    "emp = getData(\"employment\")"
   ]
  },
  {
   "cell_type": "code",
   "execution_count": 53,
   "metadata": {
    "collapsed": true
   },
   "outputs": [],
   "source": [
    "uem = getData(\"unemployment\")"
   ]
  },
  {
   "cell_type": "code",
   "execution_count": 54,
   "metadata": {
    "collapsed": false
   },
   "outputs": [
    {
     "data": {
      "text/html": [
       "<div>\n",
       "<style>\n",
       "    .dataframe thead tr:only-child th {\n",
       "        text-align: right;\n",
       "    }\n",
       "\n",
       "    .dataframe thead th {\n",
       "        text-align: left;\n",
       "    }\n",
       "\n",
       "    .dataframe tbody tr th {\n",
       "        vertical-align: top;\n",
       "    }\n",
       "</style>\n",
       "<table border=\"1\" class=\"dataframe\">\n",
       "  <thead>\n",
       "    <tr style=\"text-align: right;\">\n",
       "      <th></th>\n",
       "      <th>City</th>\n",
       "      <th>Measure</th>\n",
       "      <th>State</th>\n",
       "      <th>Value</th>\n",
       "      <th>Year</th>\n",
       "    </tr>\n",
       "  </thead>\n",
       "  <tbody>\n",
       "    <tr>\n",
       "      <th>461</th>\n",
       "      <td>Philadelphia</td>\n",
       "      <td>labor-force</td>\n",
       "      <td>Pennsylvania</td>\n",
       "      <td>641086</td>\n",
       "      <td>2008</td>\n",
       "    </tr>\n",
       "    <tr>\n",
       "      <th>449</th>\n",
       "      <td>Philadelphia</td>\n",
       "      <td>labor-force</td>\n",
       "      <td>Pennsylvania</td>\n",
       "      <td>663457</td>\n",
       "      <td>2009</td>\n",
       "    </tr>\n",
       "    <tr>\n",
       "      <th>437</th>\n",
       "      <td>Philadelphia</td>\n",
       "      <td>labor-force</td>\n",
       "      <td>Pennsylvania</td>\n",
       "      <td>696073</td>\n",
       "      <td>2010</td>\n",
       "    </tr>\n",
       "    <tr>\n",
       "      <th>425</th>\n",
       "      <td>Philadelphia</td>\n",
       "      <td>labor-force</td>\n",
       "      <td>Pennsylvania</td>\n",
       "      <td>698060</td>\n",
       "      <td>2011</td>\n",
       "    </tr>\n",
       "    <tr>\n",
       "      <th>413</th>\n",
       "      <td>Philadelphia</td>\n",
       "      <td>labor-force</td>\n",
       "      <td>Pennsylvania</td>\n",
       "      <td>709570</td>\n",
       "      <td>2012</td>\n",
       "    </tr>\n",
       "    <tr>\n",
       "      <th>401</th>\n",
       "      <td>Philadelphia</td>\n",
       "      <td>labor-force</td>\n",
       "      <td>Pennsylvania</td>\n",
       "      <td>705946</td>\n",
       "      <td>2013</td>\n",
       "    </tr>\n",
       "    <tr>\n",
       "      <th>389</th>\n",
       "      <td>Philadelphia</td>\n",
       "      <td>labor-force</td>\n",
       "      <td>Pennsylvania</td>\n",
       "      <td>698219</td>\n",
       "      <td>2014</td>\n",
       "    </tr>\n",
       "    <tr>\n",
       "      <th>377</th>\n",
       "      <td>Philadelphia</td>\n",
       "      <td>labor-force</td>\n",
       "      <td>Pennsylvania</td>\n",
       "      <td>701763</td>\n",
       "      <td>2015</td>\n",
       "    </tr>\n",
       "    <tr>\n",
       "      <th>365</th>\n",
       "      <td>Philadelphia</td>\n",
       "      <td>labor-force</td>\n",
       "      <td>Pennsylvania</td>\n",
       "      <td>715091</td>\n",
       "      <td>2016</td>\n",
       "    </tr>\n",
       "  </tbody>\n",
       "</table>\n",
       "</div>"
      ],
      "text/plain": [
       "             City      Measure         State   Value  Year\n",
       "461  Philadelphia  labor-force  Pennsylvania  641086  2008\n",
       "449  Philadelphia  labor-force  Pennsylvania  663457  2009\n",
       "437  Philadelphia  labor-force  Pennsylvania  696073  2010\n",
       "425  Philadelphia  labor-force  Pennsylvania  698060  2011\n",
       "413  Philadelphia  labor-force  Pennsylvania  709570  2012\n",
       "401  Philadelphia  labor-force  Pennsylvania  705946  2013\n",
       "389  Philadelphia  labor-force  Pennsylvania  698219  2014\n",
       "377  Philadelphia  labor-force  Pennsylvania  701763  2015\n",
       "365  Philadelphia  labor-force  Pennsylvania  715091  2016"
      ]
     },
     "execution_count": 54,
     "metadata": {},
     "output_type": "execute_result"
    }
   ],
   "source": [
    "lfd"
   ]
  },
  {
   "cell_type": "code",
   "execution_count": 55,
   "metadata": {
    "collapsed": false
   },
   "outputs": [
    {
     "data": {
      "text/html": [
       "<div>\n",
       "<style>\n",
       "    .dataframe thead tr:only-child th {\n",
       "        text-align: right;\n",
       "    }\n",
       "\n",
       "    .dataframe thead th {\n",
       "        text-align: left;\n",
       "    }\n",
       "\n",
       "    .dataframe tbody tr th {\n",
       "        vertical-align: top;\n",
       "    }\n",
       "</style>\n",
       "<table border=\"1\" class=\"dataframe\">\n",
       "  <thead>\n",
       "    <tr style=\"text-align: right;\">\n",
       "      <th></th>\n",
       "      <th>City</th>\n",
       "      <th>Measure</th>\n",
       "      <th>State</th>\n",
       "      <th>Value</th>\n",
       "      <th>Year</th>\n",
       "    </tr>\n",
       "  </thead>\n",
       "  <tbody>\n",
       "    <tr>\n",
       "      <th>879498</th>\n",
       "      <td>Philadelphia</td>\n",
       "      <td>population</td>\n",
       "      <td>Pennsylvania</td>\n",
       "      <td>1540351</td>\n",
       "      <td>2008</td>\n",
       "    </tr>\n",
       "    <tr>\n",
       "      <th>961201</th>\n",
       "      <td>Philadelphia</td>\n",
       "      <td>population</td>\n",
       "      <td>Pennsylvania</td>\n",
       "      <td>1547297</td>\n",
       "      <td>2009</td>\n",
       "    </tr>\n",
       "    <tr>\n",
       "      <th>225482</th>\n",
       "      <td>Philadelphia</td>\n",
       "      <td>population</td>\n",
       "      <td>Pennsylvania</td>\n",
       "      <td>1528427</td>\n",
       "      <td>2010</td>\n",
       "    </tr>\n",
       "    <tr>\n",
       "      <th>307067</th>\n",
       "      <td>Philadelphia</td>\n",
       "      <td>population</td>\n",
       "      <td>Pennsylvania</td>\n",
       "      <td>1539022</td>\n",
       "      <td>2011</td>\n",
       "    </tr>\n",
       "    <tr>\n",
       "      <th>388652</th>\n",
       "      <td>Philadelphia</td>\n",
       "      <td>population</td>\n",
       "      <td>Pennsylvania</td>\n",
       "      <td>1550379</td>\n",
       "      <td>2012</td>\n",
       "    </tr>\n",
       "    <tr>\n",
       "      <th>470237</th>\n",
       "      <td>Philadelphia</td>\n",
       "      <td>population</td>\n",
       "      <td>Pennsylvania</td>\n",
       "      <td>1555868</td>\n",
       "      <td>2013</td>\n",
       "    </tr>\n",
       "    <tr>\n",
       "      <th>551822</th>\n",
       "      <td>Philadelphia</td>\n",
       "      <td>population</td>\n",
       "      <td>Pennsylvania</td>\n",
       "      <td>1560609</td>\n",
       "      <td>2014</td>\n",
       "    </tr>\n",
       "    <tr>\n",
       "      <th>633407</th>\n",
       "      <td>Philadelphia</td>\n",
       "      <td>population</td>\n",
       "      <td>Pennsylvania</td>\n",
       "      <td>1564964</td>\n",
       "      <td>2015</td>\n",
       "    </tr>\n",
       "    <tr>\n",
       "      <th>714992</th>\n",
       "      <td>Philadelphia</td>\n",
       "      <td>population</td>\n",
       "      <td>Pennsylvania</td>\n",
       "      <td>1567872</td>\n",
       "      <td>2016</td>\n",
       "    </tr>\n",
       "  </tbody>\n",
       "</table>\n",
       "</div>"
      ],
      "text/plain": [
       "                City     Measure         State    Value  Year\n",
       "879498  Philadelphia  population  Pennsylvania  1540351  2008\n",
       "961201  Philadelphia  population  Pennsylvania  1547297  2009\n",
       "225482  Philadelphia  population  Pennsylvania  1528427  2010\n",
       "307067  Philadelphia  population  Pennsylvania  1539022  2011\n",
       "388652  Philadelphia  population  Pennsylvania  1550379  2012\n",
       "470237  Philadelphia  population  Pennsylvania  1555868  2013\n",
       "551822  Philadelphia  population  Pennsylvania  1560609  2014\n",
       "633407  Philadelphia  population  Pennsylvania  1564964  2015\n",
       "714992  Philadelphia  population  Pennsylvania  1567872  2016"
      ]
     },
     "execution_count": 55,
     "metadata": {},
     "output_type": "execute_result"
    }
   ],
   "source": [
    "pop"
   ]
  },
  {
   "cell_type": "code",
   "execution_count": 56,
   "metadata": {
    "collapsed": false
   },
   "outputs": [
    {
     "data": {
      "text/html": [
       "<div>\n",
       "<style>\n",
       "    .dataframe thead tr:only-child th {\n",
       "        text-align: right;\n",
       "    }\n",
       "\n",
       "    .dataframe thead th {\n",
       "        text-align: left;\n",
       "    }\n",
       "\n",
       "    .dataframe tbody tr th {\n",
       "        vertical-align: top;\n",
       "    }\n",
       "</style>\n",
       "<table border=\"1\" class=\"dataframe\">\n",
       "  <thead>\n",
       "    <tr style=\"text-align: right;\">\n",
       "      <th></th>\n",
       "      <th>City</th>\n",
       "      <th>Measure</th>\n",
       "      <th>State</th>\n",
       "      <th>Value</th>\n",
       "      <th>Year</th>\n",
       "    </tr>\n",
       "  </thead>\n",
       "  <tbody>\n",
       "    <tr>\n",
       "      <th>344</th>\n",
       "      <td>Philadelphia</td>\n",
       "      <td>employment</td>\n",
       "      <td>Pennsylvania</td>\n",
       "      <td>593590</td>\n",
       "      <td>2008</td>\n",
       "    </tr>\n",
       "    <tr>\n",
       "      <th>332</th>\n",
       "      <td>Philadelphia</td>\n",
       "      <td>employment</td>\n",
       "      <td>Pennsylvania</td>\n",
       "      <td>595015</td>\n",
       "      <td>2009</td>\n",
       "    </tr>\n",
       "    <tr>\n",
       "      <th>320</th>\n",
       "      <td>Philadelphia</td>\n",
       "      <td>employment</td>\n",
       "      <td>Pennsylvania</td>\n",
       "      <td>618211</td>\n",
       "      <td>2010</td>\n",
       "    </tr>\n",
       "    <tr>\n",
       "      <th>308</th>\n",
       "      <td>Philadelphia</td>\n",
       "      <td>employment</td>\n",
       "      <td>Pennsylvania</td>\n",
       "      <td>616582</td>\n",
       "      <td>2011</td>\n",
       "    </tr>\n",
       "    <tr>\n",
       "      <th>296</th>\n",
       "      <td>Philadelphia</td>\n",
       "      <td>employment</td>\n",
       "      <td>Pennsylvania</td>\n",
       "      <td>624624</td>\n",
       "      <td>2012</td>\n",
       "    </tr>\n",
       "    <tr>\n",
       "      <th>284</th>\n",
       "      <td>Philadelphia</td>\n",
       "      <td>employment</td>\n",
       "      <td>Pennsylvania</td>\n",
       "      <td>628376</td>\n",
       "      <td>2013</td>\n",
       "    </tr>\n",
       "    <tr>\n",
       "      <th>272</th>\n",
       "      <td>Philadelphia</td>\n",
       "      <td>employment</td>\n",
       "      <td>Pennsylvania</td>\n",
       "      <td>635793</td>\n",
       "      <td>2014</td>\n",
       "    </tr>\n",
       "    <tr>\n",
       "      <th>260</th>\n",
       "      <td>Philadelphia</td>\n",
       "      <td>employment</td>\n",
       "      <td>Pennsylvania</td>\n",
       "      <td>645338</td>\n",
       "      <td>2015</td>\n",
       "    </tr>\n",
       "    <tr>\n",
       "      <th>248</th>\n",
       "      <td>Philadelphia</td>\n",
       "      <td>employment</td>\n",
       "      <td>Pennsylvania</td>\n",
       "      <td>660808</td>\n",
       "      <td>2016</td>\n",
       "    </tr>\n",
       "  </tbody>\n",
       "</table>\n",
       "</div>"
      ],
      "text/plain": [
       "             City     Measure         State   Value  Year\n",
       "344  Philadelphia  employment  Pennsylvania  593590  2008\n",
       "332  Philadelphia  employment  Pennsylvania  595015  2009\n",
       "320  Philadelphia  employment  Pennsylvania  618211  2010\n",
       "308  Philadelphia  employment  Pennsylvania  616582  2011\n",
       "296  Philadelphia  employment  Pennsylvania  624624  2012\n",
       "284  Philadelphia  employment  Pennsylvania  628376  2013\n",
       "272  Philadelphia  employment  Pennsylvania  635793  2014\n",
       "260  Philadelphia  employment  Pennsylvania  645338  2015\n",
       "248  Philadelphia  employment  Pennsylvania  660808  2016"
      ]
     },
     "execution_count": 56,
     "metadata": {},
     "output_type": "execute_result"
    }
   ],
   "source": [
    "emp"
   ]
  },
  {
   "cell_type": "code",
   "execution_count": 57,
   "metadata": {
    "collapsed": false
   },
   "outputs": [
    {
     "data": {
      "text/html": [
       "<div>\n",
       "<style>\n",
       "    .dataframe thead tr:only-child th {\n",
       "        text-align: right;\n",
       "    }\n",
       "\n",
       "    .dataframe thead th {\n",
       "        text-align: left;\n",
       "    }\n",
       "\n",
       "    .dataframe tbody tr th {\n",
       "        vertical-align: top;\n",
       "    }\n",
       "</style>\n",
       "<table border=\"1\" class=\"dataframe\">\n",
       "  <thead>\n",
       "    <tr style=\"text-align: right;\">\n",
       "      <th></th>\n",
       "      <th>City</th>\n",
       "      <th>Measure</th>\n",
       "      <th>State</th>\n",
       "      <th>Value</th>\n",
       "      <th>Year</th>\n",
       "    </tr>\n",
       "  </thead>\n",
       "  <tbody>\n",
       "    <tr>\n",
       "      <th>227</th>\n",
       "      <td>Philadelphia</td>\n",
       "      <td>unemployment</td>\n",
       "      <td>Pennsylvania</td>\n",
       "      <td>47496</td>\n",
       "      <td>2008</td>\n",
       "    </tr>\n",
       "    <tr>\n",
       "      <th>215</th>\n",
       "      <td>Philadelphia</td>\n",
       "      <td>unemployment</td>\n",
       "      <td>Pennsylvania</td>\n",
       "      <td>68442</td>\n",
       "      <td>2009</td>\n",
       "    </tr>\n",
       "    <tr>\n",
       "      <th>203</th>\n",
       "      <td>Philadelphia</td>\n",
       "      <td>unemployment</td>\n",
       "      <td>Pennsylvania</td>\n",
       "      <td>77862</td>\n",
       "      <td>2010</td>\n",
       "    </tr>\n",
       "    <tr>\n",
       "      <th>191</th>\n",
       "      <td>Philadelphia</td>\n",
       "      <td>unemployment</td>\n",
       "      <td>Pennsylvania</td>\n",
       "      <td>81478</td>\n",
       "      <td>2011</td>\n",
       "    </tr>\n",
       "    <tr>\n",
       "      <th>179</th>\n",
       "      <td>Philadelphia</td>\n",
       "      <td>unemployment</td>\n",
       "      <td>Pennsylvania</td>\n",
       "      <td>84946</td>\n",
       "      <td>2012</td>\n",
       "    </tr>\n",
       "    <tr>\n",
       "      <th>167</th>\n",
       "      <td>Philadelphia</td>\n",
       "      <td>unemployment</td>\n",
       "      <td>Pennsylvania</td>\n",
       "      <td>77570</td>\n",
       "      <td>2013</td>\n",
       "    </tr>\n",
       "    <tr>\n",
       "      <th>155</th>\n",
       "      <td>Philadelphia</td>\n",
       "      <td>unemployment</td>\n",
       "      <td>Pennsylvania</td>\n",
       "      <td>62426</td>\n",
       "      <td>2014</td>\n",
       "    </tr>\n",
       "    <tr>\n",
       "      <th>143</th>\n",
       "      <td>Philadelphia</td>\n",
       "      <td>unemployment</td>\n",
       "      <td>Pennsylvania</td>\n",
       "      <td>56425</td>\n",
       "      <td>2015</td>\n",
       "    </tr>\n",
       "    <tr>\n",
       "      <th>131</th>\n",
       "      <td>Philadelphia</td>\n",
       "      <td>unemployment</td>\n",
       "      <td>Pennsylvania</td>\n",
       "      <td>54283</td>\n",
       "      <td>2016</td>\n",
       "    </tr>\n",
       "  </tbody>\n",
       "</table>\n",
       "</div>"
      ],
      "text/plain": [
       "             City       Measure         State  Value  Year\n",
       "227  Philadelphia  unemployment  Pennsylvania  47496  2008\n",
       "215  Philadelphia  unemployment  Pennsylvania  68442  2009\n",
       "203  Philadelphia  unemployment  Pennsylvania  77862  2010\n",
       "191  Philadelphia  unemployment  Pennsylvania  81478  2011\n",
       "179  Philadelphia  unemployment  Pennsylvania  84946  2012\n",
       "167  Philadelphia  unemployment  Pennsylvania  77570  2013\n",
       "155  Philadelphia  unemployment  Pennsylvania  62426  2014\n",
       "143  Philadelphia  unemployment  Pennsylvania  56425  2015\n",
       "131  Philadelphia  unemployment  Pennsylvania  54283  2016"
      ]
     },
     "execution_count": 57,
     "metadata": {},
     "output_type": "execute_result"
    }
   ],
   "source": [
    "uem"
   ]
  },
  {
   "cell_type": "code",
   "execution_count": 58,
   "metadata": {
    "collapsed": true
   },
   "outputs": [],
   "source": [
    "ratio = (lfd.Value.values.astype(\"int\")/pop.Value.values.astype(\"int\"))*100.0"
   ]
  },
  {
   "cell_type": "code",
   "execution_count": 59,
   "metadata": {
    "collapsed": false
   },
   "outputs": [
    {
     "data": {
      "text/plain": [
       "array([ 41.61947504,  42.87845191,  45.54178904,  45.35737631,\n",
       "        45.76751878,  45.37312934,  44.74016233,  44.84211777,  45.60901655])"
      ]
     },
     "execution_count": 59,
     "metadata": {},
     "output_type": "execute_result"
    }
   ],
   "source": [
    "ratio"
   ]
  },
  {
   "cell_type": "code",
   "execution_count": 60,
   "metadata": {
    "collapsed": false
   },
   "outputs": [
    {
     "data": {
      "image/png": "[encoded data removed]",
      "text/plain": [
       "<matplotlib.figure.Figure at 0x11a074240>"
      ]
     },
     "metadata": {},
     "output_type": "display_data"
    }
   ],
   "source": [
    "fig = plt.figure()\n",
    "ax = plt.subplot(111)\n",
    "\n",
    "y1 = lfd.Value.values.astype(\"int\")\n",
    "y2 = pop.Value.values.astype(\"int\")\n",
    "x = lfd.Year.values.astype(\"int\")\n",
    "#plt.plot(x, y1, label=\"Labor Force\", x, y2, label=\"Population\")\n",
    "ax.plot(x, y1, label=\"Labor Force\")\n",
    "ax.plot(x, y2, label=\"Population\")\n",
    "plt.legend()\n",
    "\n",
    "# Shrink current axis by 20%\n",
    "box = ax.get_position()\n",
    "ax.set_position([box.x0, box.y0, box.width * 0.8, box.height])\n",
    "\n",
    "# Put a legend to the right of the current axis\n",
    "ax.legend(loc='center left', bbox_to_anchor=(1, 0.5))\n",
    "\n",
    "ax.set_title(\"{} Population and Labor Force\".format(city))\n",
    "ax.set_ylabel(\"People (number)\")\n",
    "ax.set_xlabel(\"Year\")\n",
    "plt.show()"
   ]
  },
  {
   "cell_type": "code",
   "execution_count": 61,
   "metadata": {
    "collapsed": false
   },
   "outputs": [
    {
     "data": {
      "text/plain": [
       "[<matplotlib.lines.Line2D at 0x119d73b00>]"
      ]
     },
     "execution_count": 61,
     "metadata": {},
     "output_type": "execute_result"
    },
    {
     "data": {
      "image/png": "[encoded data removed]",
      "text/plain": [
       "<matplotlib.figure.Figure at 0x12a6f6cf8>"
      ]
     },
     "metadata": {},
     "output_type": "display_data"
    }
   ],
   "source": [
    "plt.plot(x, ratio)"
   ]
  },
  {
   "cell_type": "code",
   "execution_count": 62,
   "metadata": {
    "collapsed": true
   },
   "outputs": [],
   "source": [
    "measure = \"unemployment-rate\"\n",
    "uer = getData(measure)"
   ]
  },
  {
   "cell_type": "code",
   "execution_count": 63,
   "metadata": {
    "collapsed": false
   },
   "outputs": [
    {
     "data": {
      "text/html": [
       "<div>\n",
       "<style>\n",
       "    .dataframe thead tr:only-child th {\n",
       "        text-align: right;\n",
       "    }\n",
       "\n",
       "    .dataframe thead th {\n",
       "        text-align: left;\n",
       "    }\n",
       "\n",
       "    .dataframe tbody tr th {\n",
       "        vertical-align: top;\n",
       "    }\n",
       "</style>\n",
       "<table border=\"1\" class=\"dataframe\">\n",
       "  <thead>\n",
       "    <tr style=\"text-align: right;\">\n",
       "      <th></th>\n",
       "      <th>City</th>\n",
       "      <th>Measure</th>\n",
       "      <th>State</th>\n",
       "      <th>Value</th>\n",
       "      <th>Year</th>\n",
       "    </tr>\n",
       "  </thead>\n",
       "  <tbody>\n",
       "    <tr>\n",
       "      <th>110</th>\n",
       "      <td>Philadelphia</td>\n",
       "      <td>unemployment-rate</td>\n",
       "      <td>Pennsylvania</td>\n",
       "      <td>7.4</td>\n",
       "      <td>2008</td>\n",
       "    </tr>\n",
       "    <tr>\n",
       "      <th>98</th>\n",
       "      <td>Philadelphia</td>\n",
       "      <td>unemployment-rate</td>\n",
       "      <td>Pennsylvania</td>\n",
       "      <td>10.3</td>\n",
       "      <td>2009</td>\n",
       "    </tr>\n",
       "    <tr>\n",
       "      <th>86</th>\n",
       "      <td>Philadelphia</td>\n",
       "      <td>unemployment-rate</td>\n",
       "      <td>Pennsylvania</td>\n",
       "      <td>11.2</td>\n",
       "      <td>2010</td>\n",
       "    </tr>\n",
       "    <tr>\n",
       "      <th>74</th>\n",
       "      <td>Philadelphia</td>\n",
       "      <td>unemployment-rate</td>\n",
       "      <td>Pennsylvania</td>\n",
       "      <td>11.7</td>\n",
       "      <td>2011</td>\n",
       "    </tr>\n",
       "    <tr>\n",
       "      <th>62</th>\n",
       "      <td>Philadelphia</td>\n",
       "      <td>unemployment-rate</td>\n",
       "      <td>Pennsylvania</td>\n",
       "      <td>12.0</td>\n",
       "      <td>2012</td>\n",
       "    </tr>\n",
       "    <tr>\n",
       "      <th>50</th>\n",
       "      <td>Philadelphia</td>\n",
       "      <td>unemployment-rate</td>\n",
       "      <td>Pennsylvania</td>\n",
       "      <td>11.0</td>\n",
       "      <td>2013</td>\n",
       "    </tr>\n",
       "    <tr>\n",
       "      <th>38</th>\n",
       "      <td>Philadelphia</td>\n",
       "      <td>unemployment-rate</td>\n",
       "      <td>Pennsylvania</td>\n",
       "      <td>8.9</td>\n",
       "      <td>2014</td>\n",
       "    </tr>\n",
       "    <tr>\n",
       "      <th>26</th>\n",
       "      <td>Philadelphia</td>\n",
       "      <td>unemployment-rate</td>\n",
       "      <td>Pennsylvania</td>\n",
       "      <td>8.0</td>\n",
       "      <td>2015</td>\n",
       "    </tr>\n",
       "    <tr>\n",
       "      <th>14</th>\n",
       "      <td>Philadelphia</td>\n",
       "      <td>unemployment-rate</td>\n",
       "      <td>Pennsylvania</td>\n",
       "      <td>7.6</td>\n",
       "      <td>2016</td>\n",
       "    </tr>\n",
       "  </tbody>\n",
       "</table>\n",
       "</div>"
      ],
      "text/plain": [
       "             City            Measure         State Value  Year\n",
       "110  Philadelphia  unemployment-rate  Pennsylvania   7.4  2008\n",
       "98   Philadelphia  unemployment-rate  Pennsylvania  10.3  2009\n",
       "86   Philadelphia  unemployment-rate  Pennsylvania  11.2  2010\n",
       "74   Philadelphia  unemployment-rate  Pennsylvania  11.7  2011\n",
       "62   Philadelphia  unemployment-rate  Pennsylvania  12.0  2012\n",
       "50   Philadelphia  unemployment-rate  Pennsylvania  11.0  2013\n",
       "38   Philadelphia  unemployment-rate  Pennsylvania   8.9  2014\n",
       "26   Philadelphia  unemployment-rate  Pennsylvania   8.0  2015\n",
       "14   Philadelphia  unemployment-rate  Pennsylvania   7.6  2016"
      ]
     },
     "execution_count": 63,
     "metadata": {},
     "output_type": "execute_result"
    }
   ],
   "source": [
    "uer"
   ]
  },
  {
   "cell_type": "code",
   "execution_count": 64,
   "metadata": {
    "collapsed": false
   },
   "outputs": [
    {
     "data": {
      "text/plain": [
       "[<matplotlib.lines.Line2D at 0x119df3eb8>]"
      ]
     },
     "execution_count": 64,
     "metadata": {},
     "output_type": "execute_result"
    },
    {
     "data": {
      "image/png": "[encoded data removed]",
      "text/plain": [
       "<matplotlib.figure.Figure at 0x11a0ac978>"
      ]
     },
     "metadata": {},
     "output_type": "display_data"
    }
   ],
   "source": [
    "plt.plot(uer.Value)"
   ]
  },
  {
   "cell_type": "markdown",
   "metadata": {},
   "source": [
    "# population changes"
   ]
  },
  {
   "cell_type": "code",
   "execution_count": 65,
   "metadata": {
    "collapsed": false
   },
   "outputs": [
    {
     "data": {
      "text/plain": [
       "array([1540351, 1547297, 1528427, 1539022, 1550379, 1555868, 1560609,\n",
       "       1564964, 1567872], dtype=object)"
      ]
     },
     "execution_count": 65,
     "metadata": {},
     "output_type": "execute_result"
    }
   ],
   "source": [
    "pop.Value.values"
   ]
  },
  {
   "cell_type": "code",
   "execution_count": 66,
   "metadata": {
    "collapsed": false
   },
   "outputs": [
    {
     "data": {
      "text/plain": [
       "array([1547297, 1528427, 1539022, 1550379, 1555868, 1560609, 1564964,\n",
       "       1567872], dtype=object)"
      ]
     },
     "execution_count": 66,
     "metadata": {},
     "output_type": "execute_result"
    }
   ],
   "source": [
    "pop.Value.values[1:]"
   ]
  },
  {
   "cell_type": "code",
   "execution_count": 67,
   "metadata": {
    "collapsed": false
   },
   "outputs": [
    {
     "data": {
      "text/plain": [
       "array([1540351, 1547297, 1528427, 1539022, 1550379, 1555868, 1560609,\n",
       "       1564964], dtype=object)"
      ]
     },
     "execution_count": 67,
     "metadata": {},
     "output_type": "execute_result"
    }
   ],
   "source": [
    "pop.Value.values[:-1]"
   ]
  },
  {
   "cell_type": "code",
   "execution_count": 68,
   "metadata": {
    "collapsed": true
   },
   "outputs": [],
   "source": [
    "deltas = pop.Value.values[1:] - pop.Value.values[:-1]"
   ]
  },
  {
   "cell_type": "code",
   "execution_count": 69,
   "metadata": {
    "collapsed": false
   },
   "outputs": [
    {
     "data": {
      "text/plain": [
       "array([6946, -18870, 10595, 11357, 5489, 4741, 4355, 2908], dtype=object)"
      ]
     },
     "execution_count": 69,
     "metadata": {},
     "output_type": "execute_result"
    }
   ],
   "source": [
    "deltas"
   ]
  },
  {
   "cell_type": "code",
   "execution_count": 70,
   "metadata": {
    "collapsed": false
   },
   "outputs": [
    {
     "data": {
      "text/plain": [
       "array([0.4509361827271836, -1.2195460858516498, 0.6931963384577738,\n",
       "       0.7379361698533224, 0.3540424631654583, 0.30471736676890326,\n",
       "       0.27905772682331065, 0.1858189709156249], dtype=object)"
      ]
     },
     "execution_count": 70,
     "metadata": {},
     "output_type": "execute_result"
    }
   ],
   "source": [
    "(deltas/pop.Value.values[:-1])*100.0"
   ]
  },
  {
   "cell_type": "code",
   "execution_count": 71,
   "metadata": {
    "collapsed": false
   },
   "outputs": [
    {
     "data": {
      "text/plain": [
       "array([2009, 2010, 2011, 2012, 2013, 2014, 2015, 2016])"
      ]
     },
     "execution_count": 71,
     "metadata": {},
     "output_type": "execute_result"
    }
   ],
   "source": [
    "pop.Year.values[1:].astype(\"int\")"
   ]
  },
  {
   "cell_type": "code",
   "execution_count": 72,
   "metadata": {
    "collapsed": false
   },
   "outputs": [
    {
     "data": {
      "text/plain": [
       "[<matplotlib.lines.Line2D at 0x11b55c780>]"
      ]
     },
     "execution_count": 72,
     "metadata": {},
     "output_type": "execute_result"
    },
    {
     "data": {
      "image/png": "[encoded data removed]",
      "text/plain": [
       "<matplotlib.figure.Figure at 0x119dcf9b0>"
      ]
     },
     "metadata": {},
     "output_type": "display_data"
    }
   ],
   "source": [
    "x = pop.Year.values[1:].astype(\"int\")\n",
    "y = (deltas/pop.Value.values[:-1])*100.0\n",
    "plt.plot(x, y)"
   ]
  },
  {
   "cell_type": "markdown",
   "metadata": {},
   "source": [
    "# labor force changes"
   ]
  },
  {
   "cell_type": "code",
   "execution_count": 73,
   "metadata": {
    "collapsed": false
   },
   "outputs": [
    {
     "data": {
      "text/plain": [
       "array([641086, 663457, 696073, 698060, 709570, 705946, 698219, 701763,\n",
       "       715091])"
      ]
     },
     "execution_count": 73,
     "metadata": {},
     "output_type": "execute_result"
    }
   ],
   "source": [
    "lfd.Value.values.astype(\"int\")"
   ]
  },
  {
   "cell_type": "code",
   "execution_count": 74,
   "metadata": {
    "collapsed": true
   },
   "outputs": [],
   "source": [
    "deltas = lfd.Value.values[1:].astype(\"int\") - lfd.Value.values[:-1].astype(\"int\")"
   ]
  },
  {
   "cell_type": "code",
   "execution_count": 75,
   "metadata": {
    "collapsed": false
   },
   "outputs": [
    {
     "data": {
      "text/plain": [
       "[<matplotlib.lines.Line2D at 0x11a20ea20>]"
      ]
     },
     "execution_count": 75,
     "metadata": {},
     "output_type": "execute_result"
    },
    {
     "data": {
      "image/png": "[encoded data removed]",
      "text/plain": [
       "<matplotlib.figure.Figure at 0x11b596470>"
      ]
     },
     "metadata": {},
     "output_type": "display_data"
    }
   ],
   "source": [
    "x = lfd.Year.values[1:].astype(\"int\")\n",
    "y = (deltas/lfd.Value.values[:-1].astype(\"int\"))*100.0\n",
    "plt.plot(x, y)"
   ]
  },
  {
   "cell_type": "markdown",
   "metadata": {},
   "source": [
    "# can we plot both?"
   ]
  },
  {
   "cell_type": "code",
   "execution_count": 76,
   "metadata": {
    "collapsed": false
   },
   "outputs": [
    {
     "data": {
      "image/png": "[encoded data removed]",
      "text/plain": [
       "<matplotlib.figure.Figure at 0x11b5672b0>"
      ]
     },
     "metadata": {},
     "output_type": "display_data"
    }
   ],
   "source": [
    "fig = plt.figure()\n",
    "ax = plt.subplot(111)\n",
    "\n",
    "popVals = pop.Value.values.astype(\"int\")\n",
    "lfdVals = lfd.Value.values.astype(\"int\")\n",
    "\n",
    "# population\n",
    "x1 = pop.Year.values[1:].astype(\"int\")\n",
    "y1 = ((popVals[1:] - popVals[:-1])/popVals[:-1])*100.0\n",
    "\n",
    "# labor force\n",
    "x2 = lfd.Year.values[1:].astype(\"int\")\n",
    "y2 = ((lfdVals[1:] - lfdVals[:-1])/lfdVals[:-1])*100.0\n",
    "\n",
    "# unemployment rate\n",
    "x3 = uer.Year.values.astype(\"int\")\n",
    "y3 = uer.Value.values.astype(\"float\")\n",
    "\n",
    "ax.plot(x1, y1, label=\"% Population Change\")\n",
    "ax.plot(x2, y2, label=\"% Labor Force Change\")\n",
    "ax.plot(x3, y3, label=\"Unemployment Rate (%)\")\n",
    "\n",
    "# Shrink current axis by 20%\n",
    "box = ax.get_position()\n",
    "ax.set_position([box.x0, box.y0, box.width * 0.8, box.height])\n",
    "\n",
    "# Put a legend to the right of the current axis\n",
    "ax.legend(loc='center left', bbox_to_anchor=(1, 0.5))\n",
    "\n",
    "ax.set_title(\"{} Population and Labor Force\".format(city))\n",
    "ax.set_ylabel(\"Percent\")\n",
    "ax.set_xlabel(\"Year\")\n",
    "plt.show()"
   ]
  },
  {
   "cell_type": "code",
   "execution_count": 77,
   "metadata": {
    "collapsed": false
   },
   "outputs": [
    {
     "data": {
      "text/plain": [
       "array([2008, 2009, 2010, 2011, 2012, 2013, 2014, 2015, 2016])"
      ]
     },
     "execution_count": 77,
     "metadata": {},
     "output_type": "execute_result"
    }
   ],
   "source": [
    "pop.Year.values.astype(\"int\")"
   ]
  },
  {
   "cell_type": "code",
   "execution_count": 78,
   "metadata": {
    "collapsed": false
   },
   "outputs": [
    {
     "data": {
      "text/plain": [
       "array([1540351, 1547297, 1528427, 1539022, 1550379, 1555868, 1560609,\n",
       "       1564964, 1567872])"
      ]
     },
     "execution_count": 78,
     "metadata": {},
     "output_type": "execute_result"
    }
   ],
   "source": [
    "popVals"
   ]
  },
  {
   "cell_type": "code",
   "execution_count": 79,
   "metadata": {
    "collapsed": false
   },
   "outputs": [
    {
     "data": {
      "text/plain": [
       "array([641086, 663457, 696073, 698060, 709570, 705946, 698219, 701763,\n",
       "       715091])"
      ]
     },
     "execution_count": 79,
     "metadata": {},
     "output_type": "execute_result"
    }
   ],
   "source": [
    "lfdVals"
   ]
  },
  {
   "cell_type": "code",
   "execution_count": 80,
   "metadata": {
    "collapsed": false
   },
   "outputs": [
    {
     "data": {
      "text/plain": [
       "array([  6946, -18870,  10595,  11357,   5489,   4741,   4355,   2908])"
      ]
     },
     "execution_count": 80,
     "metadata": {},
     "output_type": "execute_result"
    }
   ],
   "source": [
    "popVals[1:] - popVals[:-1]"
   ]
  },
  {
   "cell_type": "code",
   "execution_count": 81,
   "metadata": {
    "collapsed": false
   },
   "outputs": [
    {
     "data": {
      "text/plain": [
       "array([22371, 32616,  1987, 11510, -3624, -7727,  3544, 13328])"
      ]
     },
     "execution_count": 81,
     "metadata": {},
     "output_type": "execute_result"
    }
   ],
   "source": [
    "lfdVals[1:] - lfdVals[:-1]"
   ]
  },
  {
   "cell_type": "code",
   "execution_count": 82,
   "metadata": {
    "collapsed": true
   },
   "outputs": [],
   "source": [
    "summaryTable = pd.DataFrame(columns=[\"Year\", \"Population\", \"PopulationChange\", \"LaborForce\", \"LaborForceChange\"])"
   ]
  },
  {
   "cell_type": "code",
   "execution_count": 83,
   "metadata": {
    "collapsed": true
   },
   "outputs": [],
   "source": [
    "summaryTable['Year'] = pop.Year.values.astype(\"int\")\n",
    "summaryTable['Population'] = popVals\n",
    "popChange = [0]\n",
    "for p in popVals[1:] - popVals[:-1]:\n",
    "    popChange.append(p )\n",
    "len(popChange)\n",
    "summaryTable['PopulationChange'] = popChange\n",
    "summaryTable['LaborForce'] = lfdVals\n",
    "lfdChange = [0]\n",
    "for l in lfdVals[1:] - lfdVals[:-1]:\n",
    "    lfdChange.append(l)\n",
    "summaryTable['LaborForceChange'] = lfdChange\n",
    "summaryTable['UnemploymentRate'] = uer.Value.values\n",
    "summaryTable['Employment'] = emp.Value.values\n",
    "summaryTable['Unemployment'] = uem.Value.values\n"
   ]
  },
  {
   "cell_type": "code",
   "execution_count": 84,
   "metadata": {
    "collapsed": false
   },
   "outputs": [
    {
     "data": {
      "text/html": [
       "<div>\n",
       "<style>\n",
       "    .dataframe thead tr:only-child th {\n",
       "        text-align: right;\n",
       "    }\n",
       "\n",
       "    .dataframe thead th {\n",
       "        text-align: left;\n",
       "    }\n",
       "\n",
       "    .dataframe tbody tr th {\n",
       "        vertical-align: top;\n",
       "    }\n",
       "</style>\n",
       "<table border=\"1\" class=\"dataframe\">\n",
       "  <thead>\n",
       "    <tr style=\"text-align: right;\">\n",
       "      <th></th>\n",
       "      <th>Year</th>\n",
       "      <th>Population</th>\n",
       "      <th>PopulationChange</th>\n",
       "      <th>LaborForce</th>\n",
       "      <th>LaborForceChange</th>\n",
       "      <th>UnemploymentRate</th>\n",
       "      <th>Employment</th>\n",
       "      <th>Unemployment</th>\n",
       "    </tr>\n",
       "  </thead>\n",
       "  <tbody>\n",
       "    <tr>\n",
       "      <th>0</th>\n",
       "      <td>2008</td>\n",
       "      <td>1540351</td>\n",
       "      <td>0</td>\n",
       "      <td>641086</td>\n",
       "      <td>0</td>\n",
       "      <td>7.4</td>\n",
       "      <td>593590</td>\n",
       "      <td>47496</td>\n",
       "    </tr>\n",
       "    <tr>\n",
       "      <th>1</th>\n",
       "      <td>2009</td>\n",
       "      <td>1547297</td>\n",
       "      <td>6946</td>\n",
       "      <td>663457</td>\n",
       "      <td>22371</td>\n",
       "      <td>10.3</td>\n",
       "      <td>595015</td>\n",
       "      <td>68442</td>\n",
       "    </tr>\n",
       "    <tr>\n",
       "      <th>2</th>\n",
       "      <td>2010</td>\n",
       "      <td>1528427</td>\n",
       "      <td>-18870</td>\n",
       "      <td>696073</td>\n",
       "      <td>32616</td>\n",
       "      <td>11.2</td>\n",
       "      <td>618211</td>\n",
       "      <td>77862</td>\n",
       "    </tr>\n",
       "    <tr>\n",
       "      <th>3</th>\n",
       "      <td>2011</td>\n",
       "      <td>1539022</td>\n",
       "      <td>10595</td>\n",
       "      <td>698060</td>\n",
       "      <td>1987</td>\n",
       "      <td>11.7</td>\n",
       "      <td>616582</td>\n",
       "      <td>81478</td>\n",
       "    </tr>\n",
       "    <tr>\n",
       "      <th>4</th>\n",
       "      <td>2012</td>\n",
       "      <td>1550379</td>\n",
       "      <td>11357</td>\n",
       "      <td>709570</td>\n",
       "      <td>11510</td>\n",
       "      <td>12.0</td>\n",
       "      <td>624624</td>\n",
       "      <td>84946</td>\n",
       "    </tr>\n",
       "    <tr>\n",
       "      <th>5</th>\n",
       "      <td>2013</td>\n",
       "      <td>1555868</td>\n",
       "      <td>5489</td>\n",
       "      <td>705946</td>\n",
       "      <td>-3624</td>\n",
       "      <td>11.0</td>\n",
       "      <td>628376</td>\n",
       "      <td>77570</td>\n",
       "    </tr>\n",
       "    <tr>\n",
       "      <th>6</th>\n",
       "      <td>2014</td>\n",
       "      <td>1560609</td>\n",
       "      <td>4741</td>\n",
       "      <td>698219</td>\n",
       "      <td>-7727</td>\n",
       "      <td>8.9</td>\n",
       "      <td>635793</td>\n",
       "      <td>62426</td>\n",
       "    </tr>\n",
       "    <tr>\n",
       "      <th>7</th>\n",
       "      <td>2015</td>\n",
       "      <td>1564964</td>\n",
       "      <td>4355</td>\n",
       "      <td>701763</td>\n",
       "      <td>3544</td>\n",
       "      <td>8.0</td>\n",
       "      <td>645338</td>\n",
       "      <td>56425</td>\n",
       "    </tr>\n",
       "    <tr>\n",
       "      <th>8</th>\n",
       "      <td>2016</td>\n",
       "      <td>1567872</td>\n",
       "      <td>2908</td>\n",
       "      <td>715091</td>\n",
       "      <td>13328</td>\n",
       "      <td>7.6</td>\n",
       "      <td>660808</td>\n",
       "      <td>54283</td>\n",
       "    </tr>\n",
       "  </tbody>\n",
       "</table>\n",
       "</div>"
      ],
      "text/plain": [
       "   Year  Population  PopulationChange  LaborForce  LaborForceChange  \\\n",
       "0  2008     1540351                 0      641086                 0   \n",
       "1  2009     1547297              6946      663457             22371   \n",
       "2  2010     1528427            -18870      696073             32616   \n",
       "3  2011     1539022             10595      698060              1987   \n",
       "4  2012     1550379             11357      709570             11510   \n",
       "5  2013     1555868              5489      705946             -3624   \n",
       "6  2014     1560609              4741      698219             -7727   \n",
       "7  2015     1564964              4355      701763              3544   \n",
       "8  2016     1567872              2908      715091             13328   \n",
       "\n",
       "  UnemploymentRate Employment Unemployment  \n",
       "0              7.4     593590        47496  \n",
       "1             10.3     595015        68442  \n",
       "2             11.2     618211        77862  \n",
       "3             11.7     616582        81478  \n",
       "4             12.0     624624        84946  \n",
       "5             11.0     628376        77570  \n",
       "6              8.9     635793        62426  \n",
       "7              8.0     645338        56425  \n",
       "8              7.6     660808        54283  "
      ]
     },
     "execution_count": 84,
     "metadata": {},
     "output_type": "execute_result"
    }
   ],
   "source": [
    "summaryTable"
   ]
  },
  {
   "cell_type": "code",
   "execution_count": 85,
   "metadata": {
    "collapsed": false
   },
   "outputs": [
    {
     "data": {
      "text/plain": [
       "0.11543693045862802"
      ]
     },
     "execution_count": 85,
     "metadata": {},
     "output_type": "execute_result"
    }
   ],
   "source": [
    "(715091-641086)/641086"
   ]
  },
  {
   "cell_type": "code",
   "execution_count": 86,
   "metadata": {
    "collapsed": false
   },
   "outputs": [
    {
     "data": {
      "text/plain": [
       "715091"
      ]
     },
     "execution_count": 86,
     "metadata": {},
     "output_type": "execute_result"
    }
   ],
   "source": [
    "660808+54283"
   ]
  },
  {
   "cell_type": "code",
   "execution_count": 87,
   "metadata": {
    "collapsed": false
   },
   "outputs": [
    {
     "data": {
      "text/plain": [
       "array([ 1425, 23196, -1629,  8042,  3752,  7417,  9545, 15470])"
      ]
     },
     "execution_count": 87,
     "metadata": {},
     "output_type": "execute_result"
    }
   ],
   "source": [
    "emp.Value.values.astype(\"int\")[1:]-emp.Value.values.astype(\"int\")[:-1]"
   ]
  },
  {
   "cell_type": "code",
   "execution_count": 88,
   "metadata": {
    "collapsed": false
   },
   "outputs": [
    {
     "data": {
      "text/plain": [
       "array([ 20946,   9420,   3616,   3468,  -7376, -15144,  -6001,  -2142])"
      ]
     },
     "execution_count": 88,
     "metadata": {},
     "output_type": "execute_result"
    }
   ],
   "source": [
    "uem.Value.values.astype(\"int\")[1:]-uem.Value.values.astype(\"int\")[:-1]"
   ]
  },
  {
   "cell_type": "code",
   "execution_count": 89,
   "metadata": {
    "collapsed": true
   },
   "outputs": [],
   "source": [
    "def delta(a,b):\n",
    "    return ((b-a)/a)*100.0"
   ]
  },
  {
   "cell_type": "code",
   "execution_count": 90,
   "metadata": {
    "collapsed": false
   },
   "outputs": [
    {
     "data": {
      "text/plain": [
       "14.289624389422267"
      ]
     },
     "execution_count": 90,
     "metadata": {},
     "output_type": "execute_result"
    }
   ],
   "source": [
    "delta(47496, 54283)"
   ]
  },
  {
   "cell_type": "code",
   "execution_count": 91,
   "metadata": {
    "collapsed": false
   },
   "outputs": [
    {
     "data": {
      "text/plain": [
       "11.323977829815192"
      ]
     },
     "execution_count": 91,
     "metadata": {},
     "output_type": "execute_result"
    }
   ],
   "source": [
    "delta(593590, 660808)"
   ]
  },
  {
   "cell_type": "markdown",
   "metadata": {},
   "source": [
    "# plot ratio and unemployment rate"
   ]
  },
  {
   "cell_type": "code",
   "execution_count": 93,
   "metadata": {
    "collapsed": false
   },
   "outputs": [],
   "source": [
    "#fig, (ax1, ax2) = plt.subplots(nrows = 2, ncols = 1, sharex=True)\n",
    "#ax1.plot(x, ratio)\n",
    "#ax1.set_title(\"Ratio of Labor Force to Population\")\n",
    "#ax2.plot(x, uer.Value.values.astype(\"float\"))\n",
    "#ax2.set_title(\"Unemployment Rate\")"
   ]
  },
  {
   "cell_type": "markdown",
   "metadata": {},
   "source": [
    "# plot per city (1) population and labor force, (2) ratio and unemployment rate"
   ]
  },
  {
   "cell_type": "code",
   "execution_count": 94,
   "metadata": {
    "collapsed": true
   },
   "outputs": [],
   "source": [
    "#cityListGeoRegional = [\"Boston\", \"New York\", \"Philadelphia\", \"Baltimore\", \"Washington city\"]\n",
    "#cityListPopSize = [\"Phoenix\", \"Philadelphia\", \"San Antonio\", \"San Diego\", \"Dallas\"]\n",
    "\n",
    "cityListGeoRegionalX = [\"Boston\", \"New York\", \"Philadelphia\", \"Baltimore\", \"Washington\"]\n",
    "stateListGeoRegionalX = [\"Massachusetts\", \"New York\", \"Pennsylvania\", \"Maryland\", \"District of Columbia\"]\n",
    "cityListPopSizeX = [\"Phoenix\", \"Philadelphia\", \"San Antonio\", \"San Diego\", \"Dallas\"]\n",
    "stateListPopSizeX = [\"Arizona\", \"Pennsylvania\", \"Texas\", \"California\", \"Texas\"]"
   ]
  },
  {
   "cell_type": "code",
   "execution_count": 95,
   "metadata": {
    "collapsed": true
   },
   "outputs": [],
   "source": [
    "cityListX = cityListGeoRegionalX\n",
    "stateListX = stateListGeoRegionalX\n",
    "\n",
    "beginYearX = \"2008\"\n",
    "endYearX = \"2016\"\n",
    "\n",
    "cityStateList = []\n",
    "for i in range(len(cityListX)):\n",
    "    cityStateList.append((cityListX[i], stateListX[i]))"
   ]
  },
  {
   "cell_type": "code",
   "execution_count": 96,
   "metadata": {
    "collapsed": false
   },
   "outputs": [
    {
     "data": {
      "text/plain": [
       "[('Boston', 'Massachusetts'),\n",
       " ('New York', 'New York'),\n",
       " ('Philadelphia', 'Pennsylvania'),\n",
       " ('Baltimore', 'Maryland'),\n",
       " ('Washington', 'District of Columbia')]"
      ]
     },
     "execution_count": 96,
     "metadata": {},
     "output_type": "execute_result"
    }
   ],
   "source": [
    "cityStateList"
   ]
  },
  {
   "cell_type": "code",
   "execution_count": 99,
   "metadata": {
    "collapsed": false
   },
   "outputs": [
    {
     "name": "stdout",
     "output_type": "stream",
     "text": [
      "          City            Measure          State   Value  Year\n",
      "812     Boston         employment  Massachusetts  309163  2008\n",
      "800     Boston         employment  Massachusetts  303159  2009\n",
      "788     Boston         employment  Massachusetts  314539  2010\n",
      "776     Boston         employment  Massachusetts  319585  2011\n",
      "764     Boston         employment  Massachusetts  325693  2012\n",
      "752     Boston         employment  Massachusetts  329650  2013\n",
      "740     Boston         employment  Massachusetts  339755  2014\n",
      "728     Boston         employment  Massachusetts  348817  2015\n",
      "716     Boston         employment  Massachusetts  355265  2016\n",
      "929     Boston        labor-force  Massachusetts  328248  2008\n",
      "917     Boston        labor-force  Massachusetts  330383  2009\n",
      "905     Boston        labor-force  Massachusetts  342167  2010\n",
      "893     Boston        labor-force  Massachusetts  343798  2011\n",
      "881     Boston        labor-force  Massachusetts  348666  2012\n",
      "869     Boston        labor-force  Massachusetts  353715  2013\n",
      "857     Boston        labor-force  Massachusetts  361170  2014\n",
      "845     Boston        labor-force  Massachusetts  366870  2015\n",
      "833     Boston        labor-force  Massachusetts  369136  2016\n",
      "845280  Boston         population  Massachusetts  636748  2008\n",
      "926983  Boston         population  Massachusetts  645169  2009\n",
      "191488  Boston         population  Massachusetts  620701  2010\n",
      "273073  Boston         population  Massachusetts  630195  2011\n",
      "354658  Boston         population  Massachusetts  641911  2012\n",
      "436243  Boston         population  Massachusetts  651090  2013\n",
      "517828  Boston         population  Massachusetts  659180  2014\n",
      "599413  Boston         population  Massachusetts  665984  2015\n",
      "680998  Boston         population  Massachusetts  673184  2016\n",
      "695     Boston       unemployment  Massachusetts   19085  2008\n",
      "683     Boston       unemployment  Massachusetts   27224  2009\n",
      "671     Boston       unemployment  Massachusetts   27628  2010\n",
      "659     Boston       unemployment  Massachusetts   24213  2011\n",
      "647     Boston       unemployment  Massachusetts   22973  2012\n",
      "635     Boston       unemployment  Massachusetts   24065  2013\n",
      "623     Boston       unemployment  Massachusetts   21415  2014\n",
      "611     Boston       unemployment  Massachusetts   18053  2015\n",
      "599     Boston       unemployment  Massachusetts   13871  2016\n",
      "578     Boston  unemployment-rate  Massachusetts     5.8  2008\n",
      "566     Boston  unemployment-rate  Massachusetts     8.2  2009\n",
      "554     Boston  unemployment-rate  Massachusetts     8.1  2010\n",
      "542     Boston  unemployment-rate  Massachusetts     7.0  2011\n",
      "530     Boston  unemployment-rate  Massachusetts     6.6  2012\n",
      "518     Boston  unemployment-rate  Massachusetts     6.8  2013\n",
      "506     Boston  unemployment-rate  Massachusetts     5.9  2014\n",
      "494     Boston  unemployment-rate  Massachusetts     4.9  2015\n",
      "482     Boston  unemployment-rate  Massachusetts     3.8  2016\n",
      "            City            Measure     State    Value  Year\n",
      "2099    New York         employment  New York  3730392  2008\n",
      "2087    New York         employment  New York  3618266  2009\n",
      "2075    New York         employment  New York  3583506  2010\n",
      "2063    New York         employment  New York  3604590  2011\n",
      "2051    New York         employment  New York  3645389  2012\n",
      "2039    New York         employment  New York  3722103  2013\n",
      "2027    New York         employment  New York  3812079  2014\n",
      "2015    New York         employment  New York  3892242  2015\n",
      "2003    New York         employment  New York  3932156  2016\n",
      "1865    New York        labor-force  New York  3956413  2008\n",
      "1853    New York        labor-force  New York  4017214  2009\n",
      "1841    New York        labor-force  New York  3969455  2010\n",
      "1829    New York        labor-force  New York  3974041  2011\n",
      "1817    New York        labor-force  New York  4046456  2012\n",
      "1805    New York        labor-force  New York  4098690  2013\n",
      "1793    New York        labor-force  New York  4122175  2014\n",
      "1781    New York        labor-force  New York  4127022  2015\n",
      "1769    New York        labor-force  New York  4165039  2016\n",
      "863858  New York         population  New York  8346794  2008\n",
      "945561  New York         population  New York  8391881  2009\n",
      "209887  New York         population  New York  8192026  2010\n",
      "291472  New York         population  New York  8284098  2011\n",
      "373057  New York         population  New York  8361179  2012\n",
      "454642  New York         population  New York  8422460  2013\n",
      "536227  New York         population  New York  8471990  2014\n",
      "617812  New York         population  New York  8516502  2015\n",
      "699397  New York         population  New York  8537673  2016\n",
      "1982    New York       unemployment  New York   226021  2008\n",
      "1970    New York       unemployment  New York   398948  2009\n",
      "1958    New York       unemployment  New York   385949  2010\n",
      "1946    New York       unemployment  New York   369451  2011\n",
      "1934    New York       unemployment  New York   401067  2012\n",
      "1922    New York       unemployment  New York   376587  2013\n",
      "1910    New York       unemployment  New York   310096  2014\n",
      "1898    New York       unemployment  New York   234780  2015\n",
      "1886    New York       unemployment  New York   232883  2016\n",
      "1631    New York  unemployment-rate  New York      5.7  2008\n",
      "1619    New York  unemployment-rate  New York      9.9  2009\n",
      "1607    New York  unemployment-rate  New York      9.7  2010\n",
      "1595    New York  unemployment-rate  New York      9.3  2011\n",
      "1583    New York  unemployment-rate  New York      9.9  2012\n",
      "1571    New York  unemployment-rate  New York      9.2  2013\n",
      "1559    New York  unemployment-rate  New York      7.5  2014\n",
      "1547    New York  unemployment-rate  New York      5.7  2015\n",
      "1535    New York  unemployment-rate  New York      5.6  2016\n",
      "                City            Measure         State    Value  Year\n",
      "344     Philadelphia         employment  Pennsylvania   593590  2008\n",
      "332     Philadelphia         employment  Pennsylvania   595015  2009\n",
      "320     Philadelphia         employment  Pennsylvania   618211  2010\n",
      "308     Philadelphia         employment  Pennsylvania   616582  2011\n",
      "296     Philadelphia         employment  Pennsylvania   624624  2012\n",
      "284     Philadelphia         employment  Pennsylvania   628376  2013\n",
      "272     Philadelphia         employment  Pennsylvania   635793  2014\n",
      "260     Philadelphia         employment  Pennsylvania   645338  2015\n",
      "248     Philadelphia         employment  Pennsylvania   660808  2016\n",
      "461     Philadelphia        labor-force  Pennsylvania   641086  2008\n",
      "449     Philadelphia        labor-force  Pennsylvania   663457  2009\n",
      "437     Philadelphia        labor-force  Pennsylvania   696073  2010\n",
      "425     Philadelphia        labor-force  Pennsylvania   698060  2011\n",
      "413     Philadelphia        labor-force  Pennsylvania   709570  2012\n",
      "401     Philadelphia        labor-force  Pennsylvania   705946  2013\n",
      "389     Philadelphia        labor-force  Pennsylvania   698219  2014\n",
      "377     Philadelphia        labor-force  Pennsylvania   701763  2015\n",
      "365     Philadelphia        labor-force  Pennsylvania   715091  2016\n",
      "879498  Philadelphia         population  Pennsylvania  1540351  2008\n",
      "961201  Philadelphia         population  Pennsylvania  1547297  2009\n",
      "225482  Philadelphia         population  Pennsylvania  1528427  2010\n",
      "307067  Philadelphia         population  Pennsylvania  1539022  2011\n",
      "388652  Philadelphia         population  Pennsylvania  1550379  2012\n",
      "470237  Philadelphia         population  Pennsylvania  1555868  2013\n",
      "551822  Philadelphia         population  Pennsylvania  1560609  2014\n",
      "633407  Philadelphia         population  Pennsylvania  1564964  2015\n",
      "714992  Philadelphia         population  Pennsylvania  1567872  2016\n",
      "227     Philadelphia       unemployment  Pennsylvania    47496  2008\n",
      "215     Philadelphia       unemployment  Pennsylvania    68442  2009\n",
      "203     Philadelphia       unemployment  Pennsylvania    77862  2010\n",
      "191     Philadelphia       unemployment  Pennsylvania    81478  2011\n",
      "179     Philadelphia       unemployment  Pennsylvania    84946  2012\n",
      "167     Philadelphia       unemployment  Pennsylvania    77570  2013\n",
      "155     Philadelphia       unemployment  Pennsylvania    62426  2014\n",
      "143     Philadelphia       unemployment  Pennsylvania    56425  2015\n",
      "131     Philadelphia       unemployment  Pennsylvania    54283  2016\n",
      "110     Philadelphia  unemployment-rate  Pennsylvania      7.4  2008\n",
      "98      Philadelphia  unemployment-rate  Pennsylvania     10.3  2009\n",
      "86      Philadelphia  unemployment-rate  Pennsylvania     11.2  2010\n",
      "74      Philadelphia  unemployment-rate  Pennsylvania     11.7  2011\n",
      "62      Philadelphia  unemployment-rate  Pennsylvania     12.0  2012\n",
      "50      Philadelphia  unemployment-rate  Pennsylvania     11.0  2013\n",
      "38      Philadelphia  unemployment-rate  Pennsylvania      8.9  2014\n",
      "26      Philadelphia  unemployment-rate  Pennsylvania      8.0  2015\n",
      "14      Philadelphia  unemployment-rate  Pennsylvania      7.6  2016\n",
      "             City            Measure     State   Value  Year\n",
      "2801    Baltimore         employment  Maryland  263512  2008\n",
      "2789    Baltimore         employment  Maryland  255155  2009\n",
      "2777    Baltimore         employment  Maryland  265001  2010\n",
      "2765    Baltimore         employment  Maryland  265954  2011\n",
      "2753    Baltimore         employment  Maryland  268291  2012\n",
      "2741    Baltimore         employment  Maryland  270105  2013\n",
      "2729    Baltimore         employment  Maryland  271220  2014\n",
      "2717    Baltimore         employment  Maryland  274875  2015\n",
      "2705    Baltimore         employment  Maryland  279307  2016\n",
      "2684    Baltimore        labor-force  Maryland  283068  2008\n",
      "2672    Baltimore        labor-force  Maryland  285986  2009\n",
      "2660    Baltimore        labor-force  Maryland  300254  2010\n",
      "2648    Baltimore        labor-force  Maryland  299490  2011\n",
      "2636    Baltimore        labor-force  Maryland  301013  2012\n",
      "2624    Baltimore        labor-force  Maryland  300517  2013\n",
      "2612    Baltimore        labor-force  Maryland  298294  2014\n",
      "2600    Baltimore        labor-force  Maryland  298712  2015\n",
      "2588    Baltimore        labor-force  Maryland  298655  2016\n",
      "844915  Baltimore         population  Maryland  638091  2008\n",
      "926618  Baltimore         population  Maryland  637418  2009\n",
      "191122  Baltimore         population  Maryland  621195  2010\n",
      "272707  Baltimore         population  Maryland  620815  2011\n",
      "354292  Baltimore         population  Maryland  622722  2012\n",
      "435877  Baltimore         population  Maryland  622858  2013\n",
      "517462  Baltimore         population  Maryland  623353  2014\n",
      "599047  Baltimore         population  Maryland  621402  2015\n",
      "680632  Baltimore         population  Maryland  614664  2016\n",
      "2216    Baltimore       unemployment  Maryland   19556  2008\n",
      "2204    Baltimore       unemployment  Maryland   30831  2009\n",
      "2192    Baltimore       unemployment  Maryland   35253  2010\n",
      "2180    Baltimore       unemployment  Maryland   33536  2011\n",
      "2168    Baltimore       unemployment  Maryland   32722  2012\n",
      "2156    Baltimore       unemployment  Maryland   30412  2013\n",
      "2144    Baltimore       unemployment  Maryland   27074  2014\n",
      "2132    Baltimore       unemployment  Maryland   23837  2015\n",
      "2120    Baltimore       unemployment  Maryland   19348  2016\n",
      "2450    Baltimore  unemployment-rate  Maryland     6.9  2008\n",
      "2438    Baltimore  unemployment-rate  Maryland    10.8  2009\n",
      "2426    Baltimore  unemployment-rate  Maryland    11.7  2010\n",
      "2414    Baltimore  unemployment-rate  Maryland    11.2  2011\n",
      "2402    Baltimore  unemployment-rate  Maryland    10.9  2012\n",
      "2390    Baltimore  unemployment-rate  Maryland    10.1  2013\n",
      "2378    Baltimore  unemployment-rate  Maryland     9.1  2014\n",
      "2366    Baltimore  unemployment-rate  Maryland     8.0  2015\n",
      "2354    Baltimore  unemployment-rate  Maryland     6.5  2016\n",
      "              City            Measure                 State   Value  Year\n",
      "2333    Washington         employment  District of Columbia  317143  2008\n",
      "2321    Washington         employment  District of Columbia  311807  2009\n",
      "2309    Washington         employment  District of Columbia  322602  2010\n",
      "2297    Washington         employment  District of Columbia  319754  2011\n",
      "2285    Washington         employment  District of Columbia  338754  2012\n",
      "2273    Washington         employment  District of Columbia  346385  2013\n",
      "2261    Washington         employment  District of Columbia  353065  2014\n",
      "2249    Washington         employment  District of Columbia  366043  2015\n",
      "2237    Washington         employment  District of Columbia  372221  2016\n",
      "2918    Washington        labor-force  District of Columbia  339374  2008\n",
      "2906    Washington        labor-force  District of Columbia  344905  2009\n",
      "2894    Washington        labor-force  District of Columbia  356243  2010\n",
      "2882    Washington        labor-force  District of Columbia  358056  2011\n",
      "2870    Washington        labor-force  District of Columbia  372307  2012\n",
      "2858    Washington        labor-force  District of Columbia  379513  2013\n",
      "2846    Washington        labor-force  District of Columbia  384048  2014\n",
      "2834    Washington        labor-force  District of Columbia  393728  2015\n",
      "2822    Washington        labor-force  District of Columbia  397407  2016\n",
      "822044  Washington         population  District of Columbia  590074  2008\n",
      "903747  Washington         population  District of Columbia  599657  2009\n",
      "168196  Washington         population  District of Columbia  605183  2010\n",
      "249781  Washington         population  District of Columbia  620477  2011\n",
      "331366  Washington         population  District of Columbia  635327  2012\n",
      "412951  Washington         population  District of Columbia  649165  2013\n",
      "494536  Washington         population  District of Columbia  659005  2014\n",
      "576121  Washington         population  District of Columbia  670377  2015\n",
      "657706  Washington         population  District of Columbia  681170  2016\n",
      "2567    Washington       unemployment  District of Columbia   22231  2008\n",
      "2555    Washington       unemployment  District of Columbia   33098  2009\n",
      "2543    Washington       unemployment  District of Columbia   33641  2010\n",
      "2531    Washington       unemployment  District of Columbia   38302  2011\n",
      "2519    Washington       unemployment  District of Columbia   33553  2012\n",
      "2507    Washington       unemployment  District of Columbia   33128  2013\n",
      "2495    Washington       unemployment  District of Columbia   30983  2014\n",
      "2483    Washington       unemployment  District of Columbia   27685  2015\n",
      "2471    Washington       unemployment  District of Columbia   25186  2016\n",
      "1748    Washington  unemployment-rate  District of Columbia     6.6  2008\n",
      "1736    Washington  unemployment-rate  District of Columbia     9.6  2009\n",
      "1724    Washington  unemployment-rate  District of Columbia     9.4  2010\n",
      "1712    Washington  unemployment-rate  District of Columbia    10.7  2011\n",
      "1700    Washington  unemployment-rate  District of Columbia     9.0  2012\n",
      "1688    Washington  unemployment-rate  District of Columbia     8.7  2013\n",
      "1676    Washington  unemployment-rate  District of Columbia     8.1  2014\n",
      "1664    Washington  unemployment-rate  District of Columbia     7.0  2015\n",
      "1652    Washington  unemployment-rate  District of Columbia     6.3  2016\n"
     ]
    }
   ],
   "source": [
    "frames = []\n",
    "for city, state in cityStateList:\n",
    "    dfs = df[(df.City==city) & (df.State==state) & (df.Year>=beginYearX) & (df.Year<=endYearX)].sort_values(['Measure', 'Year'])\n",
    "    print(dfs)\n",
    "    frames.append(dfs)"
   ]
  },
  {
   "cell_type": "code",
   "execution_count": 100,
   "metadata": {
    "collapsed": false
   },
   "outputs": [
    {
     "data": {
      "text/plain": [
       "[          City            Measure          State   Value  Year\n",
       " 812     Boston         employment  Massachusetts  309163  2008\n",
       " 800     Boston         employment  Massachusetts  303159  2009\n",
       " 788     Boston         employment  Massachusetts  314539  2010\n",
       " 776     Boston         employment  Massachusetts  319585  2011\n",
       " 764     Boston         employment  Massachusetts  325693  2012\n",
       " 752     Boston         employment  Massachusetts  329650  2013\n",
       " 740     Boston         employment  Massachusetts  339755  2014\n",
       " 728     Boston         employment  Massachusetts  348817  2015\n",
       " 716     Boston         employment  Massachusetts  355265  2016\n",
       " 929     Boston        labor-force  Massachusetts  328248  2008\n",
       " 917     Boston        labor-force  Massachusetts  330383  2009\n",
       " 905     Boston        labor-force  Massachusetts  342167  2010\n",
       " 893     Boston        labor-force  Massachusetts  343798  2011\n",
       " 881     Boston        labor-force  Massachusetts  348666  2012\n",
       " 869     Boston        labor-force  Massachusetts  353715  2013\n",
       " 857     Boston        labor-force  Massachusetts  361170  2014\n",
       " 845     Boston        labor-force  Massachusetts  366870  2015\n",
       " 833     Boston        labor-force  Massachusetts  369136  2016\n",
       " 845280  Boston         population  Massachusetts  636748  2008\n",
       " 926983  Boston         population  Massachusetts  645169  2009\n",
       " 191488  Boston         population  Massachusetts  620701  2010\n",
       " 273073  Boston         population  Massachusetts  630195  2011\n",
       " 354658  Boston         population  Massachusetts  641911  2012\n",
       " 436243  Boston         population  Massachusetts  651090  2013\n",
       " 517828  Boston         population  Massachusetts  659180  2014\n",
       " 599413  Boston         population  Massachusetts  665984  2015\n",
       " 680998  Boston         population  Massachusetts  673184  2016\n",
       " 695     Boston       unemployment  Massachusetts   19085  2008\n",
       " 683     Boston       unemployment  Massachusetts   27224  2009\n",
       " 671     Boston       unemployment  Massachusetts   27628  2010\n",
       " 659     Boston       unemployment  Massachusetts   24213  2011\n",
       " 647     Boston       unemployment  Massachusetts   22973  2012\n",
       " 635     Boston       unemployment  Massachusetts   24065  2013\n",
       " 623     Boston       unemployment  Massachusetts   21415  2014\n",
       " 611     Boston       unemployment  Massachusetts   18053  2015\n",
       " 599     Boston       unemployment  Massachusetts   13871  2016\n",
       " 578     Boston  unemployment-rate  Massachusetts     5.8  2008\n",
       " 566     Boston  unemployment-rate  Massachusetts     8.2  2009\n",
       " 554     Boston  unemployment-rate  Massachusetts     8.1  2010\n",
       " 542     Boston  unemployment-rate  Massachusetts     7.0  2011\n",
       " 530     Boston  unemployment-rate  Massachusetts     6.6  2012\n",
       " 518     Boston  unemployment-rate  Massachusetts     6.8  2013\n",
       " 506     Boston  unemployment-rate  Massachusetts     5.9  2014\n",
       " 494     Boston  unemployment-rate  Massachusetts     4.9  2015\n",
       " 482     Boston  unemployment-rate  Massachusetts     3.8  2016,\n",
       "             City            Measure     State    Value  Year\n",
       " 2099    New York         employment  New York  3730392  2008\n",
       " 2087    New York         employment  New York  3618266  2009\n",
       " 2075    New York         employment  New York  3583506  2010\n",
       " 2063    New York         employment  New York  3604590  2011\n",
       " 2051    New York         employment  New York  3645389  2012\n",
       " 2039    New York         employment  New York  3722103  2013\n",
       " 2027    New York         employment  New York  3812079  2014\n",
       " 2015    New York         employment  New York  3892242  2015\n",
       " 2003    New York         employment  New York  3932156  2016\n",
       " 1865    New York        labor-force  New York  3956413  2008\n",
       " 1853    New York        labor-force  New York  4017214  2009\n",
       " 1841    New York        labor-force  New York  3969455  2010\n",
       " 1829    New York        labor-force  New York  3974041  2011\n",
       " 1817    New York        labor-force  New York  4046456  2012\n",
       " 1805    New York        labor-force  New York  4098690  2013\n",
       " 1793    New York        labor-force  New York  4122175  2014\n",
       " 1781    New York        labor-force  New York  4127022  2015\n",
       " 1769    New York        labor-force  New York  4165039  2016\n",
       " 863858  New York         population  New York  8346794  2008\n",
       " 945561  New York         population  New York  8391881  2009\n",
       " 209887  New York         population  New York  8192026  2010\n",
       " 291472  New York         population  New York  8284098  2011\n",
       " 373057  New York         population  New York  8361179  2012\n",
       " 454642  New York         population  New York  8422460  2013\n",
       " 536227  New York         population  New York  8471990  2014\n",
       " 617812  New York         population  New York  8516502  2015\n",
       " 699397  New York         population  New York  8537673  2016\n",
       " 1982    New York       unemployment  New York   226021  2008\n",
       " 1970    New York       unemployment  New York   398948  2009\n",
       " 1958    New York       unemployment  New York   385949  2010\n",
       " 1946    New York       unemployment  New York   369451  2011\n",
       " 1934    New York       unemployment  New York   401067  2012\n",
       " 1922    New York       unemployment  New York   376587  2013\n",
       " 1910    New York       unemployment  New York   310096  2014\n",
       " 1898    New York       unemployment  New York   234780  2015\n",
       " 1886    New York       unemployment  New York   232883  2016\n",
       " 1631    New York  unemployment-rate  New York      5.7  2008\n",
       " 1619    New York  unemployment-rate  New York      9.9  2009\n",
       " 1607    New York  unemployment-rate  New York      9.7  2010\n",
       " 1595    New York  unemployment-rate  New York      9.3  2011\n",
       " 1583    New York  unemployment-rate  New York      9.9  2012\n",
       " 1571    New York  unemployment-rate  New York      9.2  2013\n",
       " 1559    New York  unemployment-rate  New York      7.5  2014\n",
       " 1547    New York  unemployment-rate  New York      5.7  2015\n",
       " 1535    New York  unemployment-rate  New York      5.6  2016,\n",
       "                 City            Measure         State    Value  Year\n",
       " 344     Philadelphia         employment  Pennsylvania   593590  2008\n",
       " 332     Philadelphia         employment  Pennsylvania   595015  2009\n",
       " 320     Philadelphia         employment  Pennsylvania   618211  2010\n",
       " 308     Philadelphia         employment  Pennsylvania   616582  2011\n",
       " 296     Philadelphia         employment  Pennsylvania   624624  2012\n",
       " 284     Philadelphia         employment  Pennsylvania   628376  2013\n",
       " 272     Philadelphia         employment  Pennsylvania   635793  2014\n",
       " 260     Philadelphia         employment  Pennsylvania   645338  2015\n",
       " 248     Philadelphia         employment  Pennsylvania   660808  2016\n",
       " 461     Philadelphia        labor-force  Pennsylvania   641086  2008\n",
       " 449     Philadelphia        labor-force  Pennsylvania   663457  2009\n",
       " 437     Philadelphia        labor-force  Pennsylvania   696073  2010\n",
       " 425     Philadelphia        labor-force  Pennsylvania   698060  2011\n",
       " 413     Philadelphia        labor-force  Pennsylvania   709570  2012\n",
       " 401     Philadelphia        labor-force  Pennsylvania   705946  2013\n",
       " 389     Philadelphia        labor-force  Pennsylvania   698219  2014\n",
       " 377     Philadelphia        labor-force  Pennsylvania   701763  2015\n",
       " 365     Philadelphia        labor-force  Pennsylvania   715091  2016\n",
       " 879498  Philadelphia         population  Pennsylvania  1540351  2008\n",
       " 961201  Philadelphia         population  Pennsylvania  1547297  2009\n",
       " 225482  Philadelphia         population  Pennsylvania  1528427  2010\n",
       " 307067  Philadelphia         population  Pennsylvania  1539022  2011\n",
       " 388652  Philadelphia         population  Pennsylvania  1550379  2012\n",
       " 470237  Philadelphia         population  Pennsylvania  1555868  2013\n",
       " 551822  Philadelphia         population  Pennsylvania  1560609  2014\n",
       " 633407  Philadelphia         population  Pennsylvania  1564964  2015\n",
       " 714992  Philadelphia         population  Pennsylvania  1567872  2016\n",
       " 227     Philadelphia       unemployment  Pennsylvania    47496  2008\n",
       " 215     Philadelphia       unemployment  Pennsylvania    68442  2009\n",
       " 203     Philadelphia       unemployment  Pennsylvania    77862  2010\n",
       " 191     Philadelphia       unemployment  Pennsylvania    81478  2011\n",
       " 179     Philadelphia       unemployment  Pennsylvania    84946  2012\n",
       " 167     Philadelphia       unemployment  Pennsylvania    77570  2013\n",
       " 155     Philadelphia       unemployment  Pennsylvania    62426  2014\n",
       " 143     Philadelphia       unemployment  Pennsylvania    56425  2015\n",
       " 131     Philadelphia       unemployment  Pennsylvania    54283  2016\n",
       " 110     Philadelphia  unemployment-rate  Pennsylvania      7.4  2008\n",
       " 98      Philadelphia  unemployment-rate  Pennsylvania     10.3  2009\n",
       " 86      Philadelphia  unemployment-rate  Pennsylvania     11.2  2010\n",
       " 74      Philadelphia  unemployment-rate  Pennsylvania     11.7  2011\n",
       " 62      Philadelphia  unemployment-rate  Pennsylvania     12.0  2012\n",
       " 50      Philadelphia  unemployment-rate  Pennsylvania     11.0  2013\n",
       " 38      Philadelphia  unemployment-rate  Pennsylvania      8.9  2014\n",
       " 26      Philadelphia  unemployment-rate  Pennsylvania      8.0  2015\n",
       " 14      Philadelphia  unemployment-rate  Pennsylvania      7.6  2016,\n",
       "              City            Measure     State   Value  Year\n",
       " 2801    Baltimore         employment  Maryland  263512  2008\n",
       " 2789    Baltimore         employment  Maryland  255155  2009\n",
       " 2777    Baltimore         employment  Maryland  265001  2010\n",
       " 2765    Baltimore         employment  Maryland  265954  2011\n",
       " 2753    Baltimore         employment  Maryland  268291  2012\n",
       " 2741    Baltimore         employment  Maryland  270105  2013\n",
       " 2729    Baltimore         employment  Maryland  271220  2014\n",
       " 2717    Baltimore         employment  Maryland  274875  2015\n",
       " 2705    Baltimore         employment  Maryland  279307  2016\n",
       " 2684    Baltimore        labor-force  Maryland  283068  2008\n",
       " 2672    Baltimore        labor-force  Maryland  285986  2009\n",
       " 2660    Baltimore        labor-force  Maryland  300254  2010\n",
       " 2648    Baltimore        labor-force  Maryland  299490  2011\n",
       " 2636    Baltimore        labor-force  Maryland  301013  2012\n",
       " 2624    Baltimore        labor-force  Maryland  300517  2013\n",
       " 2612    Baltimore        labor-force  Maryland  298294  2014\n",
       " 2600    Baltimore        labor-force  Maryland  298712  2015\n",
       " 2588    Baltimore        labor-force  Maryland  298655  2016\n",
       " 844915  Baltimore         population  Maryland  638091  2008\n",
       " 926618  Baltimore         population  Maryland  637418  2009\n",
       " 191122  Baltimore         population  Maryland  621195  2010\n",
       " 272707  Baltimore         population  Maryland  620815  2011\n",
       " 354292  Baltimore         population  Maryland  622722  2012\n",
       " 435877  Baltimore         population  Maryland  622858  2013\n",
       " 517462  Baltimore         population  Maryland  623353  2014\n",
       " 599047  Baltimore         population  Maryland  621402  2015\n",
       " 680632  Baltimore         population  Maryland  614664  2016\n",
       " 2216    Baltimore       unemployment  Maryland   19556  2008\n",
       " 2204    Baltimore       unemployment  Maryland   30831  2009\n",
       " 2192    Baltimore       unemployment  Maryland   35253  2010\n",
       " 2180    Baltimore       unemployment  Maryland   33536  2011\n",
       " 2168    Baltimore       unemployment  Maryland   32722  2012\n",
       " 2156    Baltimore       unemployment  Maryland   30412  2013\n",
       " 2144    Baltimore       unemployment  Maryland   27074  2014\n",
       " 2132    Baltimore       unemployment  Maryland   23837  2015\n",
       " 2120    Baltimore       unemployment  Maryland   19348  2016\n",
       " 2450    Baltimore  unemployment-rate  Maryland     6.9  2008\n",
       " 2438    Baltimore  unemployment-rate  Maryland    10.8  2009\n",
       " 2426    Baltimore  unemployment-rate  Maryland    11.7  2010\n",
       " 2414    Baltimore  unemployment-rate  Maryland    11.2  2011\n",
       " 2402    Baltimore  unemployment-rate  Maryland    10.9  2012\n",
       " 2390    Baltimore  unemployment-rate  Maryland    10.1  2013\n",
       " 2378    Baltimore  unemployment-rate  Maryland     9.1  2014\n",
       " 2366    Baltimore  unemployment-rate  Maryland     8.0  2015\n",
       " 2354    Baltimore  unemployment-rate  Maryland     6.5  2016,\n",
       "               City            Measure                 State   Value  Year\n",
       " 2333    Washington         employment  District of Columbia  317143  2008\n",
       " 2321    Washington         employment  District of Columbia  311807  2009\n",
       " 2309    Washington         employment  District of Columbia  322602  2010\n",
       " 2297    Washington         employment  District of Columbia  319754  2011\n",
       " 2285    Washington         employment  District of Columbia  338754  2012\n",
       " 2273    Washington         employment  District of Columbia  346385  2013\n",
       " 2261    Washington         employment  District of Columbia  353065  2014\n",
       " 2249    Washington         employment  District of Columbia  366043  2015\n",
       " 2237    Washington         employment  District of Columbia  372221  2016\n",
       " 2918    Washington        labor-force  District of Columbia  339374  2008\n",
       " 2906    Washington        labor-force  District of Columbia  344905  2009\n",
       " 2894    Washington        labor-force  District of Columbia  356243  2010\n",
       " 2882    Washington        labor-force  District of Columbia  358056  2011\n",
       " 2870    Washington        labor-force  District of Columbia  372307  2012\n",
       " 2858    Washington        labor-force  District of Columbia  379513  2013\n",
       " 2846    Washington        labor-force  District of Columbia  384048  2014\n",
       " 2834    Washington        labor-force  District of Columbia  393728  2015\n",
       " 2822    Washington        labor-force  District of Columbia  397407  2016\n",
       " 822044  Washington         population  District of Columbia  590074  2008\n",
       " 903747  Washington         population  District of Columbia  599657  2009\n",
       " 168196  Washington         population  District of Columbia  605183  2010\n",
       " 249781  Washington         population  District of Columbia  620477  2011\n",
       " 331366  Washington         population  District of Columbia  635327  2012\n",
       " 412951  Washington         population  District of Columbia  649165  2013\n",
       " 494536  Washington         population  District of Columbia  659005  2014\n",
       " 576121  Washington         population  District of Columbia  670377  2015\n",
       " 657706  Washington         population  District of Columbia  681170  2016\n",
       " 2567    Washington       unemployment  District of Columbia   22231  2008\n",
       " 2555    Washington       unemployment  District of Columbia   33098  2009\n",
       " 2543    Washington       unemployment  District of Columbia   33641  2010\n",
       " 2531    Washington       unemployment  District of Columbia   38302  2011\n",
       " 2519    Washington       unemployment  District of Columbia   33553  2012\n",
       " 2507    Washington       unemployment  District of Columbia   33128  2013\n",
       " 2495    Washington       unemployment  District of Columbia   30983  2014\n",
       " 2483    Washington       unemployment  District of Columbia   27685  2015\n",
       " 2471    Washington       unemployment  District of Columbia   25186  2016\n",
       " 1748    Washington  unemployment-rate  District of Columbia     6.6  2008\n",
       " 1736    Washington  unemployment-rate  District of Columbia     9.6  2009\n",
       " 1724    Washington  unemployment-rate  District of Columbia     9.4  2010\n",
       " 1712    Washington  unemployment-rate  District of Columbia    10.7  2011\n",
       " 1700    Washington  unemployment-rate  District of Columbia     9.0  2012\n",
       " 1688    Washington  unemployment-rate  District of Columbia     8.7  2013\n",
       " 1676    Washington  unemployment-rate  District of Columbia     8.1  2014\n",
       " 1664    Washington  unemployment-rate  District of Columbia     7.0  2015\n",
       " 1652    Washington  unemployment-rate  District of Columbia     6.3  2016]"
      ]
     },
     "execution_count": 100,
     "metadata": {},
     "output_type": "execute_result"
    }
   ],
   "source": [
    "frames"
   ]
  },
  {
   "cell_type": "code",
   "execution_count": 101,
   "metadata": {
    "collapsed": true
   },
   "outputs": [],
   "source": [
    "dfx = pd.DataFrame(columns=[\"City\",\"Measure\",\"State\",\"Value\",\"Year\"])"
   ]
  },
  {
   "cell_type": "code",
   "execution_count": 102,
   "metadata": {
    "collapsed": true
   },
   "outputs": [],
   "source": [
    "dfx = pd.concat(frames)"
   ]
  },
  {
   "cell_type": "code",
   "execution_count": 103,
   "metadata": {
    "collapsed": false
   },
   "outputs": [
    {
     "data": {
      "text/html": [
       "<div>\n",
       "<style>\n",
       "    .dataframe thead tr:only-child th {\n",
       "        text-align: right;\n",
       "    }\n",
       "\n",
       "    .dataframe thead th {\n",
       "        text-align: left;\n",
       "    }\n",
       "\n",
       "    .dataframe tbody tr th {\n",
       "        vertical-align: top;\n",
       "    }\n",
       "</style>\n",
       "<table border=\"1\" class=\"dataframe\">\n",
       "  <thead>\n",
       "    <tr style=\"text-align: right;\">\n",
       "      <th></th>\n",
       "      <th>City</th>\n",
       "      <th>Measure</th>\n",
       "      <th>State</th>\n",
       "      <th>Value</th>\n",
       "      <th>Year</th>\n",
       "    </tr>\n",
       "  </thead>\n",
       "  <tbody>\n",
       "    <tr>\n",
       "      <th>812</th>\n",
       "      <td>Boston</td>\n",
       "      <td>employment</td>\n",
       "      <td>Massachusetts</td>\n",
       "      <td>309163</td>\n",
       "      <td>2008</td>\n",
       "    </tr>\n",
       "    <tr>\n",
       "      <th>800</th>\n",
       "      <td>Boston</td>\n",
       "      <td>employment</td>\n",
       "      <td>Massachusetts</td>\n",
       "      <td>303159</td>\n",
       "      <td>2009</td>\n",
       "    </tr>\n",
       "    <tr>\n",
       "      <th>788</th>\n",
       "      <td>Boston</td>\n",
       "      <td>employment</td>\n",
       "      <td>Massachusetts</td>\n",
       "      <td>314539</td>\n",
       "      <td>2010</td>\n",
       "    </tr>\n",
       "    <tr>\n",
       "      <th>776</th>\n",
       "      <td>Boston</td>\n",
       "      <td>employment</td>\n",
       "      <td>Massachusetts</td>\n",
       "      <td>319585</td>\n",
       "      <td>2011</td>\n",
       "    </tr>\n",
       "    <tr>\n",
       "      <th>764</th>\n",
       "      <td>Boston</td>\n",
       "      <td>employment</td>\n",
       "      <td>Massachusetts</td>\n",
       "      <td>325693</td>\n",
       "      <td>2012</td>\n",
       "    </tr>\n",
       "    <tr>\n",
       "      <th>752</th>\n",
       "      <td>Boston</td>\n",
       "      <td>employment</td>\n",
       "      <td>Massachusetts</td>\n",
       "      <td>329650</td>\n",
       "      <td>2013</td>\n",
       "    </tr>\n",
       "    <tr>\n",
       "      <th>740</th>\n",
       "      <td>Boston</td>\n",
       "      <td>employment</td>\n",
       "      <td>Massachusetts</td>\n",
       "      <td>339755</td>\n",
       "      <td>2014</td>\n",
       "    </tr>\n",
       "    <tr>\n",
       "      <th>728</th>\n",
       "      <td>Boston</td>\n",
       "      <td>employment</td>\n",
       "      <td>Massachusetts</td>\n",
       "      <td>348817</td>\n",
       "      <td>2015</td>\n",
       "    </tr>\n",
       "    <tr>\n",
       "      <th>716</th>\n",
       "      <td>Boston</td>\n",
       "      <td>employment</td>\n",
       "      <td>Massachusetts</td>\n",
       "      <td>355265</td>\n",
       "      <td>2016</td>\n",
       "    </tr>\n",
       "    <tr>\n",
       "      <th>929</th>\n",
       "      <td>Boston</td>\n",
       "      <td>labor-force</td>\n",
       "      <td>Massachusetts</td>\n",
       "      <td>328248</td>\n",
       "      <td>2008</td>\n",
       "    </tr>\n",
       "    <tr>\n",
       "      <th>917</th>\n",
       "      <td>Boston</td>\n",
       "      <td>labor-force</td>\n",
       "      <td>Massachusetts</td>\n",
       "      <td>330383</td>\n",
       "      <td>2009</td>\n",
       "    </tr>\n",
       "    <tr>\n",
       "      <th>905</th>\n",
       "      <td>Boston</td>\n",
       "      <td>labor-force</td>\n",
       "      <td>Massachusetts</td>\n",
       "      <td>342167</td>\n",
       "      <td>2010</td>\n",
       "    </tr>\n",
       "    <tr>\n",
       "      <th>893</th>\n",
       "      <td>Boston</td>\n",
       "      <td>labor-force</td>\n",
       "      <td>Massachusetts</td>\n",
       "      <td>343798</td>\n",
       "      <td>2011</td>\n",
       "    </tr>\n",
       "    <tr>\n",
       "      <th>881</th>\n",
       "      <td>Boston</td>\n",
       "      <td>labor-force</td>\n",
       "      <td>Massachusetts</td>\n",
       "      <td>348666</td>\n",
       "      <td>2012</td>\n",
       "    </tr>\n",
       "    <tr>\n",
       "      <th>869</th>\n",
       "      <td>Boston</td>\n",
       "      <td>labor-force</td>\n",
       "      <td>Massachusetts</td>\n",
       "      <td>353715</td>\n",
       "      <td>2013</td>\n",
       "    </tr>\n",
       "    <tr>\n",
       "      <th>857</th>\n",
       "      <td>Boston</td>\n",
       "      <td>labor-force</td>\n",
       "      <td>Massachusetts</td>\n",
       "      <td>361170</td>\n",
       "      <td>2014</td>\n",
       "    </tr>\n",
       "    <tr>\n",
       "      <th>845</th>\n",
       "      <td>Boston</td>\n",
       "      <td>labor-force</td>\n",
       "      <td>Massachusetts</td>\n",
       "      <td>366870</td>\n",
       "      <td>2015</td>\n",
       "    </tr>\n",
       "    <tr>\n",
       "      <th>833</th>\n",
       "      <td>Boston</td>\n",
       "      <td>labor-force</td>\n",
       "      <td>Massachusetts</td>\n",
       "      <td>369136</td>\n",
       "      <td>2016</td>\n",
       "    </tr>\n",
       "    <tr>\n",
       "      <th>845280</th>\n",
       "      <td>Boston</td>\n",
       "      <td>population</td>\n",
       "      <td>Massachusetts</td>\n",
       "      <td>636748</td>\n",
       "      <td>2008</td>\n",
       "    </tr>\n",
       "    <tr>\n",
       "      <th>926983</th>\n",
       "      <td>Boston</td>\n",
       "      <td>population</td>\n",
       "      <td>Massachusetts</td>\n",
       "      <td>645169</td>\n",
       "      <td>2009</td>\n",
       "    </tr>\n",
       "    <tr>\n",
       "      <th>191488</th>\n",
       "      <td>Boston</td>\n",
       "      <td>population</td>\n",
       "      <td>Massachusetts</td>\n",
       "      <td>620701</td>\n",
       "      <td>2010</td>\n",
       "    </tr>\n",
       "    <tr>\n",
       "      <th>273073</th>\n",
       "      <td>Boston</td>\n",
       "      <td>population</td>\n",
       "      <td>Massachusetts</td>\n",
       "      <td>630195</td>\n",
       "      <td>2011</td>\n",
       "    </tr>\n",
       "    <tr>\n",
       "      <th>354658</th>\n",
       "      <td>Boston</td>\n",
       "      <td>population</td>\n",
       "      <td>Massachusetts</td>\n",
       "      <td>641911</td>\n",
       "      <td>2012</td>\n",
       "    </tr>\n",
       "    <tr>\n",
       "      <th>436243</th>\n",
       "      <td>Boston</td>\n",
       "      <td>population</td>\n",
       "      <td>Massachusetts</td>\n",
       "      <td>651090</td>\n",
       "      <td>2013</td>\n",
       "    </tr>\n",
       "    <tr>\n",
       "      <th>517828</th>\n",
       "      <td>Boston</td>\n",
       "      <td>population</td>\n",
       "      <td>Massachusetts</td>\n",
       "      <td>659180</td>\n",
       "      <td>2014</td>\n",
       "    </tr>\n",
       "    <tr>\n",
       "      <th>599413</th>\n",
       "      <td>Boston</td>\n",
       "      <td>population</td>\n",
       "      <td>Massachusetts</td>\n",
       "      <td>665984</td>\n",
       "      <td>2015</td>\n",
       "    </tr>\n",
       "    <tr>\n",
       "      <th>680998</th>\n",
       "      <td>Boston</td>\n",
       "      <td>population</td>\n",
       "      <td>Massachusetts</td>\n",
       "      <td>673184</td>\n",
       "      <td>2016</td>\n",
       "    </tr>\n",
       "    <tr>\n",
       "      <th>695</th>\n",
       "      <td>Boston</td>\n",
       "      <td>unemployment</td>\n",
       "      <td>Massachusetts</td>\n",
       "      <td>19085</td>\n",
       "      <td>2008</td>\n",
       "    </tr>\n",
       "    <tr>\n",
       "      <th>683</th>\n",
       "      <td>Boston</td>\n",
       "      <td>unemployment</td>\n",
       "      <td>Massachusetts</td>\n",
       "      <td>27224</td>\n",
       "      <td>2009</td>\n",
       "    </tr>\n",
       "    <tr>\n",
       "      <th>671</th>\n",
       "      <td>Boston</td>\n",
       "      <td>unemployment</td>\n",
       "      <td>Massachusetts</td>\n",
       "      <td>27628</td>\n",
       "      <td>2010</td>\n",
       "    </tr>\n",
       "    <tr>\n",
       "      <th>...</th>\n",
       "      <td>...</td>\n",
       "      <td>...</td>\n",
       "      <td>...</td>\n",
       "      <td>...</td>\n",
       "      <td>...</td>\n",
       "    </tr>\n",
       "    <tr>\n",
       "      <th>2846</th>\n",
       "      <td>Washington</td>\n",
       "      <td>labor-force</td>\n",
       "      <td>District of Columbia</td>\n",
       "      <td>384048</td>\n",
       "      <td>2014</td>\n",
       "    </tr>\n",
       "    <tr>\n",
       "      <th>2834</th>\n",
       "      <td>Washington</td>\n",
       "      <td>labor-force</td>\n",
       "      <td>District of Columbia</td>\n",
       "      <td>393728</td>\n",
       "      <td>2015</td>\n",
       "    </tr>\n",
       "    <tr>\n",
       "      <th>2822</th>\n",
       "      <td>Washington</td>\n",
       "      <td>labor-force</td>\n",
       "      <td>District of Columbia</td>\n",
       "      <td>397407</td>\n",
       "      <td>2016</td>\n",
       "    </tr>\n",
       "    <tr>\n",
       "      <th>822044</th>\n",
       "      <td>Washington</td>\n",
       "      <td>population</td>\n",
       "      <td>District of Columbia</td>\n",
       "      <td>590074</td>\n",
       "      <td>2008</td>\n",
       "    </tr>\n",
       "    <tr>\n",
       "      <th>903747</th>\n",
       "      <td>Washington</td>\n",
       "      <td>population</td>\n",
       "      <td>District of Columbia</td>\n",
       "      <td>599657</td>\n",
       "      <td>2009</td>\n",
       "    </tr>\n",
       "    <tr>\n",
       "      <th>168196</th>\n",
       "      <td>Washington</td>\n",
       "      <td>population</td>\n",
       "      <td>District of Columbia</td>\n",
       "      <td>605183</td>\n",
       "      <td>2010</td>\n",
       "    </tr>\n",
       "    <tr>\n",
       "      <th>249781</th>\n",
       "      <td>Washington</td>\n",
       "      <td>population</td>\n",
       "      <td>District of Columbia</td>\n",
       "      <td>620477</td>\n",
       "      <td>2011</td>\n",
       "    </tr>\n",
       "    <tr>\n",
       "      <th>331366</th>\n",
       "      <td>Washington</td>\n",
       "      <td>population</td>\n",
       "      <td>District of Columbia</td>\n",
       "      <td>635327</td>\n",
       "      <td>2012</td>\n",
       "    </tr>\n",
       "    <tr>\n",
       "      <th>412951</th>\n",
       "      <td>Washington</td>\n",
       "      <td>population</td>\n",
       "      <td>District of Columbia</td>\n",
       "      <td>649165</td>\n",
       "      <td>2013</td>\n",
       "    </tr>\n",
       "    <tr>\n",
       "      <th>494536</th>\n",
       "      <td>Washington</td>\n",
       "      <td>population</td>\n",
       "      <td>District of Columbia</td>\n",
       "      <td>659005</td>\n",
       "      <td>2014</td>\n",
       "    </tr>\n",
       "    <tr>\n",
       "      <th>576121</th>\n",
       "      <td>Washington</td>\n",
       "      <td>population</td>\n",
       "      <td>District of Columbia</td>\n",
       "      <td>670377</td>\n",
       "      <td>2015</td>\n",
       "    </tr>\n",
       "    <tr>\n",
       "      <th>657706</th>\n",
       "      <td>Washington</td>\n",
       "      <td>population</td>\n",
       "      <td>District of Columbia</td>\n",
       "      <td>681170</td>\n",
       "      <td>2016</td>\n",
       "    </tr>\n",
       "    <tr>\n",
       "      <th>2567</th>\n",
       "      <td>Washington</td>\n",
       "      <td>unemployment</td>\n",
       "      <td>District of Columbia</td>\n",
       "      <td>22231</td>\n",
       "      <td>2008</td>\n",
       "    </tr>\n",
       "    <tr>\n",
       "      <th>2555</th>\n",
       "      <td>Washington</td>\n",
       "      <td>unemployment</td>\n",
       "      <td>District of Columbia</td>\n",
       "      <td>33098</td>\n",
       "      <td>2009</td>\n",
       "    </tr>\n",
       "    <tr>\n",
       "      <th>2543</th>\n",
       "      <td>Washington</td>\n",
       "      <td>unemployment</td>\n",
       "      <td>District of Columbia</td>\n",
       "      <td>33641</td>\n",
       "      <td>2010</td>\n",
       "    </tr>\n",
       "    <tr>\n",
       "      <th>2531</th>\n",
       "      <td>Washington</td>\n",
       "      <td>unemployment</td>\n",
       "      <td>District of Columbia</td>\n",
       "      <td>38302</td>\n",
       "      <td>2011</td>\n",
       "    </tr>\n",
       "    <tr>\n",
       "      <th>2519</th>\n",
       "      <td>Washington</td>\n",
       "      <td>unemployment</td>\n",
       "      <td>District of Columbia</td>\n",
       "      <td>33553</td>\n",
       "      <td>2012</td>\n",
       "    </tr>\n",
       "    <tr>\n",
       "      <th>2507</th>\n",
       "      <td>Washington</td>\n",
       "      <td>unemployment</td>\n",
       "      <td>District of Columbia</td>\n",
       "      <td>33128</td>\n",
       "      <td>2013</td>\n",
       "    </tr>\n",
       "    <tr>\n",
       "      <th>2495</th>\n",
       "      <td>Washington</td>\n",
       "      <td>unemployment</td>\n",
       "      <td>District of Columbia</td>\n",
       "      <td>30983</td>\n",
       "      <td>2014</td>\n",
       "    </tr>\n",
       "    <tr>\n",
       "      <th>2483</th>\n",
       "      <td>Washington</td>\n",
       "      <td>unemployment</td>\n",
       "      <td>District of Columbia</td>\n",
       "      <td>27685</td>\n",
       "      <td>2015</td>\n",
       "    </tr>\n",
       "    <tr>\n",
       "      <th>2471</th>\n",
       "      <td>Washington</td>\n",
       "      <td>unemployment</td>\n",
       "      <td>District of Columbia</td>\n",
       "      <td>25186</td>\n",
       "      <td>2016</td>\n",
       "    </tr>\n",
       "    <tr>\n",
       "      <th>1748</th>\n",
       "      <td>Washington</td>\n",
       "      <td>unemployment-rate</td>\n",
       "      <td>District of Columbia</td>\n",
       "      <td>6.6</td>\n",
       "      <td>2008</td>\n",
       "    </tr>\n",
       "    <tr>\n",
       "      <th>1736</th>\n",
       "      <td>Washington</td>\n",
       "      <td>unemployment-rate</td>\n",
       "      <td>District of Columbia</td>\n",
       "      <td>9.6</td>\n",
       "      <td>2009</td>\n",
       "    </tr>\n",
       "    <tr>\n",
       "      <th>1724</th>\n",
       "      <td>Washington</td>\n",
       "      <td>unemployment-rate</td>\n",
       "      <td>District of Columbia</td>\n",
       "      <td>9.4</td>\n",
       "      <td>2010</td>\n",
       "    </tr>\n",
       "    <tr>\n",
       "      <th>1712</th>\n",
       "      <td>Washington</td>\n",
       "      <td>unemployment-rate</td>\n",
       "      <td>District of Columbia</td>\n",
       "      <td>10.7</td>\n",
       "      <td>2011</td>\n",
       "    </tr>\n",
       "    <tr>\n",
       "      <th>1700</th>\n",
       "      <td>Washington</td>\n",
       "      <td>unemployment-rate</td>\n",
       "      <td>District of Columbia</td>\n",
       "      <td>9.0</td>\n",
       "      <td>2012</td>\n",
       "    </tr>\n",
       "    <tr>\n",
       "      <th>1688</th>\n",
       "      <td>Washington</td>\n",
       "      <td>unemployment-rate</td>\n",
       "      <td>District of Columbia</td>\n",
       "      <td>8.7</td>\n",
       "      <td>2013</td>\n",
       "    </tr>\n",
       "    <tr>\n",
       "      <th>1676</th>\n",
       "      <td>Washington</td>\n",
       "      <td>unemployment-rate</td>\n",
       "      <td>District of Columbia</td>\n",
       "      <td>8.1</td>\n",
       "      <td>2014</td>\n",
       "    </tr>\n",
       "    <tr>\n",
       "      <th>1664</th>\n",
       "      <td>Washington</td>\n",
       "      <td>unemployment-rate</td>\n",
       "      <td>District of Columbia</td>\n",
       "      <td>7.0</td>\n",
       "      <td>2015</td>\n",
       "    </tr>\n",
       "    <tr>\n",
       "      <th>1652</th>\n",
       "      <td>Washington</td>\n",
       "      <td>unemployment-rate</td>\n",
       "      <td>District of Columbia</td>\n",
       "      <td>6.3</td>\n",
       "      <td>2016</td>\n",
       "    </tr>\n",
       "  </tbody>\n",
       "</table>\n",
       "<p>225 rows × 5 columns</p>\n",
       "</div>"
      ],
      "text/plain": [
       "              City            Measure                 State   Value  Year\n",
       "812         Boston         employment         Massachusetts  309163  2008\n",
       "800         Boston         employment         Massachusetts  303159  2009\n",
       "788         Boston         employment         Massachusetts  314539  2010\n",
       "776         Boston         employment         Massachusetts  319585  2011\n",
       "764         Boston         employment         Massachusetts  325693  2012\n",
       "752         Boston         employment         Massachusetts  329650  2013\n",
       "740         Boston         employment         Massachusetts  339755  2014\n",
       "728         Boston         employment         Massachusetts  348817  2015\n",
       "716         Boston         employment         Massachusetts  355265  2016\n",
       "929         Boston        labor-force         Massachusetts  328248  2008\n",
       "917         Boston        labor-force         Massachusetts  330383  2009\n",
       "905         Boston        labor-force         Massachusetts  342167  2010\n",
       "893         Boston        labor-force         Massachusetts  343798  2011\n",
       "881         Boston        labor-force         Massachusetts  348666  2012\n",
       "869         Boston        labor-force         Massachusetts  353715  2013\n",
       "857         Boston        labor-force         Massachusetts  361170  2014\n",
       "845         Boston        labor-force         Massachusetts  366870  2015\n",
       "833         Boston        labor-force         Massachusetts  369136  2016\n",
       "845280      Boston         population         Massachusetts  636748  2008\n",
       "926983      Boston         population         Massachusetts  645169  2009\n",
       "191488      Boston         population         Massachusetts  620701  2010\n",
       "273073      Boston         population         Massachusetts  630195  2011\n",
       "354658      Boston         population         Massachusetts  641911  2012\n",
       "436243      Boston         population         Massachusetts  651090  2013\n",
       "517828      Boston         population         Massachusetts  659180  2014\n",
       "599413      Boston         population         Massachusetts  665984  2015\n",
       "680998      Boston         population         Massachusetts  673184  2016\n",
       "695         Boston       unemployment         Massachusetts   19085  2008\n",
       "683         Boston       unemployment         Massachusetts   27224  2009\n",
       "671         Boston       unemployment         Massachusetts   27628  2010\n",
       "...            ...                ...                   ...     ...   ...\n",
       "2846    Washington        labor-force  District of Columbia  384048  2014\n",
       "2834    Washington        labor-force  District of Columbia  393728  2015\n",
       "2822    Washington        labor-force  District of Columbia  397407  2016\n",
       "822044  Washington         population  District of Columbia  590074  2008\n",
       "903747  Washington         population  District of Columbia  599657  2009\n",
       "168196  Washington         population  District of Columbia  605183  2010\n",
       "249781  Washington         population  District of Columbia  620477  2011\n",
       "331366  Washington         population  District of Columbia  635327  2012\n",
       "412951  Washington         population  District of Columbia  649165  2013\n",
       "494536  Washington         population  District of Columbia  659005  2014\n",
       "576121  Washington         population  District of Columbia  670377  2015\n",
       "657706  Washington         population  District of Columbia  681170  2016\n",
       "2567    Washington       unemployment  District of Columbia   22231  2008\n",
       "2555    Washington       unemployment  District of Columbia   33098  2009\n",
       "2543    Washington       unemployment  District of Columbia   33641  2010\n",
       "2531    Washington       unemployment  District of Columbia   38302  2011\n",
       "2519    Washington       unemployment  District of Columbia   33553  2012\n",
       "2507    Washington       unemployment  District of Columbia   33128  2013\n",
       "2495    Washington       unemployment  District of Columbia   30983  2014\n",
       "2483    Washington       unemployment  District of Columbia   27685  2015\n",
       "2471    Washington       unemployment  District of Columbia   25186  2016\n",
       "1748    Washington  unemployment-rate  District of Columbia     6.6  2008\n",
       "1736    Washington  unemployment-rate  District of Columbia     9.6  2009\n",
       "1724    Washington  unemployment-rate  District of Columbia     9.4  2010\n",
       "1712    Washington  unemployment-rate  District of Columbia    10.7  2011\n",
       "1700    Washington  unemployment-rate  District of Columbia     9.0  2012\n",
       "1688    Washington  unemployment-rate  District of Columbia     8.7  2013\n",
       "1676    Washington  unemployment-rate  District of Columbia     8.1  2014\n",
       "1664    Washington  unemployment-rate  District of Columbia     7.0  2015\n",
       "1652    Washington  unemployment-rate  District of Columbia     6.3  2016\n",
       "\n",
       "[225 rows x 5 columns]"
      ]
     },
     "execution_count": 103,
     "metadata": {},
     "output_type": "execute_result"
    }
   ],
   "source": [
    "dfx"
   ]
  },
  {
   "cell_type": "code",
   "execution_count": 104,
   "metadata": {
    "collapsed": false
   },
   "outputs": [
    {
     "data": {
      "image/png": "[encoded data removed]",
      "text/plain": [
       "<matplotlib.figure.Figure at 0x11c954e48>"
      ]
     },
     "metadata": {},
     "output_type": "display_data"
    },
    {
     "data": {
      "image/png": "[encoded data removed]",
      "text/plain": [
       "<matplotlib.figure.Figure at 0x11c954c18>"
      ]
     },
     "metadata": {},
     "output_type": "display_data"
    },
    {
     "data": {
      "image/png": "[encoded data removed]",
      "text/plain": [
       "<matplotlib.figure.Figure at 0x11cddd2b0>"
      ]
     },
     "metadata": {},
     "output_type": "display_data"
    },
    {
     "data": {
      "image/png": "[encoded data removed]",
      "text/plain": [
       "<matplotlib.figure.Figure at 0x11cd4efd0>"
      ]
     },
     "metadata": {},
     "output_type": "display_data"
    },
    {
     "data": {
      "image/png": "[encoded data removed]",
      "text/plain": [
       "<matplotlib.figure.Figure at 0x11b818748>"
      ]
     },
     "metadata": {},
     "output_type": "display_data"
    }
   ],
   "source": [
    "for key, grp in dfx.groupby(['City']): \n",
    "    fig, (ax1, ax2, ax3) = plt.subplots(nrows = 3, ncols = 1, sharex=True)\n",
    "    srt = grp.sort_values(['Measure','Year'])\n",
    "    x = srt[srt.Measure==\"population\"].Year.values.astype(\"int\")\n",
    "    y1 = srt[srt.Measure==\"population\"].Value.values.astype(\"int\")\n",
    "    y2 = srt[srt.Measure==\"labor-force\"].Value.values.astype(\"int\")\n",
    "    ax1.set_title(key)\n",
    "    ax1.plot(x, y1, x, y2)\n",
    "    ax1.set_yscale(\"log\")\n",
    "    ratios = (srt[srt.Measure==\"labor-force\"].Value.values.astype(\"int\")/\n",
    "              srt[srt.Measure==\"population\"].Value.values.astype(\"int\"))*100.0\n",
    "    ax2.plot(x, ratios)\n",
    "    y = srt[grp.Measure==\"unemployment-rate\"].Value.values.astype(\"float\")\n",
    "    ax3.plot(x, y)"
   ]
  },
  {
   "cell_type": "code",
   "execution_count": 105,
   "metadata": {
    "collapsed": false
   },
   "outputs": [
    {
     "name": "stdout",
     "output_type": "stream",
     "text": [
      "Baltimore\n",
      "             City            Measure     State   Value  Year\n",
      "2801    Baltimore         employment  Maryland  263512  2008\n",
      "2684    Baltimore        labor-force  Maryland  283068  2008\n",
      "844915  Baltimore         population  Maryland  638091  2008\n",
      "2216    Baltimore       unemployment  Maryland   19556  2008\n",
      "2450    Baltimore  unemployment-rate  Maryland     6.9  2008\n",
      "2789    Baltimore         employment  Maryland  255155  2009\n",
      "2672    Baltimore        labor-force  Maryland  285986  2009\n",
      "926618  Baltimore         population  Maryland  637418  2009\n",
      "2204    Baltimore       unemployment  Maryland   30831  2009\n",
      "2438    Baltimore  unemployment-rate  Maryland    10.8  2009\n",
      "2777    Baltimore         employment  Maryland  265001  2010\n",
      "2660    Baltimore        labor-force  Maryland  300254  2010\n",
      "191122  Baltimore         population  Maryland  621195  2010\n",
      "2192    Baltimore       unemployment  Maryland   35253  2010\n",
      "2426    Baltimore  unemployment-rate  Maryland    11.7  2010\n",
      "2765    Baltimore         employment  Maryland  265954  2011\n",
      "2648    Baltimore        labor-force  Maryland  299490  2011\n",
      "272707  Baltimore         population  Maryland  620815  2011\n",
      "2180    Baltimore       unemployment  Maryland   33536  2011\n",
      "2414    Baltimore  unemployment-rate  Maryland    11.2  2011\n",
      "2753    Baltimore         employment  Maryland  268291  2012\n",
      "2636    Baltimore        labor-force  Maryland  301013  2012\n",
      "354292  Baltimore         population  Maryland  622722  2012\n",
      "2168    Baltimore       unemployment  Maryland   32722  2012\n",
      "2402    Baltimore  unemployment-rate  Maryland    10.9  2012\n",
      "2741    Baltimore         employment  Maryland  270105  2013\n",
      "2624    Baltimore        labor-force  Maryland  300517  2013\n",
      "435877  Baltimore         population  Maryland  622858  2013\n",
      "2156    Baltimore       unemployment  Maryland   30412  2013\n",
      "2390    Baltimore  unemployment-rate  Maryland    10.1  2013\n",
      "2729    Baltimore         employment  Maryland  271220  2014\n",
      "2612    Baltimore        labor-force  Maryland  298294  2014\n",
      "517462  Baltimore         population  Maryland  623353  2014\n",
      "2144    Baltimore       unemployment  Maryland   27074  2014\n",
      "2378    Baltimore  unemployment-rate  Maryland     9.1  2014\n",
      "2717    Baltimore         employment  Maryland  274875  2015\n",
      "2600    Baltimore        labor-force  Maryland  298712  2015\n",
      "599047  Baltimore         population  Maryland  621402  2015\n",
      "2132    Baltimore       unemployment  Maryland   23837  2015\n",
      "2366    Baltimore  unemployment-rate  Maryland     8.0  2015\n",
      "2705    Baltimore         employment  Maryland  279307  2016\n",
      "2588    Baltimore        labor-force  Maryland  298655  2016\n",
      "680632  Baltimore         population  Maryland  614664  2016\n",
      "2120    Baltimore       unemployment  Maryland   19348  2016\n",
      "2354    Baltimore  unemployment-rate  Maryland     6.5  2016\n",
      "Years: [2008 2009 2010 2011 2012 2013 2014 2015 2016]\n",
      "Labor Force: [283068 285986 300254 299490 301013 300517 298294 298712 298655]\n",
      "Population: [638091 637418 621195 620815 622722 622858 623353 621402 614664]\n",
      "Ratios: [ 44.36169763  44.86632006  48.33490289  48.24142458  48.3382633\n",
      "  48.24807581  47.8531426   48.07065314  48.58833444]\n",
      "Boston\n",
      "          City            Measure          State   Value  Year\n",
      "812     Boston         employment  Massachusetts  309163  2008\n",
      "929     Boston        labor-force  Massachusetts  328248  2008\n",
      "845280  Boston         population  Massachusetts  636748  2008\n",
      "695     Boston       unemployment  Massachusetts   19085  2008\n",
      "578     Boston  unemployment-rate  Massachusetts     5.8  2008\n",
      "800     Boston         employment  Massachusetts  303159  2009\n",
      "917     Boston        labor-force  Massachusetts  330383  2009\n",
      "926983  Boston         population  Massachusetts  645169  2009\n",
      "683     Boston       unemployment  Massachusetts   27224  2009\n",
      "566     Boston  unemployment-rate  Massachusetts     8.2  2009\n",
      "788     Boston         employment  Massachusetts  314539  2010\n",
      "905     Boston        labor-force  Massachusetts  342167  2010\n",
      "191488  Boston         population  Massachusetts  620701  2010\n",
      "671     Boston       unemployment  Massachusetts   27628  2010\n",
      "554     Boston  unemployment-rate  Massachusetts     8.1  2010\n",
      "776     Boston         employment  Massachusetts  319585  2011\n",
      "893     Boston        labor-force  Massachusetts  343798  2011\n",
      "273073  Boston         population  Massachusetts  630195  2011\n",
      "659     Boston       unemployment  Massachusetts   24213  2011\n",
      "542     Boston  unemployment-rate  Massachusetts     7.0  2011\n",
      "764     Boston         employment  Massachusetts  325693  2012\n",
      "881     Boston        labor-force  Massachusetts  348666  2012\n",
      "354658  Boston         population  Massachusetts  641911  2012\n",
      "647     Boston       unemployment  Massachusetts   22973  2012\n",
      "530     Boston  unemployment-rate  Massachusetts     6.6  2012\n",
      "752     Boston         employment  Massachusetts  329650  2013\n",
      "869     Boston        labor-force  Massachusetts  353715  2013\n",
      "436243  Boston         population  Massachusetts  651090  2013\n",
      "635     Boston       unemployment  Massachusetts   24065  2013\n",
      "518     Boston  unemployment-rate  Massachusetts     6.8  2013\n",
      "740     Boston         employment  Massachusetts  339755  2014\n",
      "857     Boston        labor-force  Massachusetts  361170  2014\n",
      "517828  Boston         population  Massachusetts  659180  2014\n",
      "623     Boston       unemployment  Massachusetts   21415  2014\n",
      "506     Boston  unemployment-rate  Massachusetts     5.9  2014\n",
      "728     Boston         employment  Massachusetts  348817  2015\n",
      "845     Boston        labor-force  Massachusetts  366870  2015\n",
      "599413  Boston         population  Massachusetts  665984  2015\n",
      "611     Boston       unemployment  Massachusetts   18053  2015\n",
      "494     Boston  unemployment-rate  Massachusetts     4.9  2015\n",
      "716     Boston         employment  Massachusetts  355265  2016\n",
      "833     Boston        labor-force  Massachusetts  369136  2016\n",
      "680998  Boston         population  Massachusetts  673184  2016\n",
      "599     Boston       unemployment  Massachusetts   13871  2016\n",
      "482     Boston  unemployment-rate  Massachusetts     3.8  2016\n",
      "Years: [2008 2009 2010 2011 2012 2013 2014 2015 2016]\n",
      "Labor Force: [328248 330383 342167 343798 348666 353715 361170 366870 369136]\n",
      "Population: [636748 645169 620701 630195 641911 651090 659180 665984 673184]\n",
      "Ratios: [ 51.55069195  51.20875306  55.12589798  54.55422528  54.3168757\n",
      "  54.32659079  54.79080069  55.08690899  54.8343395 ]\n",
      "New York\n",
      "            City            Measure     State    Value  Year\n",
      "2099    New York         employment  New York  3730392  2008\n",
      "1865    New York        labor-force  New York  3956413  2008\n",
      "863858  New York         population  New York  8346794  2008\n",
      "1982    New York       unemployment  New York   226021  2008\n",
      "1631    New York  unemployment-rate  New York      5.7  2008\n",
      "2087    New York         employment  New York  3618266  2009\n",
      "1853    New York        labor-force  New York  4017214  2009\n",
      "945561  New York         population  New York  8391881  2009\n",
      "1970    New York       unemployment  New York   398948  2009\n",
      "1619    New York  unemployment-rate  New York      9.9  2009\n",
      "2075    New York         employment  New York  3583506  2010\n",
      "1841    New York        labor-force  New York  3969455  2010\n",
      "209887  New York         population  New York  8192026  2010\n",
      "1958    New York       unemployment  New York   385949  2010\n",
      "1607    New York  unemployment-rate  New York      9.7  2010\n",
      "2063    New York         employment  New York  3604590  2011\n",
      "1829    New York        labor-force  New York  3974041  2011\n",
      "291472  New York         population  New York  8284098  2011\n",
      "1946    New York       unemployment  New York   369451  2011\n",
      "1595    New York  unemployment-rate  New York      9.3  2011\n",
      "2051    New York         employment  New York  3645389  2012\n",
      "1817    New York        labor-force  New York  4046456  2012\n",
      "373057  New York         population  New York  8361179  2012\n",
      "1934    New York       unemployment  New York   401067  2012\n",
      "1583    New York  unemployment-rate  New York      9.9  2012\n",
      "2039    New York         employment  New York  3722103  2013\n",
      "1805    New York        labor-force  New York  4098690  2013\n",
      "454642  New York         population  New York  8422460  2013\n",
      "1922    New York       unemployment  New York   376587  2013\n",
      "1571    New York  unemployment-rate  New York      9.2  2013\n",
      "2027    New York         employment  New York  3812079  2014\n",
      "1793    New York        labor-force  New York  4122175  2014\n",
      "536227  New York         population  New York  8471990  2014\n",
      "1910    New York       unemployment  New York   310096  2014\n",
      "1559    New York  unemployment-rate  New York      7.5  2014\n",
      "2015    New York         employment  New York  3892242  2015\n",
      "1781    New York        labor-force  New York  4127022  2015\n",
      "617812  New York         population  New York  8516502  2015\n",
      "1898    New York       unemployment  New York   234780  2015\n",
      "1547    New York  unemployment-rate  New York      5.7  2015\n",
      "2003    New York         employment  New York  3932156  2016\n",
      "1769    New York        labor-force  New York  4165039  2016\n",
      "699397  New York         population  New York  8537673  2016\n",
      "1886    New York       unemployment  New York   232883  2016\n",
      "1535    New York  unemployment-rate  New York      5.6  2016\n",
      "Years: [2008 2009 2010 2011 2012 2013 2014 2015 2016]\n",
      "Labor Force: [3956413 4017214 3969455 3974041 4046456 4098690 4122175 4127022 4165039]\n",
      "Population: [8346794 8391881 8192026 8284098 8361179 8422460 8471990 8516502 8537673]\n",
      "Ratios: [ 47.4003911   47.87024506  48.45510744  47.97192163  48.39575854\n",
      "  48.66381081  48.65651399  48.45912089  48.78424133]\n",
      "Philadelphia\n",
      "                City            Measure         State    Value  Year\n",
      "344     Philadelphia         employment  Pennsylvania   593590  2008\n",
      "461     Philadelphia        labor-force  Pennsylvania   641086  2008\n",
      "879498  Philadelphia         population  Pennsylvania  1540351  2008\n",
      "227     Philadelphia       unemployment  Pennsylvania    47496  2008\n",
      "110     Philadelphia  unemployment-rate  Pennsylvania      7.4  2008\n",
      "332     Philadelphia         employment  Pennsylvania   595015  2009\n",
      "449     Philadelphia        labor-force  Pennsylvania   663457  2009\n",
      "961201  Philadelphia         population  Pennsylvania  1547297  2009\n",
      "215     Philadelphia       unemployment  Pennsylvania    68442  2009\n",
      "98      Philadelphia  unemployment-rate  Pennsylvania     10.3  2009\n",
      "320     Philadelphia         employment  Pennsylvania   618211  2010\n",
      "437     Philadelphia        labor-force  Pennsylvania   696073  2010\n",
      "225482  Philadelphia         population  Pennsylvania  1528427  2010\n",
      "203     Philadelphia       unemployment  Pennsylvania    77862  2010\n",
      "86      Philadelphia  unemployment-rate  Pennsylvania     11.2  2010\n",
      "308     Philadelphia         employment  Pennsylvania   616582  2011\n",
      "425     Philadelphia        labor-force  Pennsylvania   698060  2011\n",
      "307067  Philadelphia         population  Pennsylvania  1539022  2011\n",
      "191     Philadelphia       unemployment  Pennsylvania    81478  2011\n",
      "74      Philadelphia  unemployment-rate  Pennsylvania     11.7  2011\n",
      "296     Philadelphia         employment  Pennsylvania   624624  2012\n",
      "413     Philadelphia        labor-force  Pennsylvania   709570  2012\n",
      "388652  Philadelphia         population  Pennsylvania  1550379  2012\n",
      "179     Philadelphia       unemployment  Pennsylvania    84946  2012\n",
      "62      Philadelphia  unemployment-rate  Pennsylvania     12.0  2012\n",
      "284     Philadelphia         employment  Pennsylvania   628376  2013\n",
      "401     Philadelphia        labor-force  Pennsylvania   705946  2013\n",
      "470237  Philadelphia         population  Pennsylvania  1555868  2013\n",
      "167     Philadelphia       unemployment  Pennsylvania    77570  2013\n",
      "50      Philadelphia  unemployment-rate  Pennsylvania     11.0  2013\n",
      "272     Philadelphia         employment  Pennsylvania   635793  2014\n",
      "389     Philadelphia        labor-force  Pennsylvania   698219  2014\n",
      "551822  Philadelphia         population  Pennsylvania  1560609  2014\n",
      "155     Philadelphia       unemployment  Pennsylvania    62426  2014\n",
      "38      Philadelphia  unemployment-rate  Pennsylvania      8.9  2014\n",
      "260     Philadelphia         employment  Pennsylvania   645338  2015\n",
      "377     Philadelphia        labor-force  Pennsylvania   701763  2015\n",
      "633407  Philadelphia         population  Pennsylvania  1564964  2015\n",
      "143     Philadelphia       unemployment  Pennsylvania    56425  2015\n",
      "26      Philadelphia  unemployment-rate  Pennsylvania      8.0  2015\n",
      "248     Philadelphia         employment  Pennsylvania   660808  2016\n",
      "365     Philadelphia        labor-force  Pennsylvania   715091  2016\n",
      "714992  Philadelphia         population  Pennsylvania  1567872  2016\n",
      "131     Philadelphia       unemployment  Pennsylvania    54283  2016\n",
      "14      Philadelphia  unemployment-rate  Pennsylvania      7.6  2016\n",
      "Years: [2008 2009 2010 2011 2012 2013 2014 2015 2016]\n",
      "Labor Force: [641086 663457 696073 698060 709570 705946 698219 701763 715091]\n",
      "Population: [1540351 1547297 1528427 1539022 1550379 1555868 1560609 1564964 1567872]\n",
      "Ratios: [ 41.61947504  42.87845191  45.54178904  45.35737631  45.76751878\n",
      "  45.37312934  44.74016233  44.84211777  45.60901655]\n",
      "Washington\n",
      "              City            Measure                 State   Value  Year\n",
      "2333    Washington         employment  District of Columbia  317143  2008\n",
      "2918    Washington        labor-force  District of Columbia  339374  2008\n",
      "822044  Washington         population  District of Columbia  590074  2008\n",
      "2567    Washington       unemployment  District of Columbia   22231  2008\n",
      "1748    Washington  unemployment-rate  District of Columbia     6.6  2008\n",
      "2321    Washington         employment  District of Columbia  311807  2009\n",
      "2906    Washington        labor-force  District of Columbia  344905  2009\n",
      "903747  Washington         population  District of Columbia  599657  2009\n",
      "2555    Washington       unemployment  District of Columbia   33098  2009\n",
      "1736    Washington  unemployment-rate  District of Columbia     9.6  2009\n",
      "2309    Washington         employment  District of Columbia  322602  2010\n",
      "2894    Washington        labor-force  District of Columbia  356243  2010\n",
      "168196  Washington         population  District of Columbia  605183  2010\n",
      "2543    Washington       unemployment  District of Columbia   33641  2010\n",
      "1724    Washington  unemployment-rate  District of Columbia     9.4  2010\n",
      "2297    Washington         employment  District of Columbia  319754  2011\n",
      "2882    Washington        labor-force  District of Columbia  358056  2011\n",
      "249781  Washington         population  District of Columbia  620477  2011\n",
      "2531    Washington       unemployment  District of Columbia   38302  2011\n",
      "1712    Washington  unemployment-rate  District of Columbia    10.7  2011\n",
      "2285    Washington         employment  District of Columbia  338754  2012\n",
      "2870    Washington        labor-force  District of Columbia  372307  2012\n",
      "331366  Washington         population  District of Columbia  635327  2012\n",
      "2519    Washington       unemployment  District of Columbia   33553  2012\n",
      "1700    Washington  unemployment-rate  District of Columbia     9.0  2012\n",
      "2273    Washington         employment  District of Columbia  346385  2013\n",
      "2858    Washington        labor-force  District of Columbia  379513  2013\n",
      "412951  Washington         population  District of Columbia  649165  2013\n",
      "2507    Washington       unemployment  District of Columbia   33128  2013\n",
      "1688    Washington  unemployment-rate  District of Columbia     8.7  2013\n",
      "2261    Washington         employment  District of Columbia  353065  2014\n",
      "2846    Washington        labor-force  District of Columbia  384048  2014\n",
      "494536  Washington         population  District of Columbia  659005  2014\n",
      "2495    Washington       unemployment  District of Columbia   30983  2014\n",
      "1676    Washington  unemployment-rate  District of Columbia     8.1  2014\n",
      "2249    Washington         employment  District of Columbia  366043  2015\n",
      "2834    Washington        labor-force  District of Columbia  393728  2015\n",
      "576121  Washington         population  District of Columbia  670377  2015\n",
      "2483    Washington       unemployment  District of Columbia   27685  2015\n",
      "1664    Washington  unemployment-rate  District of Columbia     7.0  2015\n",
      "2237    Washington         employment  District of Columbia  372221  2016\n",
      "2822    Washington        labor-force  District of Columbia  397407  2016\n",
      "657706  Washington         population  District of Columbia  681170  2016\n",
      "2471    Washington       unemployment  District of Columbia   25186  2016\n",
      "1652    Washington  unemployment-rate  District of Columbia     6.3  2016\n",
      "Years: [2008 2009 2010 2011 2012 2013 2014 2015 2016]\n",
      "Labor Force: [339374 344905 356243 358056 372307 379513 384048 393728 397407]\n",
      "Population: [590074 599657 605183 620477 635327 649165 659005 670377 681170]\n",
      "Ratios: [ 57.51380335  57.51704725  58.86533495  57.70657091  58.60084649\n",
      "  58.4617162   58.27694782  58.73232524  58.34182363]\n"
     ]
    },
    {
     "data": {
      "image/png": "[encoded data removed]",
      "text/plain": [
       "<matplotlib.figure.Figure at 0x12deaf438>"
      ]
     },
     "metadata": {},
     "output_type": "display_data"
    }
   ],
   "source": [
    "fig, ax = plt.subplots()\n",
    "\n",
    "for key, grp in dfx.groupby(['City']):\n",
    "    srt = grp.sort_values(['Year','Measure'])\n",
    "    years = srt[srt.Measure==\"labor-force\"].Year.values.astype(\"int\")\n",
    "    lfnData = srt[srt.Measure==\"labor-force\"].Value.values.astype(\"int\")\n",
    "    popData = srt[srt.Measure==\"population\"].Value.values.astype(\"int\")\n",
    "    ratios = (lfnData/popData)*100.0\n",
    "    print(key)\n",
    "    print(srt)\n",
    "    print(\"Years:\", years)\n",
    "    print(\"Labor Force:\", lfnData)\n",
    "    print(\"Population:\", popData)\n",
    "    print(\"Ratios:\", ratios)\n",
    "    ax.plot(years, ratios, label=key)\n",
    "    \n",
    "# Shrink current axis by 20%\n",
    "box = ax.get_position()\n",
    "ax.set_position([box.x0, box.y0, box.width * 0.8, box.height])\n",
    "\n",
    "# Put a legend to the right of the current axis\n",
    "ax.legend(loc='center left', bbox_to_anchor=(1, 0.5))\n",
    "\n",
    "ax.set_title(\"Ratio of Labor Force to Population\")\n",
    "ax.set_ylabel(\"Ratio (%)\")\n",
    "ax.set_xlabel(\"Year\")\n",
    "plt.show()"
   ]
  },
  {
   "cell_type": "code",
   "execution_count": null,
   "metadata": {
    "collapsed": true
   },
   "outputs": [],
   "source": []
  },
  {
   "cell_type": "code",
   "execution_count": null,
   "metadata": {
    "collapsed": true
   },
   "outputs": [],
   "source": []
  },
  {
   "cell_type": "code",
   "execution_count": 106,
   "metadata": {
    "collapsed": false
   },
   "outputs": [
    {
     "name": "stderr",
     "output_type": "stream",
     "text": [
      "/opt/anaconda/lib/python3.5/site-packages/statsmodels/compat/pandas.py:56: FutureWarning: The pandas.core.datetools module is deprecated and will be removed in a future version. Please use the pandas.tseries module instead.\n",
      "  from pandas.core import datetools\n"
     ]
    },
    {
     "ename": "KeyError",
     "evalue": "'city'",
     "output_type": "error",
     "traceback": [
      "\u001b[0;31m---------------------------------------------------------------------------\u001b[0m",
      "\u001b[0;31mKeyError\u001b[0m                                  Traceback (most recent call last)",
      "\u001b[0;32m<ipython-input-106-8f8306c2061f>\u001b[0m in \u001b[0;36m<module>\u001b[0;34m()\u001b[0m\n\u001b[1;32m      6\u001b[0m \u001b[0mfig\u001b[0m\u001b[0;34m,\u001b[0m \u001b[0;34m(\u001b[0m\u001b[0max1\u001b[0m\u001b[0;34m,\u001b[0m \u001b[0max2\u001b[0m\u001b[0;34m)\u001b[0m \u001b[0;34m=\u001b[0m \u001b[0mplt\u001b[0m\u001b[0;34m.\u001b[0m\u001b[0msubplots\u001b[0m\u001b[0;34m(\u001b[0m\u001b[0mnrows\u001b[0m \u001b[0;34m=\u001b[0m \u001b[0;36m2\u001b[0m\u001b[0;34m,\u001b[0m \u001b[0mncols\u001b[0m \u001b[0;34m=\u001b[0m \u001b[0;36m1\u001b[0m\u001b[0;34m)\u001b[0m\u001b[0;34m\u001b[0m\u001b[0m\n\u001b[1;32m      7\u001b[0m \u001b[0;34m\u001b[0m\u001b[0m\n\u001b[0;32m----> 8\u001b[0;31m \u001b[0;32mfor\u001b[0m \u001b[0mkey\u001b[0m\u001b[0;34m,\u001b[0m \u001b[0mgrp\u001b[0m \u001b[0;32min\u001b[0m \u001b[0mdf\u001b[0m\u001b[0;34m.\u001b[0m\u001b[0mgroupby\u001b[0m\u001b[0;34m(\u001b[0m\u001b[0;34m[\u001b[0m\u001b[0;34m'city'\u001b[0m\u001b[0;34m]\u001b[0m\u001b[0;34m)\u001b[0m\u001b[0;34m:\u001b[0m\u001b[0;34m\u001b[0m\u001b[0m\n\u001b[0m\u001b[1;32m      9\u001b[0m     \u001b[0;31m#ax2.plot(grp['date'], grp['value'], label = \"{}\".format(key))\u001b[0m\u001b[0;34m\u001b[0m\u001b[0;34m\u001b[0m\u001b[0m\n\u001b[1;32m     10\u001b[0m     \u001b[0mprint\u001b[0m\u001b[0;34m(\u001b[0m\u001b[0;34m\"key: {}, grp: {}\"\u001b[0m\u001b[0;34m.\u001b[0m\u001b[0mformat\u001b[0m\u001b[0;34m(\u001b[0m\u001b[0mkey\u001b[0m\u001b[0;34m,\u001b[0m \u001b[0mtype\u001b[0m\u001b[0;34m(\u001b[0m\u001b[0mgrp\u001b[0m\u001b[0;34m)\u001b[0m\u001b[0;34m)\u001b[0m\u001b[0;34m)\u001b[0m\u001b[0;34m\u001b[0m\u001b[0m\n",
      "\u001b[0;32m/opt/anaconda/lib/python3.5/site-packages/pandas/core/generic.py\u001b[0m in \u001b[0;36mgroupby\u001b[0;34m(self, by, axis, level, as_index, sort, group_keys, squeeze, **kwargs)\u001b[0m\n\u001b[1;32m   4414\u001b[0m         return groupby(self, by=by, axis=axis, level=level, as_index=as_index,\n\u001b[1;32m   4415\u001b[0m                        \u001b[0msort\u001b[0m\u001b[0;34m=\u001b[0m\u001b[0msort\u001b[0m\u001b[0;34m,\u001b[0m \u001b[0mgroup_keys\u001b[0m\u001b[0;34m=\u001b[0m\u001b[0mgroup_keys\u001b[0m\u001b[0;34m,\u001b[0m \u001b[0msqueeze\u001b[0m\u001b[0;34m=\u001b[0m\u001b[0msqueeze\u001b[0m\u001b[0;34m,\u001b[0m\u001b[0;34m\u001b[0m\u001b[0m\n\u001b[0;32m-> 4416\u001b[0;31m                        **kwargs)\n\u001b[0m\u001b[1;32m   4417\u001b[0m \u001b[0;34m\u001b[0m\u001b[0m\n\u001b[1;32m   4418\u001b[0m     def asfreq(self, freq, method=None, how=None, normalize=False,\n",
      "\u001b[0;32m/opt/anaconda/lib/python3.5/site-packages/pandas/core/groupby.py\u001b[0m in \u001b[0;36mgroupby\u001b[0;34m(obj, by, **kwds)\u001b[0m\n\u001b[1;32m   1697\u001b[0m         \u001b[0;32mraise\u001b[0m \u001b[0mTypeError\u001b[0m\u001b[0;34m(\u001b[0m\u001b[0;34m'invalid type: %s'\u001b[0m \u001b[0;34m%\u001b[0m \u001b[0mtype\u001b[0m\u001b[0;34m(\u001b[0m\u001b[0mobj\u001b[0m\u001b[0;34m)\u001b[0m\u001b[0;34m)\u001b[0m\u001b[0;34m\u001b[0m\u001b[0m\n\u001b[1;32m   1698\u001b[0m \u001b[0;34m\u001b[0m\u001b[0m\n\u001b[0;32m-> 1699\u001b[0;31m     \u001b[0;32mreturn\u001b[0m \u001b[0mklass\u001b[0m\u001b[0;34m(\u001b[0m\u001b[0mobj\u001b[0m\u001b[0;34m,\u001b[0m \u001b[0mby\u001b[0m\u001b[0;34m,\u001b[0m \u001b[0;34m**\u001b[0m\u001b[0mkwds\u001b[0m\u001b[0;34m)\u001b[0m\u001b[0;34m\u001b[0m\u001b[0m\n\u001b[0m\u001b[1;32m   1700\u001b[0m \u001b[0;34m\u001b[0m\u001b[0m\n\u001b[1;32m   1701\u001b[0m \u001b[0;34m\u001b[0m\u001b[0m\n",
      "\u001b[0;32m/opt/anaconda/lib/python3.5/site-packages/pandas/core/groupby.py\u001b[0m in \u001b[0;36m__init__\u001b[0;34m(self, obj, keys, axis, level, grouper, exclusions, selection, as_index, sort, group_keys, squeeze, **kwargs)\u001b[0m\n\u001b[1;32m    390\u001b[0m                                                     \u001b[0mlevel\u001b[0m\u001b[0;34m=\u001b[0m\u001b[0mlevel\u001b[0m\u001b[0;34m,\u001b[0m\u001b[0;34m\u001b[0m\u001b[0m\n\u001b[1;32m    391\u001b[0m                                                     \u001b[0msort\u001b[0m\u001b[0;34m=\u001b[0m\u001b[0msort\u001b[0m\u001b[0;34m,\u001b[0m\u001b[0;34m\u001b[0m\u001b[0m\n\u001b[0;32m--> 392\u001b[0;31m                                                     mutated=self.mutated)\n\u001b[0m\u001b[1;32m    393\u001b[0m \u001b[0;34m\u001b[0m\u001b[0m\n\u001b[1;32m    394\u001b[0m         \u001b[0mself\u001b[0m\u001b[0;34m.\u001b[0m\u001b[0mobj\u001b[0m \u001b[0;34m=\u001b[0m \u001b[0mobj\u001b[0m\u001b[0;34m\u001b[0m\u001b[0m\n",
      "\u001b[0;32m/opt/anaconda/lib/python3.5/site-packages/pandas/core/groupby.py\u001b[0m in \u001b[0;36m_get_grouper\u001b[0;34m(obj, key, axis, level, sort, mutated)\u001b[0m\n\u001b[1;32m   2688\u001b[0m                 \u001b[0min_axis\u001b[0m\u001b[0;34m,\u001b[0m \u001b[0mname\u001b[0m\u001b[0;34m,\u001b[0m \u001b[0mlevel\u001b[0m\u001b[0;34m,\u001b[0m \u001b[0mgpr\u001b[0m \u001b[0;34m=\u001b[0m \u001b[0;32mFalse\u001b[0m\u001b[0;34m,\u001b[0m \u001b[0;32mNone\u001b[0m\u001b[0;34m,\u001b[0m \u001b[0mgpr\u001b[0m\u001b[0;34m,\u001b[0m \u001b[0;32mNone\u001b[0m\u001b[0;34m\u001b[0m\u001b[0m\n\u001b[1;32m   2689\u001b[0m             \u001b[0;32melse\u001b[0m\u001b[0;34m:\u001b[0m\u001b[0;34m\u001b[0m\u001b[0m\n\u001b[0;32m-> 2690\u001b[0;31m                 \u001b[0;32mraise\u001b[0m \u001b[0mKeyError\u001b[0m\u001b[0;34m(\u001b[0m\u001b[0mgpr\u001b[0m\u001b[0;34m)\u001b[0m\u001b[0;34m\u001b[0m\u001b[0m\n\u001b[0m\u001b[1;32m   2691\u001b[0m         \u001b[0;32melif\u001b[0m \u001b[0misinstance\u001b[0m\u001b[0;34m(\u001b[0m\u001b[0mgpr\u001b[0m\u001b[0;34m,\u001b[0m \u001b[0mGrouper\u001b[0m\u001b[0;34m)\u001b[0m \u001b[0;32mand\u001b[0m \u001b[0mgpr\u001b[0m\u001b[0;34m.\u001b[0m\u001b[0mkey\u001b[0m \u001b[0;32mis\u001b[0m \u001b[0;32mnot\u001b[0m \u001b[0;32mNone\u001b[0m\u001b[0;34m:\u001b[0m\u001b[0;34m\u001b[0m\u001b[0m\n\u001b[1;32m   2692\u001b[0m             \u001b[0;31m# Add key to exclusions\u001b[0m\u001b[0;34m\u001b[0m\u001b[0;34m\u001b[0m\u001b[0m\n",
      "\u001b[0;31mKeyError\u001b[0m: 'city'"
     ]
    },
    {
     "data": {
      "image/png": "[encoded data removed]",
      "text/plain": [
       "<matplotlib.figure.Figure at 0x12dce0e10>"
      ]
     },
     "metadata": {},
     "output_type": "display_data"
    }
   ],
   "source": [
    "import pandas as pd\n",
    "import statsmodels.api as sm\n",
    "import matplotlib.pylab as plt\n",
    "from pandas.tools.plotting import andrews_curves\n",
    "\n",
    "fig, (ax1, ax2) = plt.subplots(nrows = 2, ncols = 1)\n",
    "\n",
    "for key, grp in df.groupby(['city']): \n",
    "    #ax2.plot(grp['date'], grp['value'], label = \"{}\".format(key))\n",
    "    print(\"key: {}, grp: {}\".format(key, type(grp)))\n",
    "    x = list([datetime.datetime.strptime(d,'%Y/%m').date() for d in grp.date.values])\n",
    "    y = list(grp.value.values)\n",
    "    ax2.plot(x, y, label=key)\n",
    "\n",
    "plt.legend(loc='right')    \n",
    "plt.show()"
   ]
  },
  {
   "cell_type": "code",
   "execution_count": 107,
   "metadata": {
    "collapsed": false
   },
   "outputs": [
    {
     "data": {
      "text/html": [
       "<div>\n",
       "<style>\n",
       "    .dataframe thead tr:only-child th {\n",
       "        text-align: right;\n",
       "    }\n",
       "\n",
       "    .dataframe thead th {\n",
       "        text-align: left;\n",
       "    }\n",
       "\n",
       "    .dataframe tbody tr th {\n",
       "        vertical-align: top;\n",
       "    }\n",
       "</style>\n",
       "<table border=\"1\" class=\"dataframe\">\n",
       "  <thead>\n",
       "    <tr style=\"text-align: right;\">\n",
       "      <th></th>\n",
       "      <th>City</th>\n",
       "      <th>Measure</th>\n",
       "      <th>State</th>\n",
       "      <th>Value</th>\n",
       "      <th>Year</th>\n",
       "    </tr>\n",
       "  </thead>\n",
       "  <tbody>\n",
       "    <tr>\n",
       "      <th>163407</th>\n",
       "      <td>Abbeville</td>\n",
       "      <td>population</td>\n",
       "      <td>Alabama</td>\n",
       "      <td>2987</td>\n",
       "      <td>2000</td>\n",
       "    </tr>\n",
       "    <tr>\n",
       "      <th>163408</th>\n",
       "      <td>Adamsville</td>\n",
       "      <td>population</td>\n",
       "      <td>Alabama</td>\n",
       "      <td>5069</td>\n",
       "      <td>2000</td>\n",
       "    </tr>\n",
       "    <tr>\n",
       "      <th>163409</th>\n",
       "      <td>Addison</td>\n",
       "      <td>population</td>\n",
       "      <td>Alabama</td>\n",
       "      <td>724</td>\n",
       "      <td>2000</td>\n",
       "    </tr>\n",
       "    <tr>\n",
       "      <th>163410</th>\n",
       "      <td>Akron</td>\n",
       "      <td>population</td>\n",
       "      <td>Alabama</td>\n",
       "      <td>449</td>\n",
       "      <td>2000</td>\n",
       "    </tr>\n",
       "    <tr>\n",
       "      <th>163411</th>\n",
       "      <td>Alabaster</td>\n",
       "      <td>population</td>\n",
       "      <td>Alabama</td>\n",
       "      <td>24099</td>\n",
       "      <td>2000</td>\n",
       "    </tr>\n",
       "  </tbody>\n",
       "</table>\n",
       "</div>"
      ],
      "text/plain": [
       "              City     Measure    State  Value  Year\n",
       "163407   Abbeville  population  Alabama   2987  2000\n",
       "163408  Adamsville  population  Alabama   5069  2000\n",
       "163409     Addison  population  Alabama    724  2000\n",
       "163410       Akron  population  Alabama    449  2000\n",
       "163411   Alabaster  population  Alabama  24099  2000"
      ]
     },
     "execution_count": 107,
     "metadata": {},
     "output_type": "execute_result"
    }
   ],
   "source": [
    "df.head()"
   ]
  },
  {
   "cell_type": "code",
   "execution_count": 108,
   "metadata": {
    "collapsed": false
   },
   "outputs": [
    {
     "ename": "KeyError",
     "evalue": "'city'",
     "output_type": "error",
     "traceback": [
      "\u001b[0;31m---------------------------------------------------------------------------\u001b[0m",
      "\u001b[0;31mKeyError\u001b[0m                                  Traceback (most recent call last)",
      "\u001b[0;32m<ipython-input-108-290e59a55c2a>\u001b[0m in \u001b[0;36m<module>\u001b[0;34m()\u001b[0m\n\u001b[0;32m----> 1\u001b[0;31m \u001b[0;32mfor\u001b[0m \u001b[0mkey\u001b[0m\u001b[0;34m,\u001b[0m \u001b[0mgrp\u001b[0m \u001b[0;32min\u001b[0m \u001b[0mdf\u001b[0m\u001b[0;34m.\u001b[0m\u001b[0mgroupby\u001b[0m\u001b[0;34m(\u001b[0m\u001b[0;34m[\u001b[0m\u001b[0;34m'city'\u001b[0m\u001b[0;34m]\u001b[0m\u001b[0;34m)\u001b[0m\u001b[0;34m:\u001b[0m\u001b[0;34m\u001b[0m\u001b[0m\n\u001b[0m\u001b[1;32m      2\u001b[0m     \u001b[0mearliest\u001b[0m \u001b[0;34m=\u001b[0m \u001b[0mfloat\u001b[0m\u001b[0;34m(\u001b[0m\u001b[0mgrp\u001b[0m\u001b[0;34m.\u001b[0m\u001b[0msort_values\u001b[0m\u001b[0;34m(\u001b[0m\u001b[0;34m[\u001b[0m\u001b[0;34m'date'\u001b[0m\u001b[0;34m]\u001b[0m\u001b[0;34m)\u001b[0m\u001b[0;34m.\u001b[0m\u001b[0mhead\u001b[0m\u001b[0;34m(\u001b[0m\u001b[0;36m1\u001b[0m\u001b[0;34m)\u001b[0m\u001b[0;34m.\u001b[0m\u001b[0mvalue\u001b[0m\u001b[0;34m.\u001b[0m\u001b[0mvalues\u001b[0m\u001b[0;34m[\u001b[0m\u001b[0;36m0\u001b[0m\u001b[0;34m]\u001b[0m\u001b[0;34m)\u001b[0m\u001b[0;34m\u001b[0m\u001b[0m\n\u001b[1;32m      3\u001b[0m     \u001b[0mlatest\u001b[0m   \u001b[0;34m=\u001b[0m \u001b[0mfloat\u001b[0m\u001b[0;34m(\u001b[0m\u001b[0mgrp\u001b[0m\u001b[0;34m.\u001b[0m\u001b[0msort_values\u001b[0m\u001b[0;34m(\u001b[0m\u001b[0;34m[\u001b[0m\u001b[0;34m'date'\u001b[0m\u001b[0;34m]\u001b[0m\u001b[0;34m)\u001b[0m\u001b[0;34m.\u001b[0m\u001b[0mtail\u001b[0m\u001b[0;34m(\u001b[0m\u001b[0;36m1\u001b[0m\u001b[0;34m)\u001b[0m\u001b[0;34m.\u001b[0m\u001b[0mvalue\u001b[0m\u001b[0;34m.\u001b[0m\u001b[0mvalues\u001b[0m\u001b[0;34m[\u001b[0m\u001b[0;36m0\u001b[0m\u001b[0;34m]\u001b[0m\u001b[0;34m)\u001b[0m\u001b[0;34m\u001b[0m\u001b[0m\n\u001b[1;32m      4\u001b[0m     \u001b[0mprint\u001b[0m\u001b[0;34m(\u001b[0m\u001b[0;34m\"city: {0:20s}\\tearliest: {1}\\t latest: {2}\\tdelta: {3:-5.2f}\"\u001b[0m\u001b[0;34m.\u001b[0m\u001b[0mformat\u001b[0m\u001b[0;34m(\u001b[0m\u001b[0mkey\u001b[0m\u001b[0;34m,\u001b[0m\u001b[0mearliest\u001b[0m\u001b[0;34m,\u001b[0m\u001b[0mlatest\u001b[0m\u001b[0;34m,\u001b[0m\u001b[0mlatest\u001b[0m\u001b[0;34m-\u001b[0m\u001b[0mearliest\u001b[0m\u001b[0;34m)\u001b[0m\u001b[0;34m)\u001b[0m\u001b[0;34m\u001b[0m\u001b[0m\n",
      "\u001b[0;32m/opt/anaconda/lib/python3.5/site-packages/pandas/core/generic.py\u001b[0m in \u001b[0;36mgroupby\u001b[0;34m(self, by, axis, level, as_index, sort, group_keys, squeeze, **kwargs)\u001b[0m\n\u001b[1;32m   4414\u001b[0m         return groupby(self, by=by, axis=axis, level=level, as_index=as_index,\n\u001b[1;32m   4415\u001b[0m                        \u001b[0msort\u001b[0m\u001b[0;34m=\u001b[0m\u001b[0msort\u001b[0m\u001b[0;34m,\u001b[0m \u001b[0mgroup_keys\u001b[0m\u001b[0;34m=\u001b[0m\u001b[0mgroup_keys\u001b[0m\u001b[0;34m,\u001b[0m \u001b[0msqueeze\u001b[0m\u001b[0;34m=\u001b[0m\u001b[0msqueeze\u001b[0m\u001b[0;34m,\u001b[0m\u001b[0;34m\u001b[0m\u001b[0m\n\u001b[0;32m-> 4416\u001b[0;31m                        **kwargs)\n\u001b[0m\u001b[1;32m   4417\u001b[0m \u001b[0;34m\u001b[0m\u001b[0m\n\u001b[1;32m   4418\u001b[0m     def asfreq(self, freq, method=None, how=None, normalize=False,\n",
      "\u001b[0;32m/opt/anaconda/lib/python3.5/site-packages/pandas/core/groupby.py\u001b[0m in \u001b[0;36mgroupby\u001b[0;34m(obj, by, **kwds)\u001b[0m\n\u001b[1;32m   1697\u001b[0m         \u001b[0;32mraise\u001b[0m \u001b[0mTypeError\u001b[0m\u001b[0;34m(\u001b[0m\u001b[0;34m'invalid type: %s'\u001b[0m \u001b[0;34m%\u001b[0m \u001b[0mtype\u001b[0m\u001b[0;34m(\u001b[0m\u001b[0mobj\u001b[0m\u001b[0;34m)\u001b[0m\u001b[0;34m)\u001b[0m\u001b[0;34m\u001b[0m\u001b[0m\n\u001b[1;32m   1698\u001b[0m \u001b[0;34m\u001b[0m\u001b[0m\n\u001b[0;32m-> 1699\u001b[0;31m     \u001b[0;32mreturn\u001b[0m \u001b[0mklass\u001b[0m\u001b[0;34m(\u001b[0m\u001b[0mobj\u001b[0m\u001b[0;34m,\u001b[0m \u001b[0mby\u001b[0m\u001b[0;34m,\u001b[0m \u001b[0;34m**\u001b[0m\u001b[0mkwds\u001b[0m\u001b[0;34m)\u001b[0m\u001b[0;34m\u001b[0m\u001b[0m\n\u001b[0m\u001b[1;32m   1700\u001b[0m \u001b[0;34m\u001b[0m\u001b[0m\n\u001b[1;32m   1701\u001b[0m \u001b[0;34m\u001b[0m\u001b[0m\n",
      "\u001b[0;32m/opt/anaconda/lib/python3.5/site-packages/pandas/core/groupby.py\u001b[0m in \u001b[0;36m__init__\u001b[0;34m(self, obj, keys, axis, level, grouper, exclusions, selection, as_index, sort, group_keys, squeeze, **kwargs)\u001b[0m\n\u001b[1;32m    390\u001b[0m                                                     \u001b[0mlevel\u001b[0m\u001b[0;34m=\u001b[0m\u001b[0mlevel\u001b[0m\u001b[0;34m,\u001b[0m\u001b[0;34m\u001b[0m\u001b[0m\n\u001b[1;32m    391\u001b[0m                                                     \u001b[0msort\u001b[0m\u001b[0;34m=\u001b[0m\u001b[0msort\u001b[0m\u001b[0;34m,\u001b[0m\u001b[0;34m\u001b[0m\u001b[0m\n\u001b[0;32m--> 392\u001b[0;31m                                                     mutated=self.mutated)\n\u001b[0m\u001b[1;32m    393\u001b[0m \u001b[0;34m\u001b[0m\u001b[0m\n\u001b[1;32m    394\u001b[0m         \u001b[0mself\u001b[0m\u001b[0;34m.\u001b[0m\u001b[0mobj\u001b[0m \u001b[0;34m=\u001b[0m \u001b[0mobj\u001b[0m\u001b[0;34m\u001b[0m\u001b[0m\n",
      "\u001b[0;32m/opt/anaconda/lib/python3.5/site-packages/pandas/core/groupby.py\u001b[0m in \u001b[0;36m_get_grouper\u001b[0;34m(obj, key, axis, level, sort, mutated)\u001b[0m\n\u001b[1;32m   2688\u001b[0m                 \u001b[0min_axis\u001b[0m\u001b[0;34m,\u001b[0m \u001b[0mname\u001b[0m\u001b[0;34m,\u001b[0m \u001b[0mlevel\u001b[0m\u001b[0;34m,\u001b[0m \u001b[0mgpr\u001b[0m \u001b[0;34m=\u001b[0m \u001b[0;32mFalse\u001b[0m\u001b[0;34m,\u001b[0m \u001b[0;32mNone\u001b[0m\u001b[0;34m,\u001b[0m \u001b[0mgpr\u001b[0m\u001b[0;34m,\u001b[0m \u001b[0;32mNone\u001b[0m\u001b[0;34m\u001b[0m\u001b[0m\n\u001b[1;32m   2689\u001b[0m             \u001b[0;32melse\u001b[0m\u001b[0;34m:\u001b[0m\u001b[0;34m\u001b[0m\u001b[0m\n\u001b[0;32m-> 2690\u001b[0;31m                 \u001b[0;32mraise\u001b[0m \u001b[0mKeyError\u001b[0m\u001b[0;34m(\u001b[0m\u001b[0mgpr\u001b[0m\u001b[0;34m)\u001b[0m\u001b[0;34m\u001b[0m\u001b[0m\n\u001b[0m\u001b[1;32m   2691\u001b[0m         \u001b[0;32melif\u001b[0m \u001b[0misinstance\u001b[0m\u001b[0;34m(\u001b[0m\u001b[0mgpr\u001b[0m\u001b[0;34m,\u001b[0m \u001b[0mGrouper\u001b[0m\u001b[0;34m)\u001b[0m \u001b[0;32mand\u001b[0m \u001b[0mgpr\u001b[0m\u001b[0;34m.\u001b[0m\u001b[0mkey\u001b[0m \u001b[0;32mis\u001b[0m \u001b[0;32mnot\u001b[0m \u001b[0;32mNone\u001b[0m\u001b[0;34m:\u001b[0m\u001b[0;34m\u001b[0m\u001b[0m\n\u001b[1;32m   2692\u001b[0m             \u001b[0;31m# Add key to exclusions\u001b[0m\u001b[0;34m\u001b[0m\u001b[0;34m\u001b[0m\u001b[0m\n",
      "\u001b[0;31mKeyError\u001b[0m: 'city'"
     ]
    }
   ],
   "source": [
    "for key, grp in df.groupby(['city']):\n",
    "    earliest = float(grp.sort_values(['date']).head(1).value.values[0])\n",
    "    latest   = float(grp.sort_values(['date']).tail(1).value.values[0])\n",
    "    print(\"city: {0:20s}\\tearliest: {1}\\t latest: {2}\\tdelta: {3:-5.2f}\".format(key,earliest,latest,latest-earliest))\n"
   ]
  },
  {
   "cell_type": "code",
   "execution_count": 109,
   "metadata": {
    "collapsed": false
   },
   "outputs": [
    {
     "ename": "KeyError",
     "evalue": "'city'",
     "output_type": "error",
     "traceback": [
      "\u001b[0;31m---------------------------------------------------------------------------\u001b[0m",
      "\u001b[0;31mKeyError\u001b[0m                                  Traceback (most recent call last)",
      "\u001b[0;32m<ipython-input-109-ed93235f9af7>\u001b[0m in \u001b[0;36m<module>\u001b[0;34m()\u001b[0m\n\u001b[1;32m      4\u001b[0m \u001b[0mcities\u001b[0m \u001b[0;34m=\u001b[0m \u001b[0;34m[\u001b[0m\u001b[0;34m]\u001b[0m\u001b[0;34m\u001b[0m\u001b[0m\n\u001b[1;32m      5\u001b[0m \u001b[0;34m\u001b[0m\u001b[0m\n\u001b[0;32m----> 6\u001b[0;31m \u001b[0;32mfor\u001b[0m \u001b[0mkey\u001b[0m\u001b[0;34m,\u001b[0m \u001b[0mgrp\u001b[0m \u001b[0;32min\u001b[0m \u001b[0mdf\u001b[0m\u001b[0;34m.\u001b[0m\u001b[0mgroupby\u001b[0m\u001b[0;34m(\u001b[0m\u001b[0;34m[\u001b[0m\u001b[0;34m'city'\u001b[0m\u001b[0;34m]\u001b[0m\u001b[0;34m)\u001b[0m\u001b[0;34m:\u001b[0m\u001b[0;34m\u001b[0m\u001b[0m\n\u001b[0m\u001b[1;32m      7\u001b[0m     \u001b[0mearliest\u001b[0m \u001b[0;34m=\u001b[0m \u001b[0mfloat\u001b[0m\u001b[0;34m(\u001b[0m\u001b[0mgrp\u001b[0m\u001b[0;34m.\u001b[0m\u001b[0msort_values\u001b[0m\u001b[0;34m(\u001b[0m\u001b[0;34m[\u001b[0m\u001b[0;34m'date'\u001b[0m\u001b[0;34m]\u001b[0m\u001b[0;34m)\u001b[0m\u001b[0;34m.\u001b[0m\u001b[0mhead\u001b[0m\u001b[0;34m(\u001b[0m\u001b[0;36m1\u001b[0m\u001b[0;34m)\u001b[0m\u001b[0;34m.\u001b[0m\u001b[0mvalue\u001b[0m\u001b[0;34m.\u001b[0m\u001b[0mvalues\u001b[0m\u001b[0;34m[\u001b[0m\u001b[0;36m0\u001b[0m\u001b[0;34m]\u001b[0m\u001b[0;34m)\u001b[0m\u001b[0;34m\u001b[0m\u001b[0m\n\u001b[1;32m      8\u001b[0m     \u001b[0mlatest\u001b[0m   \u001b[0;34m=\u001b[0m \u001b[0mfloat\u001b[0m\u001b[0;34m(\u001b[0m\u001b[0mgrp\u001b[0m\u001b[0;34m.\u001b[0m\u001b[0msort_values\u001b[0m\u001b[0;34m(\u001b[0m\u001b[0;34m[\u001b[0m\u001b[0;34m'date'\u001b[0m\u001b[0;34m]\u001b[0m\u001b[0;34m)\u001b[0m\u001b[0;34m.\u001b[0m\u001b[0mtail\u001b[0m\u001b[0;34m(\u001b[0m\u001b[0;36m1\u001b[0m\u001b[0;34m)\u001b[0m\u001b[0;34m.\u001b[0m\u001b[0mvalue\u001b[0m\u001b[0;34m.\u001b[0m\u001b[0mvalues\u001b[0m\u001b[0;34m[\u001b[0m\u001b[0;36m0\u001b[0m\u001b[0;34m]\u001b[0m\u001b[0;34m)\u001b[0m\u001b[0;34m\u001b[0m\u001b[0m\n",
      "\u001b[0;32m/opt/anaconda/lib/python3.5/site-packages/pandas/core/generic.py\u001b[0m in \u001b[0;36mgroupby\u001b[0;34m(self, by, axis, level, as_index, sort, group_keys, squeeze, **kwargs)\u001b[0m\n\u001b[1;32m   4414\u001b[0m         return groupby(self, by=by, axis=axis, level=level, as_index=as_index,\n\u001b[1;32m   4415\u001b[0m                        \u001b[0msort\u001b[0m\u001b[0;34m=\u001b[0m\u001b[0msort\u001b[0m\u001b[0;34m,\u001b[0m \u001b[0mgroup_keys\u001b[0m\u001b[0;34m=\u001b[0m\u001b[0mgroup_keys\u001b[0m\u001b[0;34m,\u001b[0m \u001b[0msqueeze\u001b[0m\u001b[0;34m=\u001b[0m\u001b[0msqueeze\u001b[0m\u001b[0;34m,\u001b[0m\u001b[0;34m\u001b[0m\u001b[0m\n\u001b[0;32m-> 4416\u001b[0;31m                        **kwargs)\n\u001b[0m\u001b[1;32m   4417\u001b[0m \u001b[0;34m\u001b[0m\u001b[0m\n\u001b[1;32m   4418\u001b[0m     def asfreq(self, freq, method=None, how=None, normalize=False,\n",
      "\u001b[0;32m/opt/anaconda/lib/python3.5/site-packages/pandas/core/groupby.py\u001b[0m in \u001b[0;36mgroupby\u001b[0;34m(obj, by, **kwds)\u001b[0m\n\u001b[1;32m   1697\u001b[0m         \u001b[0;32mraise\u001b[0m \u001b[0mTypeError\u001b[0m\u001b[0;34m(\u001b[0m\u001b[0;34m'invalid type: %s'\u001b[0m \u001b[0;34m%\u001b[0m \u001b[0mtype\u001b[0m\u001b[0;34m(\u001b[0m\u001b[0mobj\u001b[0m\u001b[0;34m)\u001b[0m\u001b[0;34m)\u001b[0m\u001b[0;34m\u001b[0m\u001b[0m\n\u001b[1;32m   1698\u001b[0m \u001b[0;34m\u001b[0m\u001b[0m\n\u001b[0;32m-> 1699\u001b[0;31m     \u001b[0;32mreturn\u001b[0m \u001b[0mklass\u001b[0m\u001b[0;34m(\u001b[0m\u001b[0mobj\u001b[0m\u001b[0;34m,\u001b[0m \u001b[0mby\u001b[0m\u001b[0;34m,\u001b[0m \u001b[0;34m**\u001b[0m\u001b[0mkwds\u001b[0m\u001b[0;34m)\u001b[0m\u001b[0;34m\u001b[0m\u001b[0m\n\u001b[0m\u001b[1;32m   1700\u001b[0m \u001b[0;34m\u001b[0m\u001b[0m\n\u001b[1;32m   1701\u001b[0m \u001b[0;34m\u001b[0m\u001b[0m\n",
      "\u001b[0;32m/opt/anaconda/lib/python3.5/site-packages/pandas/core/groupby.py\u001b[0m in \u001b[0;36m__init__\u001b[0;34m(self, obj, keys, axis, level, grouper, exclusions, selection, as_index, sort, group_keys, squeeze, **kwargs)\u001b[0m\n\u001b[1;32m    390\u001b[0m                                                     \u001b[0mlevel\u001b[0m\u001b[0;34m=\u001b[0m\u001b[0mlevel\u001b[0m\u001b[0;34m,\u001b[0m\u001b[0;34m\u001b[0m\u001b[0m\n\u001b[1;32m    391\u001b[0m                                                     \u001b[0msort\u001b[0m\u001b[0;34m=\u001b[0m\u001b[0msort\u001b[0m\u001b[0;34m,\u001b[0m\u001b[0;34m\u001b[0m\u001b[0m\n\u001b[0;32m--> 392\u001b[0;31m                                                     mutated=self.mutated)\n\u001b[0m\u001b[1;32m    393\u001b[0m \u001b[0;34m\u001b[0m\u001b[0m\n\u001b[1;32m    394\u001b[0m         \u001b[0mself\u001b[0m\u001b[0;34m.\u001b[0m\u001b[0mobj\u001b[0m \u001b[0;34m=\u001b[0m \u001b[0mobj\u001b[0m\u001b[0;34m\u001b[0m\u001b[0m\n",
      "\u001b[0;32m/opt/anaconda/lib/python3.5/site-packages/pandas/core/groupby.py\u001b[0m in \u001b[0;36m_get_grouper\u001b[0;34m(obj, key, axis, level, sort, mutated)\u001b[0m\n\u001b[1;32m   2688\u001b[0m                 \u001b[0min_axis\u001b[0m\u001b[0;34m,\u001b[0m \u001b[0mname\u001b[0m\u001b[0;34m,\u001b[0m \u001b[0mlevel\u001b[0m\u001b[0;34m,\u001b[0m \u001b[0mgpr\u001b[0m \u001b[0;34m=\u001b[0m \u001b[0;32mFalse\u001b[0m\u001b[0;34m,\u001b[0m \u001b[0;32mNone\u001b[0m\u001b[0;34m,\u001b[0m \u001b[0mgpr\u001b[0m\u001b[0;34m,\u001b[0m \u001b[0;32mNone\u001b[0m\u001b[0;34m\u001b[0m\u001b[0m\n\u001b[1;32m   2689\u001b[0m             \u001b[0;32melse\u001b[0m\u001b[0;34m:\u001b[0m\u001b[0;34m\u001b[0m\u001b[0m\n\u001b[0;32m-> 2690\u001b[0;31m                 \u001b[0;32mraise\u001b[0m \u001b[0mKeyError\u001b[0m\u001b[0;34m(\u001b[0m\u001b[0mgpr\u001b[0m\u001b[0;34m)\u001b[0m\u001b[0;34m\u001b[0m\u001b[0m\n\u001b[0m\u001b[1;32m   2691\u001b[0m         \u001b[0;32melif\u001b[0m \u001b[0misinstance\u001b[0m\u001b[0;34m(\u001b[0m\u001b[0mgpr\u001b[0m\u001b[0;34m,\u001b[0m \u001b[0mGrouper\u001b[0m\u001b[0;34m)\u001b[0m \u001b[0;32mand\u001b[0m \u001b[0mgpr\u001b[0m\u001b[0;34m.\u001b[0m\u001b[0mkey\u001b[0m \u001b[0;32mis\u001b[0m \u001b[0;32mnot\u001b[0m \u001b[0;32mNone\u001b[0m\u001b[0;34m:\u001b[0m\u001b[0;34m\u001b[0m\u001b[0m\n\u001b[1;32m   2692\u001b[0m             \u001b[0;31m# Add key to exclusions\u001b[0m\u001b[0;34m\u001b[0m\u001b[0;34m\u001b[0m\u001b[0m\n",
      "\u001b[0;31mKeyError\u001b[0m: 'city'"
     ]
    },
    {
     "data": {
      "image/png": "[encoded data removed]",
      "text/plain": [
       "<matplotlib.figure.Figure at 0x12b0b20f0>"
      ]
     },
     "metadata": {},
     "output_type": "display_data"
    }
   ],
   "source": [
    "fig, ax = plt.subplots()\n",
    "\n",
    "deltas = []\n",
    "cities = []\n",
    "\n",
    "for key, grp in df.groupby(['city']):\n",
    "    earliest = float(grp.sort_values(['date']).head(1).value.values[0])\n",
    "    latest   = float(grp.sort_values(['date']).tail(1).value.values[0])\n",
    "    delta = latest-earliest\n",
    "    print(\"city: {0:20s}\\tearliest: {1}\\t latest: {2}\\tdelta: {3:-5.2f}\".format(key,earliest,latest,delta))\n",
    "    cities.append(trimCityName(key))\n",
    "    deltas.append(delta)\n",
    "\n",
    "ind = np.arange(len(deltas))\n",
    "width = 0.5\n",
    "\n",
    "ax.plot(ind, [0,0,0,0,0], \"r--\")\n",
    "ax.bar(ind, deltas, width)\n",
    "\n",
    "ax.set_ylabel('% Change')\n",
    "ax.set_title('% Change in Unemployment, 2008-2017')\n",
    "ax.set_xticks(ind)\n",
    "ax.set_xticklabels((cities))\n"
   ]
  },
  {
   "cell_type": "markdown",
   "metadata": {},
   "source": [
    "# load the national unemployment data\n",
    "file created from data presented at: http://www.ncsl.org/research/labor-and-employment/national-employment-monthly-update.aspx"
   ]
  },
  {
   "cell_type": "code",
   "execution_count": 110,
   "metadata": {
    "collapsed": true
   },
   "outputs": [],
   "source": [
    "file = open(\"bls-national-unemployment.raw\", \"r\")\n",
    "data = []\n",
    "\n",
    "count = 0\n",
    "for line in file.readlines():\n",
    "    count += 1\n",
    "    line2 = re.sub(' +',' ', line.rstrip())\n",
    "    fields = [f.strip() for f in line2.split(\"\\t\")]\n",
    "    #print(count,fields)\n",
    "    data.append(fields)\n",
    "    \n",
    "file.close()"
   ]
  },
  {
   "cell_type": "code",
   "execution_count": 111,
   "metadata": {
    "collapsed": true
   },
   "outputs": [],
   "source": [
    "data2 = []\n",
    "for i in range(1, len(data)):\n",
    "    #print(i, data[i])\n",
    "    row = data[i]\n",
    "    year = row[0]\n",
    "    for j in range(1,len(row)):\n",
    "        month = \"{0:02}\".format(j)\n",
    "        #print(i,j,year,month,row[j])\n",
    "        row2 = [\"national-unemployment\",\"{}/{}\".format(year,month),row[j]]\n",
    "        data2.append(row2)"
   ]
  },
  {
   "cell_type": "code",
   "execution_count": 112,
   "metadata": {
    "collapsed": true
   },
   "outputs": [],
   "source": [
    "df2 = pd.DataFrame(data2, columns=[\"measure\",\"date\",\"value\"])\n",
    "df2 = df2.sort_values('date')"
   ]
  },
  {
   "cell_type": "code",
   "execution_count": 113,
   "metadata": {
    "collapsed": false
   },
   "outputs": [
    {
     "data": {
      "text/html": [
       "<div>\n",
       "<style>\n",
       "    .dataframe thead tr:only-child th {\n",
       "        text-align: right;\n",
       "    }\n",
       "\n",
       "    .dataframe thead th {\n",
       "        text-align: left;\n",
       "    }\n",
       "\n",
       "    .dataframe tbody tr th {\n",
       "        vertical-align: top;\n",
       "    }\n",
       "</style>\n",
       "<table border=\"1\" class=\"dataframe\">\n",
       "  <thead>\n",
       "    <tr style=\"text-align: right;\">\n",
       "      <th></th>\n",
       "      <th>measure</th>\n",
       "      <th>date</th>\n",
       "      <th>value</th>\n",
       "    </tr>\n",
       "  </thead>\n",
       "  <tbody>\n",
       "    <tr>\n",
       "      <th>105</th>\n",
       "      <td>national-unemployment</td>\n",
       "      <td>2008/01</td>\n",
       "      <td>4.9</td>\n",
       "    </tr>\n",
       "    <tr>\n",
       "      <th>106</th>\n",
       "      <td>national-unemployment</td>\n",
       "      <td>2008/02</td>\n",
       "      <td>4.8</td>\n",
       "    </tr>\n",
       "    <tr>\n",
       "      <th>107</th>\n",
       "      <td>national-unemployment</td>\n",
       "      <td>2008/03</td>\n",
       "      <td>5.1</td>\n",
       "    </tr>\n",
       "    <tr>\n",
       "      <th>108</th>\n",
       "      <td>national-unemployment</td>\n",
       "      <td>2008/04</td>\n",
       "      <td>5.0</td>\n",
       "    </tr>\n",
       "    <tr>\n",
       "      <th>109</th>\n",
       "      <td>national-unemployment</td>\n",
       "      <td>2008/05</td>\n",
       "      <td>5.5</td>\n",
       "    </tr>\n",
       "  </tbody>\n",
       "</table>\n",
       "</div>"
      ],
      "text/plain": [
       "                   measure     date value\n",
       "105  national-unemployment  2008/01   4.9\n",
       "106  national-unemployment  2008/02   4.8\n",
       "107  national-unemployment  2008/03   5.1\n",
       "108  national-unemployment  2008/04   5.0\n",
       "109  national-unemployment  2008/05   5.5"
      ]
     },
     "execution_count": 113,
     "metadata": {},
     "output_type": "execute_result"
    }
   ],
   "source": [
    "df2.head()"
   ]
  },
  {
   "cell_type": "markdown",
   "metadata": {},
   "source": [
    "# plot a city's data\n",
    "(this is based on the Matplotlib example here: https://matplotlib.org/examples/api/date_demo.html )"
   ]
  },
  {
   "cell_type": "code",
   "execution_count": 114,
   "metadata": {
    "collapsed": false
   },
   "outputs": [
    {
     "ename": "AttributeError",
     "evalue": "'DataFrame' object has no attribute 'city'",
     "output_type": "error",
     "traceback": [
      "\u001b[0;31m---------------------------------------------------------------------------\u001b[0m",
      "\u001b[0;31mAttributeError\u001b[0m                            Traceback (most recent call last)",
      "\u001b[0;32m<ipython-input-114-e0f6b59b9fa5>\u001b[0m in \u001b[0;36m<module>\u001b[0;34m()\u001b[0m\n\u001b[1;32m     26\u001b[0m \u001b[0;34m\u001b[0m\u001b[0m\n\u001b[1;32m     27\u001b[0m \u001b[0mcityName\u001b[0m \u001b[0;34m=\u001b[0m \u001b[0;34m\"Philadelphia County/city\"\u001b[0m\u001b[0;34m\u001b[0m\u001b[0m\n\u001b[0;32m---> 28\u001b[0;31m \u001b[0mcityData\u001b[0m \u001b[0;34m=\u001b[0m \u001b[0mdf\u001b[0m\u001b[0;34m[\u001b[0m\u001b[0mdf\u001b[0m\u001b[0;34m.\u001b[0m\u001b[0mcity\u001b[0m\u001b[0;34m==\u001b[0m\u001b[0mcityName\u001b[0m\u001b[0;34m]\u001b[0m\u001b[0;34m\u001b[0m\u001b[0m\n\u001b[0m\u001b[1;32m     29\u001b[0m \u001b[0mx\u001b[0m \u001b[0;34m=\u001b[0m \u001b[0mlist\u001b[0m\u001b[0;34m(\u001b[0m\u001b[0;34m[\u001b[0m\u001b[0mdatetime\u001b[0m\u001b[0;34m.\u001b[0m\u001b[0mdatetime\u001b[0m\u001b[0;34m.\u001b[0m\u001b[0mstrptime\u001b[0m\u001b[0;34m(\u001b[0m\u001b[0md\u001b[0m\u001b[0;34m,\u001b[0m\u001b[0;34m'%Y/%m'\u001b[0m\u001b[0;34m)\u001b[0m\u001b[0;34m.\u001b[0m\u001b[0mdate\u001b[0m\u001b[0;34m(\u001b[0m\u001b[0;34m)\u001b[0m \u001b[0;32mfor\u001b[0m \u001b[0md\u001b[0m \u001b[0;32min\u001b[0m \u001b[0mcityData\u001b[0m\u001b[0;34m.\u001b[0m\u001b[0mdate\u001b[0m\u001b[0;34m.\u001b[0m\u001b[0mvalues\u001b[0m\u001b[0;34m]\u001b[0m\u001b[0;34m)\u001b[0m\u001b[0;34m\u001b[0m\u001b[0m\n\u001b[1;32m     30\u001b[0m \u001b[0my\u001b[0m \u001b[0;34m=\u001b[0m \u001b[0mlist\u001b[0m\u001b[0;34m(\u001b[0m\u001b[0mcityData\u001b[0m\u001b[0;34m.\u001b[0m\u001b[0mvalue\u001b[0m\u001b[0;34m.\u001b[0m\u001b[0mvalues\u001b[0m\u001b[0;34m)\u001b[0m\u001b[0;34m\u001b[0m\u001b[0m\n",
      "\u001b[0;32m/opt/anaconda/lib/python3.5/site-packages/pandas/core/generic.py\u001b[0m in \u001b[0;36m__getattr__\u001b[0;34m(self, name)\u001b[0m\n\u001b[1;32m   3079\u001b[0m             \u001b[0;32mif\u001b[0m \u001b[0mname\u001b[0m \u001b[0;32min\u001b[0m \u001b[0mself\u001b[0m\u001b[0;34m.\u001b[0m\u001b[0m_info_axis\u001b[0m\u001b[0;34m:\u001b[0m\u001b[0;34m\u001b[0m\u001b[0m\n\u001b[1;32m   3080\u001b[0m                 \u001b[0;32mreturn\u001b[0m \u001b[0mself\u001b[0m\u001b[0;34m[\u001b[0m\u001b[0mname\u001b[0m\u001b[0;34m]\u001b[0m\u001b[0;34m\u001b[0m\u001b[0m\n\u001b[0;32m-> 3081\u001b[0;31m             \u001b[0;32mreturn\u001b[0m \u001b[0mobject\u001b[0m\u001b[0;34m.\u001b[0m\u001b[0m__getattribute__\u001b[0m\u001b[0;34m(\u001b[0m\u001b[0mself\u001b[0m\u001b[0;34m,\u001b[0m \u001b[0mname\u001b[0m\u001b[0;34m)\u001b[0m\u001b[0;34m\u001b[0m\u001b[0m\n\u001b[0m\u001b[1;32m   3082\u001b[0m \u001b[0;34m\u001b[0m\u001b[0m\n\u001b[1;32m   3083\u001b[0m     \u001b[0;32mdef\u001b[0m \u001b[0m__setattr__\u001b[0m\u001b[0;34m(\u001b[0m\u001b[0mself\u001b[0m\u001b[0;34m,\u001b[0m \u001b[0mname\u001b[0m\u001b[0;34m,\u001b[0m \u001b[0mvalue\u001b[0m\u001b[0;34m)\u001b[0m\u001b[0;34m:\u001b[0m\u001b[0;34m\u001b[0m\u001b[0m\n",
      "\u001b[0;31mAttributeError\u001b[0m: 'DataFrame' object has no attribute 'city'"
     ]
    }
   ],
   "source": [
    "\"\"\"\n",
    "================\n",
    "Date tick labels\n",
    "================\n",
    "\n",
    "Show how to make date plots in matplotlib using date tick locators and\n",
    "formatters.  See major_minor_demo1.py for more information on\n",
    "controlling major and minor ticks\n",
    "\n",
    "All matplotlib date plotting is done by converting date instances into\n",
    "days since the 0001-01-01 UTC.  The conversion, tick locating and\n",
    "formatting is done behind the scenes so this is most transparent to\n",
    "you.  The dates module provides several converter functions date2num\n",
    "and num2date\n",
    "\n",
    "\"\"\"\n",
    "import datetime\n",
    "import numpy as np\n",
    "import matplotlib.pyplot as plt\n",
    "import matplotlib.dates as mdates\n",
    "import matplotlib.cbook as cbook\n",
    "\n",
    "years = mdates.YearLocator()   # every year\n",
    "months = mdates.MonthLocator()  # every month\n",
    "yearsFmt = mdates.DateFormatter('%Y')\n",
    "\n",
    "cityName = \"Philadelphia County/city\"\n",
    "cityData = df[df.city==cityName]\n",
    "x = list([datetime.datetime.strptime(d,'%Y/%m').date() for d in cityData.date.values])\n",
    "y = list(cityData.value.values)\n",
    "\n",
    "fig, ax = plt.subplots()\n",
    "ax.plot(x, y)\n",
    "\n",
    "\n",
    "# format the ticks\n",
    "ax.xaxis.set_major_locator(years)\n",
    "ax.xaxis.set_major_formatter(yearsFmt)\n",
    "ax.xaxis.set_minor_locator(months)\n",
    "\n",
    "datemin = datetime.date(min(x).year, 1, 1)\n",
    "datemax = datetime.date(max(x).year + 1, 1, 1)\n",
    "ax.set_xlim(datemin, datemax)\n",
    "\n",
    "\n",
    "# format the coords message box\n",
    "def price(x):\n",
    "    return '%1.2f' % x\n",
    "ax.format_xdata = mdates.DateFormatter('%Y-%m')\n",
    "ax.format_ydata = price\n",
    "ax.grid(True)\n",
    "\n",
    "# rotates and right aligns the x labels, and moves the bottom of the\n",
    "# axes up to make room for them\n",
    "fig.autofmt_xdate()\n",
    "\n",
    "plt.title(\"{} Unemployment, 2008-2017\".format(trimCityName(cityName)))\n",
    "plt.xlabel(\"Year\")\n",
    "plt.ylabel(\"Unemployment %\")\n",
    "plt.legend([trimCityName(cityName)])\n",
    "plt.show()"
   ]
  },
  {
   "cell_type": "markdown",
   "metadata": {},
   "source": [
    "# plot the national data"
   ]
  },
  {
   "cell_type": "code",
   "execution_count": 115,
   "metadata": {
    "collapsed": false
   },
   "outputs": [
    {
     "data": {
      "image/png": "[encoded data removed]",
      "text/plain": [
       "<matplotlib.figure.Figure at 0x12b0b1438>"
      ]
     },
     "metadata": {},
     "output_type": "display_data"
    }
   ],
   "source": [
    "import datetime\n",
    "import numpy as np\n",
    "import matplotlib.pyplot as plt\n",
    "import matplotlib.dates as mdates\n",
    "import matplotlib.cbook as cbook\n",
    "\n",
    "years = mdates.YearLocator()   # every year\n",
    "months = mdates.MonthLocator()  # every month\n",
    "yearsFmt = mdates.DateFormatter('%Y')\n",
    "\n",
    "x = list([datetime.datetime.strptime(d,'%Y/%m').date() for d in df2.date.values])\n",
    "y = list(df2.value.values)\n",
    "\n",
    "fig, ax = plt.subplots()\n",
    "ax.plot(x, y)\n",
    "\n",
    "\n",
    "# format the ticks\n",
    "ax.xaxis.set_major_locator(years)\n",
    "ax.xaxis.set_major_formatter(yearsFmt)\n",
    "ax.xaxis.set_minor_locator(months)\n",
    "\n",
    "datemin = datetime.date(min(x).year, 1, 1)\n",
    "datemax = datetime.date(max(x).year + 1, 1, 1)\n",
    "ax.set_xlim(datemin, datemax)\n",
    "\n",
    "\n",
    "# format the coords message box\n",
    "def price(x):\n",
    "    return '%1.2f' % x\n",
    "ax.format_xdata = mdates.DateFormatter('%Y-%m')\n",
    "ax.format_ydata = price\n",
    "ax.grid(True)\n",
    "\n",
    "# rotates and right aligns the x labels, and moves the bottom of the\n",
    "# axes up to make room for them\n",
    "fig.autofmt_xdate()\n",
    "\n",
    "plt.title(\"National Unemployment, 2008-2017\")\n",
    "plt.xlabel(\"Year\")\n",
    "plt.ylabel(\"Unemployment %\")\n",
    "plt.legend(['National'])\n",
    "plt.show()"
   ]
  },
  {
   "cell_type": "markdown",
   "metadata": {},
   "source": [
    "# plot both national and city data"
   ]
  },
  {
   "cell_type": "code",
   "execution_count": 116,
   "metadata": {
    "collapsed": false
   },
   "outputs": [
    {
     "ename": "AttributeError",
     "evalue": "'DataFrame' object has no attribute 'city'",
     "output_type": "error",
     "traceback": [
      "\u001b[0;31m---------------------------------------------------------------------------\u001b[0m",
      "\u001b[0;31mAttributeError\u001b[0m                            Traceback (most recent call last)",
      "\u001b[0;32m<ipython-input-116-a46e559aeadc>\u001b[0m in \u001b[0;36m<module>\u001b[0;34m()\u001b[0m\n\u001b[1;32m     13\u001b[0m \u001b[0;34m\u001b[0m\u001b[0m\n\u001b[1;32m     14\u001b[0m \u001b[0mcityName\u001b[0m \u001b[0;34m=\u001b[0m \u001b[0;34m\"Philadelphia County/city\"\u001b[0m\u001b[0;34m\u001b[0m\u001b[0m\n\u001b[0;32m---> 15\u001b[0;31m \u001b[0mcityData\u001b[0m \u001b[0;34m=\u001b[0m \u001b[0mdf\u001b[0m\u001b[0;34m[\u001b[0m\u001b[0mdf\u001b[0m\u001b[0;34m.\u001b[0m\u001b[0mcity\u001b[0m\u001b[0;34m==\u001b[0m\u001b[0mcityName\u001b[0m\u001b[0;34m]\u001b[0m\u001b[0;34m\u001b[0m\u001b[0m\n\u001b[0m\u001b[1;32m     16\u001b[0m \u001b[0mx2\u001b[0m \u001b[0;34m=\u001b[0m \u001b[0mlist\u001b[0m\u001b[0;34m(\u001b[0m\u001b[0;34m[\u001b[0m\u001b[0mdatetime\u001b[0m\u001b[0;34m.\u001b[0m\u001b[0mdatetime\u001b[0m\u001b[0;34m.\u001b[0m\u001b[0mstrptime\u001b[0m\u001b[0;34m(\u001b[0m\u001b[0md\u001b[0m\u001b[0;34m,\u001b[0m\u001b[0;34m'%Y/%m'\u001b[0m\u001b[0;34m)\u001b[0m\u001b[0;34m.\u001b[0m\u001b[0mdate\u001b[0m\u001b[0;34m(\u001b[0m\u001b[0;34m)\u001b[0m \u001b[0;32mfor\u001b[0m \u001b[0md\u001b[0m \u001b[0;32min\u001b[0m \u001b[0mcityData\u001b[0m\u001b[0;34m.\u001b[0m\u001b[0mdate\u001b[0m\u001b[0;34m.\u001b[0m\u001b[0mvalues\u001b[0m\u001b[0;34m]\u001b[0m\u001b[0;34m)\u001b[0m\u001b[0;34m\u001b[0m\u001b[0m\n\u001b[1;32m     17\u001b[0m \u001b[0my2\u001b[0m \u001b[0;34m=\u001b[0m \u001b[0mlist\u001b[0m\u001b[0;34m(\u001b[0m\u001b[0mcityData\u001b[0m\u001b[0;34m.\u001b[0m\u001b[0mvalue\u001b[0m\u001b[0;34m.\u001b[0m\u001b[0mvalues\u001b[0m\u001b[0;34m)\u001b[0m\u001b[0;34m\u001b[0m\u001b[0m\n",
      "\u001b[0;32m/opt/anaconda/lib/python3.5/site-packages/pandas/core/generic.py\u001b[0m in \u001b[0;36m__getattr__\u001b[0;34m(self, name)\u001b[0m\n\u001b[1;32m   3079\u001b[0m             \u001b[0;32mif\u001b[0m \u001b[0mname\u001b[0m \u001b[0;32min\u001b[0m \u001b[0mself\u001b[0m\u001b[0;34m.\u001b[0m\u001b[0m_info_axis\u001b[0m\u001b[0;34m:\u001b[0m\u001b[0;34m\u001b[0m\u001b[0m\n\u001b[1;32m   3080\u001b[0m                 \u001b[0;32mreturn\u001b[0m \u001b[0mself\u001b[0m\u001b[0;34m[\u001b[0m\u001b[0mname\u001b[0m\u001b[0;34m]\u001b[0m\u001b[0;34m\u001b[0m\u001b[0m\n\u001b[0;32m-> 3081\u001b[0;31m             \u001b[0;32mreturn\u001b[0m \u001b[0mobject\u001b[0m\u001b[0;34m.\u001b[0m\u001b[0m__getattribute__\u001b[0m\u001b[0;34m(\u001b[0m\u001b[0mself\u001b[0m\u001b[0;34m,\u001b[0m \u001b[0mname\u001b[0m\u001b[0;34m)\u001b[0m\u001b[0;34m\u001b[0m\u001b[0m\n\u001b[0m\u001b[1;32m   3082\u001b[0m \u001b[0;34m\u001b[0m\u001b[0m\n\u001b[1;32m   3083\u001b[0m     \u001b[0;32mdef\u001b[0m \u001b[0m__setattr__\u001b[0m\u001b[0;34m(\u001b[0m\u001b[0mself\u001b[0m\u001b[0;34m,\u001b[0m \u001b[0mname\u001b[0m\u001b[0;34m,\u001b[0m \u001b[0mvalue\u001b[0m\u001b[0;34m)\u001b[0m\u001b[0;34m:\u001b[0m\u001b[0;34m\u001b[0m\u001b[0m\n",
      "\u001b[0;31mAttributeError\u001b[0m: 'DataFrame' object has no attribute 'city'"
     ]
    }
   ],
   "source": [
    "import datetime\n",
    "import numpy as np\n",
    "import matplotlib.pyplot as plt\n",
    "import matplotlib.dates as mdates\n",
    "import matplotlib.cbook as cbook\n",
    "\n",
    "years = mdates.YearLocator()   # every year\n",
    "months = mdates.MonthLocator()  # every month\n",
    "yearsFmt = mdates.DateFormatter('%Y')\n",
    "\n",
    "x1 = list([datetime.datetime.strptime(d,'%Y/%m').date() for d in df2.date.values])\n",
    "y1 = list(df2.value.values)\n",
    "\n",
    "cityName = \"Philadelphia County/city\"\n",
    "cityData = df[df.city==cityName]\n",
    "x2 = list([datetime.datetime.strptime(d,'%Y/%m').date() for d in cityData.date.values])\n",
    "y2 = list(cityData.value.values)\n",
    "\n",
    "fig, ax = plt.subplots()\n",
    "ax.plot(x1, y1, x2, y2)\n",
    "\n",
    "\n",
    "# format the ticks\n",
    "ax.xaxis.set_major_locator(years)\n",
    "ax.xaxis.set_major_formatter(yearsFmt)\n",
    "ax.xaxis.set_minor_locator(months)\n",
    "\n",
    "datemin = datetime.date(min(x).year, 1, 1)\n",
    "datemax = datetime.date(max(x).year + 1, 1, 1)\n",
    "ax.set_xlim(datemin, datemax)\n",
    "\n",
    "\n",
    "# format the coords message box\n",
    "def price(x):\n",
    "    return '%1.2f' % x\n",
    "ax.format_xdata = mdates.DateFormatter('%Y-%m')\n",
    "ax.format_ydata = price\n",
    "ax.grid(True)\n",
    "\n",
    "# rotates and right aligns the x labels, and moves the bottom of the\n",
    "# axes up to make room for them\n",
    "fig.autofmt_xdate()\n",
    "\n",
    "plt.title(\"Unemployment, 2008-2017\")\n",
    "plt.xlabel(\"Year\")\n",
    "plt.ylabel(\"Unemployment %\")\n",
    "plt.legend(['National',trimCityName(cityName)])\n",
    "plt.show()"
   ]
  },
  {
   "cell_type": "markdown",
   "metadata": {
    "collapsed": true
   },
   "source": [
    "# plot the national and all the fetched cities data"
   ]
  },
  {
   "cell_type": "code",
   "execution_count": 117,
   "metadata": {
    "collapsed": false
   },
   "outputs": [
    {
     "ename": "KeyError",
     "evalue": "'city'",
     "output_type": "error",
     "traceback": [
      "\u001b[0;31m---------------------------------------------------------------------------\u001b[0m",
      "\u001b[0;31mKeyError\u001b[0m                                  Traceback (most recent call last)",
      "\u001b[0;32m<ipython-input-117-a64350ce296f>\u001b[0m in \u001b[0;36m<module>\u001b[0;34m()\u001b[0m\n\u001b[1;32m     16\u001b[0m \u001b[0max\u001b[0m\u001b[0;34m.\u001b[0m\u001b[0mplot\u001b[0m\u001b[0;34m(\u001b[0m\u001b[0mx\u001b[0m\u001b[0;34m,\u001b[0m \u001b[0my\u001b[0m\u001b[0;34m,\u001b[0m \u001b[0mlabel\u001b[0m\u001b[0;34m=\u001b[0m\u001b[0;34m\"National\"\u001b[0m\u001b[0;34m)\u001b[0m\u001b[0;34m\u001b[0m\u001b[0m\n\u001b[1;32m     17\u001b[0m \u001b[0;34m\u001b[0m\u001b[0m\n\u001b[0;32m---> 18\u001b[0;31m \u001b[0;32mfor\u001b[0m \u001b[0mkey\u001b[0m\u001b[0;34m,\u001b[0m \u001b[0mgrp\u001b[0m \u001b[0;32min\u001b[0m \u001b[0mdf\u001b[0m\u001b[0;34m.\u001b[0m\u001b[0mgroupby\u001b[0m\u001b[0;34m(\u001b[0m\u001b[0;34m[\u001b[0m\u001b[0;34m'city'\u001b[0m\u001b[0;34m]\u001b[0m\u001b[0;34m)\u001b[0m\u001b[0;34m:\u001b[0m\u001b[0;34m\u001b[0m\u001b[0m\n\u001b[0m\u001b[1;32m     19\u001b[0m     \u001b[0mprint\u001b[0m\u001b[0;34m(\u001b[0m\u001b[0;34m\"key: {}, grp: {}\"\u001b[0m\u001b[0;34m.\u001b[0m\u001b[0mformat\u001b[0m\u001b[0;34m(\u001b[0m\u001b[0mkey\u001b[0m\u001b[0;34m,\u001b[0m \u001b[0mtype\u001b[0m\u001b[0;34m(\u001b[0m\u001b[0mgrp\u001b[0m\u001b[0;34m)\u001b[0m\u001b[0;34m)\u001b[0m\u001b[0;34m)\u001b[0m\u001b[0;34m\u001b[0m\u001b[0m\n\u001b[1;32m     20\u001b[0m     \u001b[0mx\u001b[0m \u001b[0;34m=\u001b[0m \u001b[0mlist\u001b[0m\u001b[0;34m(\u001b[0m\u001b[0;34m[\u001b[0m\u001b[0mdatetime\u001b[0m\u001b[0;34m.\u001b[0m\u001b[0mdatetime\u001b[0m\u001b[0;34m.\u001b[0m\u001b[0mstrptime\u001b[0m\u001b[0;34m(\u001b[0m\u001b[0md\u001b[0m\u001b[0;34m,\u001b[0m\u001b[0;34m'%Y/%m'\u001b[0m\u001b[0;34m)\u001b[0m\u001b[0;34m.\u001b[0m\u001b[0mdate\u001b[0m\u001b[0;34m(\u001b[0m\u001b[0;34m)\u001b[0m \u001b[0;32mfor\u001b[0m \u001b[0md\u001b[0m \u001b[0;32min\u001b[0m \u001b[0mgrp\u001b[0m\u001b[0;34m.\u001b[0m\u001b[0mdate\u001b[0m\u001b[0;34m.\u001b[0m\u001b[0mvalues\u001b[0m\u001b[0;34m]\u001b[0m\u001b[0;34m)\u001b[0m\u001b[0;34m\u001b[0m\u001b[0m\n",
      "\u001b[0;32m/opt/anaconda/lib/python3.5/site-packages/pandas/core/generic.py\u001b[0m in \u001b[0;36mgroupby\u001b[0;34m(self, by, axis, level, as_index, sort, group_keys, squeeze, **kwargs)\u001b[0m\n\u001b[1;32m   4414\u001b[0m         return groupby(self, by=by, axis=axis, level=level, as_index=as_index,\n\u001b[1;32m   4415\u001b[0m                        \u001b[0msort\u001b[0m\u001b[0;34m=\u001b[0m\u001b[0msort\u001b[0m\u001b[0;34m,\u001b[0m \u001b[0mgroup_keys\u001b[0m\u001b[0;34m=\u001b[0m\u001b[0mgroup_keys\u001b[0m\u001b[0;34m,\u001b[0m \u001b[0msqueeze\u001b[0m\u001b[0;34m=\u001b[0m\u001b[0msqueeze\u001b[0m\u001b[0;34m,\u001b[0m\u001b[0;34m\u001b[0m\u001b[0m\n\u001b[0;32m-> 4416\u001b[0;31m                        **kwargs)\n\u001b[0m\u001b[1;32m   4417\u001b[0m \u001b[0;34m\u001b[0m\u001b[0m\n\u001b[1;32m   4418\u001b[0m     def asfreq(self, freq, method=None, how=None, normalize=False,\n",
      "\u001b[0;32m/opt/anaconda/lib/python3.5/site-packages/pandas/core/groupby.py\u001b[0m in \u001b[0;36mgroupby\u001b[0;34m(obj, by, **kwds)\u001b[0m\n\u001b[1;32m   1697\u001b[0m         \u001b[0;32mraise\u001b[0m \u001b[0mTypeError\u001b[0m\u001b[0;34m(\u001b[0m\u001b[0;34m'invalid type: %s'\u001b[0m \u001b[0;34m%\u001b[0m \u001b[0mtype\u001b[0m\u001b[0;34m(\u001b[0m\u001b[0mobj\u001b[0m\u001b[0;34m)\u001b[0m\u001b[0;34m)\u001b[0m\u001b[0;34m\u001b[0m\u001b[0m\n\u001b[1;32m   1698\u001b[0m \u001b[0;34m\u001b[0m\u001b[0m\n\u001b[0;32m-> 1699\u001b[0;31m     \u001b[0;32mreturn\u001b[0m \u001b[0mklass\u001b[0m\u001b[0;34m(\u001b[0m\u001b[0mobj\u001b[0m\u001b[0;34m,\u001b[0m \u001b[0mby\u001b[0m\u001b[0;34m,\u001b[0m \u001b[0;34m**\u001b[0m\u001b[0mkwds\u001b[0m\u001b[0;34m)\u001b[0m\u001b[0;34m\u001b[0m\u001b[0m\n\u001b[0m\u001b[1;32m   1700\u001b[0m \u001b[0;34m\u001b[0m\u001b[0m\n\u001b[1;32m   1701\u001b[0m \u001b[0;34m\u001b[0m\u001b[0m\n",
      "\u001b[0;32m/opt/anaconda/lib/python3.5/site-packages/pandas/core/groupby.py\u001b[0m in \u001b[0;36m__init__\u001b[0;34m(self, obj, keys, axis, level, grouper, exclusions, selection, as_index, sort, group_keys, squeeze, **kwargs)\u001b[0m\n\u001b[1;32m    390\u001b[0m                                                     \u001b[0mlevel\u001b[0m\u001b[0;34m=\u001b[0m\u001b[0mlevel\u001b[0m\u001b[0;34m,\u001b[0m\u001b[0;34m\u001b[0m\u001b[0m\n\u001b[1;32m    391\u001b[0m                                                     \u001b[0msort\u001b[0m\u001b[0;34m=\u001b[0m\u001b[0msort\u001b[0m\u001b[0;34m,\u001b[0m\u001b[0;34m\u001b[0m\u001b[0m\n\u001b[0;32m--> 392\u001b[0;31m                                                     mutated=self.mutated)\n\u001b[0m\u001b[1;32m    393\u001b[0m \u001b[0;34m\u001b[0m\u001b[0m\n\u001b[1;32m    394\u001b[0m         \u001b[0mself\u001b[0m\u001b[0;34m.\u001b[0m\u001b[0mobj\u001b[0m \u001b[0;34m=\u001b[0m \u001b[0mobj\u001b[0m\u001b[0;34m\u001b[0m\u001b[0m\n",
      "\u001b[0;32m/opt/anaconda/lib/python3.5/site-packages/pandas/core/groupby.py\u001b[0m in \u001b[0;36m_get_grouper\u001b[0;34m(obj, key, axis, level, sort, mutated)\u001b[0m\n\u001b[1;32m   2688\u001b[0m                 \u001b[0min_axis\u001b[0m\u001b[0;34m,\u001b[0m \u001b[0mname\u001b[0m\u001b[0;34m,\u001b[0m \u001b[0mlevel\u001b[0m\u001b[0;34m,\u001b[0m \u001b[0mgpr\u001b[0m \u001b[0;34m=\u001b[0m \u001b[0;32mFalse\u001b[0m\u001b[0;34m,\u001b[0m \u001b[0;32mNone\u001b[0m\u001b[0;34m,\u001b[0m \u001b[0mgpr\u001b[0m\u001b[0;34m,\u001b[0m \u001b[0;32mNone\u001b[0m\u001b[0;34m\u001b[0m\u001b[0m\n\u001b[1;32m   2689\u001b[0m             \u001b[0;32melse\u001b[0m\u001b[0;34m:\u001b[0m\u001b[0;34m\u001b[0m\u001b[0m\n\u001b[0;32m-> 2690\u001b[0;31m                 \u001b[0;32mraise\u001b[0m \u001b[0mKeyError\u001b[0m\u001b[0;34m(\u001b[0m\u001b[0mgpr\u001b[0m\u001b[0;34m)\u001b[0m\u001b[0;34m\u001b[0m\u001b[0m\n\u001b[0m\u001b[1;32m   2691\u001b[0m         \u001b[0;32melif\u001b[0m \u001b[0misinstance\u001b[0m\u001b[0;34m(\u001b[0m\u001b[0mgpr\u001b[0m\u001b[0;34m,\u001b[0m \u001b[0mGrouper\u001b[0m\u001b[0;34m)\u001b[0m \u001b[0;32mand\u001b[0m \u001b[0mgpr\u001b[0m\u001b[0;34m.\u001b[0m\u001b[0mkey\u001b[0m \u001b[0;32mis\u001b[0m \u001b[0;32mnot\u001b[0m \u001b[0;32mNone\u001b[0m\u001b[0;34m:\u001b[0m\u001b[0;34m\u001b[0m\u001b[0m\n\u001b[1;32m   2692\u001b[0m             \u001b[0;31m# Add key to exclusions\u001b[0m\u001b[0;34m\u001b[0m\u001b[0;34m\u001b[0m\u001b[0m\n",
      "\u001b[0;31mKeyError\u001b[0m: 'city'"
     ]
    },
    {
     "data": {
      "image/png": "[encoded data removed]",
      "text/plain": [
       "<matplotlib.figure.Figure at 0x12b0b35f8>"
      ]
     },
     "metadata": {},
     "output_type": "display_data"
    }
   ],
   "source": [
    "import datetime\n",
    "import numpy as np\n",
    "import matplotlib.pyplot as plt\n",
    "import matplotlib.dates as mdates\n",
    "import matplotlib.cbook as cbook\n",
    "\n",
    "years = mdates.YearLocator()   # every year\n",
    "months = mdates.MonthLocator()  # every month\n",
    "yearsFmt = mdates.DateFormatter('%Y')\n",
    "\n",
    "fig, ax = plt.subplots()\n",
    "\n",
    "# national data\n",
    "x = list([datetime.datetime.strptime(d,'%Y/%m').date() for d in df2.date.values])\n",
    "y = list(df2.value.values)\n",
    "ax.plot(x, y, label=\"National\")\n",
    "\n",
    "for key, grp in df.groupby(['city']): \n",
    "    print(\"key: {}, grp: {}\".format(key, type(grp)))\n",
    "    x = list([datetime.datetime.strptime(d,'%Y/%m').date() for d in grp.date.values])\n",
    "    y = list(grp.value.values)\n",
    "    ax.plot(x, y, label=trimCityName(key))\n",
    "    \n",
    "# format the ticks\n",
    "ax.xaxis.set_major_locator(years)\n",
    "ax.xaxis.set_major_formatter(yearsFmt)\n",
    "ax.xaxis.set_minor_locator(months)\n",
    "\n",
    "datemin = datetime.date(min(x).year, 1, 1)\n",
    "datemax = datetime.date(max(x).year + 1, 1, 1)\n",
    "ax.set_xlim(datemin, datemax)\n",
    "\n",
    "\n",
    "# format the coords message box\n",
    "def price(x):\n",
    "    return '%1.2f' % x\n",
    "ax.format_xdata = mdates.DateFormatter('%Y-%m')\n",
    "ax.format_ydata = price\n",
    "ax.grid(True)\n",
    "\n",
    "# rotates and right aligns the x labels, and moves the bottom of the\n",
    "# axes up to make room for them\n",
    "fig.autofmt_xdate()\n",
    "\n",
    "plt.title(\"Unemployment, 2008-2017\")\n",
    "plt.xlabel(\"Year\")\n",
    "plt.ylabel(\"Unemployment %\")\n",
    "plt.legend(loc='upper center', bbox_to_anchor=(1.3, 1.0), ncol=1)\n",
    "plt.show()"
   ]
  },
  {
   "cell_type": "markdown",
   "metadata": {},
   "source": [
    "# plot a lot of things together!"
   ]
  },
  {
   "cell_type": "code",
   "execution_count": 118,
   "metadata": {
    "collapsed": false
   },
   "outputs": [
    {
     "ename": "KeyError",
     "evalue": "'city'",
     "output_type": "error",
     "traceback": [
      "\u001b[0;31m---------------------------------------------------------------------------\u001b[0m",
      "\u001b[0;31mKeyError\u001b[0m                                  Traceback (most recent call last)",
      "\u001b[0;32m<ipython-input-118-b4a7ccd0a587>\u001b[0m in \u001b[0;36m<module>\u001b[0;34m()\u001b[0m\n\u001b[1;32m     11\u001b[0m \u001b[0mcities\u001b[0m \u001b[0;34m=\u001b[0m \u001b[0;34m[\u001b[0m\u001b[0;34m]\u001b[0m\u001b[0;34m\u001b[0m\u001b[0m\n\u001b[1;32m     12\u001b[0m \u001b[0;34m\u001b[0m\u001b[0m\n\u001b[0;32m---> 13\u001b[0;31m \u001b[0;32mfor\u001b[0m \u001b[0mkey\u001b[0m\u001b[0;34m,\u001b[0m \u001b[0mgrp\u001b[0m \u001b[0;32min\u001b[0m \u001b[0mdf\u001b[0m\u001b[0;34m.\u001b[0m\u001b[0mgroupby\u001b[0m\u001b[0;34m(\u001b[0m\u001b[0;34m[\u001b[0m\u001b[0;34m'city'\u001b[0m\u001b[0;34m]\u001b[0m\u001b[0;34m)\u001b[0m\u001b[0;34m:\u001b[0m\u001b[0;34m\u001b[0m\u001b[0m\n\u001b[0m\u001b[1;32m     14\u001b[0m     \u001b[0mearliest\u001b[0m \u001b[0;34m=\u001b[0m \u001b[0mfloat\u001b[0m\u001b[0;34m(\u001b[0m\u001b[0mgrp\u001b[0m\u001b[0;34m.\u001b[0m\u001b[0msort_values\u001b[0m\u001b[0;34m(\u001b[0m\u001b[0;34m[\u001b[0m\u001b[0;34m'date'\u001b[0m\u001b[0;34m]\u001b[0m\u001b[0;34m)\u001b[0m\u001b[0;34m.\u001b[0m\u001b[0mhead\u001b[0m\u001b[0;34m(\u001b[0m\u001b[0;36m1\u001b[0m\u001b[0;34m)\u001b[0m\u001b[0;34m.\u001b[0m\u001b[0mvalue\u001b[0m\u001b[0;34m.\u001b[0m\u001b[0mvalues\u001b[0m\u001b[0;34m[\u001b[0m\u001b[0;36m0\u001b[0m\u001b[0;34m]\u001b[0m\u001b[0;34m)\u001b[0m\u001b[0;34m\u001b[0m\u001b[0m\n\u001b[1;32m     15\u001b[0m     \u001b[0mlatest\u001b[0m   \u001b[0;34m=\u001b[0m \u001b[0mfloat\u001b[0m\u001b[0;34m(\u001b[0m\u001b[0mgrp\u001b[0m\u001b[0;34m.\u001b[0m\u001b[0msort_values\u001b[0m\u001b[0;34m(\u001b[0m\u001b[0;34m[\u001b[0m\u001b[0;34m'date'\u001b[0m\u001b[0;34m]\u001b[0m\u001b[0;34m)\u001b[0m\u001b[0;34m.\u001b[0m\u001b[0mtail\u001b[0m\u001b[0;34m(\u001b[0m\u001b[0;36m1\u001b[0m\u001b[0;34m)\u001b[0m\u001b[0;34m.\u001b[0m\u001b[0mvalue\u001b[0m\u001b[0;34m.\u001b[0m\u001b[0mvalues\u001b[0m\u001b[0;34m[\u001b[0m\u001b[0;36m0\u001b[0m\u001b[0;34m]\u001b[0m\u001b[0;34m)\u001b[0m\u001b[0;34m\u001b[0m\u001b[0m\n",
      "\u001b[0;32m/opt/anaconda/lib/python3.5/site-packages/pandas/core/generic.py\u001b[0m in \u001b[0;36mgroupby\u001b[0;34m(self, by, axis, level, as_index, sort, group_keys, squeeze, **kwargs)\u001b[0m\n\u001b[1;32m   4414\u001b[0m         return groupby(self, by=by, axis=axis, level=level, as_index=as_index,\n\u001b[1;32m   4415\u001b[0m                        \u001b[0msort\u001b[0m\u001b[0;34m=\u001b[0m\u001b[0msort\u001b[0m\u001b[0;34m,\u001b[0m \u001b[0mgroup_keys\u001b[0m\u001b[0;34m=\u001b[0m\u001b[0mgroup_keys\u001b[0m\u001b[0;34m,\u001b[0m \u001b[0msqueeze\u001b[0m\u001b[0;34m=\u001b[0m\u001b[0msqueeze\u001b[0m\u001b[0;34m,\u001b[0m\u001b[0;34m\u001b[0m\u001b[0m\n\u001b[0;32m-> 4416\u001b[0;31m                        **kwargs)\n\u001b[0m\u001b[1;32m   4417\u001b[0m \u001b[0;34m\u001b[0m\u001b[0m\n\u001b[1;32m   4418\u001b[0m     def asfreq(self, freq, method=None, how=None, normalize=False,\n",
      "\u001b[0;32m/opt/anaconda/lib/python3.5/site-packages/pandas/core/groupby.py\u001b[0m in \u001b[0;36mgroupby\u001b[0;34m(obj, by, **kwds)\u001b[0m\n\u001b[1;32m   1697\u001b[0m         \u001b[0;32mraise\u001b[0m \u001b[0mTypeError\u001b[0m\u001b[0;34m(\u001b[0m\u001b[0;34m'invalid type: %s'\u001b[0m \u001b[0;34m%\u001b[0m \u001b[0mtype\u001b[0m\u001b[0;34m(\u001b[0m\u001b[0mobj\u001b[0m\u001b[0;34m)\u001b[0m\u001b[0;34m)\u001b[0m\u001b[0;34m\u001b[0m\u001b[0m\n\u001b[1;32m   1698\u001b[0m \u001b[0;34m\u001b[0m\u001b[0m\n\u001b[0;32m-> 1699\u001b[0;31m     \u001b[0;32mreturn\u001b[0m \u001b[0mklass\u001b[0m\u001b[0;34m(\u001b[0m\u001b[0mobj\u001b[0m\u001b[0;34m,\u001b[0m \u001b[0mby\u001b[0m\u001b[0;34m,\u001b[0m \u001b[0;34m**\u001b[0m\u001b[0mkwds\u001b[0m\u001b[0;34m)\u001b[0m\u001b[0;34m\u001b[0m\u001b[0m\n\u001b[0m\u001b[1;32m   1700\u001b[0m \u001b[0;34m\u001b[0m\u001b[0m\n\u001b[1;32m   1701\u001b[0m \u001b[0;34m\u001b[0m\u001b[0m\n",
      "\u001b[0;32m/opt/anaconda/lib/python3.5/site-packages/pandas/core/groupby.py\u001b[0m in \u001b[0;36m__init__\u001b[0;34m(self, obj, keys, axis, level, grouper, exclusions, selection, as_index, sort, group_keys, squeeze, **kwargs)\u001b[0m\n\u001b[1;32m    390\u001b[0m                                                     \u001b[0mlevel\u001b[0m\u001b[0;34m=\u001b[0m\u001b[0mlevel\u001b[0m\u001b[0;34m,\u001b[0m\u001b[0;34m\u001b[0m\u001b[0m\n\u001b[1;32m    391\u001b[0m                                                     \u001b[0msort\u001b[0m\u001b[0;34m=\u001b[0m\u001b[0msort\u001b[0m\u001b[0;34m,\u001b[0m\u001b[0;34m\u001b[0m\u001b[0m\n\u001b[0;32m--> 392\u001b[0;31m                                                     mutated=self.mutated)\n\u001b[0m\u001b[1;32m    393\u001b[0m \u001b[0;34m\u001b[0m\u001b[0m\n\u001b[1;32m    394\u001b[0m         \u001b[0mself\u001b[0m\u001b[0;34m.\u001b[0m\u001b[0mobj\u001b[0m \u001b[0;34m=\u001b[0m \u001b[0mobj\u001b[0m\u001b[0;34m\u001b[0m\u001b[0m\n",
      "\u001b[0;32m/opt/anaconda/lib/python3.5/site-packages/pandas/core/groupby.py\u001b[0m in \u001b[0;36m_get_grouper\u001b[0;34m(obj, key, axis, level, sort, mutated)\u001b[0m\n\u001b[1;32m   2688\u001b[0m                 \u001b[0min_axis\u001b[0m\u001b[0;34m,\u001b[0m \u001b[0mname\u001b[0m\u001b[0;34m,\u001b[0m \u001b[0mlevel\u001b[0m\u001b[0;34m,\u001b[0m \u001b[0mgpr\u001b[0m \u001b[0;34m=\u001b[0m \u001b[0;32mFalse\u001b[0m\u001b[0;34m,\u001b[0m \u001b[0;32mNone\u001b[0m\u001b[0;34m,\u001b[0m \u001b[0mgpr\u001b[0m\u001b[0;34m,\u001b[0m \u001b[0;32mNone\u001b[0m\u001b[0;34m\u001b[0m\u001b[0m\n\u001b[1;32m   2689\u001b[0m             \u001b[0;32melse\u001b[0m\u001b[0;34m:\u001b[0m\u001b[0;34m\u001b[0m\u001b[0m\n\u001b[0;32m-> 2690\u001b[0;31m                 \u001b[0;32mraise\u001b[0m \u001b[0mKeyError\u001b[0m\u001b[0;34m(\u001b[0m\u001b[0mgpr\u001b[0m\u001b[0;34m)\u001b[0m\u001b[0;34m\u001b[0m\u001b[0m\n\u001b[0m\u001b[1;32m   2691\u001b[0m         \u001b[0;32melif\u001b[0m \u001b[0misinstance\u001b[0m\u001b[0;34m(\u001b[0m\u001b[0mgpr\u001b[0m\u001b[0;34m,\u001b[0m \u001b[0mGrouper\u001b[0m\u001b[0;34m)\u001b[0m \u001b[0;32mand\u001b[0m \u001b[0mgpr\u001b[0m\u001b[0;34m.\u001b[0m\u001b[0mkey\u001b[0m \u001b[0;32mis\u001b[0m \u001b[0;32mnot\u001b[0m \u001b[0;32mNone\u001b[0m\u001b[0;34m:\u001b[0m\u001b[0;34m\u001b[0m\u001b[0m\n\u001b[1;32m   2692\u001b[0m             \u001b[0;31m# Add key to exclusions\u001b[0m\u001b[0;34m\u001b[0m\u001b[0;34m\u001b[0m\u001b[0m\n",
      "\u001b[0;31mKeyError\u001b[0m: 'city'"
     ]
    },
    {
     "data": {
      "image/png": "[encoded data removed]",
      "text/plain": [
       "<matplotlib.figure.Figure at 0x11c9486a0>"
      ]
     },
     "metadata": {},
     "output_type": "display_data"
    }
   ],
   "source": [
    "plt.figure(figsize=(8, 6))\n",
    "axs = []\n",
    "ax0 = plt.subplot2grid((6,5), (0,0), colspan=10, rowspan=4)\n",
    "axs.append(plt.subplot2grid((5,5), (4,0), colspan=1))\n",
    "axs.append(plt.subplot2grid((5,5), (4,1), colspan=1))\n",
    "axs.append(plt.subplot2grid((5,5), (4,2), colspan=1))\n",
    "axs.append(plt.subplot2grid((5,5), (4,3), colspan=1))\n",
    "axs.append(plt.subplot2grid((5,5), (4,4), colspan=1))\n",
    "\n",
    "deltas = []\n",
    "cities = []\n",
    "\n",
    "for key, grp in df.groupby(['city']):\n",
    "    earliest = float(grp.sort_values(['date']).head(1).value.values[0])\n",
    "    latest   = float(grp.sort_values(['date']).tail(1).value.values[0])\n",
    "    delta = latest-earliest\n",
    "    print(\"city: {0:20s} earliest: {1} latest: {2} delta: {3:-5.2f}\".format(trimCityName(key),earliest,latest,delta))\n",
    "    cities.append(trimCityName(key))\n",
    "    deltas.append(delta)\n",
    "\n",
    "ind = np.arange(len(deltas))\n",
    "width = 0.75\n",
    "\n",
    "ax0.plot(ind, [0,0,0,0,0], \"r--\")\n",
    "ax0.bar(ind, deltas, width)\n",
    "\n",
    "ax0.set_ylabel('% Change')\n",
    "ax0.set_title('% Change in Unemployment, 2008-2017')\n",
    "ax0.set_xticks(ind)\n",
    "ax0.set_xticklabels((cities))\n",
    "\n",
    "\n",
    "\n",
    "years = mdates.YearLocator()   # every year\n",
    "months = mdates.MonthLocator()  # every month\n",
    "yearsFmt = mdates.DateFormatter('%Y')\n",
    "\n",
    "# national data\n",
    "nat_x = list([datetime.datetime.strptime(d,'%Y/%m').date() for d in df2.date.values])\n",
    "nat_y = list(df2.value.values)\n",
    "\n",
    "count = -1\n",
    "for key, grp in df.groupby(['city']): \n",
    "    count += 1\n",
    "    #print(\"key: {}, grp: {}\".format(key, type(grp)))\n",
    "    x = list([datetime.datetime.strptime(d,'%Y/%m').date() for d in grp.date.values])\n",
    "    y = list(grp.value.values)\n",
    "    ax = axs[count]\n",
    "    ax.plot(nat_x, nat_y, label='National')\n",
    "    ax.plot(x, y, label=key)\n",
    "    ax.set_ylim(0,12)\n",
    "    for tick in ax.get_xticklabels():\n",
    "        tick.set_rotation(90)\n",
    "    if count >= 0:\n",
    "        xtl = ax.get_xticklabels()\n",
    "        for i in range(1,len(xtl)-2):\n",
    "            tl = xtl[i]\n",
    "            tl.set_visible(False)\n",
    "    if count > 0:\n",
    "        for tl in ax.get_yticklabels():\n",
    "            tl.set_visible(False)\n",
    "    # format the ticks\n",
    "    ax.xaxis.set_major_locator(years)\n",
    "    ax.xaxis.set_major_formatter(yearsFmt)\n",
    "    ax.xaxis.set_minor_locator(months)\n",
    "    # set x-axis min and max\n",
    "    datemin = datetime.date(min(x).year, 1, 1)\n",
    "    datemax = datetime.date(max(x).year, 1, 1)\n",
    "    ax.set_xlim(datemin, datemax)\n",
    "    # set a y-axis label\n",
    "    if count == 0:\n",
    "        ax.set_ylabel(\"Unemployment %\")\n"
   ]
  },
  {
   "cell_type": "code",
   "execution_count": null,
   "metadata": {
    "collapsed": true
   },
   "outputs": [],
   "source": []
  },
  {
   "cell_type": "code",
   "execution_count": null,
   "metadata": {
    "collapsed": true
   },
   "outputs": [],
   "source": []
  },
  {
   "cell_type": "code",
   "execution_count": null,
   "metadata": {
    "collapsed": true
   },
   "outputs": [],
   "source": []
  }
 ],
 "metadata": {
  "kernelspec": {
   "display_name": "Python [Root]",
   "language": "python",
   "name": "Python [Root]"
  },
  "language_info": {
   "codemirror_mode": {
    "name": "ipython",
    "version": 3
   },
   "file_extension": ".py",
   "mimetype": "text/x-python",
   "name": "python",
   "nbconvert_exporter": "python",
   "pygments_lexer": "ipython3",
   "version": "3.5.2"
  }
 },
 "nbformat": 4,
 "nbformat_minor": 2
}
