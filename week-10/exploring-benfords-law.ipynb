{
 "cells": [
  {
   "cell_type": "markdown",
   "metadata": {},
   "source": [
    "An exploration of *Benford's Law*, and an exercise to begin learning *Julia*.\n",
    "\n",
    "The distribution for Benford's Law is:\n",
    "\n",
    "|  d  | P(d) |\n",
    "| --- | ---- |\n",
    "| 1 | 30.1% |\n",
    "| 2 | 17.6% |\n",
    "| 3 | 12.5% |\n",
    "| 4 |  9.7% |\n",
    "| 5 |  7.9% |\n",
    "| 6 |  6.7% |\n",
    "| 7 |  5.8% |\n",
    "| 8 |  5.1% |\n",
    "| 9 |  4.6% |\n",
    "\n",
    "Note, these should perfectly fit the Benford's Law distribution:   \n",
    "- Powers of Two\n",
    "- Fibonacci sequence"
   ]
  },
  {
   "cell_type": "markdown",
   "metadata": {},
   "source": [
    "Exercise:   \n",
    "Take the first one million powers of 2, extract the first digit of each, and accumulate the count in a dictionary.\n",
    "\n",
    "Extra:   \n",
    "Compute the percentages, and plot."
   ]
  },
  {
   "cell_type": "code",
   "execution_count": 1,
   "metadata": {
    "collapsed": false
   },
   "outputs": [
    {
     "data": {
      "text/plain": [
       "9-element Array{Float64,1}:\n",
       " 30.1\n",
       " 17.6\n",
       " 12.5\n",
       "  9.7\n",
       "  7.9\n",
       "  6.7\n",
       "  5.8\n",
       "  5.1\n",
       "  4.6"
      ]
     },
     "execution_count": 1,
     "metadata": {},
     "output_type": "execute_result"
    }
   ],
   "source": [
    "p = [ 30.1, 17.6, 12.5, 9.7, 7.9, 6.7, 5.8, 5.1, 4.6 ]"
   ]
  },
  {
   "cell_type": "code",
   "execution_count": 2,
   "metadata": {
    "collapsed": false
   },
   "outputs": [
    {
     "name": "stdout",
     "output_type": "stream",
     "text": [
      "30.1\n",
      "17.6\n",
      "12.5\n",
      "9.7\n",
      "7.9\n",
      "6.7\n",
      "5.8\n",
      "5.1\n",
      "4.6\n"
     ]
    }
   ],
   "source": [
    "for x in p\n",
    "    println(\"$x\")\n",
    "end"
   ]
  },
  {
   "cell_type": "code",
   "execution_count": null,
   "metadata": {
    "collapsed": true
   },
   "outputs": [],
   "source": []
  },
  {
   "cell_type": "markdown",
   "metadata": {},
   "source": [
    "The relationship of the logarithmic scale (log base 10) and Benford's Law. The distances between each value in a log range (i.e., 1 - 10, 10 - 100) are exactly the values of the distribution in Benford's Law. For example, the distance from 1 to 2 on a log-base-10 scale as a percentage is 30.1% of the total distance from 1 to 10."
   ]
  },
  {
   "cell_type": "markdown",
   "metadata": {},
   "source": [
    "Plotting the powers of 2 on a logarithmic scale, the points are an equal distance apart. \n",
    "\n",
    "Taking random points on a logarithmic scale, \"taking steps along a logarithmic sidewalk,\" the probability of the point being in a `1 range` (i.e, between 1 and 2, 10 and 20, 100 and 200, and so on) or \"stepping\" in a `1 range` is much greater than any other space. See Benford's Law for the probability distribution. "
   ]
  },
  {
   "cell_type": "markdown",
   "metadata": {},
   "source": [
    "Benford's Distribution tends to work for things that grow exponentially, like powers of 2.\n",
    "\n",
    "Populations tend to grow exponentially. In finance, things tend to grow exponentially. \n",
    "\n",
    "Growing by 10 every year is exponential growth.\n",
    "\n",
    "Physical constants .. still a mystery?\n"
   ]
  },
  {
   "cell_type": "code",
   "execution_count": null,
   "metadata": {
    "collapsed": true
   },
   "outputs": [],
   "source": []
  },
  {
   "cell_type": "code",
   "execution_count": null,
   "metadata": {
    "collapsed": true
   },
   "outputs": [],
   "source": []
  },
  {
   "cell_type": "code",
   "execution_count": null,
   "metadata": {
    "collapsed": true
   },
   "outputs": [],
   "source": []
  },
  {
   "cell_type": "markdown",
   "metadata": {},
   "source": [
    "just some Julia hacking.."
   ]
  },
  {
   "cell_type": "code",
   "execution_count": 4,
   "metadata": {
    "collapsed": false
   },
   "outputs": [
    {
     "data": {
      "text/plain": [
       "diagsum (generic function with 1 method)"
      ]
     },
     "execution_count": 4,
     "metadata": {},
     "output_type": "execute_result"
    }
   ],
   "source": [
    "# all matrices with elements that are numbers\n",
    "function diagsum{T<:Number}(A::Array{T, 2})\n",
    "    return sum(diag(A))\n",
    "end"
   ]
  },
  {
   "cell_type": "code",
   "execution_count": 5,
   "metadata": {
    "collapsed": false
   },
   "outputs": [
    {
     "data": {
      "text/plain": [
       "diagsum (generic function with 3 methods)"
      ]
     },
     "execution_count": 5,
     "metadata": {},
     "output_type": "execute_result"
    }
   ],
   "source": [
    "# Vector{T} is an alias for Array{T, 1}\n",
    "diagsum{T<:Number}(v::Vector{T}) = sum(v)\n",
    "diagsum(x::Number) = x"
   ]
  },
  {
   "cell_type": "code",
   "execution_count": 6,
   "metadata": {
    "collapsed": false
   },
   "outputs": [
    {
     "data": {
      "text/html": [
       "3 methods for generic function <b>diagsum</b>:<ul><li> diagsum<i>{T<:Number}</i>(A::<b>Array{T,2}</b>) at In[4]:3</li> <li> diagsum<i>{T<:Number}</i>(v::<b>Array{T,1}</b>) at In[5]:2</li> <li> diagsum(x::<b>Number</b>) at In[5]:3</li> </ul>"
      ],
      "text/plain": [
       "# 3 methods for generic function \"diagsum\":\n",
       "diagsum(A::Array{T,2}) where T<:Number in Main at In[4]:3\n",
       "diagsum(v::Array{T,1}) where T<:Number in Main at In[5]:2\n",
       "diagsum(x::Number) in Main at In[5]:3"
      ]
     },
     "execution_count": 6,
     "metadata": {},
     "output_type": "execute_result"
    }
   ],
   "source": [
    "methods(diagsum)"
   ]
  },
  {
   "cell_type": "code",
   "execution_count": null,
   "metadata": {
    "collapsed": true
   },
   "outputs": [],
   "source": []
  }
 ],
 "metadata": {
  "kernelspec": {
   "display_name": "Julia 0.6.0",
   "language": "julia",
   "name": "julia-0.6"
  },
  "language_info": {
   "file_extension": ".jl",
   "mimetype": "application/julia",
   "name": "julia",
   "version": "0.6.0"
  }
 },
 "nbformat": 4,
 "nbformat_minor": 2
}
