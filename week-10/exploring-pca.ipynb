{
 "cells": [
  {
   "cell_type": "code",
   "execution_count": 13,
   "metadata": {
    "collapsed": true
   },
   "outputs": [],
   "source": [
    "import matplotlib.pyplot as plt\n",
    "import pandas as pd\n",
    "import seaborn as sns\n",
    "import numpy as np\n",
    "import scipy.stats as ss\n",
    "\n",
    "sns.set_style('white')\n",
    "\n",
    "%matplotlib inline"
   ]
  },
  {
   "cell_type": "code",
   "execution_count": 14,
   "metadata": {
    "collapsed": false
   },
   "outputs": [],
   "source": [
    "df = pd.read_csv(\"uk-17d.csv\")"
   ]
  },
  {
   "cell_type": "code",
   "execution_count": 15,
   "metadata": {
    "collapsed": false
   },
   "outputs": [
    {
     "data": {
      "text/html": [
       "<div>\n",
       "<style>\n",
       "    .dataframe thead tr:only-child th {\n",
       "        text-align: right;\n",
       "    }\n",
       "\n",
       "    .dataframe thead th {\n",
       "        text-align: left;\n",
       "    }\n",
       "\n",
       "    .dataframe tbody tr th {\n",
       "        vertical-align: top;\n",
       "    }\n",
       "</style>\n",
       "<table border=\"1\" class=\"dataframe\">\n",
       "  <thead>\n",
       "    <tr style=\"text-align: right;\">\n",
       "      <th></th>\n",
       "      <th>Country</th>\n",
       "      <th>Alcoholic drinks</th>\n",
       "      <th>Beverages</th>\n",
       "      <th>Carcase meat</th>\n",
       "      <th>Cereals</th>\n",
       "      <th>Cheese</th>\n",
       "      <th>Confectionery</th>\n",
       "      <th>Fats and oils</th>\n",
       "      <th>Fish</th>\n",
       "      <th>Fresh fruit</th>\n",
       "      <th>Fresh potatoes</th>\n",
       "      <th>Fresh Veg</th>\n",
       "      <th>Other meat</th>\n",
       "      <th>Other Veg</th>\n",
       "      <th>Processed potatoes</th>\n",
       "      <th>Processed Veg</th>\n",
       "      <th>Soft drinks</th>\n",
       "      <th>Sugars</th>\n",
       "    </tr>\n",
       "  </thead>\n",
       "  <tbody>\n",
       "    <tr>\n",
       "      <th>0</th>\n",
       "      <td>England</td>\n",
       "      <td>375</td>\n",
       "      <td>57</td>\n",
       "      <td>245</td>\n",
       "      <td>1472</td>\n",
       "      <td>105</td>\n",
       "      <td>54</td>\n",
       "      <td>193</td>\n",
       "      <td>147</td>\n",
       "      <td>1102</td>\n",
       "      <td>720</td>\n",
       "      <td>253</td>\n",
       "      <td>685</td>\n",
       "      <td>488</td>\n",
       "      <td>198</td>\n",
       "      <td>360</td>\n",
       "      <td>1374</td>\n",
       "      <td>156</td>\n",
       "    </tr>\n",
       "    <tr>\n",
       "      <th>1</th>\n",
       "      <td>N Ireland</td>\n",
       "      <td>135</td>\n",
       "      <td>47</td>\n",
       "      <td>267</td>\n",
       "      <td>1494</td>\n",
       "      <td>66</td>\n",
       "      <td>41</td>\n",
       "      <td>209</td>\n",
       "      <td>93</td>\n",
       "      <td>674</td>\n",
       "      <td>1033</td>\n",
       "      <td>143</td>\n",
       "      <td>586</td>\n",
       "      <td>355</td>\n",
       "      <td>187</td>\n",
       "      <td>334</td>\n",
       "      <td>1506</td>\n",
       "      <td>139</td>\n",
       "    </tr>\n",
       "    <tr>\n",
       "      <th>2</th>\n",
       "      <td>Scotland</td>\n",
       "      <td>458</td>\n",
       "      <td>53</td>\n",
       "      <td>242</td>\n",
       "      <td>1462</td>\n",
       "      <td>103</td>\n",
       "      <td>62</td>\n",
       "      <td>184</td>\n",
       "      <td>122</td>\n",
       "      <td>957</td>\n",
       "      <td>566</td>\n",
       "      <td>171</td>\n",
       "      <td>750</td>\n",
       "      <td>418</td>\n",
       "      <td>220</td>\n",
       "      <td>337</td>\n",
       "      <td>1572</td>\n",
       "      <td>147</td>\n",
       "    </tr>\n",
       "    <tr>\n",
       "      <th>3</th>\n",
       "      <td>Wales</td>\n",
       "      <td>475</td>\n",
       "      <td>73</td>\n",
       "      <td>227</td>\n",
       "      <td>1582</td>\n",
       "      <td>103</td>\n",
       "      <td>64</td>\n",
       "      <td>235</td>\n",
       "      <td>160</td>\n",
       "      <td>1137</td>\n",
       "      <td>874</td>\n",
       "      <td>265</td>\n",
       "      <td>803</td>\n",
       "      <td>570</td>\n",
       "      <td>203</td>\n",
       "      <td>365</td>\n",
       "      <td>1256</td>\n",
       "      <td>175</td>\n",
       "    </tr>\n",
       "  </tbody>\n",
       "</table>\n",
       "</div>"
      ],
      "text/plain": [
       "     Country  Alcoholic drinks  Beverages  Carcase meat  Cereals  Cheese  \\\n",
       "0    England               375         57           245     1472     105   \n",
       "1  N Ireland               135         47           267     1494      66   \n",
       "2   Scotland               458         53           242     1462     103   \n",
       "3      Wales               475         73           227     1582     103   \n",
       "\n",
       "   Confectionery  Fats and oils  Fish  Fresh fruit  Fresh potatoes  Fresh Veg  \\\n",
       "0             54            193   147         1102             720        253   \n",
       "1             41            209    93          674            1033        143   \n",
       "2             62            184   122          957             566        171   \n",
       "3             64            235   160         1137             874        265   \n",
       "\n",
       "   Other meat  Other Veg  Processed potatoes  Processed Veg  Soft drinks  \\\n",
       "0         685        488                 198            360         1374   \n",
       "1         586        355                 187            334         1506   \n",
       "2         750        418                 220            337         1572   \n",
       "3         803        570                 203            365         1256   \n",
       "\n",
       "   Sugars  \n",
       "0     156  \n",
       "1     139  \n",
       "2     147  \n",
       "3     175  "
      ]
     },
     "execution_count": 15,
     "metadata": {},
     "output_type": "execute_result"
    }
   ],
   "source": [
    "df"
   ]
  },
  {
   "cell_type": "code",
   "execution_count": 16,
   "metadata": {
    "collapsed": false
   },
   "outputs": [],
   "source": [
    "X = df.values[:, 1:18]\n",
    "Y = df.values[:, 0]"
   ]
  },
  {
   "cell_type": "code",
   "execution_count": 17,
   "metadata": {
    "collapsed": false
   },
   "outputs": [
    {
     "data": {
      "text/plain": [
       "array([[375, 57, 245, 1472, 105, 54, 193, 147, 1102, 720, 253, 685, 488,\n",
       "        198, 360, 1374, 156],\n",
       "       [135, 47, 267, 1494, 66, 41, 209, 93, 674, 1033, 143, 586, 355, 187,\n",
       "        334, 1506, 139],\n",
       "       [458, 53, 242, 1462, 103, 62, 184, 122, 957, 566, 171, 750, 418,\n",
       "        220, 337, 1572, 147],\n",
       "       [475, 73, 227, 1582, 103, 64, 235, 160, 1137, 874, 265, 803, 570,\n",
       "        203, 365, 1256, 175]], dtype=object)"
      ]
     },
     "execution_count": 17,
     "metadata": {},
     "output_type": "execute_result"
    }
   ],
   "source": [
    "X"
   ]
  },
  {
   "cell_type": "code",
   "execution_count": 18,
   "metadata": {
    "collapsed": false
   },
   "outputs": [
    {
     "data": {
      "text/plain": [
       "array(['England', 'N Ireland', 'Scotland', 'Wales'], dtype=object)"
      ]
     },
     "execution_count": 18,
     "metadata": {},
     "output_type": "execute_result"
    }
   ],
   "source": [
    "Y"
   ]
  },
  {
   "cell_type": "code",
   "execution_count": 19,
   "metadata": {
    "collapsed": false
   },
   "outputs": [
    {
     "data": {
      "text/html": [
       "<div>\n",
       "<style>\n",
       "    .dataframe thead tr:only-child th {\n",
       "        text-align: right;\n",
       "    }\n",
       "\n",
       "    .dataframe thead th {\n",
       "        text-align: left;\n",
       "    }\n",
       "\n",
       "    .dataframe tbody tr th {\n",
       "        vertical-align: top;\n",
       "    }\n",
       "</style>\n",
       "<table border=\"1\" class=\"dataframe\">\n",
       "  <thead>\n",
       "    <tr style=\"text-align: right;\">\n",
       "      <th></th>\n",
       "      <th>PC1</th>\n",
       "      <th>PC2</th>\n",
       "      <th>Country</th>\n",
       "    </tr>\n",
       "  </thead>\n",
       "  <tbody>\n",
       "    <tr>\n",
       "      <th>0</th>\n",
       "      <td>-144.993152</td>\n",
       "      <td>-2.532999</td>\n",
       "      <td>England</td>\n",
       "    </tr>\n",
       "    <tr>\n",
       "      <th>1</th>\n",
       "      <td>477.391639</td>\n",
       "      <td>-58.901862</td>\n",
       "      <td>N Ireland</td>\n",
       "    </tr>\n",
       "    <tr>\n",
       "      <th>2</th>\n",
       "      <td>-91.869339</td>\n",
       "      <td>286.081786</td>\n",
       "      <td>Scotland</td>\n",
       "    </tr>\n",
       "    <tr>\n",
       "      <th>3</th>\n",
       "      <td>-240.529148</td>\n",
       "      <td>-224.646925</td>\n",
       "      <td>Wales</td>\n",
       "    </tr>\n",
       "  </tbody>\n",
       "</table>\n",
       "</div>"
      ],
      "text/plain": [
       "          PC1         PC2    Country\n",
       "0 -144.993152   -2.532999    England\n",
       "1  477.391639  -58.901862  N Ireland\n",
       "2  -91.869339  286.081786   Scotland\n",
       "3 -240.529148 -224.646925      Wales"
      ]
     },
     "execution_count": 19,
     "metadata": {},
     "output_type": "execute_result"
    }
   ],
   "source": [
    "from sklearn.decomposition import PCA\n",
    "pca = PCA(n_components=2) # set the number of components to 2\n",
    "X_r = pca.fit(X).transform(X)\n",
    "\n",
    "#Make a dataframe with the results\n",
    "df = pd.DataFrame(X_r, columns=['PC1', 'PC2'])\n",
    "df['Country'] = Y\n",
    "df.head()"
   ]
  },
  {
   "cell_type": "code",
   "execution_count": 45,
   "metadata": {
    "collapsed": false
   },
   "outputs": [],
   "source": [
    "x = df.PC1\n",
    "y = np.zeros_like(x)\n",
    "labels = df.Country"
   ]
  },
  {
   "cell_type": "code",
   "execution_count": 46,
   "metadata": {
    "collapsed": false
   },
   "outputs": [
    {
     "data": {
      "image/png": "[encoded data removed]",
      "text/plain": [
       "<matplotlib.figure.Figure at 0x11565d5f8>"
      ]
     },
     "metadata": {},
     "output_type": "display_data"
    }
   ],
   "source": [
    "fig, ax = plt.subplots()\n",
    "ax.scatter(x, y)\n",
    "\n",
    "for i, txt in enumerate(labels):\n",
    "    ax.annotate(txt, (x[i],y[i]))"
   ]
  },
  {
   "cell_type": "code",
   "execution_count": 47,
   "metadata": {
    "collapsed": false
   },
   "outputs": [],
   "source": [
    "x = df.PC1\n",
    "y = df.PC2\n",
    "labels = df.Country"
   ]
  },
  {
   "cell_type": "code",
   "execution_count": 48,
   "metadata": {
    "collapsed": false
   },
   "outputs": [
    {
     "data": {
      "image/png": "[encoded data removed]",
      "text/plain": [
       "<matplotlib.figure.Figure at 0x114d693c8>"
      ]
     },
     "metadata": {},
     "output_type": "display_data"
    }
   ],
   "source": [
    "fig, ax = plt.subplots()\n",
    "ax.scatter(x, y)\n",
    "\n",
    "for i, txt in enumerate(labels):\n",
    "    ax.annotate(txt, (x[i],y[i]))"
   ]
  },
  {
   "cell_type": "code",
   "execution_count": null,
   "metadata": {
    "collapsed": true
   },
   "outputs": [],
   "source": []
  }
 ],
 "metadata": {
  "kernelspec": {
   "display_name": "Python [Root]",
   "language": "python",
   "name": "Python [Root]"
  },
  "language_info": {
   "codemirror_mode": {
    "name": "ipython",
    "version": 3
   },
   "file_extension": ".py",
   "mimetype": "text/x-python",
   "name": "python",
   "nbconvert_exporter": "python",
   "pygments_lexer": "ipython3",
   "version": "3.5.2"
  }
 },
 "nbformat": 4,
 "nbformat_minor": 2
}
