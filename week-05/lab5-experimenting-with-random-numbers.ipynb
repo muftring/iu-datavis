{
 "cells": [
  {
   "cell_type": "code",
   "execution_count": 14,
   "metadata": {
    "collapsed": true
   },
   "outputs": [],
   "source": [
    "import numpy as np\n",
    "import matplotlib.pyplot as plt\n",
    "\n",
    "%matplotlib inline"
   ]
  },
  {
   "cell_type": "markdown",
   "metadata": {},
   "source": [
    "- Take a look at numpy's random number generators:   \n",
    "http://docs.scipy.org/doc/numpy/reference/routines.random.html"
   ]
  },
  {
   "cell_type": "code",
   "execution_count": 3,
   "metadata": {
    "collapsed": false
   },
   "outputs": [
    {
     "data": {
      "text/plain": [
       "0.2458753156410547"
      ]
     },
     "execution_count": 3,
     "metadata": {},
     "output_type": "execute_result"
    }
   ],
   "source": [
    "# one random number\n",
    "np.random.rand()"
   ]
  },
  {
   "cell_type": "code",
   "execution_count": 7,
   "metadata": {
    "collapsed": false
   },
   "outputs": [
    {
     "data": {
      "text/plain": [
       "array([ 0.94020507,  0.79878047,  0.14926316,  0.9757274 ,  0.54537517,\n",
       "        0.63534245,  0.47542577,  0.73376346,  0.47373497,  0.74007543])"
      ]
     },
     "execution_count": 7,
     "metadata": {},
     "output_type": "execute_result"
    }
   ],
   "source": [
    "# 10 random numbers\n",
    "np.random.rand(10)"
   ]
  },
  {
   "cell_type": "code",
   "execution_count": 8,
   "metadata": {
    "collapsed": false
   },
   "outputs": [
    {
     "data": {
      "text/plain": [
       "array([[ 0.27104007,  0.88892543],\n",
       "       [ 0.86683893,  0.98604713]])"
      ]
     },
     "execution_count": 8,
     "metadata": {},
     "output_type": "execute_result"
    }
   ],
   "source": [
    "# 2x2 random numbers\n",
    "np.random.rand(2,2)"
   ]
  },
  {
   "cell_type": "code",
   "execution_count": 9,
   "metadata": {
    "collapsed": false
   },
   "outputs": [
    {
     "data": {
      "text/plain": [
       "array([[[ 0.9013721 ,  0.31047954,  0.05561473],\n",
       "        [ 0.30157342,  0.73424921,  0.48356248],\n",
       "        [ 0.68791759,  0.22947728,  0.48251873]],\n",
       "\n",
       "       [[ 0.85452423,  0.15877751,  0.1251169 ],\n",
       "        [ 0.54326857,  0.4510086 ,  0.47527758],\n",
       "        [ 0.47940935,  0.52807909,  0.32283407]],\n",
       "\n",
       "       [[ 0.78091769,  0.25789243,  0.28707002],\n",
       "        [ 0.38930836,  0.57185415,  0.99174152],\n",
       "        [ 0.66996512,  0.0380079 ,  0.97909747]]])"
      ]
     },
     "execution_count": 9,
     "metadata": {},
     "output_type": "execute_result"
    }
   ],
   "source": [
    "# 3x3x3 random numbers\n",
    "np.random.rand(3,3,3)"
   ]
  },
  {
   "cell_type": "code",
   "execution_count": 10,
   "metadata": {
    "collapsed": false
   },
   "outputs": [
    {
     "data": {
      "text/plain": [
       "6"
      ]
     },
     "execution_count": 10,
     "metadata": {},
     "output_type": "execute_result"
    }
   ],
   "source": [
    "# random integer between 1 and 10 (actually, between 1 and 9)\n",
    "np.random.randint(1, 10)"
   ]
  },
  {
   "cell_type": "code",
   "execution_count": 13,
   "metadata": {
    "collapsed": false
   },
   "outputs": [
    {
     "name": "stdout",
     "output_type": "stream",
     "text": [
      "0\n",
      "6\n",
      "3\n",
      "5\n",
      "1\n",
      "7\n",
      "2\n",
      "5\n",
      "7\n",
      "9\n",
      "9\n",
      "3\n",
      "2\n",
      "7\n"
     ]
    }
   ],
   "source": [
    "N = 14\n",
    "# N random integers between 0 and 9\n",
    "for i in range(N):\n",
    "    print(np.random.randint(0,10))"
   ]
  },
  {
   "cell_type": "markdown",
   "metadata": {},
   "source": [
    "- Matplotlib scatter plot:   \n",
    "http://matplotlib.org/api/pyplot_api.html?highlight=scatter#matplotlib.pyplot.scatter"
   ]
  },
  {
   "cell_type": "code",
   "execution_count": 20,
   "metadata": {
    "collapsed": false
   },
   "outputs": [
    {
     "data": {
      "text/plain": [
       "<matplotlib.collections.PathCollection at 0x109f63278>"
      ]
     },
     "execution_count": 20,
     "metadata": {},
     "output_type": "execute_result"
    },
    {
     "data": {
      "image/png": "[encoded data removed]",
      "text/plain": [
       "<matplotlib.figure.Figure at 0x109f09518>"
      ]
     },
     "metadata": {},
     "output_type": "display_data"
    }
   ],
   "source": [
    "# Matplotlib scatter plot of N random points\n",
    "N = 100\n",
    "datax = np.random.rand(N)\n",
    "datay = np.random.rand(N)\n",
    "plt.scatter(datax, datay)"
   ]
  },
  {
   "cell_type": "markdown",
   "metadata": {},
   "source": [
    "**Small Multiples**"
   ]
  },
  {
   "cell_type": "code",
   "execution_count": 27,
   "metadata": {
    "collapsed": false
   },
   "outputs": [],
   "source": [
    "import IPython\n",
    "def includeWebPage(url):\n",
    "    iframe = '<iframe src=' + url + ' width=800 height=350></iframe>'\n",
    "    IPython.display.HTML(iframe)"
   ]
  },
  {
   "cell_type": "code",
   "execution_count": 30,
   "metadata": {
    "collapsed": false
   },
   "outputs": [
    {
     "data": {
      "text/html": [
       "<iframe src=https://en.wikipedia.org/wiki/Small_multiple width=800 height=350></iframe>"
      ],
      "text/plain": [
       "<IPython.core.display.HTML object>"
      ]
     },
     "execution_count": 30,
     "metadata": {},
     "output_type": "execute_result"
    }
   ],
   "source": [
    "url = 'https://en.wikipedia.org/wiki/Small_multiple'\n",
    "iframe = '<iframe src=' + url + ' width=800 height=350></iframe>'\n",
    "IPython.display.HTML(iframe)"
   ]
  },
  {
   "cell_type": "code",
   "execution_count": 31,
   "metadata": {
    "collapsed": false
   },
   "outputs": [
    {
     "data": {
      "text/html": [
       "<iframe src=http://www.juiceanalytics.com/writing/better-know-visualization-small-multiples width=800 height=350></iframe>"
      ],
      "text/plain": [
       "<IPython.core.display.HTML object>"
      ]
     },
     "execution_count": 31,
     "metadata": {},
     "output_type": "execute_result"
    }
   ],
   "source": [
    "url = 'http://www.juiceanalytics.com/writing/better-know-visualization-small-multiples'\n",
    "iframe = '<iframe src=' + url + ' width=800 height=350></iframe>'\n",
    "IPython.display.HTML(iframe)"
   ]
  },
  {
   "cell_type": "code",
   "execution_count": 41,
   "metadata": {
    "collapsed": false
   },
   "outputs": [
    {
     "data": {
      "text/plain": [
       "[<matplotlib.lines.Line2D at 0x10bc5d5c0>]"
      ]
     },
     "execution_count": 41,
     "metadata": {},
     "output_type": "execute_result"
    },
    {
     "data": {
      "image/png": "[encoded data removed]",
      "text/plain": [
       "<matplotlib.figure.Figure at 0x10b6a2470>"
      ]
     },
     "metadata": {},
     "output_type": "display_data"
    }
   ],
   "source": [
    "# a simple 2x2 subplot of N random values in each\n",
    "N = 20\n",
    "plt.subplot(221)\n",
    "plt.plot(np.random.rand(N))\n",
    "plt.subplot(222)\n",
    "plt.plot(np.random.rand(N))\n",
    "plt.subplot(223)\n",
    "plt.plot(np.random.rand(N))\n",
    "plt.subplot(224)\n",
    "plt.plot(np.random.rand(N))"
   ]
  },
  {
   "cell_type": "code",
   "execution_count": null,
   "metadata": {
    "collapsed": true
   },
   "outputs": [],
   "source": []
  }
 ],
 "metadata": {
  "kernelspec": {
   "display_name": "Python [Root]",
   "language": "python",
   "name": "Python [Root]"
  },
  "language_info": {
   "codemirror_mode": {
    "name": "ipython",
    "version": 3
   },
   "file_extension": ".py",
   "mimetype": "text/x-python",
   "name": "python",
   "nbconvert_exporter": "python",
   "pygments_lexer": "ipython3",
   "version": "3.5.2"
  }
 },
 "nbformat": 4,
 "nbformat_minor": 2
}
