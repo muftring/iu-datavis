{
 "cells": [
  {
   "cell_type": "markdown",
   "metadata": {},
   "source": [
    "# W5 Lab Assignment\n",
    "\n",
    "This lab covers some fundamental plots of 1-D data."
   ]
  },
  {
   "cell_type": "code",
   "execution_count": 1,
   "metadata": {
    "collapsed": false
   },
   "outputs": [],
   "source": [
    "import matplotlib.pyplot as plt\n",
    "import numpy as np\n",
    "import seaborn as sns\n",
    "import pandas as pd\n",
    "\n",
    "sns.set_style('white')\n",
    "\n",
    "%matplotlib inline "
   ]
  },
  {
   "cell_type": "markdown",
   "metadata": {},
   "source": [
    "# Q1 1-D Scatter Plot\n"
   ]
  },
  {
   "cell_type": "markdown",
   "metadata": {
    "collapsed": true
   },
   "source": [
    "## Using fake data\n",
    "\n",
    "Remember that, if you want to play with visualization tools, you can use not only the real data, but also fake data. Actually it is a nice way to experiment because you can control every aspect of data. Let's create some random numbers. \n",
    "\n",
    "The function [**`np.random.randn()`**](http://docs.scipy.org/doc/numpy/reference/generated/numpy.random.randn.html) generates a sample with size $N$ from the [standard normal distribution](https://en.wikipedia.org/wiki/Normal_distribution#Standard_normal_distribution)."
   ]
  },
  {
   "cell_type": "code",
   "execution_count": 2,
   "metadata": {
    "collapsed": false
   },
   "outputs": [
    {
     "name": "stdout",
     "output_type": "stream",
     "text": [
      "[ 0.12738915  0.06500009  0.7787954   0.75772011  0.72549272  0.63124925\n",
      "  0.69827573  0.34623026  0.77362635  0.34825142]\n"
     ]
    }
   ],
   "source": [
    "print( np.random.rand(10) )"
   ]
  },
  {
   "cell_type": "markdown",
   "metadata": {},
   "source": [
    "The following small function generates $N$ normally distributed numbers:"
   ]
  },
  {
   "cell_type": "code",
   "execution_count": 3,
   "metadata": {
    "collapsed": false
   },
   "outputs": [],
   "source": [
    "def generate_many_numbers(N=10, mean=5, sigma=3):\n",
    "    return mean + sigma * np.random.randn(N)"
   ]
  },
  {
   "cell_type": "markdown",
   "metadata": {},
   "source": [
    "Generate 10 normally distributed numbers with mean 5 and sigma 3:"
   ]
  },
  {
   "cell_type": "code",
   "execution_count": 4,
   "metadata": {
    "collapsed": false
   },
   "outputs": [
    {
     "name": "stdout",
     "output_type": "stream",
     "text": [
      "[ 2.32813425  9.91561658 -0.42086625  9.72596572  9.20549078  6.83320719\n",
      "  6.88481242  3.67423335  6.15547543  4.84048702]\n"
     ]
    }
   ],
   "source": [
    "data = generate_many_numbers(N=10)\n",
    "print(data)"
   ]
  },
  {
   "cell_type": "markdown",
   "metadata": {},
   "source": [
    "The most immediate method to visualize 1-D data is just plotting it. Here we can use the [**`scatter()`**](http://matplotlib.org/api/pyplot_api.html#matplotlib.pyplot.scatter) function to draw a scatter plot. The most basic usage of this function is to provide x and y."
   ]
  },
  {
   "cell_type": "code",
   "execution_count": 49,
   "metadata": {
    "collapsed": false
   },
   "outputs": [
    {
     "name": "stdout",
     "output_type": "stream",
     "text": [
      "[ 1  2  3  4  5  6  7  8  9 10]\n",
      "[ 6  7  8  9 10 11 12 13 14 15]\n"
     ]
    }
   ],
   "source": [
    "x = np.arange(1,11)\n",
    "y = x + 5\n",
    "print(x)\n",
    "print(y)\n",
    "plt.scatter(x, y)"
   ]
  },
  {
   "cell_type": "markdown",
   "metadata": {},
   "source": [
    "But here we only have x (the generated data). We can set the y values to 0. The [**`np.zeros_like(data)`**](http://docs.scipy.org/doc/numpy/reference/generated/numpy.zeros_like.html) function creates a numpy array (list) that have the same dimension as the argument."
   ]
  },
  {
   "cell_type": "code",
   "execution_count": 6,
   "metadata": {
    "collapsed": false
   },
   "outputs": [
    {
     "name": "stdout",
     "output_type": "stream",
     "text": [
      "[ 0.  0.  0.  0.  0.  0.  0.  0.  0.  0.]\n"
     ]
    }
   ],
   "source": [
    "print(np.zeros_like(data))"
   ]
  },
  {
   "cell_type": "markdown",
   "metadata": {},
   "source": [
    "Now let's plot the generated 1-D data."
   ]
  },
  {
   "cell_type": "code",
   "execution_count": 50,
   "metadata": {
    "collapsed": false
   },
   "outputs": [],
   "source": [
    "plt.figure(figsize=(10,1)) # set figure size, width = 10, height = 1\n",
    "plt.scatter(data, np.zeros_like(data), s=50) # set size of symbols to 50. Change it and see what happens. \n",
    "plt.gca().axes.get_yaxis().set_visible(False) # set y axis invisible"
   ]
  },
  {
   "cell_type": "markdown",
   "metadata": {},
   "source": [
    "Ok, I think we can see all data points. But what if we have more numbers?"
   ]
  },
  {
   "cell_type": "code",
   "execution_count": 11,
   "metadata": {
    "collapsed": false
   },
   "outputs": [],
   "source": [
    "# TODO: generate 100 numbers and plot them in the same way. \n"
   ]
  },
  {
   "cell_type": "markdown",
   "metadata": {},
   "source": [
    "Of course we can't see much at the center. We can add \"jitters\" using the [**`np.random.rand()`**](http://docs.scipy.org/doc/numpy/reference/generated/numpy.random.rand.html) function.  "
   ]
  },
  {
   "cell_type": "code",
   "execution_count": 12,
   "metadata": {
    "collapsed": false
   },
   "outputs": [],
   "source": [
    "data = generate_many_numbers(N=100)\n",
    "\n",
    "# TODO: create a list of 100 random numbers using np.random.rand()\n",
    "# zittered_ypos = ??\n",
    "\n",
    "plt.figure(figsize=(10,1))\n",
    "plt.scatter(data, zittered_ypos, s=50)\n",
    "plt.gca().axes.get_yaxis().set_visible(False)"
   ]
  },
  {
   "cell_type": "markdown",
   "metadata": {},
   "source": [
    "Let's also make the symbol transparent. Here is [a useful Google query](https://www.google.com/search?client=safari&rls=en&q=matplotlib+scatter+transparent+symbole&ie=UTF-8&oe=UTF-8#q=matplotlib+scatter+transparent+symbol), and the documentation of [**`scatter()`**](http://matplotlib.org/api/pyplot_api.html#matplotlib.pyplot.scatter) also helps."
   ]
  },
  {
   "cell_type": "code",
   "execution_count": 15,
   "metadata": {
    "collapsed": false
   },
   "outputs": [],
   "source": [
    "data = generate_many_numbers(N=200)\n",
    "\n",
    "# From the last question\n",
    "# zittered_ypos = ??\n",
    "\n",
    "# TODO: implement this\n",
    "# plt.figure(figsize=(10,1))\n",
    "# plt.scatter( ?? )\n",
    "# plt.gca().axes.get_yaxis().set_visible(False)"
   ]
  },
  {
   "cell_type": "markdown",
   "metadata": {},
   "source": [
    "We can use transparency as well as empty symbols.\n",
    "\n",
    "* Increase the number of points to 1,000\n",
    "* Set the symbol empty and edgecolor red ([a useful query](https://www.google.com/search?client=safari&rls=en&q=matplotlib+scatter+empty+symbols&ie=UTF-8&oe=UTF-8))"
   ]
  },
  {
   "cell_type": "code",
   "execution_count": 16,
   "metadata": {
    "collapsed": false
   },
   "outputs": [],
   "source": [
    "# TODO: implement this\n",
    "# data = ?? \n",
    "# zittered_ypos = ??\n",
    "\n",
    "\n",
    "# TODO: implement this\n",
    "# plt.figure(figsize=(10,1))\n",
    "# plt.scatter( ?? )\n",
    "# plt.gca().axes.get_yaxis().set_visible(False)"
   ]
  },
  {
   "cell_type": "markdown",
   "metadata": {},
   "source": [
    "## Lots and lots of points"
   ]
  },
  {
   "cell_type": "markdown",
   "metadata": {},
   "source": [
    "Let's use real data. Load the IMDb dataset that we used before."
   ]
  },
  {
   "cell_type": "code",
   "execution_count": 59,
   "metadata": {
    "collapsed": false
   },
   "outputs": [
    {
     "data": {
      "text/html": [
       "<div>\n",
       "<table border=\"1\" class=\"dataframe\">\n",
       "  <thead>\n",
       "    <tr style=\"text-align: right;\">\n",
       "      <th></th>\n",
       "      <th>Title</th>\n",
       "      <th>Year</th>\n",
       "      <th>Rating</th>\n",
       "      <th>Votes</th>\n",
       "    </tr>\n",
       "  </thead>\n",
       "  <tbody>\n",
       "    <tr>\n",
       "      <th>0</th>\n",
       "      <td>!Next?</td>\n",
       "      <td>1994</td>\n",
       "      <td>5.4</td>\n",
       "      <td>5</td>\n",
       "    </tr>\n",
       "    <tr>\n",
       "      <th>1</th>\n",
       "      <td>#1 Single</td>\n",
       "      <td>2006</td>\n",
       "      <td>6.1</td>\n",
       "      <td>61</td>\n",
       "    </tr>\n",
       "    <tr>\n",
       "      <th>2</th>\n",
       "      <td>#7DaysLater</td>\n",
       "      <td>2013</td>\n",
       "      <td>7.1</td>\n",
       "      <td>14</td>\n",
       "    </tr>\n",
       "    <tr>\n",
       "      <th>3</th>\n",
       "      <td>#Bikerlive</td>\n",
       "      <td>2014</td>\n",
       "      <td>6.8</td>\n",
       "      <td>11</td>\n",
       "    </tr>\n",
       "    <tr>\n",
       "      <th>4</th>\n",
       "      <td>#ByMySide</td>\n",
       "      <td>2012</td>\n",
       "      <td>5.5</td>\n",
       "      <td>13</td>\n",
       "    </tr>\n",
       "  </tbody>\n",
       "</table>\n",
       "</div>"
      ],
      "text/plain": [
       "         Title  Year  Rating  Votes\n",
       "0       !Next?  1994     5.4      5\n",
       "1    #1 Single  2006     6.1     61\n",
       "2  #7DaysLater  2013     7.1     14\n",
       "3   #Bikerlive  2014     6.8     11\n",
       "4    #ByMySide  2012     5.5     13"
      ]
     },
     "execution_count": 59,
     "metadata": {},
     "output_type": "execute_result"
    }
   ],
   "source": [
    "movie_df = pd.read_csv('imdb.csv', delimiter='\\t')\n",
    "movie_df.head()"
   ]
  },
  {
   "cell_type": "markdown",
   "metadata": {},
   "source": [
    "Try to plot the 'Rating' information using 1D scatter plot. Does it work?"
   ]
  },
  {
   "cell_type": "code",
   "execution_count": 18,
   "metadata": {
    "collapsed": false
   },
   "outputs": [],
   "source": [
    "# TODO: plot 'rating'\n"
   ]
  },
  {
   "cell_type": "markdown",
   "metadata": {},
   "source": [
    "# Q2 Histogram "
   ]
  },
  {
   "cell_type": "markdown",
   "metadata": {},
   "source": [
    "There are too many data points! Let's try histogram. Actually `pandas` supports plotting through `matplotlib` and you can directly visualize dataframes and series. \n"
   ]
  },
  {
   "cell_type": "code",
   "execution_count": 52,
   "metadata": {
    "collapsed": false
   },
   "outputs": [],
   "source": [
    "movie_df['Rating'].hist()"
   ]
  },
  {
   "cell_type": "markdown",
   "metadata": {},
   "source": [
    "Looks good! Can you increase or decrease the number of bins? Find the documentation [here](https://www.google.com/search?client=safari&rls=en&q=pandas+plotting&ie=UTF-8&oe=UTF-8). "
   ]
  },
  {
   "cell_type": "code",
   "execution_count": 20,
   "metadata": {
    "collapsed": true
   },
   "outputs": [],
   "source": [
    "# TODO: try different number of bins"
   ]
  },
  {
   "cell_type": "markdown",
   "metadata": {},
   "source": [
    "# Q3 Boxplot\n",
    "\n",
    "Now let's try boxplot. We can use pandas' plotting functions. The usages of boxplot is [here](http://pandas.pydata.org/pandas-docs/version/0.15.0/visualization.html#visualization-box)."
   ]
  },
  {
   "cell_type": "code",
   "execution_count": 55,
   "metadata": {
    "collapsed": false
   },
   "outputs": [],
   "source": [
    "movie_df['Rating'].plot(kind='box', vert=False)"
   ]
  },
  {
   "cell_type": "markdown",
   "metadata": {},
   "source": [
    "Or try seaborn's [**`boxplot()`**](http://stanford.edu/~mwaskom/software/seaborn/generated/seaborn.boxplot.html) function:"
   ]
  },
  {
   "cell_type": "code",
   "execution_count": 56,
   "metadata": {
    "collapsed": false
   },
   "outputs": [],
   "source": [
    "sns.boxplot(movie_df['Rating'])"
   ]
  },
  {
   "cell_type": "markdown",
   "metadata": {},
   "source": [
    "We can also easily draw a series of boxplots grouped by categories. For example, let's do the boxplots of movie ratings for different decades."
   ]
  },
  {
   "cell_type": "code",
   "execution_count": 58,
   "metadata": {
    "collapsed": false
   },
   "outputs": [
    {
     "name": "stderr",
     "output_type": "stream",
     "text": [
      "/Users/jingy/anaconda/envs/python35/lib/python3.5/site-packages/ipykernel/__main__.py:1: FutureWarning: sort(columns=....) is deprecated, use sort_values(by=.....)\n",
      "  if __name__ == '__main__':\n"
     ]
    },
    {
     "data": {
      "text/html": [
       "<div>\n",
       "<table border=\"1\" class=\"dataframe\">\n",
       "  <thead>\n",
       "    <tr style=\"text-align: right;\">\n",
       "      <th></th>\n",
       "      <th>Title</th>\n",
       "      <th>Year</th>\n",
       "      <th>Rating</th>\n",
       "      <th>Votes</th>\n",
       "    </tr>\n",
       "  </thead>\n",
       "  <tbody>\n",
       "    <tr>\n",
       "      <th>215207</th>\n",
       "      <td>Passage de Venus</td>\n",
       "      <td>1874</td>\n",
       "      <td>6.5</td>\n",
       "      <td>174</td>\n",
       "    </tr>\n",
       "    <tr>\n",
       "      <th>234798</th>\n",
       "      <td>Sallie Gardner at a Gallop</td>\n",
       "      <td>1878</td>\n",
       "      <td>7.3</td>\n",
       "      <td>452</td>\n",
       "    </tr>\n",
       "    <tr>\n",
       "      <th>186796</th>\n",
       "      <td>Man Walking Around the Corner</td>\n",
       "      <td>1887</td>\n",
       "      <td>5.1</td>\n",
       "      <td>365</td>\n",
       "    </tr>\n",
       "    <tr>\n",
       "      <th>57131</th>\n",
       "      <td>Accordion Player</td>\n",
       "      <td>1888</td>\n",
       "      <td>5.7</td>\n",
       "      <td>433</td>\n",
       "    </tr>\n",
       "    <tr>\n",
       "      <th>232543</th>\n",
       "      <td>Roundhay Garden Scene</td>\n",
       "      <td>1888</td>\n",
       "      <td>7.7</td>\n",
       "      <td>3451</td>\n",
       "    </tr>\n",
       "  </tbody>\n",
       "</table>\n",
       "</div>"
      ],
      "text/plain": [
       "                                Title  Year  Rating  Votes\n",
       "215207               Passage de Venus  1874     6.5    174\n",
       "234798     Sallie Gardner at a Gallop  1878     7.3    452\n",
       "186796  Man Walking Around the Corner  1887     5.1    365\n",
       "57131                Accordion Player  1888     5.7    433\n",
       "232543          Roundhay Garden Scene  1888     7.7   3451"
      ]
     },
     "execution_count": 58,
     "metadata": {},
     "output_type": "execute_result"
    }
   ],
   "source": [
    "df = movie_df.sort('Year')\n",
    "df.head()"
   ]
  },
  {
   "cell_type": "markdown",
   "metadata": {},
   "source": [
    "One easy way to transform a particular year to the decade (e.g., 1874 -> 1870): divide by 10 and multiply it by 10 again. \n",
    "\n",
    "In Python 3, the `//` operator is used for integer division."
   ]
  },
  {
   "cell_type": "code",
   "execution_count": 43,
   "metadata": {
    "collapsed": false
   },
   "outputs": [
    {
     "name": "stdout",
     "output_type": "stream",
     "text": [
      "187\n",
      "1870\n"
     ]
    },
    {
     "data": {
      "text/plain": [
       "215207    1870\n",
       "234798    1870\n",
       "186796    1880\n",
       "57131     1880\n",
       "232543    1880\n",
       "Name: Year, dtype: int64"
      ]
     },
     "execution_count": 43,
     "metadata": {},
     "output_type": "execute_result"
    }
   ],
   "source": [
    "print(1874//10)\n",
    "print(1874//10*10)\n",
    "decade = (df['Year']//10) * 10\n",
    "decade.head()"
   ]
  },
  {
   "cell_type": "code",
   "execution_count": 60,
   "metadata": {
    "collapsed": false
   },
   "outputs": [],
   "source": [
    "ax = sns.boxplot(x=decade, y=df['Rating'])\n",
    "ax.figure.set_size_inches(12, 8)"
   ]
  },
  {
   "cell_type": "markdown",
   "metadata": {},
   "source": [
    "Can you draw boxplots of movie votes for different decade?"
   ]
  },
  {
   "cell_type": "code",
   "execution_count": 45,
   "metadata": {
    "collapsed": false
   },
   "outputs": [],
   "source": [
    "# TODO"
   ]
  },
  {
   "cell_type": "markdown",
   "metadata": {
    "collapsed": true
   },
   "source": [
    "What do you see? Can you actually see the \"box\"? The number of votes span a very wide range, from 1 to more than 1.4 million. One way to deal with this is to make a log-transformation of votes, which can be done with the [**`numpy.log()`**](http://docs.scipy.org/doc/numpy/reference/generated/numpy.log.html) function."
   ]
  },
  {
   "cell_type": "code",
   "execution_count": 46,
   "metadata": {
    "collapsed": false
   },
   "outputs": [
    {
     "data": {
      "text/plain": [
       "215207    5.159055\n",
       "234798    6.113682\n",
       "186796    5.899897\n",
       "57131     6.070738\n",
       "232543    8.146419\n",
       "Name: Votes, dtype: float64"
      ]
     },
     "execution_count": 46,
     "metadata": {},
     "output_type": "execute_result"
    }
   ],
   "source": [
    "log_votes = np.log(df['Votes'])\n",
    "log_votes.head()"
   ]
  },
  {
   "cell_type": "markdown",
   "metadata": {},
   "source": [
    "Can you draw boxplots of log-transformed movie votes for different decade?"
   ]
  },
  {
   "cell_type": "code",
   "execution_count": 47,
   "metadata": {
    "collapsed": true
   },
   "outputs": [],
   "source": [
    "# TODO\n"
   ]
  },
  {
   "cell_type": "code",
   "execution_count": null,
   "metadata": {
    "collapsed": true
   },
   "outputs": [],
   "source": []
  }
 ],
 "metadata": {
  "kernelspec": {
   "display_name": "Python [python35]",
   "language": "python",
   "name": "Python [python35]"
  },
  "language_info": {
   "codemirror_mode": {
    "name": "ipython",
    "version": 3
   },
   "file_extension": ".py",
   "mimetype": "text/x-python",
   "name": "python",
   "nbconvert_exporter": "python",
   "pygments_lexer": "ipython3",
   "version": "3.5.2"
  }
 },
 "nbformat": 4,
 "nbformat_minor": 0
}
