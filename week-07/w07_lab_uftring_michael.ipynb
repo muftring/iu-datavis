{
 "cells": [
  {
   "cell_type": "markdown",
   "metadata": {},
   "source": [
    "# W7 Lab Assignment\n"
   ]
  },
  {
   "cell_type": "code",
   "execution_count": 1,
   "metadata": {
    "collapsed": true
   },
   "outputs": [],
   "source": [
    "import matplotlib.pyplot as plt\n",
    "import pandas as pd\n",
    "import seaborn as sns\n",
    "import numpy as np\n",
    "import random\n",
    "sns.set_style('white')\n",
    "\n",
    "%matplotlib inline"
   ]
  },
  {
   "cell_type": "markdown",
   "metadata": {},
   "source": [
    "# Cumulative histogram and CDF\n",
    "\n",
    "How can we plot a cumulative histogram? "
   ]
  },
  {
   "cell_type": "code",
   "execution_count": 2,
   "metadata": {
    "collapsed": true
   },
   "outputs": [],
   "source": [
    "# Load IMDB data into movie_df using pandas\n",
    "df = pd.read_csv('imdb.csv', delimiter='\\t')"
   ]
  },
  {
   "cell_type": "code",
   "execution_count": 5,
   "metadata": {
    "collapsed": false
   },
   "outputs": [
    {
     "data": {
      "text/plain": [
       "(array([  2.74000000e+02,   8.24000000e+02,   2.22900000e+03,\n",
       "          4.18700000e+03,   8.52700000e+03,   1.36920000e+04,\n",
       "          2.34470000e+04,   3.48990000e+04,   5.54730000e+04,\n",
       "          7.73990000e+04,   1.05035000e+05,   1.46790000e+05,\n",
       "          1.84324000e+05,   2.33260000e+05,   2.62636000e+05,\n",
       "          2.91319000e+05,   3.06381000e+05,   3.12857000e+05,\n",
       "          3.12995000e+05,   3.13011000e+05]),\n",
       " array([ 1.   ,  1.445,  1.89 ,  2.335,  2.78 ,  3.225,  3.67 ,  4.115,\n",
       "         4.56 ,  5.005,  5.45 ,  5.895,  6.34 ,  6.785,  7.23 ,  7.675,\n",
       "         8.12 ,  8.565,  9.01 ,  9.455,  9.9  ]),\n",
       " <a list of 20 Patch objects>)"
      ]
     },
     "execution_count": 5,
     "metadata": {},
     "output_type": "execute_result"
    },
    {
     "data": {
      "image/png": "[encoded data removed]",
      "text/plain": [
       "<matplotlib.figure.Figure at 0x11327b1d0>"
      ]
     },
     "metadata": {},
     "output_type": "display_data"
    }
   ],
   "source": [
    "# draw a cumulative histogram of movie ratings with 20 bins. Hint: use plt.hist()\n",
    "plt.hist(df['Rating'], bins=20, cumulative=True)"
   ]
  },
  {
   "cell_type": "code",
   "execution_count": 6,
   "metadata": {
    "collapsed": false
   },
   "outputs": [
    {
     "data": {
      "text/plain": [
       "(array([  8.75368597e-04,   2.63249534e-03,   7.12115549e-03,\n",
       "          1.33765267e-02,   2.72418541e-02,   4.37428717e-02,\n",
       "          7.49079106e-02,   1.11494484e-01,   1.77223804e-01,\n",
       "          2.47272460e-01,   3.35563287e-01,   4.68961155e-01,\n",
       "          5.88873873e-01,   7.45213427e-01,   8.39063164e-01,\n",
       "          9.30698921e-01,   9.78818636e-01,   9.99508005e-01,\n",
       "          9.99948884e-01,   1.00000000e+00]),\n",
       " array([ 1.   ,  1.445,  1.89 ,  2.335,  2.78 ,  3.225,  3.67 ,  4.115,\n",
       "         4.56 ,  5.005,  5.45 ,  5.895,  6.34 ,  6.785,  7.23 ,  7.675,\n",
       "         8.12 ,  8.565,  9.01 ,  9.455,  9.9  ]),\n",
       " <a list of 20 Patch objects>)"
      ]
     },
     "execution_count": 6,
     "metadata": {},
     "output_type": "execute_result"
    },
    {
     "data": {
      "image/png": "[encoded data removed]",
      "text/plain": [
       "<matplotlib.figure.Figure at 0x1138506a0>"
      ]
     },
     "metadata": {},
     "output_type": "display_data"
    }
   ],
   "source": [
    "# same histogram, but with normalization \n",
    "plt.hist(df['Rating'], bins=20, cumulative=True, normed=True)"
   ]
  },
  {
   "cell_type": "markdown",
   "metadata": {},
   "source": [
    "Does it reach 1.0? Why should it become 1.0 at the right end? Also you can do the plot with pandas. "
   ]
  },
  {
   "cell_type": "code",
   "execution_count": 17,
   "metadata": {
    "collapsed": false
   },
   "outputs": [
    {
     "data": {
      "text/plain": [
       "<matplotlib.axes._subplots.AxesSubplot at 0x117a93080>"
      ]
     },
     "execution_count": 17,
     "metadata": {},
     "output_type": "execute_result"
    },
    {
     "data": {
      "image/png": "[encoded data removed]",
      "text/plain": [
       "<matplotlib.figure.Figure at 0x1179edd68>"
      ]
     },
     "metadata": {},
     "output_type": "display_data"
    }
   ],
   "source": [
    "# same plot, but call directly from dataframe movie_df\n",
    "#pd.DataFrame.hist(df, column='Rating', bins=20, cumulative=True, normed=True)\n",
    "df['Rating'].hist(bins=20, cumulative=True, normed=True)"
   ]
  },
  {
   "cell_type": "markdown",
   "metadata": {},
   "source": [
    "## CDF"
   ]
  },
  {
   "cell_type": "markdown",
   "metadata": {},
   "source": [
    "Let's make it CDF rather than cumulative histogram. You can sort a Series with `order` function. You can use [`np.linspace`](http://docs.scipy.org/doc/numpy/reference/generated/numpy.linspace.html) to generate a list of evenly spaced value. "
   ]
  },
  {
   "cell_type": "code",
   "execution_count": 19,
   "metadata": {
    "collapsed": false
   },
   "outputs": [
    {
     "data": {
      "text/plain": [
       "<matplotlib.text.Text at 0x117c04c18>"
      ]
     },
     "execution_count": 19,
     "metadata": {},
     "output_type": "execute_result"
    },
    {
     "data": {
      "image/png": "[encoded data removed]",
      "text/plain": [
       "<matplotlib.figure.Figure at 0x117b11240>"
      ]
     },
     "metadata": {},
     "output_type": "display_data"
    }
   ],
   "source": [
    "# plot CDF (not cumulative histogram) of movie ratings. \n",
    "ratings = df['Rating'].sort_values().values\n",
    "plt.plot(ratings, np.linspace(0, 1.0, len(ratings)))\n",
    "plt.xlabel(\"Rating\")\n",
    "plt.ylabel(\"Percentile\")"
   ]
  },
  {
   "cell_type": "markdown",
   "metadata": {},
   "source": [
    "The main advantange of CDF is that we can directly observe percentiles from the plot. Given the number of movies we have, can you estimate the following statistics by observing the plot? Compare your estimation to the precise results calculated from movie_df.\n",
    "\n",
    "- The numer of movies with rating <= 7\n",
    "- The median rating of movies\n",
    "- The rating which 90% of movies are under or equal to\n"
   ]
  },
  {
   "cell_type": "code",
   "execution_count": 7,
   "metadata": {
    "collapsed": true
   },
   "outputs": [],
   "source": [
    "#TODO: provide your estimations.\n"
   ]
  },
  {
   "cell_type": "markdown",
   "metadata": {},
   "source": [
    "My estimations:\n",
    "- The numer of movies with rating <= 7 --> **65%**\n",
    "- The median rating of movies --> **6.1**\n",
    "- The rating which 90% of movies are under or equal to --> **7.9**"
   ]
  },
  {
   "cell_type": "code",
   "execution_count": 20,
   "metadata": {
    "collapsed": true
   },
   "outputs": [],
   "source": [
    "# calculate the statistics from movie_df.\n",
    "\n",
    "# (1) The numer of movies with rating <= 7\n",
    "s = df['Rating']\n",
    "countLtEq7 = len(s[s <= 7.0])\n",
    "percentLtEq7 = countLtEq7/len(s)\n",
    "\n",
    "# (2) The median rating of movies\n",
    "medianRating = s.median()\n",
    "\n",
    "# (3) The rating which 90% of movies are under or equal to\n",
    "percentile90 = np.percentile(s, 90)"
   ]
  },
  {
   "cell_type": "code",
   "execution_count": 26,
   "metadata": {
    "collapsed": false
   },
   "outputs": [
    {
     "name": "stdout",
     "output_type": "stream",
     "text": [
      "The numer of movies with rating <= 7 --> 68.3%\n",
      "The median rating of movies --> 6.5\n",
      "The rating which 90% of movies are under or equal to --> 8.0\n"
     ]
    }
   ],
   "source": [
    "print(\"The numer of movies with rating <= 7 --> {0:3.1f}%\".format(percentLtEq7*100.0))\n",
    "print(\"The median rating of movies --> {}\".format(medianRating))\n",
    "print(\"The rating which 90% of movies are under or equal to --> {}\".format(percentile90))"
   ]
  },
  {
   "cell_type": "markdown",
   "metadata": {},
   "source": [
    "# Bootstrap Resampling"
   ]
  },
  {
   "cell_type": "markdown",
   "metadata": {},
   "source": [
    "Let's imagine that we only have a sample of the IMDB data, say 50 movies. How much can we infer about the original data from this small sample? This is a question that we encounter very often in statistical analysis.\n",
    "\n",
    "In such situations, we can seek help from the bootstraping method. This is a family of statistical methods that relies on random sampling with replacement. Different to the traditional methods, it does not assume that our data follows a particular distribution, and so is very flexible to use."
   ]
  },
  {
   "cell_type": "code",
   "execution_count": 27,
   "metadata": {
    "collapsed": true
   },
   "outputs": [],
   "source": [
    "#create a random sample from the movie table.\n",
    "movie_df_sample = df.sample(50)"
   ]
  },
  {
   "cell_type": "code",
   "execution_count": 28,
   "metadata": {
    "collapsed": false
   },
   "outputs": [
    {
     "data": {
      "text/plain": [
       "50"
      ]
     },
     "execution_count": 28,
     "metadata": {},
     "output_type": "execute_result"
    }
   ],
   "source": [
    "len(movie_df_sample)"
   ]
  },
  {
   "cell_type": "markdown",
   "metadata": {},
   "source": [
    "Now we have a sample with size = 50. We can compute, for example, the mean of movie ratings in this sample:"
   ]
  },
  {
   "cell_type": "code",
   "execution_count": 29,
   "metadata": {
    "collapsed": false
   },
   "outputs": [
    {
     "name": "stdout",
     "output_type": "stream",
     "text": [
      "Mean of sample:  6.352\n"
     ]
    }
   ],
   "source": [
    "print('Mean of sample: ', movie_df_sample.Rating.mean())"
   ]
  },
  {
   "cell_type": "markdown",
   "metadata": {},
   "source": [
    "But we only have one statistic. How can we know if this correctly represents the mean of the actual data? We need to compute a confidence interval. This is when we can use bootstrapping."
   ]
  },
  {
   "cell_type": "markdown",
   "metadata": {},
   "source": [
    "First, Let's create a function that does the resampling with replacement. It should create a list of the same length as the sample(50 in this case), in which each element is taken randomly from the sample. In this way, some elements may appear more than once, and some none. Then we calculate the mean value of this list.  "
   ]
  },
  {
   "cell_type": "code",
   "execution_count": 30,
   "metadata": {
    "collapsed": true
   },
   "outputs": [],
   "source": [
    "def bootstrap_resample(rating_list):\n",
    "    resampled_list = np.random.choice(rating_list, len(rating_list), replace=True)\n",
    "    # return the mean of resampled list.\n",
    "    return np.mean(resampled_list)\n"
   ]
  },
  {
   "cell_type": "markdown",
   "metadata": {},
   "source": [
    "We don't usually just do this once: the typical minimal resample number is 1000. We can create a new list to keep this 1000 mean values."
   ]
  },
  {
   "cell_type": "code",
   "execution_count": 35,
   "metadata": {
    "collapsed": true
   },
   "outputs": [],
   "source": [
    "sampled_means = []"
   ]
  },
  {
   "cell_type": "code",
   "execution_count": 36,
   "metadata": {
    "collapsed": true
   },
   "outputs": [],
   "source": [
    "# call the function 1000 times and populate the list with its returned values.\n",
    "for i in range(1000):\n",
    "    sampled_means.append(bootstrap_resample(movie_df_sample.Rating))"
   ]
  },
  {
   "cell_type": "markdown",
   "metadata": {},
   "source": [
    "Now we can compute the confidence interval. Say we want the 90% confidence, then we only need to pick out the .95 and .05 critical values."
   ]
  },
  {
   "cell_type": "code",
   "execution_count": 42,
   "metadata": {
    "collapsed": false
   },
   "outputs": [
    {
     "name": "stdout",
     "output_type": "stream",
     "text": [
      "50.0 950.0\n"
     ]
    }
   ],
   "source": [
    "print(1000*0.05, 1000*0.95)"
   ]
  },
  {
   "cell_type": "markdown",
   "metadata": {},
   "source": [
    "That is, we need to pick the 50th and 950th largest values from the list. We can name it x_a and x_b."
   ]
  },
  {
   "cell_type": "code",
   "execution_count": 46,
   "metadata": {
    "collapsed": false
   },
   "outputs": [],
   "source": [
    "# sort the list by ascending and pick out the 50th and 950th value. \n",
    "x_a = np.sort(sampled_means)[50]\n",
    "x_b = np.sort(sampled_means)[950]"
   ]
  },
  {
   "cell_type": "markdown",
   "metadata": {},
   "source": [
    "The confidence interval will then be: `[x - (x - x_a), x + (x_b - x)]`, which is `[x_a, x_b]`."
   ]
  },
  {
   "cell_type": "code",
   "execution_count": 47,
   "metadata": {
    "collapsed": true
   },
   "outputs": [],
   "source": [
    "# calculate the confidence interval. \n",
    "x = movie_df_sample.Rating.mean()\n",
    "ci = [x - (x - x_a), x + (x_b - x)]"
   ]
  },
  {
   "cell_type": "code",
   "execution_count": 50,
   "metadata": {
    "collapsed": false
   },
   "outputs": [
    {
     "name": "stdout",
     "output_type": "stream",
     "text": [
      "The confidence interval of the sampled means is [6.0039999999999996, 6.6360000000000001]\n"
     ]
    }
   ],
   "source": [
    "print(\"The confidence interval of the sampled means is\", ci)"
   ]
  },
  {
   "cell_type": "code",
   "execution_count": 61,
   "metadata": {
    "collapsed": false
   },
   "outputs": [
    {
     "name": "stdout",
     "output_type": "stream",
     "text": [
      "The mean of the original data is 6.296195341377723\n",
      "This does fall within the confidence interval of the sampled means.\n"
     ]
    }
   ],
   "source": [
    "#Does the mean of the original data fall within this interval? Show your statistics.\n",
    "originalDataMean = df.Rating.mean()\n",
    "print(\"The mean of the original data is\", originalDataMean)\n",
    "if (originalDataMean >= ci[0]) & (originalDataMean <= ci[1]):\n",
    "    print(\"This does fall within the confidence interval of the sampled means.\")\n",
    "else:\n",
    "    print(\"This does not fall within the confidence interval of the sampled means.\")"
   ]
  },
  {
   "cell_type": "code",
   "execution_count": null,
   "metadata": {
    "collapsed": true
   },
   "outputs": [],
   "source": []
  }
 ],
 "metadata": {
  "anaconda-cloud": {},
  "kernelspec": {
   "display_name": "Python [Root]",
   "language": "python",
   "name": "Python [Root]"
  },
  "language_info": {
   "codemirror_mode": {
    "name": "ipython",
    "version": 3
   },
   "file_extension": ".py",
   "mimetype": "text/x-python",
   "name": "python",
   "nbconvert_exporter": "python",
   "pygments_lexer": "ipython3",
   "version": "3.5.2"
  }
 },
 "nbformat": 4,
 "nbformat_minor": 1
}
