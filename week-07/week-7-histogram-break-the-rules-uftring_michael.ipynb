{
 "cells": [
  {
   "cell_type": "markdown",
   "metadata": {},
   "source": [
    "**Michael Uftring**   \n",
    "**I590 - Data Visualization**   \n",
    "**Fall, 2017**   \n",
    "Week 7 - *Break the rules!*   \n",
    "(histogram number of bins selection)"
   ]
  },
  {
   "cell_type": "code",
   "execution_count": 12,
   "metadata": {
    "collapsed": true
   },
   "outputs": [],
   "source": [
    "import matplotlib.pyplot as plt\n",
    "import numpy as np"
   ]
  },
  {
   "cell_type": "code",
   "execution_count": 13,
   "metadata": {
    "collapsed": true
   },
   "outputs": [],
   "source": [
    "%matplotlib inline"
   ]
  },
  {
   "cell_type": "markdown",
   "metadata": {},
   "source": [
    "Generate 100 random floating-point numbers, in the half-open interval [0.0, 1.0)."
   ]
  },
  {
   "cell_type": "code",
   "execution_count": 45,
   "metadata": {
    "collapsed": false
   },
   "outputs": [],
   "source": [
    "data = np.random.random(100)"
   ]
  },
  {
   "cell_type": "markdown",
   "metadata": {},
   "source": [
    "Take a 'peek' and the data (not necessary, but sometimes helpful)."
   ]
  },
  {
   "cell_type": "code",
   "execution_count": 46,
   "metadata": {
    "collapsed": false
   },
   "outputs": [
    {
     "data": {
      "text/plain": [
       "array([ 0.18766492,  0.99514602,  0.30645692,  0.24340625,  0.01224347,\n",
       "        0.20645118,  0.5983151 ,  0.48496484,  0.51131766,  0.42466782,\n",
       "        0.90332605,  0.60788886,  0.19799489,  0.0016852 ,  0.99222544,\n",
       "        0.58076261,  0.65846067,  0.53285973,  0.81932061,  0.79685287,\n",
       "        0.18830488,  0.87907728,  0.642642  ,  0.53901687,  0.10341463,\n",
       "        0.85089105,  0.74846414,  0.87149814,  0.00708434,  0.22814221,\n",
       "        0.74645775,  0.40516729,  0.4966195 ,  0.14318415,  0.60618692,\n",
       "        0.51923531,  0.57921603,  0.89328444,  0.95877393,  0.6544461 ,\n",
       "        0.59146097,  0.58643573,  0.76205266,  0.24345845,  0.63412934,\n",
       "        0.72468166,  0.51181493,  0.74796195,  0.5008506 ,  0.69222438,\n",
       "        0.31749024,  0.26961761,  0.06635874,  0.14845731,  0.24061257,\n",
       "        0.45238755,  0.2456928 ,  0.74723386,  0.67842513,  0.88277443,\n",
       "        0.53770552,  0.90265926,  0.63334855,  0.48452243,  0.61656709,\n",
       "        0.26759835,  0.04762051,  0.11847505,  0.37969045,  0.75859557,\n",
       "        0.21058422,  0.28157826,  0.29322397,  0.15815985,  0.83783844,\n",
       "        0.97118458,  0.53903553,  0.04453979,  0.11194371,  0.87554282,\n",
       "        0.46682043,  0.87114033,  0.8663786 ,  0.42141233,  0.10122935,\n",
       "        0.24458095,  0.22800426,  0.92184078,  0.84475757,  0.71580467,\n",
       "        0.31394317,  0.20453758,  0.57640706,  0.14490754,  0.71169609,\n",
       "        0.95773486,  0.71520607,  0.14829776,  0.37100257,  0.69603596])"
      ]
     },
     "execution_count": 46,
     "metadata": {},
     "output_type": "execute_result"
    }
   ],
   "source": [
    "data"
   ]
  },
  {
   "cell_type": "markdown",
   "metadata": {},
   "source": [
    "From much of the reading (Wikipedia, some StackOverflow articles, and blogs), Freedman-Diaconis is typically noted as the 'best default choice.' It is well suited for normally distributed data and less sensitive to outliers."
   ]
  },
  {
   "cell_type": "code",
   "execution_count": 47,
   "metadata": {
    "collapsed": false
   },
   "outputs": [
    {
     "data": {
      "text/plain": [
       "(array([ 18.,  19.,  21.,  22.,  20.]),\n",
       " array([ 0.0016852 ,  0.20037736,  0.39906952,  0.59776169,  0.79645385,\n",
       "         0.99514602]),\n",
       " <a list of 5 Patch objects>)"
      ]
     },
     "execution_count": 47,
     "metadata": {},
     "output_type": "execute_result"
    },
    {
     "data": {
      "image/png": "[encoded data removed]",
      "text/plain": [
       "<matplotlib.figure.Figure at 0x1127fc6d8>"
      ]
     },
     "metadata": {},
     "output_type": "display_data"
    }
   ],
   "source": [
    "plt.hist(data, bins='fd')"
   ]
  },
  {
   "cell_type": "markdown",
   "metadata": {},
   "source": [
    "With a data set size of 100, Freedman-Diaconis opted for about 5 bins. The resulting histogram generally shows an upward trend in the data until a slight drop in the final bin.\n",
    "\n",
    "Let's take a look at what the histogram of this data looks like with the default 10 bins."
   ]
  },
  {
   "cell_type": "code",
   "execution_count": 49,
   "metadata": {
    "collapsed": false
   },
   "outputs": [
    {
     "data": {
      "text/plain": [
       "(array([  6.,  12.,  14.,   5.,   8.,  13.,  12.,  10.,  12.,   8.]),\n",
       " array([ 0.0016852 ,  0.10103128,  0.20037736,  0.29972344,  0.39906952,\n",
       "         0.49841561,  0.59776169,  0.69710777,  0.79645385,  0.89579993,\n",
       "         0.99514602]),\n",
       " <a list of 10 Patch objects>)"
      ]
     },
     "execution_count": 49,
     "metadata": {},
     "output_type": "execute_result"
    },
    {
     "data": {
      "image/png": "[encoded data removed]",
      "text/plain": [
       "<matplotlib.figure.Figure at 0x112c41198>"
      ]
     },
     "metadata": {},
     "output_type": "display_data"
    }
   ],
   "source": [
    "plt.hist(data)"
   ]
  },
  {
   "cell_type": "markdown",
   "metadata": {},
   "source": [
    "Very different results!\n",
    "\n",
    "Freedman-Diaconis does not show the significant dip in frequency in the approx. 0.3 - 0.4 value range, nor the slight dip in the approx. 0.7 - 0.8 range, and the magnitide of the drop in the final bin is definitely not clearly presented by Freedman-Diaconis."
   ]
  }
 ],
 "metadata": {
  "kernelspec": {
   "display_name": "Python [Root]",
   "language": "python",
   "name": "Python [Root]"
  },
  "language_info": {
   "codemirror_mode": {
    "name": "ipython",
    "version": 3
   },
   "file_extension": ".py",
   "mimetype": "text/x-python",
   "name": "python",
   "nbconvert_exporter": "python",
   "pygments_lexer": "ipython3",
   "version": "3.5.2"
  }
 },
 "nbformat": 4,
 "nbformat_minor": 2
}
