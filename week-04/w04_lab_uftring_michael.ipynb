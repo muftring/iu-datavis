{
 "cells": [
  {
   "cell_type": "code",
   "execution_count": 1,
   "metadata": {
    "collapsed": true
   },
   "outputs": [],
   "source": [
    "from IPython.display import YouTubeVideo"
   ]
  },
  {
   "cell_type": "markdown",
   "metadata": {},
   "source": [
    "# W4 Lab Assignment\n",
    "\n",
    "The aims of today's lab is \n",
    "\n",
    "1. to do a mini-experiment of the Stevens' power-law (of course you can conduct your own psychophysics experiments!)\n",
    "2. to play with matplotlib's colormaps, including the awesome `vidiris`. "
   ]
  },
  {
   "cell_type": "code",
   "execution_count": 2,
   "metadata": {
    "collapsed": false
   },
   "outputs": [
    {
     "data": {
      "image/jpeg": "[encoded data removed]",
      "text/html": [
       "\n",
       "        <iframe\n",
       "            width=\"400\"\n",
       "            height=\"300\"\n",
       "            src=\"https://www.youtube.com/embed/xAoljeRJ3lU\"\n",
       "            frameborder=\"0\"\n",
       "            allowfullscreen\n",
       "        ></iframe>\n",
       "        "
      ],
      "text/plain": [
       "<IPython.lib.display.YouTubeVideo at 0x1040feb00>"
      ]
     },
     "execution_count": 2,
     "metadata": {},
     "output_type": "execute_result"
    }
   ],
   "source": [
    "YouTubeVideo(\"xAoljeRJ3lU\")"
   ]
  },
  {
   "cell_type": "markdown",
   "metadata": {},
   "source": [
    "First, import `numpy` and `matplotlib` libraries (don't forget the `matplotlib inline` magic command). "
   ]
  },
  {
   "cell_type": "code",
   "execution_count": 4,
   "metadata": {
    "collapsed": true
   },
   "outputs": [],
   "source": [
    "import numpy as np\n",
    "import matplotlib.pyplot as plt\n",
    "%matplotlib inline "
   ]
  },
  {
   "cell_type": "markdown",
   "metadata": {},
   "source": [
    "# Stevens’ power-law and your own psychophysics experiment!\n",
    "\n",
    "Let's do the experiment. The procedure is as follows:\n",
    "\n",
    "1. Generate a random number between \\[0.01,0.1\\].\n",
    "1. Create a horizontal bar whose length equals to the random number.\n",
    "1. Compare the \"random bar\" to two other bars with fixed length 0.01 and 0.1. Guess the length of the random bar.\n",
    "1. Store your guess (perceived length) and actual length to two lists respectively.\n",
    "1. Re-generate the random bar so that it has a different length. Repeat the above steps many times.\n",
    "1. Plot the list of perceived length and the list of actual length. In this way we can check whether Steven's power-law holds.\n",
    "\n",
    "First, we use two lists to store perceived and actual length."
   ]
  },
  {
   "cell_type": "code",
   "execution_count": 52,
   "metadata": {
    "collapsed": false
   },
   "outputs": [],
   "source": [
    "import random\n",
    "import time\n",
    "\n",
    "length_perceived = []\n",
    "length_actual = []"
   ]
  },
  {
   "cell_type": "markdown",
   "metadata": {},
   "source": [
    "## Perception of length\n",
    "\n",
    "Let's run the experiment.\n",
    "\n",
    "The [**`random`**](https://docs.python.org/3/library/random.html) module in Python provides various random number generators. In particular, the [**`random.uniform(a,b)`**](https://docs.python.org/3/library/random.html#random.uniform) function returns a float in \\[a,b\\]. \n",
    "\n",
    "We can plot horizontal bars using the [**`pyplot.barh()`**](http://matplotlib.org/api/pyplot_api.html#matplotlib.pyplot.barh) function. The lengths of them are 0.01, (the random number), 0.1. Using this function, produce a bar graph that looks like this, so that the random bar is in the middle:\n",
    "\n",
    "![](stevenspowerlaw_barh.png)"
   ]
  },
  {
   "cell_type": "code",
   "execution_count": 37,
   "metadata": {
    "collapsed": false
   },
   "outputs": [],
   "source": [
    "plt.gca().set_frame_on(True)\n",
    "plt.gca().get_xaxis().set_visible(False)\n",
    "plt.yticks(np.arange(3)+0.25, ('1', '?', '10'))\n",
    "\n",
    "# TODO: generate a random number in [0.01, 0.1) using random.uniform(a,b) function\n",
    "# Your code\n",
    "\n",
    "# Your code \n",
    "# plt.barh(np.arange(3),  ... )\n"
   ]
  },
  {
   "cell_type": "markdown",
   "metadata": {},
   "source": [
    "From the plot above, guess the ratio between the length of the middle and the bottom bar. We can think of this more directly: If the length of the bottom bar is 1 and the top one is 10, what is the length of the middle one?\n",
    "\n",
    "Put your guess (perceived length) in the list `length_perceived`. And the actual length in the list `length_actual`."
   ]
  },
  {
   "cell_type": "code",
   "execution_count": 8,
   "metadata": {
    "collapsed": false
   },
   "outputs": [],
   "source": [
    "# Your code\n"
   ]
  },
  {
   "cell_type": "markdown",
   "metadata": {},
   "source": [
    "## Obtaining and plotting the data\n",
    "\n",
    "Run the above two cells many times, namely: (1) generate a random bar graph, (2) put your guess into `length_perceived` while entering the actuall ratio into `length_actual`\n",
    "\n",
    "Now we can draw the scatter plot by plotting `length_perceived` and `length_actual` in the same figure. The [**`scatter()`**](http://matplotlib.org/api/pyplot_api.html#matplotlib.pyplot.scatter) function will do this. Here is an example of how to use `scatter`:"
   ]
  },
  {
   "cell_type": "code",
   "execution_count": 38,
   "metadata": {
    "collapsed": false
   },
   "outputs": [],
   "source": [
    "plt.scatter([1,5,10], [1,10, 5])"
   ]
  },
  {
   "cell_type": "code",
   "execution_count": null,
   "metadata": {
    "collapsed": false
   },
   "outputs": [],
   "source": [
    "# Your code\n",
    "# plt.scatter(...)\n",
    "\n",
    "# Don't forget to label the axes!\n",
    "plt.title(\"Is Steven's power law true? (Length)\")\n",
    "plt.xlabel(\"Actual\")\n",
    "plt.ylabel(\"Perceived\")"
   ]
  },
  {
   "cell_type": "markdown",
   "metadata": {},
   "source": [
    "After plotting, let's fit the relation between actual and perceived lengths using a polynomial function. We can easily do it using [**`curve_fit(f, x, y)`**](http://docs.scipy.org/doc/scipy/reference/generated/scipy.optimize.curve_fit.html) in Scipy, which is to fit $x$ and $y$ using the function `f`. In our case, $f = a*x^b +c$. For instance, we can check whether this works by creating a fake dataset that follows the exact form:"
   ]
  },
  {
   "cell_type": "code",
   "execution_count": 13,
   "metadata": {
    "collapsed": false,
    "scrolled": true
   },
   "outputs": [
    {
     "name": "stdout",
     "output_type": "stream",
     "text": [
      "1.00 x^2.00 + 0.00\n"
     ]
    }
   ],
   "source": [
    "from scipy.optimize import curve_fit\n",
    "\n",
    "def func(x, a, b, c):\n",
    "    return a * np.power(x, b) + c\n",
    "\n",
    "x = np.arange(20)  # [0,1,2,3, ..., 19]\n",
    "y = np.power(x, 2) # [0,1,4,9, ... ]\n",
    "\n",
    "popt, pcov = curve_fit(func, x, y)\n",
    "print('{:.2f} x^{:.2f} + {:.2f}'.format(*popt))"
   ]
  },
  {
   "cell_type": "markdown",
   "metadata": {},
   "source": [
    "Now you can fit your data. "
   ]
  },
  {
   "cell_type": "code",
   "execution_count": 14,
   "metadata": {
    "collapsed": true
   },
   "outputs": [],
   "source": [
    "# Your code\n",
    "# ... = curve_fit(... )\n"
   ]
  },
  {
   "cell_type": "markdown",
   "metadata": {},
   "source": [
    "## Perception of area\n",
    "\n",
    "Similar to the above experiment, we now represent a random number as a circle, and the area of the circle is equal to the number.\n",
    "\n",
    "First, calculate the radius of a circle from its area and then plot using the **`Circle()`** function. `plt.Circle((0,0), r)` will plot a circle centered at (0,0) with radius `r`."
   ]
  },
  {
   "cell_type": "code",
   "execution_count": 39,
   "metadata": {
    "collapsed": false,
    "scrolled": false
   },
   "outputs": [],
   "source": [
    "# import math\n",
    "\n",
    "radius1 = math.sqrt(0.01/math.pi) # area = pi * r * r\n",
    "radius2 = math.sqrt(0.1/math.pi)\n",
    "\n",
    "plt.axis('equal')\n",
    "plt.axis('off')\n",
    "circ1 = plt.Circle( (0,0),         radius1, clip_on=False )\n",
    "circ2 = plt.Circle( (4*radius2,0), radius2, clip_on=False )\n",
    "plt.gca().add_artist(circ1)\n",
    "plt.gca().add_artist(circ2)\n"
   ]
  },
  {
   "cell_type": "markdown",
   "metadata": {},
   "source": [
    "![](stevenspowerlaw_circle.png)"
   ]
  },
  {
   "cell_type": "markdown",
   "metadata": {},
   "source": [
    "Write the code to run the experiment in a similar way: add a circle with random radius, store perceived/actual values, etc. plot and fit your results in the cell below. (Feel free to create multiple cells below)"
   ]
  },
  {
   "cell_type": "code",
   "execution_count": 8,
   "metadata": {
    "collapsed": false
   },
   "outputs": [],
   "source": [
    "# Your code\n"
   ]
  },
  {
   "cell_type": "markdown",
   "metadata": {},
   "source": [
    "Show the scatter plot and the curve fit. Does it follow Stevens' power-law?"
   ]
  },
  {
   "cell_type": "code",
   "execution_count": 19,
   "metadata": {
    "collapsed": true
   },
   "outputs": [],
   "source": [
    "# Your code"
   ]
  },
  {
   "cell_type": "markdown",
   "metadata": {},
   "source": [
    "\n",
    "\n",
    "# Colormaps\n",
    "\n",
    "To start, let's plot a sine and cosine wave respectively with red and green color."
   ]
  },
  {
   "cell_type": "code",
   "execution_count": 40,
   "metadata": {
    "collapsed": false
   },
   "outputs": [],
   "source": [
    "x = np.linspace(0, 3*np.pi)\n",
    "plt.plot(x, np.sin(x), color='r', lw=3)\n",
    "plt.plot(x, np.sin(x-np.pi), color='g', lw=3)"
   ]
  },
  {
   "cell_type": "markdown",
   "metadata": {},
   "source": [
    "We can also use different color schemes in matplotlib. Here you can find them\n",
    "\n",
    "http://matplotlib.org/users/colormaps.html"
   ]
  },
  {
   "cell_type": "code",
   "execution_count": 41,
   "metadata": {
    "collapsed": false
   },
   "outputs": [],
   "source": [
    "plt.plot(x, np.sin(x), color=plt.cm.Accent(0), lw=3)\n",
    "plt.plot(x, np.sin(x-np.pi), color=plt.cm.Accent(1.0), lw=3)"
   ]
  },
  {
   "cell_type": "code",
   "execution_count": 42,
   "metadata": {
    "collapsed": false
   },
   "outputs": [],
   "source": [
    "num_lines = 5\n",
    "x = np.linspace(0, 4*np.pi)\n",
    "shift = np.linspace(0, np.pi, num_lines)\n",
    "color_idx = np.linspace(0, 1, num_lines)\n",
    "for i in range(len(color_idx)):\n",
    "    plt.plot(x, np.sin(x - shift[i]), color=plt.cm.Accent(color_idx[i]), lw=3)"
   ]
  },
  {
   "cell_type": "markdown",
   "metadata": {
    "collapsed": true
   },
   "source": [
    "Pick two color schemes from ![qualitative colormaps](http://matplotlib.org/_images/colormaps_reference_04.png) and reproduce the above plot."
   ]
  },
  {
   "cell_type": "code",
   "execution_count": 23,
   "metadata": {
    "collapsed": false
   },
   "outputs": [],
   "source": [
    "# Your code\n"
   ]
  },
  {
   "cell_type": "markdown",
   "metadata": {
    "collapsed": true
   },
   "source": [
    "# Seaborn color palettes\n",
    "\n",
    "These are essentially based on matplotlib, but Seaborn makes pre-defined, good-looking palettes that you can use.\n",
    "\n",
    "See: http://seaborn.pydata.org/generated/seaborn.color_palette.html#seaborn.color_palette\n",
    "    http://seaborn.pydata.org/tutorial/color_palettes.html\n"
   ]
  },
  {
   "cell_type": "code",
   "execution_count": 24,
   "metadata": {
    "collapsed": false
   },
   "outputs": [],
   "source": [
    "import seaborn as sns"
   ]
  },
  {
   "cell_type": "markdown",
   "metadata": {},
   "source": [
    "From http://seaborn.pydata.org/examples/timeseries_of_barplots.html"
   ]
  },
  {
   "cell_type": "code",
   "execution_count": 43,
   "metadata": {
    "collapsed": false,
    "scrolled": true
   },
   "outputs": [],
   "source": [
    "sns.set(style=\"white\")\n",
    "\n",
    "# Load the example planets dataset\n",
    "planets = sns.load_dataset(\"planets\")\n",
    "years = np.arange(2000, 2015)\n",
    "\n",
    "#Make a barplot with default color\n",
    "g = sns.factorplot(x=\"year\", data=planets, kind=\"count\", size=4, aspect=1.5, order=years)"
   ]
  },
  {
   "cell_type": "markdown",
   "metadata": {},
   "source": [
    "To specify a palette:"
   ]
  },
  {
   "cell_type": "code",
   "execution_count": 44,
   "metadata": {
    "collapsed": false,
    "scrolled": false
   },
   "outputs": [],
   "source": [
    "g = sns.factorplot(x=\"year\", data=planets, kind=\"count\", size=4, aspect=1.5, order=years, palette=\"muted\")"
   ]
  },
  {
   "cell_type": "markdown",
   "metadata": {},
   "source": [
    "We can also create a palette, and pass it as an argument:"
   ]
  },
  {
   "cell_type": "code",
   "execution_count": 45,
   "metadata": {
    "collapsed": false,
    "scrolled": true
   },
   "outputs": [],
   "source": [
    "p = sns.cubehelix_palette(15)\n",
    "g = sns.factorplot(x=\"year\", data=planets, kind=\"count\", size=4, aspect=1.5, order=years, palette=p)"
   ]
  },
  {
   "cell_type": "markdown",
   "metadata": {},
   "source": [
    "# Colormap and images\n",
    "\n",
    "http://matplotlib.org/users/image_tutorial.html\n",
    "\n",
    "We can also display an image using Colormaps. First read it using the [`imread()`](http://matplotlib.org/api/image_api.html#matplotlib.image.imread) function that returns an `numpy.array()`."
   ]
  },
  {
   "cell_type": "code",
   "execution_count": 28,
   "metadata": {
    "collapsed": false
   },
   "outputs": [],
   "source": [
    "import matplotlib.image as mpimg"
   ]
  },
  {
   "cell_type": "code",
   "execution_count": 29,
   "metadata": {
    "collapsed": false
   },
   "outputs": [],
   "source": [
    "img = mpimg.imread('sneakySnake.png')"
   ]
  },
  {
   "cell_type": "code",
   "execution_count": 46,
   "metadata": {
    "collapsed": false
   },
   "outputs": [],
   "source": [
    "plt.imshow(img)"
   ]
  },
  {
   "cell_type": "markdown",
   "metadata": {},
   "source": [
    "How does `img` store the image? Run the following cells"
   ]
  },
  {
   "cell_type": "code",
   "execution_count": 47,
   "metadata": {
    "collapsed": false
   },
   "outputs": [],
   "source": [
    "img"
   ]
  },
  {
   "cell_type": "code",
   "execution_count": 48,
   "metadata": {
    "collapsed": false
   },
   "outputs": [],
   "source": [
    "np.shape(img)"
   ]
  },
  {
   "cell_type": "markdown",
   "metadata": {},
   "source": [
    "This means that `img` is a three-dimensional array with 219 x 329 x 4 numbers. If you look at the image, you can easily see that 219 and 329 are the dimensions (height and width in terms of the number of pixels) of the image. What is 4? \n",
    "\n",
    "We can actually create our own small image to investigate. Let's create a 3x3 image. "
   ]
  },
  {
   "cell_type": "code",
   "execution_count": 49,
   "metadata": {
    "collapsed": false
   },
   "outputs": [],
   "source": [
    "myimg = np.array([ [[1,0,0,1], [1,1,1,1], [1,1,1,1]], \n",
    "                   [[1,1,1,1], [1,1,1,1], [1,0,0,1]], \n",
    "                   [[1,1,1,1], [1,1,1,1], [1,0,1,0.5]] ])\n",
    "plt.imshow(myimg)"
   ]
  },
  {
   "cell_type": "markdown",
   "metadata": {},
   "source": [
    "Why are they blurred? It should have only 3 pixels across, right? It's because of `interpolation`. By setting it to `nearest` you can get the raw pixel values more clearly. "
   ]
  },
  {
   "cell_type": "code",
   "execution_count": 50,
   "metadata": {
    "collapsed": false
   },
   "outputs": [],
   "source": [
    "plt.imshow(myimg, interpolation=\"nearest\")"
   ]
  },
  {
   "cell_type": "markdown",
   "metadata": {},
   "source": [
    "Play with the values of the matrix, and explain what are each of the four dimensions (this matrix is 3x3x**4**) below. "
   ]
  },
  {
   "cell_type": "markdown",
   "metadata": {},
   "source": [
    "YOUR ANSWER HERE\n"
   ]
  },
  {
   "cell_type": "markdown",
   "metadata": {},
   "source": [
    "## Applying other colormaps\n",
    "\n",
    "Let's assume that the first value of the four dimensions represents some data of your interest. You can obtain `height x width x 1` matrix by doing `img[:,:,0]`, which means give me the all of the first dimension (`:`), all of the second dimension (`:`), but only the first one from the last dimension (`0`). "
   ]
  },
  {
   "cell_type": "code",
   "execution_count": 51,
   "metadata": {
    "collapsed": false
   },
   "outputs": [],
   "source": [
    "plt.pcolormesh(img[:,:,0], cmap=plt.cm.viridis)\n",
    "plt.colorbar()"
   ]
  },
  {
   "cell_type": "markdown",
   "metadata": {},
   "source": [
    "Why is it flipped upside down? Take a look at the previous `imshow` example closely and compare the axes across these two displays. Below, flip the figure upside down to show it properly. This function [`numpy.flipud()`](http://docs.scipy.org/doc/numpy/reference/generated/numpy.flipud.html) should be handy. "
   ]
  },
  {
   "cell_type": "code",
   "execution_count": 36,
   "metadata": {
    "collapsed": false
   },
   "outputs": [],
   "source": [
    "# your code\n"
   ]
  },
  {
   "cell_type": "code",
   "execution_count": null,
   "metadata": {
    "collapsed": true
   },
   "outputs": [],
   "source": []
  }
 ],
 "metadata": {
  "anaconda-cloud": {},
  "celltoolbar": "Raw Cell Format",
  "kernelspec": {
   "display_name": "Python [python35]",
   "language": "python",
   "name": "Python [python35]"
  },
  "language_info": {
   "codemirror_mode": {
    "name": "ipython",
    "version": 3
   },
   "file_extension": ".py",
   "mimetype": "text/x-python",
   "name": "python",
   "nbconvert_exporter": "python",
   "pygments_lexer": "ipython3",
   "version": "3.5.2"
  }
 },
 "nbformat": 4,
 "nbformat_minor": 0
}
