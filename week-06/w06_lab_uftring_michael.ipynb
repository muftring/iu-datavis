{
 "cells": [
  {
   "cell_type": "markdown",
   "metadata": {},
   "source": [
    "# W6 Lab Assignment\n",
    "\n",
    "Deep dive into Histogram and boxplot."
   ]
  },
  {
   "cell_type": "code",
   "execution_count": 2,
   "metadata": {
    "collapsed": true
   },
   "outputs": [],
   "source": [
    "import matplotlib.pyplot as plt\n",
    "import numpy as np\n",
    "import seaborn as sns\n",
    "import pandas as pd\n",
    "\n",
    "sns.set_style('white')\n",
    "\n",
    "%matplotlib inline "
   ]
  },
  {
   "cell_type": "markdown",
   "metadata": {},
   "source": [
    "# Histogram\n"
   ]
  },
  {
   "cell_type": "markdown",
   "metadata": {},
   "source": [
    "Let's revisit the table from the class\n",
    "\n",
    "| Hours | Frequency |\n",
    "|-------|-----------|\n",
    "| 0-1   | 4,300     |\n",
    "| 1-3   | 6,900     |\n",
    "| 3-5   | 4,900     |\n",
    "| 5-10  | 2,000     |\n",
    "| 10-24 | 2,100     |"
   ]
  },
  {
   "cell_type": "markdown",
   "metadata": {},
   "source": [
    "You can draw a histogram by just providing bins and counts instead of a list of numbers. So, let's do that for convenience. "
   ]
  },
  {
   "cell_type": "code",
   "execution_count": 40,
   "metadata": {
    "collapsed": true
   },
   "outputs": [],
   "source": [
    "bins = [0, 1, 3, 5, 10, 24]\n",
    "data = {0.5: 4300, 2: 6900, 4: 4900, 7: 2000, 15: 2100} "
   ]
  },
  {
   "cell_type": "markdown",
   "metadata": {},
   "source": [
    "Draw histogram using this data. Useful query: [Google search: matplotlib histogram pre-counted](https://www.google.com/search?client=safari&rls=en&q=matplotlib+histogram+already+counted&ie=UTF-8&oe=UTF-8#q=matplotlib+histogram+pre-counted)"
   ]
  },
  {
   "cell_type": "code",
   "execution_count": 41,
   "metadata": {
    "collapsed": false
   },
   "outputs": [
    {
     "data": {
      "text/plain": [
       "(array([ 4300.,  6900.,  4900.,  2000.,  2100.]),\n",
       " array([ 0,  1,  3,  5, 10, 24]),\n",
       " <a list of 5 Patch objects>)"
      ]
     },
     "execution_count": 41,
     "metadata": {},
     "output_type": "execute_result"
    },
    {
     "data": {
      "image/png": "[encoded data removed]",
      "text/plain": [
       "<matplotlib.figure.Figure at 0x1150b3908>"
      ]
     },
     "metadata": {},
     "output_type": "display_data"
    }
   ],
   "source": [
    "# TODO: draw a histogram with pre-counted data. \n",
    "plt.xlabel(\"Hours\")\n",
    "plt.hist(x = list(data.keys()), bins=bins, weights=list(data.values()))"
   ]
  },
  {
   "cell_type": "markdown",
   "metadata": {},
   "source": [
    "As you can see, the **default histogram does not normalize with binwidth and simply shows the counts**! This can be very misleading if you are working with variable bin width. One simple way to fix this is using the option [`normed`](http://matplotlib.org/api/pyplot_api.html#matplotlib.pyplot.hist). "
   ]
  },
  {
   "cell_type": "code",
   "execution_count": 42,
   "metadata": {
    "collapsed": false
   },
   "outputs": [
    {
     "data": {
      "text/plain": [
       "(array([ 0.21287129,  0.17079208,  0.12128713,  0.01980198,  0.00742574]),\n",
       " array([ 0,  1,  3,  5, 10, 24]),\n",
       " <a list of 5 Patch objects>)"
      ]
     },
     "execution_count": 42,
     "metadata": {},
     "output_type": "execute_result"
    },
    {
     "data": {
      "image/png": "[encoded data removed]",
      "text/plain": [
       "<matplotlib.figure.Figure at 0x113f103c8>"
      ]
     },
     "metadata": {},
     "output_type": "display_data"
    }
   ],
   "source": [
    "# TODO: fix it with normed option. \n",
    "plt.xlabel(\"Hours\")\n",
    "plt.hist(x = list(data.keys()), bins=bins, weights=list(data.values()), normed=True)"
   ]
  },
  {
   "cell_type": "markdown",
   "metadata": {},
   "source": [
    "## Understanding plt.hist"
   ]
  },
  {
   "cell_type": "markdown",
   "metadata": {},
   "source": [
    "How does matplotlib decide the bin width? Let's try with the IMDb data."
   ]
  },
  {
   "cell_type": "code",
   "execution_count": 43,
   "metadata": {
    "collapsed": true
   },
   "outputs": [],
   "source": [
    "# TODO: Load IMDB data into movie_df using pandas\n",
    "movie_df = pd.read_csv('imdb.csv', delimiter='\\t')"
   ]
  },
  {
   "cell_type": "markdown",
   "metadata": {},
   "source": [
    "Plot the histogram of movie ratings using the `plt.hist()` function."
   ]
  },
  {
   "cell_type": "code",
   "execution_count": 44,
   "metadata": {
    "collapsed": false
   },
   "outputs": [
    {
     "data": {
      "text/plain": [
       "(array([   824.,   3363.,   9505.,  21207.,  42500.,  69391.,  86470.,\n",
       "         58059.,  21538.,    154.]),\n",
       " array([ 1.  ,  1.89,  2.78,  3.67,  4.56,  5.45,  6.34,  7.23,  8.12,\n",
       "         9.01,  9.9 ]),\n",
       " <a list of 10 Patch objects>)"
      ]
     },
     "execution_count": 44,
     "metadata": {},
     "output_type": "execute_result"
    },
    {
     "data": {
      "image/png": "[encoded data removed]",
      "text/plain": [
       "<matplotlib.figure.Figure at 0x117fcf6a0>"
      ]
     },
     "metadata": {},
     "output_type": "display_data"
    }
   ],
   "source": [
    "plt.hist(movie_df['Rating'])\n"
   ]
  },
  {
   "cell_type": "markdown",
   "metadata": {},
   "source": [
    "Have you noticed that this function returns three objects? Take a look at the documentation [here](http://matplotlib.org/api/pyplot_api.html#matplotlib.pyplot.hist) to figure out what they are.\n",
    "\n",
    "To get the returned three objects:"
   ]
  },
  {
   "cell_type": "code",
   "execution_count": 45,
   "metadata": {
    "collapsed": false
   },
   "outputs": [
    {
     "name": "stdout",
     "output_type": "stream",
     "text": [
      "[   824.   3363.   9505.  21207.  42500.  69391.  86470.  58059.  21538.\n",
      "    154.]\n",
      "[ 1.    1.89  2.78  3.67  4.56  5.45  6.34  7.23  8.12  9.01  9.9 ]\n"
     ]
    },
    {
     "data": {
      "image/png": "[encoded data removed]",
      "text/plain": [
       "<matplotlib.figure.Figure at 0x1146b5908>"
      ]
     },
     "metadata": {},
     "output_type": "display_data"
    }
   ],
   "source": [
    "n_raw, bins_raw, patches = plt.hist(movie_df['Rating'])\n",
    "print(n_raw)\n",
    "print(bins_raw)"
   ]
  },
  {
   "cell_type": "markdown",
   "metadata": {},
   "source": [
    "Actually, `n_raw` contains the values of histograms, i.e., the number of movies in each of the 10 bins. Thus, the sum of the elements in `n_raw` should be equal to the total number of movies:"
   ]
  },
  {
   "cell_type": "code",
   "execution_count": 46,
   "metadata": {
    "collapsed": false
   },
   "outputs": [
    {
     "name": "stdout",
     "output_type": "stream",
     "text": [
      "Both contain the same number: 313011\n"
     ]
    }
   ],
   "source": [
    "# TODO: test whether the sum of the numbers in n_raw is equal to the number of movies. \n",
    "dfSize = int(len(movie_df))\n",
    "hgSize = int(sum(n_raw))\n",
    "if dfSize == hgSize:\n",
    "    print(\"Both contain the same number: {}\".format(dfSize))\n",
    "else:\n",
    "    print(\"The DataFrame has {} and the Histogram has {}\".format(dfSize, hgSize))"
   ]
  },
  {
   "cell_type": "markdown",
   "metadata": {},
   "source": [
    "The second returned object (`bins_raw`) is a list containing the edges of the 10 bins: the first bin is \\[1.0,1.89\\], the second \\[1.89,2.78\\], and so on.\n",
    "\n",
    "Noticed that the width of each bin is the same? This is equal-width binning. We can calculate the width as:"
   ]
  },
  {
   "cell_type": "code",
   "execution_count": 47,
   "metadata": {
    "collapsed": false
   },
   "outputs": [
    {
     "name": "stdout",
     "output_type": "stream",
     "text": [
      "1.0 9.9\n",
      "0.89\n"
     ]
    }
   ],
   "source": [
    "min_rating = min(movie_df['Rating'])\n",
    "max_rating = max(movie_df['Rating'])\n",
    "print(min_rating, max_rating)\n",
    "print( (max_rating-min_rating) / 10 )"
   ]
  },
  {
   "cell_type": "markdown",
   "metadata": {},
   "source": [
    "Now, let's plot the histogram where the y axis is normed."
   ]
  },
  {
   "cell_type": "code",
   "execution_count": 48,
   "metadata": {
    "collapsed": false
   },
   "outputs": [
    {
     "name": "stdout",
     "output_type": "stream",
     "text": [
      "[ 0.00295786  0.01207195  0.03411949  0.07612541  0.15255952  0.24908842\n",
      "  0.31039581  0.20841067  0.07731358  0.0005528 ]\n",
      "[ 1.    1.89  2.78  3.67  4.56  5.45  6.34  7.23  8.12  9.01  9.9 ]\n"
     ]
    },
    {
     "data": {
      "image/png": "[encoded data removed]",
      "text/plain": [
       "<matplotlib.figure.Figure at 0x113f10a58>"
      ]
     },
     "metadata": {},
     "output_type": "display_data"
    }
   ],
   "source": [
    "n, bins, patches = plt.hist(movie_df['Rating'], normed=True)\n",
    "print(n)\n",
    "print(bins)"
   ]
  },
  {
   "cell_type": "markdown",
   "metadata": {},
   "source": [
    "In this case, the edges of the 10 bins do not change. But now `n` represents the heights of the bins. In other words, the sum of the area of each bar will equal to 1. Can you verify this?\n",
    "\n",
    "Hint: the area of each bar is calculated as height * bin width. Because of the way computers store float numbers, you'll probably get something like 0.99999999999999978 instead of 1."
   ]
  },
  {
   "cell_type": "code",
   "execution_count": 54,
   "metadata": {
    "collapsed": false
   },
   "outputs": [
    {
     "name": "stdout",
     "output_type": "stream",
     "text": [
      "The sum of the area of all histogram bars is 0.9999999999999998\n"
     ]
    }
   ],
   "source": [
    "# TODO: verify that the sum of areas equals to 1.\n",
    "\n",
    "# (1) calculate bin width (as shown above)\n",
    "min_rating = min(movie_df['Rating'])\n",
    "max_rating = max(movie_df['Rating'])\n",
    "width = (max_rating-min_rating) / (len(bins) - 1)\n",
    "\n",
    "# (2) now compute the area\n",
    "area = sum([ x*width for x in n])\n",
    "print(\"The sum of the area of all histogram bars is {}\".format(area))"
   ]
  },
  {
   "cell_type": "markdown",
   "metadata": {},
   "source": [
    "## Selecting binsize"
   ]
  },
  {
   "cell_type": "markdown",
   "metadata": {},
   "source": [
    "A nice to way to explore this is using the \"[small multiples](https://www.google.com/search?client=safari&rls=en&q=small+multiples&ie=UTF-8&oe=UTF-8)\" with a set of sample bin sizes. In other words, pick some binsizes that you want to see and draw many plots within a single \"figure\". Read about [subplot](https://www.google.com/search?client=safari&rls=en&q=matplotlib+subplot&ie=UTF-8&oe=UTF-8). For instance, you can do something like:"
   ]
  },
  {
   "cell_type": "code",
   "execution_count": 56,
   "metadata": {
    "collapsed": false
   },
   "outputs": [
    {
     "data": {
      "text/plain": [
       "<matplotlib.axes._subplots.AxesSubplot at 0x117dc59b0>"
      ]
     },
     "execution_count": 56,
     "metadata": {},
     "output_type": "execute_result"
    },
    {
     "data": {
      "image/png": "[encoded data removed]",
      "text/plain": [
       "<matplotlib.figure.Figure at 0x115317b70>"
      ]
     },
     "metadata": {},
     "output_type": "display_data"
    }
   ],
   "source": [
    "plt.figure(figsize=(10,5))\n",
    "plt.subplot(1,2,1)\n",
    "movie_df['Rating'].hist(bins=3)\n",
    "plt.subplot(1,2,2)\n",
    "movie_df['Rating'].hist(bins=100)"
   ]
  },
  {
   "cell_type": "markdown",
   "metadata": {},
   "source": [
    "What does the argument in `plt.subplot(1,2,1)` mean?  \n",
    "http://stackoverflow.com/questions/3584805/in-matplotlib-what-does-the-argument-mean-in-fig-add-subplot111\n",
    "\n",
    "So we can create 8 subplots (2 rows and 4 columns) with the given `binsizes`. "
   ]
  },
  {
   "cell_type": "code",
   "execution_count": 60,
   "metadata": {
    "collapsed": false
   },
   "outputs": [
    {
     "data": {
      "image/png": "[encoded data removed]",
      "text/plain": [
       "<matplotlib.figure.Figure at 0x116074860>"
      ]
     },
     "metadata": {},
     "output_type": "display_data"
    }
   ],
   "source": [
    "binsizes = [2, 3, 5, 10, 30, 40, 60, 100 ]\n",
    "\n",
    "plt.figure(1, figsize=(18,8))\n",
    "for i, bins in enumerate(binsizes):\n",
    "    # TODO: use subplot and hist() function to draw 8 plots\n",
    "    plt.subplot(2, 4, i+1)\n",
    "    movie_df['Rating'].hist(bins=bins)"
   ]
  },
  {
   "cell_type": "markdown",
   "metadata": {},
   "source": [
    "Do you notice weird patterns that emerge from `bins=40`? Can you guess why do you see such patterns? What are the peaks and what are the empty bars? What do they tell you about choosing the binsize in histograms?"
   ]
  },
  {
   "cell_type": "code",
   "execution_count": null,
   "metadata": {
    "collapsed": true
   },
   "outputs": [],
   "source": [
    "# TODO: Provide your explanation and evidence here"
   ]
  },
  {
   "cell_type": "markdown",
   "metadata": {},
   "source": [
    "I explored these weird patterns of the histograms on the IMDB Rating data in Lab 5. In the cell below this one are my analysis and comments from that submission.\n",
    "\n",
    "Note, I used the following code to explore the data. This will produce a tabular representation of the Rating value (from 0.0 to 9.9, by 0.1), a count of how many movies have that rating, and an accumulation of the count. The full print of this table is omitted. \n",
    "\n",
    "`\n",
    "ratings = movie_df['Rating']\n",
    "print(\"{}\\t{}\\t{}\".format(\"value\", \"count\", \"accum\"))\n",
    "accum = 0\n",
    "for i in range(10):\n",
    "    for j in range(10):\n",
    "        value = i + j/10\n",
    "        count = len(ratings[ratings == value])\n",
    "        accum += count\n",
    "        print(\"{}\\t{}\\t{}\".format(value, count, accum))\n",
    "`\n",
    "\n",
    "What this tells us about choosing bin size: (1) know your data and value patterns, or explore and analyze them so that you know; (2) bin size is sensitive to the data values, and can unknowingly show \"weird\" patterns; (3) be sure to visually inspect many histogram plots with different bin sizes and choose that which shows the distribution with desired granularity best."
   ]
  },
  {
   "cell_type": "markdown",
   "metadata": {},
   "source": [
    "**Comments on: plotting histogram of IMDB Rating data**\n",
    "\n",
    "With bins=10 (the default value), we can see what is probably the expected distribution of Ratings; few in the lower end of the range (less than 4) and upper end of the range (greater than 8), and most in the middle (between 4 and 8).\n",
    "\n",
    "with bins=5 the perspective really becomes general, and vague. \n",
    "\n",
    "With bins=20 the perspective improves with the greater granularity, but the histogram shows an unusual/unexpected dip between 6 and 7.\n",
    "\n",
    "With bins=40 we see some strange spiking at approximately the whole number values: 3.0, 4.0, and so on up to 8.0.\n",
    "\n",
    "With bins=100 there appear to be gaps at uniform distance, and not really at discernable values. \n",
    "\n",
    "Wondering what's going on with the numbers, I decided to count and accumulate the Rating values across the value spectrum: 0.0 - 9.9. Some interesting observations:\n",
    "\n",
    "- there are spikes at the whole number values\n",
    "- the values seem to see-saw across the tenth of a point boundaries (below, the values from 5.0 to 5.9)\n",
    "\n",
    "`\n",
    "value\tcount\taccum\n",
    "5.0\t\t5135\t55473   \n",
    "5.1\t\t4417\t59890   \n",
    "5.2\t\t6150\t66040   \n",
    "5.3\t\t5201\t71241   \n",
    "5.4\t\t6158\t77399\n",
    "5.5\t\t5962\t83361\n",
    "5.6\t\t7001\t90362\n",
    "5.7\t\t6514\t96876\n",
    "5.8\t\t8159\t105035\n",
    "5.9\t\t6918\t111953\n",
    "`"
   ]
  },
  {
   "cell_type": "markdown",
   "metadata": {},
   "source": [
    "Now, let's try to apply several algorithms from class for finding the number of bins (called `nbins`). \n",
    "\n",
    "* Freedman-Diaconis: $\\text{width} = 2 \\frac{\\text{IQR}}{N^{1/3}}$;\n",
    "* Sqrt root: $\\text{nbins} = \\sqrt{N}$;\n",
    "* Sturge's formula: $\\text{nbins} = \\lceil \\log_2 N + 1 \\rceil$\n",
    "\n",
    "Here, IQR is the [interquartile range](https://en.wikipedia.org/wiki/Interquartile_range) of our data (movie ratings). $N$ is the number of movies. $\\lceil \\cdot \\rceil$ is the [ceiling function](https://en.wikipedia.org/wiki/Floor_and_ceiling_functions), and we can use [`np.ceil()`](https://docs.scipy.org/doc/numpy-1.13.0/reference/generated/numpy.ceil.html) function to calculate it."
   ]
  },
  {
   "cell_type": "code",
   "execution_count": 68,
   "metadata": {
    "collapsed": false
   },
   "outputs": [
    {
     "data": {
      "text/plain": [
       "<matplotlib.axes._subplots.AxesSubplot at 0x11cd72fd0>"
      ]
     },
     "execution_count": 68,
     "metadata": {},
     "output_type": "execute_result"
    },
    {
     "data": {
      "image/png": "[encoded data removed]",
      "text/plain": [
       "<matplotlib.figure.Figure at 0x11b36cbe0>"
      ]
     },
     "metadata": {},
     "output_type": "display_data"
    }
   ],
   "source": [
    "N = len(movie_df['Rating'])\n",
    "\n",
    "# TODO: plot three histograms based on three formulae. One of them is provided as an example. \n",
    "\n",
    "plt.figure(figsize=(12,4))\n",
    "\n",
    "# Freedman-Diaconis\n",
    "data = movie_df['Rating'].sort_values()\n",
    "iqr = np.percentile(data, 75) - np.percentile(data, 25)\n",
    "width = 2*iqr/np.power(N, 1/3)\n",
    "nbins = int((max(data) - min(data)) / width)\n",
    "\n",
    "plt.subplot(1,3,1)\n",
    "plt.title(\"F-D, {} bins\".format(nbins))\n",
    "movie_df['Rating'].hist(bins=nbins)\n",
    "\n",
    "# Sqrt root\n",
    "nbins = int(np.sqrt(N))\n",
    "plt.subplot(1,3,2)\n",
    "plt.title(\"Sqrt, {} bins\".format(nbins))\n",
    "movie_df['Rating'].hist(bins=nbins)\n",
    "\n",
    "# Sturge's formula\n",
    "nbins = int(np.ceil(np.log2(N+1)))\n",
    "plt.subplot(1,3,3)\n",
    "plt.title(\"Sturge's, {} bins\".format(nbins))\n",
    "movie_df['Rating'].hist(bins=nbins)"
   ]
  },
  {
   "cell_type": "markdown",
   "metadata": {},
   "source": [
    "# Boxplot"
   ]
  },
  {
   "cell_type": "markdown",
   "metadata": {},
   "source": [
    "Let's look at the example data that we looked at during the class. "
   ]
  },
  {
   "cell_type": "code",
   "execution_count": 70,
   "metadata": {
    "collapsed": true
   },
   "outputs": [],
   "source": [
    "data = [-1, 3, 3, 4, 15, 16, 16, 17, 23, 24, 24, 25, 35, 36, 37, 46]"
   ]
  },
  {
   "cell_type": "markdown",
   "metadata": {},
   "source": [
    "The [**`numpy.percentile()`**](http://docs.scipy.org/doc/numpy-dev/reference/generated/numpy.percentile.html) function provides a way to calculate the percentiles. Note that using the option `interpolation`, you can specify which value to take when the percentile value lies in between numbers. The default is linear. "
   ]
  },
  {
   "cell_type": "code",
   "execution_count": 72,
   "metadata": {
    "collapsed": false
   },
   "outputs": [
    {
     "name": "stdout",
     "output_type": "stream",
     "text": [
      "12.25\n",
      "20.0 20.0\n",
      "27.5\n"
     ]
    }
   ],
   "source": [
    "print(np.percentile(data, 25))\n",
    "print(np.percentile(data, 50), np.median(data))\n",
    "print(np.percentile(data, 75))"
   ]
  },
  {
   "cell_type": "markdown",
   "metadata": {},
   "source": [
    "Can you explain why do you get those first and third quartile values? The first quantile value is not 4, not 15, and not 9.5. Why?"
   ]
  },
  {
   "cell_type": "markdown",
   "metadata": {},
   "source": [
    "# TODO: explain\n",
    "\n",
    "The explanation resides in the `numpy.percentile()` documentation, specifically in the *Notes* sub-section. \n",
    "\n",
    "`\n",
    "Given a vector V of length N, the q-th percentile of V is the value q/100 of the way from the mimumum to the maximum in in a sorted copy of V. The values and distances of the two nearest neighbors as well as the interpolation parameter will determine the percentile if the normalized ranking does not match the location of q exactly. This function is the same as the median if q=50, the same as the minimum if q=0 and the same as the maximum if q=100.\n",
    "`\n",
    "\n",
    "What this is saying is: `numpy.percentile()` will \"seek\" q/100 of the way through a sorted version of the data array, where q is the requested percentile value. The `interpolation` parameter has the following documentation:\n",
    "\n",
    "\n",
    "`interpolation : {linear, lower, higher, midpoint, nearest}`  \n",
    "This optional parameter specifies the interpolation method to use when the desired quantile lies between two data points i < j:\n",
    "- linear: i + (j - i) * fraction, where fraction is the fractional part of the index surrounded by i and j.\n",
    "- lower: i.\n",
    "- higher: j.\n",
    "- nearest: i or j, whichever is nearest.\n",
    "- midpoint: (i + j) / 2.\n",
    "\n",
    "In the case of the 25th percentile of our data[], the value is calculated as follows:\n",
    "\n",
    "`\n",
    "i = 4\n",
    "j = 15\n",
    "fraction = 0.75\n",
    "`\n",
    "\n",
    "and so the percentile computed by `i + (j - i) * fraction` equals 12.25.\n"
   ]
  },
  {
   "cell_type": "markdown",
   "metadata": {},
   "source": [
    "Let's draw a boxplot with matplotlib. "
   ]
  },
  {
   "cell_type": "code",
   "execution_count": 77,
   "metadata": {
    "collapsed": false
   },
   "outputs": [
    {
     "data": {
      "text/plain": [
       "{'boxes': [<matplotlib.lines.Line2D at 0x11dce1d68>],\n",
       " 'caps': [<matplotlib.lines.Line2D at 0x11dcec860>,\n",
       "  <matplotlib.lines.Line2D at 0x11dcecfd0>],\n",
       " 'fliers': [<matplotlib.lines.Line2D at 0x11dcf0b00>],\n",
       " 'means': [],\n",
       " 'medians': [<matplotlib.lines.Line2D at 0x11dcf02b0>],\n",
       " 'whiskers': [<matplotlib.lines.Line2D at 0x11dce1fd0>,\n",
       "  <matplotlib.lines.Line2D at 0x11dce7fd0>]}"
      ]
     },
     "execution_count": 77,
     "metadata": {},
     "output_type": "execute_result"
    },
    {
     "data": {
      "image/png": "[encoded data removed]",
      "text/plain": [
       "<matplotlib.figure.Figure at 0x11dca47f0>"
      ]
     },
     "metadata": {},
     "output_type": "display_data"
    }
   ],
   "source": [
    "# TODO: draw a boxplot of the data\n",
    "plt.boxplot(data)"
   ]
  },
  {
   "cell_type": "code",
   "execution_count": null,
   "metadata": {
    "collapsed": true
   },
   "outputs": [],
   "source": []
  }
 ],
 "metadata": {
  "anaconda-cloud": {},
  "kernelspec": {
   "display_name": "Python [Root]",
   "language": "python",
   "name": "Python [Root]"
  },
  "language_info": {
   "codemirror_mode": {
    "name": "ipython",
    "version": 3
   },
   "file_extension": ".py",
   "mimetype": "text/x-python",
   "name": "python",
   "nbconvert_exporter": "python",
   "pygments_lexer": "ipython3",
   "version": "3.5.2"
  }
 },
 "nbformat": 4,
 "nbformat_minor": 1
}
