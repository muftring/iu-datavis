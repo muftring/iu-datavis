{
 "cells": [
  {
   "cell_type": "markdown",
   "metadata": {},
   "source": [
    "# Dijkstra's Shortest Path Algorithm\n",
    "\n",
    "References:\n",
    "- https://en.wikipedia.org/wiki/Dijkstra%27s_algorithm\n",
    "- http://www.gilles-bertrand.com/2014/03/disjkstra-algorithm-description-shortest-path-pseudo-code-data-structure-example-image.html\n",
    "- http://www.gilles-bertrand.com/2014/03/dijkstra-algorithm-python-example-source-code-shortest-path.html\n",
    "\n"
   ]
  },
  {
   "cell_type": "code",
   "execution_count": 1,
   "metadata": {
    "collapsed": true
   },
   "outputs": [],
   "source": [
    "import networkx as nx\n",
    "import matplotlib.pyplot as plt\n",
    "\n",
    "%matplotlib inline"
   ]
  },
  {
   "cell_type": "markdown",
   "metadata": {},
   "source": [
    "## Implementation (from Giles Bertrand)"
   ]
  },
  {
   "cell_type": "code",
   "execution_count": 2,
   "metadata": {
    "collapsed": true
   },
   "outputs": [],
   "source": [
    "debug = 0"
   ]
  },
  {
   "cell_type": "code",
   "execution_count": 3,
   "metadata": {
    "collapsed": true
   },
   "outputs": [],
   "source": [
    "def dijkstra(graph, src, dst, visited=[], distances={}, predecessors={}):\n",
    "    \"\"\" calculates a shortest path tree rooted at src\n",
    "    \"\"\"\n",
    "    \n",
    "    #print('dijkstra() src:',src,'dst:',dst)\n",
    "    if src not in graph:\n",
    "        raise TypeError('The root of the shortest path tree cannot be found')\n",
    "    if dst not in graph:\n",
    "        raise TypeError('The target of the shortest path cannot be found')\n",
    "    \n",
    "    # ending condition\n",
    "    if src == dst:\n",
    "        # build the shortest path and display it\n",
    "        path = []\n",
    "        pred = dst\n",
    "        while pred != None:\n",
    "            path.append(pred)\n",
    "            pred = predecessors.get(pred, None)\n",
    "        revd = []\n",
    "        for i in reversed(path):\n",
    "            revd.append(i)\n",
    "        if debug == 1: print('Shortest path:', revd)\n",
    "        if debug == 1: print('cost:', distances[dst])\n",
    "        return {'source': revd[0], 'destination': revd[len(revd)-1], 'path': revd, 'cost': distances[dst]}\n",
    "    else:\n",
    "        # if initial run, init the cost\n",
    "        if not visited:\n",
    "            if debug == 1: print('setting distances[',src,'] = 0')\n",
    "            distances[src] = 0\n",
    "            \n",
    "        # visit the neighbors\n",
    "        for neighbor in graph[src]:\n",
    "            if debug == 1: print('visit neighbor:',neighbor)\n",
    "            if neighbor not in visited:\n",
    "                new_distance = distances[src] + graph[src][neighbor]\n",
    "                if debug == 1: print('distance to',neighbor,'through',src,'(',distances[src],'+',graph[src][neighbor],')','is',new_distance)\n",
    "                if new_distance < distances.get(neighbor, float('inf')):\n",
    "                    if debug == 1: print('setting distances[',neighbor,'] =', new_distance)\n",
    "                    distances[neighbor] = new_distance\n",
    "                    predecessors[neighbor] = src\n",
    "            else:\n",
    "                if debug == 1: print('skip:',neighbor, 'has been visited')\n",
    "        \n",
    "        # mark as visited\n",
    "        if debug == 1: print('marking',src,'as visited')\n",
    "        visited.append(src)\n",
    "            \n",
    "        # now that all neighbors have been visited: recurse\n",
    "        # select the non-visited node with lowest distance 'x'\n",
    "        # run Dijkstra with src='x'\n",
    "        unvisited = {}\n",
    "        for k in graph:\n",
    "            if k not in visited:\n",
    "                unvisited[k] = distances.get(k ,float('inf'))\n",
    "                if debug == 1: print('unvisited[',k,'] =', unvisited[k])\n",
    "        x = min(unvisited, key=unvisited.get)\n",
    "        return dijkstra(graph, x, dst, visited, distances, predecessors)"
   ]
  },
  {
   "cell_type": "markdown",
   "metadata": {},
   "source": [
    "## Example Network"
   ]
  },
  {
   "cell_type": "markdown",
   "metadata": {},
   "source": [
    "![](http://1.bp.blogspot.com/-oFvhMiNhHv8/UyAsz3aYySI/AAAAAAAAE0M/qzIwowiWGiQ/s1600/IMG_0165.JPG)"
   ]
  },
  {
   "cell_type": "code",
   "execution_count": 4,
   "metadata": {
    "collapsed": true
   },
   "outputs": [],
   "source": [
    "graph = {\n",
    "    's': {'a': 2, 'b': 1},\n",
    "    'a': {'s': 3, 'b': 4, 'c': 8},\n",
    "    'b': {'s': 4, 'a': 2, 'd': 2},\n",
    "    'c': {'a': 2, 'd': 7, 't': 4},\n",
    "    'd': {'b': 1, 'c': 11, 't': 5},\n",
    "    't': {'c': 3, 'd': 5}\n",
    "}"
   ]
  },
  {
   "cell_type": "markdown",
   "metadata": {},
   "source": [
    "### Run with example network"
   ]
  },
  {
   "cell_type": "code",
   "execution_count": 5,
   "metadata": {
    "collapsed": true
   },
   "outputs": [],
   "source": [
    "src = 's'\n",
    "dst = 't'"
   ]
  },
  {
   "cell_type": "code",
   "execution_count": 6,
   "metadata": {
    "collapsed": true
   },
   "outputs": [],
   "source": [
    "shortest_path = dijkstra(graph, src, dst)"
   ]
  },
  {
   "cell_type": "code",
   "execution_count": 7,
   "metadata": {},
   "outputs": [
    {
     "data": {
      "text/plain": [
       "{'cost': 8, 'destination': 't', 'path': ['s', 'b', 'd', 't'], 'source': 's'}"
      ]
     },
     "execution_count": 7,
     "metadata": {},
     "output_type": "execute_result"
    }
   ],
   "source": [
    "shortest_path"
   ]
  },
  {
   "cell_type": "markdown",
   "metadata": {
    "collapsed": true
   },
   "source": [
    "## Attempts to visualize the network in Jupyter Notebook"
   ]
  },
  {
   "cell_type": "code",
   "execution_count": 8,
   "metadata": {},
   "outputs": [],
   "source": [
    "G = nx.DiGraph()\n",
    "\n",
    "for src in graph:\n",
    "    G.add_node(src,name=src)\n",
    "    for dst in graph[src]:\n",
    "        weight = graph[src][dst]\n",
    "        #print('adding edge:',src,'->',dst,'=',weight)\n",
    "        G.add_edge(src,dst,weight=weight)"
   ]
  },
  {
   "cell_type": "code",
   "execution_count": 9,
   "metadata": {},
   "outputs": [
    {
     "data": {
      "image/png": "[encoded data removed]",
      "text/plain": [
       "<matplotlib.figure.Figure at 0x9ee4d68>"
      ]
     },
     "metadata": {},
     "output_type": "display_data"
    }
   ],
   "source": [
    "elarge=[(u,v) for (u,v,d) in G.edges(data=True) if d['weight'] >0.5]\n",
    "esmall=[(u,v) for (u,v,d) in G.edges(data=True) if d['weight'] <=0.5]\n",
    "\n",
    "#pos=nx.spring_layout(G) # positions for all nodes\n",
    "pos = nx.circular_layout(G)\n",
    "\n",
    "# nodes\n",
    "nx.draw_networkx_nodes(G,pos,node_size=700)\n",
    "\n",
    "# edges\n",
    "nx.draw_networkx_edges(G,pos,edgelist=elarge,\n",
    "                    width=1)\n",
    "nx.draw_networkx_edges(G,pos,edgelist=esmall,\n",
    "                    width=1,alpha=0.5,edge_color='b',style='dashed')\n",
    "\n",
    "# labels\n",
    "nx.draw_networkx_labels(G,pos,font_size=20,font_family='sans-serif')\n",
    "\n",
    "labels = nx.get_edge_attributes(G,'weight')\n",
    "nx.draw_networkx_edge_labels(G,pos,edge_labels=labels)\n",
    "\n",
    "plt.axis('off')\n",
    "#plt.savefig(\"weighted_graph.png\") # save as png\n",
    "plt.show() # display"
   ]
  },
  {
   "cell_type": "code",
   "execution_count": null,
   "metadata": {
    "collapsed": true
   },
   "outputs": [],
   "source": []
  }
 ],
 "metadata": {
  "kernelspec": {
   "display_name": "Python 3",
   "language": "python",
   "name": "python3"
  },
  "language_info": {
   "codemirror_mode": {
    "name": "ipython",
    "version": 3
   },
   "file_extension": ".py",
   "mimetype": "text/x-python",
   "name": "python",
   "nbconvert_exporter": "python",
   "pygments_lexer": "ipython3",
   "version": "3.6.3"
  }
 },
 "nbformat": 4,
 "nbformat_minor": 2
}
