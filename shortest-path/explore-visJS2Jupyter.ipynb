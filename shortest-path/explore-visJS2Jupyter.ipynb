{
 "cells": [
  {
   "cell_type": "markdown",
   "metadata": {},
   "source": [
    "**References**\n",
    "\n",
    "- http://compbio.ucsd.edu/bringing-interactivity-network-visualization-jupyter-notebooks-visjs2jupyter/\n",
    "- https://github.com/ucsd-ccbb/visJS2jupyter\n",
    "- https://ucsd-ccbb.github.io/visJS2jupyter/\n"
   ]
  },
  {
   "cell_type": "code",
   "execution_count": 1,
   "metadata": {},
   "outputs": [],
   "source": [
    "import networkx as nx\n",
    "import visJS2jupyter.visJS_module as vjs"
   ]
  },
  {
   "cell_type": "code",
   "execution_count": 13,
   "metadata": {
    "collapsed": true
   },
   "outputs": [],
   "source": [
    "G=nx.connected_watts_strogatz_graph(30,5,.2)\n",
    "nodes = G.nodes()\n",
    "edges = G.edges()\n",
    "pos = nx.spring_layout(G)"
   ]
  },
  {
   "cell_type": "code",
   "execution_count": 16,
   "metadata": {},
   "outputs": [],
   "source": [
    "nodes_dict = [{\"id\":n, \"x\":pos[n][0]*1000, \"y\":pos[n][1]*1000} for n in nodes]\n",
    "node_map = dict(zip(nodes,range(len(nodes)))) # map to indices for source/target in edges\n",
    "edges_dict = [{\"source\":node_map[edges[i][0]], \"target\":node_map[edges[i][1]],\"title\":'test'} for i in range(len(edges))]"
   ]
  },
  {
   "cell_type": "code",
   "execution_count": 17,
   "metadata": {},
   "outputs": [
    {
     "data": {
      "text/html": [
       "<!doctype html><html><head>  <title>Network | Basic usage</title></head><body><script type=\"text/javascript\">function setUpFrame() {     var frame = window.frames[\"style_file0\"];    frame.runVis([{\"id\": 0, \"x\": 767.5888051568975, \"y\": 914.9344751230434, \"node_shape\": \"dot\", \"color\": \"#8BA8D3\", \"border_width\": 0, \"title\": 0, \"degree\": 3.0}, {\"id\": 1, \"x\": 955.4742984484376, \"y\": 745.7515700662103, \"node_shape\": \"dot\", \"color\": \"#8BA8D3\", \"border_width\": 0, \"title\": 1, \"degree\": 3.0}, {\"id\": 2, \"x\": 989.1055145953102, \"y\": 649.2175449691618, \"node_shape\": \"dot\", \"color\": \"#8BA8D3\", \"border_width\": 0, \"title\": 2, \"degree\": 3.0}, {\"id\": 3, \"x\": 1000.0, \"y\": 427.2409819040018, \"node_shape\": \"dot\", \"color\": \"#8BA8D3\", \"border_width\": 0, \"title\": 3, \"degree\": 3.0}, {\"id\": 4, \"x\": 891.9242629853323, \"y\": 373.0446951867022, \"node_shape\": \"dot\", \"color\": \"#8BA8D3\", \"border_width\": 0, \"title\": 4, \"degree\": 3.0}, {\"id\": 5, \"x\": 976.4097099560905, \"y\": 542.2712077005707, \"node_shape\": \"dot\", \"color\": \"#8BA8D3\", \"border_width\": 0, \"title\": 5, \"degree\": 3.0}, {\"id\": 6, \"x\": 754.4872397819988, \"y\": 470.9568129299304, \"node_shape\": \"dot\", \"color\": \"#8BA8D3\", \"border_width\": 0, \"title\": 6, \"degree\": 3.0}, {\"id\": 7, \"x\": 809.3853002810482, \"y\": 782.832934786199, \"node_shape\": \"dot\", \"color\": \"#8BA8D3\", \"border_width\": 0, \"title\": 7, \"degree\": 3.0}, {\"id\": 8, \"x\": 616.9795435560886, \"y\": 784.3028506857438, \"node_shape\": \"dot\", \"color\": \"#8BA8D3\", \"border_width\": 0, \"title\": 8, \"degree\": 3.0}, {\"id\": 9, \"x\": 267.28005011710735, \"y\": 754.892441608971, \"node_shape\": \"dot\", \"color\": \"#8BA8D3\", \"border_width\": 0, \"title\": 9, \"degree\": 3.0}, {\"id\": 10, \"x\": 528.5184639406372, \"y\": 991.4448381221547, \"node_shape\": \"dot\", \"color\": \"#8BA8D3\", \"border_width\": 0, \"title\": 10, \"degree\": 3.0}, {\"id\": 11, \"x\": 275.63039673985577, \"y\": 955.7301423150479, \"node_shape\": \"dot\", \"color\": \"#8BA8D3\", \"border_width\": 0, \"title\": 11, \"degree\": 3.0}, {\"id\": 12, \"x\": 201.00729030378503, \"y\": 898.0340745218257, \"node_shape\": \"dot\", \"color\": \"#8BA8D3\", \"border_width\": 0, \"title\": 12, \"degree\": 3.0}, {\"id\": 13, \"x\": 68.10578245364103, \"y\": 771.5951879311463, \"node_shape\": \"dot\", \"color\": \"#8BA8D3\", \"border_width\": 0, \"title\": 13, \"degree\": 3.0}, {\"id\": 14, \"x\": 34.21272638692474, \"y\": 674.210510549134, \"node_shape\": \"dot\", \"color\": \"#8BA8D3\", \"border_width\": 0, \"title\": 14, \"degree\": 3.0}, {\"id\": 15, \"x\": 0.0, \"y\": 453.6060502435438, \"node_shape\": \"dot\", \"color\": \"#8BA8D3\", \"border_width\": 0, \"title\": 15, \"degree\": 3.0}, {\"id\": 16, \"x\": 130.07435129121063, \"y\": 308.83686443304396, \"node_shape\": \"dot\", \"color\": \"#8BA8D3\", \"border_width\": 0, \"title\": 16, \"degree\": 3.0}, {\"id\": 17, \"x\": 146.1763913825576, \"y\": 151.47750046680608, \"node_shape\": \"dot\", \"color\": \"#8BA8D3\", \"border_width\": 0, \"title\": 17, \"degree\": 3.0}, {\"id\": 18, \"x\": 494.52126852724354, \"y\": 302.0841427375432, \"node_shape\": \"dot\", \"color\": \"#8BA8D3\", \"border_width\": 0, \"title\": 18, \"degree\": 3.0}, {\"id\": 19, \"x\": 304.91044341599337, \"y\": 24.668855400372696, \"node_shape\": \"dot\", \"color\": \"#8BA8D3\", \"border_width\": 0, \"title\": 19, \"degree\": 3.0}, {\"id\": 20, \"x\": 378.61259117263614, \"y\": 0.6584241150050756, \"node_shape\": \"dot\", \"color\": \"#8BA8D3\", \"border_width\": 0, \"title\": 20, \"degree\": 3.0}, {\"id\": 21, \"x\": 577.8647282344323, \"y\": 0.0, \"node_shape\": \"dot\", \"color\": \"#8BA8D3\", \"border_width\": 0, \"title\": 21, \"degree\": 3.0}, {\"id\": 22, \"x\": 843.9351303491561, \"y\": 130.35202570260836, \"node_shape\": \"dot\", \"color\": \"#8BA8D3\", \"border_width\": 0, \"title\": 22, \"degree\": 3.0}, {\"id\": 23, \"x\": 705.5177992190397, \"y\": 99.34667841294429, \"node_shape\": \"dot\", \"color\": \"#8BA8D3\", \"border_width\": 0, \"title\": 23, \"degree\": 3.0}, {\"id\": 24, \"x\": 562.3700870910886, \"y\": 150.67475898748538, \"node_shape\": \"dot\", \"color\": \"#8BA8D3\", \"border_width\": 0, \"title\": 24, \"degree\": 3.0}, {\"id\": 25, \"x\": 382.7824388809409, \"y\": 216.40693991877038, \"node_shape\": \"dot\", \"color\": \"#8BA8D3\", \"border_width\": 0, \"title\": 25, \"degree\": 3.0}, {\"id\": 26, \"x\": 339.08593643696383, \"y\": 460.65251845582833, \"node_shape\": \"dot\", \"color\": \"#8BA8D3\", \"border_width\": 0, \"title\": 26, \"degree\": 3.0}, {\"id\": 27, \"x\": 239.86150878303468, \"y\": 583.3883587178746, \"node_shape\": \"dot\", \"color\": \"#8BA8D3\", \"border_width\": 0, \"title\": 27, \"degree\": 3.0}, {\"id\": 28, \"x\": 446.0841116710546, \"y\": 814.8397376430312, \"node_shape\": \"dot\", \"color\": \"#8BA8D3\", \"border_width\": 0, \"title\": 28, \"degree\": 3.0}, {\"id\": 29, \"x\": 447.3746865495475, \"y\": 931.0341452730553, \"node_shape\": \"dot\", \"color\": \"#8BA8D3\", \"border_width\": 0, \"title\": 29, \"degree\": 3.0}], [{\"source\": 0, \"target\": 1, \"title\": \"test\"}, {\"source\": 0, \"target\": 29, \"title\": \"test\"}, {\"source\": 0, \"target\": 2, \"title\": \"test\"}, {\"source\": 0, \"target\": 28, \"title\": \"test\"}, {\"source\": 1, \"target\": 2, \"title\": \"test\"}, {\"source\": 1, \"target\": 3, \"title\": \"test\"}, {\"source\": 2, \"target\": 3, \"title\": \"test\"}, {\"source\": 2, \"target\": 4, \"title\": \"test\"}, {\"source\": 3, \"target\": 4, \"title\": \"test\"}, {\"source\": 3, \"target\": 5, \"title\": \"test\"}, {\"source\": 3, \"target\": 22, \"title\": \"test\"}, {\"source\": 4, \"target\": 5, \"title\": \"test\"}, {\"source\": 4, \"target\": 6, \"title\": \"test\"}, {\"source\": 4, \"target\": 18, \"title\": \"test\"}, {\"source\": 5, \"target\": 6, \"title\": \"test\"}, {\"source\": 5, \"target\": 7, \"title\": \"test\"}, {\"source\": 6, \"target\": 7, \"title\": \"test\"}, {\"source\": 6, \"target\": 8, \"title\": \"test\"}, {\"source\": 6, \"target\": 23, \"title\": \"test\"}, {\"source\": 6, \"target\": 18, \"title\": \"test\"}, {\"source\": 7, \"target\": 8, \"title\": \"test\"}, {\"source\": 7, \"target\": 10, \"title\": \"test\"}, {\"source\": 8, \"target\": 9, \"title\": \"test\"}, {\"source\": 8, \"target\": 10, \"title\": \"test\"}, {\"source\": 9, \"target\": 11, \"title\": \"test\"}, {\"source\": 9, \"target\": 26, \"title\": \"test\"}, {\"source\": 9, \"target\": 14, \"title\": \"test\"}, {\"source\": 10, \"target\": 11, \"title\": \"test\"}, {\"source\": 10, \"target\": 12, \"title\": \"test\"}, {\"source\": 11, \"target\": 12, \"title\": \"test\"}, {\"source\": 11, \"target\": 13, \"title\": \"test\"}, {\"source\": 12, \"target\": 13, \"title\": \"test\"}, {\"source\": 12, \"target\": 14, \"title\": \"test\"}, {\"source\": 12, \"target\": 28, \"title\": \"test\"}, {\"source\": 13, \"target\": 14, \"title\": \"test\"}, {\"source\": 13, \"target\": 15, \"title\": \"test\"}, {\"source\": 14, \"target\": 15, \"title\": \"test\"}, {\"source\": 14, \"target\": 27, \"title\": \"test\"}, {\"source\": 15, \"target\": 16, \"title\": \"test\"}, {\"source\": 15, \"target\": 17, \"title\": \"test\"}, {\"source\": 16, \"target\": 18, \"title\": \"test\"}, {\"source\": 16, \"target\": 26, \"title\": \"test\"}, {\"source\": 17, \"target\": 18, \"title\": \"test\"}, {\"source\": 17, \"target\": 20, \"title\": \"test\"}, {\"source\": 19, \"target\": 20, \"title\": \"test\"}, {\"source\": 19, \"target\": 21, \"title\": \"test\"}, {\"source\": 20, \"target\": 21, \"title\": \"test\"}, {\"source\": 20, \"target\": 25, \"title\": \"test\"}, {\"source\": 21, \"target\": 22, \"title\": \"test\"}, {\"source\": 21, \"target\": 23, \"title\": \"test\"}, {\"source\": 22, \"target\": 24, \"title\": \"test\"}, {\"source\": 23, \"target\": 25, \"title\": \"test\"}, {\"source\": 24, \"target\": 25, \"title\": \"test\"}, {\"source\": 24, \"target\": 26, \"title\": \"test\"}, {\"source\": 25, \"target\": 26, \"title\": \"test\"}, {\"source\": 25, \"target\": 27, \"title\": \"test\"}, {\"source\": 26, \"target\": 27, \"title\": \"test\"}, {\"source\": 26, \"target\": 28, \"title\": \"test\"}, {\"source\": 27, \"target\": 29, \"title\": \"test\"}, {\"source\": 28, \"target\": 29, \"title\": \"test\"}]);}</script><iframe name=\"style_file0\" src=\"style_file0.html\" height=\"1200px\" width=\"100%;\"></iframe></body></html>"
      ],
      "text/plain": [
       "<IPython.core.display.HTML object>"
      ]
     },
     "execution_count": 17,
     "metadata": {},
     "output_type": "execute_result"
    }
   ],
   "source": [
    "vjs.visjs_network(nodes_dict, edges_dict, time_stamp=0)"
   ]
  },
  {
   "cell_type": "code",
   "execution_count": null,
   "metadata": {
    "collapsed": true
   },
   "outputs": [],
   "source": []
  }
 ],
 "metadata": {
  "kernelspec": {
   "display_name": "Python 3",
   "language": "python",
   "name": "python3"
  },
  "language_info": {
   "codemirror_mode": {
    "name": "ipython",
    "version": 3
   },
   "file_extension": ".py",
   "mimetype": "text/x-python",
   "name": "python",
   "nbconvert_exporter": "python",
   "pygments_lexer": "ipython3",
   "version": "3.6.1"
  }
 },
 "nbformat": 4,
 "nbformat_minor": 2
}
