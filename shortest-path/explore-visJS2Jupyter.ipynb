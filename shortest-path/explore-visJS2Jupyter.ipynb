{
 "cells": [
  {
   "cell_type": "markdown",
   "metadata": {},
   "source": [
    "**References**\n",
    "\n",
    "- http://compbio.ucsd.edu/bringing-interactivity-network-visualization-jupyter-notebooks-visjs2jupyter/\n",
    "- https://github.com/ucsd-ccbb/visJS2jupyter\n",
    "- https://ucsd-ccbb.github.io/visJS2jupyter/\n"
   ]
  },
  {
   "cell_type": "code",
   "execution_count": 1,
   "metadata": {},
   "outputs": [],
   "source": [
    "import networkx as nx\n",
    "import visJS2jupyter.visJS_module as vjs"
   ]
  },
  {
   "cell_type": "code",
   "execution_count": 2,
   "metadata": {
    "collapsed": true
   },
   "outputs": [],
   "source": [
    "graph = {\n",
    "    's': {'a': 2, 'b': 1},\n",
    "    'a': {'s': 3, 'b': 4, 'c': 8},\n",
    "    'b': {'s': 4, 'a': 2, 'd': 2},\n",
    "    'c': {'a': 2, 'd': 7, 't': 4},\n",
    "    'd': {'b': 1, 'c': 11, 't': 5},\n",
    "    't': {'c': 3, 'd': 5}\n",
    "}"
   ]
  },
  {
   "cell_type": "code",
   "execution_count": 3,
   "metadata": {},
   "outputs": [],
   "source": [
    "# G=nx.connected_watts_strogatz_graph(30,5,.2)\n",
    "G = nx.DiGraph()\n",
    "\n",
    "for src in graph:\n",
    "    G.add_node(src,name=src)\n",
    "    for dst in graph[src]:\n",
    "        weight = graph[src][dst]\n",
    "        G.add_edge(src,dst,weight=weight)"
   ]
  },
  {
   "cell_type": "code",
   "execution_count": 4,
   "metadata": {
    "collapsed": true
   },
   "outputs": [],
   "source": [
    "nodes = G.nodes()\n",
    "edges = list(G.edges())\n",
    "pos = nx.spring_layout(G)"
   ]
  },
  {
   "cell_type": "code",
   "execution_count": 5,
   "metadata": {},
   "outputs": [],
   "source": [
    "nodes_dict = [{\"id\":n, \"x\":pos[n][0]*1000, \"y\":pos[n][1]*1000} for n in nodes]\n",
    "node_map = dict(zip(nodes,range(len(nodes)))) # map to indices for source/target in edges\n",
    "edges_dict = [{\"source\":node_map[edges[i][0]], \"target\":node_map[edges[i][1]],\"title\":'test'} for i in range(len(edges))]"
   ]
  },
  {
   "cell_type": "code",
   "execution_count": 6,
   "metadata": {},
   "outputs": [
    {
     "data": {
      "text/html": [
       "<!doctype html><html><head>  <title>Network | Basic usage</title></head><body><script type=\"text/javascript\">function setUpFrame() {     var frame = window.frames[\"style_file0\"];    frame.runVis([{\"id\": \"s\", \"x\": -819.7244200573242, \"y\": 999.9999999999999, \"node_shape\": \"dot\", \"color\": \"#8BA8D3\", \"border_width\": 0, \"title\": \"s\", \"degree\": 3.0}, {\"id\": \"a\", \"x\": -289.4016849465555, \"y\": 96.21734847799654, \"node_shape\": \"dot\", \"color\": \"#8BA8D3\", \"border_width\": 0, \"title\": \"a\", \"degree\": 3.0}, {\"id\": \"b\", \"x\": -210.13973950366528, \"y\": 646.2602963096274, \"node_shape\": \"dot\", \"color\": \"#8BA8D3\", \"border_width\": 0, \"title\": \"b\", \"degree\": 3.0}, {\"id\": \"c\", \"x\": 141.29978837312927, \"y\": -576.8638743846192, \"node_shape\": \"dot\", \"color\": \"#8BA8D3\", \"border_width\": 0, \"title\": \"c\", \"degree\": 3.0}, {\"id\": \"d\", \"x\": 460.0932690317884, \"y\": -344.4476922136878, \"node_shape\": \"dot\", \"color\": \"#8BA8D3\", \"border_width\": 0, \"title\": \"d\", \"degree\": 3.0}, {\"id\": \"t\", \"x\": 717.8727871026271, \"y\": -821.1660781893163, \"node_shape\": \"dot\", \"color\": \"#8BA8D3\", \"border_width\": 0, \"title\": \"t\", \"degree\": 3.0}], [{\"source\": 0, \"target\": 1, \"title\": \"test\"}, {\"source\": 0, \"target\": 2, \"title\": \"test\"}, {\"source\": 1, \"target\": 0, \"title\": \"test\"}, {\"source\": 1, \"target\": 2, \"title\": \"test\"}, {\"source\": 1, \"target\": 3, \"title\": \"test\"}, {\"source\": 2, \"target\": 0, \"title\": \"test\"}, {\"source\": 2, \"target\": 1, \"title\": \"test\"}, {\"source\": 2, \"target\": 4, \"title\": \"test\"}, {\"source\": 3, \"target\": 1, \"title\": \"test\"}, {\"source\": 3, \"target\": 4, \"title\": \"test\"}, {\"source\": 3, \"target\": 5, \"title\": \"test\"}, {\"source\": 4, \"target\": 2, \"title\": \"test\"}, {\"source\": 4, \"target\": 3, \"title\": \"test\"}, {\"source\": 4, \"target\": 5, \"title\": \"test\"}, {\"source\": 5, \"target\": 3, \"title\": \"test\"}, {\"source\": 5, \"target\": 4, \"title\": \"test\"}]);}</script><iframe name=\"style_file0\" src=\"style_file0.html\" height=\"1200px\" width=\"100%;\"></iframe></body></html>"
      ],
      "text/plain": [
       "<IPython.core.display.HTML object>"
      ]
     },
     "execution_count": 6,
     "metadata": {},
     "output_type": "execute_result"
    }
   ],
   "source": [
    "vjs.visjs_network(nodes_dict, edges_dict, time_stamp=0)"
   ]
  },
  {
   "cell_type": "code",
   "execution_count": null,
   "metadata": {
    "collapsed": true
   },
   "outputs": [],
   "source": []
  }
 ],
 "metadata": {
  "kernelspec": {
   "display_name": "Python 3",
   "language": "python",
   "name": "python3"
  },
  "language_info": {
   "codemirror_mode": {
    "name": "ipython",
    "version": 3
   },
   "file_extension": ".py",
   "mimetype": "text/x-python",
   "name": "python",
   "nbconvert_exporter": "python",
   "pygments_lexer": "ipython3",
   "version": "3.6.3"
  }
 },
 "nbformat": 4,
 "nbformat_minor": 2
}
