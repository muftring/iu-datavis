{
 "cells": [
  {
   "cell_type": "markdown",
   "metadata": {},
   "source": [
    "# W11 Lab Assignment\n",
    "\n",
    "Maps"
   ]
  },
  {
   "cell_type": "markdown",
   "metadata": {},
   "source": [
    "## Basemap"
   ]
  },
  {
   "cell_type": "markdown",
   "metadata": {},
   "source": [
    "`Basemap` (official documention [here](http://matplotlib.org/basemap/index.html), unofficial documentation [here](http://basemaptutorial.readthedocs.io/en/latest/index.html) ) is a Python package for visualization with maps. To install it, open your terminal and run:\n",
    "\n",
    "`conda install basemap`"
   ]
  },
  {
   "cell_type": "markdown",
   "metadata": {},
   "source": [
    "Windows users may run into some problems with installation. [Here](https://github.com/yy/dviz-course/wiki/Basemap-installation-trouble-shooting) is a troubleshooting document."
   ]
  },
  {
   "cell_type": "code",
   "execution_count": null,
   "metadata": {
    "collapsed": true
   },
   "outputs": [],
   "source": [
    "from mpl_toolkits.basemap import Basemap\n",
    "%matplotlib inline"
   ]
  },
  {
   "cell_type": "markdown",
   "metadata": {},
   "source": [
    "Now we can draw our first map:"
   ]
  },
  {
   "cell_type": "code",
   "execution_count": null,
   "metadata": {
    "collapsed": true
   },
   "outputs": [],
   "source": [
    "map = Basemap()\n",
    "map.drawcoastlines()"
   ]
  },
  {
   "cell_type": "markdown",
   "metadata": {},
   "source": [
    "The default projection is the [Equirectangular projection](https://en.wikipedia.org/wiki/Equirectangular_projection). We can change to another projection:"
   ]
  },
  {
   "cell_type": "code",
   "execution_count": null,
   "metadata": {
    "collapsed": true
   },
   "outputs": [],
   "source": [
    "map = Basemap(projection='ortho', lat_0=0, lon_0=0)\n",
    "map.drawcoastlines()"
   ]
  },
  {
   "cell_type": "markdown",
   "metadata": {},
   "source": [
    "`lat_0` and `lon_0` sets the center of the map. Changing it allows us to see the other parts of the earth."
   ]
  },
  {
   "cell_type": "code",
   "execution_count": null,
   "metadata": {
    "collapsed": true
   },
   "outputs": [],
   "source": [
    "map = Basemap(projection='ortho', lat_0=0, lon_0=90)\n",
    "map.drawcoastlines()"
   ]
  },
  {
   "cell_type": "markdown",
   "metadata": {},
   "source": [
    "Fill the continents and oceans with some colors:"
   ]
  },
  {
   "cell_type": "code",
   "execution_count": null,
   "metadata": {
    "collapsed": true
   },
   "outputs": [],
   "source": [
    "map = Basemap(projection='ortho', lat_0=0, lon_0=0)\n",
    "map.drawmapboundary(fill_color='aqua')\n",
    "map.fillcontinents(color='coral',lake_color='aqua')\n",
    "map.drawcoastlines()"
   ]
  },
  {
   "cell_type": "markdown",
   "metadata": {},
   "source": [
    "Add country lines:"
   ]
  },
  {
   "cell_type": "code",
   "execution_count": null,
   "metadata": {
    "collapsed": true
   },
   "outputs": [],
   "source": [
    "map = Basemap(projection='ortho', lat_0=0, lon_0=0)\n",
    "map.drawmapboundary(fill_color='aqua')\n",
    "map.fillcontinents(color='coral',lake_color='aqua')\n",
    "map.drawcoastlines()\n",
    "map.drawcountries()"
   ]
  },
  {
   "cell_type": "markdown",
   "metadata": {},
   "source": [
    "The map is essentially a matplotlib object, so we can use matplotlib's methods to access it, for example, draw some points on the map."
   ]
  },
  {
   "cell_type": "code",
   "execution_count": null,
   "metadata": {
    "collapsed": true
   },
   "outputs": [],
   "source": [
    "map = Basemap(projection='ortho', lat_0=0, lon_0=-30)\n",
    "map.drawmapboundary(fill_color='aqua')\n",
    "map.fillcontinents(color='coral',lake_color='aqua')\n",
    "map.drawcoastlines()\n",
    "x, y = map(-10, 0) #x=longitude, y=latitude\n",
    "map.plot(x, y, marker='D',color='m')"
   ]
  },
  {
   "cell_type": "markdown",
   "metadata": {},
   "source": [
    "Try with this: put a dot on your favourite city and put its name next to it. You can use the [text](http://basemaptutorial.readthedocs.io/en/latest/plotting_data.html#text) function. (It may be necessary to rotate your map)."
   ]
  },
  {
   "cell_type": "code",
   "execution_count": null,
   "metadata": {
    "collapsed": true
   },
   "outputs": [],
   "source": [
    "#TODO: draw a point for a city on the map."
   ]
  },
  {
   "cell_type": "markdown",
   "metadata": {},
   "source": [
    "It is also possible to only draw a region within a given \"box\" by passing the coordinates of the lower-left corner and upper-right corner."
   ]
  },
  {
   "cell_type": "code",
   "execution_count": null,
   "metadata": {
    "collapsed": true
   },
   "outputs": [],
   "source": [
    "map = Basemap(llcrnrlon=-10.5,llcrnrlat=35,urcrnrlon=4.,urcrnrlat=44.,\n",
    "             resolution='i', projection='tmerc', lat_0 = 39.5, lon_0 = -3.25)\n",
    "\n",
    "map.drawmapboundary(fill_color='aqua')\n",
    "map.fillcontinents(color='coral',lake_color='aqua')\n",
    "map.drawcoastlines()"
   ]
  },
  {
   "cell_type": "code",
   "execution_count": null,
   "metadata": {
    "collapsed": true
   },
   "outputs": [],
   "source": [
    "#TODO: plot the region with the city that you just plotted at the center."
   ]
  },
  {
   "cell_type": "code",
   "execution_count": null,
   "metadata": {
    "collapsed": true
   },
   "outputs": [],
   "source": []
  }
 ],
 "metadata": {
  "anaconda-cloud": {},
  "kernelspec": {
   "display_name": "Python 3",
   "language": "python",
   "name": "python3"
  },
  "language_info": {
   "codemirror_mode": {
    "name": "ipython",
    "version": 3
   },
   "file_extension": ".py",
   "mimetype": "text/x-python",
   "name": "python",
   "nbconvert_exporter": "python",
   "pygments_lexer": "ipython3",
   "version": "3.5.2"
  }
 },
 "nbformat": 4,
 "nbformat_minor": 1
}
