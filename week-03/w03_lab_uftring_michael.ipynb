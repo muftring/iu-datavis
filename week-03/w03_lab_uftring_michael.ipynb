{
 "cells": [
  {
   "cell_type": "markdown",
   "metadata": {},
   "source": [
    "# W3 Lab Assignment\n",
    "\n",
    "Submit the .ipynb file to Canvas with file name `w03_lab_lastname_firstname.ipynb`.\n",
    "\n",
    "In this lab, we will introduce [pandas](http://pandas.pydata.org/), [matplotlib](http://matplotlib.org/), and [seaborn](http://stanford.edu/~mwaskom/software/seaborn/index.html) and continue to use the `imdb.csv` file from the last lab.\n",
    "\n",
    "There will be some exercises, and as usual, write your code in the empty cells to answer them.\n"
   ]
  },
  {
   "cell_type": "markdown",
   "metadata": {},
   "source": [
    "## Importing libraries\n",
    "\n",
    "I think some of you have already used `pandas`. Pandas is a library for high-performance data analysis, and makes  tedious jobs of reading, manipulating, analyzing data super easy and nice. You can even plot directly using `pandas`. If you used R before, you'll see a lot of similarity with the R's dataframe and pandas's dataframe. "
   ]
  },
  {
   "cell_type": "code",
   "execution_count": null,
   "metadata": {
    "collapsed": true
   },
   "outputs": [],
   "source": [
    "import pandas as pd  \n",
    "import numpy as np"
   ]
  },
  {
   "cell_type": "markdown",
   "metadata": {},
   "source": [
    "### Matplotlib magic\n",
    "\n",
    "`Jupyter` notebook provides several [**magic** commands](https://ipython.org/ipython-doc/dev/interactive/tutorial.html#magic-functions). These are the commands that you can use only in the notebook (not in IDLE for instance). One of the greatest magic command is `matplotlib inline`, which displays plots within the notebook instead of creating figure files. "
   ]
  },
  {
   "cell_type": "code",
   "execution_count": null,
   "metadata": {
    "collapsed": true
   },
   "outputs": [],
   "source": [
    "%matplotlib inline "
   ]
  },
  {
   "cell_type": "markdown",
   "metadata": {},
   "source": [
    "There are many ways to import `matplotlib`, but the most common way is:"
   ]
  },
  {
   "cell_type": "code",
   "execution_count": null,
   "metadata": {
    "collapsed": true
   },
   "outputs": [],
   "source": [
    "import matplotlib.pyplot as plt "
   ]
  },
  {
   "cell_type": "markdown",
   "metadata": {},
   "source": [
    "# Q1: Revisting W2 lab"
   ]
  },
  {
   "cell_type": "markdown",
   "metadata": {
    "collapsed": true
   },
   "source": [
    "Let's revisit last week's exercise with `pandas`. It's very easy to read `CSV` files with `pandas`, using the [**`panda.read_csv()`**](http://pandas.pydata.org/pandas-docs/stable/generated/pandas.read_csv.html) function. This function has many many options and it may be worthwhile to take a look at available options. Things that you need to be careful are: \n",
    "\n",
    "1. `delimiter` or `sep`: the data file may use ',', tab, or any weird character to separate fields. You can't read data properly if this option is incorrect. \n",
    "1. `header`: some data files have \"header\" row that contains the names of the columns. If you read it as data or use the first row as the header, you'll have problems. \n",
    "1. `na_values` or `na_filter`: often the dataset is incomplete and contains missing data (`NA`, `NaN` (not a number), etc.). It's very important to take care of them properly. \n",
    "\n",
    "You don't need to create dictionaries and other data structures. `Pandas` just imports the whole table into a data structure called [**`DataFrame`**](http://pandas.pydata.org/pandas-docs/stable/generated/pandas.DataFrame.html). You can do all kinds of interesting manipulation with the `DataFrame`. "
   ]
  },
  {
   "cell_type": "code",
   "execution_count": null,
   "metadata": {
    "collapsed": false
   },
   "outputs": [],
   "source": [
    "df = pd.read_csv('imdb.csv', delimiter='\\t')"
   ]
  },
  {
   "cell_type": "markdown",
   "metadata": {},
   "source": [
    "Let's look at the first few rows to get some sense of the data. "
   ]
  },
  {
   "cell_type": "code",
   "execution_count": null,
   "metadata": {
    "collapsed": false
   },
   "outputs": [],
   "source": [
    "df.head()"
   ]
  },
  {
   "cell_type": "markdown",
   "metadata": {},
   "source": [
    "You can see more, or less lines of course"
   ]
  },
  {
   "cell_type": "code",
   "execution_count": null,
   "metadata": {
    "collapsed": true
   },
   "outputs": [],
   "source": [
    "df.head(2)"
   ]
  },
  {
   "cell_type": "markdown",
   "metadata": {},
   "source": [
    "You can extract one column by using dictionary-like expression"
   ]
  },
  {
   "cell_type": "code",
   "execution_count": null,
   "metadata": {
    "collapsed": false
   },
   "outputs": [],
   "source": [
    "df['Year'].head(3)"
   ]
  },
  {
   "cell_type": "markdown",
   "metadata": {},
   "source": [
    "or select multiple columns"
   ]
  },
  {
   "cell_type": "code",
   "execution_count": null,
   "metadata": {
    "collapsed": false
   },
   "outputs": [],
   "source": [
    "df[['Year','Rating']].head(3)"
   ]
  },
  {
   "cell_type": "markdown",
   "metadata": {},
   "source": [
    "To get the first 10 rows"
   ]
  },
  {
   "cell_type": "code",
   "execution_count": null,
   "metadata": {
    "collapsed": false
   },
   "outputs": [],
   "source": [
    "df[:10]"
   ]
  },
  {
   "cell_type": "markdown",
   "metadata": {},
   "source": [
    "We can also select both rows and columns. For example, to select the first 10 rows of the 'Year' and 'Rating' columns:"
   ]
  },
  {
   "cell_type": "code",
   "execution_count": null,
   "metadata": {
    "collapsed": false
   },
   "outputs": [],
   "source": [
    "df[['Year','Rating']][:10]"
   ]
  },
  {
   "cell_type": "markdown",
   "metadata": {},
   "source": [
    "You can swap the order of rows and columns. \n",
    "\n",
    "But, when you deal with large datasets, You may want to stick to this principle: \n",
    "\n",
    "> Try to reduce the size of the dataset you are handling as soon as possible, and as much as possible. \n",
    "\n",
    "For instance, if you have a billion rows with three columns, getting the small row slice (`df[:10]`) and working with this small slice can be much better than getting the column slice (`df['Year']`) and working with this slice (still contains billion items). "
   ]
  },
  {
   "cell_type": "code",
   "execution_count": null,
   "metadata": {
    "collapsed": false
   },
   "outputs": [],
   "source": [
    "df[:10][['Year','Rating']]"
   ]
  },
  {
   "cell_type": "markdown",
   "metadata": {},
   "source": [
    "It is very easy to answer the question of the number of movies per year. The [**`value_counts()`**](http://pandas.pydata.org/pandas-docs/stable/generated/pandas.Series.value_counts.html) function counts how many times each data value (year) appears. "
   ]
  },
  {
   "cell_type": "code",
   "execution_count": null,
   "metadata": {
    "collapsed": false
   },
   "outputs": [],
   "source": [
    "print( min(df['Year']), df['Year'].min(), max(df['Year']), df['Year'].max() )\n",
    "year_nummovies = df[\"Year\"].value_counts()\n",
    "year_nummovies.head()"
   ]
  },
  {
   "cell_type": "markdown",
   "metadata": {
    "collapsed": true
   },
   "source": [
    "To calculate average ratings and votes"
   ]
  },
  {
   "cell_type": "code",
   "execution_count": null,
   "metadata": {
    "collapsed": false
   },
   "outputs": [],
   "source": [
    "print( np.mean(df['Rating']), np.mean(df['Votes']) )"
   ]
  },
  {
   "cell_type": "markdown",
   "metadata": {},
   "source": [
    "or you can even do "
   ]
  },
  {
   "cell_type": "code",
   "execution_count": null,
   "metadata": {
    "collapsed": true
   },
   "outputs": [],
   "source": [
    "print( df['Rating'].mean() )"
   ]
  },
  {
   "cell_type": "markdown",
   "metadata": {},
   "source": [
    "To get the median ratings of movies in 1990s, we first select only movies in that decade"
   ]
  },
  {
   "cell_type": "code",
   "execution_count": null,
   "metadata": {
    "collapsed": true
   },
   "outputs": [],
   "source": [
    "geq = df['Year'] >= 1990\n",
    "leq = df['Year'] <= 1999\n",
    "movie_nineties = df[geq & leq]"
   ]
  },
  {
   "cell_type": "code",
   "execution_count": null,
   "metadata": {
    "collapsed": false
   },
   "outputs": [],
   "source": [
    "movie_nineties.head()"
   ]
  },
  {
   "cell_type": "markdown",
   "metadata": {},
   "source": [
    "Then, we can do the calculation"
   ]
  },
  {
   "cell_type": "code",
   "execution_count": null,
   "metadata": {
    "collapsed": false
   },
   "outputs": [],
   "source": [
    "print( movie_nineties['Rating'].median(), movie_nineties['Votes'].median() )"
   ]
  },
  {
   "cell_type": "markdown",
   "metadata": {},
   "source": [
    "Finally, if we want to know the top 10 movies in 1990s, we can use the [**`sort()`**](http://pandas.pydata.org/pandas-docs/stable/generated/pandas.DataFrame.sort.html) function:"
   ]
  },
  {
   "cell_type": "code",
   "execution_count": null,
   "metadata": {
    "collapsed": false
   },
   "outputs": [],
   "source": [
    "sorted_by_rating = movie_nineties.sort('Rating', ascending=False)\n",
    "sorted_by_rating[:10]"
   ]
  },
  {
   "cell_type": "markdown",
   "metadata": {},
   "source": [
    "### Exercise\n",
    "\n",
    "Calculate the following basic characteristics of ratings of movies only in 1994: 10th percentile, median, mean, 90th percentile.\n",
    "\n",
    "\n",
    "* http://docs.scipy.org/doc/numpy/reference/generated/numpy.percentile.html\n",
    "* http://pandas.pydata.org/pandas-docs/stable/text.html\n",
    "\n",
    "Write your code in the cell below"
   ]
  },
  {
   "cell_type": "code",
   "execution_count": null,
   "metadata": {
    "collapsed": false
   },
   "outputs": [],
   "source": [
    "# implement here\n"
   ]
  },
  {
   "cell_type": "markdown",
   "metadata": {},
   "source": [
    "# Q2: Basic plotting with pandas\n",
    "\n",
    "`Pandas` provides some easy ways to draw plots by using `matplotlib`. `Dataframe` object has several plotting functions. For instance, "
   ]
  },
  {
   "cell_type": "code",
   "execution_count": null,
   "metadata": {
    "collapsed": false
   },
   "outputs": [],
   "source": [
    "df['Year'].hist()"
   ]
  },
  {
   "cell_type": "markdown",
   "metadata": {},
   "source": [
    "### Exercise\n",
    "\n",
    "Can you plot the histogram of ratings of the movies between 2000 and 2014?"
   ]
  },
  {
   "cell_type": "code",
   "execution_count": null,
   "metadata": {
    "collapsed": true
   },
   "outputs": [],
   "source": [
    "# implement here"
   ]
  },
  {
   "cell_type": "markdown",
   "metadata": {},
   "source": [
    "\n",
    "# Q3: Basic plotting with matplotlib\n",
    "\n",
    "Let's plot the histogram of ratings using the [**`pyplot.hist()`**](http://matplotlib.org/api/pyplot_api.html#matplotlib.pyplot.hist) function."
   ]
  },
  {
   "cell_type": "code",
   "execution_count": null,
   "metadata": {
    "collapsed": false
   },
   "outputs": [],
   "source": [
    "plt.hist(df['Rating'], bins=10)"
   ]
  },
  {
   "cell_type": "markdown",
   "metadata": {},
   "source": [
    "### Exercise\n",
    "\n",
    "Let's try to make some style changes to the plot:\n",
    "\n",
    "* change the color from blue to whatever you want\n",
    "  - http://matplotlib.org/users/pyplot_tutorial.html#working-with-text\n",
    "  - http://matplotlib.org/api/colors_api.html\n",
    "* add labels of x and y axis\n",
    "* change the number of bins to 20"
   ]
  },
  {
   "cell_type": "code",
   "execution_count": null,
   "metadata": {
    "collapsed": true
   },
   "outputs": [],
   "source": [
    "# implement here\n"
   ]
  },
  {
   "cell_type": "markdown",
   "metadata": {},
   "source": [
    "# Q4: Basic plotting with Seaborn\n",
    "\n",
    "Seaborn sits on the top of matplotlib and makes it easier to draw statistical plots. Most plots that you create with Seaborn can be created with matplotlib. It just typically requires a lot more work. \n",
    "\n",
    "Be sure seaborn has been installed on your computer, otherwise run\n",
    "\n",
    "`conda install seaborn`"
   ]
  },
  {
   "cell_type": "code",
   "execution_count": null,
   "metadata": {
    "collapsed": false
   },
   "outputs": [],
   "source": [
    "import seaborn as sns"
   ]
  },
  {
   "cell_type": "markdown",
   "metadata": {
    "collapsed": true
   },
   "source": [
    "Let's do nothing and just run the histgram again"
   ]
  },
  {
   "cell_type": "code",
   "execution_count": null,
   "metadata": {
    "collapsed": false
   },
   "outputs": [],
   "source": [
    "plt.hist(df['Rating'], bins=10)"
   ]
  },
  {
   "cell_type": "markdown",
   "metadata": {},
   "source": [
    "We can use the [**`distplot()`**](http://stanford.edu/~mwaskom/software/seaborn/generated/seaborn.distplot.html) function to plot the histogram."
   ]
  },
  {
   "cell_type": "code",
   "execution_count": null,
   "metadata": {
    "collapsed": false
   },
   "outputs": [],
   "source": [
    "sns.distplot(df['Rating'])"
   ]
  },
  {
   "cell_type": "markdown",
   "metadata": {},
   "source": [
    "### Exercise\n",
    "\n",
    "Read the document about the function and make the following changes: http://stanford.edu/~mwaskom/software/seaborn/generated/seaborn.distplot.html\n",
    "\n",
    "* change the number of bins to 10;\n",
    "* not to show kde;"
   ]
  },
  {
   "cell_type": "code",
   "execution_count": null,
   "metadata": {
    "collapsed": true
   },
   "outputs": [],
   "source": [
    "# implement here\n"
   ]
  }
 ],
 "metadata": {
  "kernelspec": {
   "display_name": "Python 2",
   "language": "python",
   "name": "python2"
  },
  "language_info": {
   "codemirror_mode": {
    "name": "ipython",
    "version": 2
   },
   "file_extension": ".py",
   "mimetype": "text/x-python",
   "name": "python",
   "nbconvert_exporter": "python",
   "pygments_lexer": "ipython2",
   "version": "2.7.10"
  }
 },
 "nbformat": 4,
 "nbformat_minor": 0
}
