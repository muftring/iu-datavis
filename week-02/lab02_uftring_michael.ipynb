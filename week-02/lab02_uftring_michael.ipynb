{
 "cells": [
  {
   "cell_type": "markdown",
   "metadata": {},
   "source": [
    "# W2 Lab Assignment\n",
    "\n",
    "[Internet Movie Database (IMDb)](http://www.imdb.com/) provides various information about movies, such as total budgets, lengths, actors, and user ratings. They are publicly available from [here](http://www.imdb.com/interfaces). In this lab, let's explore a processed dataset named 'imdb.csv', which contains some basic information of movies.\n",
    "\n",
    "Download the file from Canvas. There are 4 columns separated by tab:\n",
    "\n",
    "1. Title: title of the movie;\n",
    "1. Year: release year;\n",
    "1. Rating: average IMDb user rating;\n",
    "1. Votes: number of IMDB users who rated this movie\n",
    "\n",
    "Things to note:\n",
    "\n",
    "1. Let's use Python 3.5;\n",
    "2. There are 313,012 lines in the file. When printing things, print selectively.\n"
   ]
  },
  {
   "cell_type": "markdown",
   "metadata": {},
   "source": [
    "## Q1: What is the first and last year in this dataset? How many movies were released in each year during the whole time period?\n",
    "\n",
    "To do this, we first need to read the CSV file. Python provides the [csv](https://docs.python.org/3.5/library/csv.html) module to read and write CSV files. The [`csv.reader`](https://docs.python.org/3.5/library/csv.html#csv.reader) function returns a Python object which will iterate over lines in the given file. Each line is returned as a list of strings, so that we can access a particular column using list index. If we want to ignore the first line, we can use [`islice`](https://docs.python.org/3.5/library/itertools.html#itertools.islice). It is like slicing a list, but it can slice an iterator (e.g. file stream). For instance, `islice(reader, 0, 5)` means \"give me the first 5 items from the `reader`\". `islice(reader, 1, 5)` means \"give me the 4 items starting from the second item\". \n",
    "\n",
    "A basic usage example to read the first 11 lines of 'imdb.csv':"
   ]
  },
  {
   "cell_type": "code",
   "execution_count": 2,
   "metadata": {},
   "outputs": [
    {
     "name": "stdout",
     "output_type": "stream",
     "text": [
      "['Title', 'Year', 'Rating', 'Votes']\n",
      "Year\n",
      "['!Next?', '1994', '5.4', '5']\n",
      "1994\n",
      "['#1 Single', '2006', '6.1', '61']\n",
      "2006\n",
      "['#7DaysLater', '2013', '7.1', '14']\n",
      "2013\n",
      "['#Bikerlive', '2014', '6.8', '11']\n",
      "2014\n"
     ]
    }
   ],
   "source": [
    "import csv\n",
    "from itertools import islice\n",
    "\n",
    "f = open('imdb.csv', 'r')\n",
    "reader = csv.reader(f, delimiter='\\t')\n",
    "for row in islice(reader, 0, 5):\n",
    "    print(row)\n",
    "    print(row[1])"
   ]
  },
  {
   "cell_type": "markdown",
   "metadata": {},
   "source": [
    "There are many ways to do Q1. One way is to use [dictionaries](https://docs.python.org/2/tutorial/datastructures.html#dictionaries) where the key: value pairs are:\n",
    "\n",
    "- key: year\n",
    "- value: a list of movie titles or number of movies\n"
   ]
  },
  {
   "cell_type": "code",
   "execution_count": 3,
   "metadata": {},
   "outputs": [
    {
     "name": "stdout",
     "output_type": "stream",
     "text": [
      "{1972: 1}\n"
     ]
    }
   ],
   "source": [
    "dt = {}\n",
    "year = 1972\n",
    "if year not in dt:\n",
    "    dt[year] = 1\n",
    "else:\n",
    "    dt[year] += 1\n",
    "print(dt)"
   ]
  },
  {
   "cell_type": "markdown",
   "metadata": {},
   "source": [
    "Python automates the job above by using [`Counter`](https://docs.python.org/3.4/library/collections.html#collections.Counter). "
   ]
  },
  {
   "cell_type": "code",
   "execution_count": 4,
   "metadata": {},
   "outputs": [
    {
     "name": "stdout",
     "output_type": "stream",
     "text": [
      "1\n",
      "0\n"
     ]
    }
   ],
   "source": [
    "from collections import Counter\n",
    "\n",
    "movie_counter = Counter()\n",
    "movie_counter[1972] +=1 \n",
    "print(movie_counter[1972])\n",
    "print(movie_counter[1970])"
   ]
  },
  {
   "cell_type": "markdown",
   "metadata": {},
   "source": [
    "Once all lines are read, we want to print the dictionary, which can be done by iterating its key: value pairs."
   ]
  },
  {
   "cell_type": "code",
   "execution_count": 5,
   "metadata": {},
   "outputs": [
    {
     "name": "stdout",
     "output_type": "stream",
     "text": [
      "1972 1\n",
      "1972 1\n"
     ]
    }
   ],
   "source": [
    "for key,val in dt.items():\n",
    "    print(key,val)\n",
    "for key,val in movie_counter.items():\n",
    "    print(key,val)"
   ]
  },
  {
   "cell_type": "markdown",
   "metadata": {},
   "source": [
    "You can get the keys (the years) by using `.keys()` function. "
   ]
  },
  {
   "cell_type": "code",
   "execution_count": 6,
   "metadata": {},
   "outputs": [
    {
     "data": {
      "text/plain": [
       "dict_keys([1980, 1972, 2015])"
      ]
     },
     "execution_count": 6,
     "metadata": {},
     "output_type": "execute_result"
    }
   ],
   "source": [
    "movie_counter[1980] += 5\n",
    "movie_counter[2015] += 1\n",
    "movie_counter.keys()"
   ]
  },
  {
   "cell_type": "markdown",
   "metadata": {},
   "source": [
    "and you have convenient functions like [`min()`](https://docs.python.org/2/library/functions.html#min) and [`max()`](https://docs.python.org/2/library/functions.html#max) for calculating the min and max value of a list or iterable. "
   ]
  },
  {
   "cell_type": "code",
   "execution_count": 7,
   "metadata": {},
   "outputs": [
    {
     "name": "stdout",
     "output_type": "stream",
     "text": [
      "0\n",
      "1000\n"
     ]
    }
   ],
   "source": [
    "alist = [23,3,5,4,2,1,1,0,1000]\n",
    "print(min(alist))\n",
    "print(max(alist))"
   ]
  },
  {
   "cell_type": "markdown",
   "metadata": {},
   "source": [
    "**Code for Q1**"
   ]
  },
  {
   "cell_type": "code",
   "execution_count": 2,
   "metadata": {},
   "outputs": [
    {
     "name": "stdout",
     "output_type": "stream",
     "text": [
      "The earliest year:  1874\n",
      "The latest year:  2017\n"
     ]
    }
   ],
   "source": [
    "# Q1, Part 1: What is the first and last year in this dataset?\n",
    "import pandas as pd\n",
    "\n",
    "df = pd.read_csv('imdb.csv', sep='\\t')\n",
    "earliest = df.Year.min()\n",
    "latest = df.Year.max()\n",
    "print(\"The earliest year: \", earliest)\n",
    "print(\"The latest year: \", latest)"
   ]
  },
  {
   "cell_type": "code",
   "execution_count": 3,
   "metadata": {},
   "outputs": [
    {
     "name": "stdout",
     "output_type": "stream",
     "text": [
      "Year\tCount\n",
      "----\t-----\n",
      "1874 \t 1\n",
      "1878 \t 1\n",
      "1887 \t 1\n",
      "1888 \t 5\n",
      "1889 \t 2\n",
      "1890 \t 5\n",
      "1891 \t 9\n",
      "1892 \t 9\n",
      "1893 \t 2\n",
      "1894 \t 94\n",
      "1895 \t 116\n",
      "1896 \t 678\n",
      "1897 \t 479\n",
      "1898 \t 321\n",
      "1899 \t 242\n",
      "1900 \t 265\n",
      "1901 \t 254\n",
      "1902 \t 217\n",
      "1903 \t 261\n",
      "1904 \t 214\n",
      "1905 \t 177\n",
      "1906 \t 182\n",
      "1907 \t 197\n",
      "1908 \t 267\n",
      "1909 \t 405\n",
      "1910 \t 389\n",
      "1911 \t 309\n",
      "1912 \t 376\n",
      "1913 \t 311\n",
      "1914 \t 315\n",
      "1915 \t 361\n",
      "1916 \t 328\n",
      "1917 \t 317\n",
      "1918 \t 286\n",
      "1919 \t 313\n",
      "1920 \t 323\n",
      "1921 \t 345\n",
      "1922 \t 328\n",
      "1923 \t 393\n",
      "1924 \t 466\n",
      "1925 \t 508\n",
      "1926 \t 554\n",
      "1927 \t 581\n",
      "1928 \t 609\n",
      "1929 \t 671\n",
      "1930 \t 836\n",
      "1931 \t 939\n",
      "1932 \t 1026\n",
      "1933 \t 1024\n",
      "1934 \t 1120\n",
      "1935 \t 1174\n",
      "1936 \t 1235\n",
      "1937 \t 1245\n",
      "1938 \t 1230\n",
      "1939 \t 1162\n",
      "1940 \t 1160\n",
      "1941 \t 1169\n",
      "1942 \t 1193\n",
      "1943 \t 1105\n",
      "1944 \t 969\n",
      "1945 \t 876\n",
      "1946 \t 952\n",
      "1947 \t 1010\n",
      "1948 \t 1084\n",
      "1949 \t 1208\n",
      "1950 \t 1283\n",
      "1951 \t 1318\n",
      "1952 \t 1316\n",
      "1953 \t 1393\n",
      "1954 \t 1397\n",
      "1955 \t 1476\n",
      "1956 \t 1479\n",
      "1957 \t 1604\n",
      "1958 \t 1533\n",
      "1959 \t 1572\n",
      "1960 \t 1567\n",
      "1961 \t 1623\n",
      "1962 \t 1669\n",
      "1963 \t 1635\n",
      "1964 \t 1823\n",
      "1965 \t 1896\n",
      "1966 \t 2025\n",
      "1967 \t 2086\n",
      "1968 \t 2199\n",
      "1969 \t 2320\n",
      "1970 \t 2240\n",
      "1971 \t 2370\n",
      "1972 \t 2445\n",
      "1973 \t 2325\n",
      "1974 \t 2392\n",
      "1975 \t 2286\n",
      "1976 \t 2399\n",
      "1977 \t 2264\n",
      "1978 \t 2386\n",
      "1979 \t 2526\n",
      "1980 \t 2438\n",
      "1981 \t 2485\n",
      "1982 \t 2537\n",
      "1983 \t 2647\n",
      "1984 \t 2779\n",
      "1985 \t 2908\n",
      "1986 \t 2882\n",
      "1987 \t 3049\n",
      "1988 \t 3054\n",
      "1989 \t 3193\n",
      "1990 \t 3093\n",
      "1991 \t 2993\n",
      "1992 \t 3136\n",
      "1993 \t 3128\n",
      "1994 \t 3415\n",
      "1995 \t 3698\n",
      "1996 \t 3923\n",
      "1997 \t 4353\n",
      "1998 \t 4651\n",
      "1999 \t 5138\n",
      "2000 \t 5575\n",
      "2001 \t 6042\n",
      "2002 \t 6694\n",
      "2003 \t 7355\n",
      "2004 \t 8584\n",
      "2005 \t 9508\n",
      "2006 \t 10115\n",
      "2007 \t 10147\n",
      "2008 \t 11095\n",
      "2009 \t 12268\n",
      "2010 \t 12931\n",
      "2011 \t 13944\n",
      "2012 \t 13887\n",
      "2013 \t 13048\n",
      "2014 \t 10862\n",
      "2015 \t 4402\n",
      "2016 \t 2\n",
      "2017 \t 1\n"
     ]
    }
   ],
   "source": [
    "# Q1, Part 2: How many movies were released in each year during the whole time period?\n",
    "years = df.Year\n",
    "counts = years.groupby(years).size()\n",
    "print(\"Year\\tCount\")\n",
    "print(\"----\\t-----\")\n",
    "for year in counts.index:\n",
    "    print(year,\"\\t\",counts[year])"
   ]
  },
  {
   "cell_type": "markdown",
   "metadata": {},
   "source": [
    "## Q2: What are the average ratings and average votes?\n",
    "\n",
    "We can store the ratings/votes column as a list and then calculate various basic statistics (mean, median, etc.). To do this, we can use the [NumPy](http://www.numpy.org/) library and call the function [`numpy.mean`](http://docs.scipy.org/doc/numpy/reference/generated/numpy.mean.html) and [`numpy.median`](http://docs.scipy.org/doc/numpy/reference/generated/numpy.median.html). For example,"
   ]
  },
  {
   "cell_type": "code",
   "execution_count": 9,
   "metadata": {},
   "outputs": [
    {
     "name": "stdout",
     "output_type": "stream",
     "text": [
      "3.16666666667\n",
      "2.5\n"
     ]
    }
   ],
   "source": [
    "import numpy as np\n",
    "\n",
    "alist = [1,3,6,2,5,2]\n",
    "print(np.mean(alist))\n",
    "print(np.median(alist))"
   ]
  },
  {
   "cell_type": "markdown",
   "metadata": {},
   "source": [
    "**Code for Q2**"
   ]
  },
  {
   "cell_type": "code",
   "execution_count": 4,
   "metadata": {},
   "outputs": [
    {
     "name": "stdout",
     "output_type": "stream",
     "text": [
      "Average Rating:  6.296195341377723\n",
      "Average Votes:  1691.2317746021706\n"
     ]
    }
   ],
   "source": [
    "# Q2: What are the average ratings and average votes?\n",
    "avgRating = df.Rating.mean()\n",
    "avgVotes = df.Votes.mean()\n",
    "print(\"Average Rating: \", avgRating)\n",
    "print(\"Average Votes: \", avgVotes)"
   ]
  },
  {
   "cell_type": "markdown",
   "metadata": {},
   "source": [
    "## Q3: What are the 5 movies that have the highest ratings and highest votes, respectively?\n",
    "\n",
    "Store the movie titles and ratings information as a dictonary:\n",
    "\n",
    "- key: movie title\n",
    "- value: movie rating\n",
    "\n",
    "Then, we can sort the dictionary based on its values, which will return a list of [tuples](https://docs.python.org/2/tutorial/datastructures.html#tuples-and-sequences). Note to print only the top 5 movies."
   ]
  },
  {
   "cell_type": "code",
   "execution_count": 11,
   "metadata": {},
   "outputs": [
    {
     "name": "stdout",
     "output_type": "stream",
     "text": [
      "[(1981, 55), (1980, 50), (1975, 10), (1971, 2), (1962, 1)]\n",
      "1981 55\n",
      "1980 50\n",
      "1975 10\n",
      "1971 2\n",
      "1962 1\n"
     ]
    }
   ],
   "source": [
    "import operator\n",
    "\n",
    "dt = {1971: 2, 1975: 10, 1962: 1, 1980: 50, 1981: 55}\n",
    "sorted_x_by_val = sorted(dt.items(), key=operator.itemgetter(1), reverse=True )\n",
    "print(sorted_x_by_val)\n",
    "for elem in sorted_x_by_val:\n",
    "    print(elem[0],elem[1])"
   ]
  },
  {
   "cell_type": "markdown",
   "metadata": {},
   "source": [
    "**Code for Q3**"
   ]
  },
  {
   "cell_type": "code",
   "execution_count": 6,
   "metadata": {},
   "outputs": [
    {
     "name": "stdout",
     "output_type": "stream",
     "text": [
      "Top 5 movies, by rating\n",
      "                                        Title  Year  Rating  Votes\n",
      "57863   Adolfo Perez Esquivel: Rivers of Hope  2015     9.9      9\n",
      "42123                   The Red Shirt Diaries  2014     9.8      6\n",
      "140553                              High-Rise  2015     9.8      5\n",
      "131241                     Girls Loving Girls  1996     9.8      5\n",
      "24902        Mari White Presents the Newsboys  2011     9.7      6\n"
     ]
    }
   ],
   "source": [
    "# Q3, Part 1: Top 5 movies, by rating\n",
    "top5byRating = df.sort_values(by='Rating',ascending=False).head(5)\n",
    "print(\"Top 5 movies, by rating\")\n",
    "print(top5byRating)"
   ]
  },
  {
   "cell_type": "code",
   "execution_count": 7,
   "metadata": {},
   "outputs": [
    {
     "name": "stdout",
     "output_type": "stream",
     "text": [
      "Top5 movies, by votes\n",
      "                           Title  Year  Rating    Votes\n",
      "279320  The Shawshank Redemption  1994     9.3  1511933\n",
      "264590           The Dark Knight  2008     9.0  1487023\n",
      "149895                 Inception  2010     8.8  1285905\n",
      "122656                Fight Club  1999     8.9  1189053\n",
      "223981              Pulp Fiction  1994     8.9  1177471\n"
     ]
    }
   ],
   "source": [
    "# Q3, Part 2: Top5 movies, by votes\n",
    "top5byVotes = df.sort_values(by='Votes', ascending=False).head(5)\n",
    "print(\"Top5 movies, by votes\")\n",
    "print(top5byVotes)"
   ]
  },
  {
   "cell_type": "markdown",
   "metadata": {},
   "source": [
    "#### Name the .ipynb file with file name 'lab02_lastname_firstname', and upload to Canvas under [w2] lab assingment.\n"
   ]
  }
 ],
 "metadata": {
  "anaconda-cloud": {},
  "kernelspec": {
   "display_name": "Python 3",
   "language": "python",
   "name": "python3"
  },
  "language_info": {
   "codemirror_mode": {
    "name": "ipython",
    "version": 3
   },
   "file_extension": ".py",
   "mimetype": "text/x-python",
   "name": "python",
   "nbconvert_exporter": "python",
   "pygments_lexer": "ipython3",
   "version": "3.6.1"
  }
 },
 "nbformat": 4,
 "nbformat_minor": 1
}
