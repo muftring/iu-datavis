{
 "cells": [
  {
   "cell_type": "markdown",
   "metadata": {},
   "source": [
    "# Testing Jupyter\n",
    "This is a test notebook, there's not much here. This is a **Markdown** cell\n",
    "\n",
    "## Introduction\n",
    "What should we say?\n",
    "\n",
    "## Some Notes and Comments\n",
    "In a cell, `!command` will run command in a Bash shell\n",
    "\n",
    "Magic commands begin with % or %%\n",
    "% = line magic (command's arguments all come from the same line)\n",
    "%% = cell magic (entire cell is used as arguments)\n",
    "\n",
    "use `%matplotlib inline` to get Matplotlib plots to work\n",
    "\n",
    "use `%%html` to render HTML (entire cell will be rendered as HTML)\n",
    "\n",
    "\n",
    "## Conclusion\n",
    "That's all folks!"
   ]
  },
  {
   "cell_type": "code",
   "execution_count": 9,
   "metadata": {
    "collapsed": false,
    "scrolled": true
   },
   "outputs": [
    {
     "data": {
      "text/plain": [
       "'hello, world!'"
      ]
     },
     "execution_count": 9,
     "metadata": {},
     "output_type": "execute_result"
    }
   ],
   "source": [
    "\"hello, world!\""
   ]
  },
  {
   "cell_type": "code",
   "execution_count": 11,
   "metadata": {
    "collapsed": true
   },
   "outputs": [],
   "source": [
    "name = \"Michael\""
   ]
  },
  {
   "cell_type": "code",
   "execution_count": 12,
   "metadata": {
    "collapsed": false
   },
   "outputs": [
    {
     "data": {
      "text/plain": [
       "'Michael'"
      ]
     },
     "execution_count": 12,
     "metadata": {},
     "output_type": "execute_result"
    }
   ],
   "source": [
    "name"
   ]
  },
  {
   "cell_type": "code",
   "execution_count": 13,
   "metadata": {
    "collapsed": false
   },
   "outputs": [
    {
     "name": "stdout",
     "output_type": "stream",
     "text": [
      "\u001b[31mDEPRECATION: The default format will switch to columns in the future. You can use --format=(legacy|columns) (or define a format=(legacy|columns) in your pip.conf under the [list] section) to disable this warning.\u001b[0m\r\n",
      "alabaster (0.7.9)\r\n",
      "anaconda-client (1.6.0)\r\n",
      "anaconda-navigator (1.5)\r\n",
      "anaconda-project (0.4.1)\r\n",
      "appnope (0.1.0)\r\n",
      "appscript (1.0.1)\r\n",
      "argcomplete (1.0.0)\r\n",
      "astroid (1.4.9)\r\n",
      "astropy (1.3)\r\n",
      "Babel (2.3.4)\r\n",
      "backports.shutil-get-terminal-size (1.0.0)\r\n",
      "beautifulsoup4 (4.5.3)\r\n",
      "bitarray (0.8.1)\r\n",
      "blaze (0.10.1)\r\n",
      "bokeh (0.12.4)\r\n",
      "boto (2.45.0)\r\n",
      "Bottleneck (1.2.0)\r\n",
      "cffi (1.9.1)\r\n",
      "chardet (2.3.0)\r\n",
      "chest (0.2.3)\r\n",
      "click (6.7)\r\n",
      "cloudpickle (0.2.2)\r\n",
      "clyent (1.2.2)\r\n",
      "colorama (0.3.7)\r\n",
      "conda (4.3.17)\r\n",
      "conda-build (1.21.3)\r\n",
      "configobj (5.0.6)\r\n",
      "contextlib2 (0.5.4)\r\n",
      "cryptography (1.7.1)\r\n",
      "cycler (0.10.0)\r\n",
      "Cython (0.25.2)\r\n",
      "cytoolz (0.8.2)\r\n",
      "dask (0.13.0)\r\n",
      "datashape (0.5.4)\r\n",
      "decorator (4.0.11)\r\n",
      "dill (0.2.5)\r\n",
      "docutils (0.13.1)\r\n",
      "dynd (0.7.3.dev1)\r\n",
      "et-xmlfile (1.0.1)\r\n",
      "fastcache (1.0.2)\r\n",
      "Flask (0.12)\r\n",
      "Flask-Cors (3.0.2)\r\n",
      "gevent (1.2.1)\r\n",
      "greenlet (0.4.11)\r\n",
      "h5py (2.6.0)\r\n",
      "HeapDict (1.0.0)\r\n",
      "idna (2.2)\r\n",
      "imagesize (0.7.1)\r\n",
      "ipykernel (4.5.2)\r\n",
      "ipython (5.1.0)\r\n",
      "ipython-genutils (0.1.0)\r\n",
      "ipywidgets (5.2.2)\r\n",
      "isort (4.2.5)\r\n",
      "itsdangerous (0.24)\r\n",
      "jdcal (1.3)\r\n",
      "jedi (0.9.0)\r\n",
      "Jinja2 (2.9.4)\r\n",
      "jsonschema (2.5.1)\r\n",
      "jupyter (1.0.0)\r\n",
      "jupyter-client (4.4.0)\r\n",
      "jupyter-console (5.0.0)\r\n",
      "jupyter-core (4.2.1)\r\n",
      "lazy-object-proxy (1.2.2)\r\n",
      "llvmlite (0.15.0)\r\n",
      "locket (0.2.0)\r\n",
      "lxml (3.7.2)\r\n",
      "MarkupSafe (0.23)\r\n",
      "matplotlib (2.0.0)\r\n",
      "mistune (0.7.3)\r\n",
      "mpmath (0.19)\r\n",
      "multipledispatch (0.4.9)\r\n",
      "nb-anacondacloud (1.1.0)\r\n",
      "nb-conda (1.1.0)\r\n",
      "nb-conda-kernels (1.0.3)\r\n",
      "nbconvert (4.2.0)\r\n",
      "nbformat (4.2.0)\r\n",
      "nbpresent (3.0.2)\r\n",
      "networkx (1.11)\r\n",
      "nltk (3.2.2)\r\n",
      "nose (1.3.7)\r\n",
      "notebook (4.3.1)\r\n",
      "numba (0.30.1)\r\n",
      "numexpr (2.6.1)\r\n",
      "numpy (1.13.1)\r\n",
      "numpydoc (0.6.0)\r\n",
      "odo (0.5.0)\r\n",
      "openpyxl (2.4.1)\r\n",
      "pandas (0.20.3)\r\n",
      "pandasql (0.7.3)\r\n",
      "partd (0.3.7)\r\n",
      "pathlib2 (2.2.0)\r\n",
      "patsy (0.4.1)\r\n",
      "pep8 (1.7.0)\r\n",
      "pexpect (4.2.1)\r\n",
      "pickleshare (0.7.4)\r\n",
      "Pillow (4.0.0)\r\n",
      "pip (9.0.1)\r\n",
      "ply (3.9)\r\n",
      "prompt-toolkit (1.0.9)\r\n",
      "psutil (5.0.1)\r\n",
      "ptyprocess (0.5.1)\r\n",
      "py (1.4.32)\r\n",
      "pyasn1 (0.1.9)\r\n",
      "pycosat (0.6.1)\r\n",
      "pycparser (2.17)\r\n",
      "pycrypto (2.6.1)\r\n",
      "pycurl (7.43.0)\r\n",
      "pyflakes (1.5.0)\r\n",
      "Pygments (2.1.3)\r\n",
      "pylint (1.6.4)\r\n",
      "pyOpenSSL (16.2.0)\r\n",
      "pyparsing (2.1.4)\r\n",
      "pytest (3.0.5)\r\n",
      "python-dateutil (2.6.1)\r\n",
      "pytz (2017.2)\r\n",
      "PyYAML (3.12)\r\n",
      "pyzmq (16.0.2)\r\n",
      "QtAwesome (0.4.3)\r\n",
      "qtconsole (4.2.1)\r\n",
      "QtPy (1.2.1)\r\n",
      "redis (2.10.5)\r\n",
      "requests (2.12.4)\r\n",
      "rope-py3k (0.9.4.post1)\r\n",
      "scikit-image (0.12.3)\r\n",
      "scikit-learn (0.18.1)\r\n",
      "scipy (0.18.1)\r\n",
      "seaborn (0.7.1)\r\n",
      "setuptools (27.2.0)\r\n",
      "simplegeneric (0.8.1)\r\n",
      "singledispatch (3.4.0.3)\r\n",
      "six (1.10.0)\r\n",
      "snowballstemmer (1.2.1)\r\n",
      "sockjs-tornado (1.0.3)\r\n",
      "Sphinx (1.5.1)\r\n",
      "sphinx-rtd-theme (0.1.9)\r\n",
      "spyder (3.1.2)\r\n",
      "SQLAlchemy (1.1.11)\r\n",
      "statsmodels (0.6.1)\r\n",
      "sympy (1.0)\r\n",
      "tables (3.3.0)\r\n",
      "terminado (0.6)\r\n",
      "toolz (0.8.2)\r\n",
      "tornado (4.4.2)\r\n",
      "traitlets (4.3.1)\r\n",
      "unicodecsv (0.14.1)\r\n",
      "wcwidth (0.1.7)\r\n",
      "Werkzeug (0.11.15)\r\n",
      "wheel (0.29.0)\r\n",
      "widgetsnbextension (1.2.6)\r\n",
      "wrapt (1.10.8)\r\n",
      "xlrd (1.0.0)\r\n",
      "XlsxWriter (0.9.6)\r\n",
      "xlwings (0.10.2)\r\n",
      "xlwt (1.2.0)\r\n"
     ]
    }
   ],
   "source": [
    "!pip list"
   ]
  },
  {
   "cell_type": "code",
   "execution_count": 14,
   "metadata": {
    "collapsed": false
   },
   "outputs": [
    {
     "data": {
      "application/json": {
       "cell": {
        "!": "OSMagics",
        "HTML": "Other",
        "SVG": "Other",
        "bash": "Other",
        "capture": "ExecutionMagics",
        "debug": "ExecutionMagics",
        "file": "Other",
        "html": "DisplayMagics",
        "javascript": "DisplayMagics",
        "js": "DisplayMagics",
        "latex": "DisplayMagics",
        "perl": "Other",
        "prun": "ExecutionMagics",
        "pypy": "Other",
        "python": "Other",
        "python2": "Other",
        "python3": "Other",
        "ruby": "Other",
        "script": "ScriptMagics",
        "sh": "Other",
        "svg": "DisplayMagics",
        "sx": "OSMagics",
        "system": "OSMagics",
        "time": "ExecutionMagics",
        "timeit": "ExecutionMagics",
        "writefile": "OSMagics"
       },
       "line": {
        "alias": "OSMagics",
        "alias_magic": "BasicMagics",
        "autocall": "AutoMagics",
        "automagic": "AutoMagics",
        "autosave": "KernelMagics",
        "bookmark": "OSMagics",
        "cat": "Other",
        "cd": "OSMagics",
        "clear": "KernelMagics",
        "colors": "BasicMagics",
        "config": "ConfigMagics",
        "connect_info": "KernelMagics",
        "cp": "Other",
        "debug": "ExecutionMagics",
        "dhist": "OSMagics",
        "dirs": "OSMagics",
        "doctest_mode": "BasicMagics",
        "ed": "Other",
        "edit": "KernelMagics",
        "env": "OSMagics",
        "gui": "BasicMagics",
        "hist": "Other",
        "history": "HistoryMagics",
        "killbgscripts": "ScriptMagics",
        "ldir": "Other",
        "less": "KernelMagics",
        "lf": "Other",
        "lk": "Other",
        "ll": "Other",
        "load": "CodeMagics",
        "load_ext": "ExtensionMagics",
        "loadpy": "CodeMagics",
        "logoff": "LoggingMagics",
        "logon": "LoggingMagics",
        "logstart": "LoggingMagics",
        "logstate": "LoggingMagics",
        "logstop": "LoggingMagics",
        "ls": "Other",
        "lsmagic": "BasicMagics",
        "lx": "Other",
        "macro": "ExecutionMagics",
        "magic": "BasicMagics",
        "man": "KernelMagics",
        "matplotlib": "PylabMagics",
        "mkdir": "Other",
        "more": "KernelMagics",
        "mv": "Other",
        "notebook": "BasicMagics",
        "page": "BasicMagics",
        "pastebin": "CodeMagics",
        "pdb": "ExecutionMagics",
        "pdef": "NamespaceMagics",
        "pdoc": "NamespaceMagics",
        "pfile": "NamespaceMagics",
        "pinfo": "NamespaceMagics",
        "pinfo2": "NamespaceMagics",
        "popd": "OSMagics",
        "pprint": "BasicMagics",
        "precision": "BasicMagics",
        "profile": "BasicMagics",
        "prun": "ExecutionMagics",
        "psearch": "NamespaceMagics",
        "psource": "NamespaceMagics",
        "pushd": "OSMagics",
        "pwd": "OSMagics",
        "pycat": "OSMagics",
        "pylab": "PylabMagics",
        "qtconsole": "KernelMagics",
        "quickref": "BasicMagics",
        "recall": "HistoryMagics",
        "rehashx": "OSMagics",
        "reload_ext": "ExtensionMagics",
        "rep": "Other",
        "rerun": "HistoryMagics",
        "reset": "NamespaceMagics",
        "reset_selective": "NamespaceMagics",
        "rm": "Other",
        "rmdir": "Other",
        "run": "ExecutionMagics",
        "save": "CodeMagics",
        "sc": "OSMagics",
        "set_env": "OSMagics",
        "store": "StoreMagics",
        "sx": "OSMagics",
        "system": "OSMagics",
        "tb": "ExecutionMagics",
        "time": "ExecutionMagics",
        "timeit": "ExecutionMagics",
        "unalias": "OSMagics",
        "unload_ext": "ExtensionMagics",
        "who": "NamespaceMagics",
        "who_ls": "NamespaceMagics",
        "whos": "NamespaceMagics",
        "xdel": "NamespaceMagics",
        "xmode": "BasicMagics"
       }
      },
      "text/plain": [
       "Available line magics:\n",
       "%alias  %alias_magic  %autocall  %automagic  %autosave  %bookmark  %cat  %cd  %clear  %colors  %config  %connect_info  %cp  %debug  %dhist  %dirs  %doctest_mode  %ed  %edit  %env  %gui  %hist  %history  %killbgscripts  %ldir  %less  %lf  %lk  %ll  %load  %load_ext  %loadpy  %logoff  %logon  %logstart  %logstate  %logstop  %ls  %lsmagic  %lx  %macro  %magic  %man  %matplotlib  %mkdir  %more  %mv  %notebook  %page  %pastebin  %pdb  %pdef  %pdoc  %pfile  %pinfo  %pinfo2  %popd  %pprint  %precision  %profile  %prun  %psearch  %psource  %pushd  %pwd  %pycat  %pylab  %qtconsole  %quickref  %recall  %rehashx  %reload_ext  %rep  %rerun  %reset  %reset_selective  %rm  %rmdir  %run  %save  %sc  %set_env  %store  %sx  %system  %tb  %time  %timeit  %unalias  %unload_ext  %who  %who_ls  %whos  %xdel  %xmode\n",
       "\n",
       "Available cell magics:\n",
       "%%!  %%HTML  %%SVG  %%bash  %%capture  %%debug  %%file  %%html  %%javascript  %%js  %%latex  %%perl  %%prun  %%pypy  %%python  %%python2  %%python3  %%ruby  %%script  %%sh  %%svg  %%sx  %%system  %%time  %%timeit  %%writefile\n",
       "\n",
       "Automagic is ON, % prefix IS NOT needed for line magics."
      ]
     },
     "execution_count": 14,
     "metadata": {},
     "output_type": "execute_result"
    }
   ],
   "source": [
    "%lsmagic"
   ]
  },
  {
   "cell_type": "code",
   "execution_count": 15,
   "metadata": {
    "collapsed": false
   },
   "outputs": [
    {
     "data": {
      "text/plain": [
       "'/Users/uftringfamily/git/iu-datavis'"
      ]
     },
     "execution_count": 15,
     "metadata": {},
     "output_type": "execute_result"
    }
   ],
   "source": [
    "%pwd"
   ]
  },
  {
   "cell_type": "code",
   "execution_count": 17,
   "metadata": {
    "collapsed": false
   },
   "outputs": [
    {
     "name": "stdout",
     "output_type": "stream",
     "text": [
      "README.md              testing-jupyter.ipynb\r\n"
     ]
    }
   ],
   "source": [
    "%ls"
   ]
  },
  {
   "cell_type": "code",
   "execution_count": 18,
   "metadata": {
    "collapsed": false
   },
   "outputs": [
    {
     "name": "stdout",
     "output_type": "stream",
     "text": [
      "total 40\r\n",
      "drwxr-xr-x   6 uftringfamily  staff    204 Aug 24 15:21 \u001b[34m.\u001b[m\u001b[m/\r\n",
      "drwxr-xr-x  14 uftringfamily  staff    476 Aug 23 14:02 \u001b[34m..\u001b[m\u001b[m/\r\n",
      "drwxr-xr-x  13 uftringfamily  staff    442 Aug 23 14:02 \u001b[34m.git\u001b[m\u001b[m/\r\n",
      "drwxr-xr-x   3 uftringfamily  staff    102 Aug 24 15:12 \u001b[34m.ipynb_checkpoints\u001b[m\u001b[m/\r\n",
      "-rw-r--r--   1 uftringfamily  staff     13 Aug 23 14:02 README.md\r\n",
      "-rw-r--r--   1 uftringfamily  staff  12705 Aug 24 15:21 testing-jupyter.ipynb\r\n"
     ]
    }
   ],
   "source": [
    "%ls -la"
   ]
  },
  {
   "cell_type": "code",
   "execution_count": 19,
   "metadata": {
    "collapsed": true
   },
   "outputs": [],
   "source": [
    "%matplotlib inline"
   ]
  },
  {
   "cell_type": "code",
   "execution_count": 22,
   "metadata": {
    "collapsed": false
   },
   "outputs": [
    {
     "data": {
      "image/png": "[encoded data removed]",
      "text/plain": [
       "<matplotlib.figure.Figure at 0x109b51e10>"
      ]
     },
     "metadata": {},
     "output_type": "display_data"
    }
   ],
   "source": [
    "\"\"\"\n",
    "Simple demo of scatter plot\n",
    "\"\"\"\n",
    "\n",
    "import numpy as np\n",
    "import matplotlib.pyplot as plt\n",
    "\n",
    "N = 50\n",
    "x = np.random.rand(N)\n",
    "y = np.random.rand(N)\n",
    "colors = np.random.rand(N)\n",
    "area = np.pi * (15 * np.random.rand(N))**2 # 0 to 15 point radiuses\n",
    "\n",
    "plt.scatter(x, y, s=area, c=colors, alpha=0.5)\n",
    "plt.show()"
   ]
  },
  {
   "cell_type": "code",
   "execution_count": 23,
   "metadata": {
    "collapsed": false
   },
   "outputs": [
    {
     "data": {
      "text/html": [
       "<iframe width=\"560\" height=\"315\" src=\"https://www.youtube.com/embed/YJC6ldI3hWk\" frameborder=\"0\" allowfullscreen></iframe>"
      ],
      "text/plain": [
       "<IPython.core.display.HTML object>"
      ]
     },
     "metadata": {},
     "output_type": "display_data"
    }
   ],
   "source": [
    "%%HTML \n",
    "<iframe width=\"560\" height=\"315\" src=\"https://www.youtube.com/embed/YJC6ldI3hWk\" frameborder=\"0\" allowfullscreen></iframe>"
   ]
  },
  {
   "cell_type": "code",
   "execution_count": 29,
   "metadata": {
    "collapsed": false
   },
   "outputs": [
    {
     "name": "stdout",
     "output_type": "stream",
     "text": [
      "10000 loops, best of 3: 118 µs per loop\n"
     ]
    }
   ],
   "source": [
    "%%timeit\n",
    "import pandas as pd\n",
    "import numpy as np\n",
    "\n",
    "df = pd.DataFrame(np.random.randn(10, 5))\n",
    "df"
   ]
  },
  {
   "cell_type": "code",
   "execution_count": 30,
   "metadata": {
    "collapsed": false
   },
   "outputs": [
    {
     "data": {
      "text/html": [
       "<div>\n",
       "<style>\n",
       "    .dataframe thead tr:only-child th {\n",
       "        text-align: right;\n",
       "    }\n",
       "\n",
       "    .dataframe thead th {\n",
       "        text-align: left;\n",
       "    }\n",
       "\n",
       "    .dataframe tbody tr th {\n",
       "        vertical-align: top;\n",
       "    }\n",
       "</style>\n",
       "<table border=\"1\" class=\"dataframe\">\n",
       "  <thead>\n",
       "    <tr style=\"text-align: right;\">\n",
       "      <th></th>\n",
       "      <th>0</th>\n",
       "      <th>1</th>\n",
       "      <th>2</th>\n",
       "      <th>3</th>\n",
       "      <th>4</th>\n",
       "    </tr>\n",
       "  </thead>\n",
       "  <tbody>\n",
       "    <tr>\n",
       "      <th>0</th>\n",
       "      <td>0.753147</td>\n",
       "      <td>-0.874885</td>\n",
       "      <td>-0.579881</td>\n",
       "      <td>0.037342</td>\n",
       "      <td>1.344643</td>\n",
       "    </tr>\n",
       "    <tr>\n",
       "      <th>1</th>\n",
       "      <td>1.128912</td>\n",
       "      <td>-0.346776</td>\n",
       "      <td>-2.216378</td>\n",
       "      <td>-0.053350</td>\n",
       "      <td>-1.130625</td>\n",
       "    </tr>\n",
       "    <tr>\n",
       "      <th>2</th>\n",
       "      <td>0.339070</td>\n",
       "      <td>-1.267656</td>\n",
       "      <td>-0.602485</td>\n",
       "      <td>-0.342572</td>\n",
       "      <td>0.728347</td>\n",
       "    </tr>\n",
       "    <tr>\n",
       "      <th>3</th>\n",
       "      <td>0.805555</td>\n",
       "      <td>-2.413551</td>\n",
       "      <td>1.596593</td>\n",
       "      <td>-0.977549</td>\n",
       "      <td>1.980243</td>\n",
       "    </tr>\n",
       "    <tr>\n",
       "      <th>4</th>\n",
       "      <td>0.623506</td>\n",
       "      <td>-2.523044</td>\n",
       "      <td>-1.183645</td>\n",
       "      <td>0.097325</td>\n",
       "      <td>-0.741895</td>\n",
       "    </tr>\n",
       "    <tr>\n",
       "      <th>5</th>\n",
       "      <td>-0.349942</td>\n",
       "      <td>-1.073161</td>\n",
       "      <td>-1.750881</td>\n",
       "      <td>1.841977</td>\n",
       "      <td>-0.785239</td>\n",
       "    </tr>\n",
       "    <tr>\n",
       "      <th>6</th>\n",
       "      <td>0.196043</td>\n",
       "      <td>0.310179</td>\n",
       "      <td>1.275800</td>\n",
       "      <td>0.283194</td>\n",
       "      <td>-0.318011</td>\n",
       "    </tr>\n",
       "    <tr>\n",
       "      <th>7</th>\n",
       "      <td>-0.046695</td>\n",
       "      <td>0.752768</td>\n",
       "      <td>0.022859</td>\n",
       "      <td>-0.268022</td>\n",
       "      <td>-1.116945</td>\n",
       "    </tr>\n",
       "    <tr>\n",
       "      <th>8</th>\n",
       "      <td>-0.986349</td>\n",
       "      <td>-0.689621</td>\n",
       "      <td>-0.105290</td>\n",
       "      <td>0.083586</td>\n",
       "      <td>0.008291</td>\n",
       "    </tr>\n",
       "    <tr>\n",
       "      <th>9</th>\n",
       "      <td>0.354525</td>\n",
       "      <td>0.534052</td>\n",
       "      <td>1.418595</td>\n",
       "      <td>-0.214001</td>\n",
       "      <td>-1.995222</td>\n",
       "    </tr>\n",
       "  </tbody>\n",
       "</table>\n",
       "</div>"
      ],
      "text/plain": [
       "          0         1         2         3         4\n",
       "0  0.753147 -0.874885 -0.579881  0.037342  1.344643\n",
       "1  1.128912 -0.346776 -2.216378 -0.053350 -1.130625\n",
       "2  0.339070 -1.267656 -0.602485 -0.342572  0.728347\n",
       "3  0.805555 -2.413551  1.596593 -0.977549  1.980243\n",
       "4  0.623506 -2.523044 -1.183645  0.097325 -0.741895\n",
       "5 -0.349942 -1.073161 -1.750881  1.841977 -0.785239\n",
       "6  0.196043  0.310179  1.275800  0.283194 -0.318011\n",
       "7 -0.046695  0.752768  0.022859 -0.268022 -1.116945\n",
       "8 -0.986349 -0.689621 -0.105290  0.083586  0.008291\n",
       "9  0.354525  0.534052  1.418595 -0.214001 -1.995222"
      ]
     },
     "execution_count": 30,
     "metadata": {},
     "output_type": "execute_result"
    }
   ],
   "source": [
    "df"
   ]
  },
  {
   "cell_type": "code",
   "execution_count": null,
   "metadata": {
    "collapsed": true
   },
   "outputs": [],
   "source": []
  }
 ],
 "metadata": {
  "kernelspec": {
   "display_name": "Python [Root]",
   "language": "python",
   "name": "Python [Root]"
  },
  "language_info": {
   "codemirror_mode": {
    "name": "ipython",
    "version": 3
   },
   "file_extension": ".py",
   "mimetype": "text/x-python",
   "name": "python",
   "nbconvert_exporter": "python",
   "pygments_lexer": "ipython3",
   "version": "3.5.2"
  }
 },
 "nbformat": 4,
 "nbformat_minor": 2
}
